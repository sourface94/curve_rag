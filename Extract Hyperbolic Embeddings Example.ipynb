{
 "cells": [
  {
   "cell_type": "code",
   "execution_count": 14,
   "id": "cd32c0c6-41df-4a24-99db-4c84f2372807",
   "metadata": {},
   "outputs": [
    {
     "name": "stdout",
     "output_type": "stream",
     "text": [
      "The autoreload extension is already loaded. To reload it, use:\n",
      "  %reload_ext autoreload\n"
     ]
    }
   ],
   "source": [
    "%load_ext autoreload\n",
    "%autoreload 2"
   ]
  },
  {
   "cell_type": "code",
   "execution_count": 27,
   "id": "24553852-53db-4cff-96b0-4c3318d8f84b",
   "metadata": {},
   "outputs": [],
   "source": [
    "import os\n",
    "\n",
    "import numpy as np\n",
    "\n",
    "from curverag.atth.kg_dataset import KGDataset"
   ]
  },
  {
   "cell_type": "markdown",
   "id": "d0e762e9-6d19-431e-8416-6fcc27571484",
   "metadata": {},
   "source": [
    "Load Dataset"
   ]
  },
  {
   "cell_type": "code",
   "execution_count": 17,
   "id": "640480cf-4d2b-431f-a34e-c080a6eef7d2",
   "metadata": {},
   "outputs": [],
   "source": [
    "dataset_path = './data/medical_docs'\n",
    "dataset = KGDataset(dataset_path, debug=False)"
   ]
  },
  {
   "cell_type": "code",
   "execution_count": 19,
   "id": "54acebb4-b196-48f4-a99a-c13c5d205318",
   "metadata": {},
   "outputs": [
    {
     "data": {
      "text/plain": [
       "(45, 48, 45)"
      ]
     },
     "execution_count": 19,
     "metadata": {},
     "output_type": "execute_result"
    }
   ],
   "source": [
    "dataset.get_shape()"
   ]
  },
  {
   "cell_type": "markdown",
   "id": "a74b95d4-cde5-4cf9-8c29-0b682ddbef7d",
   "metadata": {},
   "source": [
    "# Load saved KG Model (AttH)model"
   ]
  },
  {
   "cell_type": "code",
   "execution_count": 20,
   "id": "7180d381-357d-4cc5-b292-11a8034db567",
   "metadata": {},
   "outputs": [],
   "source": [
    "import torch\n",
    "from curverag.atth.models.hyperbolic import AttH"
   ]
  },
  {
   "cell_type": "code",
   "execution_count": 23,
   "id": "446d6df1-389d-45c5-be70-40392c487cdf",
   "metadata": {},
   "outputs": [],
   "source": [
    "class ModelArgs:\n",
    "    def __init__(self, dataset):\n",
    "        \"\"\"Knowledge Graph Embedding Model Configuration\"\"\"\n",
    "        self.rank = 1000                # Embedding dimension\n",
    "        self.learning_rate = 1e-1       # Initial learning rate\n",
    "        self.batch_size = 1000          # Training batch size\n",
    "        self.reg = 0.1                  # Regularization strength\n",
    "        self.max_epochs = 10            # Maximum training epochs\n",
    "        self.patience = 20              # Early stopping patience\n",
    "        self.debug = False              # Debug mode flag\n",
    "        self.data_type = 'double'           # Data type (float32/double)\n",
    "        self.neg_sample_size = 50       # Negative samples per positive\n",
    "        self.double_neg = True          # Use double negative sampling\n",
    "        self.bias = 'constant'          # Bias type in model\n",
    "        self.init_size = 1e-3           # Embedding initialization scale\n",
    "        self.multi_c = True             # Multiple curvatures (hyperbolic)\n",
    "        self.dropout = 0                # Dropout rate\n",
    "        self.sizes = dataset.get_shape()# (n_entities, n_relations) from dataset\n",
    "        self.gamma = 0\n",
    "\n",
    "    def __repr__(self):\n",
    "        return f\"ModelArgs({vars(self)})\"\n",
    "model_args = ModelArgs(dataset)"
   ]
  },
  {
   "cell_type": "code",
   "execution_count": 25,
   "id": "f1f3b9f9-dc44-44c0-8483-5604bea35a3d",
   "metadata": {},
   "outputs": [
    {
     "data": {
      "text/plain": [
       "AttH(\n",
       "  (entity): Embedding(45, 1000)\n",
       "  (rel): Embedding(48, 1000)\n",
       "  (bh): Embedding(45, 1)\n",
       "  (bt): Embedding(45, 1)\n",
       "  (rel_diag): Embedding(48, 2000)\n",
       "  (context_vec): Embedding(48, 1000)\n",
       "  (act): Softmax(dim=1)\n",
       ")"
      ]
     },
     "execution_count": 25,
     "metadata": {},
     "output_type": "execute_result"
    }
   ],
   "source": [
    "model = AttH(model_args)\n",
    "model_path = '/Users/nathan/Documents/projects/curve_rag/logs/05_01/medical_docs/AttH_23_03_31/model.pt'\n",
    "model.load_state_dict(torch.load(model_path, weights_only=True))\n",
    "model.eval()"
   ]
  },
  {
   "cell_type": "markdown",
   "id": "02d09b19-7395-41c8-8151-3af1fcadb90f",
   "metadata": {},
   "source": [
    "# Get Embeddings"
   ]
  },
  {
   "cell_type": "code",
   "execution_count": 28,
   "id": "7b09d4d1-e322-4347-87b4-5968c5f50eec",
   "metadata": {},
   "outputs": [],
   "source": [
    "# Get all entity embeddings (n_entities x embedding_dim)\n",
    "entity_embeddings = model.entity.weight.data.cpu().numpy()\n",
    "\n",
    "# Get relation embeddings (n_relations x embedding_dim)\n",
    "relation_embeddings = model.rel.weight.data.cpu().numpy()\n",
    "\n",
    "# Save to file\n",
    "os.makedirs(\"./embeddings\", exist_ok=True)\n",
    "\n",
    "np.save(\"./embeddings/entity_emb.npy\", entity_embeddings)\n",
    "np.save(\"./embeddings/relation_emb.npy\", relation_embeddings)"
   ]
  },
  {
   "cell_type": "code",
   "execution_count": 29,
   "id": "8ec3df32-a020-4e87-80f7-e7b1bc03ca3e",
   "metadata": {},
   "outputs": [
    {
     "data": {
      "text/plain": [
       "array([[-0.10088129,  0.09966055,  0.10105066, ...,  0.09940649,\n",
       "        -0.09916997, -0.08717234],\n",
       "       [-0.0993396 ,  0.10219772, -0.10032152, ..., -0.10193137,\n",
       "         0.10069192,  0.09881262],\n",
       "       [ 0.10167376, -0.10083576,  0.09849502, ..., -0.09702491,\n",
       "         0.10110857, -0.10045891],\n",
       "       ...,\n",
       "       [ 0.09495796, -0.09677415,  0.09946039, ..., -0.09818554,\n",
       "         0.09982164,  0.09723762],\n",
       "       [ 0.09853571, -0.10173274,  0.09652006, ...,  0.09986235,\n",
       "        -0.09847258, -0.09740754],\n",
       "       [ 0.10125503,  0.10050082, -0.09904297, ..., -0.10006015,\n",
       "         0.0951002 , -0.09867576]], shape=(45, 1000))"
      ]
     },
     "execution_count": 29,
     "metadata": {},
     "output_type": "execute_result"
    }
   ],
   "source": [
    "entity_embeddings"
   ]
  },
  {
   "cell_type": "markdown",
   "id": "e2aea82a-d5c8-4441-8d8d-cc559c307236",
   "metadata": {},
   "source": [
    "# Make prediction using graph"
   ]
  },
  {
   "cell_type": "code",
   "execution_count": 30,
   "id": "e801bca3-fc5a-450c-8537-5f8e061c3001",
   "metadata": {},
   "outputs": [],
   "source": [
    "import torch\n",
    "model.eval()\n",
    "\n",
    "# Example prediction: (h, r) -> predict t\n",
    "def predict_tail(h, r, top_k=5):\n",
    "    with torch.no_grad():\n",
    "        scores, _ = model.get_queries(torch.tensor([[h, r, 0]]))\n",
    "        #print(type(scores[0]), scores)\n",
    "        scores = scores[0]\n",
    "        values, indices = torch.topk(scores, k=top_k)\n",
    "        return [(idx, score.item()) \n",
    "                for idx, score in zip(indices[0], values[0])]\n",
    "\n",
    "# Usage\n",
    "predictions = predict_tail(h=0, r=0)  # (Paris, capital_of) -> top 5 countries"
   ]
  },
  {
   "cell_type": "code",
   "execution_count": 31,
   "id": "2e8df9ed-427a-46a8-b916-21391d6a5f86",
   "metadata": {},
   "outputs": [
    {
     "data": {
      "text/plain": [
       "[(tensor(457), 0.05623408789488405),\n",
       " (tensor(465), 0.05482293428543924),\n",
       " (tensor(676), 0.05458844254021787),\n",
       " (tensor(495), 0.05448341048716934),\n",
       " (tensor(881), 0.05444969239179038)]"
      ]
     },
     "execution_count": 31,
     "metadata": {},
     "output_type": "execute_result"
    }
   ],
   "source": [
    "predictions"
   ]
  }
 ],
 "metadata": {
  "kernelspec": {
   "display_name": "Python 3 (ipykernel)",
   "language": "python",
   "name": "python3"
  },
  "language_info": {
   "codemirror_mode": {
    "name": "ipython",
    "version": 3
   },
   "file_extension": ".py",
   "mimetype": "text/x-python",
   "name": "python",
   "nbconvert_exporter": "python",
   "pygments_lexer": "ipython3",
   "version": "3.10.17"
  }
 },
 "nbformat": 4,
 "nbformat_minor": 5
}
