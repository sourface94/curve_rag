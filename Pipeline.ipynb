{
 "cells": [
  {
   "cell_type": "code",
   "execution_count": 27,
   "id": "e7554f5f-4846-401f-b552-7d3a4913abc9",
   "metadata": {},
   "outputs": [
    {
     "name": "stdout",
     "output_type": "stream",
     "text": [
      "The autoreload extension is already loaded. To reload it, use:\n",
      "  %reload_ext autoreload\n"
     ]
    }
   ],
   "source": [
    "%load_ext autoreload\n",
    "%autoreload 2"
   ]
  },
  {
   "cell_type": "code",
   "execution_count": 1,
   "id": "75d44625-276b-4a71-8579-a863dfdd386a",
   "metadata": {},
   "outputs": [],
   "source": [
    "import llama_cpp\n",
    "from curverag import utils\n",
    "from curverag.curverag import CurveRAG"
   ]
  },
  {
   "cell_type": "markdown",
   "id": "b54db7ac-f8fc-4e93-9856-d9095cb83b3b",
   "metadata": {},
   "source": [
    "## Dataset and LLM"
   ]
  },
  {
   "cell_type": "code",
   "execution_count": 2,
   "id": "1d1b1091-7820-423a-9515-55de2e82e6c7",
   "metadata": {},
   "outputs": [],
   "source": [
    "max_tokens = 10000\n",
    "n_ctx=10000\n",
    "\n",
    "docs = [\n",
    "    \"The patient was diagnosed with type 2 diabetes mellitus and prescribed metformin 500mg twice daily.\",\n",
    "    \"MRI scan revealed a small lesion in the left temporal lobe suggestive of low-grade glioma.\",\n",
    "    \"Administer 5mg of lorazepam intravenously for acute seizure management.\",\n",
    "    \"Blood tests showed elevated ALT and AST levels, indicating possible liver inflammation.\",\n",
    "    \"The subject reported chronic lower back pain, managed with physical therapy and NSAIDs.\",\n",
    "    \"CT angiography confirmed the presence of a pulmonary embolism in the right lower lobe.\",\n",
    "    \"The patient underwent coronary artery bypass graft surgery without complications.\",\n",
    "    \"Routine vaccination included MMR, tetanus, and influenza immunizations.\",\n",
    "    \"Histopathology indicated ductal carcinoma in situ (DCIS) in the breast biopsy sample.\",\n",
    "    \"The child presented with a persistent cough and fever, diagnosed as streptococcal pharyngitis.\"\n",
    "]\n"
   ]
  },
  {
   "cell_type": "code",
   "execution_count": null,
   "id": "f39d7da3-c3b7-4455-8bd3-97b50120dbb8",
   "metadata": {},
   "outputs": [],
   "source": [
    "model = utils.load_model(\n",
    "    llm_model_path=\"./models/Meta-Llama-3-8B-Instruct.Q6_K.gguf\",\n",
    "    tokenizer=llama_cpp.llama_tokenizer.LlamaHFTokenizer.from_pretrained(\"unsloth/Llama-3.2-1B-Instruct\"),\n",
    "    n_ctx=n_ctx,\n",
    "    max_tokens=max_tokens\n",
    ")"
   ]
  },
  {
   "cell_type": "markdown",
   "id": "355f6a39-77a2-41ef-8901-624096fdca7f",
   "metadata": {},
   "source": [
    "## Fit CurveRAG"
   ]
  },
  {
   "cell_type": "code",
   "execution_count": 4,
   "id": "c65c2378-fa13-429f-85ab-96daa2b6117a",
   "metadata": {},
   "outputs": [],
   "source": [
    "rag = CurveRAG(llm=model)"
   ]
  },
  {
   "cell_type": "code",
   "execution_count": 5,
   "id": "eaa03b50-b55a-4abc-994f-df570c791796",
   "metadata": {},
   "outputs": [
    {
     "name": "stdout",
     "output_type": "stream",
     "text": [
      "creating graph\n"
     ]
    },
    {
     "name": "stderr",
     "output_type": "stream",
     "text": [
      "  0%|                                                                             | 0/10 [00:00<?, ?it/s]/Users/nathan/Documents/projects/curve_rag/.venv/lib/python3.10/site-packages/llama_cpp/llama.py:1240: RuntimeWarning: Detected duplicate leading \"<|begin_of_text|>\" in prompt, this will likely reduce response quality, consider removing it...\n",
      "  warnings.warn(\n",
      "llama_perf_context_print:        load time =    7098.38 ms\n",
      "llama_perf_context_print: prompt eval time =    7097.52 ms /   613 tokens (   11.58 ms per token,    86.37 tokens per second)\n",
      "llama_perf_context_print:        eval time =   24254.92 ms /   521 runs   (   46.55 ms per token,    21.48 tokens per second)\n",
      "llama_perf_context_print:       total time =   34533.67 ms /  1134 tokens\n",
      " 10%|██████▉                                                              | 1/10 [00:34<05:10, 34.54s/it]llama_perf_context_print:        load time =    7098.38 ms\n",
      "llama_perf_context_print: prompt eval time =    7478.19 ms /  1005 tokens (    7.44 ms per token,   134.39 tokens per second)\n",
      "llama_perf_context_print:        eval time =   19027.99 ms /   374 runs   (   50.88 ms per token,    19.66 tokens per second)\n",
      "llama_perf_context_print:       total time =   29464.11 ms /  1379 tokens\n",
      " 20%|█████████████▊                                                       | 2/10 [01:04<04:12, 31.56s/it]llama_perf_context_print:        load time =    7098.38 ms\n",
      "llama_perf_context_print: prompt eval time =    9674.46 ms /  1280 tokens (    7.56 ms per token,   132.31 tokens per second)\n",
      "llama_perf_context_print:        eval time =   22261.36 ms /   420 runs   (   53.00 ms per token,    18.87 tokens per second)\n",
      "llama_perf_context_print:       total time =   35867.12 ms /  1700 tokens\n",
      " 30%|████████████████████▋                                                | 3/10 [01:39<03:54, 33.53s/it]llama_perf_context_print:        load time =    7098.38 ms\n",
      "llama_perf_context_print: prompt eval time =   12837.97 ms /  1591 tokens (    8.07 ms per token,   123.93 tokens per second)\n",
      "llama_perf_context_print:        eval time =   17992.61 ms /   345 runs   (   52.15 ms per token,    19.17 tokens per second)\n",
      "llama_perf_context_print:       total time =   34453.37 ms /  1936 tokens\n",
      " 40%|███████████████████████████▌                                         | 4/10 [02:14<03:23, 33.90s/it]llama_perf_context_print:        load time =    7098.38 ms\n",
      "llama_perf_context_print: prompt eval time =   14846.77 ms /  1850 tokens (    8.03 ms per token,   124.61 tokens per second)\n",
      "llama_perf_context_print:        eval time =   19746.06 ms /   367 runs   (   53.80 ms per token,    18.59 tokens per second)\n",
      "llama_perf_context_print:       total time =   38838.01 ms /  2217 tokens\n",
      " 50%|██████████████████████████████████▌                                  | 5/10 [02:53<02:58, 35.68s/it]llama_perf_context_print:        load time =    7098.38 ms\n",
      "llama_perf_context_print: prompt eval time =   19209.39 ms /  2123 tokens (    9.05 ms per token,   110.52 tokens per second)\n",
      "llama_perf_context_print:        eval time =   13936.89 ms /   258 runs   (   54.02 ms per token,    18.51 tokens per second)\n",
      "llama_perf_context_print:       total time =   36621.76 ms /  2381 tokens\n",
      " 60%|█████████████████████████████████████████▍                           | 6/10 [03:29<02:24, 36.00s/it]llama_perf_context_print:        load time =    7098.38 ms\n",
      "llama_perf_context_print: prompt eval time =   19865.26 ms /  2312 tokens (    8.59 ms per token,   116.38 tokens per second)\n",
      "llama_perf_context_print:        eval time =    9528.10 ms /   172 runs   (   55.40 ms per token,    18.05 tokens per second)\n",
      "llama_perf_context_print:       total time =   31878.36 ms /  2484 tokens\n",
      " 70%|████████████████████████████████████████████████▎                    | 7/10 [04:01<01:43, 34.66s/it]llama_perf_context_print:        load time =    7098.38 ms\n",
      "llama_perf_context_print: prompt eval time =   21033.66 ms /  2419 tokens (    8.70 ms per token,   115.01 tokens per second)\n",
      "llama_perf_context_print:        eval time =   15581.09 ms /   281 runs   (   55.45 ms per token,    18.03 tokens per second)\n",
      "llama_perf_context_print:       total time =   40761.78 ms /  2700 tokens\n",
      " 80%|███████████████████████████████████████████████████████▏             | 8/10 [04:42<01:13, 36.60s/it]llama_perf_context_print:        load time =    7098.38 ms\n",
      "llama_perf_context_print: prompt eval time =   23823.75 ms /  2635 tokens (    9.04 ms per token,   110.60 tokens per second)\n",
      "llama_perf_context_print:        eval time =   16938.55 ms /   299 runs   (   56.65 ms per token,    17.65 tokens per second)\n",
      "llama_perf_context_print:       total time =   45621.39 ms /  2934 tokens\n",
      " 90%|██████████████████████████████████████████████████████████████       | 9/10 [05:28<00:39, 39.42s/it]llama_perf_context_print:        load time =    7098.38 ms\n",
      "llama_perf_context_print: prompt eval time =   25719.92 ms /  2866 tokens (    8.97 ms per token,   111.43 tokens per second)\n",
      "llama_perf_context_print:        eval time =   27262.98 ms /   466 runs   (   58.50 ms per token,    17.09 tokens per second)\n",
      "llama_perf_context_print:       total time =   61275.88 ms /  3332 tokens\n",
      "100%|████████████████████████████████████████████████████████████████████| 10/10 [06:29<00:00, 38.94s/it]\n",
      "2025-05-05 00:38:35,701 INFO     Saving logs in: ./logs/05_05/test_run/AttH_00_38_35\n",
      "2025-05-05 00:38:35,701 INFO     \t (45, 48, 45)\n",
      "2025-05-05 00:38:35,707 INFO     Total number of parameters 285138\n",
      "2025-05-05 00:38:35,709 INFO     \t Start training\n"
     ]
    },
    {
     "name": "stdout",
     "output_type": "stream",
     "text": [
      "creating dataset\n",
      "dataset type <class 'curverag.atth.kg_dataset.KGDataset'>\n",
      "train kg embeddings\n"
     ]
    },
    {
     "name": "stderr",
     "output_type": "stream",
     "text": [
      "train loss: 100%|██████████████████████████████████████████| 66/66 [00:00<00:00, 125.49ex/s, loss=0.6884]\n",
      "2025-05-05 00:38:36,237 INFO     \t Epoch 0 | average train loss: 0.6884\n",
      "2025-05-05 00:38:36,244 INFO     \t Epoch 0 | average valid loss: 2.0870\n",
      "train loss: 100%|██████████████████████████████████████████| 66/66 [00:00<00:00, 202.05ex/s, loss=2.1058]\n",
      "2025-05-05 00:38:36,573 INFO     \t Epoch 1 | average train loss: 2.1058\n",
      "2025-05-05 00:38:36,579 INFO     \t Epoch 1 | average valid loss: 1.9505\n",
      "train loss: 100%|██████████████████████████████████████████| 66/66 [00:00<00:00, 227.97ex/s, loss=1.9965]\n",
      "2025-05-05 00:38:36,870 INFO     \t Epoch 2 | average train loss: 1.9965\n",
      "2025-05-05 00:38:36,875 INFO     \t Epoch 2 | average valid loss: 1.7894\n",
      "2025-05-05 00:38:36,877 INFO     \t valid MR: 37.50 | MRR: 0.146 | H@1: 0.125 | H@3: 0.125 | H@10: 0.125\n",
      "2025-05-05 00:38:36,877 INFO     \t Saving model at epoch 2 in ./logs/05_05/test_run/AttH_00_38_35\n"
     ]
    },
    {
     "name": "stdout",
     "output_type": "stream",
     "text": [
      "rhs\n",
      "got (10, 8)\n",
      "got (21, 4)\n",
      "got (0, 18)\n",
      "got (36, 19)\n",
      "lhs\n",
      "got (11, 8)\n",
      "got (26, 4)\n",
      "got (12, 18)\n",
      "got (37, 19)\n"
     ]
    },
    {
     "name": "stderr",
     "output_type": "stream",
     "text": [
      "train loss: 100%|██████████████████████████████████████████| 66/66 [00:00<00:00, 227.33ex/s, loss=1.9275]\n",
      "2025-05-05 00:38:37,174 INFO     \t Epoch 3 | average train loss: 1.9275\n",
      "2025-05-05 00:38:37,179 INFO     \t Epoch 3 | average valid loss: 1.7179\n",
      "train loss: 100%|██████████████████████████████████████████| 66/66 [00:00<00:00, 223.15ex/s, loss=1.6541]\n",
      "2025-05-05 00:38:37,476 INFO     \t Epoch 4 | average train loss: 1.6541\n",
      "2025-05-05 00:38:37,481 INFO     \t Epoch 4 | average valid loss: 1.3449\n",
      "train loss: 100%|██████████████████████████████████████████| 66/66 [00:00<00:00, 226.93ex/s, loss=1.2264]\n",
      "2025-05-05 00:38:37,774 INFO     \t Epoch 5 | average train loss: 1.2264\n",
      "2025-05-05 00:38:37,779 INFO     \t Epoch 5 | average valid loss: 0.8203\n",
      "2025-05-05 00:38:37,782 INFO     \t valid MR: 22.88 | MRR: 0.171 | H@1: 0.125 | H@3: 0.125 | H@10: 0.250\n",
      "2025-05-05 00:38:37,782 INFO     \t Saving model at epoch 5 in ./logs/05_05/test_run/AttH_00_38_35\n"
     ]
    },
    {
     "name": "stdout",
     "output_type": "stream",
     "text": [
      "rhs\n",
      "got (10, 8)\n",
      "got (21, 4)\n",
      "got (0, 18)\n",
      "got (36, 19)\n",
      "lhs\n",
      "got (11, 8)\n",
      "got (26, 4)\n",
      "got (12, 18)\n",
      "got (37, 19)\n"
     ]
    },
    {
     "name": "stderr",
     "output_type": "stream",
     "text": [
      "train loss: 100%|██████████████████████████████████████████| 66/66 [00:00<00:00, 210.09ex/s, loss=0.8542]\n",
      "2025-05-05 00:38:38,101 INFO     \t Epoch 6 | average train loss: 0.8542\n",
      "2025-05-05 00:38:38,105 INFO     \t Epoch 6 | average valid loss: 0.4519\n",
      "train loss: 100%|██████████████████████████████████████████| 66/66 [00:00<00:00, 233.20ex/s, loss=0.3254]\n",
      "2025-05-05 00:38:38,389 INFO     \t Epoch 7 | average train loss: 0.3254\n",
      "2025-05-05 00:38:38,394 INFO     \t Epoch 7 | average valid loss: 0.3512\n",
      "train loss: 100%|██████████████████████████████████████████| 66/66 [00:00<00:00, 237.57ex/s, loss=0.1540]\n",
      "2025-05-05 00:38:38,674 INFO     \t Epoch 8 | average train loss: 0.1540\n",
      "2025-05-05 00:38:38,678 INFO     \t Epoch 8 | average valid loss: 0.3418\n",
      "2025-05-05 00:38:38,680 INFO     \t valid MR: 19.38 | MRR: 0.177 | H@1: 0.125 | H@3: 0.125 | H@10: 0.250\n",
      "2025-05-05 00:38:38,680 INFO     \t Saving model at epoch 8 in ./logs/05_05/test_run/AttH_00_38_35\n"
     ]
    },
    {
     "name": "stdout",
     "output_type": "stream",
     "text": [
      "rhs\n",
      "got (10, 8)\n",
      "got (21, 4)\n",
      "got (0, 18)\n",
      "got (36, 19)\n",
      "lhs\n",
      "got (11, 8)\n",
      "got (26, 4)\n",
      "got (12, 18)\n",
      "got (37, 19)\n"
     ]
    },
    {
     "name": "stderr",
     "output_type": "stream",
     "text": [
      "train loss: 100%|██████████████████████████████████████████| 66/66 [00:00<00:00, 219.20ex/s, loss=0.1169]\n",
      "2025-05-05 00:38:38,985 INFO     \t Epoch 9 | average train loss: 0.1169\n",
      "2025-05-05 00:38:38,991 INFO     \t Epoch 9 | average valid loss: 0.4879\n",
      "train loss: 100%|██████████████████████████████████████████| 66/66 [00:00<00:00, 213.30ex/s, loss=0.1429]\n",
      "2025-05-05 00:38:39,302 INFO     \t Epoch 10 | average train loss: 0.1429\n",
      "2025-05-05 00:38:39,307 INFO     \t Epoch 10 | average valid loss: 0.3406\n",
      "train loss: 100%|██████████████████████████████████████████| 66/66 [00:00<00:00, 220.55ex/s, loss=0.0790]\n",
      "2025-05-05 00:38:39,608 INFO     \t Epoch 11 | average train loss: 0.0790\n",
      "2025-05-05 00:38:39,614 INFO     \t Epoch 11 | average valid loss: 0.3246\n",
      "2025-05-05 00:38:39,616 INFO     \t valid MR: 19.25 | MRR: 0.097 | H@1: 0.000 | H@3: 0.125 | H@10: 0.375\n"
     ]
    },
    {
     "name": "stdout",
     "output_type": "stream",
     "text": [
      "rhs\n",
      "got (10, 8)\n",
      "got (21, 4)\n",
      "got (0, 18)\n",
      "got (36, 19)\n",
      "lhs\n",
      "got (11, 8)\n",
      "got (26, 4)\n",
      "got (12, 18)\n",
      "got (37, 19)\n"
     ]
    },
    {
     "name": "stderr",
     "output_type": "stream",
     "text": [
      "train loss: 100%|██████████████████████████████████████████| 66/66 [00:00<00:00, 228.45ex/s, loss=0.0472]\n",
      "2025-05-05 00:38:39,907 INFO     \t Epoch 12 | average train loss: 0.0472\n",
      "2025-05-05 00:38:39,912 INFO     \t Epoch 12 | average valid loss: 0.3472\n",
      "train loss: 100%|██████████████████████████████████████████| 66/66 [00:00<00:00, 224.83ex/s, loss=0.0430]\n",
      "2025-05-05 00:38:40,207 INFO     \t Epoch 13 | average train loss: 0.0430\n",
      "2025-05-05 00:38:40,214 INFO     \t Epoch 13 | average valid loss: 0.3343\n",
      "train loss: 100%|██████████████████████████████████████████| 66/66 [00:00<00:00, 228.01ex/s, loss=0.0605]\n",
      "2025-05-05 00:38:40,504 INFO     \t Epoch 14 | average train loss: 0.0605\n",
      "2025-05-05 00:38:40,510 INFO     \t Epoch 14 | average valid loss: 0.3232\n",
      "2025-05-05 00:38:40,512 INFO     \t valid MR: 24.12 | MRR: 0.183 | H@1: 0.125 | H@3: 0.125 | H@10: 0.375\n",
      "2025-05-05 00:38:40,512 INFO     \t Saving model at epoch 14 in ./logs/05_05/test_run/AttH_00_38_35\n"
     ]
    },
    {
     "name": "stdout",
     "output_type": "stream",
     "text": [
      "rhs\n",
      "got (10, 8)\n",
      "got (21, 4)\n",
      "got (0, 18)\n",
      "got (36, 19)\n",
      "lhs\n",
      "got (11, 8)\n",
      "got (26, 4)\n",
      "got (12, 18)\n",
      "got (37, 19)\n"
     ]
    },
    {
     "name": "stderr",
     "output_type": "stream",
     "text": [
      "train loss: 100%|██████████████████████████████████████████| 66/66 [00:00<00:00, 232.14ex/s, loss=0.0481]\n",
      "2025-05-05 00:38:40,800 INFO     \t Epoch 15 | average train loss: 0.0481\n",
      "2025-05-05 00:38:40,804 INFO     \t Epoch 15 | average valid loss: 0.3399\n",
      "train loss: 100%|██████████████████████████████████████████| 66/66 [00:00<00:00, 237.45ex/s, loss=0.0356]\n",
      "2025-05-05 00:38:41,084 INFO     \t Epoch 16 | average train loss: 0.0356\n",
      "2025-05-05 00:38:41,090 INFO     \t Epoch 16 | average valid loss: 0.3188\n",
      "train loss: 100%|██████████████████████████████████████████| 66/66 [00:00<00:00, 205.02ex/s, loss=0.0418]\n",
      "2025-05-05 00:38:41,413 INFO     \t Epoch 17 | average train loss: 0.0418\n",
      "2025-05-05 00:38:41,418 INFO     \t Epoch 17 | average valid loss: 0.3109\n",
      "2025-05-05 00:38:41,420 INFO     \t valid MR: 18.62 | MRR: 0.186 | H@1: 0.125 | H@3: 0.125 | H@10: 0.375\n",
      "2025-05-05 00:38:41,420 INFO     \t Saving model at epoch 17 in ./logs/05_05/test_run/AttH_00_38_35\n"
     ]
    },
    {
     "name": "stdout",
     "output_type": "stream",
     "text": [
      "rhs\n",
      "got (10, 8)\n",
      "got (21, 4)\n",
      "got (0, 18)\n",
      "got (36, 19)\n",
      "lhs\n",
      "got (11, 8)\n",
      "got (26, 4)\n",
      "got (12, 18)\n",
      "got (37, 19)\n"
     ]
    },
    {
     "name": "stderr",
     "output_type": "stream",
     "text": [
      "train loss: 100%|██████████████████████████████████████████| 66/66 [00:00<00:00, 225.75ex/s, loss=0.0386]\n",
      "2025-05-05 00:38:41,716 INFO     \t Epoch 18 | average train loss: 0.0386\n",
      "2025-05-05 00:38:41,721 INFO     \t Epoch 18 | average valid loss: 0.3280\n",
      "train loss: 100%|██████████████████████████████████████████| 66/66 [00:00<00:00, 235.21ex/s, loss=0.0309]\n",
      "2025-05-05 00:38:42,003 INFO     \t Epoch 19 | average train loss: 0.0309\n",
      "2025-05-05 00:38:42,009 INFO     \t Epoch 19 | average valid loss: 0.3354\n",
      "train loss: 100%|██████████████████████████████████████████| 66/66 [00:00<00:00, 201.72ex/s, loss=0.0367]\n",
      "2025-05-05 00:38:42,337 INFO     \t Epoch 20 | average train loss: 0.0367\n",
      "2025-05-05 00:38:42,342 INFO     \t Epoch 20 | average valid loss: 0.3364\n",
      "2025-05-05 00:38:42,344 INFO     \t valid MR: 23.25 | MRR: 0.215 | H@1: 0.125 | H@3: 0.250 | H@10: 0.250\n",
      "2025-05-05 00:38:42,344 INFO     \t Saving model at epoch 20 in ./logs/05_05/test_run/AttH_00_38_35\n"
     ]
    },
    {
     "name": "stdout",
     "output_type": "stream",
     "text": [
      "rhs\n",
      "got (10, 8)\n",
      "got (21, 4)\n",
      "got (0, 18)\n",
      "got (36, 19)\n",
      "lhs\n",
      "got (11, 8)\n",
      "got (26, 4)\n",
      "got (12, 18)\n",
      "got (37, 19)\n"
     ]
    },
    {
     "name": "stderr",
     "output_type": "stream",
     "text": [
      "train loss: 100%|██████████████████████████████████████████| 66/66 [00:00<00:00, 235.66ex/s, loss=0.0414]\n",
      "2025-05-05 00:38:42,628 INFO     \t Epoch 21 | average train loss: 0.0414\n",
      "2025-05-05 00:38:42,633 INFO     \t Epoch 21 | average valid loss: 0.3382\n",
      "train loss: 100%|██████████████████████████████████████████| 66/66 [00:00<00:00, 238.52ex/s, loss=0.0357]\n",
      "2025-05-05 00:38:42,911 INFO     \t Epoch 22 | average train loss: 0.0357\n",
      "2025-05-05 00:38:42,917 INFO     \t Epoch 22 | average valid loss: 0.3279\n",
      "train loss: 100%|██████████████████████████████████████████| 66/66 [00:00<00:00, 235.72ex/s, loss=0.0268]\n",
      "2025-05-05 00:38:43,198 INFO     \t Epoch 23 | average train loss: 0.0268\n",
      "2025-05-05 00:38:43,203 INFO     \t Epoch 23 | average valid loss: 0.3192\n",
      "2025-05-05 00:38:43,205 INFO     \t valid MR: 22.12 | MRR: 0.232 | H@1: 0.125 | H@3: 0.250 | H@10: 0.375\n",
      "2025-05-05 00:38:43,205 INFO     \t Saving model at epoch 23 in ./logs/05_05/test_run/AttH_00_38_35\n"
     ]
    },
    {
     "name": "stdout",
     "output_type": "stream",
     "text": [
      "rhs\n",
      "got (10, 8)\n",
      "got (21, 4)\n",
      "got (0, 18)\n",
      "got (36, 19)\n",
      "lhs\n",
      "got (11, 8)\n",
      "got (26, 4)\n",
      "got (12, 18)\n",
      "got (37, 19)\n"
     ]
    },
    {
     "name": "stderr",
     "output_type": "stream",
     "text": [
      "train loss: 100%|██████████████████████████████████████████| 66/66 [00:00<00:00, 223.60ex/s, loss=0.0299]\n",
      "2025-05-05 00:38:43,504 INFO     \t Epoch 24 | average train loss: 0.0299\n",
      "2025-05-05 00:38:43,510 INFO     \t Epoch 24 | average valid loss: 0.3149\n",
      "train loss: 100%|██████████████████████████████████████████| 66/66 [00:00<00:00, 236.36ex/s, loss=0.0350]\n",
      "2025-05-05 00:38:43,791 INFO     \t Epoch 25 | average train loss: 0.0350\n",
      "2025-05-05 00:38:43,796 INFO     \t Epoch 25 | average valid loss: 0.3130\n",
      "train loss: 100%|██████████████████████████████████████████| 66/66 [00:00<00:00, 228.13ex/s, loss=0.0347]\n",
      "2025-05-05 00:38:44,087 INFO     \t Epoch 26 | average train loss: 0.0347\n",
      "2025-05-05 00:38:44,092 INFO     \t Epoch 26 | average valid loss: 0.3280\n",
      "2025-05-05 00:38:44,094 INFO     \t valid MR: 19.25 | MRR: 0.181 | H@1: 0.125 | H@3: 0.125 | H@10: 0.250\n"
     ]
    },
    {
     "name": "stdout",
     "output_type": "stream",
     "text": [
      "rhs\n",
      "got (10, 8)\n",
      "got (21, 4)\n",
      "got (0, 18)\n",
      "got (36, 19)\n",
      "lhs\n",
      "got (11, 8)\n",
      "got (26, 4)\n",
      "got (12, 18)\n",
      "got (37, 19)\n"
     ]
    },
    {
     "name": "stderr",
     "output_type": "stream",
     "text": [
      "train loss: 100%|██████████████████████████████████████████| 66/66 [00:00<00:00, 227.04ex/s, loss=0.0274]\n",
      "2025-05-05 00:38:44,387 INFO     \t Epoch 27 | average train loss: 0.0274\n",
      "2025-05-05 00:38:44,392 INFO     \t Epoch 27 | average valid loss: 0.3417\n",
      "train loss: 100%|██████████████████████████████████████████| 66/66 [00:00<00:00, 235.48ex/s, loss=0.0243]\n",
      "2025-05-05 00:38:44,674 INFO     \t Epoch 28 | average train loss: 0.0243\n",
      "2025-05-05 00:38:44,678 INFO     \t Epoch 28 | average valid loss: 0.3447\n",
      "train loss: 100%|██████████████████████████████████████████| 66/66 [00:00<00:00, 235.08ex/s, loss=0.0276]\n",
      "2025-05-05 00:38:44,961 INFO     \t Epoch 29 | average train loss: 0.0276\n",
      "2025-05-05 00:38:44,965 INFO     \t Epoch 29 | average valid loss: 0.3475\n",
      "2025-05-05 00:38:44,967 INFO     \t valid MR: 24.00 | MRR: 0.192 | H@1: 0.125 | H@3: 0.250 | H@10: 0.250\n"
     ]
    },
    {
     "name": "stdout",
     "output_type": "stream",
     "text": [
      "rhs\n",
      "got (10, 8)\n",
      "got (21, 4)\n",
      "got (0, 18)\n",
      "got (36, 19)\n",
      "lhs\n",
      "got (11, 8)\n",
      "got (26, 4)\n",
      "got (12, 18)\n",
      "got (37, 19)\n"
     ]
    },
    {
     "name": "stderr",
     "output_type": "stream",
     "text": [
      "train loss: 100%|██████████████████████████████████████████| 66/66 [00:00<00:00, 231.27ex/s, loss=0.0347]\n",
      "2025-05-05 00:38:45,254 INFO     \t Epoch 30 | average train loss: 0.0347\n",
      "2025-05-05 00:38:45,259 INFO     \t Epoch 30 | average valid loss: 0.3489\n",
      "train loss: 100%|██████████████████████████████████████████| 66/66 [00:00<00:00, 234.84ex/s, loss=0.0338]\n",
      "2025-05-05 00:38:45,542 INFO     \t Epoch 31 | average train loss: 0.0338\n",
      "2025-05-05 00:38:45,548 INFO     \t Epoch 31 | average valid loss: 0.3484\n",
      "train loss: 100%|██████████████████████████████████████████| 66/66 [00:00<00:00, 239.53ex/s, loss=0.0267]\n",
      "2025-05-05 00:38:45,825 INFO     \t Epoch 32 | average train loss: 0.0267\n",
      "2025-05-05 00:38:45,829 INFO     \t Epoch 32 | average valid loss: 0.3428\n",
      "2025-05-05 00:38:45,831 INFO     \t valid MR: 24.00 | MRR: 0.217 | H@1: 0.125 | H@3: 0.250 | H@10: 0.250\n"
     ]
    },
    {
     "name": "stdout",
     "output_type": "stream",
     "text": [
      "rhs\n",
      "got (10, 8)\n",
      "got (21, 4)\n",
      "got (0, 18)\n",
      "got (36, 19)\n",
      "lhs\n",
      "got (11, 8)\n",
      "got (26, 4)\n",
      "got (12, 18)\n",
      "got (37, 19)\n"
     ]
    },
    {
     "name": "stderr",
     "output_type": "stream",
     "text": [
      "train loss: 100%|██████████████████████████████████████████| 66/66 [00:00<00:00, 227.16ex/s, loss=0.0242]\n",
      "2025-05-05 00:38:46,123 INFO     \t Epoch 33 | average train loss: 0.0242\n",
      "2025-05-05 00:38:46,130 INFO     \t Epoch 33 | average valid loss: 0.3263\n",
      "train loss: 100%|██████████████████████████████████████████| 66/66 [00:00<00:00, 239.35ex/s, loss=0.0253]\n",
      "2025-05-05 00:38:46,407 INFO     \t Epoch 34 | average train loss: 0.0253\n",
      "2025-05-05 00:38:46,411 INFO     \t Epoch 34 | average valid loss: 0.3127\n",
      "train loss: 100%|██████████████████████████████████████████| 66/66 [00:00<00:00, 240.92ex/s, loss=0.0277]\n",
      "2025-05-05 00:38:46,686 INFO     \t Epoch 35 | average train loss: 0.0277\n",
      "2025-05-05 00:38:46,692 INFO     \t Epoch 35 | average valid loss: 0.3095\n",
      "2025-05-05 00:38:46,693 INFO     \t valid MR: 12.62 | MRR: 0.258 | H@1: 0.125 | H@3: 0.250 | H@10: 0.625\n",
      "2025-05-05 00:38:46,694 INFO     \t Saving model at epoch 35 in ./logs/05_05/test_run/AttH_00_38_35\n"
     ]
    },
    {
     "name": "stdout",
     "output_type": "stream",
     "text": [
      "rhs\n",
      "got (10, 8)\n",
      "got (21, 4)\n",
      "got (0, 18)\n",
      "got (36, 19)\n",
      "lhs\n",
      "got (11, 8)\n",
      "got (26, 4)\n",
      "got (12, 18)\n",
      "got (37, 19)\n"
     ]
    },
    {
     "name": "stderr",
     "output_type": "stream",
     "text": [
      "train loss: 100%|██████████████████████████████████████████| 66/66 [00:00<00:00, 240.57ex/s, loss=0.0293]\n",
      "2025-05-05 00:38:46,972 INFO     \t Epoch 36 | average train loss: 0.0293\n",
      "2025-05-05 00:38:46,976 INFO     \t Epoch 36 | average valid loss: 0.3246\n",
      "train loss: 100%|██████████████████████████████████████████| 66/66 [00:00<00:00, 240.31ex/s, loss=0.0274]\n",
      "2025-05-05 00:38:47,252 INFO     \t Epoch 37 | average train loss: 0.0274\n",
      "2025-05-05 00:38:47,257 INFO     \t Epoch 37 | average valid loss: 0.3380\n",
      "train loss: 100%|██████████████████████████████████████████| 66/66 [00:00<00:00, 240.26ex/s, loss=0.0219]\n",
      "2025-05-05 00:38:47,533 INFO     \t Epoch 38 | average train loss: 0.0219\n",
      "2025-05-05 00:38:47,537 INFO     \t Epoch 38 | average valid loss: 0.3460\n",
      "2025-05-05 00:38:47,539 INFO     \t valid MR: 20.00 | MRR: 0.114 | H@1: 0.000 | H@3: 0.125 | H@10: 0.250\n"
     ]
    },
    {
     "name": "stdout",
     "output_type": "stream",
     "text": [
      "rhs\n",
      "got (10, 8)\n",
      "got (21, 4)\n",
      "got (0, 18)\n",
      "got (36, 19)\n",
      "lhs\n",
      "got (11, 8)\n",
      "got (26, 4)\n",
      "got (12, 18)\n",
      "got (37, 19)\n"
     ]
    },
    {
     "name": "stderr",
     "output_type": "stream",
     "text": [
      "train loss: 100%|██████████████████████████████████████████| 66/66 [00:00<00:00, 233.34ex/s, loss=0.0212]\n",
      "2025-05-05 00:38:47,824 INFO     \t Epoch 39 | average train loss: 0.0212\n",
      "2025-05-05 00:38:47,828 INFO     \t Epoch 39 | average valid loss: 0.3464\n",
      "train loss: 100%|██████████████████████████████████████████| 66/66 [00:00<00:00, 237.81ex/s, loss=0.0232]\n",
      "2025-05-05 00:38:48,107 INFO     \t Epoch 40 | average train loss: 0.0232\n",
      "2025-05-05 00:38:48,112 INFO     \t Epoch 40 | average valid loss: 0.3455\n",
      "train loss: 100%|██████████████████████████████████████████| 66/66 [00:00<00:00, 211.57ex/s, loss=0.0298]\n",
      "2025-05-05 00:38:48,426 INFO     \t Epoch 41 | average train loss: 0.0298\n",
      "2025-05-05 00:38:48,431 INFO     \t Epoch 41 | average valid loss: 0.3443\n",
      "2025-05-05 00:38:48,433 INFO     \t valid MR: 23.50 | MRR: 0.214 | H@1: 0.125 | H@3: 0.250 | H@10: 0.250\n"
     ]
    },
    {
     "name": "stdout",
     "output_type": "stream",
     "text": [
      "rhs\n",
      "got (10, 8)\n",
      "got (21, 4)\n",
      "got (0, 18)\n",
      "got (36, 19)\n",
      "lhs\n",
      "got (11, 8)\n",
      "got (26, 4)\n",
      "got (12, 18)\n",
      "got (37, 19)\n"
     ]
    },
    {
     "name": "stderr",
     "output_type": "stream",
     "text": [
      "train loss: 100%|██████████████████████████████████████████| 66/66 [00:00<00:00, 239.26ex/s, loss=0.0324]\n",
      "2025-05-05 00:38:48,711 INFO     \t Epoch 42 | average train loss: 0.0324\n",
      "2025-05-05 00:38:48,716 INFO     \t Epoch 42 | average valid loss: 0.3467\n",
      "train loss: 100%|██████████████████████████████████████████| 66/66 [00:00<00:00, 230.96ex/s, loss=0.0278]\n",
      "2025-05-05 00:38:49,004 INFO     \t Epoch 43 | average train loss: 0.0278\n",
      "2025-05-05 00:38:49,009 INFO     \t Epoch 43 | average valid loss: 0.3537\n",
      "train loss: 100%|██████████████████████████████████████████| 66/66 [00:00<00:00, 236.96ex/s, loss=0.0209]\n",
      "2025-05-05 00:38:49,289 INFO     \t Epoch 44 | average train loss: 0.0209\n",
      "2025-05-05 00:38:49,293 INFO     \t Epoch 44 | average valid loss: 0.3578\n",
      "2025-05-05 00:38:49,295 INFO     \t valid MR: 24.88 | MRR: 0.183 | H@1: 0.125 | H@3: 0.125 | H@10: 0.250\n"
     ]
    },
    {
     "name": "stdout",
     "output_type": "stream",
     "text": [
      "rhs\n",
      "got (10, 8)\n",
      "got (21, 4)\n",
      "got (0, 18)\n",
      "got (36, 19)\n",
      "lhs\n",
      "got (11, 8)\n",
      "got (26, 4)\n",
      "got (12, 18)\n",
      "got (37, 19)\n"
     ]
    },
    {
     "name": "stderr",
     "output_type": "stream",
     "text": [
      "train loss: 100%|██████████████████████████████████████████| 66/66 [00:00<00:00, 238.94ex/s, loss=0.0194]\n",
      "2025-05-05 00:38:49,573 INFO     \t Epoch 45 | average train loss: 0.0194\n",
      "2025-05-05 00:38:49,577 INFO     \t Epoch 45 | average valid loss: 0.3530\n",
      "train loss: 100%|██████████████████████████████████████████| 66/66 [00:00<00:00, 242.50ex/s, loss=0.0222]\n",
      "2025-05-05 00:38:49,851 INFO     \t Epoch 46 | average train loss: 0.0222\n",
      "2025-05-05 00:38:49,855 INFO     \t Epoch 46 | average valid loss: 0.3276\n",
      "train loss: 100%|██████████████████████████████████████████| 66/66 [00:00<00:00, 239.17ex/s, loss=0.0221]\n",
      "2025-05-05 00:38:50,132 INFO     \t Epoch 47 | average train loss: 0.0221\n",
      "2025-05-05 00:38:50,136 INFO     \t Epoch 47 | average valid loss: 0.3123\n",
      "2025-05-05 00:38:50,138 INFO     \t valid MR: 16.12 | MRR: 0.244 | H@1: 0.125 | H@3: 0.375 | H@10: 0.500\n"
     ]
    },
    {
     "name": "stdout",
     "output_type": "stream",
     "text": [
      "rhs\n",
      "got (10, 8)\n",
      "got (21, 4)\n",
      "got (0, 18)\n",
      "got (36, 19)\n",
      "lhs\n",
      "got (11, 8)\n",
      "got (26, 4)\n",
      "got (12, 18)\n",
      "got (37, 19)\n"
     ]
    },
    {
     "name": "stderr",
     "output_type": "stream",
     "text": [
      "train loss: 100%|██████████████████████████████████████████| 66/66 [00:00<00:00, 227.63ex/s, loss=0.0228]\n",
      "2025-05-05 00:38:50,430 INFO     \t Epoch 48 | average train loss: 0.0228\n",
      "2025-05-05 00:38:50,435 INFO     \t Epoch 48 | average valid loss: 0.3148\n",
      "train loss: 100%|██████████████████████████████████████████| 66/66 [00:00<00:00, 241.12ex/s, loss=0.0236]\n",
      "2025-05-05 00:38:50,710 INFO     \t Epoch 49 | average train loss: 0.0236\n",
      "2025-05-05 00:38:50,715 INFO     \t Epoch 49 | average valid loss: 0.3197\n",
      "2025-05-05 00:38:50,715 INFO     \t Optimization finished\n",
      "2025-05-05 00:38:50,715 INFO     \t Loading best model saved at epoch 35\n",
      "2025-05-05 00:38:50,719 INFO     \t valid MR: 12.62 | MRR: 0.258 | H@1: 0.125 | H@3: 0.250 | H@10: 0.625\n",
      "2025-05-05 00:38:50,721 INFO     \t test MR: 27.60 | MRR: 0.094 | H@1: 0.000 | H@3: 0.100 | H@10: 0.200\n"
     ]
    },
    {
     "name": "stdout",
     "output_type": "stream",
     "text": [
      "rhs\n",
      "got (10, 8)\n",
      "got (21, 4)\n",
      "got (0, 18)\n",
      "got (36, 19)\n",
      "lhs\n",
      "got (11, 8)\n",
      "got (26, 4)\n",
      "got (12, 18)\n",
      "got (37, 19)\n",
      "rhs\n",
      "got (21, 1)\n",
      "got (27, 19)\n",
      "got (12, 16)\n",
      "got (31, 7)\n",
      "got (7, 17)\n",
      "lhs\n",
      "got (23, 1)\n",
      "got (28, 19)\n",
      "got (15, 16)\n",
      "got (33, 7)\n",
      "got (8, 17)\n"
     ]
    }
   ],
   "source": [
    "rag.fit(docs, dataset_name='test_run')"
   ]
  },
  {
   "cell_type": "code",
   "execution_count": 9,
   "id": "4afc5868-24d8-40be-a861-d5921c9793d1",
   "metadata": {},
   "outputs": [
    {
     "data": {
      "text/plain": [
       "45"
      ]
     },
     "execution_count": 9,
     "metadata": {},
     "output_type": "execute_result"
    }
   ],
   "source": [
    "len(rag.graph.nodes)"
   ]
  },
  {
   "cell_type": "code",
   "execution_count": null,
   "id": "8c97a30a-8b79-4eb0-8323-ffe2caaf5272",
   "metadata": {},
   "outputs": [],
   "source": [
    "# Get all entity embeddings (n_entities x embedding_dim)\n",
    "entity_embeddings = model.entity.weight.data.cpu().numpy()\n",
    "\n",
    "# Get relation embeddings (n_relations x embedding_dim)\n",
    "relation_embeddings = model.rel.weight.data.cpu().numpy()"
   ]
  },
  {
   "cell_type": "code",
   "execution_count": 11,
   "id": "c50e5bd4-6388-49ae-aa39-3e1cc5fc962c",
   "metadata": {},
   "outputs": [],
   "source": [
    "nodes_id_idx = rag.dataset.nodes_id_idx"
   ]
  },
  {
   "cell_type": "code",
   "execution_count": 17,
   "id": "659193a4-ed40-42ee-bb6c-aac68a664baa",
   "metadata": {},
   "outputs": [
    {
     "name": "stdout",
     "output_type": "stream",
     "text": [
      "45\n"
     ]
    },
    {
     "data": {
      "text/plain": [
       "array([ 5.81928278e-03, -2.81952184e-02,  1.90265952e-02, -3.19721146e-03,\n",
       "       -8.93134130e-03,  1.43143845e-02, -2.16812938e-02, -1.23798875e-02,\n",
       "       -7.85401404e-03, -3.40788820e-02,  1.50577328e-02,  1.58859481e-02,\n",
       "       -9.34734813e-02, -3.82454758e-02,  1.76710727e-02,  2.20435778e-03,\n",
       "        6.64168193e-04, -3.41603290e-02, -3.09017472e-02, -1.60718260e-02,\n",
       "        5.08408444e-03, -2.70790972e-02, -3.00340165e-03, -3.25994164e-02,\n",
       "        9.25533052e-04, -9.53712346e-03,  1.08343951e-02, -3.17294051e-03,\n",
       "        1.82067312e-02,  2.57764442e-02, -8.24327401e-03, -4.88753555e-04,\n",
       "       -4.17824340e-04,  3.68967587e-02, -1.62313360e-02, -5.70871814e-03,\n",
       "       -2.35310674e-02, -7.44719694e-03,  1.47713502e-02, -1.01373686e-02,\n",
       "       -1.05396421e-02, -2.19445735e-05,  8.50790638e-03,  1.04352489e-02,\n",
       "       -1.67183165e-03, -1.19690442e-02, -1.29760279e-02,  2.76977812e-02,\n",
       "       -4.83249188e-03, -4.59397969e-03,  9.55424974e-03, -9.39276756e-03,\n",
       "       -8.52880972e-03, -1.48931158e-02,  1.30916385e-02,  1.28646394e-02,\n",
       "       -1.26279406e-02,  2.95401646e-03, -4.00306522e-03, -4.02172220e-03,\n",
       "        4.26267815e-03,  9.51541254e-03,  1.23169129e-02, -8.37031592e-03,\n",
       "       -8.41822844e-03, -3.14514617e-03, -1.22268688e-02,  8.55255198e-03,\n",
       "       -5.73839489e-03,  2.40411176e-02, -1.92936546e-02,  7.43486940e-03,\n",
       "        6.75638805e-03, -8.33233150e-02,  9.33315628e-03, -5.77408460e-03,\n",
       "       -3.43304094e-04,  1.14166254e-02,  2.27349634e-03, -1.79132075e-02,\n",
       "        1.60842760e-02,  1.01125577e-02,  1.18320387e-02,  1.51663952e-02,\n",
       "       -1.03976749e-02,  1.69762741e-02,  4.31310732e-02, -3.16369238e-02,\n",
       "       -9.23943871e-03, -1.16433886e-02, -5.46156411e-03,  5.45857471e-03,\n",
       "       -1.11660653e-02,  5.21140849e-02,  5.92894832e-03,  2.25596598e-03,\n",
       "        1.96035713e-03, -8.78244391e-02, -7.28268756e-03, -4.00598423e-04,\n",
       "        8.00707010e-03,  1.10302591e-02,  1.12841845e-02, -1.78871815e-02,\n",
       "        8.21402199e-03,  8.01147538e-03, -3.00775877e-02, -9.08256258e-03,\n",
       "        2.27627839e-02,  1.74208949e-02, -4.65785661e-03,  2.59004986e-02,\n",
       "        1.77797604e-02,  1.39825654e-02,  1.48258492e-02,  6.46158187e-03,\n",
       "        2.16815102e-03, -8.84734586e-03, -9.24782191e-03,  2.49470177e-04,\n",
       "        5.59156247e-03, -1.49358271e-02,  2.85990178e-02, -4.32754738e-02,\n",
       "        1.30575204e-02, -1.03054443e-02, -5.47951645e-03,  2.84173689e-03,\n",
       "        7.27471963e-04, -1.17300063e-02, -6.40680112e-04, -4.15314424e-03,\n",
       "       -1.15081437e-03,  1.00173632e-02,  2.40801468e-02, -5.88631977e-03,\n",
       "        1.34872944e-02,  1.62241191e-02, -5.42665661e-03, -1.90746614e-02,\n",
       "        7.53617674e-03, -1.47981570e-02, -1.77501042e-03,  1.29476590e-02,\n",
       "       -6.98671997e-03,  7.47308992e-03, -5.31062548e-03, -2.29605082e-02,\n",
       "        6.46596078e-03,  9.85937975e-03, -1.09582440e-02,  1.65300942e-03,\n",
       "        5.88005459e-03,  2.04249833e-02,  1.78739742e-02,  2.12401607e-02,\n",
       "       -1.22501260e-02,  4.08480004e-02,  5.80404593e-02,  1.93242436e-03,\n",
       "       -1.78427209e-02,  2.19353278e-02, -9.99244631e-03,  4.73067635e-02,\n",
       "        2.66250311e-03, -3.52486296e-03, -7.23056416e-03, -1.71288750e-03,\n",
       "       -2.69099508e-03,  1.87113812e-03, -1.74788027e-02, -1.03157377e-02,\n",
       "       -6.09943903e-03,  1.57072778e-02, -2.34002681e-03,  1.51263648e-03,\n",
       "       -3.04240823e-02, -1.32422770e-02,  2.03294373e-02, -1.92080659e-02,\n",
       "       -3.96457838e-03,  4.88000916e-03, -1.51294029e-02,  2.05884899e-02,\n",
       "        3.38698188e-03,  1.87547435e-03, -1.74101451e-02,  5.60239248e-03,\n",
       "        9.58079228e-03, -3.28148244e-03,  1.98722063e-02, -1.35150190e-02,\n",
       "        1.04367881e-02, -7.14733582e-04,  1.75477164e-02, -4.53050215e-03,\n",
       "        8.77462084e-03,  3.59705929e-03,  7.34780049e-03,  5.32633202e-03,\n",
       "       -5.78097062e-03, -4.40127634e-03,  2.16997904e-02, -1.74995544e-02,\n",
       "        2.58234468e-02,  9.69038209e-04, -1.39653301e-02,  1.55110151e-03,\n",
       "        1.11372253e-02, -1.24180219e-02, -4.37193638e-02,  1.49426534e-03,\n",
       "       -1.20390120e-02, -1.20401249e-02,  3.73646411e-02, -3.20889378e-02,\n",
       "        1.49418223e-02, -9.19917133e-03,  1.73039877e-02,  9.24124912e-03,\n",
       "        2.40494872e-02, -3.45364804e-03, -4.31685467e-03,  1.38828553e-02,\n",
       "        2.36025294e-02,  1.16769755e-02,  1.78952551e-02,  1.60620652e-03,\n",
       "       -1.48806023e-03, -1.13024175e-02, -8.72749083e-03,  9.47293206e-03,\n",
       "        1.57722959e-02, -1.29018997e-02,  3.00525825e-03,  3.99558231e-02,\n",
       "        1.16683296e-02,  1.66906733e-02,  1.91999606e-02, -3.86501928e-03,\n",
       "       -7.38943630e-04,  4.73472095e-03, -1.55984413e-02,  1.54066931e-02,\n",
       "        7.35290496e-03, -2.73998884e-03, -2.06935008e-02,  1.49318855e-02,\n",
       "       -1.23495740e-02, -1.59197557e-02,  2.82570053e-03, -7.26751501e-03,\n",
       "       -1.16378322e-02, -9.23434441e-03, -7.72151235e-03,  1.67073629e-03,\n",
       "        7.00811748e-03,  1.73842487e-02, -1.64313179e-03, -2.10647312e-03,\n",
       "        2.55261002e-03, -5.94853416e-03, -2.18130172e-02,  1.44774517e-02,\n",
       "       -1.61751154e-04,  9.16747222e-03,  8.10006111e-03,  2.70226401e-03,\n",
       "       -1.42918729e-02,  3.00560276e-02, -1.91732229e-02,  2.36394250e-04,\n",
       "        6.43196412e-03,  4.04661969e-06,  9.26019669e-03,  5.77012932e-03,\n",
       "        3.09101314e-02, -1.78455391e-02,  6.28457215e-03,  1.23422785e-02,\n",
       "        4.53067579e-02, -1.51930897e-02, -2.86492542e-03, -1.63689586e-02,\n",
       "        4.85353718e-03, -4.51415790e-03, -6.62223382e-04, -6.08566423e-03,\n",
       "        2.07381040e-02, -2.20356250e-02,  2.50215855e-02, -9.90245507e-03,\n",
       "       -3.71634594e-03,  2.93944063e-02, -1.19490208e-02,  2.27196399e-02,\n",
       "       -7.38151633e-03, -1.24362178e-02, -6.64962489e-03, -1.79456011e-02,\n",
       "       -1.71650339e-02,  4.34889920e-03, -2.89454108e-02, -1.13721108e-02,\n",
       "        1.14973822e-02, -1.88471739e-03, -2.43375016e-03,  1.38804145e-03,\n",
       "        1.48841381e-02,  2.12481927e-02, -1.78146054e-02,  1.09664462e-03,\n",
       "        9.86771373e-03,  1.00128407e-02,  5.14656413e-03, -3.91228246e-03,\n",
       "       -1.54226892e-02,  7.69159947e-05, -1.54732008e-02,  2.19437765e-02,\n",
       "       -2.45399023e-03, -4.97382196e-03, -8.66940265e-03,  3.82648333e-03,\n",
       "       -1.17667146e-02,  3.35478802e-03,  1.39653905e-02, -3.73275050e-03,\n",
       "        2.48595828e-02,  2.00818354e-02, -1.39321791e-02,  9.21284733e-03,\n",
       "       -7.90931940e-03, -1.03683236e-02, -1.55690186e-02, -2.45947767e-02,\n",
       "       -8.89411393e-03,  1.34512753e-02,  2.91094868e-03, -3.62552227e-03,\n",
       "        4.43365504e-03,  1.75989257e-02, -1.44371392e-02, -9.18504516e-03,\n",
       "       -4.75847323e-03, -6.88668307e-03, -4.66168561e-02, -6.84186269e-03,\n",
       "        1.70080071e-02, -5.50126344e-03, -1.83604810e-03,  1.43607406e-02,\n",
       "       -2.07025625e-02,  2.05840742e-02, -1.76427694e-02, -1.03816200e-02,\n",
       "        1.37811996e-02,  4.41592455e-03, -1.30705060e-02,  1.54668763e-02,\n",
       "       -1.47232460e-02, -2.34072420e-03,  2.30300328e-02,  4.81346859e-03,\n",
       "        1.92544141e-02, -2.48946179e-02,  1.73921543e-02, -5.66885157e-03,\n",
       "        1.10299739e-02, -1.01318039e-02, -1.80762961e-02, -2.34314059e-02,\n",
       "       -3.66160720e-02,  1.85503021e-02, -1.32623209e-02, -5.33809620e-03,\n",
       "       -5.47107939e-03, -4.52878600e-03, -4.77466238e-03, -1.31367922e-02,\n",
       "        1.12630369e-02, -8.89271740e-03, -2.47144788e-03,  8.78863573e-03,\n",
       "       -1.95526349e-02, -3.61839300e-06,  2.82005512e-03,  1.06679104e-02,\n",
       "        1.48162965e-02,  3.35983903e-02,  5.95141960e-03,  1.10896501e-02,\n",
       "       -1.04741098e-02, -3.03499221e-02, -8.25451440e-03, -4.65070594e-03,\n",
       "       -5.83284050e-03,  7.92966412e-03,  2.21459559e-02, -2.58382724e-02,\n",
       "        1.09777626e-02,  8.46407013e-03,  4.07332055e-03, -1.03497922e-02,\n",
       "       -3.54465094e-03, -9.87393765e-04, -1.13074381e-02, -4.25334298e-03,\n",
       "       -2.63249627e-05, -7.92991096e-03,  1.46539131e-02,  2.88103323e-03,\n",
       "       -1.13602149e-02,  8.91088034e-03, -9.74536889e-03,  1.56835825e-02,\n",
       "       -7.35831081e-03, -7.47304660e-03, -3.30422412e-03,  2.11419185e-02,\n",
       "       -1.97672955e-02,  1.19489383e-02,  1.81934780e-02, -1.18696070e-02,\n",
       "        1.08164981e-02, -7.78054551e-03, -1.19859406e-02, -2.40798189e-02,\n",
       "        1.27461516e-02, -1.24588609e-02, -1.29544391e-02, -5.81154838e-04,\n",
       "       -3.07473873e-03, -1.73280342e-02,  1.01536403e-02,  9.41928098e-03,\n",
       "        1.59816827e-02, -1.40073424e-02, -3.71089612e-03, -3.27872364e-02,\n",
       "       -9.27147632e-03, -1.29660919e-02, -1.87057213e-02,  1.45798981e-02,\n",
       "       -2.36837074e-03, -4.36583428e-03,  9.67298832e-03,  1.50729765e-02,\n",
       "       -8.82166494e-03,  5.29956467e-04, -3.60359162e-03, -1.25338835e-02,\n",
       "        1.80322475e-02, -9.19318268e-04,  6.85307129e-03, -2.06888543e-02,\n",
       "       -3.11345368e-02, -4.57728235e-03, -6.64095456e-03,  1.22871218e-02,\n",
       "        1.69627215e-03,  9.75773049e-03, -2.23912774e-02, -1.34235038e-02,\n",
       "       -7.82031069e-03, -1.72229668e-02,  7.83592129e-03,  4.07671523e-02,\n",
       "        2.37599756e-03, -4.27728575e-03, -1.66053744e-02,  8.47851823e-03,\n",
       "       -2.96501632e-02, -4.27938211e-03, -7.03573198e-03,  2.79452724e-02,\n",
       "       -1.11855419e-02,  2.39621061e-02, -1.43812763e-02, -9.06694701e-04,\n",
       "        9.24201718e-03, -4.63390996e-03, -3.33795418e-02, -1.45999822e-02,\n",
       "        2.97685594e-03,  2.37465116e-03, -8.64343852e-03,  4.38865907e-03,\n",
       "        2.72220918e-03, -9.98801811e-03, -6.78243189e-03,  1.05616914e-03,\n",
       "        5.77197394e-03,  3.89605062e-03,  3.40510164e-02, -1.07836886e-02,\n",
       "       -9.14201918e-03, -5.97320735e-03,  1.21808704e-02, -6.64446782e-03,\n",
       "        1.46699838e-03, -1.93545025e-02,  8.81028932e-03, -8.86292490e-04,\n",
       "       -8.98310019e-03,  3.05740216e-03, -1.32494839e-02,  1.39769781e-02,\n",
       "       -2.06156521e-02,  1.91584342e-02, -8.42903118e-03, -1.44784099e-02,\n",
       "        1.13713593e-03,  2.96581613e-02,  1.45030852e-02, -3.45447540e-03,\n",
       "       -1.33728909e-02,  2.22666936e-02,  1.00902547e-02, -2.81679260e-02,\n",
       "       -6.20035751e-03, -2.12499835e-02, -1.67619258e-03, -1.44562249e-02,\n",
       "       -8.80813281e-04,  6.81937312e-03,  1.71534180e-02, -7.22116358e-03,\n",
       "       -5.68485680e-03,  8.45389080e-03,  6.92178445e-03, -2.18060236e-02,\n",
       "        3.50829942e-02,  3.68417706e-05, -9.30581295e-03,  5.59849000e-03,\n",
       "        1.15574416e-02, -2.27901833e-02, -2.12392854e-03, -3.40245764e-02,\n",
       "       -6.58923597e-04, -1.10334350e-02, -1.21433002e-02,  2.47885072e-02,\n",
       "        9.68216694e-03,  9.75276214e-04, -1.15395811e-03,  1.40968697e-02,\n",
       "        1.35826004e-02,  1.33522813e-02, -7.01848443e-03, -1.40107467e-02,\n",
       "       -1.48430552e-02, -2.13715330e-03, -1.17240188e-02, -6.43455597e-03,\n",
       "       -1.72545769e-03, -4.34833078e-03, -8.90535893e-03, -1.34829313e-02,\n",
       "        4.90890575e-02, -2.29844874e-02,  7.30761772e-03, -3.63037041e-02,\n",
       "       -1.02250305e-02, -9.72769475e-03, -1.49766729e-02, -2.16031870e-03,\n",
       "        1.29457873e-02,  1.00822056e-02,  1.19017994e-02,  2.12687806e-02,\n",
       "        2.12220417e-02,  2.50356502e-02,  4.88879822e-03, -1.19150127e-02,\n",
       "        9.91660814e-03,  7.10095973e-03, -1.66044405e-02, -3.82049078e-02,\n",
       "        4.01277202e-03,  2.53487725e-02, -8.95230602e-03,  3.68065800e-02,\n",
       "       -3.62153072e-04, -1.06212818e-02, -1.72699446e-02, -5.75322826e-03,\n",
       "        1.74555742e-02,  2.06195725e-03, -1.27486558e-03, -1.14269933e-02,\n",
       "       -1.48571171e-03, -7.47930401e-03, -3.09286492e-02, -6.04554041e-03,\n",
       "        9.78145994e-03,  3.38168963e-03,  1.37773317e-02,  3.19555836e-02,\n",
       "       -8.28034375e-03, -1.27781873e-02,  2.21658192e-02,  1.83062144e-02,\n",
       "       -2.91852040e-03,  1.64084088e-02, -9.30770275e-03,  1.96496712e-02,\n",
       "       -5.84489904e-03, -1.09085849e-03,  1.07069907e-02, -1.38277047e-03,\n",
       "       -1.00293746e-03, -1.34552397e-02,  2.39577547e-02, -1.51941582e-02,\n",
       "        1.00989475e-02,  1.67206114e-02,  1.09581448e-02, -4.03580284e-03,\n",
       "        7.27342382e-03, -1.19865052e-02, -1.72748456e-02,  3.33167078e-02,\n",
       "        1.50211727e-02,  1.81801970e-03, -6.42279940e-04, -1.72772965e-03,\n",
       "        1.16340961e-02, -1.32536409e-02, -2.17837128e-02,  2.14191820e-03,\n",
       "       -9.24789051e-04,  3.67206359e-02,  4.48517881e-03,  1.87038287e-02,\n",
       "       -2.64979999e-02, -1.07907926e-02, -3.33670414e-03,  1.15990325e-02,\n",
       "       -3.09872933e-02, -2.56478233e-03,  1.27105209e-02,  1.98614494e-02,\n",
       "        8.28710465e-03,  3.70995163e-04, -2.91803194e-03,  4.86531676e-04,\n",
       "        9.02497630e-03, -1.89545770e-02,  3.45781021e-03, -1.09199296e-02,\n",
       "       -6.09940367e-03, -3.91504549e-03, -7.92516384e-03, -4.70512825e-03,\n",
       "       -8.49836361e-03,  2.19945093e-02, -3.84403335e-03,  7.43271153e-03,\n",
       "        2.37627836e-03, -1.05998038e-02,  4.10242049e-02, -8.41547778e-03,\n",
       "        7.18875535e-03,  1.13994586e-02, -4.69965383e-03, -5.30520151e-03,\n",
       "        6.90310087e-04, -1.04204275e-02,  1.50954234e-02,  2.08019078e-02,\n",
       "        2.21144009e-02, -2.30199021e-02,  8.84524065e-03,  1.14746428e-02,\n",
       "        5.65320163e-03, -4.79078716e-03,  2.24179287e-03,  8.75940445e-03,\n",
       "        1.76100916e-02, -6.80899733e-03, -1.28920778e-02, -2.54492596e-02,\n",
       "        1.79161369e-03, -3.88670423e-03, -8.23073723e-03, -9.24704061e-03,\n",
       "        5.23902590e-03, -5.47424215e-03,  3.61276572e-03, -5.19662480e-03,\n",
       "       -2.08741385e-03, -2.24910355e-02,  1.11578234e-03,  2.31167393e-02,\n",
       "        1.92055203e-04,  1.46139250e-02,  5.95095507e-03,  1.66050902e-04,\n",
       "        4.89532083e-03, -5.82298879e-03,  5.74691592e-03, -1.23541481e-02,\n",
       "        1.80250360e-02, -1.00383802e-02,  3.79326656e-02,  2.35211003e-02,\n",
       "       -4.97702461e-03, -1.99834802e-03, -1.07955548e-02,  8.49788408e-03,\n",
       "        1.04195254e-02, -2.98951686e-02, -7.38042351e-04,  3.06941828e-04,\n",
       "        1.39222862e-02,  2.97062263e-02,  7.49992941e-03, -7.14886179e-04,\n",
       "       -1.48940239e-02,  9.27080112e-03, -1.63996622e-02,  3.36604587e-02,\n",
       "        2.15948446e-02, -7.98087225e-03,  8.59477579e-03, -1.38402651e-02,\n",
       "       -1.51917657e-02,  1.20220754e-02, -6.62305145e-03,  1.12537392e-02,\n",
       "        7.86348093e-02,  1.30669141e-02,  2.88008163e-03,  1.11773829e-02,\n",
       "        2.19572360e-02, -8.14469300e-03,  2.49287861e-02,  1.91034342e-02,\n",
       "        1.20533824e-02,  1.14463888e-02, -2.37064276e-02,  3.21616958e-02,\n",
       "       -2.94805213e-02, -4.63128665e-02,  9.85935466e-03, -1.68357586e-02,\n",
       "       -1.84837222e-04, -2.64799620e-02, -2.37031355e-04,  1.22666266e-02,\n",
       "        4.42509539e-04,  7.60824965e-03,  8.10014149e-03, -1.67126282e-03,\n",
       "        1.98758897e-02,  4.74433583e-03, -1.88262486e-02,  2.14554064e-02,\n",
       "        2.70840811e-04,  2.51680193e-03, -1.31188293e-02,  3.69256920e-03,\n",
       "       -3.38692711e-02, -1.17296892e-03, -2.84510576e-02, -1.15179126e-02,\n",
       "        8.47003498e-03,  3.34124609e-02, -3.03675518e-02, -7.30511342e-03,\n",
       "       -1.66439417e-02, -4.51347829e-02, -1.08480871e-02,  2.50205785e-04,\n",
       "       -9.64104954e-03,  2.25121986e-02, -1.18213188e-02,  9.41586833e-03,\n",
       "        7.04680579e-03, -2.05100379e-03,  2.60503149e-02,  4.30792040e-04,\n",
       "       -1.13479716e-02,  2.84729594e-02,  6.97078825e-03, -4.52951578e-03,\n",
       "       -3.34211295e-03, -3.92330003e-03,  1.88546518e-02,  4.16737981e-03,\n",
       "       -4.11576562e-02,  1.16996668e-02,  7.04910138e-03,  1.03847005e-02,\n",
       "        7.15112120e-03,  1.03238274e-03, -7.43430763e-04,  8.03790397e-03,\n",
       "       -1.51937900e-03,  7.69539489e-03, -1.16996884e-02,  3.62848026e-03,\n",
       "        1.44114953e-03, -7.40927333e-03,  1.99762654e-02,  6.63200908e-04,\n",
       "       -5.89553389e-03, -1.95595487e-03, -3.20056512e-02,  1.16492798e-02,\n",
       "        2.84081406e-03,  1.00544956e-03, -2.86377293e-03, -1.01243545e-02,\n",
       "       -8.52884924e-03,  1.17161079e-02, -6.63287549e-03,  4.34809254e-03,\n",
       "       -8.72790577e-03,  1.20141387e-02, -6.57139513e-02, -4.81774860e-03,\n",
       "       -1.51335313e-03,  7.74068431e-03, -5.34020246e-03, -1.04296443e-03,\n",
       "        1.93489174e-02, -4.00848898e-02, -3.34146113e-03, -3.38226170e-02,\n",
       "       -8.76065953e-03,  1.41768602e-02,  3.81602008e-03,  3.06068181e-03,\n",
       "       -2.01187452e-02,  4.09510161e-03, -3.94683877e-03, -8.11799271e-03,\n",
       "       -7.17059783e-03,  4.11757793e-03,  1.11317474e-02,  2.38437238e-02,\n",
       "       -4.62183802e-03,  5.91417534e-03,  1.78947550e-02, -2.87254716e-03,\n",
       "        2.64282937e-02,  4.43628271e-04,  4.98720046e-02,  3.66616893e-02,\n",
       "       -1.59152786e-02, -1.43143893e-04,  6.07769016e-03, -2.53993823e-02,\n",
       "        5.78024859e-03, -1.62927334e-02,  6.78535607e-03, -2.12238257e-02,\n",
       "       -6.21208202e-03, -1.62426995e-02,  1.76919908e-02,  8.74000001e-03,\n",
       "        3.27979594e-02, -2.03374628e-03, -1.56035611e-02,  6.23889887e-03,\n",
       "        7.90007324e-03,  3.54007375e-02, -3.03273787e-03, -1.66805881e-02,\n",
       "       -2.20201086e-02, -1.43768901e-03, -4.38750310e-03,  2.50765030e-02,\n",
       "        1.38601973e-02, -1.53641434e-02,  1.18205264e-02, -6.63473242e-03,\n",
       "       -2.42782789e-02, -9.79780961e-03,  9.09228412e-03, -1.60651203e-02,\n",
       "       -7.08825933e-03,  1.31863648e-02, -1.25921643e-02, -5.41257683e-03,\n",
       "        1.81713242e-02,  1.09958778e-03, -1.18452835e-02, -1.49052352e-02,\n",
       "        1.34116162e-02,  1.18527055e-02, -1.39555008e-02,  3.31936071e-03,\n",
       "        1.18600205e-02,  1.47893947e-02, -2.38004948e-02,  1.30087392e-03,\n",
       "        1.60876625e-02,  1.80724117e-02,  1.59413661e-02,  5.25251002e-04,\n",
       "       -3.06698094e-03, -1.12815989e-02, -2.69805197e-02, -2.42391319e-02,\n",
       "        1.82236398e-02, -1.71207654e-03,  1.32116039e-03,  1.93446897e-03,\n",
       "       -2.07708862e-02,  1.58088489e-02, -9.38038233e-03,  3.01244368e-02,\n",
       "        3.19071978e-03,  1.39166126e-02,  1.04014689e-02, -1.04560617e-03,\n",
       "       -4.00966730e-03, -2.17922691e-02,  5.83499661e-03, -4.58337796e-03,\n",
       "        9.17016888e-03, -1.27046343e-02,  1.42026151e-02, -1.75006905e-02,\n",
       "        6.50788537e-03,  4.11996458e-06,  5.30946204e-05, -8.14388863e-03,\n",
       "        2.54047932e-02, -2.53780881e-02,  4.64950662e-02, -4.58290686e-03,\n",
       "        1.89876420e-03,  1.43729978e-02, -2.63460461e-02,  2.70785976e-03,\n",
       "       -1.74392200e-02, -2.39308477e-02,  6.98030744e-03,  8.10704923e-03,\n",
       "        1.12287662e-02,  4.20535618e-04, -5.55966382e-02,  3.28636252e-02,\n",
       "       -1.90290928e-02, -5.89715308e-03,  2.05945570e-02,  2.03246762e-02,\n",
       "        1.29271779e-02,  6.89317826e-03,  2.47284230e-02,  2.56447262e-03,\n",
       "        1.05189308e-02, -1.09291563e-02,  3.27564419e-02, -2.21585060e-03,\n",
       "        6.62081690e-05, -2.47505012e-03,  5.36883381e-04,  6.01492220e-03,\n",
       "        2.14385739e-02, -1.59620881e-02,  4.64516063e-03,  6.65065039e-03,\n",
       "       -6.67867634e-03,  2.68480857e-03,  1.48659124e-02, -1.54204051e-02,\n",
       "        2.07067248e-02, -1.12127254e-02, -2.39730350e-02,  1.72440797e-02,\n",
       "        2.55712370e-02, -1.04826947e-02, -1.66244309e-02, -1.47388148e-02,\n",
       "        8.06719671e-03, -5.76916615e-03, -1.69688197e-03,  5.80966395e-03,\n",
       "       -3.87050214e-03,  2.62325709e-02,  3.23803920e-03,  7.27658849e-03,\n",
       "       -9.94754547e-03,  2.50153356e-03, -2.63443434e-03,  2.58373902e-02,\n",
       "       -1.15054112e-02, -1.14311351e-02,  1.26823395e-02, -5.17029933e-03,\n",
       "        6.89400002e-03,  1.91482894e-02,  8.24817144e-03, -2.00105671e-02])"
      ]
     },
     "execution_count": 17,
     "metadata": {},
     "output_type": "execute_result"
    }
   ],
   "source": [
    "node_embs = rag.model.entity.weight.data.cpu().numpy()\n",
    "print(len(node_embs))\n",
    "node_embs[nodes_id_idx[1]]"
   ]
  }
 ],
 "metadata": {
  "kernelspec": {
   "display_name": "Python 3 (ipykernel)",
   "language": "python",
   "name": "python3"
  },
  "language_info": {
   "codemirror_mode": {
    "name": "ipython",
    "version": 3
   },
   "file_extension": ".py",
   "mimetype": "text/x-python",
   "name": "python",
   "nbconvert_exporter": "python",
   "pygments_lexer": "ipython3",
   "version": "3.10.17"
  }
 },
 "nbformat": 4,
 "nbformat_minor": 5
}
