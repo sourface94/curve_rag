{
 "cells": [
  {
   "cell_type": "code",
   "execution_count": 27,
   "id": "e7554f5f-4846-401f-b552-7d3a4913abc9",
   "metadata": {},
   "outputs": [
    {
     "name": "stdout",
     "output_type": "stream",
     "text": [
      "The autoreload extension is already loaded. To reload it, use:\n",
      "  %reload_ext autoreload\n"
     ]
    }
   ],
   "source": [
    "%load_ext autoreload\n",
    "%autoreload 2"
   ]
  },
  {
   "cell_type": "code",
   "execution_count": 1,
   "id": "75d44625-276b-4a71-8579-a863dfdd386a",
   "metadata": {},
   "outputs": [],
   "source": [
    "import llama_cpp\n",
    "from curverag import utils\n",
    "from curverag.curverag import CurveRAG"
   ]
  },
  {
   "cell_type": "markdown",
   "id": "b54db7ac-f8fc-4e93-9856-d9095cb83b3b",
   "metadata": {},
   "source": [
    "## Dataset and LLM"
   ]
  },
  {
   "cell_type": "code",
   "execution_count": 2,
   "id": "1d1b1091-7820-423a-9515-55de2e82e6c7",
   "metadata": {},
   "outputs": [],
   "source": [
    "max_tokens = 10000\n",
    "n_ctx=10000\n",
    "\n",
    "docs = [\n",
    "    \"The patient was diagnosed with type 2 diabetes mellitus and prescribed metformin 500mg twice daily.\",\n",
    "    \"MRI scan revealed a small lesion in the left temporal lobe suggestive of low-grade glioma.\",\n",
    "    \"Administer 5mg of lorazepam intravenously for acute seizure management.\",\n",
    "    \"Blood tests showed elevated ALT and AST levels, indicating possible liver inflammation.\",\n",
    "    \"The subject reported chronic lower back pain, managed with physical therapy and NSAIDs.\",\n",
    "    \"CT angiography confirmed the presence of a pulmonary embolism in the right lower lobe.\",\n",
    "    \"The patient underwent coronary artery bypass graft surgery without complications.\",\n",
    "    \"Routine vaccination included MMR, tetanus, and influenza immunizations.\",\n",
    "    \"Histopathology indicated ductal carcinoma in situ (DCIS) in the breast biopsy sample.\",\n",
    "    \"The child presented with a persistent cough and fever, diagnosed as streptococcal pharyngitis.\"\n",
    "]\n"
   ]
  },
  {
   "cell_type": "code",
   "execution_count": null,
   "id": "f39d7da3-c3b7-4455-8bd3-97b50120dbb8",
   "metadata": {},
   "outputs": [],
   "source": [
    "model = utils.load_model(\n",
    "    llm_model_path=\"./models/Meta-Llama-3-8B-Instruct.Q6_K.gguf\",\n",
    "    tokenizer=llama_cpp.llama_tokenizer.LlamaHFTokenizer.from_pretrained(\"unsloth/Llama-3.2-1B-Instruct\"),\n",
    "    n_ctx=n_ctx,\n",
    "    max_tokens=max_tokens\n",
    ")"
   ]
  },
  {
   "cell_type": "markdown",
   "id": "355f6a39-77a2-41ef-8901-624096fdca7f",
   "metadata": {},
   "source": [
    "## Fit CurveRAG"
   ]
  },
  {
   "cell_type": "code",
   "execution_count": 4,
   "id": "c65c2378-fa13-429f-85ab-96daa2b6117a",
   "metadata": {},
   "outputs": [],
   "source": [
    "rag = CurveRAG(llm=model)"
   ]
  },
  {
   "cell_type": "code",
   "execution_count": null,
   "id": "eaa03b50-b55a-4abc-994f-df570c791796",
   "metadata": {},
   "outputs": [],
   "source": [
    "rag.fit(docs, dataset_name='test_run')"
   ]
  },
  {
   "cell_type": "code",
   "execution_count": 9,
   "id": "4afc5868-24d8-40be-a861-d5921c9793d1",
   "metadata": {},
   "outputs": [
    {
     "data": {
      "text/plain": [
       "45"
      ]
     },
     "execution_count": 9,
     "metadata": {},
     "output_type": "execute_result"
    }
   ],
   "source": [
    "len(rag.graph.nodes)"
   ]
  },
  {
   "cell_type": "code",
   "execution_count": 11,
   "id": "c50e5bd4-6388-49ae-aa39-3e1cc5fc962c",
   "metadata": {},
   "outputs": [],
   "source": [
    "nodes_id_idx = rag.dataset.nodes_id_idx"
   ]
  },
  {
   "cell_type": "code",
   "execution_count": 19,
   "id": "659193a4-ed40-42ee-bb6c-aac68a664baa",
   "metadata": {},
   "outputs": [
    {
     "name": "stdout",
     "output_type": "stream",
     "text": [
      "45\n"
     ]
    },
    {
     "data": {
      "text/plain": [
       "array([ 0.00581928, -0.02819522,  0.0190266 , -0.00319721, -0.00893134])"
      ]
     },
     "execution_count": 19,
     "metadata": {},
     "output_type": "execute_result"
    }
   ],
   "source": [
    "node_embs = rag.model.entity.weight.data.cpu().numpy()\n",
    "print(len(node_embs))\n",
    "node_embs[nodes_id_idx[1]][:5]"
   ]
  }
 ],
 "metadata": {
  "kernelspec": {
   "display_name": "Python 3 (ipykernel)",
   "language": "python",
   "name": "python3"
  },
  "language_info": {
   "codemirror_mode": {
    "name": "ipython",
    "version": 3
   },
   "file_extension": ".py",
   "mimetype": "text/x-python",
   "name": "python",
   "nbconvert_exporter": "python",
   "pygments_lexer": "ipython3",
   "version": "3.10.17"
  }
 },
 "nbformat": 4,
 "nbformat_minor": 5
}
