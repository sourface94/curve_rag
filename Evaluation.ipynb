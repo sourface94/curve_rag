{
 "cells": [
  {
   "cell_type": "code",
   "execution_count": 1,
   "id": "a0c26715",
   "metadata": {},
   "outputs": [],
   "source": [
    "%load_ext autoreload\n",
    "%autoreload 2"
   ]
  },
  {
   "cell_type": "code",
   "execution_count": 7,
   "id": "d66900bc",
   "metadata": {},
   "outputs": [],
   "source": [
    "import json\n",
    "\n",
    "import llama_cpp\n",
    "import torch\n",
    "\n",
    "from curverag import utils\n",
    "from curverag.curverag import CurveRAG, DEFAULT_ENTITY_TYPES, DEFAULT_GLINER_MODEL, DEFAULT_SENTENCE_TRANSFORMER_MODEL\n",
    "from curverag.graph import KnowledgeGraph\n",
    "from curverag.atth.kg_dataset import KGDataset\n",
    "from curverag.atth.models.hyperbolic import AttH\n",
    "from curverag.eval import evaluation, queries, context, expected_output"
   ]
  },
  {
   "cell_type": "code",
   "execution_count": null,
   "id": "451d9c84-efe0-4304-a965-578832501932",
   "metadata": {},
   "outputs": [],
   "source": [
    "max_tokens = 10000\n",
    "n_ctx=10000\n",
    "\n",
    "llm, outlines_model = utils.load_model(\n",
    "    llm_model_path=\"./models/Meta-Llama-3-8B-Instruct.Q6_K.gguf\",\n",
    "    tokenizer=llama_cpp.llama_tokenizer.LlamaHFTokenizer.from_pretrained(\"unsloth/Llama-3.2-1B-Instruct\"),\n",
    "    n_ctx=n_ctx,\n",
    "    max_tokens=max_tokens\n",
    ")"
   ]
  },
  {
   "cell_type": "code",
   "execution_count": 25,
   "id": "886c4eb3-ce85-4209-aea9-f8322244a878",
   "metadata": {},
   "outputs": [
    {
     "data": {
      "application/vnd.jupyter.widget-view+json": {
       "model_id": "47bfc5eb3fc740d79d0f0fcc83ffadff",
       "version_major": 2,
       "version_minor": 0
      },
      "text/plain": [
       "Fetching 5 files:   0%|          | 0/5 [00:00<?, ?it/s]"
      ]
     },
     "metadata": {},
     "output_type": "display_data"
    }
   ],
   "source": [
    "entity_types = ['person', 'location', 'name']\n",
    "rag = CurveRAG(\n",
    "    llm,\n",
    "    outlines_model,\n",
    "    entity_types,\n",
    ")"
   ]
  },
  {
   "cell_type": "code",
   "execution_count": 18,
   "id": "06f8e118-15ea-4a9a-b224-e7bbb0f70ab7",
   "metadata": {},
   "outputs": [
    {
     "data": {
      "text/plain": [
       "['\\nJack and Jill are adult siblings. Jakc just turnt 45 years old as it was his birthday 2 days ago and Jill is also 45; you gussed it they are twins. Jack and Jill bumped into their friend Sam and Sam seemed to be very upset. They know Sam has been single for a long time so they told Sam to talk to their friend who they think could be a good match for Sam. One year later and Sam and hey friend were dating and had even moved to Romania in a massive Castle. Sam is very happy now and they have a \"happily ever after\" story, which is fantastic.\\n']"
      ]
     },
     "execution_count": 18,
     "metadata": {},
     "output_type": "execute_result"
    }
   ],
   "source": [
    "docs"
   ]
  },
  {
   "cell_type": "code",
   "execution_count": 22,
   "id": "25dfda31-3030-44da-b983-0d17a279e1d4",
   "metadata": {},
   "outputs": [],
   "source": [
    "docs = [\n",
    "    \"The patient was diagnosed with type 2 diabetes mellitus and prescribed metformin 500mg twice daily.\",\n",
    "    \"MRI scan revealed a small lesion in the left temporal lobe suggestive of low-grade glioma.\",\n",
    "    \"Administer 5mg of lorazepam intravenously for acute seizure management.\",\n",
    "    \"Blood tests showed elevated ALT and AST levels, indicating possible liver inflammation.\",\n",
    "    \"The subject reported chronic lower back pain, managed with physical therapy and NSAIDs.\",\n",
    "    \"CT angiography confirmed the presence of a pulmonary embolism in the right lower lobe.\",\n",
    "    \"The patient underwent coronary artery bypass graft surgery without complications.\",\n",
    "    \"Routine vaccination included MMR, tetanus, and influenza immunizations.\",\n",
    "    \"Histopathology indicated ductal carcinoma in situ (DCIS) in the breast biopsy sample.\",\n",
    "    \"The child presented with a persistent cough and fever, diagnosed as streptococcal pharyngitis.\"\n",
    "]"
   ]
  },
  {
   "cell_type": "code",
   "execution_count": 32,
   "id": "83836ea2-4da5-4853-8fe1-b0ddbdd5bb96",
   "metadata": {},
   "outputs": [],
   "source": [
    "docs = [\n",
    "    context,\n",
    "    \"The patient was diagnosed with type 2 diabetes mellitus and prescribed metformin 500mg twice daily.\",\n",
    "    \"MRI scan revealed a small lesion in the left temporal lobe suggestive of low-grade glioma.\",\n",
    "]"
   ]
  },
  {
   "cell_type": "code",
   "execution_count": 33,
   "id": "2e3cab56-c589-481e-a615-fc8530546977",
   "metadata": {},
   "outputs": [
    {
     "name": "stdout",
     "output_type": "stream",
     "text": [
      "creating graph\n"
     ]
    },
    {
     "name": "stderr",
     "output_type": "stream",
     "text": [
      "  0%|                                                                                                                                                                                           | 0/3 [00:00<?, ?it/s]llama_perf_context_print:        load time =   17670.87 ms\n",
      "llama_perf_context_print: prompt eval time =   18923.90 ms /   721 tokens (   26.25 ms per token,    38.10 tokens per second)\n",
      "llama_perf_context_print:        eval time =  697234.84 ms /   466 runs   ( 1496.21 ms per token,     0.67 tokens per second)\n",
      "llama_perf_context_print:       total time =  720554.57 ms /  1187 tokens\n",
      " 33%|███████████████████████████████████████████████████████████▎                                                                                                                      | 1/3 [12:00<24:01, 720.58s/it]llama_perf_context_print:        load time =   17670.87 ms\n",
      "llama_perf_context_print: prompt eval time =   11584.95 ms /   959 tokens (   12.08 ms per token,    82.78 tokens per second)\n",
      "llama_perf_context_print:        eval time =   69261.56 ms /   697 runs   (   99.37 ms per token,    10.06 tokens per second)\n",
      "llama_perf_context_print:       total time =   87979.25 ms /  1656 tokens\n",
      " 67%|██████████████████████████████████████████████████████████████████████████████████████████████████████████████████████▋                                                           | 2/3 [13:28<05:48, 348.48s/it]llama_perf_context_print:        load time =   17670.87 ms\n",
      "llama_perf_context_print: prompt eval time =   17360.56 ms /  1484 tokens (   11.70 ms per token,    85.48 tokens per second)\n",
      "llama_perf_context_print:        eval time =   33335.71 ms /   258 runs   (  129.21 ms per token,     7.74 tokens per second)\n",
      "llama_perf_context_print:       total time =   54042.92 ms /  1742 tokens\n",
      "100%|██████████████████████████████████████████████████████████████████████████████████████████████████████████████████████████████████████████████████████████████████████████████████| 3/3 [14:22<00:00, 287.55s/it]\n",
      "2025-05-21 01:05:58,483 INFO     Saving logs in: ./logs/05_21/jack_jill/AttH_01_05_58\n",
      "2025-05-21 01:05:58,483 INFO     Saving logs in: ./logs/05_21/jack_jill/AttH_01_05_58\n",
      "2025-05-21 01:05:58,483 INFO     Saving logs in: ./logs/05_21/jack_jill/AttH_01_05_58\n",
      "2025-05-21 01:05:58,485 INFO     \t (20, 32, 20)\n",
      "2025-05-21 01:05:58,485 INFO     \t (20, 32, 20)\n",
      "2025-05-21 01:05:58,485 INFO     \t (20, 32, 20)\n",
      "2025-05-21 01:05:58,502 INFO     Total number of parameters 180072\n",
      "2025-05-21 01:05:58,502 INFO     Total number of parameters 180072\n",
      "2025-05-21 01:05:58,502 INFO     Total number of parameters 180072\n",
      "2025-05-21 01:05:58,505 INFO     \t Start training\n",
      "2025-05-21 01:05:58,505 INFO     \t Start training\n",
      "2025-05-21 01:05:58,505 INFO     \t Start training\n"
     ]
    },
    {
     "name": "stdout",
     "output_type": "stream",
     "text": [
      "creating dataset\n",
      "train kg embeddings\n"
     ]
    },
    {
     "name": "stderr",
     "output_type": "stream",
     "text": [
      "train loss: 100%|████████████████████████████████████████████████████████████████████████████████████████████████████████████████████████████████████████████████████████| 30/30 [00:00<00:00, 94.38ex/s, loss=0.6883]\n",
      "2025-05-21 01:05:58,827 INFO     \t Epoch 0 | average train loss: 0.6883\n",
      "2025-05-21 01:05:58,827 INFO     \t Epoch 0 | average train loss: 0.6883\n",
      "2025-05-21 01:05:58,827 INFO     \t Epoch 0 | average train loss: 0.6883\n",
      "2025-05-21 01:05:58,830 INFO     \t Epoch 0 | average valid loss: 2.1058\n",
      "2025-05-21 01:05:58,830 INFO     \t Epoch 0 | average valid loss: 2.1058\n",
      "2025-05-21 01:05:58,830 INFO     \t Epoch 0 | average valid loss: 2.1058\n",
      "train loss: 100%|███████████████████████████████████████████████████████████████████████████████████████████████████████████████████████████████████████████████████████| 30/30 [00:00<00:00, 129.59ex/s, loss=2.1058]\n",
      "2025-05-21 01:05:59,064 INFO     \t Epoch 1 | average train loss: 2.1058\n",
      "2025-05-21 01:05:59,064 INFO     \t Epoch 1 | average train loss: 2.1058\n",
      "2025-05-21 01:05:59,064 INFO     \t Epoch 1 | average train loss: 2.1058\n",
      "2025-05-21 01:05:59,069 INFO     \t Epoch 1 | average valid loss: 1.9965\n",
      "2025-05-21 01:05:59,069 INFO     \t Epoch 1 | average valid loss: 1.9965\n",
      "2025-05-21 01:05:59,069 INFO     \t Epoch 1 | average valid loss: 1.9965\n",
      "train loss: 100%|███████████████████████████████████████████████████████████████████████████████████████████████████████████████████████████████████████████████████████| 30/30 [00:00<00:00, 152.44ex/s, loss=1.9965]\n",
      "2025-05-21 01:05:59,269 INFO     \t Epoch 2 | average train loss: 1.9965\n",
      "2025-05-21 01:05:59,269 INFO     \t Epoch 2 | average train loss: 1.9965\n",
      "2025-05-21 01:05:59,269 INFO     \t Epoch 2 | average train loss: 1.9965\n",
      "2025-05-21 01:05:59,274 INFO     \t Epoch 2 | average valid loss: 1.9275\n",
      "2025-05-21 01:05:59,274 INFO     \t Epoch 2 | average valid loss: 1.9275\n",
      "2025-05-21 01:05:59,274 INFO     \t Epoch 2 | average valid loss: 1.9275\n",
      "2025-05-21 01:05:59,282 INFO     \t valid MR: 19.50 | MRR: 0.051 | H@1: 0.000 | H@3: 0.000 | H@10: 0.000\n",
      "2025-05-21 01:05:59,282 INFO     \t valid MR: 19.50 | MRR: 0.051 | H@1: 0.000 | H@3: 0.000 | H@10: 0.000\n",
      "2025-05-21 01:05:59,282 INFO     \t valid MR: 19.50 | MRR: 0.051 | H@1: 0.000 | H@3: 0.000 | H@10: 0.000\n",
      "2025-05-21 01:05:59,283 INFO     \t Saving model at epoch 2 in ./logs/05_21/jack_jill/AttH_01_05_58\n",
      "2025-05-21 01:05:59,283 INFO     \t Saving model at epoch 2 in ./logs/05_21/jack_jill/AttH_01_05_58\n",
      "2025-05-21 01:05:59,283 INFO     \t Saving model at epoch 2 in ./logs/05_21/jack_jill/AttH_01_05_58\n"
     ]
    },
    {
     "name": "stdout",
     "output_type": "stream",
     "text": [
      "rhs\n",
      "got (6, 3)\n",
      "lhs\n",
      "got (11, 3)\n"
     ]
    },
    {
     "name": "stderr",
     "output_type": "stream",
     "text": [
      "train loss: 100%|███████████████████████████████████████████████████████████████████████████████████████████████████████████████████████████████████████████████████████| 30/30 [00:00<00:00, 191.49ex/s, loss=1.9275]\n",
      "2025-05-21 01:05:59,450 INFO     \t Epoch 3 | average train loss: 1.9275\n",
      "2025-05-21 01:05:59,450 INFO     \t Epoch 3 | average train loss: 1.9275\n",
      "2025-05-21 01:05:59,450 INFO     \t Epoch 3 | average train loss: 1.9275\n",
      "2025-05-21 01:05:59,454 INFO     \t Epoch 3 | average valid loss: 1.8759\n",
      "2025-05-21 01:05:59,454 INFO     \t Epoch 3 | average valid loss: 1.8759\n",
      "2025-05-21 01:05:59,454 INFO     \t Epoch 3 | average valid loss: 1.8759\n",
      "train loss: 100%|███████████████████████████████████████████████████████████████████████████████████████████████████████████████████████████████████████████████████████| 30/30 [00:00<00:00, 222.83ex/s, loss=1.6482]\n",
      "2025-05-21 01:05:59,590 INFO     \t Epoch 4 | average train loss: 1.6482\n",
      "2025-05-21 01:05:59,590 INFO     \t Epoch 4 | average train loss: 1.6482\n",
      "2025-05-21 01:05:59,590 INFO     \t Epoch 4 | average train loss: 1.6482\n",
      "2025-05-21 01:05:59,595 INFO     \t Epoch 4 | average valid loss: 1.8524\n",
      "2025-05-21 01:05:59,595 INFO     \t Epoch 4 | average valid loss: 1.8524\n",
      "2025-05-21 01:05:59,595 INFO     \t Epoch 4 | average valid loss: 1.8524\n",
      "train loss: 100%|███████████████████████████████████████████████████████████████████████████████████████████████████████████████████████████████████████████████████████| 30/30 [00:00<00:00, 250.70ex/s, loss=1.3794]\n",
      "2025-05-21 01:05:59,716 INFO     \t Epoch 5 | average train loss: 1.3794\n",
      "2025-05-21 01:05:59,716 INFO     \t Epoch 5 | average train loss: 1.3794\n",
      "2025-05-21 01:05:59,716 INFO     \t Epoch 5 | average train loss: 1.3794\n",
      "2025-05-21 01:05:59,720 INFO     \t Epoch 5 | average valid loss: 1.6657\n",
      "2025-05-21 01:05:59,720 INFO     \t Epoch 5 | average valid loss: 1.6657\n",
      "2025-05-21 01:05:59,720 INFO     \t Epoch 5 | average valid loss: 1.6657\n",
      "2025-05-21 01:05:59,723 INFO     \t valid MR: 9.50 | MRR: 0.528 | H@1: 0.500 | H@3: 0.500 | H@10: 0.500\n",
      "2025-05-21 01:05:59,723 INFO     \t valid MR: 9.50 | MRR: 0.528 | H@1: 0.500 | H@3: 0.500 | H@10: 0.500\n",
      "2025-05-21 01:05:59,723 INFO     \t valid MR: 9.50 | MRR: 0.528 | H@1: 0.500 | H@3: 0.500 | H@10: 0.500\n",
      "2025-05-21 01:05:59,723 INFO     \t Saving model at epoch 5 in ./logs/05_21/jack_jill/AttH_01_05_58\n",
      "2025-05-21 01:05:59,723 INFO     \t Saving model at epoch 5 in ./logs/05_21/jack_jill/AttH_01_05_58\n",
      "2025-05-21 01:05:59,723 INFO     \t Saving model at epoch 5 in ./logs/05_21/jack_jill/AttH_01_05_58\n"
     ]
    },
    {
     "name": "stdout",
     "output_type": "stream",
     "text": [
      "rhs\n",
      "got (6, 3)\n",
      "lhs\n",
      "got (11, 3)\n"
     ]
    },
    {
     "name": "stderr",
     "output_type": "stream",
     "text": [
      "train loss: 100%|███████████████████████████████████████████████████████████████████████████████████████████████████████████████████████████████████████████████████████| 30/30 [00:00<00:00, 192.56ex/s, loss=0.8823]\n",
      "2025-05-21 01:05:59,885 INFO     \t Epoch 6 | average train loss: 0.8823\n",
      "2025-05-21 01:05:59,885 INFO     \t Epoch 6 | average train loss: 0.8823\n",
      "2025-05-21 01:05:59,885 INFO     \t Epoch 6 | average train loss: 0.8823\n",
      "2025-05-21 01:05:59,890 INFO     \t Epoch 6 | average valid loss: 1.2012\n",
      "2025-05-21 01:05:59,890 INFO     \t Epoch 6 | average valid loss: 1.2012\n",
      "2025-05-21 01:05:59,890 INFO     \t Epoch 6 | average valid loss: 1.2012\n",
      "train loss: 100%|███████████████████████████████████████████████████████████████████████████████████████████████████████████████████████████████████████████████████████| 30/30 [00:00<00:00, 154.08ex/s, loss=0.3862]\n",
      "2025-05-21 01:06:00,086 INFO     \t Epoch 7 | average train loss: 0.3862\n",
      "2025-05-21 01:06:00,086 INFO     \t Epoch 7 | average train loss: 0.3862\n",
      "2025-05-21 01:06:00,086 INFO     \t Epoch 7 | average train loss: 0.3862\n",
      "2025-05-21 01:06:00,125 INFO     \t Epoch 7 | average valid loss: 1.0266\n",
      "2025-05-21 01:06:00,125 INFO     \t Epoch 7 | average valid loss: 1.0266\n",
      "2025-05-21 01:06:00,125 INFO     \t Epoch 7 | average valid loss: 1.0266\n",
      "train loss: 100%|███████████████████████████████████████████████████████████████████████████████████████████████████████████████████████████████████████████████████████| 30/30 [00:00<00:00, 134.42ex/s, loss=0.1633]\n",
      "2025-05-21 01:06:00,351 INFO     \t Epoch 8 | average train loss: 0.1633\n",
      "2025-05-21 01:06:00,351 INFO     \t Epoch 8 | average train loss: 0.1633\n",
      "2025-05-21 01:06:00,351 INFO     \t Epoch 8 | average train loss: 0.1633\n",
      "2025-05-21 01:06:00,356 INFO     \t Epoch 8 | average valid loss: 0.9723\n",
      "2025-05-21 01:06:00,356 INFO     \t Epoch 8 | average valid loss: 0.9723\n",
      "2025-05-21 01:06:00,356 INFO     \t Epoch 8 | average valid loss: 0.9723\n",
      "2025-05-21 01:06:00,359 INFO     \t valid MR: 10.00 | MRR: 0.526 | H@1: 0.500 | H@3: 0.500 | H@10: 0.500\n",
      "2025-05-21 01:06:00,359 INFO     \t valid MR: 10.00 | MRR: 0.526 | H@1: 0.500 | H@3: 0.500 | H@10: 0.500\n",
      "2025-05-21 01:06:00,359 INFO     \t valid MR: 10.00 | MRR: 0.526 | H@1: 0.500 | H@3: 0.500 | H@10: 0.500\n"
     ]
    },
    {
     "name": "stdout",
     "output_type": "stream",
     "text": [
      "rhs\n",
      "got (6, 3)\n",
      "lhs\n",
      "got (11, 3)\n"
     ]
    },
    {
     "name": "stderr",
     "output_type": "stream",
     "text": [
      "train loss: 100%|███████████████████████████████████████████████████████████████████████████████████████████████████████████████████████████████████████████████████████| 30/30 [00:00<00:00, 160.63ex/s, loss=0.1104]\n",
      "2025-05-21 01:06:00,548 INFO     \t Epoch 9 | average train loss: 0.1104\n",
      "2025-05-21 01:06:00,548 INFO     \t Epoch 9 | average train loss: 0.1104\n",
      "2025-05-21 01:06:00,548 INFO     \t Epoch 9 | average train loss: 0.1104\n",
      "2025-05-21 01:06:00,552 INFO     \t Epoch 9 | average valid loss: 1.1422\n",
      "2025-05-21 01:06:00,552 INFO     \t Epoch 9 | average valid loss: 1.1422\n",
      "2025-05-21 01:06:00,552 INFO     \t Epoch 9 | average valid loss: 1.1422\n",
      "train loss: 100%|███████████████████████████████████████████████████████████████████████████████████████████████████████████████████████████████████████████████████████| 30/30 [00:00<00:00, 238.20ex/s, loss=0.1842]\n",
      "2025-05-21 01:06:00,680 INFO     \t Epoch 10 | average train loss: 0.1842\n",
      "2025-05-21 01:06:00,680 INFO     \t Epoch 10 | average train loss: 0.1842\n",
      "2025-05-21 01:06:00,680 INFO     \t Epoch 10 | average train loss: 0.1842\n",
      "2025-05-21 01:06:00,683 INFO     \t Epoch 10 | average valid loss: 1.0544\n",
      "2025-05-21 01:06:00,683 INFO     \t Epoch 10 | average valid loss: 1.0544\n",
      "2025-05-21 01:06:00,683 INFO     \t Epoch 10 | average valid loss: 1.0544\n",
      "train loss: 100%|███████████████████████████████████████████████████████████████████████████████████████████████████████████████████████████████████████████████████████| 30/30 [00:00<00:00, 254.89ex/s, loss=0.0997]\n",
      "2025-05-21 01:06:00,803 INFO     \t Epoch 11 | average train loss: 0.0997\n",
      "2025-05-21 01:06:00,803 INFO     \t Epoch 11 | average train loss: 0.0997\n",
      "2025-05-21 01:06:00,803 INFO     \t Epoch 11 | average train loss: 0.0997\n",
      "2025-05-21 01:06:00,806 INFO     \t Epoch 11 | average valid loss: 0.9582\n",
      "2025-05-21 01:06:00,806 INFO     \t Epoch 11 | average valid loss: 0.9582\n",
      "2025-05-21 01:06:00,806 INFO     \t Epoch 11 | average valid loss: 0.9582\n",
      "2025-05-21 01:06:00,809 INFO     \t valid MR: 10.50 | MRR: 0.194 | H@1: 0.000 | H@3: 0.500 | H@10: 0.500\n",
      "2025-05-21 01:06:00,809 INFO     \t valid MR: 10.50 | MRR: 0.194 | H@1: 0.000 | H@3: 0.500 | H@10: 0.500\n",
      "2025-05-21 01:06:00,809 INFO     \t valid MR: 10.50 | MRR: 0.194 | H@1: 0.000 | H@3: 0.500 | H@10: 0.500\n"
     ]
    },
    {
     "name": "stdout",
     "output_type": "stream",
     "text": [
      "rhs\n",
      "got (6, 3)\n",
      "lhs\n",
      "got (11, 3)\n"
     ]
    },
    {
     "name": "stderr",
     "output_type": "stream",
     "text": [
      "train loss: 100%|███████████████████████████████████████████████████████████████████████████████████████████████████████████████████████████████████████████████████████| 30/30 [00:00<00:00, 247.94ex/s, loss=0.0647]\n",
      "2025-05-21 01:06:00,931 INFO     \t Epoch 12 | average train loss: 0.0647\n",
      "2025-05-21 01:06:00,931 INFO     \t Epoch 12 | average train loss: 0.0647\n",
      "2025-05-21 01:06:00,931 INFO     \t Epoch 12 | average train loss: 0.0647\n",
      "2025-05-21 01:06:00,935 INFO     \t Epoch 12 | average valid loss: 1.1154\n",
      "2025-05-21 01:06:00,935 INFO     \t Epoch 12 | average valid loss: 1.1154\n",
      "2025-05-21 01:06:00,935 INFO     \t Epoch 12 | average valid loss: 1.1154\n",
      "train loss: 100%|███████████████████████████████████████████████████████████████████████████████████████████████████████████████████████████████████████████████████████| 30/30 [00:00<00:00, 235.45ex/s, loss=0.0772]\n",
      "2025-05-21 01:06:01,064 INFO     \t Epoch 13 | average train loss: 0.0772\n",
      "2025-05-21 01:06:01,064 INFO     \t Epoch 13 | average train loss: 0.0772\n",
      "2025-05-21 01:06:01,064 INFO     \t Epoch 13 | average train loss: 0.0772\n",
      "2025-05-21 01:06:01,068 INFO     \t Epoch 13 | average valid loss: 1.1939\n",
      "2025-05-21 01:06:01,068 INFO     \t Epoch 13 | average valid loss: 1.1939\n",
      "2025-05-21 01:06:01,068 INFO     \t Epoch 13 | average valid loss: 1.1939\n",
      "train loss: 100%|███████████████████████████████████████████████████████████████████████████████████████████████████████████████████████████████████████████████████████| 30/30 [00:00<00:00, 223.75ex/s, loss=0.1255]\n",
      "2025-05-21 01:06:01,204 INFO     \t Epoch 14 | average train loss: 0.1255\n",
      "2025-05-21 01:06:01,204 INFO     \t Epoch 14 | average train loss: 0.1255\n",
      "2025-05-21 01:06:01,204 INFO     \t Epoch 14 | average train loss: 0.1255\n",
      "2025-05-21 01:06:01,207 INFO     \t Epoch 14 | average valid loss: 1.0309\n",
      "2025-05-21 01:06:01,207 INFO     \t Epoch 14 | average valid loss: 1.0309\n",
      "2025-05-21 01:06:01,207 INFO     \t Epoch 14 | average valid loss: 1.0309\n",
      "2025-05-21 01:06:01,209 INFO     \t valid MR: 11.50 | MRR: 0.113 | H@1: 0.000 | H@3: 0.000 | H@10: 0.500\n",
      "2025-05-21 01:06:01,209 INFO     \t valid MR: 11.50 | MRR: 0.113 | H@1: 0.000 | H@3: 0.000 | H@10: 0.500\n",
      "2025-05-21 01:06:01,209 INFO     \t valid MR: 11.50 | MRR: 0.113 | H@1: 0.000 | H@3: 0.000 | H@10: 0.500\n"
     ]
    },
    {
     "name": "stdout",
     "output_type": "stream",
     "text": [
      "rhs\n",
      "got (6, 3)\n",
      "lhs\n",
      "got (11, 3)\n"
     ]
    },
    {
     "name": "stderr",
     "output_type": "stream",
     "text": [
      "train loss: 100%|███████████████████████████████████████████████████████████████████████████████████████████████████████████████████████████████████████████████████████| 30/30 [00:00<00:00, 195.51ex/s, loss=0.0746]\n",
      "2025-05-21 01:06:01,365 INFO     \t Epoch 15 | average train loss: 0.0746\n",
      "2025-05-21 01:06:01,365 INFO     \t Epoch 15 | average train loss: 0.0746\n",
      "2025-05-21 01:06:01,365 INFO     \t Epoch 15 | average train loss: 0.0746\n",
      "2025-05-21 01:06:01,369 INFO     \t Epoch 15 | average valid loss: 0.9316\n",
      "2025-05-21 01:06:01,369 INFO     \t Epoch 15 | average valid loss: 0.9316\n",
      "2025-05-21 01:06:01,369 INFO     \t Epoch 15 | average valid loss: 0.9316\n",
      "train loss: 100%|███████████████████████████████████████████████████████████████████████████████████████████████████████████████████████████████████████████████████████| 30/30 [00:00<00:00, 198.59ex/s, loss=0.0372]\n",
      "2025-05-21 01:06:01,523 INFO     \t Epoch 16 | average train loss: 0.0372\n",
      "2025-05-21 01:06:01,523 INFO     \t Epoch 16 | average train loss: 0.0372\n",
      "2025-05-21 01:06:01,523 INFO     \t Epoch 16 | average train loss: 0.0372\n",
      "2025-05-21 01:06:01,527 INFO     \t Epoch 16 | average valid loss: 1.0463\n",
      "2025-05-21 01:06:01,527 INFO     \t Epoch 16 | average valid loss: 1.0463\n",
      "2025-05-21 01:06:01,527 INFO     \t Epoch 16 | average valid loss: 1.0463\n",
      "train loss: 100%|███████████████████████████████████████████████████████████████████████████████████████████████████████████████████████████████████████████████████████| 30/30 [00:00<00:00, 213.07ex/s, loss=0.0269]\n",
      "2025-05-21 01:06:01,671 INFO     \t Epoch 17 | average train loss: 0.0269\n",
      "2025-05-21 01:06:01,671 INFO     \t Epoch 17 | average train loss: 0.0269\n",
      "2025-05-21 01:06:01,671 INFO     \t Epoch 17 | average train loss: 0.0269\n",
      "2025-05-21 01:06:01,674 INFO     \t Epoch 17 | average valid loss: 1.0074\n",
      "2025-05-21 01:06:01,674 INFO     \t Epoch 17 | average valid loss: 1.0074\n",
      "2025-05-21 01:06:01,674 INFO     \t Epoch 17 | average valid loss: 1.0074\n",
      "2025-05-21 01:06:01,677 INFO     \t valid MR: 9.50 | MRR: 0.528 | H@1: 0.500 | H@3: 0.500 | H@10: 0.500\n",
      "2025-05-21 01:06:01,677 INFO     \t valid MR: 9.50 | MRR: 0.528 | H@1: 0.500 | H@3: 0.500 | H@10: 0.500\n",
      "2025-05-21 01:06:01,677 INFO     \t valid MR: 9.50 | MRR: 0.528 | H@1: 0.500 | H@3: 0.500 | H@10: 0.500\n"
     ]
    },
    {
     "name": "stdout",
     "output_type": "stream",
     "text": [
      "rhs\n",
      "got (6, 3)\n",
      "lhs\n",
      "got (11, 3)\n"
     ]
    },
    {
     "name": "stderr",
     "output_type": "stream",
     "text": [
      "train loss: 100%|███████████████████████████████████████████████████████████████████████████████████████████████████████████████████████████████████████████████████████| 30/30 [00:00<00:00, 239.88ex/s, loss=0.0263]\n",
      "2025-05-21 01:06:01,804 INFO     \t Epoch 18 | average train loss: 0.0263\n",
      "2025-05-21 01:06:01,804 INFO     \t Epoch 18 | average train loss: 0.0263\n",
      "2025-05-21 01:06:01,804 INFO     \t Epoch 18 | average train loss: 0.0263\n",
      "2025-05-21 01:06:01,808 INFO     \t Epoch 18 | average valid loss: 1.0651\n",
      "2025-05-21 01:06:01,808 INFO     \t Epoch 18 | average valid loss: 1.0651\n",
      "2025-05-21 01:06:01,808 INFO     \t Epoch 18 | average valid loss: 1.0651\n",
      "train loss: 100%|███████████████████████████████████████████████████████████████████████████████████████████████████████████████████████████████████████████████████████| 30/30 [00:00<00:00, 248.36ex/s, loss=0.0291]\n",
      "2025-05-21 01:06:01,931 INFO     \t Epoch 19 | average train loss: 0.0291\n",
      "2025-05-21 01:06:01,931 INFO     \t Epoch 19 | average train loss: 0.0291\n",
      "2025-05-21 01:06:01,931 INFO     \t Epoch 19 | average train loss: 0.0291\n",
      "2025-05-21 01:06:01,935 INFO     \t Epoch 19 | average valid loss: 0.9842\n",
      "2025-05-21 01:06:01,935 INFO     \t Epoch 19 | average valid loss: 0.9842\n",
      "2025-05-21 01:06:01,935 INFO     \t Epoch 19 | average valid loss: 0.9842\n",
      "train loss: 100%|███████████████████████████████████████████████████████████████████████████████████████████████████████████████████████████████████████████████████████| 30/30 [00:00<00:00, 214.94ex/s, loss=0.0349]\n",
      "2025-05-21 01:06:02,076 INFO     \t Epoch 20 | average train loss: 0.0349\n",
      "2025-05-21 01:06:02,076 INFO     \t Epoch 20 | average train loss: 0.0349\n",
      "2025-05-21 01:06:02,076 INFO     \t Epoch 20 | average train loss: 0.0349\n",
      "2025-05-21 01:06:02,080 INFO     \t Epoch 20 | average valid loss: 0.9742\n",
      "2025-05-21 01:06:02,080 INFO     \t Epoch 20 | average valid loss: 0.9742\n",
      "2025-05-21 01:06:02,080 INFO     \t Epoch 20 | average valid loss: 0.9742\n",
      "2025-05-21 01:06:02,082 INFO     \t valid MR: 9.00 | MRR: 0.529 | H@1: 0.500 | H@3: 0.500 | H@10: 0.500\n",
      "2025-05-21 01:06:02,082 INFO     \t valid MR: 9.00 | MRR: 0.529 | H@1: 0.500 | H@3: 0.500 | H@10: 0.500\n",
      "2025-05-21 01:06:02,082 INFO     \t valid MR: 9.00 | MRR: 0.529 | H@1: 0.500 | H@3: 0.500 | H@10: 0.500\n",
      "2025-05-21 01:06:02,083 INFO     \t Saving model at epoch 20 in ./logs/05_21/jack_jill/AttH_01_05_58\n",
      "2025-05-21 01:06:02,083 INFO     \t Saving model at epoch 20 in ./logs/05_21/jack_jill/AttH_01_05_58\n",
      "2025-05-21 01:06:02,083 INFO     \t Saving model at epoch 20 in ./logs/05_21/jack_jill/AttH_01_05_58\n"
     ]
    },
    {
     "name": "stdout",
     "output_type": "stream",
     "text": [
      "rhs\n",
      "got (6, 3)\n",
      "lhs\n",
      "got (11, 3)\n"
     ]
    },
    {
     "name": "stderr",
     "output_type": "stream",
     "text": [
      "train loss: 100%|███████████████████████████████████████████████████████████████████████████████████████████████████████████████████████████████████████████████████████| 30/30 [00:00<00:00, 261.99ex/s, loss=0.0387]\n",
      "2025-05-21 01:06:02,204 INFO     \t Epoch 21 | average train loss: 0.0387\n",
      "2025-05-21 01:06:02,204 INFO     \t Epoch 21 | average train loss: 0.0387\n",
      "2025-05-21 01:06:02,204 INFO     \t Epoch 21 | average train loss: 0.0387\n",
      "2025-05-21 01:06:02,207 INFO     \t Epoch 21 | average valid loss: 0.9402\n",
      "2025-05-21 01:06:02,207 INFO     \t Epoch 21 | average valid loss: 0.9402\n",
      "2025-05-21 01:06:02,207 INFO     \t Epoch 21 | average valid loss: 0.9402\n",
      "train loss: 100%|███████████████████████████████████████████████████████████████████████████████████████████████████████████████████████████████████████████████████████| 30/30 [00:00<00:00, 245.73ex/s, loss=0.0367]\n",
      "2025-05-21 01:06:02,331 INFO     \t Epoch 22 | average train loss: 0.0367\n",
      "2025-05-21 01:06:02,331 INFO     \t Epoch 22 | average train loss: 0.0367\n",
      "2025-05-21 01:06:02,331 INFO     \t Epoch 22 | average train loss: 0.0367\n",
      "2025-05-21 01:06:02,334 INFO     \t Epoch 22 | average valid loss: 0.9767\n",
      "2025-05-21 01:06:02,334 INFO     \t Epoch 22 | average valid loss: 0.9767\n",
      "2025-05-21 01:06:02,334 INFO     \t Epoch 22 | average valid loss: 0.9767\n",
      "train loss: 100%|███████████████████████████████████████████████████████████████████████████████████████████████████████████████████████████████████████████████████████| 30/30 [00:00<00:00, 231.68ex/s, loss=0.0325]\n",
      "2025-05-21 01:06:02,466 INFO     \t Epoch 23 | average train loss: 0.0325\n",
      "2025-05-21 01:06:02,466 INFO     \t Epoch 23 | average train loss: 0.0325\n",
      "2025-05-21 01:06:02,466 INFO     \t Epoch 23 | average train loss: 0.0325\n",
      "2025-05-21 01:06:02,469 INFO     \t Epoch 23 | average valid loss: 1.0153\n",
      "2025-05-21 01:06:02,469 INFO     \t Epoch 23 | average valid loss: 1.0153\n",
      "2025-05-21 01:06:02,469 INFO     \t Epoch 23 | average valid loss: 1.0153\n",
      "2025-05-21 01:06:02,471 INFO     \t valid MR: 9.50 | MRR: 0.279 | H@1: 0.000 | H@3: 0.500 | H@10: 0.500\n",
      "2025-05-21 01:06:02,471 INFO     \t valid MR: 9.50 | MRR: 0.279 | H@1: 0.000 | H@3: 0.500 | H@10: 0.500\n",
      "2025-05-21 01:06:02,471 INFO     \t valid MR: 9.50 | MRR: 0.279 | H@1: 0.000 | H@3: 0.500 | H@10: 0.500\n"
     ]
    },
    {
     "name": "stdout",
     "output_type": "stream",
     "text": [
      "rhs\n",
      "got (6, 3)\n",
      "lhs\n",
      "got (11, 3)\n"
     ]
    },
    {
     "name": "stderr",
     "output_type": "stream",
     "text": [
      "train loss: 100%|███████████████████████████████████████████████████████████████████████████████████████████████████████████████████████████████████████████████████████| 30/30 [00:00<00:00, 212.56ex/s, loss=0.0243]\n",
      "2025-05-21 01:06:02,614 INFO     \t Epoch 24 | average train loss: 0.0243\n",
      "2025-05-21 01:06:02,614 INFO     \t Epoch 24 | average train loss: 0.0243\n",
      "2025-05-21 01:06:02,614 INFO     \t Epoch 24 | average train loss: 0.0243\n",
      "2025-05-21 01:06:02,618 INFO     \t Epoch 24 | average valid loss: 1.0562\n",
      "2025-05-21 01:06:02,618 INFO     \t Epoch 24 | average valid loss: 1.0562\n",
      "2025-05-21 01:06:02,618 INFO     \t Epoch 24 | average valid loss: 1.0562\n",
      "train loss: 100%|███████████████████████████████████████████████████████████████████████████████████████████████████████████████████████████████████████████████████████| 30/30 [00:00<00:00, 238.85ex/s, loss=0.0206]\n",
      "2025-05-21 01:06:02,745 INFO     \t Epoch 25 | average train loss: 0.0206\n",
      "2025-05-21 01:06:02,745 INFO     \t Epoch 25 | average train loss: 0.0206\n",
      "2025-05-21 01:06:02,745 INFO     \t Epoch 25 | average train loss: 0.0206\n",
      "2025-05-21 01:06:02,749 INFO     \t Epoch 25 | average valid loss: 1.0537\n",
      "2025-05-21 01:06:02,749 INFO     \t Epoch 25 | average valid loss: 1.0537\n",
      "2025-05-21 01:06:02,749 INFO     \t Epoch 25 | average valid loss: 1.0537\n",
      "train loss: 100%|███████████████████████████████████████████████████████████████████████████████████████████████████████████████████████████████████████████████████████| 30/30 [00:00<00:00, 268.78ex/s, loss=0.0210]\n",
      "2025-05-21 01:06:02,862 INFO     \t Epoch 26 | average train loss: 0.0210\n",
      "2025-05-21 01:06:02,862 INFO     \t Epoch 26 | average train loss: 0.0210\n",
      "2025-05-21 01:06:02,862 INFO     \t Epoch 26 | average train loss: 0.0210\n",
      "2025-05-21 01:06:02,865 INFO     \t Epoch 26 | average valid loss: 1.0615\n",
      "2025-05-21 01:06:02,865 INFO     \t Epoch 26 | average valid loss: 1.0615\n",
      "2025-05-21 01:06:02,865 INFO     \t Epoch 26 | average valid loss: 1.0615\n",
      "2025-05-21 01:06:02,868 INFO     \t valid MR: 9.00 | MRR: 0.529 | H@1: 0.500 | H@3: 0.500 | H@10: 0.500\n",
      "2025-05-21 01:06:02,868 INFO     \t valid MR: 9.00 | MRR: 0.529 | H@1: 0.500 | H@3: 0.500 | H@10: 0.500\n",
      "2025-05-21 01:06:02,868 INFO     \t valid MR: 9.00 | MRR: 0.529 | H@1: 0.500 | H@3: 0.500 | H@10: 0.500\n"
     ]
    },
    {
     "name": "stdout",
     "output_type": "stream",
     "text": [
      "rhs\n",
      "got (6, 3)\n",
      "lhs\n",
      "got (11, 3)\n"
     ]
    },
    {
     "name": "stderr",
     "output_type": "stream",
     "text": [
      "train loss: 100%|███████████████████████████████████████████████████████████████████████████████████████████████████████████████████████████████████████████████████████| 30/30 [00:00<00:00, 213.71ex/s, loss=0.0228]\n",
      "2025-05-21 01:06:03,010 INFO     \t Epoch 27 | average train loss: 0.0228\n",
      "2025-05-21 01:06:03,010 INFO     \t Epoch 27 | average train loss: 0.0228\n",
      "2025-05-21 01:06:03,010 INFO     \t Epoch 27 | average train loss: 0.0228\n",
      "2025-05-21 01:06:03,014 INFO     \t Epoch 27 | average valid loss: 1.0770\n",
      "2025-05-21 01:06:03,014 INFO     \t Epoch 27 | average valid loss: 1.0770\n",
      "2025-05-21 01:06:03,014 INFO     \t Epoch 27 | average valid loss: 1.0770\n",
      "train loss: 100%|███████████████████████████████████████████████████████████████████████████████████████████████████████████████████████████████████████████████████████| 30/30 [00:00<00:00, 237.83ex/s, loss=0.0241]\n",
      "2025-05-21 01:06:03,142 INFO     \t Epoch 28 | average train loss: 0.0241\n",
      "2025-05-21 01:06:03,142 INFO     \t Epoch 28 | average train loss: 0.0241\n",
      "2025-05-21 01:06:03,142 INFO     \t Epoch 28 | average train loss: 0.0241\n",
      "2025-05-21 01:06:03,147 INFO     \t Epoch 28 | average valid loss: 1.0784\n",
      "2025-05-21 01:06:03,147 INFO     \t Epoch 28 | average valid loss: 1.0784\n",
      "2025-05-21 01:06:03,147 INFO     \t Epoch 28 | average valid loss: 1.0784\n",
      "train loss: 100%|███████████████████████████████████████████████████████████████████████████████████████████████████████████████████████████████████████████████████████| 30/30 [00:00<00:00, 250.89ex/s, loss=0.0294]\n",
      "2025-05-21 01:06:03,268 INFO     \t Epoch 29 | average train loss: 0.0294\n",
      "2025-05-21 01:06:03,268 INFO     \t Epoch 29 | average train loss: 0.0294\n",
      "2025-05-21 01:06:03,268 INFO     \t Epoch 29 | average train loss: 0.0294\n",
      "2025-05-21 01:06:03,272 INFO     \t Epoch 29 | average valid loss: 1.0279\n",
      "2025-05-21 01:06:03,272 INFO     \t Epoch 29 | average valid loss: 1.0279\n",
      "2025-05-21 01:06:03,272 INFO     \t Epoch 29 | average valid loss: 1.0279\n",
      "2025-05-21 01:06:03,274 INFO     \t valid MR: 9.00 | MRR: 0.529 | H@1: 0.500 | H@3: 0.500 | H@10: 0.500\n",
      "2025-05-21 01:06:03,274 INFO     \t valid MR: 9.00 | MRR: 0.529 | H@1: 0.500 | H@3: 0.500 | H@10: 0.500\n",
      "2025-05-21 01:06:03,274 INFO     \t valid MR: 9.00 | MRR: 0.529 | H@1: 0.500 | H@3: 0.500 | H@10: 0.500\n"
     ]
    },
    {
     "name": "stdout",
     "output_type": "stream",
     "text": [
      "rhs\n",
      "got (6, 3)\n",
      "lhs\n",
      "got (11, 3)\n"
     ]
    },
    {
     "name": "stderr",
     "output_type": "stream",
     "text": [
      "train loss: 100%|███████████████████████████████████████████████████████████████████████████████████████████████████████████████████████████████████████████████████████| 30/30 [00:00<00:00, 262.11ex/s, loss=0.0317]\n",
      "2025-05-21 01:06:03,391 INFO     \t Epoch 30 | average train loss: 0.0317\n",
      "2025-05-21 01:06:03,391 INFO     \t Epoch 30 | average train loss: 0.0317\n",
      "2025-05-21 01:06:03,391 INFO     \t Epoch 30 | average train loss: 0.0317\n",
      "2025-05-21 01:06:03,396 INFO     \t Epoch 30 | average valid loss: 0.9763\n",
      "2025-05-21 01:06:03,396 INFO     \t Epoch 30 | average valid loss: 0.9763\n",
      "2025-05-21 01:06:03,396 INFO     \t Epoch 30 | average valid loss: 0.9763\n",
      "train loss: 100%|███████████████████████████████████████████████████████████████████████████████████████████████████████████████████████████████████████████████████████| 30/30 [00:00<00:00, 257.69ex/s, loss=0.0290]\n",
      "2025-05-21 01:06:03,514 INFO     \t Epoch 31 | average train loss: 0.0290\n",
      "2025-05-21 01:06:03,514 INFO     \t Epoch 31 | average train loss: 0.0290\n",
      "2025-05-21 01:06:03,514 INFO     \t Epoch 31 | average train loss: 0.0290\n",
      "2025-05-21 01:06:03,519 INFO     \t Epoch 31 | average valid loss: 0.9339\n",
      "2025-05-21 01:06:03,519 INFO     \t Epoch 31 | average valid loss: 0.9339\n",
      "2025-05-21 01:06:03,519 INFO     \t Epoch 31 | average valid loss: 0.9339\n",
      "train loss: 100%|███████████████████████████████████████████████████████████████████████████████████████████████████████████████████████████████████████████████████████| 30/30 [00:00<00:00, 246.32ex/s, loss=0.0252]\n",
      "2025-05-21 01:06:03,642 INFO     \t Epoch 32 | average train loss: 0.0252\n",
      "2025-05-21 01:06:03,642 INFO     \t Epoch 32 | average train loss: 0.0252\n",
      "2025-05-21 01:06:03,642 INFO     \t Epoch 32 | average train loss: 0.0252\n",
      "2025-05-21 01:06:03,645 INFO     \t Epoch 32 | average valid loss: 0.9731\n",
      "2025-05-21 01:06:03,645 INFO     \t Epoch 32 | average valid loss: 0.9731\n",
      "2025-05-21 01:06:03,645 INFO     \t Epoch 32 | average valid loss: 0.9731\n",
      "2025-05-21 01:06:03,648 INFO     \t valid MR: 9.00 | MRR: 0.529 | H@1: 0.500 | H@3: 0.500 | H@10: 0.500\n",
      "2025-05-21 01:06:03,648 INFO     \t valid MR: 9.00 | MRR: 0.529 | H@1: 0.500 | H@3: 0.500 | H@10: 0.500\n",
      "2025-05-21 01:06:03,648 INFO     \t valid MR: 9.00 | MRR: 0.529 | H@1: 0.500 | H@3: 0.500 | H@10: 0.500\n"
     ]
    },
    {
     "name": "stdout",
     "output_type": "stream",
     "text": [
      "rhs\n",
      "got (6, 3)\n",
      "lhs\n",
      "got (11, 3)\n"
     ]
    },
    {
     "name": "stderr",
     "output_type": "stream",
     "text": [
      "train loss: 100%|███████████████████████████████████████████████████████████████████████████████████████████████████████████████████████████████████████████████████████| 30/30 [00:00<00:00, 266.16ex/s, loss=0.0249]\n",
      "2025-05-21 01:06:03,762 INFO     \t Epoch 33 | average train loss: 0.0249\n",
      "2025-05-21 01:06:03,762 INFO     \t Epoch 33 | average train loss: 0.0249\n",
      "2025-05-21 01:06:03,762 INFO     \t Epoch 33 | average train loss: 0.0249\n",
      "2025-05-21 01:06:03,766 INFO     \t Epoch 33 | average valid loss: 0.9933\n",
      "2025-05-21 01:06:03,766 INFO     \t Epoch 33 | average valid loss: 0.9933\n",
      "2025-05-21 01:06:03,766 INFO     \t Epoch 33 | average valid loss: 0.9933\n",
      "train loss: 100%|███████████████████████████████████████████████████████████████████████████████████████████████████████████████████████████████████████████████████████| 30/30 [00:00<00:00, 268.73ex/s, loss=0.0313]\n",
      "2025-05-21 01:06:03,879 INFO     \t Epoch 34 | average train loss: 0.0313\n",
      "2025-05-21 01:06:03,879 INFO     \t Epoch 34 | average train loss: 0.0313\n",
      "2025-05-21 01:06:03,879 INFO     \t Epoch 34 | average train loss: 0.0313\n",
      "2025-05-21 01:06:03,882 INFO     \t Epoch 34 | average valid loss: 1.0183\n",
      "2025-05-21 01:06:03,882 INFO     \t Epoch 34 | average valid loss: 1.0183\n",
      "2025-05-21 01:06:03,882 INFO     \t Epoch 34 | average valid loss: 1.0183\n",
      "train loss: 100%|███████████████████████████████████████████████████████████████████████████████████████████████████████████████████████████████████████████████████████| 30/30 [00:00<00:00, 252.57ex/s, loss=0.0295]\n",
      "2025-05-21 01:06:04,003 INFO     \t Epoch 35 | average train loss: 0.0295\n",
      "2025-05-21 01:06:04,003 INFO     \t Epoch 35 | average train loss: 0.0295\n",
      "2025-05-21 01:06:04,003 INFO     \t Epoch 35 | average train loss: 0.0295\n",
      "2025-05-21 01:06:04,006 INFO     \t Epoch 35 | average valid loss: 1.0464\n",
      "2025-05-21 01:06:04,006 INFO     \t Epoch 35 | average valid loss: 1.0464\n",
      "2025-05-21 01:06:04,006 INFO     \t Epoch 35 | average valid loss: 1.0464\n",
      "2025-05-21 01:06:04,009 INFO     \t valid MR: 9.50 | MRR: 0.279 | H@1: 0.000 | H@3: 0.500 | H@10: 0.500\n",
      "2025-05-21 01:06:04,009 INFO     \t valid MR: 9.50 | MRR: 0.279 | H@1: 0.000 | H@3: 0.500 | H@10: 0.500\n",
      "2025-05-21 01:06:04,009 INFO     \t valid MR: 9.50 | MRR: 0.279 | H@1: 0.000 | H@3: 0.500 | H@10: 0.500\n"
     ]
    },
    {
     "name": "stdout",
     "output_type": "stream",
     "text": [
      "rhs\n",
      "got (6, 3)\n",
      "lhs\n",
      "got (11, 3)\n"
     ]
    },
    {
     "name": "stderr",
     "output_type": "stream",
     "text": [
      "train loss: 100%|███████████████████████████████████████████████████████████████████████████████████████████████████████████████████████████████████████████████████████| 30/30 [00:00<00:00, 264.48ex/s, loss=0.0224]\n",
      "2025-05-21 01:06:04,124 INFO     \t Epoch 36 | average train loss: 0.0224\n",
      "2025-05-21 01:06:04,124 INFO     \t Epoch 36 | average train loss: 0.0224\n",
      "2025-05-21 01:06:04,124 INFO     \t Epoch 36 | average train loss: 0.0224\n",
      "2025-05-21 01:06:04,128 INFO     \t Epoch 36 | average valid loss: 1.0615\n",
      "2025-05-21 01:06:04,128 INFO     \t Epoch 36 | average valid loss: 1.0615\n",
      "2025-05-21 01:06:04,128 INFO     \t Epoch 36 | average valid loss: 1.0615\n",
      "train loss: 100%|███████████████████████████████████████████████████████████████████████████████████████████████████████████████████████████████████████████████████████| 30/30 [00:00<00:00, 257.29ex/s, loss=0.0180]\n",
      "2025-05-21 01:06:04,246 INFO     \t Epoch 37 | average train loss: 0.0180\n",
      "2025-05-21 01:06:04,246 INFO     \t Epoch 37 | average train loss: 0.0180\n",
      "2025-05-21 01:06:04,246 INFO     \t Epoch 37 | average train loss: 0.0180\n",
      "2025-05-21 01:06:04,249 INFO     \t Epoch 37 | average valid loss: 1.0697\n",
      "2025-05-21 01:06:04,249 INFO     \t Epoch 37 | average valid loss: 1.0697\n",
      "2025-05-21 01:06:04,249 INFO     \t Epoch 37 | average valid loss: 1.0697\n",
      "train loss: 100%|███████████████████████████████████████████████████████████████████████████████████████████████████████████████████████████████████████████████████████| 30/30 [00:00<00:00, 261.47ex/s, loss=0.0155]\n",
      "2025-05-21 01:06:04,366 INFO     \t Epoch 38 | average train loss: 0.0155\n",
      "2025-05-21 01:06:04,366 INFO     \t Epoch 38 | average train loss: 0.0155\n",
      "2025-05-21 01:06:04,366 INFO     \t Epoch 38 | average train loss: 0.0155\n",
      "2025-05-21 01:06:04,369 INFO     \t Epoch 38 | average valid loss: 1.0763\n",
      "2025-05-21 01:06:04,369 INFO     \t Epoch 38 | average valid loss: 1.0763\n",
      "2025-05-21 01:06:04,369 INFO     \t Epoch 38 | average valid loss: 1.0763\n",
      "2025-05-21 01:06:04,372 INFO     \t valid MR: 9.00 | MRR: 0.529 | H@1: 0.500 | H@3: 0.500 | H@10: 0.500\n",
      "2025-05-21 01:06:04,372 INFO     \t valid MR: 9.00 | MRR: 0.529 | H@1: 0.500 | H@3: 0.500 | H@10: 0.500\n",
      "2025-05-21 01:06:04,372 INFO     \t valid MR: 9.00 | MRR: 0.529 | H@1: 0.500 | H@3: 0.500 | H@10: 0.500\n"
     ]
    },
    {
     "name": "stdout",
     "output_type": "stream",
     "text": [
      "rhs\n",
      "got (6, 3)\n",
      "lhs\n",
      "got (11, 3)\n"
     ]
    },
    {
     "name": "stderr",
     "output_type": "stream",
     "text": [
      "train loss: 100%|███████████████████████████████████████████████████████████████████████████████████████████████████████████████████████████████████████████████████████| 30/30 [00:00<00:00, 264.12ex/s, loss=0.0174]\n",
      "2025-05-21 01:06:04,488 INFO     \t Epoch 39 | average train loss: 0.0174\n",
      "2025-05-21 01:06:04,488 INFO     \t Epoch 39 | average train loss: 0.0174\n",
      "2025-05-21 01:06:04,488 INFO     \t Epoch 39 | average train loss: 0.0174\n",
      "2025-05-21 01:06:04,491 INFO     \t Epoch 39 | average valid loss: 1.0801\n",
      "2025-05-21 01:06:04,491 INFO     \t Epoch 39 | average valid loss: 1.0801\n",
      "2025-05-21 01:06:04,491 INFO     \t Epoch 39 | average valid loss: 1.0801\n",
      "train loss: 100%|███████████████████████████████████████████████████████████████████████████████████████████████████████████████████████████████████████████████████████| 30/30 [00:00<00:00, 265.26ex/s, loss=0.0180]\n",
      "2025-05-21 01:06:04,606 INFO     \t Epoch 40 | average train loss: 0.0180\n",
      "2025-05-21 01:06:04,606 INFO     \t Epoch 40 | average train loss: 0.0180\n",
      "2025-05-21 01:06:04,606 INFO     \t Epoch 40 | average train loss: 0.0180\n",
      "2025-05-21 01:06:04,610 INFO     \t Epoch 40 | average valid loss: 1.0882\n",
      "2025-05-21 01:06:04,610 INFO     \t Epoch 40 | average valid loss: 1.0882\n",
      "2025-05-21 01:06:04,610 INFO     \t Epoch 40 | average valid loss: 1.0882\n",
      "train loss: 100%|███████████████████████████████████████████████████████████████████████████████████████████████████████████████████████████████████████████████████████| 30/30 [00:00<00:00, 259.89ex/s, loss=0.0166]\n",
      "2025-05-21 01:06:04,727 INFO     \t Epoch 41 | average train loss: 0.0166\n",
      "2025-05-21 01:06:04,727 INFO     \t Epoch 41 | average train loss: 0.0166\n",
      "2025-05-21 01:06:04,727 INFO     \t Epoch 41 | average train loss: 0.0166\n",
      "2025-05-21 01:06:04,730 INFO     \t Epoch 41 | average valid loss: 1.0855\n",
      "2025-05-21 01:06:04,730 INFO     \t Epoch 41 | average valid loss: 1.0855\n",
      "2025-05-21 01:06:04,730 INFO     \t Epoch 41 | average valid loss: 1.0855\n",
      "2025-05-21 01:06:04,732 INFO     \t valid MR: 9.00 | MRR: 0.529 | H@1: 0.500 | H@3: 0.500 | H@10: 0.500\n",
      "2025-05-21 01:06:04,732 INFO     \t valid MR: 9.00 | MRR: 0.529 | H@1: 0.500 | H@3: 0.500 | H@10: 0.500\n",
      "2025-05-21 01:06:04,732 INFO     \t valid MR: 9.00 | MRR: 0.529 | H@1: 0.500 | H@3: 0.500 | H@10: 0.500\n"
     ]
    },
    {
     "name": "stdout",
     "output_type": "stream",
     "text": [
      "rhs\n",
      "got (6, 3)\n",
      "lhs\n",
      "got (11, 3)\n"
     ]
    },
    {
     "name": "stderr",
     "output_type": "stream",
     "text": [
      "train loss: 100%|███████████████████████████████████████████████████████████████████████████████████████████████████████████████████████████████████████████████████████| 30/30 [00:00<00:00, 265.28ex/s, loss=0.0195]\n",
      "2025-05-21 01:06:04,847 INFO     \t Epoch 42 | average train loss: 0.0195\n",
      "2025-05-21 01:06:04,847 INFO     \t Epoch 42 | average train loss: 0.0195\n",
      "2025-05-21 01:06:04,847 INFO     \t Epoch 42 | average train loss: 0.0195\n",
      "2025-05-21 01:06:04,851 INFO     \t Epoch 42 | average valid loss: 1.0920\n",
      "2025-05-21 01:06:04,851 INFO     \t Epoch 42 | average valid loss: 1.0920\n",
      "2025-05-21 01:06:04,851 INFO     \t Epoch 42 | average valid loss: 1.0920\n",
      "train loss: 100%|███████████████████████████████████████████████████████████████████████████████████████████████████████████████████████████████████████████████████████| 30/30 [00:00<00:00, 252.49ex/s, loss=0.0189]\n",
      "2025-05-21 01:06:04,972 INFO     \t Epoch 43 | average train loss: 0.0189\n",
      "2025-05-21 01:06:04,972 INFO     \t Epoch 43 | average train loss: 0.0189\n",
      "2025-05-21 01:06:04,972 INFO     \t Epoch 43 | average train loss: 0.0189\n",
      "2025-05-21 01:06:04,975 INFO     \t Epoch 43 | average valid loss: 1.0849\n",
      "2025-05-21 01:06:04,975 INFO     \t Epoch 43 | average valid loss: 1.0849\n",
      "2025-05-21 01:06:04,975 INFO     \t Epoch 43 | average valid loss: 1.0849\n",
      "train loss: 100%|███████████████████████████████████████████████████████████████████████████████████████████████████████████████████████████████████████████████████████| 30/30 [00:00<00:00, 261.04ex/s, loss=0.0225]\n",
      "2025-05-21 01:06:05,092 INFO     \t Epoch 44 | average train loss: 0.0225\n",
      "2025-05-21 01:06:05,092 INFO     \t Epoch 44 | average train loss: 0.0225\n",
      "2025-05-21 01:06:05,092 INFO     \t Epoch 44 | average train loss: 0.0225\n",
      "2025-05-21 01:06:05,096 INFO     \t Epoch 44 | average valid loss: 1.0806\n",
      "2025-05-21 01:06:05,096 INFO     \t Epoch 44 | average valid loss: 1.0806\n",
      "2025-05-21 01:06:05,096 INFO     \t Epoch 44 | average valid loss: 1.0806\n",
      "2025-05-21 01:06:05,098 INFO     \t valid MR: 9.00 | MRR: 0.529 | H@1: 0.500 | H@3: 0.500 | H@10: 0.500\n",
      "2025-05-21 01:06:05,098 INFO     \t valid MR: 9.00 | MRR: 0.529 | H@1: 0.500 | H@3: 0.500 | H@10: 0.500\n",
      "2025-05-21 01:06:05,098 INFO     \t valid MR: 9.00 | MRR: 0.529 | H@1: 0.500 | H@3: 0.500 | H@10: 0.500\n"
     ]
    },
    {
     "name": "stdout",
     "output_type": "stream",
     "text": [
      "rhs\n",
      "got (6, 3)\n",
      "lhs\n",
      "got (11, 3)\n"
     ]
    },
    {
     "name": "stderr",
     "output_type": "stream",
     "text": [
      "train loss: 100%|███████████████████████████████████████████████████████████████████████████████████████████████████████████████████████████████████████████████████████| 30/30 [00:00<00:00, 220.61ex/s, loss=0.0316]\n",
      "2025-05-21 01:06:05,237 INFO     \t Epoch 45 | average train loss: 0.0316\n",
      "2025-05-21 01:06:05,237 INFO     \t Epoch 45 | average train loss: 0.0316\n",
      "2025-05-21 01:06:05,237 INFO     \t Epoch 45 | average train loss: 0.0316\n",
      "2025-05-21 01:06:05,241 INFO     \t Epoch 45 | average valid loss: 1.0451\n",
      "2025-05-21 01:06:05,241 INFO     \t Epoch 45 | average valid loss: 1.0451\n",
      "2025-05-21 01:06:05,241 INFO     \t Epoch 45 | average valid loss: 1.0451\n",
      "train loss: 100%|███████████████████████████████████████████████████████████████████████████████████████████████████████████████████████████████████████████████████████| 30/30 [00:00<00:00, 244.63ex/s, loss=0.0376]\n",
      "2025-05-21 01:06:05,365 INFO     \t Epoch 46 | average train loss: 0.0376\n",
      "2025-05-21 01:06:05,365 INFO     \t Epoch 46 | average train loss: 0.0376\n",
      "2025-05-21 01:06:05,365 INFO     \t Epoch 46 | average train loss: 0.0376\n",
      "2025-05-21 01:06:05,369 INFO     \t Epoch 46 | average valid loss: 0.9805\n",
      "2025-05-21 01:06:05,369 INFO     \t Epoch 46 | average valid loss: 0.9805\n",
      "2025-05-21 01:06:05,369 INFO     \t Epoch 46 | average valid loss: 0.9805\n",
      "train loss: 100%|███████████████████████████████████████████████████████████████████████████████████████████████████████████████████████████████████████████████████████| 30/30 [00:00<00:00, 268.41ex/s, loss=0.0296]\n",
      "2025-05-21 01:06:05,483 INFO     \t Epoch 47 | average train loss: 0.0296\n",
      "2025-05-21 01:06:05,483 INFO     \t Epoch 47 | average train loss: 0.0296\n",
      "2025-05-21 01:06:05,483 INFO     \t Epoch 47 | average train loss: 0.0296\n",
      "2025-05-21 01:06:05,486 INFO     \t Epoch 47 | average valid loss: 0.9498\n",
      "2025-05-21 01:06:05,486 INFO     \t Epoch 47 | average valid loss: 0.9498\n",
      "2025-05-21 01:06:05,486 INFO     \t Epoch 47 | average valid loss: 0.9498\n",
      "2025-05-21 01:06:05,489 INFO     \t valid MR: 9.00 | MRR: 0.529 | H@1: 0.500 | H@3: 0.500 | H@10: 0.500\n",
      "2025-05-21 01:06:05,489 INFO     \t valid MR: 9.00 | MRR: 0.529 | H@1: 0.500 | H@3: 0.500 | H@10: 0.500\n",
      "2025-05-21 01:06:05,489 INFO     \t valid MR: 9.00 | MRR: 0.529 | H@1: 0.500 | H@3: 0.500 | H@10: 0.500\n"
     ]
    },
    {
     "name": "stdout",
     "output_type": "stream",
     "text": [
      "rhs\n",
      "got (6, 3)\n",
      "lhs\n",
      "got (11, 3)\n"
     ]
    },
    {
     "name": "stderr",
     "output_type": "stream",
     "text": [
      "train loss: 100%|███████████████████████████████████████████████████████████████████████████████████████████████████████████████████████████████████████████████████████| 30/30 [00:00<00:00, 262.49ex/s, loss=0.0216]\n",
      "2025-05-21 01:06:05,605 INFO     \t Epoch 48 | average train loss: 0.0216\n",
      "2025-05-21 01:06:05,605 INFO     \t Epoch 48 | average train loss: 0.0216\n",
      "2025-05-21 01:06:05,605 INFO     \t Epoch 48 | average train loss: 0.0216\n",
      "2025-05-21 01:06:05,608 INFO     \t Epoch 48 | average valid loss: 0.9730\n",
      "2025-05-21 01:06:05,608 INFO     \t Epoch 48 | average valid loss: 0.9730\n",
      "2025-05-21 01:06:05,608 INFO     \t Epoch 48 | average valid loss: 0.9730\n",
      "train loss: 100%|███████████████████████████████████████████████████████████████████████████████████████████████████████████████████████████████████████████████████████| 30/30 [00:00<00:00, 268.80ex/s, loss=0.0190]\n",
      "2025-05-21 01:06:05,722 INFO     \t Epoch 49 | average train loss: 0.0190\n",
      "2025-05-21 01:06:05,722 INFO     \t Epoch 49 | average train loss: 0.0190\n",
      "2025-05-21 01:06:05,722 INFO     \t Epoch 49 | average train loss: 0.0190\n",
      "2025-05-21 01:06:05,725 INFO     \t Epoch 49 | average valid loss: 1.0050\n",
      "2025-05-21 01:06:05,725 INFO     \t Epoch 49 | average valid loss: 1.0050\n",
      "2025-05-21 01:06:05,725 INFO     \t Epoch 49 | average valid loss: 1.0050\n",
      "2025-05-21 01:06:05,725 INFO     \t Optimization finished\n",
      "2025-05-21 01:06:05,725 INFO     \t Optimization finished\n",
      "2025-05-21 01:06:05,725 INFO     \t Optimization finished\n",
      "2025-05-21 01:06:05,726 INFO     \t Loading best model saved at epoch 20\n",
      "2025-05-21 01:06:05,726 INFO     \t Loading best model saved at epoch 20\n",
      "2025-05-21 01:06:05,726 INFO     \t Loading best model saved at epoch 20\n",
      "2025-05-21 01:06:05,733 INFO     \t valid MR: 9.00 | MRR: 0.529 | H@1: 0.500 | H@3: 0.500 | H@10: 0.500\n",
      "2025-05-21 01:06:05,733 INFO     \t valid MR: 9.00 | MRR: 0.529 | H@1: 0.500 | H@3: 0.500 | H@10: 0.500\n",
      "2025-05-21 01:06:05,733 INFO     \t valid MR: 9.00 | MRR: 0.529 | H@1: 0.500 | H@3: 0.500 | H@10: 0.500\n",
      "2025-05-21 01:06:05,736 INFO     \t test MR: 6.83 | MRR: 0.303 | H@1: 0.167 | H@3: 0.333 | H@10: 0.833\n",
      "2025-05-21 01:06:05,736 INFO     \t test MR: 6.83 | MRR: 0.303 | H@1: 0.167 | H@3: 0.333 | H@10: 0.833\n",
      "2025-05-21 01:06:05,736 INFO     \t test MR: 6.83 | MRR: 0.303 | H@1: 0.167 | H@3: 0.333 | H@10: 0.833\n"
     ]
    },
    {
     "name": "stdout",
     "output_type": "stream",
     "text": [
      "rhs\n",
      "got (6, 3)\n",
      "lhs\n",
      "got (11, 3)\n",
      "rhs\n",
      "got (1, 4)\n",
      "got (10, 2)\n",
      "got (2, 12)\n",
      "lhs\n",
      "got (2, 4)\n",
      "got (8, 2)\n",
      "got (0, 12)\n"
     ]
    },
    {
     "data": {
      "application/vnd.jupyter.widget-view+json": {
       "model_id": "4f3126464b9244b99743e4b9f9de6c0a",
       "version_major": 2,
       "version_minor": 0
      },
      "text/plain": [
       "Batches:   0%|          | 0/1 [00:00<?, ?it/s]"
      ]
     },
     "metadata": {},
     "output_type": "display_data"
    }
   ],
   "source": [
    "rag.fit(docs, dataset_name='jack_jill')"
   ]
  },
  {
   "cell_type": "code",
   "execution_count": 35,
   "id": "bce927bb-c29e-4545-9408-7576ea01fc71",
   "metadata": {},
   "outputs": [
    {
     "data": {
      "text/plain": [
       "[Node(id=1, name='Jack', description='Jack is an adult sibling', alias=['Jack']),\n",
       " Node(id=2, name='Jill', description='Jill is an adult sibling', alias=['Jill']),\n",
       " Node(id=3, name='Sam', description='Sam is a friend of Jack and Jill', alias=['Sam']),\n",
       " Node(id=4, name='Romania', description='A country in Eastern Europe', alias=['Romania']),\n",
       " Node(id=5, name='Castle', description='A large building', alias=['Castle']),\n",
       " Node(id=6, name=\"Jack's friend\", description='A friend of Jack and Jill who is a potential match for Sam', alias=[\"Jack's friend\"]),\n",
       " Node(id=7, name='Patient', description='A person who received a medical diagnosis and treatment', alias=['Patient']),\n",
       " Node(id=8, name='Type 2 diabetes mellitus', description='A type of diabetes', alias=['Type 2 diabetes', 'Diabetes mellitus']),\n",
       " Node(id=9, name='Metformin', description='A medication used to treat type 2 diabetes', alias=['Metformin 500mg']),\n",
       " Node(id=10, name='Diagnosis', description='The process of identifying a medical condition', alias=['Diagnosis']),\n",
       " Node(id=11, name='Prescription', description='A written order for a medication', alias=['Prescription']),\n",
       " Node(id=12, name='Daily', description='A unit of time', alias=['Daily']),\n",
       " Node(id=13, name='Twice', description='A frequency', alias=['Twice']),\n",
       " Node(id=14, name='500mg', description='A dosage of a medication', alias=['500mg']),\n",
       " Node(id=15, name='Doctor', description='A medical professional who makes a diagnosis and prescribes treatment', alias=['Doctor']),\n",
       " Node(id=16, name='Medical treatment', description='A course of action to manage a medical condition', alias=['Treatment']),\n",
       " Node(id=17, name='MRI scan', description='A medical imaging technique', alias=['MRI scan']),\n",
       " Node(id=18, name='lesion', description='An abnormal growth or damage to tissue', alias=['lesion']),\n",
       " Node(id=19, name='left temporal lobe', description='A part of the brain', alias=['left temporal lobe']),\n",
       " Node(id=20, name='low-grade glioma', description='A type of brain tumor', alias=['low-grade glioma'])]"
      ]
     },
     "execution_count": 35,
     "metadata": {},
     "output_type": "execute_result"
    }
   ],
   "source": [
    "rag.graph.nodes"
   ]
  },
  {
   "cell_type": "code",
   "execution_count": 38,
   "id": "5d523f88",
   "metadata": {},
   "outputs": [
    {
     "name": "stdout",
     "output_type": "stream",
     "text": [
      "entities ['Jack']\n"
     ]
    },
    {
     "data": {
      "application/vnd.jupyter.widget-view+json": {
       "model_id": "341d2f3a2ea74c5fb91fedf3b36304e2",
       "version_major": 2,
       "version_minor": 0
      },
      "text/plain": [
       "Batches:   0%|          | 0/1 [00:00<?, ?it/s]"
      ]
     },
     "metadata": {},
     "output_type": "display_data"
    },
    {
     "name": "stdout",
     "output_type": "stream",
     "text": [
      "[[np.int64(0)]]\n",
      "node_ids [tensor([8, 6])]\n",
      "node_ids [8, 6]\n",
      "\n",
      "You are a helpful assistant analyzing the given input data to provide an helpful response to the user query.\n",
      "\n",
      "# USER QUERY\n",
      "How old is Jack?\n",
      "\n",
      "# Context:\n",
      "KnowledgeGraph Overview\n",
      "  There are 3 entities and 0 relationships in this graph.\n",
      "\n",
      "Entities in the graph:\n",
      "  • 'Jack':\n",
      "      The entity has the following description: Jack is an adult sibling\n",
      "      It can also be referred to as: Jack\n",
      "  • 'Jack's friend':\n",
      "      The entity has the following description: A friend of Jack and Jill who is a potential match for Sam\n",
      "      It can also be referred to as: Jack's friend\n",
      "  • 'Type 2 diabetes mellitus':\n",
      "      The entity has the following description: A type of diabetes\n",
      "      It can also be referred to as: Type 2 diabetes, Diabetes mellitus\n",
      "\n",
      "Relationships between nodes:\n",
      "\n",
      "\n",
      "\n",
      "# INSTRUCTIONS\n",
      "Your goal is to provide a response to the user query using the relevant information in the input data:\n",
      "- the \"Entities\" and \"Relationships\" tables contain high-level information. Use these tables to identify the most important entities and relationships to respond to the query.\n",
      "- the \"Sources\" list contains raw text sources to help answer the query. It may contain noisy data, so pay attention when analyzing it.\n",
      "\n",
      "Follow these steps:\n",
      "1. Read and understand the user query.\n",
      "2. Look at the \"Entities\" and \"Relationships\" tables to get a general sense of the data and understand which information is the most relevant to answer the query.\n",
      "3. Carefully analyze all the \"Sources\" to get more detailed information. Information could be scattered across several sources, use the identified relevant entities and relationships to guide yourself through the analysis of the sources.\n",
      "4. While you write the response, you must include inline references to the all the sources you are using by appending `[<source_id>]` at the end of each sentence, where `source_id` is the corresponding source ID from the \"Sources\" list.\n",
      "5. Write the response to the user query - which must include the inline references - based on the information you have gathered. Be very concise and answer the user query directly. If the response cannot be inferred from the input data, just say no relevant information was found. Do not make anything up or add unrelevant information.\n",
      "\n",
      "Answer:\n",
      "\n"
     ]
    },
    {
     "name": "stderr",
     "output_type": "stream",
     "text": [
      "Llama.generate: 470 prefix-match hit, remaining 1 prompt tokens to eval\n",
      "llama_perf_context_print:        load time =   17670.87 ms\n",
      "llama_perf_context_print: prompt eval time =  457403.48 ms /     2 tokens (228701.74 ms per token,     0.00 tokens per second)\n",
      "llama_perf_context_print:        eval time =  638662.94 ms /    99 runs   ( 6451.14 ms per token,     0.16 tokens per second)\n",
      "llama_perf_context_print:       total time =  645344.16 ms /   101 tokens\n"
     ]
    },
    {
     "data": {
      "text/plain": [
       "'The query is \"How old is Jack?\"\\n\\nThe user query is asking for the age of a person named Jack. \\nAccording to the \"Entities\" table, Jack is an adult sibling. \\nThere is no information provided about Jack\\'s age.\\n\\n**Response:** I couldn\\'t find any information about Jack\\'s age [0]. If you know more context about Jack, please feel free to provide it, and I\\'ll do my best to help you. [0] (Source: None)  #'"
      ]
     },
     "execution_count": 38,
     "metadata": {},
     "output_type": "execute_result"
    }
   ],
   "source": [
    "resp = rag.query(queries[0])\n",
    "resp"
   ]
  },
  {
   "cell_type": "code",
   "execution_count": null,
   "id": "ff34e6b7-452f-4e0c-ba0d-052e5832405f",
   "metadata": {},
   "outputs": [],
   "source": []
  }
 ],
 "metadata": {
  "kernelspec": {
   "display_name": "Python 3 (ipykernel)",
   "language": "python",
   "name": "python3"
  },
  "language_info": {
   "codemirror_mode": {
    "name": "ipython",
    "version": 3
   },
   "file_extension": ".py",
   "mimetype": "text/x-python",
   "name": "python",
   "nbconvert_exporter": "python",
   "pygments_lexer": "ipython3",
   "version": "3.10.17"
  }
 },
 "nbformat": 4,
 "nbformat_minor": 5
}
