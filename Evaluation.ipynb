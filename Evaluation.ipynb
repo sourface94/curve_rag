{
 "cells": [
  {
   "cell_type": "code",
   "execution_count": null,
   "id": "a0c26715",
   "metadata": {},
   "outputs": [],
   "source": [
    "%load_ext autoreload\n",
    "%autoreload 2"
   ]
  },
  {
   "cell_type": "code",
   "execution_count": null,
   "id": "d66900bc",
   "metadata": {},
   "outputs": [],
   "source": [
    "import os\n",
    "\n",
    "import json\n",
    "\n",
    "import llama_cpp\n",
    "import torch\n",
    "\n",
    "from dotenv import load_dotenv\n",
    "from openai import OpenAI\n",
    "\n",
    "from curverag import utils\n",
    "from curverag.curverag import CurveRAG, DEFAULT_ENTITY_TYPES, DEFAULT_GLINER_MODEL, DEFAULT_SENTENCE_TRANSFORMER_MODEL\n",
    "from curverag.graph import KnowledgeGraph\n",
    "from curverag.atth.kg_dataset import KGDataset\n",
    "from curverag.atth.models.hyperbolic import AttH\n",
    "from curverag.eval import evaluation, queries, context, expected_output\n",
    "\n",
    "load_dotenv() "
   ]
  },
  {
   "cell_type": "markdown",
   "id": "8eb821f9-2cb7-4807-b6d5-412f83e1bf0b",
   "metadata": {},
   "source": [
    "# Explore dataset"
   ]
  },
  {
   "cell_type": "code",
   "execution_count": null,
   "id": "f9147308-1ea2-4b26-86a2-01995d94c838",
   "metadata": {},
   "outputs": [],
   "source": [
    "with open('../datasets/2WikiMultihopQA/train.json', 'rb') as f:\n",
    "    train = json.load(f)\n",
    "\n",
    "with open('../datasets/2WikiMultihopQA/dev.json', 'rb') as f:\n",
    "    dev = json.load(f)\n",
    "\n",
    "with open('../datasets/2WikiMultihopQA/test.json', 'rb') as f:\n",
    "    test = json.load(f)"
   ]
  },
  {
   "cell_type": "code",
   "execution_count": null,
   "id": "96a45a70-96ea-4b27-a0c7-4f30b65913fc",
   "metadata": {},
   "outputs": [],
   "source": [
    "train[0].keys()"
   ]
  },
  {
   "cell_type": "code",
   "execution_count": null,
   "id": "ac0641d3-d4fd-41ef-a520-f8f839e694a5",
   "metadata": {},
   "outputs": [],
   "source": [
    "train[0]['question']"
   ]
  },
  {
   "cell_type": "code",
   "execution_count": null,
   "id": "b542df63-af8a-4247-a89e-b6459a93f196",
   "metadata": {},
   "outputs": [],
   "source": [
    "train[0]['answer']"
   ]
  },
  {
   "cell_type": "code",
   "execution_count": null,
   "id": "a057c802-90e0-4a11-bee5-d4312efb95fb",
   "metadata": {},
   "outputs": [],
   "source": [
    "train[0]['context']"
   ]
  },
  {
   "cell_type": "markdown",
   "id": "ac072bc8-7de2-4544-a729-6b3c6c0d29ec",
   "metadata": {},
   "source": [
    "# Run eval"
   ]
  },
  {
   "cell_type": "markdown",
   "id": "528a23ae-64b9-4154-9213-c99681a3401e",
   "metadata": {},
   "source": [
    "## Train Model"
   ]
  },
  {
   "cell_type": "code",
   "execution_count": null,
   "id": "36c26de2-4560-41a1-bd2f-92caf2e3a972",
   "metadata": {},
   "outputs": [],
   "source": [
    "api_key = os.getenv(\"OPENAI_API_KEY\")\n",
    "client = OpenAI(api_key=api_key)"
   ]
  },
  {
   "cell_type": "code",
   "execution_count": null,
   "id": "a313296e-c279-4b8a-bb2a-fad3455146a6",
   "metadata": {},
   "outputs": [],
   "source": [
    "entity_types = ['people', 'locations', 'entities', 'movies', 'directors']\n",
    "rag = CurveRAG(\n",
    "    openai_client=client,\n",
    "    entity_types=entity_types,\n",
    ")"
   ]
  },
  {
   "cell_type": "code",
   "execution_count": null,
   "id": "3f0271be-300b-45f8-a47f-ce522a451386",
   "metadata": {},
   "outputs": [],
   "source": [
    "new_docs = []\n",
    "for d in train:\n",
    "    d_ = str(d['context']).replace('[', '').replace(']', '. ').replace('\\'', '')\n",
    "    new_docs.append(d_)"
   ]
  },
  {
   "cell_type": "code",
   "execution_count": null,
   "id": "2e3cab56-c589-481e-a615-fc8530546977",
   "metadata": {},
   "outputs": [],
   "source": [
    "dataset_size = 100\n",
    "rag.fit(new_docs[:dataset_size], dataset_name='movies')"
   ]
  },
  {
   "cell_type": "code",
   "execution_count": null,
   "id": "53089ce6-052f-42b9-8c77-a44ea84d6423",
   "metadata": {},
   "outputs": [],
   "source": [
    "rag.graph.nodes"
   ]
  },
  {
   "cell_type": "code",
   "execution_count": null,
   "id": "c70a670d-c24c-4d1e-ac0f-4bcb49df42b9",
   "metadata": {},
   "outputs": [],
   "source": [
    "rag.graph.edges"
   ]
  },
  {
   "cell_type": "markdown",
   "id": "56a4d795-cb18-4cb0-9222-4eb69c5d3958",
   "metadata": {},
   "source": [
    "## Test Model"
   ]
  },
  {
   "cell_type": "code",
   "execution_count": null,
   "id": "f28bc0b8-1c2a-4f04-85b8-bca4f8ba132b",
   "metadata": {},
   "outputs": [],
   "source": [
    "responses_pp = []\n",
    "for i in range(dataset_size):\n",
    "    resp = rag.query(train[i]['question'], traversal = 'pp')\n",
    "    responses_pp.append(resp)"
   ]
  },
  {
   "cell_type": "code",
   "execution_count": null,
   "id": "ea35c01f-c70d-4363-9cc3-cfa1f6b1e99d",
   "metadata": {},
   "outputs": [],
   "source": [
    "responses_ = []\n",
    "for i in range(dataset_size):\n",
    "    resp = rag.query(train[i]['question'], traversal='hyperbolic')\n",
    "    responses_.append(resp)"
   ]
  }
 ],
 "metadata": {
  "kernelspec": {
   "display_name": "Python 3 (ipykernel)",
   "language": "python",
   "name": "python3"
  },
  "language_info": {
   "codemirror_mode": {
    "name": "ipython",
    "version": 3
   },
   "file_extension": ".py",
   "mimetype": "text/x-python",
   "name": "python",
   "nbconvert_exporter": "python",
   "pygments_lexer": "ipython3",
   "version": "3.10.17"
  }
 },
 "nbformat": 4,
 "nbformat_minor": 5
}
