{
 "cells": [
  {
   "cell_type": "code",
   "execution_count": 1,
   "id": "a0c26715",
   "metadata": {},
   "outputs": [],
   "source": [
    "%load_ext autoreload\n",
    "%autoreload 2"
   ]
  },
  {
   "cell_type": "code",
   "execution_count": 2,
   "id": "d66900bc",
   "metadata": {},
   "outputs": [
    {
     "data": {
      "text/plain": [
       "True"
      ]
     },
     "execution_count": 2,
     "metadata": {},
     "output_type": "execute_result"
    }
   ],
   "source": [
    "import os\n",
    "\n",
    "import json\n",
    "\n",
    "import llama_cpp\n",
    "import torch\n",
    "import pandas as pd\n",
    "\n",
    "from dotenv import load_dotenv\n",
    "from openai import OpenAI\n",
    "\n",
    "from curverag import utils\n",
    "from curverag.curverag import CurveRAG, DEFAULT_ENTITY_TYPES, DEFAULT_GLINER_MODEL, DEFAULT_SENTENCE_TRANSFORMER_MODEL\n",
    "from curverag.graph import KnowledgeGraph\n",
    "from curverag.atth.kg_dataset import KGDataset\n",
    "from curverag.atth.models.hyperbolic import AttH\n",
    "from curverag.eval import evaluation, queries, context, expected_output\n",
    "\n",
    "load_dotenv() "
   ]
  },
  {
   "cell_type": "markdown",
   "id": "8eb821f9-2cb7-4807-b6d5-412f83e1bf0b",
   "metadata": {},
   "source": [
    "# Explore dataset"
   ]
  },
  {
   "cell_type": "code",
   "execution_count": 6,
   "id": "f9147308-1ea2-4b26-86a2-01995d94c838",
   "metadata": {},
   "outputs": [],
   "source": [
    "with open('../datasets/2WikiMultihopQA/train.json', 'rb') as f:\n",
    "    train = json.load(f)\n",
    "\n",
    "with open('../datasets/2WikiMultihopQA/dev.json', 'rb') as f:\n",
    "    dev = json.load(f)\n",
    "\n",
    "with open('../datasets/2WikiMultihopQA/test.json', 'rb') as f:\n",
    "    test = json.load(f)"
   ]
  },
  {
   "cell_type": "code",
   "execution_count": 7,
   "id": "96a45a70-96ea-4b27-a0c7-4f30b65913fc",
   "metadata": {},
   "outputs": [
    {
     "data": {
      "text/plain": [
       "dict_keys(['_id', 'type', 'question', 'context', 'supporting_facts', 'evidences', 'answer'])"
      ]
     },
     "execution_count": 7,
     "metadata": {},
     "output_type": "execute_result"
    }
   ],
   "source": [
    "train[0].keys()"
   ]
  },
  {
   "cell_type": "code",
   "execution_count": 8,
   "id": "ac0641d3-d4fd-41ef-a520-f8f839e694a5",
   "metadata": {},
   "outputs": [
    {
     "data": {
      "text/plain": [
       "'Are director of film Move (1970 Film) and director of film Méditerranée (1963 Film) from the same country?'"
      ]
     },
     "execution_count": 8,
     "metadata": {},
     "output_type": "execute_result"
    }
   ],
   "source": [
    "train[0]['question']"
   ]
  },
  {
   "cell_type": "code",
   "execution_count": 11,
   "id": "e66a7e5d-8d44-42c9-b3ba-ede62f82dff1",
   "metadata": {},
   "outputs": [
    {
     "data": {
      "text/plain": [
       "[['Stuart Rosenberg',\n",
       "  ['Stuart Rosenberg (August 11, 1927 – March 15, 2007) was an American film and television director whose motion pictures include \"Cool Hand Luke\" (1967), \"Voyage of the Damned\" (1976), \"The Amityville Horror\" (1979), and \"The Pope of Greenwich Village\" (1984).',\n",
       "   'He was noted for his work with actor Paul Newman.']],\n",
       " ['Méditerranée (1963 film)',\n",
       "  ['Méditerranée is a 1963 French experimental film directed by Jean-Daniel Pollet with assistance from Volker Schlöndorff.',\n",
       "   'It was written by Philippe Sollers and produced by Barbet Schroeder, with music by Antione Duhamel.',\n",
       "   'The 45 minute film is cited as one of Pollet\\'s most influential films, which according to Jonathan Rosenbaum directly influenced Jean-Luc Goddard\\'s \"Contempt\", released later the same year.',\n",
       "   'Footage for the film was shot around the Mediterranean, including at a Greek temple, a Sicilian garden, the sea, and also features a fisherman, a bullfighter, and a girl on an operating table.']],\n",
       " ['Move (1970 film)',\n",
       "  ['Move is a 1970 American comedy film starring Elliott Gould, Paula Prentiss and Geneviève Waïte, and directed by Stuart Rosenberg.',\n",
       "   'The screenplay was written by Joel Lieber and Stanley Hart, adapted from a novel by Lieber.']]]"
      ]
     },
     "execution_count": 11,
     "metadata": {},
     "output_type": "execute_result"
    }
   ],
   "source": [
    "train[0]['context'][:3]"
   ]
  },
  {
   "cell_type": "code",
   "execution_count": 10,
   "id": "b542df63-af8a-4247-a89e-b6459a93f196",
   "metadata": {},
   "outputs": [
    {
     "data": {
      "text/plain": [
       "'no'"
      ]
     },
     "execution_count": 10,
     "metadata": {},
     "output_type": "execute_result"
    }
   ],
   "source": [
    "train[0]['answer']"
   ]
  },
  {
   "cell_type": "markdown",
   "id": "ac072bc8-7de2-4544-a729-6b3c6c0d29ec",
   "metadata": {},
   "source": [
    "# Run eval"
   ]
  },
  {
   "cell_type": "markdown",
   "id": "528a23ae-64b9-4154-9213-c99681a3401e",
   "metadata": {},
   "source": [
    "## Train Model"
   ]
  },
  {
   "cell_type": "code",
   "execution_count": 12,
   "id": "36c26de2-4560-41a1-bd2f-92caf2e3a972",
   "metadata": {},
   "outputs": [],
   "source": [
    "api_key = os.getenv(\"OPENAI_API_KEY\")\n",
    "client = OpenAI(api_key=api_key)"
   ]
  },
  {
   "cell_type": "code",
   "execution_count": null,
   "id": "a313296e-c279-4b8a-bb2a-fad3455146a6",
   "metadata": {},
   "outputs": [],
   "source": [
    "entity_types = ['people', 'locations', 'entities', 'movies', 'directors']\n",
    "rag = CurveRAG(\n",
    "    openai_client=client,\n",
    "    entity_types=entity_types,\n",
    ")"
   ]
  },
  {
   "cell_type": "code",
   "execution_count": null,
   "id": "3f0271be-300b-45f8-a47f-ce522a451386",
   "metadata": {},
   "outputs": [],
   "source": [
    "new_docs = []\n",
    "for d in train:\n",
    "    d_ = str(d['context']).replace('[', '').replace(']', '. ').replace('\\'', '')\n",
    "    new_docs.append(d_)"
   ]
  },
  {
   "cell_type": "code",
   "execution_count": null,
   "id": "2e3cab56-c589-481e-a615-fc8530546977",
   "metadata": {},
   "outputs": [],
   "source": [
    "dataset_size = 100\n",
    "rag.fit(new_docs[:dataset_size], dataset_name='movies')"
   ]
  },
  {
   "cell_type": "code",
   "execution_count": null,
   "id": "53089ce6-052f-42b9-8c77-a44ea84d6423",
   "metadata": {},
   "outputs": [],
   "source": [
    "rag.graph.nodes"
   ]
  },
  {
   "cell_type": "code",
   "execution_count": null,
   "id": "c70a670d-c24c-4d1e-ac0f-4bcb49df42b9",
   "metadata": {},
   "outputs": [],
   "source": [
    "rag.graph.edges"
   ]
  },
  {
   "cell_type": "markdown",
   "id": "56a4d795-cb18-4cb0-9222-4eb69c5d3958",
   "metadata": {},
   "source": [
    "## Test Model"
   ]
  },
  {
   "cell_type": "code",
   "execution_count": null,
   "id": "f28bc0b8-1c2a-4f04-85b8-bca4f8ba132b",
   "metadata": {},
   "outputs": [],
   "source": [
    "responses_pp = []\n",
    "for i in range(dataset_size):\n",
    "    resp = rag.query(train[i]['question'], traversal = 'pp')\n",
    "    responses_pp.append(resp)"
   ]
  },
  {
   "cell_type": "code",
   "execution_count": null,
   "id": "ea35c01f-c70d-4363-9cc3-cfa1f6b1e99d",
   "metadata": {},
   "outputs": [],
   "source": [
    "responses_ = []\n",
    "for i in range(dataset_size):\n",
    "    resp = rag.query(train[i]['question'], traversal='hyperbolic')\n",
    "    responses_.append(resp)"
   ]
  },
  {
   "cell_type": "markdown",
   "id": "84c44f5d-5f6e-4c80-b0f8-46c836189d23",
   "metadata": {},
   "source": [
    "# Evaluate Results"
   ]
  },
  {
   "cell_type": "code",
   "execution_count": 3,
   "id": "a0791e76-01a9-4fcc-b772-d81b30d9d740",
   "metadata": {},
   "outputs": [],
   "source": [
    "pd.set_option('display.max_colwidth', None)"
   ]
  },
  {
   "cell_type": "code",
   "execution_count": 4,
   "id": "fafec970-6865-45da-84e3-f9ca0a6fd47c",
   "metadata": {},
   "outputs": [],
   "source": [
    "results_df = pd.read_csv('results.csv')"
   ]
  },
  {
   "cell_type": "code",
   "execution_count": 30,
   "id": "17acc70c-7476-4191-b047-c0416d956d4f",
   "metadata": {},
   "outputs": [
    {
     "data": {
      "text/html": [
       "<div>\n",
       "<style scoped>\n",
       "    .dataframe tbody tr th:only-of-type {\n",
       "        vertical-align: middle;\n",
       "    }\n",
       "\n",
       "    .dataframe tbody tr th {\n",
       "        vertical-align: top;\n",
       "    }\n",
       "\n",
       "    .dataframe thead th {\n",
       "        text-align: right;\n",
       "    }\n",
       "</style>\n",
       "<table border=\"1\" class=\"dataframe\">\n",
       "  <thead>\n",
       "    <tr style=\"text-align: right;\">\n",
       "      <th></th>\n",
       "      <th>question</th>\n",
       "      <th>answer</th>\n",
       "      <th>response_hyperbolic</th>\n",
       "      <th>response_pp</th>\n",
       "    </tr>\n",
       "  </thead>\n",
       "  <tbody>\n",
       "    <tr>\n",
       "      <th>0</th>\n",
       "      <td>Are director of film Move (1970 Film) and director of film Méditerranée (1963 Film) from the same country?</td>\n",
       "      <td>no</td>\n",
       "      <td>The director of the film *Move* (1970) is Stuart Rosenberg, who is American. The director of the film *Méditerranée* (1963) is Jean-Daniel Pollet, who is French. Therefore, the directors of these two films are from different countries: one is from the United States and the other from France.</td>\n",
       "      <td>The director of the film *Move* (1970) is Stuart Rosenberg, and he is from the United States. The director of *Méditerranée* (1963) is Jean-Daniel Pollet, who is from France. Therefore, the directors of these two films are not from the same country.</td>\n",
       "    </tr>\n",
       "    <tr>\n",
       "      <th>1</th>\n",
       "      <td>Do both films The Falcon (Film) and Valentin The Good have the directors from the same country?</td>\n",
       "      <td>no</td>\n",
       "      <td>The film *The Falcon (1981)* was directed by Vatroslav Mimica, who is from Yugoslavia. In contrast, *Valentin The Good (1942)* was directed by Martin Frič, who is from the Czech Republic. Therefore, the directors of both films do not come from the same country.</td>\n",
       "      <td>Yes, both films \"The Falcon\" (1981) and \"Valentin the Good\" (1942) have directors from the same country, specifically from the Czech Republic. \"Valentin the Good\" is directed by Martin Frič, who is a Czech film director, while \"The Falcon\" was influenced by the works of Martin Frič, indicating a connection to Czech cinema, although the director of \"The Falcon,\" Vatroslav Mimica, is Yugoslavian. Therefore, the directors are not from the same country; \"Valentin the Good\" is Czech, while \"The Falcon\" is Yugoslavian-German.</td>\n",
       "    </tr>\n",
       "  </tbody>\n",
       "</table>\n",
       "</div>"
      ],
      "text/plain": [
       "                                                                                                     question  \\\n",
       "0  Are director of film Move (1970 Film) and director of film Méditerranée (1963 Film) from the same country?   \n",
       "1             Do both films The Falcon (Film) and Valentin The Good have the directors from the same country?   \n",
       "\n",
       "  answer  \\\n",
       "0     no   \n",
       "1     no   \n",
       "\n",
       "                                                                                                                                                                                                                                                                                    response_hyperbolic  \\\n",
       "0  The director of the film *Move* (1970) is Stuart Rosenberg, who is American. The director of the film *Méditerranée* (1963) is Jean-Daniel Pollet, who is French. Therefore, the directors of these two films are from different countries: one is from the United States and the other from France.   \n",
       "1                                 The film *The Falcon (1981)* was directed by Vatroslav Mimica, who is from Yugoslavia. In contrast, *Valentin The Good (1942)* was directed by Martin Frič, who is from the Czech Republic. Therefore, the directors of both films do not come from the same country.   \n",
       "\n",
       "                                                                                                                                                                                                                                                                                                                                                                                                                                                                                                                                      response_pp  \n",
       "0                                                                                                                                                                                                                                                                                       The director of the film *Move* (1970) is Stuart Rosenberg, and he is from the United States. The director of *Méditerranée* (1963) is Jean-Daniel Pollet, who is from France. Therefore, the directors of these two films are not from the same country.  \n",
       "1  Yes, both films \"The Falcon\" (1981) and \"Valentin the Good\" (1942) have directors from the same country, specifically from the Czech Republic. \"Valentin the Good\" is directed by Martin Frič, who is a Czech film director, while \"The Falcon\" was influenced by the works of Martin Frič, indicating a connection to Czech cinema, although the director of \"The Falcon,\" Vatroslav Mimica, is Yugoslavian. Therefore, the directors are not from the same country; \"Valentin the Good\" is Czech, while \"The Falcon\" is Yugoslavian-German.   "
      ]
     },
     "execution_count": 30,
     "metadata": {},
     "output_type": "execute_result"
    }
   ],
   "source": [
    "results_df.head(2)"
   ]
  },
  {
   "cell_type": "markdown",
   "id": "755913aa-0589-436d-a433-b10ec1009e3c",
   "metadata": {},
   "source": [
    "# Test OpenAI GPT Model"
   ]
  },
  {
   "cell_type": "code",
   "execution_count": 27,
   "id": "551f2c20-4b30-4280-916a-74a96d962217",
   "metadata": {},
   "outputs": [],
   "source": [
    "api_key = os.getenv(\"OPENAI_API_KEY\")\n",
    "client = OpenAI(api_key=api_key)"
   ]
  },
  {
   "cell_type": "code",
   "execution_count": 39,
   "id": "fca03b34-27a4-42e6-b7fe-0a37b65c8cff",
   "metadata": {},
   "outputs": [],
   "source": [
    "def get_prompt(question, answer_1, answer_2):\n",
    "    prompt = f\"\"\"\n",
    "        You are excellent at determining whether two answers to a question aer the same despite their syntax being different.\n",
    "        You will be given a question and two answers. Reply True if the answer is essentially the same, otherwise reply with False.\n",
    "        \n",
    "        Given the question: {question} \n",
    "        \n",
    "        Are these two answers essentially the same:\n",
    "        - Answer 1: {answer_1}\n",
    "        - Answer 2: {answer_2}\n",
    "    \"\"\"\n",
    "    return prompt"
   ]
  },
  {
   "cell_type": "code",
   "execution_count": 35,
   "id": "10b6a33b-48ff-47c7-a3f9-f80cca3f0dcc",
   "metadata": {},
   "outputs": [],
   "source": [
    "q = results_df.iloc[0]['question']\n",
    "a1 = results_df.iloc[0]['answer']\n",
    "a2 = results_df.iloc[0]['response_hyperbolic']"
   ]
  },
  {
   "cell_type": "code",
   "execution_count": 37,
   "id": "fab6efba-8bf8-491a-afbb-9ea77541c061",
   "metadata": {},
   "outputs": [
    {
     "name": "stdout",
     "output_type": "stream",
     "text": [
      "q Are director of film Move (1970 Film) and director of film Méditerranée (1963 Film) from the same country?\n",
      "answer 1 no\n",
      "answer 2 The director of the film *Move* (1970) is Stuart Rosenberg, who is American. The director of the film *Méditerranée* (1963) is Jean-Daniel Pollet, who is French. Therefore, the directors of these two films are from different countries: one is from the United States and the other from France.\n"
     ]
    }
   ],
   "source": [
    "print('q', q)\n",
    "print('answer 1', a1)\n",
    "print('answer 2', a2)"
   ]
  },
  {
   "cell_type": "code",
   "execution_count": 44,
   "id": "63582be4-9d86-4aa6-aea2-871b2c29d652",
   "metadata": {},
   "outputs": [],
   "source": [
    "response = client.responses.create(\n",
    "    model='gpt-4.1',\n",
    "    input=get_prompt(q, a1, a2)\n",
    ")"
   ]
  },
  {
   "cell_type": "code",
   "execution_count": 45,
   "id": "72bfbf0d-efea-4f46-a91a-83387c35630d",
   "metadata": {},
   "outputs": [
    {
     "data": {
      "text/plain": [
       "'True'"
      ]
     },
     "execution_count": 45,
     "metadata": {},
     "output_type": "execute_result"
    }
   ],
   "source": [
    "response.output_text"
   ]
  },
  {
   "cell_type": "code",
   "execution_count": 58,
   "id": "06685fbe-aa44-4e7c-a9d8-4d012dc34693",
   "metadata": {},
   "outputs": [
    {
     "name": "stdout",
     "output_type": "stream",
     "text": [
      "0\n",
      "10\n",
      "20\n",
      "30\n",
      "40\n",
      "50\n",
      "60\n",
      "70\n",
      "80\n",
      "90\n"
     ]
    }
   ],
   "source": [
    "is_the_same = []\n",
    "for i, row in results_df.iterrows():\n",
    "    if i % 10 ==0:\n",
    "        print(i)\n",
    "    q = row['question']\n",
    "    a1 = row['answer']\n",
    "    a2 = row['response_hyperbolic']\n",
    "    try:\n",
    "        response = client.responses.create(\n",
    "            model='gpt-4.1',\n",
    "            input=get_prompt(q, a1, a2)\n",
    "        )\n",
    "        is_the_same.append(response.output_text)\n",
    "    except:\n",
    "        is_the_same.append('Error')"
   ]
  },
  {
   "cell_type": "code",
   "execution_count": 71,
   "id": "99b8e83e-0551-49a9-a842-0798a52ba073",
   "metadata": {},
   "outputs": [
    {
     "name": "stdout",
     "output_type": "stream",
     "text": [
      "0\n",
      "10\n",
      "20\n",
      "30\n",
      "40\n",
      "50\n",
      "60\n",
      "70\n",
      "80\n",
      "90\n"
     ]
    }
   ],
   "source": [
    "is_the_same_pp = []\n",
    "for i, row in results_df.iterrows():\n",
    "    if i % 10 ==0:\n",
    "        print(i)\n",
    "    q = row['question']\n",
    "    a1 = row['answer']\n",
    "    a2 = row['response_pp']\n",
    "    try:\n",
    "        response = client.responses.create(\n",
    "            model='gpt-4.1',\n",
    "            input=get_prompt(q, a1, a2)\n",
    "        )\n",
    "        is_the_same_pp.append(response.output_text)\n",
    "    except:\n",
    "        is_the_same_pp.append('Error')"
   ]
  },
  {
   "cell_type": "code",
   "execution_count": 72,
   "id": "68e524b9-9d8d-40f9-9db7-186175be7db5",
   "metadata": {},
   "outputs": [],
   "source": [
    "results_df['is_same'] = is_the_same\n",
    "results_df['is_same_pp'] = is_the_same_pp"
   ]
  },
  {
   "cell_type": "code",
   "execution_count": 73,
   "id": "0a13ec8a-08e9-4e77-9336-0cde133050d8",
   "metadata": {},
   "outputs": [],
   "source": [
    "def clean_is_same(text):\n",
    "    if text.lower().startswith('true'):\n",
    "        return True\n",
    "    else:\n",
    "        return False"
   ]
  },
  {
   "cell_type": "code",
   "execution_count": 74,
   "id": "fe31f212-bd4c-4e0c-83c7-972640749d97",
   "metadata": {},
   "outputs": [],
   "source": [
    "results_df['is_same_clean'] = results_df['is_same'].apply(clean_is_same)\n",
    "results_df['is_same_pp_clean'] = results_df['is_same_pp'].apply(clean_is_same)"
   ]
  },
  {
   "cell_type": "code",
   "execution_count": 75,
   "id": "69b0a912-f990-4ed8-ad86-e3ebe12c2f63",
   "metadata": {},
   "outputs": [
    {
     "data": {
      "text/plain": [
       "np.float64(0.49)"
      ]
     },
     "execution_count": 75,
     "metadata": {},
     "output_type": "execute_result"
    }
   ],
   "source": [
    "results_df['is_same_clean'].sum() / len(results_df)"
   ]
  },
  {
   "cell_type": "code",
   "execution_count": 76,
   "id": "3d30f575-c710-4491-a162-7262ba34846c",
   "metadata": {},
   "outputs": [
    {
     "data": {
      "text/plain": [
       "np.float64(0.52)"
      ]
     },
     "execution_count": 76,
     "metadata": {},
     "output_type": "execute_result"
    }
   ],
   "source": [
    "results_df['is_same_pp_clean'].sum() / len(results_df)"
   ]
  },
  {
   "cell_type": "code",
   "execution_count": 70,
   "id": "f116f5f1-5357-4736-9fd1-5b74a53bdace",
   "metadata": {},
   "outputs": [
    {
     "data": {
      "text/html": [
       "<div>\n",
       "<style scoped>\n",
       "    .dataframe tbody tr th:only-of-type {\n",
       "        vertical-align: middle;\n",
       "    }\n",
       "\n",
       "    .dataframe tbody tr th {\n",
       "        vertical-align: top;\n",
       "    }\n",
       "\n",
       "    .dataframe thead th {\n",
       "        text-align: right;\n",
       "    }\n",
       "</style>\n",
       "<table border=\"1\" class=\"dataframe\">\n",
       "  <thead>\n",
       "    <tr style=\"text-align: right;\">\n",
       "      <th></th>\n",
       "      <th>question</th>\n",
       "      <th>answer</th>\n",
       "      <th>response_hyperbolic</th>\n",
       "      <th>response_pp</th>\n",
       "      <th>is_same</th>\n",
       "      <th>is_same_clean</th>\n",
       "    </tr>\n",
       "  </thead>\n",
       "  <tbody>\n",
       "    <tr>\n",
       "      <th>2</th>\n",
       "      <td>Which film whose director is younger, Charge It To Me or Danger: Diabolik?</td>\n",
       "      <td>Danger: Diabolik</td>\n",
       "      <td>To determine which film's director is younger, we need to look at the directors of \"Charge It To Me\" and \"Danger: Diabolik.\"\\n\\n1. The film \"Danger: Diabolik\" was directed by **Mario Bava**, but the birth date of Mario Bava is not provided in the data. \\n2. The director of \"Charge It To Me\" is **Ian Barry**, who has also no birth date mentioned.\\n\\nSince I don't have specific birth dates for Mario Bava or Ian Barry from the provided data, I cannot definitively answer which director is younger. No relevant information was found to compare their ages.</td>\n",
       "      <td>To compare the directors' ages of \"Charge It To Me\" and \"Danger: Diabolik,\" we first identify that \"Danger: Diabolik\" was directed by **Mario Bava** in 1968. Unfortunately, the information about the director of \"Charge It To Me\" is not present in the provided context. Therefore, I cannot determine which film's director is younger based on the available data.\\n\\nIn short, no relevant information was found regarding the director of \"Charge It To Me.\"</td>\n",
       "      <td>False\\n\\nThe first answer directly states \"Danger: Diabolik\" as the answer, implying its director is younger. The second answer states that there is not enough information to determine which director is younger. These are not essentially the same.</td>\n",
       "      <td>False</td>\n",
       "    </tr>\n",
       "    <tr>\n",
       "      <th>4</th>\n",
       "      <td>What nationality is the director of film Wedding Night In Paradise (1950 Film)?</td>\n",
       "      <td>Hungarian</td>\n",
       "      <td>The director of the film \"Wedding Night In Paradise\" (1950) is Géza von Bolváry, who is of German nationality. The film is noted as a West German musical comedy and stars Johannes Heesters, Claude Farell, and Gretl Schörg. It is based on a 1942 stage work and was produced in the post-war German film industry context [8].</td>\n",
       "      <td>The director of the film \"Wedding Night in Paradise\" (1950) is Géza von Bolváry, who was of Hungarian nationality. The film is a West German musical comedy and is based on a 1942 stage work[2].</td>\n",
       "      <td>False</td>\n",
       "      <td>False</td>\n",
       "    </tr>\n",
       "    <tr>\n",
       "      <th>5</th>\n",
       "      <td>When is the composer of film Sruthilayalu 's birthday?</td>\n",
       "      <td>14 March 1918</td>\n",
       "      <td>The composer of the film *Sruthilayalu* is K. V. Mahadevan. However, there is no specific information regarding his birthday available in the provided data. If you need further details or specific inquiries about his work, please let me know!</td>\n",
       "      <td>No relevant information was found regarding the birthday of the composer of the film 'Sruthilayalu', K. V. Mahadevan.</td>\n",
       "      <td>False</td>\n",
       "      <td>False</td>\n",
       "    </tr>\n",
       "    <tr>\n",
       "      <th>6</th>\n",
       "      <td>Who is Rhescuporis I (Odrysian)'s paternal grandfather?</td>\n",
       "      <td>Raizdos</td>\n",
       "      <td>Rhescuporis I's paternal grandfather is Cotys II. Cotys III, Rhescuporis I's father, was the son of Cotys II, making him the paternal grandfather of Rhescuporis I. This lineage places Cotys II as the ancestor from whom Rhescuporis I descends within the Odrysian kingdom of Thrace.</td>\n",
       "      <td>Rhescuporis I of the Odrysian kingdom of Thrace's paternal grandfather is Cotys I. This is deduced from the information that Rhescuporis I succeeded his father, Cotys III, and that Rhoemetalces I, a relative noted as a descendant of Cotys I, was mentioned in relation to the Odrysian royal lineage. Therefore, Cotys I is indeed his paternal grandfather.</td>\n",
       "      <td>False</td>\n",
       "      <td>False</td>\n",
       "    </tr>\n",
       "    <tr>\n",
       "      <th>9</th>\n",
       "      <td>Where was the director of film The Fascist born?</td>\n",
       "      <td>Rome</td>\n",
       "      <td>The film *The Fascist* was directed by Luciano Salce. However, the provided data does not include information about where Luciano Salce was born. Therefore, no relevant information was found regarding the birthplace of the director.</td>\n",
       "      <td>The director of the film \"The Fascist,\" Luciano Salce, was born in Italy. However, the specific place of his birth is not provided in the available information. Therefore, no relevant information was found regarding his exact birthplace.</td>\n",
       "      <td>False</td>\n",
       "      <td>False</td>\n",
       "    </tr>\n",
       "    <tr>\n",
       "      <th>15</th>\n",
       "      <td>Where was the place of burial of the performer of song There Is So Much World To See?</td>\n",
       "      <td>Graceland</td>\n",
       "      <td>The song \"There Is So Much World To See\" was performed by Elvis Presley. However, the context provided does not contain information about his place of burial. Therefore, no relevant information was found regarding the burial location of Elvis Presley.</td>\n",
       "      <td>Elvis Presley, the performer of the song \"There Is So Much World to See,\" is buried at Graceland in Memphis, Tennessee. This historic site was also his home and is now a museum dedicated to his life and career.</td>\n",
       "      <td>False</td>\n",
       "      <td>False</td>\n",
       "    </tr>\n",
       "    <tr>\n",
       "      <th>16</th>\n",
       "      <td>What is the date of birth of the director of film Wandering Fires?</td>\n",
       "      <td>November 28, 1919</td>\n",
       "      <td>The director of the film \"Wandering Fires\" is Maurice Campbell. His date of birth is not provided in the available data, so no relevant information regarding his date of birth was found.</td>\n",
       "      <td>The director of the film \"Wandering Fires\" is Maurice Campbell. However, there is no information available regarding his date of birth in the provided data. Thus, no relevant information was found about his birthdate.</td>\n",
       "      <td>False</td>\n",
       "      <td>False</td>\n",
       "    </tr>\n",
       "    <tr>\n",
       "      <th>17</th>\n",
       "      <td>When did Fatima Bint Mubarak Al Ketbi's husband die?</td>\n",
       "      <td>2 November 2004</td>\n",
       "      <td>No relevant information was found regarding the death of Fatima Bint Mubarak Al Ketbi's husband.</td>\n",
       "      <td>Fatima Bint Mubarak Al Ketbi was married to Zayed bin Sultan Al Nahyan, who passed away on November 2, 2004[6].</td>\n",
       "      <td>False</td>\n",
       "      <td>False</td>\n",
       "    </tr>\n",
       "    <tr>\n",
       "      <th>22</th>\n",
       "      <td>Does Ted Swinford have the same nationality as Nirmala Sheoran?</td>\n",
       "      <td>no</td>\n",
       "      <td>Yes, Ted Swinford and Nirmala Sheoran have the same nationality; both are associated with India. Ted Swinford is an American rower, while Nirmala Sheoran is an Indian sprinter specializing in the 400 meters[8][20].</td>\n",
       "      <td>Yes, Ted Swinford and Nirmala Sheoran have the same nationality; both are Indian and American, respectively, as per their descriptions in the provided data. Nirmala Sheoran is identified as an Indian sprinter, while Ted Swinford is described as an American rower and gold medalist. Therefore, they do not share the same nationality.</td>\n",
       "      <td>False</td>\n",
       "      <td>False</td>\n",
       "    </tr>\n",
       "    <tr>\n",
       "      <th>23</th>\n",
       "      <td>Which film was released more recently, Die schöne Lurette or Sabhash?</td>\n",
       "      <td>Sabhash</td>\n",
       "      <td>No relevant information was found regarding the release dates of the films \"Die schöne Lurette\" and \"Sabhash.\"</td>\n",
       "      <td>No relevant information was found regarding the release dates of the films \"Die schöne Lurette\" and \"Sabhash\".</td>\n",
       "      <td>False</td>\n",
       "      <td>False</td>\n",
       "    </tr>\n",
       "  </tbody>\n",
       "</table>\n",
       "</div>"
      ],
      "text/plain": [
       "                                                                                 question  \\\n",
       "2              Which film whose director is younger, Charge It To Me or Danger: Diabolik?   \n",
       "4         What nationality is the director of film Wedding Night In Paradise (1950 Film)?   \n",
       "5                                  When is the composer of film Sruthilayalu 's birthday?   \n",
       "6                                 Who is Rhescuporis I (Odrysian)'s paternal grandfather?   \n",
       "9                                        Where was the director of film The Fascist born?   \n",
       "15  Where was the place of burial of the performer of song There Is So Much World To See?   \n",
       "16                     What is the date of birth of the director of film Wandering Fires?   \n",
       "17                                   When did Fatima Bint Mubarak Al Ketbi's husband die?   \n",
       "22                        Does Ted Swinford have the same nationality as Nirmala Sheoran?   \n",
       "23                  Which film was released more recently, Die schöne Lurette or Sabhash?   \n",
       "\n",
       "               answer  \\\n",
       "2    Danger: Diabolik   \n",
       "4           Hungarian   \n",
       "5       14 March 1918   \n",
       "6             Raizdos   \n",
       "9                Rome   \n",
       "15          Graceland   \n",
       "16  November 28, 1919   \n",
       "17    2 November 2004   \n",
       "22                 no   \n",
       "23            Sabhash   \n",
       "\n",
       "                                                                                                                                                                                                                                                                                                                                                                                                                                                                                                                                                            response_hyperbolic  \\\n",
       "2   To determine which film's director is younger, we need to look at the directors of \"Charge It To Me\" and \"Danger: Diabolik.\"\\n\\n1. The film \"Danger: Diabolik\" was directed by **Mario Bava**, but the birth date of Mario Bava is not provided in the data. \\n2. The director of \"Charge It To Me\" is **Ian Barry**, who has also no birth date mentioned.\\n\\nSince I don't have specific birth dates for Mario Bava or Ian Barry from the provided data, I cannot definitively answer which director is younger. No relevant information was found to compare their ages.   \n",
       "4                                                                                                                                                                                                                                            The director of the film \"Wedding Night In Paradise\" (1950) is Géza von Bolváry, who is of German nationality. The film is noted as a West German musical comedy and stars Johannes Heesters, Claude Farell, and Gretl Schörg. It is based on a 1942 stage work and was produced in the post-war German film industry context [8].   \n",
       "5                                                                                                                                                                                                                                                                                                                            The composer of the film *Sruthilayalu* is K. V. Mahadevan. However, there is no specific information regarding his birthday available in the provided data. If you need further details or specific inquiries about his work, please let me know!   \n",
       "6                                                                                                                                                                                                                                                                                      Rhescuporis I's paternal grandfather is Cotys II. Cotys III, Rhescuporis I's father, was the son of Cotys II, making him the paternal grandfather of Rhescuporis I. This lineage places Cotys II as the ancestor from whom Rhescuporis I descends within the Odrysian kingdom of Thrace.   \n",
       "9                                                                                                                                                                                                                                                                                                                                      The film *The Fascist* was directed by Luciano Salce. However, the provided data does not include information about where Luciano Salce was born. Therefore, no relevant information was found regarding the birthplace of the director.   \n",
       "15                                                                                                                                                                                                                                                                                                                  The song \"There Is So Much World To See\" was performed by Elvis Presley. However, the context provided does not contain information about his place of burial. Therefore, no relevant information was found regarding the burial location of Elvis Presley.   \n",
       "16                                                                                                                                                                                                                                                                                                                                                                                   The director of the film \"Wandering Fires\" is Maurice Campbell. His date of birth is not provided in the available data, so no relevant information regarding his date of birth was found.   \n",
       "17                                                                                                                                                                                                                                                                                                                                                                                                                                                                             No relevant information was found regarding the death of Fatima Bint Mubarak Al Ketbi's husband.   \n",
       "22                                                                                                                                                                                                                                                                                                                                                       Yes, Ted Swinford and Nirmala Sheoran have the same nationality; both are associated with India. Ted Swinford is an American rower, while Nirmala Sheoran is an Indian sprinter specializing in the 400 meters[8][20].   \n",
       "23                                                                                                                                                                                                                                                                                                                                                                                                                                                               No relevant information was found regarding the release dates of the films \"Die schöne Lurette\" and \"Sabhash.\"   \n",
       "\n",
       "                                                                                                                                                                                                                                                                                                                                                                                                                                                             response_pp  \\\n",
       "2   To compare the directors' ages of \"Charge It To Me\" and \"Danger: Diabolik,\" we first identify that \"Danger: Diabolik\" was directed by **Mario Bava** in 1968. Unfortunately, the information about the director of \"Charge It To Me\" is not present in the provided context. Therefore, I cannot determine which film's director is younger based on the available data.\\n\\nIn short, no relevant information was found regarding the director of \"Charge It To Me.\"   \n",
       "4                                                                                                                                                                                                                                                                      The director of the film \"Wedding Night in Paradise\" (1950) is Géza von Bolváry, who was of Hungarian nationality. The film is a West German musical comedy and is based on a 1942 stage work[2].   \n",
       "5                                                                                                                                                                                                                                                                                                                                                  No relevant information was found regarding the birthday of the composer of the film 'Sruthilayalu', K. V. Mahadevan.   \n",
       "6                                                                                                      Rhescuporis I of the Odrysian kingdom of Thrace's paternal grandfather is Cotys I. This is deduced from the information that Rhescuporis I succeeded his father, Cotys III, and that Rhoemetalces I, a relative noted as a descendant of Cotys I, was mentioned in relation to the Odrysian royal lineage. Therefore, Cotys I is indeed his paternal grandfather.   \n",
       "9                                                                                                                                                                                                                          The director of the film \"The Fascist,\" Luciano Salce, was born in Italy. However, the specific place of his birth is not provided in the available information. Therefore, no relevant information was found regarding his exact birthplace.   \n",
       "15                                                                                                                                                                                                                                                    Elvis Presley, the performer of the song \"There Is So Much World to See,\" is buried at Graceland in Memphis, Tennessee. This historic site was also his home and is now a museum dedicated to his life and career.   \n",
       "16                                                                                                                                                                                                                                             The director of the film \"Wandering Fires\" is Maurice Campbell. However, there is no information available regarding his date of birth in the provided data. Thus, no relevant information was found about his birthdate.   \n",
       "17                                                                                                                                                                                                                                                                                                                                                       Fatima Bint Mubarak Al Ketbi was married to Zayed bin Sultan Al Nahyan, who passed away on November 2, 2004[6].   \n",
       "22                                                                                                                          Yes, Ted Swinford and Nirmala Sheoran have the same nationality; both are Indian and American, respectively, as per their descriptions in the provided data. Nirmala Sheoran is identified as an Indian sprinter, while Ted Swinford is described as an American rower and gold medalist. Therefore, they do not share the same nationality.   \n",
       "23                                                                                                                                                                                                                                                                                                                                                        No relevant information was found regarding the release dates of the films \"Die schöne Lurette\" and \"Sabhash\".   \n",
       "\n",
       "                                                                                                                                                                                                                                                    is_same  \\\n",
       "2   False\\n\\nThe first answer directly states \"Danger: Diabolik\" as the answer, implying its director is younger. The second answer states that there is not enough information to determine which director is younger. These are not essentially the same.   \n",
       "4                                                                                                                                                                                                                                                     False   \n",
       "5                                                                                                                                                                                                                                                     False   \n",
       "6                                                                                                                                                                                                                                                     False   \n",
       "9                                                                                                                                                                                                                                                     False   \n",
       "15                                                                                                                                                                                                                                                    False   \n",
       "16                                                                                                                                                                                                                                                    False   \n",
       "17                                                                                                                                                                                                                                                    False   \n",
       "22                                                                                                                                                                                                                                                    False   \n",
       "23                                                                                                                                                                                                                                                    False   \n",
       "\n",
       "    is_same_clean  \n",
       "2           False  \n",
       "4           False  \n",
       "5           False  \n",
       "6           False  \n",
       "9           False  \n",
       "15          False  \n",
       "16          False  \n",
       "17          False  \n",
       "22          False  \n",
       "23          False  "
      ]
     },
     "execution_count": 70,
     "metadata": {},
     "output_type": "execute_result"
    }
   ],
   "source": [
    "results_df[results_df['is_same_clean']==False].head(10)"
   ]
  },
  {
   "cell_type": "code",
   "execution_count": 77,
   "id": "a4fdc634-fb1c-4f17-ad8b-4c64f00ec424",
   "metadata": {},
   "outputs": [],
   "source": [
    "results_df.to_csv('results_with_eval.csv', index=False)"
   ]
  }
 ],
 "metadata": {
  "kernelspec": {
   "display_name": "Python 3 (ipykernel)",
   "language": "python",
   "name": "python3"
  },
  "language_info": {
   "codemirror_mode": {
    "name": "ipython",
    "version": 3
   },
   "file_extension": ".py",
   "mimetype": "text/x-python",
   "name": "python",
   "nbconvert_exporter": "python",
   "pygments_lexer": "ipython3",
   "version": "3.10.11"
  }
 },
 "nbformat": 4,
 "nbformat_minor": 5
}
