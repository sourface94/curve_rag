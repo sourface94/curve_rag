{
 "cells": [
  {
   "cell_type": "code",
   "execution_count": 16,
   "id": "a0c26715",
   "metadata": {},
   "outputs": [
    {
     "name": "stdout",
     "output_type": "stream",
     "text": [
      "The autoreload extension is already loaded. To reload it, use:\n",
      "  %reload_ext autoreload\n"
     ]
    }
   ],
   "source": [
    "%load_ext autoreload\n",
    "%autoreload 2"
   ]
  },
  {
   "cell_type": "code",
   "execution_count": 17,
   "id": "d66900bc",
   "metadata": {},
   "outputs": [
    {
     "data": {
      "text/plain": [
       "True"
      ]
     },
     "execution_count": 17,
     "metadata": {},
     "output_type": "execute_result"
    }
   ],
   "source": [
    "import os\n",
    "\n",
    "import json\n",
    "\n",
    "import llama_cpp\n",
    "import torch\n",
    "\n",
    "from dotenv import load_dotenv\n",
    "from openai import OpenAI\n",
    "\n",
    "from curverag import utils\n",
    "from curverag.curverag import CurveRAG, DEFAULT_ENTITY_TYPES, DEFAULT_GLINER_MODEL, DEFAULT_SENTENCE_TRANSFORMER_MODEL\n",
    "from curverag.graph import KnowledgeGraph\n",
    "from curverag.atth.kg_dataset import KGDataset\n",
    "from curverag.atth.models.hyperbolic import AttH\n",
    "from curverag.eval import evaluation, queries, context, expected_output\n",
    "\n",
    "load_dotenv() "
   ]
  },
  {
   "cell_type": "markdown",
   "id": "8eb821f9-2cb7-4807-b6d5-412f83e1bf0b",
   "metadata": {},
   "source": [
    "# Explore dataset"
   ]
  },
  {
   "cell_type": "code",
   "execution_count": 18,
   "id": "f9147308-1ea2-4b26-86a2-01995d94c838",
   "metadata": {},
   "outputs": [],
   "source": [
    "with open('/Users/nathan/Documents/projects/datasets/2WikiMultihopQA/train.json', 'rb') as f:\n",
    "    train = json.load(f)\n",
    "\n",
    "with open('/Users/nathan/Documents/projects/datasets/2WikiMultihopQA/dev.json', 'rb') as f:\n",
    "    dev = json.load(f)\n",
    "\n",
    "with open('/Users/nathan/Documents/projects/datasets/2WikiMultihopQA/test.json', 'rb') as f:\n",
    "    test = json.load(f)"
   ]
  },
  {
   "cell_type": "code",
   "execution_count": 19,
   "id": "96a45a70-96ea-4b27-a0c7-4f30b65913fc",
   "metadata": {},
   "outputs": [
    {
     "data": {
      "text/plain": [
       "dict_keys(['_id', 'type', 'question', 'context', 'supporting_facts', 'evidences', 'answer'])"
      ]
     },
     "execution_count": 19,
     "metadata": {},
     "output_type": "execute_result"
    }
   ],
   "source": [
    "train[0].keys()"
   ]
  },
  {
   "cell_type": "code",
   "execution_count": 20,
   "id": "ac0641d3-d4fd-41ef-a520-f8f839e694a5",
   "metadata": {},
   "outputs": [
    {
     "data": {
      "text/plain": [
       "'Are director of film Move (1970 Film) and director of film Méditerranée (1963 Film) from the same country?'"
      ]
     },
     "execution_count": 20,
     "metadata": {},
     "output_type": "execute_result"
    }
   ],
   "source": [
    "train[0]['question']"
   ]
  },
  {
   "cell_type": "code",
   "execution_count": 21,
   "id": "b542df63-af8a-4247-a89e-b6459a93f196",
   "metadata": {},
   "outputs": [
    {
     "data": {
      "text/plain": [
       "'no'"
      ]
     },
     "execution_count": 21,
     "metadata": {},
     "output_type": "execute_result"
    }
   ],
   "source": [
    "train[0]['answer']"
   ]
  },
  {
   "cell_type": "code",
   "execution_count": 22,
   "id": "a057c802-90e0-4a11-bee5-d4312efb95fb",
   "metadata": {},
   "outputs": [
    {
     "data": {
      "text/plain": [
       "[['Stuart Rosenberg',\n",
       "  ['Stuart Rosenberg (August 11, 1927 – March 15, 2007) was an American film and television director whose motion pictures include \"Cool Hand Luke\" (1967), \"Voyage of the Damned\" (1976), \"The Amityville Horror\" (1979), and \"The Pope of Greenwich Village\" (1984).',\n",
       "   'He was noted for his work with actor Paul Newman.']],\n",
       " ['Méditerranée (1963 film)',\n",
       "  ['Méditerranée is a 1963 French experimental film directed by Jean-Daniel Pollet with assistance from Volker Schlöndorff.',\n",
       "   'It was written by Philippe Sollers and produced by Barbet Schroeder, with music by Antione Duhamel.',\n",
       "   'The 45 minute film is cited as one of Pollet\\'s most influential films, which according to Jonathan Rosenbaum directly influenced Jean-Luc Goddard\\'s \"Contempt\", released later the same year.',\n",
       "   'Footage for the film was shot around the Mediterranean, including at a Greek temple, a Sicilian garden, the sea, and also features a fisherman, a bullfighter, and a girl on an operating table.']],\n",
       " ['Move (1970 film)',\n",
       "  ['Move is a 1970 American comedy film starring Elliott Gould, Paula Prentiss and Geneviève Waïte, and directed by Stuart Rosenberg.',\n",
       "   'The screenplay was written by Joel Lieber and Stanley Hart, adapted from a novel by Lieber.']],\n",
       " ['Ian Barry (director)',\n",
       "  ['Ian Barry is an Australian director of film and TV.']],\n",
       " ['Peter Levin',\n",
       "  ['Peter Levin is an American director of film, television and theatre.']],\n",
       " ['Brian Johnson (special effects artist)',\n",
       "  ['Brian Johnson( born 1939 or 1940) is a British designer and director of film and television special effects.']],\n",
       " ['Rachel Feldman',\n",
       "  ['Rachel Feldman( born August 22, 1954) is an American director of film and television and screenwriter of television films.']],\n",
       " ['Hanro Smitsman',\n",
       "  ['Hanro Smitsman, born in 1967 in Breda( Netherlands), is a writer and director of film and television.']],\n",
       " ['Jean-Daniel Pollet',\n",
       "  ['Jean-Daniel Pollet (1936–2004) was a French film director and screenwriter who was most active in the 1960s and 1970s.',\n",
       "   'He was associated with two approaches to filmmaking: comedies which blended burlesque and melancholic elements, and poetic films based on texts by writers such as the French poet Francis Ponge.']],\n",
       " ['Howard W. Koch',\n",
       "  ['Howard Winchel Koch( April 11, 1916 – February 16, 2001) was an American producer and director of film and television.']]]"
      ]
     },
     "execution_count": 22,
     "metadata": {},
     "output_type": "execute_result"
    }
   ],
   "source": [
    "train[0]['context']"
   ]
  },
  {
   "cell_type": "markdown",
   "id": "ac072bc8-7de2-4544-a729-6b3c6c0d29ec",
   "metadata": {},
   "source": [
    "# Run eval"
   ]
  },
  {
   "cell_type": "code",
   "execution_count": 23,
   "id": "36c26de2-4560-41a1-bd2f-92caf2e3a972",
   "metadata": {},
   "outputs": [],
   "source": [
    "api_key = os.getenv(\"OPENAI_API_KEY\")\n",
    "client = OpenAI(api_key=api_key)"
   ]
  },
  {
   "cell_type": "code",
   "execution_count": 24,
   "id": "a313296e-c279-4b8a-bb2a-fad3455146a6",
   "metadata": {},
   "outputs": [
    {
     "data": {
      "application/vnd.jupyter.widget-view+json": {
       "model_id": "fe1f2a197fc94ac08c4d65471c4112bf",
       "version_major": 2,
       "version_minor": 0
      },
      "text/plain": [
       "Fetching 5 files:   0%|          | 0/5 [00:00<?, ?it/s]"
      ]
     },
     "metadata": {},
     "output_type": "display_data"
    }
   ],
   "source": [
    "entity_types = ['people', 'locations', 'entities', 'movies', 'directors']\n",
    "rag = CurveRAG(\n",
    "    openai_client=client,\n",
    "    entity_types=entity_types,\n",
    ")"
   ]
  },
  {
   "cell_type": "code",
   "execution_count": 10,
   "id": "453c89d8-f94d-4246-a089-26e9616020b2",
   "metadata": {},
   "outputs": [],
   "source": [
    "new_docs = []\n",
    "for d in train[0]['context']:\n",
    "    d_ = str(d).replace('[', '').replace(']', '. ').replace('\\'', '')\n",
    "    new_docs.append(d_)"
   ]
  },
  {
   "cell_type": "code",
   "execution_count": 25,
   "id": "3f0271be-300b-45f8-a47f-ce522a451386",
   "metadata": {},
   "outputs": [],
   "source": [
    "new_docs = []\n",
    "for d in train:\n",
    "    d_ = str(d['context']).replace('[', '').replace(']', '. ').replace('\\'', '')\n",
    "    new_docs.append(d_)"
   ]
  },
  {
   "cell_type": "code",
   "execution_count": 26,
   "id": "2e3cab56-c589-481e-a615-fc8530546977",
   "metadata": {},
   "outputs": [
    {
     "name": "stdout",
     "output_type": "stream",
     "text": [
      "creating graph\n"
     ]
    },
    {
     "name": "stderr",
     "output_type": "stream",
     "text": [
      "  1%|▍                                                                   | 1/138 [00:12<28:55, 12.67s/it]"
     ]
    },
    {
     "name": "stdout",
     "output_type": "stream",
     "text": [
      "upserting\n"
     ]
    },
    {
     "name": "stderr",
     "output_type": "stream",
     "text": [
      "  1%|▉                                                                   | 2/138 [00:21<23:42, 10.46s/it]"
     ]
    },
    {
     "name": "stdout",
     "output_type": "stream",
     "text": [
      "upserting\n"
     ]
    },
    {
     "name": "stderr",
     "output_type": "stream",
     "text": [
      "  2%|█▍                                                                  | 3/138 [00:31<23:05, 10.27s/it]"
     ]
    },
    {
     "name": "stdout",
     "output_type": "stream",
     "text": [
      "upserting\n"
     ]
    },
    {
     "name": "stderr",
     "output_type": "stream",
     "text": [
      "  3%|█▉                                                                  | 4/138 [00:44<25:24, 11.38s/it]"
     ]
    },
    {
     "name": "stdout",
     "output_type": "stream",
     "text": [
      "upserting\n"
     ]
    },
    {
     "name": "stderr",
     "output_type": "stream",
     "text": [
      "  4%|██▍                                                                 | 5/138 [00:51<21:24,  9.66s/it]"
     ]
    },
    {
     "name": "stdout",
     "output_type": "stream",
     "text": [
      "upserting\n"
     ]
    },
    {
     "name": "stderr",
     "output_type": "stream",
     "text": [
      "  4%|██▉                                                                 | 6/138 [01:00<20:49,  9.46s/it]"
     ]
    },
    {
     "name": "stdout",
     "output_type": "stream",
     "text": [
      "upserting\n"
     ]
    },
    {
     "name": "stderr",
     "output_type": "stream",
     "text": [
      "  5%|███▍                                                                | 7/138 [01:10<21:01,  9.63s/it]"
     ]
    },
    {
     "name": "stdout",
     "output_type": "stream",
     "text": [
      "upserting\n"
     ]
    },
    {
     "name": "stderr",
     "output_type": "stream",
     "text": [
      "  6%|███▉                                                                | 8/138 [01:18<19:29,  9.00s/it]"
     ]
    },
    {
     "name": "stdout",
     "output_type": "stream",
     "text": [
      "upserting\n"
     ]
    },
    {
     "name": "stderr",
     "output_type": "stream",
     "text": [
      "  7%|████▍                                                               | 9/138 [01:36<25:25, 11.82s/it]"
     ]
    },
    {
     "name": "stdout",
     "output_type": "stream",
     "text": [
      "upserting\n"
     ]
    },
    {
     "name": "stderr",
     "output_type": "stream",
     "text": [
      "  7%|████▊                                                              | 10/138 [01:43<22:26, 10.52s/it]"
     ]
    },
    {
     "name": "stdout",
     "output_type": "stream",
     "text": [
      "upserting\n"
     ]
    },
    {
     "name": "stderr",
     "output_type": "stream",
     "text": [
      "  8%|█████▎                                                             | 11/138 [01:50<19:59,  9.44s/it]"
     ]
    },
    {
     "name": "stdout",
     "output_type": "stream",
     "text": [
      "upserting\n"
     ]
    },
    {
     "name": "stderr",
     "output_type": "stream",
     "text": [
      "  9%|█████▊                                                             | 12/138 [01:58<19:03,  9.08s/it]"
     ]
    },
    {
     "name": "stdout",
     "output_type": "stream",
     "text": [
      "upserting\n"
     ]
    },
    {
     "name": "stderr",
     "output_type": "stream",
     "text": [
      "  9%|██████▎                                                            | 13/138 [02:11<21:12, 10.18s/it]"
     ]
    },
    {
     "name": "stdout",
     "output_type": "stream",
     "text": [
      "upserting\n"
     ]
    },
    {
     "name": "stderr",
     "output_type": "stream",
     "text": [
      " 10%|██████▊                                                            | 14/138 [02:23<22:15, 10.77s/it]"
     ]
    },
    {
     "name": "stdout",
     "output_type": "stream",
     "text": [
      "upserting\n"
     ]
    },
    {
     "name": "stderr",
     "output_type": "stream",
     "text": [
      " 11%|███████▎                                                           | 15/138 [02:30<19:35,  9.56s/it]"
     ]
    },
    {
     "name": "stdout",
     "output_type": "stream",
     "text": [
      "upserting\n"
     ]
    },
    {
     "name": "stderr",
     "output_type": "stream",
     "text": [
      " 12%|███████▊                                                           | 16/138 [02:43<21:25, 10.54s/it]"
     ]
    },
    {
     "name": "stdout",
     "output_type": "stream",
     "text": [
      "upserting\n"
     ]
    },
    {
     "name": "stderr",
     "output_type": "stream",
     "text": [
      " 12%|████████▎                                                          | 17/138 [02:56<22:56, 11.37s/it]"
     ]
    },
    {
     "name": "stdout",
     "output_type": "stream",
     "text": [
      "upserting\n"
     ]
    },
    {
     "name": "stderr",
     "output_type": "stream",
     "text": [
      " 13%|████████▋                                                          | 18/138 [03:05<21:17, 10.65s/it]"
     ]
    },
    {
     "name": "stdout",
     "output_type": "stream",
     "text": [
      "upserting\n"
     ]
    },
    {
     "name": "stderr",
     "output_type": "stream",
     "text": [
      " 14%|█████████▏                                                         | 19/138 [03:17<22:03, 11.12s/it]"
     ]
    },
    {
     "name": "stdout",
     "output_type": "stream",
     "text": [
      "upserting\n"
     ]
    },
    {
     "name": "stderr",
     "output_type": "stream",
     "text": [
      " 14%|█████████▋                                                         | 20/138 [03:23<18:27,  9.38s/it]"
     ]
    },
    {
     "name": "stdout",
     "output_type": "stream",
     "text": [
      "upserting\n"
     ]
    },
    {
     "name": "stderr",
     "output_type": "stream",
     "text": [
      " 15%|██████████▏                                                        | 21/138 [03:34<19:37, 10.07s/it]"
     ]
    },
    {
     "name": "stdout",
     "output_type": "stream",
     "text": [
      "upserting\n"
     ]
    },
    {
     "name": "stderr",
     "output_type": "stream",
     "text": [
      " 16%|██████████▋                                                        | 22/138 [03:38<15:52,  8.21s/it]"
     ]
    },
    {
     "name": "stdout",
     "output_type": "stream",
     "text": [
      "upserting\n"
     ]
    },
    {
     "name": "stderr",
     "output_type": "stream",
     "text": [
      " 17%|███████████▏                                                       | 23/138 [03:48<16:50,  8.79s/it]"
     ]
    },
    {
     "name": "stdout",
     "output_type": "stream",
     "text": [
      "upserting\n"
     ]
    },
    {
     "name": "stderr",
     "output_type": "stream",
     "text": [
      " 17%|███████████▋                                                       | 24/138 [03:58<17:20,  9.13s/it]"
     ]
    },
    {
     "name": "stdout",
     "output_type": "stream",
     "text": [
      "upserting\n"
     ]
    },
    {
     "name": "stderr",
     "output_type": "stream",
     "text": [
      " 18%|████████████▏                                                      | 25/138 [04:08<17:25,  9.26s/it]"
     ]
    },
    {
     "name": "stdout",
     "output_type": "stream",
     "text": [
      "upserting\n"
     ]
    },
    {
     "name": "stderr",
     "output_type": "stream",
     "text": [
      " 19%|████████████▌                                                      | 26/138 [04:13<15:16,  8.18s/it]"
     ]
    },
    {
     "name": "stdout",
     "output_type": "stream",
     "text": [
      "upserting\n"
     ]
    },
    {
     "name": "stderr",
     "output_type": "stream",
     "text": [
      " 20%|█████████████                                                      | 27/138 [04:23<15:41,  8.48s/it]"
     ]
    },
    {
     "name": "stdout",
     "output_type": "stream",
     "text": [
      "upserting\n"
     ]
    },
    {
     "name": "stderr",
     "output_type": "stream",
     "text": [
      " 20%|█████████████▌                                                     | 28/138 [04:33<16:29,  9.00s/it]"
     ]
    },
    {
     "name": "stdout",
     "output_type": "stream",
     "text": [
      "upserting\n"
     ]
    },
    {
     "name": "stderr",
     "output_type": "stream",
     "text": [
      " 21%|██████████████                                                     | 29/138 [04:41<15:41,  8.64s/it]"
     ]
    },
    {
     "name": "stdout",
     "output_type": "stream",
     "text": [
      "upserting\n"
     ]
    },
    {
     "name": "stderr",
     "output_type": "stream",
     "text": [
      " 22%|██████████████▌                                                    | 30/138 [04:52<16:52,  9.37s/it]"
     ]
    },
    {
     "name": "stdout",
     "output_type": "stream",
     "text": [
      "upserting\n"
     ]
    },
    {
     "name": "stderr",
     "output_type": "stream",
     "text": [
      " 22%|███████████████                                                    | 31/138 [05:08<20:33, 11.53s/it]"
     ]
    },
    {
     "name": "stdout",
     "output_type": "stream",
     "text": [
      "upserting\n"
     ]
    },
    {
     "name": "stderr",
     "output_type": "stream",
     "text": [
      " 23%|███████████████▌                                                   | 32/138 [05:19<20:09, 11.41s/it]"
     ]
    },
    {
     "name": "stdout",
     "output_type": "stream",
     "text": [
      "upserting\n"
     ]
    },
    {
     "name": "stderr",
     "output_type": "stream",
     "text": [
      " 24%|████████████████                                                   | 33/138 [05:23<16:01,  9.16s/it]"
     ]
    },
    {
     "name": "stdout",
     "output_type": "stream",
     "text": [
      "upserting\n"
     ]
    },
    {
     "name": "stderr",
     "output_type": "stream",
     "text": [
      " 25%|████████████████▌                                                  | 34/138 [05:30<14:44,  8.51s/it]"
     ]
    },
    {
     "name": "stdout",
     "output_type": "stream",
     "text": [
      "upserting\n"
     ]
    },
    {
     "name": "stderr",
     "output_type": "stream",
     "text": [
      " 25%|████████████████▉                                                  | 35/138 [05:46<18:08, 10.57s/it]"
     ]
    },
    {
     "name": "stdout",
     "output_type": "stream",
     "text": [
      "upserting\n"
     ]
    },
    {
     "name": "stderr",
     "output_type": "stream",
     "text": [
      " 26%|█████████████████▍                                                 | 36/138 [05:57<18:18, 10.77s/it]"
     ]
    },
    {
     "name": "stdout",
     "output_type": "stream",
     "text": [
      "upserting\n"
     ]
    },
    {
     "name": "stderr",
     "output_type": "stream",
     "text": [
      " 27%|█████████████████▉                                                 | 37/138 [06:05<16:37,  9.87s/it]"
     ]
    },
    {
     "name": "stdout",
     "output_type": "stream",
     "text": [
      "upserting\n"
     ]
    },
    {
     "name": "stderr",
     "output_type": "stream",
     "text": [
      " 28%|██████████████████▍                                                | 38/138 [06:14<16:11,  9.71s/it]"
     ]
    },
    {
     "name": "stdout",
     "output_type": "stream",
     "text": [
      "upserting\n"
     ]
    },
    {
     "name": "stderr",
     "output_type": "stream",
     "text": [
      " 28%|██████████████████▉                                                | 39/138 [06:23<15:46,  9.56s/it]"
     ]
    },
    {
     "name": "stdout",
     "output_type": "stream",
     "text": [
      "upserting\n"
     ]
    },
    {
     "name": "stderr",
     "output_type": "stream",
     "text": [
      " 29%|███████████████████▍                                               | 40/138 [06:35<16:36, 10.16s/it]"
     ]
    },
    {
     "name": "stdout",
     "output_type": "stream",
     "text": [
      "upserting\n"
     ]
    },
    {
     "name": "stderr",
     "output_type": "stream",
     "text": [
      " 30%|███████████████████▉                                               | 41/138 [06:45<16:22, 10.12s/it]"
     ]
    },
    {
     "name": "stdout",
     "output_type": "stream",
     "text": [
      "upserting\n"
     ]
    },
    {
     "name": "stderr",
     "output_type": "stream",
     "text": [
      " 30%|████████████████████▍                                              | 42/138 [06:57<17:14, 10.78s/it]"
     ]
    },
    {
     "name": "stdout",
     "output_type": "stream",
     "text": [
      "upserting\n"
     ]
    },
    {
     "name": "stderr",
     "output_type": "stream",
     "text": [
      " 31%|████████████████████▉                                              | 43/138 [07:07<16:27, 10.40s/it]"
     ]
    },
    {
     "name": "stdout",
     "output_type": "stream",
     "text": [
      "upserting\n"
     ]
    },
    {
     "name": "stderr",
     "output_type": "stream",
     "text": [
      " 32%|█████████████████████▎                                             | 44/138 [07:12<13:49,  8.82s/it]"
     ]
    },
    {
     "name": "stdout",
     "output_type": "stream",
     "text": [
      "upserting\n"
     ]
    },
    {
     "name": "stderr",
     "output_type": "stream",
     "text": [
      " 33%|█████████████████████▊                                             | 45/138 [07:24<15:26,  9.96s/it]"
     ]
    },
    {
     "name": "stdout",
     "output_type": "stream",
     "text": [
      "upserting\n"
     ]
    },
    {
     "name": "stderr",
     "output_type": "stream",
     "text": [
      " 33%|██████████████████████▎                                            | 46/138 [07:39<17:29, 11.41s/it]"
     ]
    },
    {
     "name": "stdout",
     "output_type": "stream",
     "text": [
      "upserting\n"
     ]
    },
    {
     "name": "stderr",
     "output_type": "stream",
     "text": [
      " 34%|██████████████████████▊                                            | 47/138 [07:49<16:35, 10.94s/it]"
     ]
    },
    {
     "name": "stdout",
     "output_type": "stream",
     "text": [
      "upserting\n"
     ]
    },
    {
     "name": "stderr",
     "output_type": "stream",
     "text": [
      " 35%|███████████████████████▎                                           | 48/138 [08:01<16:38, 11.10s/it]"
     ]
    },
    {
     "name": "stdout",
     "output_type": "stream",
     "text": [
      "upserting\n"
     ]
    },
    {
     "name": "stderr",
     "output_type": "stream",
     "text": [
      " 36%|███████████████████████▊                                           | 49/138 [08:17<18:59, 12.80s/it]"
     ]
    },
    {
     "name": "stdout",
     "output_type": "stream",
     "text": [
      "upserting\n"
     ]
    },
    {
     "name": "stderr",
     "output_type": "stream",
     "text": [
      " 36%|████████████████████████▎                                          | 50/138 [08:30<18:33, 12.65s/it]"
     ]
    },
    {
     "name": "stdout",
     "output_type": "stream",
     "text": [
      "upserting\n"
     ]
    },
    {
     "name": "stderr",
     "output_type": "stream",
     "text": [
      " 37%|████████████████████████▊                                          | 51/138 [08:33<14:05,  9.71s/it]"
     ]
    },
    {
     "name": "stdout",
     "output_type": "stream",
     "text": [
      "upserting\n"
     ]
    },
    {
     "name": "stderr",
     "output_type": "stream",
     "text": [
      " 38%|█████████████████████████▏                                         | 52/138 [08:41<13:36,  9.49s/it]"
     ]
    },
    {
     "name": "stdout",
     "output_type": "stream",
     "text": [
      "upserting\n"
     ]
    },
    {
     "name": "stderr",
     "output_type": "stream",
     "text": [
      " 38%|█████████████████████████▋                                         | 53/138 [08:54<14:47, 10.44s/it]"
     ]
    },
    {
     "name": "stdout",
     "output_type": "stream",
     "text": [
      "upserting\n"
     ]
    },
    {
     "name": "stderr",
     "output_type": "stream",
     "text": [
      " 39%|██████████████████████████▏                                        | 54/138 [09:00<12:38,  9.03s/it]"
     ]
    },
    {
     "name": "stdout",
     "output_type": "stream",
     "text": [
      "upserting\n"
     ]
    },
    {
     "name": "stderr",
     "output_type": "stream",
     "text": [
      " 40%|██████████████████████████▋                                        | 55/138 [09:13<14:20, 10.37s/it]"
     ]
    },
    {
     "name": "stdout",
     "output_type": "stream",
     "text": [
      "upserting\n"
     ]
    },
    {
     "name": "stderr",
     "output_type": "stream",
     "text": [
      " 41%|███████████████████████████▏                                       | 56/138 [09:25<14:47, 10.82s/it]"
     ]
    },
    {
     "name": "stdout",
     "output_type": "stream",
     "text": [
      "upserting\n"
     ]
    },
    {
     "name": "stderr",
     "output_type": "stream",
     "text": [
      " 41%|███████████████████████████▋                                       | 57/138 [09:39<15:55, 11.80s/it]"
     ]
    },
    {
     "name": "stdout",
     "output_type": "stream",
     "text": [
      "upserting\n"
     ]
    },
    {
     "name": "stderr",
     "output_type": "stream",
     "text": [
      " 42%|████████████████████████████▏                                      | 58/138 [09:50<15:24, 11.56s/it]"
     ]
    },
    {
     "name": "stdout",
     "output_type": "stream",
     "text": [
      "upserting\n"
     ]
    },
    {
     "name": "stderr",
     "output_type": "stream",
     "text": [
      " 43%|████████████████████████████▋                                      | 59/138 [10:00<14:25, 10.95s/it]"
     ]
    },
    {
     "name": "stdout",
     "output_type": "stream",
     "text": [
      "upserting\n"
     ]
    },
    {
     "name": "stderr",
     "output_type": "stream",
     "text": [
      " 43%|█████████████████████████████▏                                     | 60/138 [10:15<15:45, 12.12s/it]"
     ]
    },
    {
     "name": "stdout",
     "output_type": "stream",
     "text": [
      "upserting\n"
     ]
    },
    {
     "name": "stderr",
     "output_type": "stream",
     "text": [
      " 44%|█████████████████████████████▌                                     | 61/138 [10:26<15:18, 11.93s/it]"
     ]
    },
    {
     "name": "stdout",
     "output_type": "stream",
     "text": [
      "upserting\n"
     ]
    },
    {
     "name": "stderr",
     "output_type": "stream",
     "text": [
      " 45%|██████████████████████████████                                     | 62/138 [10:34<13:36, 10.74s/it]"
     ]
    },
    {
     "name": "stdout",
     "output_type": "stream",
     "text": [
      "upserting\n"
     ]
    },
    {
     "name": "stderr",
     "output_type": "stream",
     "text": [
      " 46%|██████████████████████████████▌                                    | 63/138 [10:53<16:18, 13.05s/it]"
     ]
    },
    {
     "name": "stdout",
     "output_type": "stream",
     "text": [
      "upserting\n"
     ]
    },
    {
     "name": "stderr",
     "output_type": "stream",
     "text": [
      " 46%|███████████████████████████████                                    | 64/138 [11:04<15:22, 12.47s/it]"
     ]
    },
    {
     "name": "stdout",
     "output_type": "stream",
     "text": [
      "upserting\n"
     ]
    },
    {
     "name": "stderr",
     "output_type": "stream",
     "text": [
      " 47%|███████████████████████████████▌                                   | 65/138 [11:10<12:48, 10.52s/it]"
     ]
    },
    {
     "name": "stdout",
     "output_type": "stream",
     "text": [
      "upserting\n"
     ]
    },
    {
     "name": "stderr",
     "output_type": "stream",
     "text": [
      " 48%|████████████████████████████████                                   | 66/138 [11:24<14:01, 11.69s/it]"
     ]
    },
    {
     "name": "stdout",
     "output_type": "stream",
     "text": [
      "upserting\n"
     ]
    },
    {
     "name": "stderr",
     "output_type": "stream",
     "text": [
      " 49%|████████████████████████████████▌                                  | 67/138 [11:42<15:54, 13.45s/it]"
     ]
    },
    {
     "name": "stdout",
     "output_type": "stream",
     "text": [
      "upserting\n"
     ]
    },
    {
     "name": "stderr",
     "output_type": "stream",
     "text": [
      " 49%|█████████████████████████████████                                  | 68/138 [11:52<14:27, 12.39s/it]"
     ]
    },
    {
     "name": "stdout",
     "output_type": "stream",
     "text": [
      "upserting\n"
     ]
    },
    {
     "name": "stderr",
     "output_type": "stream",
     "text": [
      " 50%|█████████████████████████████████▌                                 | 69/138 [12:02<13:43, 11.93s/it]"
     ]
    },
    {
     "name": "stdout",
     "output_type": "stream",
     "text": [
      "upserting\n"
     ]
    },
    {
     "name": "stderr",
     "output_type": "stream",
     "text": [
      " 51%|█████████████████████████████████▉                                 | 70/138 [12:16<13:55, 12.28s/it]"
     ]
    },
    {
     "name": "stdout",
     "output_type": "stream",
     "text": [
      "upserting\n"
     ]
    },
    {
     "name": "stderr",
     "output_type": "stream",
     "text": [
      " 51%|██████████████████████████████████▍                                | 71/138 [12:25<12:50, 11.50s/it]"
     ]
    },
    {
     "name": "stdout",
     "output_type": "stream",
     "text": [
      "upserting\n"
     ]
    },
    {
     "name": "stderr",
     "output_type": "stream",
     "text": [
      " 52%|██████████████████████████████████▉                                | 72/138 [13:23<27:53, 25.36s/it]"
     ]
    },
    {
     "name": "stdout",
     "output_type": "stream",
     "text": [
      "upserting\n"
     ]
    },
    {
     "name": "stderr",
     "output_type": "stream",
     "text": [
      " 53%|███████████████████████████████████▍                               | 73/138 [13:40<24:43, 22.82s/it]"
     ]
    },
    {
     "name": "stdout",
     "output_type": "stream",
     "text": [
      "upserting\n"
     ]
    },
    {
     "name": "stderr",
     "output_type": "stream",
     "text": [
      " 54%|███████████████████████████████████▉                               | 74/138 [13:51<20:34, 19.29s/it]"
     ]
    },
    {
     "name": "stdout",
     "output_type": "stream",
     "text": [
      "upserting\n"
     ]
    },
    {
     "name": "stderr",
     "output_type": "stream",
     "text": [
      " 54%|████████████████████████████████████▍                              | 75/138 [14:01<17:21, 16.53s/it]"
     ]
    },
    {
     "name": "stdout",
     "output_type": "stream",
     "text": [
      "upserting\n"
     ]
    },
    {
     "name": "stderr",
     "output_type": "stream",
     "text": [
      " 55%|████████████████████████████████████▉                              | 76/138 [14:14<15:55, 15.41s/it]"
     ]
    },
    {
     "name": "stdout",
     "output_type": "stream",
     "text": [
      "upserting\n"
     ]
    },
    {
     "name": "stderr",
     "output_type": "stream",
     "text": [
      " 56%|█████████████████████████████████████▍                             | 77/138 [14:25<14:22, 14.14s/it]"
     ]
    },
    {
     "name": "stdout",
     "output_type": "stream",
     "text": [
      "upserting\n"
     ]
    },
    {
     "name": "stderr",
     "output_type": "stream",
     "text": [
      " 57%|█████████████████████████████████████▊                             | 78/138 [14:37<13:32, 13.54s/it]"
     ]
    },
    {
     "name": "stdout",
     "output_type": "stream",
     "text": [
      "upserting\n"
     ]
    },
    {
     "name": "stderr",
     "output_type": "stream",
     "text": [
      " 57%|██████████████████████████████████████▎                            | 79/138 [14:52<13:47, 14.02s/it]"
     ]
    },
    {
     "name": "stdout",
     "output_type": "stream",
     "text": [
      "upserting\n"
     ]
    },
    {
     "name": "stderr",
     "output_type": "stream",
     "text": [
      " 58%|██████████████████████████████████████▊                            | 80/138 [15:01<12:04, 12.49s/it]"
     ]
    },
    {
     "name": "stdout",
     "output_type": "stream",
     "text": [
      "upserting\n"
     ]
    },
    {
     "name": "stderr",
     "output_type": "stream",
     "text": [
      " 59%|███████████████████████████████████████▎                           | 81/138 [15:42<19:57, 21.01s/it]"
     ]
    },
    {
     "name": "stdout",
     "output_type": "stream",
     "text": [
      "upserting\n"
     ]
    },
    {
     "name": "stderr",
     "output_type": "stream",
     "text": [
      " 59%|███████████████████████████████████████▊                           | 82/138 [15:44<14:24, 15.43s/it]"
     ]
    },
    {
     "name": "stdout",
     "output_type": "stream",
     "text": [
      "upserting\n"
     ]
    },
    {
     "name": "stderr",
     "output_type": "stream",
     "text": [
      " 60%|████████████████████████████████████████▎                          | 83/138 [15:59<13:47, 15.04s/it]"
     ]
    },
    {
     "name": "stdout",
     "output_type": "stream",
     "text": [
      "upserting\n",
      "Warning: Skipping edge influenced - Source node 144 exists: True, Target node 501 exists: False\n"
     ]
    },
    {
     "name": "stderr",
     "output_type": "stream",
     "text": [
      " 61%|████████████████████████████████████████▊                          | 84/138 [16:06<11:32, 12.83s/it]"
     ]
    },
    {
     "name": "stdout",
     "output_type": "stream",
     "text": [
      "upserting\n"
     ]
    },
    {
     "name": "stderr",
     "output_type": "stream",
     "text": [
      " 62%|█████████████████████████████████████████▎                         | 85/138 [16:09<08:48,  9.97s/it]"
     ]
    },
    {
     "name": "stdout",
     "output_type": "stream",
     "text": [
      "upserting\n"
     ]
    },
    {
     "name": "stderr",
     "output_type": "stream",
     "text": [
      " 62%|█████████████████████████████████████████▊                         | 86/138 [16:19<08:37,  9.96s/it]"
     ]
    },
    {
     "name": "stdout",
     "output_type": "stream",
     "text": [
      "upserting\n"
     ]
    },
    {
     "name": "stderr",
     "output_type": "stream",
     "text": [
      " 63%|██████████████████████████████████████████▏                        | 87/138 [16:26<07:32,  8.88s/it]"
     ]
    },
    {
     "name": "stdout",
     "output_type": "stream",
     "text": [
      "upserting\n"
     ]
    },
    {
     "name": "stderr",
     "output_type": "stream",
     "text": [
      " 64%|██████████████████████████████████████████▋                        | 88/138 [16:40<08:41, 10.42s/it]"
     ]
    },
    {
     "name": "stdout",
     "output_type": "stream",
     "text": [
      "upserting\n"
     ]
    },
    {
     "name": "stderr",
     "output_type": "stream",
     "text": [
      " 64%|███████████████████████████████████████████▏                       | 89/138 [16:53<09:15, 11.34s/it]"
     ]
    },
    {
     "name": "stdout",
     "output_type": "stream",
     "text": [
      "upserting\n"
     ]
    },
    {
     "name": "stderr",
     "output_type": "stream",
     "text": [
      " 65%|███████████████████████████████████████████▋                       | 90/138 [16:59<07:41,  9.61s/it]"
     ]
    },
    {
     "name": "stdout",
     "output_type": "stream",
     "text": [
      "upserting\n"
     ]
    },
    {
     "name": "stderr",
     "output_type": "stream",
     "text": [
      " 66%|████████████████████████████████████████████▏                      | 91/138 [17:08<07:27,  9.53s/it]"
     ]
    },
    {
     "name": "stdout",
     "output_type": "stream",
     "text": [
      "upserting\n"
     ]
    },
    {
     "name": "stderr",
     "output_type": "stream",
     "text": [
      " 67%|████████████████████████████████████████████▋                      | 92/138 [17:17<07:06,  9.27s/it]"
     ]
    },
    {
     "name": "stdout",
     "output_type": "stream",
     "text": [
      "upserting\n"
     ]
    },
    {
     "name": "stderr",
     "output_type": "stream",
     "text": [
      " 67%|█████████████████████████████████████████████▏                     | 93/138 [17:33<08:35, 11.46s/it]"
     ]
    },
    {
     "name": "stdout",
     "output_type": "stream",
     "text": [
      "upserting\n"
     ]
    },
    {
     "name": "stderr",
     "output_type": "stream",
     "text": [
      " 68%|█████████████████████████████████████████████▋                     | 94/138 [17:43<07:53, 10.77s/it]"
     ]
    },
    {
     "name": "stdout",
     "output_type": "stream",
     "text": [
      "upserting\n"
     ]
    },
    {
     "name": "stderr",
     "output_type": "stream",
     "text": [
      " 69%|██████████████████████████████████████████████                     | 95/138 [17:54<07:55, 11.05s/it]"
     ]
    },
    {
     "name": "stdout",
     "output_type": "stream",
     "text": [
      "upserting\n"
     ]
    },
    {
     "name": "stderr",
     "output_type": "stream",
     "text": [
      " 70%|██████████████████████████████████████████████▌                    | 96/138 [18:00<06:40,  9.53s/it]"
     ]
    },
    {
     "name": "stdout",
     "output_type": "stream",
     "text": [
      "upserting\n"
     ]
    },
    {
     "name": "stderr",
     "output_type": "stream",
     "text": [
      " 70%|███████████████████████████████████████████████                    | 97/138 [18:12<06:51, 10.04s/it]"
     ]
    },
    {
     "name": "stdout",
     "output_type": "stream",
     "text": [
      "upserting\n"
     ]
    },
    {
     "name": "stderr",
     "output_type": "stream",
     "text": [
      " 71%|███████████████████████████████████████████████▌                   | 98/138 [18:23<06:56, 10.42s/it]"
     ]
    },
    {
     "name": "stdout",
     "output_type": "stream",
     "text": [
      "upserting\n"
     ]
    },
    {
     "name": "stderr",
     "output_type": "stream",
     "text": [
      " 72%|████████████████████████████████████████████████                   | 99/138 [18:33<06:40, 10.27s/it]"
     ]
    },
    {
     "name": "stdout",
     "output_type": "stream",
     "text": [
      "upserting\n"
     ]
    },
    {
     "name": "stderr",
     "output_type": "stream",
     "text": [
      " 72%|███████████████████████████████████████████████▊                  | 100/138 [18:48<07:24, 11.70s/it]"
     ]
    },
    {
     "name": "stdout",
     "output_type": "stream",
     "text": [
      "upserting\n"
     ]
    },
    {
     "name": "stderr",
     "output_type": "stream",
     "text": [
      " 73%|████████████████████████████████████████████████▎                 | 101/138 [18:53<05:59,  9.71s/it]"
     ]
    },
    {
     "name": "stdout",
     "output_type": "stream",
     "text": [
      "upserting\n"
     ]
    },
    {
     "name": "stderr",
     "output_type": "stream",
     "text": [
      " 74%|████████████████████████████████████████████████▊                 | 102/138 [19:56<15:31, 25.88s/it]"
     ]
    },
    {
     "name": "stdout",
     "output_type": "stream",
     "text": [
      "upserting\n"
     ]
    },
    {
     "name": "stderr",
     "output_type": "stream",
     "text": [
      " 75%|█████████████████████████████████████████████████▎                | 103/138 [20:07<12:26, 21.33s/it]"
     ]
    },
    {
     "name": "stdout",
     "output_type": "stream",
     "text": [
      "upserting\n"
     ]
    },
    {
     "name": "stderr",
     "output_type": "stream",
     "text": [
      " 75%|█████████████████████████████████████████████████▋                | 104/138 [20:18<10:16, 18.13s/it]"
     ]
    },
    {
     "name": "stdout",
     "output_type": "stream",
     "text": [
      "upserting\n"
     ]
    },
    {
     "name": "stderr",
     "output_type": "stream",
     "text": [
      " 76%|██████████████████████████████████████████████████▏               | 105/138 [20:32<09:21, 17.01s/it]"
     ]
    },
    {
     "name": "stdout",
     "output_type": "stream",
     "text": [
      "upserting\n"
     ]
    },
    {
     "name": "stderr",
     "output_type": "stream",
     "text": [
      " 77%|██████████████████████████████████████████████████▋               | 106/138 [20:39<07:25, 13.91s/it]"
     ]
    },
    {
     "name": "stdout",
     "output_type": "stream",
     "text": [
      "upserting\n"
     ]
    },
    {
     "name": "stderr",
     "output_type": "stream",
     "text": [
      " 78%|███████████████████████████████████████████████████▏              | 107/138 [20:52<07:04, 13.70s/it]"
     ]
    },
    {
     "name": "stdout",
     "output_type": "stream",
     "text": [
      "upserting\n"
     ]
    },
    {
     "name": "stderr",
     "output_type": "stream",
     "text": [
      " 78%|███████████████████████████████████████████████████▋              | 108/138 [21:06<06:53, 13.77s/it]"
     ]
    },
    {
     "name": "stdout",
     "output_type": "stream",
     "text": [
      "upserting\n"
     ]
    },
    {
     "name": "stderr",
     "output_type": "stream",
     "text": [
      " 79%|████████████████████████████████████████████████████▏             | 109/138 [21:14<05:50, 12.10s/it]"
     ]
    },
    {
     "name": "stdout",
     "output_type": "stream",
     "text": [
      "upserting\n"
     ]
    },
    {
     "name": "stderr",
     "output_type": "stream",
     "text": [
      " 80%|████████████████████████████████████████████████████▌             | 110/138 [21:21<04:52, 10.46s/it]"
     ]
    },
    {
     "name": "stdout",
     "output_type": "stream",
     "text": [
      "upserting\n"
     ]
    },
    {
     "name": "stderr",
     "output_type": "stream",
     "text": [
      " 80%|█████████████████████████████████████████████████████             | 111/138 [21:39<05:42, 12.68s/it]"
     ]
    },
    {
     "name": "stdout",
     "output_type": "stream",
     "text": [
      "upserting\n"
     ]
    },
    {
     "name": "stderr",
     "output_type": "stream",
     "text": [
      " 81%|█████████████████████████████████████████████████████▌            | 112/138 [21:47<04:53, 11.29s/it]"
     ]
    },
    {
     "name": "stdout",
     "output_type": "stream",
     "text": [
      "upserting\n"
     ]
    },
    {
     "name": "stderr",
     "output_type": "stream",
     "text": [
      " 82%|██████████████████████████████████████████████████████            | 113/138 [22:00<04:56, 11.84s/it]"
     ]
    },
    {
     "name": "stdout",
     "output_type": "stream",
     "text": [
      "upserting\n"
     ]
    },
    {
     "name": "stderr",
     "output_type": "stream",
     "text": [
      " 83%|██████████████████████████████████████████████████████▌           | 114/138 [22:37<07:45, 19.38s/it]"
     ]
    },
    {
     "name": "stdout",
     "output_type": "stream",
     "text": [
      "upserting\n"
     ]
    },
    {
     "name": "stderr",
     "output_type": "stream",
     "text": [
      " 83%|███████████████████████████████████████████████████████           | 115/138 [22:45<06:06, 15.93s/it]"
     ]
    },
    {
     "name": "stdout",
     "output_type": "stream",
     "text": [
      "upserting\n"
     ]
    },
    {
     "name": "stderr",
     "output_type": "stream",
     "text": [
      " 84%|███████████████████████████████████████████████████████▍          | 116/138 [22:54<05:03, 13.82s/it]"
     ]
    },
    {
     "name": "stdout",
     "output_type": "stream",
     "text": [
      "upserting\n"
     ]
    },
    {
     "name": "stderr",
     "output_type": "stream",
     "text": [
      " 85%|███████████████████████████████████████████████████████▉          | 117/138 [23:08<04:54, 14.01s/it]"
     ]
    },
    {
     "name": "stdout",
     "output_type": "stream",
     "text": [
      "upserting\n"
     ]
    },
    {
     "name": "stderr",
     "output_type": "stream",
     "text": [
      " 86%|████████████████████████████████████████████████████████▍         | 118/138 [23:22<04:40, 14.05s/it]"
     ]
    },
    {
     "name": "stdout",
     "output_type": "stream",
     "text": [
      "upserting\n"
     ]
    },
    {
     "name": "stderr",
     "output_type": "stream",
     "text": [
      " 86%|████████████████████████████████████████████████████████▉         | 119/138 [23:35<04:21, 13.76s/it]"
     ]
    },
    {
     "name": "stdout",
     "output_type": "stream",
     "text": [
      "upserting\n"
     ]
    },
    {
     "name": "stderr",
     "output_type": "stream",
     "text": [
      " 87%|█████████████████████████████████████████████████████████▍        | 120/138 [23:41<03:21, 11.21s/it]"
     ]
    },
    {
     "name": "stdout",
     "output_type": "stream",
     "text": [
      "upserting\n"
     ]
    },
    {
     "name": "stderr",
     "output_type": "stream",
     "text": [
      " 88%|█████████████████████████████████████████████████████████▊        | 121/138 [23:52<03:10, 11.18s/it]"
     ]
    },
    {
     "name": "stdout",
     "output_type": "stream",
     "text": [
      "upserting\n"
     ]
    },
    {
     "name": "stderr",
     "output_type": "stream",
     "text": [
      " 88%|██████████████████████████████████████████████████████████▎       | 122/138 [23:59<02:42, 10.13s/it]"
     ]
    },
    {
     "name": "stdout",
     "output_type": "stream",
     "text": [
      "upserting\n"
     ]
    },
    {
     "name": "stderr",
     "output_type": "stream",
     "text": [
      " 89%|██████████████████████████████████████████████████████████▊       | 123/138 [24:08<02:23,  9.59s/it]"
     ]
    },
    {
     "name": "stdout",
     "output_type": "stream",
     "text": [
      "upserting\n"
     ]
    },
    {
     "name": "stderr",
     "output_type": "stream",
     "text": [
      " 90%|███████████████████████████████████████████████████████████▎      | 124/138 [24:22<02:34, 11.02s/it]"
     ]
    },
    {
     "name": "stdout",
     "output_type": "stream",
     "text": [
      "upserting\n"
     ]
    },
    {
     "name": "stderr",
     "output_type": "stream",
     "text": [
      " 91%|███████████████████████████████████████████████████████████▊      | 125/138 [24:32<02:17, 10.60s/it]"
     ]
    },
    {
     "name": "stdout",
     "output_type": "stream",
     "text": [
      "upserting\n"
     ]
    },
    {
     "name": "stderr",
     "output_type": "stream",
     "text": [
      " 91%|████████████████████████████████████████████████████████████▎     | 126/138 [24:50<02:34, 12.91s/it]"
     ]
    },
    {
     "name": "stdout",
     "output_type": "stream",
     "text": [
      "upserting\n"
     ]
    },
    {
     "name": "stderr",
     "output_type": "stream",
     "text": [
      " 92%|████████████████████████████████████████████████████████████▋     | 127/138 [25:01<02:15, 12.30s/it]"
     ]
    },
    {
     "name": "stdout",
     "output_type": "stream",
     "text": [
      "upserting\n"
     ]
    },
    {
     "name": "stderr",
     "output_type": "stream",
     "text": [
      " 93%|█████████████████████████████████████████████████████████████▏    | 128/138 [25:14<02:06, 12.61s/it]"
     ]
    },
    {
     "name": "stdout",
     "output_type": "stream",
     "text": [
      "upserting\n"
     ]
    },
    {
     "name": "stderr",
     "output_type": "stream",
     "text": [
      " 93%|█████████████████████████████████████████████████████████████▋    | 129/138 [25:29<01:58, 13.15s/it]"
     ]
    },
    {
     "name": "stdout",
     "output_type": "stream",
     "text": [
      "upserting\n"
     ]
    },
    {
     "name": "stderr",
     "output_type": "stream",
     "text": [
      " 94%|██████████████████████████████████████████████████████████████▏   | 130/138 [25:44<01:50, 13.85s/it]"
     ]
    },
    {
     "name": "stdout",
     "output_type": "stream",
     "text": [
      "upserting\n"
     ]
    },
    {
     "name": "stderr",
     "output_type": "stream",
     "text": [
      " 95%|██████████████████████████████████████████████████████████████▋   | 131/138 [25:56<01:33, 13.38s/it]"
     ]
    },
    {
     "name": "stdout",
     "output_type": "stream",
     "text": [
      "upserting\n"
     ]
    },
    {
     "name": "stderr",
     "output_type": "stream",
     "text": [
      " 96%|███████████████████████████████████████████████████████████████▏  | 132/138 [26:09<01:19, 13.29s/it]"
     ]
    },
    {
     "name": "stdout",
     "output_type": "stream",
     "text": [
      "upserting\n"
     ]
    },
    {
     "name": "stderr",
     "output_type": "stream",
     "text": [
      " 96%|███████████████████████████████████████████████████████████████▌  | 133/138 [26:23<01:06, 13.25s/it]"
     ]
    },
    {
     "name": "stdout",
     "output_type": "stream",
     "text": [
      "upserting\n"
     ]
    },
    {
     "name": "stderr",
     "output_type": "stream",
     "text": [
      " 97%|████████████████████████████████████████████████████████████████  | 134/138 [26:35<00:52, 13.07s/it]"
     ]
    },
    {
     "name": "stdout",
     "output_type": "stream",
     "text": [
      "upserting\n"
     ]
    },
    {
     "name": "stderr",
     "output_type": "stream",
     "text": [
      " 98%|████████████████████████████████████████████████████████████████▌ | 135/138 [26:46<00:37, 12.44s/it]"
     ]
    },
    {
     "name": "stdout",
     "output_type": "stream",
     "text": [
      "upserting\n"
     ]
    },
    {
     "name": "stderr",
     "output_type": "stream",
     "text": [
      " 99%|█████████████████████████████████████████████████████████████████ | 136/138 [27:02<00:26, 13.44s/it]"
     ]
    },
    {
     "name": "stdout",
     "output_type": "stream",
     "text": [
      "upserting\n"
     ]
    },
    {
     "name": "stderr",
     "output_type": "stream",
     "text": [
      " 99%|█████████████████████████████████████████████████████████████████▌| 137/138 [27:13<00:12, 12.71s/it]"
     ]
    },
    {
     "name": "stdout",
     "output_type": "stream",
     "text": [
      "upserting\n"
     ]
    },
    {
     "name": "stderr",
     "output_type": "stream",
     "text": [
      "100%|██████████████████████████████████████████████████████████████████| 138/138 [27:21<00:00, 11.89s/it]\n",
      "2025-06-22 12:43:53,856 INFO     Saving logs in: ./logs/06_22/movies/AttH_12_43_53\n",
      "2025-06-22 12:43:53,857 INFO     \t (799, 484, 799)\n",
      "2025-06-22 12:43:53,927 INFO     Total number of parameters 3221082\n",
      "2025-06-22 12:43:53,931 INFO     \t Start training\n"
     ]
    },
    {
     "name": "stdout",
     "output_type": "stream",
     "text": [
      "upserting\n",
      "num nodes 799\n",
      "unique node ids {0, 1, 2, 3, 4, 5, 6, 7, 8, 9, 10, 11, 12, 13, 14, 15, 16, 17, 18, 19, 20, 21, 22, 23, 24, 25, 26, 27, 28, 29, 30, 31, 32, 33, 34, 35, 36, 37, 38, 39, 40, 41, 42, 43, 44, 45, 46, 47, 48, 49, 50, 51, 52, 54, 55, 56, 57, 58, 59, 60, 61, 62, 63, 64, 65, 66, 67, 68, 69, 70, 71, 72, 73, 74, 75, 76, 77, 78, 79, 80, 81, 82, 83, 84, 85, 86, 87, 88, 89, 90, 91, 92, 93, 94, 95, 96, 97, 98, 99, 100, 101, 102, 103, 104, 105, 106, 107, 108, 109, 110, 111, 112, 113, 114, 115, 116, 117, 118, 119, 120, 121, 122, 123, 124, 125, 126, 127, 128, 129, 130, 131, 132, 133, 134, 135, 136, 137, 138, 139, 140, 141, 142, 143, 144, 145, 146, 147, 148, 149, 150, 151, 152, 153, 154, 155, 156, 157, 158, 159, 160, 161, 162, 163, 164, 165, 166, 167, 168, 169, 170, 171, 172, 173, 174, 175, 176, 177, 178, 179, 180, 181, 182, 183, 184, 185, 186, 187, 188, 189, 190, 191, 192, 193, 194, 195, 196, 197, 198, 199, 200, 201, 202, 203, 204, 205, 206, 207, 208, 209, 210, 211, 212, 213, 214, 215, 216, 217, 218, 219, 220, 221, 222, 223, 224, 225, 226, 227, 228, 229, 230, 231, 232, 233, 234, 235, 236, 237, 238, 239, 240, 241, 242, 243, 244, 245, 246, 247, 248, 249, 250, 251, 252, 253, 254, 255, 256, 257, 258, 259, 260, 261, 262, 263, 264, 265, 266, 267, 268, 269, 270, 271, 272, 273, 274, 275, 276, 277, 278, 279, 280, 281, 282, 283, 284, 285, 286, 287, 288, 289, 290, 291, 292, 293, 294, 295, 296, 297, 298, 299, 300, 301, 302, 303, 304, 305, 306, 307, 308, 309, 310, 311, 312, 313, 314, 315, 316, 317, 318, 319, 320, 321, 322, 323, 324, 325, 326, 327, 328, 329, 330, 331, 332, 333, 334, 335, 336, 337, 338, 339, 340, 341, 342, 343, 344, 345, 346, 347, 348, 349, 350, 351, 352, 353, 354, 355, 356, 357, 358, 359, 360, 361, 362, 363, 364, 365, 366, 367, 368, 369, 370, 371, 372, 373, 374, 375, 376, 377, 378, 379, 380, 381, 382, 383, 384, 385, 386, 387, 388, 389, 390, 391, 392, 393, 394, 395, 396, 397, 398, 399, 400, 401, 402, 403, 404, 405, 406, 407, 408, 409, 410, 411, 412, 413, 414, 415, 416, 417, 418, 419, 420, 421, 422, 423, 424, 425, 426, 427, 428, 429, 430, 431, 432, 433, 434, 435, 436, 437, 438, 439, 440, 441, 442, 443, 444, 445, 446, 447, 448, 449, 450, 451, 452, 453, 454, 455, 456, 457, 458, 459, 460, 461, 462, 463, 464, 465, 466, 467, 468, 469, 470, 471, 472, 473, 474, 475, 476, 477, 478, 479, 480, 481, 482, 483, 484, 485, 486, 487, 488, 489, 490, 491, 492, 493, 494, 495, 496, 497, 498, 499, 500, 501, 502, 503, 504, 505, 506, 507, 508, 509, 510, 511, 512, 513, 514, 515, 516, 517, 518, 519, 520, 521, 522, 523, 524, 525, 526, 527, 528, 529, 530, 531, 532, 533, 534, 535, 536, 537, 538, 539, 540, 541, 542, 543, 544, 545, 546, 547, 548, 549, 550, 551, 552, 553, 554, 555, 556, 557, 558, 559, 560, 561, 562, 563, 564, 565, 566, 567, 568, 569, 570, 571, 572, 573, 574, 575, 576, 577, 578, 579, 580, 581, 582, 583, 584, 585, 586, 587, 588, 589, 590, 591, 592, 593, 594, 595, 596, 597, 598, 599, 600, 601, 602, 603, 604, 605, 606, 607, 608, 609, 610, 611, 612, 613, 614, 615, 616, 617, 618, 619, 620, 621, 622, 623, 624, 625, 626, 627, 628, 629, 630, 631, 632, 633, 634, 635, 636, 637, 638, 639, 640, 641, 642, 643, 644, 645, 646, 647, 648, 649, 650, 651, 652, 653, 654, 655, 656, 657, 658, 659, 660, 661, 662, 663, 664, 665, 666, 667, 668, 669, 670, 671, 672, 673, 674, 675, 676, 677, 678, 679, 680, 681, 682, 683, 684, 685, 686, 687, 688, 689, 690, 691, 692, 693, 694, 695, 696, 697, 698, 699, 700, 701, 702, 703, 704, 705, 706, 707, 708, 709, 710, 711, 712, 713, 714, 715, 716, 717, 718, 719, 720, 721, 722, 723, 724, 725, 726, 727, 728, 729, 730, 731, 732, 733, 734, 735, 736, 737, 738, 739, 740, 741, 742, 743, 744, 745, 746, 747, 748, 749, 750, 751, 752, 753, 754, 755, 756, 757, 758, 759, 760, 761, 762, 763, 764, 765, 766, 767, 768, 769, 770, 771, 772, 773, 774, 775, 776, 777, 778, 779, 780, 781, 782, 783, 784, 785, 786, 787, 788, 789, 790, 791, 792, 793, 794, 795, 796, 797, 798, 799}\n",
      "creating dataset\n",
      "train kg embeddings\n",
      "max_epochs 50\n"
     ]
    },
    {
     "name": "stderr",
     "output_type": "stream",
     "text": [
      "train loss: 100%|██████████████████████████████████████| 1252/1252 [00:10<00:00, 124.46ex/s, loss=2.0961]\n",
      "2025-06-22 12:44:03,994 INFO     \t Epoch 0 | average train loss: 1.3923\n",
      "2025-06-22 12:44:04,095 INFO     \t Epoch 0 | average valid loss: 1.7016\n",
      "train loss: 100%|██████████████████████████████████████| 1252/1252 [00:07<00:00, 160.66ex/s, loss=1.6575]\n",
      "2025-06-22 12:44:11,894 INFO     \t Epoch 1 | average train loss: 1.7686\n",
      "2025-06-22 12:44:11,990 INFO     \t Epoch 1 | average valid loss: 0.9531\n",
      "train loss: 100%|██████████████████████████████████████| 1252/1252 [00:06<00:00, 197.78ex/s, loss=0.8719]\n",
      "2025-06-22 12:44:18,322 INFO     \t Epoch 2 | average train loss: 1.0416\n",
      "2025-06-22 12:44:18,413 INFO     \t Epoch 2 | average valid loss: 0.4587\n",
      "2025-06-22 12:44:18,431 INFO     \t valid MR: 201.85 | MRR: 0.013 | H@1: 0.000 | H@3: 0.000 | H@10: 0.013\n",
      "2025-06-22 12:44:18,432 INFO     \t Epoch 2 | average valid mmr: 0.0126\n",
      "2025-06-22 12:44:18,432 INFO     \t Saving model at epoch 2 in ./logs/06_22/movies/AttH_12_43_53\n",
      "train loss: 100%|██████████████████████████████████████| 1252/1252 [00:07<00:00, 170.23ex/s, loss=0.3521]\n",
      "2025-06-22 12:44:25,825 INFO     \t Epoch 3 | average train loss: 0.5112\n",
      "2025-06-22 12:44:25,935 INFO     \t Epoch 3 | average valid loss: 0.1827\n",
      "train loss: 100%|██████████████████████████████████████| 1252/1252 [00:07<00:00, 165.17ex/s, loss=0.1698]\n",
      "2025-06-22 12:44:33,517 INFO     \t Epoch 4 | average train loss: 0.2424\n",
      "2025-06-22 12:44:33,615 INFO     \t Epoch 4 | average valid loss: 0.1498\n",
      "train loss: 100%|██████████████████████████████████████| 1252/1252 [00:06<00:00, 187.69ex/s, loss=0.1337]\n",
      "2025-06-22 12:44:40,288 INFO     \t Epoch 5 | average train loss: 0.1686\n",
      "2025-06-22 12:44:40,391 INFO     \t Epoch 5 | average valid loss: 0.1201\n",
      "2025-06-22 12:44:40,401 INFO     \t valid MR: 142.00 | MRR: 0.125 | H@1: 0.051 | H@3: 0.141 | H@10: 0.288\n",
      "2025-06-22 12:44:40,401 INFO     \t Epoch 5 | average valid mmr: 0.1246\n",
      "2025-06-22 12:44:40,402 INFO     \t Saving model at epoch 5 in ./logs/06_22/movies/AttH_12_43_53\n",
      "train loss: 100%|██████████████████████████████████████| 1252/1252 [00:07<00:00, 162.27ex/s, loss=0.0971]\n",
      "2025-06-22 12:44:48,136 INFO     \t Epoch 6 | average train loss: 0.1260\n",
      "2025-06-22 12:44:48,231 INFO     \t Epoch 6 | average valid loss: 0.1107\n",
      "train loss: 100%|██████████████████████████████████████| 1252/1252 [00:06<00:00, 194.98ex/s, loss=0.0808]\n",
      "2025-06-22 12:44:54,654 INFO     \t Epoch 7 | average train loss: 0.0990\n",
      "2025-06-22 12:44:54,750 INFO     \t Epoch 7 | average valid loss: 0.1061\n",
      "train loss: 100%|██████████████████████████████████████| 1252/1252 [00:07<00:00, 161.25ex/s, loss=0.0701]\n",
      "2025-06-22 12:45:02,516 INFO     \t Epoch 8 | average train loss: 0.0783\n",
      "2025-06-22 12:45:02,617 INFO     \t Epoch 8 | average valid loss: 0.0979\n",
      "2025-06-22 12:45:02,630 INFO     \t valid MR: 160.72 | MRR: 0.114 | H@1: 0.032 | H@3: 0.154 | H@10: 0.288\n",
      "2025-06-22 12:45:02,631 INFO     \t Epoch 8 | average valid mmr: 0.1136\n",
      "train loss: 100%|██████████████████████████████████████| 1252/1252 [00:06<00:00, 194.61ex/s, loss=0.0596]\n",
      "2025-06-22 12:45:09,066 INFO     \t Epoch 9 | average train loss: 0.0651\n",
      "2025-06-22 12:45:09,166 INFO     \t Epoch 9 | average valid loss: 0.0946\n",
      "train loss: 100%|██████████████████████████████████████| 1252/1252 [00:06<00:00, 179.17ex/s, loss=0.0519]\n",
      "2025-06-22 12:45:16,156 INFO     \t Epoch 10 | average train loss: 0.0574\n",
      "2025-06-22 12:45:16,261 INFO     \t Epoch 10 | average valid loss: 0.0898\n",
      "train loss: 100%|██████████████████████████████████████| 1252/1252 [00:06<00:00, 193.61ex/s, loss=0.0446]\n",
      "2025-06-22 12:45:22,730 INFO     \t Epoch 11 | average train loss: 0.0483\n",
      "2025-06-22 12:45:22,834 INFO     \t Epoch 11 | average valid loss: 0.0864\n",
      "2025-06-22 12:45:22,847 INFO     \t valid MR: 153.87 | MRR: 0.125 | H@1: 0.045 | H@3: 0.167 | H@10: 0.282\n",
      "2025-06-22 12:45:22,847 INFO     \t Epoch 11 | average valid mmr: 0.1247\n",
      "2025-06-22 12:45:22,848 INFO     \t Saving model at epoch 11 in ./logs/06_22/movies/AttH_12_43_53\n",
      "train loss: 100%|██████████████████████████████████████| 1252/1252 [00:07<00:00, 168.98ex/s, loss=0.0401]\n",
      "2025-06-22 12:45:30,274 INFO     \t Epoch 12 | average train loss: 0.0437\n",
      "2025-06-22 12:45:30,375 INFO     \t Epoch 12 | average valid loss: 0.0861\n",
      "train loss: 100%|██████████████████████████████████████| 1252/1252 [00:07<00:00, 169.75ex/s, loss=0.0359]\n",
      "2025-06-22 12:45:37,752 INFO     \t Epoch 13 | average train loss: 0.0389\n",
      "2025-06-22 12:45:37,857 INFO     \t Epoch 13 | average valid loss: 0.0830\n",
      "train loss: 100%|██████████████████████████████████████| 1252/1252 [00:07<00:00, 169.63ex/s, loss=0.0339]\n",
      "2025-06-22 12:45:45,240 INFO     \t Epoch 14 | average train loss: 0.0367\n",
      "2025-06-22 12:45:45,341 INFO     \t Epoch 14 | average valid loss: 0.0842\n",
      "2025-06-22 12:45:45,350 INFO     \t valid MR: 148.62 | MRR: 0.136 | H@1: 0.051 | H@3: 0.179 | H@10: 0.276\n",
      "2025-06-22 12:45:45,351 INFO     \t Epoch 14 | average valid mmr: 0.1365\n",
      "2025-06-22 12:45:45,351 INFO     \t Saving model at epoch 14 in ./logs/06_22/movies/AttH_12_43_53\n",
      "train loss: 100%|██████████████████████████████████████| 1252/1252 [00:07<00:00, 169.19ex/s, loss=0.0314]\n",
      "2025-06-22 12:45:52,770 INFO     \t Epoch 15 | average train loss: 0.0349\n",
      "2025-06-22 12:45:52,870 INFO     \t Epoch 15 | average valid loss: 0.0846\n",
      "train loss: 100%|██████████████████████████████████████| 1252/1252 [00:07<00:00, 170.42ex/s, loss=0.0320]\n",
      "2025-06-22 12:46:00,219 INFO     \t Epoch 16 | average train loss: 0.0324\n",
      "2025-06-22 12:46:00,319 INFO     \t Epoch 16 | average valid loss: 0.0812\n",
      "train loss: 100%|██████████████████████████████████████| 1252/1252 [00:06<00:00, 191.98ex/s, loss=0.0297]\n",
      "2025-06-22 12:46:06,843 INFO     \t Epoch 17 | average train loss: 0.0320\n",
      "2025-06-22 12:46:06,944 INFO     \t Epoch 17 | average valid loss: 0.0790\n",
      "2025-06-22 12:46:06,953 INFO     \t valid MR: 125.18 | MRR: 0.125 | H@1: 0.038 | H@3: 0.179 | H@10: 0.301\n",
      "2025-06-22 12:46:06,953 INFO     \t Epoch 17 | average valid mmr: 0.1253\n",
      "train loss: 100%|██████████████████████████████████████| 1252/1252 [00:07<00:00, 173.45ex/s, loss=0.0276]\n",
      "2025-06-22 12:46:14,173 INFO     \t Epoch 18 | average train loss: 0.0298\n",
      "2025-06-22 12:46:14,277 INFO     \t Epoch 18 | average valid loss: 0.0788\n",
      "train loss: 100%|██████████████████████████████████████| 1252/1252 [00:07<00:00, 168.09ex/s, loss=0.0276]\n",
      "2025-06-22 12:46:21,727 INFO     \t Epoch 19 | average train loss: 0.0290\n",
      "2025-06-22 12:46:21,836 INFO     \t Epoch 19 | average valid loss: 0.0797\n",
      "train loss: 100%|██████████████████████████████████████| 1252/1252 [00:07<00:00, 167.86ex/s, loss=0.0270]\n",
      "2025-06-22 12:46:29,296 INFO     \t Epoch 20 | average train loss: 0.0287\n",
      "2025-06-22 12:46:29,395 INFO     \t Epoch 20 | average valid loss: 0.0819\n",
      "2025-06-22 12:46:29,407 INFO     \t valid MR: 129.38 | MRR: 0.134 | H@1: 0.051 | H@3: 0.173 | H@10: 0.282\n",
      "2025-06-22 12:46:29,407 INFO     \t Epoch 20 | average valid mmr: 0.1338\n",
      "train loss: 100%|██████████████████████████████████████| 1252/1252 [00:07<00:00, 167.62ex/s, loss=0.0270]\n",
      "2025-06-22 12:46:36,878 INFO     \t Epoch 21 | average train loss: 0.0275\n",
      "2025-06-22 12:46:36,980 INFO     \t Epoch 21 | average valid loss: 0.0793\n",
      "train loss: 100%|██████████████████████████████████████| 1252/1252 [00:07<00:00, 171.25ex/s, loss=0.0257]\n",
      "2025-06-22 12:46:44,293 INFO     \t Epoch 22 | average train loss: 0.0271\n",
      "2025-06-22 12:46:44,396 INFO     \t Epoch 22 | average valid loss: 0.0806\n",
      "train loss: 100%|██████████████████████████████████████| 1252/1252 [00:07<00:00, 168.75ex/s, loss=0.0240]\n",
      "2025-06-22 12:46:51,817 INFO     \t Epoch 23 | average train loss: 0.0261\n",
      "2025-06-22 12:46:51,917 INFO     \t Epoch 23 | average valid loss: 0.0814\n",
      "2025-06-22 12:46:51,927 INFO     \t valid MR: 130.22 | MRR: 0.131 | H@1: 0.051 | H@3: 0.167 | H@10: 0.288\n",
      "2025-06-22 12:46:51,928 INFO     \t Epoch 23 | average valid mmr: 0.1309\n",
      "train loss: 100%|██████████████████████████████████████| 1252/1252 [00:07<00:00, 168.32ex/s, loss=0.0255]\n",
      "2025-06-22 12:46:59,368 INFO     \t Epoch 24 | average train loss: 0.0254\n",
      "2025-06-22 12:46:59,470 INFO     \t Epoch 24 | average valid loss: 0.0820\n",
      "train loss: 100%|██████████████████████████████████████| 1252/1252 [00:07<00:00, 168.82ex/s, loss=0.0241]\n",
      "2025-06-22 12:47:06,888 INFO     \t Epoch 25 | average train loss: 0.0252\n",
      "2025-06-22 12:47:06,992 INFO     \t Epoch 25 | average valid loss: 0.0840\n",
      "train loss: 100%|██████████████████████████████████████| 1252/1252 [00:07<00:00, 168.22ex/s, loss=0.0233]\n",
      "2025-06-22 12:47:14,437 INFO     \t Epoch 26 | average train loss: 0.0241\n",
      "2025-06-22 12:47:14,541 INFO     \t Epoch 26 | average valid loss: 0.0837\n",
      "2025-06-22 12:47:14,555 INFO     \t valid MR: 133.17 | MRR: 0.138 | H@1: 0.064 | H@3: 0.179 | H@10: 0.263\n",
      "2025-06-22 12:47:14,555 INFO     \t Epoch 26 | average valid mmr: 0.1379\n",
      "2025-06-22 12:47:14,556 INFO     \t Saving model at epoch 26 in ./logs/06_22/movies/AttH_12_43_53\n",
      "train loss: 100%|██████████████████████████████████████| 1252/1252 [00:07<00:00, 157.52ex/s, loss=0.0245]\n",
      "2025-06-22 12:47:22,524 INFO     \t Epoch 27 | average train loss: 0.0246\n",
      "2025-06-22 12:47:22,621 INFO     \t Epoch 27 | average valid loss: 0.0809\n",
      "train loss: 100%|██████████████████████████████████████| 1252/1252 [00:07<00:00, 158.42ex/s, loss=0.0229]\n",
      "2025-06-22 12:47:30,526 INFO     \t Epoch 28 | average train loss: 0.0237\n",
      "2025-06-22 12:47:30,635 INFO     \t Epoch 28 | average valid loss: 0.0832\n",
      "train loss: 100%|██████████████████████████████████████| 1252/1252 [00:06<00:00, 191.18ex/s, loss=0.0219]\n",
      "2025-06-22 12:47:37,186 INFO     \t Epoch 29 | average train loss: 0.0231\n",
      "2025-06-22 12:47:37,289 INFO     \t Epoch 29 | average valid loss: 0.0842\n",
      "2025-06-22 12:47:37,300 INFO     \t valid MR: 129.51 | MRR: 0.131 | H@1: 0.045 | H@3: 0.173 | H@10: 0.314\n",
      "2025-06-22 12:47:37,300 INFO     \t Epoch 29 | average valid mmr: 0.1310\n",
      "train loss: 100%|██████████████████████████████████████| 1252/1252 [00:06<00:00, 191.35ex/s, loss=0.0220]\n",
      "2025-06-22 12:47:43,846 INFO     \t Epoch 30 | average train loss: 0.0229\n",
      "2025-06-22 12:47:43,948 INFO     \t Epoch 30 | average valid loss: 0.0846\n",
      "train loss: 100%|██████████████████████████████████████| 1252/1252 [00:06<00:00, 191.03ex/s, loss=0.0226]\n",
      "2025-06-22 12:47:50,503 INFO     \t Epoch 31 | average train loss: 0.0231\n",
      "2025-06-22 12:47:50,607 INFO     \t Epoch 31 | average valid loss: 0.0856\n",
      "train loss: 100%|██████████████████████████████████████| 1252/1252 [00:06<00:00, 192.14ex/s, loss=0.0219]\n",
      "2025-06-22 12:47:57,124 INFO     \t Epoch 32 | average train loss: 0.0231\n",
      "2025-06-22 12:47:57,225 INFO     \t Epoch 32 | average valid loss: 0.0840\n",
      "2025-06-22 12:47:57,233 INFO     \t valid MR: 133.66 | MRR: 0.130 | H@1: 0.045 | H@3: 0.167 | H@10: 0.301\n",
      "2025-06-22 12:47:57,234 INFO     \t Epoch 32 | average valid mmr: 0.1296\n",
      "train loss: 100%|██████████████████████████████████████| 1252/1252 [00:06<00:00, 192.64ex/s, loss=0.0221]\n",
      "2025-06-22 12:48:03,735 INFO     \t Epoch 33 | average train loss: 0.0228\n",
      "2025-06-22 12:48:03,839 INFO     \t Epoch 33 | average valid loss: 0.0851\n",
      "train loss: 100%|██████████████████████████████████████| 1252/1252 [00:06<00:00, 192.99ex/s, loss=0.0223]\n",
      "2025-06-22 12:48:10,328 INFO     \t Epoch 34 | average train loss: 0.0234\n",
      "2025-06-22 12:48:10,431 INFO     \t Epoch 34 | average valid loss: 0.0868\n",
      "train loss: 100%|██████████████████████████████████████| 1252/1252 [00:06<00:00, 191.53ex/s, loss=0.0229]\n",
      "2025-06-22 12:48:16,970 INFO     \t Epoch 35 | average train loss: 0.0230\n",
      "2025-06-22 12:48:17,074 INFO     \t Epoch 35 | average valid loss: 0.0880\n",
      "2025-06-22 12:48:17,084 INFO     \t valid MR: 134.49 | MRR: 0.131 | H@1: 0.045 | H@3: 0.167 | H@10: 0.288\n",
      "2025-06-22 12:48:17,084 INFO     \t Epoch 35 | average valid mmr: 0.1312\n",
      "train loss: 100%|██████████████████████████████████████| 1252/1252 [00:06<00:00, 192.47ex/s, loss=0.0219]\n",
      "2025-06-22 12:48:23,591 INFO     \t Epoch 36 | average train loss: 0.0229\n",
      "2025-06-22 12:48:23,694 INFO     \t Epoch 36 | average valid loss: 0.0883\n",
      "train loss: 100%|██████████████████████████████████████| 1252/1252 [00:08<00:00, 150.35ex/s, loss=0.0220]\n",
      "2025-06-22 12:48:32,023 INFO     \t Epoch 37 | average train loss: 0.0225\n",
      "2025-06-22 12:48:32,120 INFO     \t Epoch 37 | average valid loss: 0.0880\n",
      "train loss: 100%|███████████████████████████████████████| 1252/1252 [00:20<00:00, 59.84ex/s, loss=0.0211]\n",
      "2025-06-22 12:48:53,045 INFO     \t Epoch 38 | average train loss: 0.0220\n",
      "2025-06-22 12:48:53,144 INFO     \t Epoch 38 | average valid loss: 0.0886\n",
      "2025-06-22 12:48:53,154 INFO     \t valid MR: 135.85 | MRR: 0.124 | H@1: 0.045 | H@3: 0.147 | H@10: 0.308\n",
      "2025-06-22 12:48:53,154 INFO     \t Epoch 38 | average valid mmr: 0.1238\n",
      "train loss: 100%|██████████████████████████████████████| 1252/1252 [00:06<00:00, 195.35ex/s, loss=0.0203]\n",
      "2025-06-22 12:48:59,566 INFO     \t Epoch 39 | average train loss: 0.0210\n",
      "2025-06-22 12:48:59,674 INFO     \t Epoch 39 | average valid loss: 0.0874\n",
      "train loss: 100%|██████████████████████████████████████| 1252/1252 [00:06<00:00, 199.10ex/s, loss=0.0211]\n",
      "2025-06-22 12:49:05,964 INFO     \t Epoch 40 | average train loss: 0.0217\n",
      "2025-06-22 12:49:06,071 INFO     \t Epoch 40 | average valid loss: 0.0870\n",
      "train loss: 100%|██████████████████████████████████████| 1252/1252 [00:06<00:00, 197.48ex/s, loss=0.0205]\n",
      "2025-06-22 12:49:12,414 INFO     \t Epoch 41 | average train loss: 0.0213\n",
      "2025-06-22 12:49:12,519 INFO     \t Epoch 41 | average valid loss: 0.0895\n",
      "2025-06-22 12:49:12,530 INFO     \t valid MR: 135.51 | MRR: 0.135 | H@1: 0.045 | H@3: 0.173 | H@10: 0.295\n",
      "2025-06-22 12:49:12,530 INFO     \t Epoch 41 | average valid mmr: 0.1355\n",
      "train loss: 100%|██████████████████████████████████████| 1252/1252 [00:06<00:00, 194.56ex/s, loss=0.0194]\n",
      "2025-06-22 12:49:18,967 INFO     \t Epoch 42 | average train loss: 0.0208\n",
      "2025-06-22 12:49:19,075 INFO     \t Epoch 42 | average valid loss: 0.0860\n",
      "train loss: 100%|██████████████████████████████████████| 1252/1252 [00:06<00:00, 191.98ex/s, loss=0.0197]\n",
      "2025-06-22 12:49:25,598 INFO     \t Epoch 43 | average train loss: 0.0205\n",
      "2025-06-22 12:49:25,702 INFO     \t Epoch 43 | average valid loss: 0.0872\n",
      "train loss: 100%|██████████████████████████████████████| 1252/1252 [00:06<00:00, 187.86ex/s, loss=0.0205]\n",
      "2025-06-22 12:49:32,369 INFO     \t Epoch 44 | average train loss: 0.0207\n",
      "2025-06-22 12:49:32,481 INFO     \t Epoch 44 | average valid loss: 0.0879\n",
      "2025-06-22 12:49:32,490 INFO     \t valid MR: 131.94 | MRR: 0.136 | H@1: 0.051 | H@3: 0.173 | H@10: 0.295\n",
      "2025-06-22 12:49:32,490 INFO     \t Epoch 44 | average valid mmr: 0.1356\n",
      "train loss: 100%|██████████████████████████████████████| 1252/1252 [00:06<00:00, 190.66ex/s, loss=0.0198]\n",
      "2025-06-22 12:49:39,059 INFO     \t Epoch 45 | average train loss: 0.0210\n",
      "2025-06-22 12:49:39,168 INFO     \t Epoch 45 | average valid loss: 0.0856\n",
      "train loss: 100%|██████████████████████████████████████| 1252/1252 [00:07<00:00, 168.45ex/s, loss=0.0197]\n",
      "2025-06-22 12:49:46,602 INFO     \t Epoch 46 | average train loss: 0.0201\n",
      "2025-06-22 12:49:46,711 INFO     \t Epoch 46 | average valid loss: 0.0870\n",
      "train loss: 100%|██████████████████████████████████████| 1252/1252 [00:07<00:00, 166.99ex/s, loss=0.0194]\n",
      "2025-06-22 12:49:54,211 INFO     \t Epoch 47 | average train loss: 0.0202\n",
      "2025-06-22 12:49:54,319 INFO     \t Epoch 47 | average valid loss: 0.0879\n",
      "2025-06-22 12:49:54,331 INFO     \t valid MR: 126.91 | MRR: 0.135 | H@1: 0.051 | H@3: 0.147 | H@10: 0.295\n",
      "2025-06-22 12:49:54,331 INFO     \t Epoch 47 | average valid mmr: 0.1352\n",
      "train loss: 100%|██████████████████████████████████████| 1252/1252 [00:06<00:00, 189.85ex/s, loss=0.0202]\n",
      "2025-06-22 12:50:00,928 INFO     \t Epoch 48 | average train loss: 0.0203\n",
      "2025-06-22 12:50:01,038 INFO     \t Epoch 48 | average valid loss: 0.0887\n",
      "train loss: 100%|██████████████████████████████████████| 1252/1252 [00:06<00:00, 191.04ex/s, loss=0.0205]\n",
      "2025-06-22 12:50:07,593 INFO     \t Epoch 49 | average train loss: 0.0209\n",
      "2025-06-22 12:50:07,703 INFO     \t Epoch 49 | average valid loss: 0.0910\n",
      "2025-06-22 12:50:07,703 INFO     \t Optimization finished\n",
      "2025-06-22 12:50:07,704 INFO     \t Loading best model saved at epoch 26\n",
      "2025-06-22 12:50:07,739 INFO     \t valid MR: 133.17 | MRR: 0.138 | H@1: 0.064 | H@3: 0.179 | H@10: 0.263\n",
      "2025-06-22 12:50:07,752 INFO     \t test MR: 140.66 | MRR: 0.114 | H@1: 0.044 | H@3: 0.127 | H@10: 0.222\n"
     ]
    },
    {
     "name": "stdout",
     "output_type": "stream",
     "text": [
      "returning model\n"
     ]
    },
    {
     "data": {
      "application/vnd.jupyter.widget-view+json": {
       "model_id": "c310b9ea11434dc5856777ad6352b522",
       "version_major": 2,
       "version_minor": 0
      },
      "text/plain": [
       "Batches:   0%|          | 0/25 [00:00<?, ?it/s]"
      ]
     },
     "metadata": {},
     "output_type": "display_data"
    }
   ],
   "source": [
    "rag.fit(new_docs[:100], dataset_name='movies')"
   ]
  },
  {
   "cell_type": "code",
   "execution_count": 27,
   "id": "bce927bb-c29e-4545-9408-7576ea01fc71",
   "metadata": {},
   "outputs": [
    {
     "data": {
      "text/plain": [
       "[Node(id=1, name='Stuart Rosenberg', description='American film and television director American film and television director', alias=['Stuart Rosenberg (August 11, 1927 – March 15, 2007)', 'Stuart Rosenberg'], additional_information=[\"Directed 'Cool Hand Luke', 'Voyage of the Damned', 'The Amityville Horror', 'The Pope of Greenwich Village'\"]),\n",
       " Node(id=2, name='Méditerranée', description='1963 French experimental film', alias=['Méditerranée (1963 film)'], additional_information=['Directed by Jean-Daniel Pollet', 'Written by Philippe Sollers', 'Produced by Barbet Schroeder']),\n",
       " Node(id=3, name='Move', description='1970 American comedy film', alias=['Move (1970 film)'], additional_information=['Starring Elliott Gould, Paula Prentiss, and Geneviève Waïte', 'Directed by Stuart Rosenberg']),\n",
       " Node(id=4, name='Ian Barry', description='Australian director of film and TV Australian director of film and TV Australian director of film and TV Australian director of film and TV Australian director of film and TV. Australian director of film and TV Australian director of film and TV Australian director of film and TV Australian director of film and TV Australian director of film and TV Australian director of film and TV Australian director of film and TV Australian director of film and TV Australian director of film and TV Australian director of film and TV Australian director of film and TV Australian director of film and TV Australian director of film and TV Australian director of film and TV Australian director of film and TV Australian director of film and TV Australian director of film and TV. Australian director of film and TV Australian director of film and TV Australian director known for film and TV. Australian director of film and television. Australian director of film and TV Australian director of film and TV Australian director of film and TV Australian director of film and TV Australian director of film and TV Australian director of film and TV Australian director of film and TV', alias=['Ian Barry'], additional_information=[]),\n",
       " Node(id=5, name='Peter Levin', description='American director of film, television and theatre American director of film, television and theatre American director of film, television, and theatre American director of film, television and theatre American director of film, television and theatre. American director of film, television and theatre American director of film, television and theatre American director of film, television and theatre American director of film, television and theatre American director of film, television and theatre American director of film, television and theatre American director of film, television and theatre American director of film, television and theatre American director of film, television and theatre American director of film, television and theatre American director of film, television and theatre American director of film, television and theatre American director of film, television and theatre American director of film, television and theatre American director of film, television and theatre American director of film, television and theatre American director of film, television, and theatre American director of film, television and theatre American director known for films, television, and theatre. American director of film, television and theatre. American director of film, television and theatre American director of film, television and theatre American director of film, television and theatre American director of film, television and theatre American director of film, television and theatre American director of film, television, and theatre American director of film, television and theatre', alias=['Peter Levin'], additional_information=[]),\n",
       " Node(id=6, name='Brian Johnson', description='British designer and director of film and television special effects British designer and director of film and television special effects British designer and director of film and television special effects British designer and director of film and television special effects British designer and director of film and television special effects British designer and director specializing in film and television special effects.', alias=['Brian Johnson (special effects artist)', 'Brian Johnson', 'Brian Johnson (born 1939 or 1940)'], additional_information=['Born 1939 or 1940']),\n",
       " Node(id=7, name='Rachel Feldman', description='American director of film and television and screenwriter', alias=[], additional_information=['Born August 22, 1954']),\n",
       " Node(id=8, name='Hanro Smitsman', description='Writer and director of film and television Writer and director of film and television Writer and director of film and television Writer and director of film and television Writer and director of film and television Writer and director of film and television.', alias=['Hanro Smitsman', 'Hanro Smitsman (born 1967 in Breda, Netherlands)'], additional_information=['Born in 1967 in Breda, Netherlands']),\n",
       " Node(id=9, name='Jean-Daniel Pollet', description='French film director and screenwriter', alias=[], additional_information=['Active in the 1960s and 1970s', 'Known for blending burlesque and melancholic elements in his work']),\n",
       " Node(id=10, name='Howard W. Koch', description='American producer and director of film and television American producer and director of film and television.', alias=['Howard Winchel Koch', 'Howard W. Koch'], additional_information=['April 11, 1916 – February 16, 2001']),\n",
       " Node(id=11, name='Irving Reis', description='American film director', alias=[], additional_information=[\"Directed 'The Falcon Takes Over' (1942)\"]),\n",
       " Node(id=12, name='Edward Dmytryk', description='American film director', alias=[], additional_information=[\"Directed 'The Falcon Strikes Back' (1943)\"]),\n",
       " Node(id=13, name='George Sanders', description='English actor known for his role as the Falcon', alias=[], additional_information=['Portrayed Gay Lawrence in earlier Falcon films']),\n",
       " Node(id=14, name='Tom Conway', description='British actor known for playing the Falcon', alias=[], additional_information=[\"Played the title character in 'The Falcon Strikes Back'\"]),\n",
       " Node(id=15, name='Vatroslav Mimica', description='Croatian film director and screenwriter', alias=[], additional_information=['Born June 25, 1923', \"Directed 'In the Storm' (1952)\"]),\n",
       " Node(id=16, name='Sergio Mimica- Gezzan', description='American film and television director', alias=[], additional_information=['Son of Vatroslav Mimica']),\n",
       " Node(id=17, name='William Clemens', description='American film director', alias=[], additional_information=[\"Directed 'The Falcon and the Co-eds' (1943)\"]),\n",
       " Node(id=18, name='Maurice Geraghty', description='American film producer', alias=[], additional_information=[]),\n",
       " Node(id=19, name='Ardel Wray', description='American screenwriter', alias=[], additional_information=['Frequent collaborator with Val Lewton']),\n",
       " Node(id=20, name='Jean Brooks', description='American actress', alias=[], additional_information=[\"Starred in 'The Falcon and the Co-eds'\"]),\n",
       " Node(id=21, name='Martin Frič', description='Czech film director, screenwriter and actor Czech film director and screenwriter', alias=['Martin Frič (29 March 1902 – 26 August 1968)', 'Martin Frič'], additional_information=['Directed over 100 films between 1929 and 1968', 'Struggled with alcoholism throughout his life', 'Died five days after attempting suicide']),\n",
       " Node(id=22, name='The Falcons Adventure', description='1946 film in The Falcon series', alias=[], additional_information=['13th film in 16 films about The Falcon', \"Final film of RKO's Falcon series starring Tom Conway\", 'Directed by William Berke']),\n",
       " Node(id=23, name='The Falcons Alibi', description='1946 American mystery film', alias=[], additional_information=['Directed by Ray McCarey', 'Ninth film featuring Tom Conway as The Falcon']),\n",
       " Node(id=24, name='Valentin the Good', description='1942 Czech comedy film', alias=[], additional_information=['Directed by Martin Frič']),\n",
       " Node(id=25, name='The Falcon (film)', description='1981 Yugoslavian-German adventure film', alias=['Banović Strahinja'], additional_information=['Written and directed by Vatroslav Mimica', 'Based on Serbian epic poetry', 'Entered the Officina Veneziana section at the 38th Venice International Film Festival']),\n",
       " Node(id=26, name='The Falcon Out West', description='1944 American mystery film', alias=['The Falcon in Texas'], additional_information=['Directed by William Clemens', \"Part of RKO's The Falcon series of detective films\"]),\n",
       " Node(id=27, name='Danger: Diabolik', description='1968 action film directed by Mario Bava', alias=[], additional_information=[\"Based on the Italian comic series 'Diabolik' by Angela and Luciana Giussani\", 'Stars John Phillip Law as Diabolik', 'Co-written by Mario Bava and others']),\n",
       " Node(id=28, name='Mario Bava', description='Italian director and cinematographer Italian director and cinematographer', alias=['Mario Bava'], additional_information=[\"Directed 'Danger: Diabolik'\", 'Known for his work in horror and fantasy genres']),\n",
       " Node(id=29, name='Angela and Luciana Giussani', description=\"Creators of the Italian comic series 'Diabolik'\", alias=[], additional_information=[]),\n",
       " Node(id=30, name='John Phillip Law', description='American actor', alias=[], additional_information=[\"Portrayed Diabolik in 'Danger: Diabolik'\"]),\n",
       " Node(id=31, name='Marisa Mell', description='Austrian actress', alias=[], additional_information=[\"Played Eva Kant in 'Danger: Diabolik'\"]),\n",
       " Node(id=32, name='Michel Piccoli', description='French actor and director', alias=[], additional_information=[\"Portrayed Inspector Ginko in 'Danger: Diabolik'\"]),\n",
       " Node(id=33, name='Adolfo Celi', description='Italian actor', alias=[], additional_information=[\"Played Ralph Valmont in 'Danger: Diabolik'\"]),\n",
       " Node(id=34, name='Dino De Laurentiis', description='Italian film producer', alias=[], additional_information=[\"Took over production of 'Danger: Diabolik' during filming\"]),\n",
       " Node(id=35, name='Ennio Morricone', description='Italian composer', alias=[], additional_information=[\"Composed the score for 'Danger: Diabolik'\"]),\n",
       " Node(id=36, name='Empire', description='Film magazine', alias=[], additional_information=[\"Chose 'Danger: Diabolik' as one of 'The 500 Greatest Movies of All Time' in 2008\"]),\n",
       " Node(id=37, name='Pamela Jain', description='Indian playback singer Indian playback singer. Indian playback singer Indian playback singer Indian playback singer', alias=['Pamela Jain'], additional_information=['Date of Birth: 16th March']),\n",
       " Node(id=38, name='Terence Robinson', description='Male wrestler who competed for England Male wrestler who competed for England. Male wrestler who competed for England Male wrestler who competed for England Male wrestler who competed for England Male wrestler who competed for England Male wrestler who competed for England Male wrestler who competed for England Male wrestler who competed for England', alias=['Terence D. Robinson', 'Terence Robinson'], additional_information=['Date of birth and death unknown']),\n",
       " Node(id=39, name='Mina Gerhardsen', description='Norwegian politician for the Labour Party', alias=[], additional_information=['Born 14 September 1975', 'Daughter of Rune Gerhardsen and Tove Strand', 'Granddaughter of Einar Gerhardsen', 'Married to Eirik Øwre Thorshaug', 'Led Oslo branch of Natur og Ungdom from 1993 to 1995, Deputy leader of Workers Youth League in Oslo in 1997']),\n",
       " Node(id=40, name='Moffat Sinkala', description='Zambian footballer', alias=[], additional_information=['Date of birth unknown, died June 2004', \"Competed in men's tournament at the 1980 Summer Olympics\"]),\n",
       " Node(id=41, name='Theodred II', description='Medieval Bishop of Elmham Medieval Bishop of Elmham Medieval Bishop of Elmham. Medieval Bishop of Elmham Medieval Bishop of Elmham Medieval Bishop of Elmham Medieval Bishop of Elmham Medieval Bishop of Elmham Medieval Bishop of Elmham. Medieval Bishop of Elmham Medieval Bishop of Elmham Medieval Bishop of Elmham Medieval Bishop of Elmham Medieval Bishop of Elmham. Medieval Bishop of Elmham Medieval Bishop of Elmham Medieval Bishop of Elmham Medieval Bishop of Elmham Medieval Bishop of Elmham', alias=['Theodred II', 'Theodred II (Bishop of Elmham)'], additional_information=['Date of consecration unknown', 'Died sometime between 995 and 997']),\n",
       " Node(id=42, name='Mark Kenneth Woods', description='Canadian comedy writer, actor, producer, director, and TV host', alias=[], additional_information=['Date of birth unknown']),\n",
       " Node(id=43, name='Etan Boritzer', description=\"American writer of children’s literature American writer of children's literature. American writer of children’s literature American writer of children’s literature American writer of children’s literature American writer of children’s literature American writer of children's literature American writer of children’s literature. American writer of children’s literature American writer of children's literature American writer of children’s literature American writer of children’s literature American writer of children’s literature. American writer of children's literature American writer of children’s literature American writer of children's literature American writer of children’s literature American writer of children’s literature\", alias=['Etan Boritzer', 'Etan Boritzer (born 1950)'], additional_information=['Born 1950', \"Best known for the book 'What is God?' first published in 1989\", \"Author of the 'What is?' series\", 'Series translated into 15 languages', \"Yoga teacher and speaker on 'The Teachings of the Buddha'\"]),\n",
       " Node(id=44, name='Rune Gerhardsen', description='Norwegian politician representing the Labour Party', alias=[], additional_information=['Born 13 June 1946', 'Son of Werna and Einar Gerhardsen', 'Attended Oslo Cathedral School', 'Chaired Workers Youth League from 1973 to 1975, City Government of Oslo from 1992 to 1997', 'Chaired Norwegian Skating Association from 1986 to 1990, 2001 to 2003, and 2013 to 2017']),\n",
       " Node(id=45, name='Les Richards', description='Australian rules footballer Australian rules footballer who played with North Melbourne in the VFL. Australian rules footballer who played with North Melbourne in the VFL Australian rules footballer who played with North Melbourne in the VFL Australian rules footballer Australian rules footballer who played with North Melbourne in the VFL. Australian rules footballer who played with North Melbourne Australian rules footballer Australian rules footballer who played with North Melbourne in VFL', alias=['Les Richards'], additional_information=['Date of birth unknown']),\n",
       " Node(id=46, name='Brian Saunders', description='Male weightlifter who competed for England Male weightlifter who competed for England. Male weightlifter who competed for England Male weightlifter who competed for England Male weightlifter who competed for England Male weightlifter who competed for England. Male weightlifter who competed for England Male weightlifter who competed for England Male weightlifter who competed for England', alias=['Brian Saunders', 'Brian Saunders (weightlifter)'], additional_information=['Date of birth and death unknown']),\n",
       " Node(id=47, name='Weekend in Paradise', description='1931 German musical comedy film', alias=['Weekend in Paradise (1931 film)', 'Wochenend im Paradies'], additional_information=['Directed by Robert Land', 'Starring Trude Berliner, Claire Rommer and Julius Falkenstein', 'Remade in 1952']),\n",
       " Node(id=48, name='Michael Govan', description='Director of the Los Angeles County Museum of Art Director of the Los Angeles County Museum of Art Director of Los Angeles County Museum of Art Director of the Los Angeles County Museum of Art', alias=['Michael Govan', 'Michael Govan (born 1963)'], additional_information=['Born 1963', 'Director since 2006', 'Formerly director of Dia Art Foundation in New York City']),\n",
       " Node(id=49, name='Hochzeitsnacht im Regen', description='East German film', alias=[], additional_information=['Released in 1967']),\n",
       " Node(id=50, name='Wedding Night in Paradise', description='1950 West German musical comedy film', alias=['Wedding Night in Paradise (1950 film)'], additional_information=['Directed by Géza von Bolváry', 'Starring Johannes Heesters, Claude Farell and Gretl Schörg', 'Operetta film based on 1942 stage work']),\n",
       " Node(id=51, name='Dana Blankstein', description='Director of the Israeli Academy of Film and Television Director of the Israeli Academy of Film and Television Director of the Israeli Academy of Film and Television Director of the Israeli Academy of Film and Television Director of the Israeli Academy of Film and Television Director of the Israeli Academy of Film and Television Director of the Israeli Academy of Film and Television and culture entrepreneur. Director of the Israeli Academy of Film and Television Director of the Israeli Academy of Film and Television Director of the Israeli Academy of Film and Television Director of the Israeli Academy of Film and Television', alias=['Dana Blankstein-Cohen', 'Dana Blankstein', 'Dana Blankstein-Cohen (born March 3, 1981)', 'Dana Blankstein (born March 3, 1981)'], additional_information=['Born March 3, 1981', 'Film director and Israeli culture entrepreneur']),\n",
       " Node(id=52, name='Géza von Bolváry', description='Hungarian actor, screenwriter, and film director', alias=[], additional_information=['Full name: Géza Maria von Bolváry-Zahn', 'Born December 26, 1897 – August 10, 1961', 'Worked principally in Germany and Austria']),\n",
       " Node(id=54, name='John Farrell', description='Director of YouTube in Latin America Director of YouTube in Latin America', alias=['John Farrell'], additional_information=[]),\n",
       " Node(id=55, name='Wedding Night in Paradise (1962)', description='1962 Austrian musical comedy film', alias=['Wedding Night in Paradise (1962 film)', 'Hochzeitsnacht im Paradies'], additional_information=['Directed by Paul Martin', 'Starring Peter Alexander, Marika Rökk and Waltraut Haas', 'Operetta film based on 1942 stage work', 'Features Kessler Sisters performance', 'Film made with backing from Gloria Film']),\n",
       " Node(id=56, name='Bert Grund', description='German composer of film scores German composer of film scores German composer of film scores', alias=['Bert Grund (1920–1992)', 'Bert Grund'], additional_information=[]),\n",
       " Node(id=57, name='Thomas Morse', description='American composer of film and concert music American composer of film and concert music American composer of film and concert music', alias=['Thomas Morse (born June 30, 1968)', 'Thomas Morse'], additional_information=[]),\n",
       " Node(id=58, name='Abe Meyer', description='American composer of film scores American composer of film scores', alias=['Abe Meyer (1901 – 1969)', 'Abe Meyer'], additional_information=[]),\n",
       " Node(id=59, name='Henri Verdun', description='French composer of film scores French composer of film scores French composer of film scores', alias=['Henri Verdun (1895–1977)', 'Henri Verdun'], additional_information=[]),\n",
       " Node(id=60, name='Alonso Mudarra', description='Spanish composer of the Renaissance and vihuela player Spanish composer of the Renaissance Spanish composer of the Renaissance Spanish composer of the Renaissance', alias=['Alonso Mudarra (c. 1510 – April 1, 1580)', 'Alonso Mudarra'], additional_information=['Innovative composer of instrumental music and songs', 'Composer of the earliest surviving music for the guitar']),\n",
       " Node(id=61, name='K. V. Mahadevan', description='Indian composer and musician known for Tamil cinema', alias=['Krishnankoil Venkadachalam Mahadevan (14 March 1918 – 21 June 2001)'], additional_information=['Composed for over 600 feature films', \"Known for works such as 'Manchi Manasulu' (1962) and 'Sankarabharanam' (1979)\", 'Awarded National Film Awards and Filmfare Best Music Director Award']),\n",
       " Node(id=62, name='Sruthilayalu', description='1987 Indian Telugu-language musical drama film', alias=[], additional_information=['Written and directed by K. Viswanath', 'Stars Rajasekhar and Sumalata', 'Soundtrack composed by K. V. Mahadevan', 'Premiered at the International Film Festival of India']),\n",
       " Node(id=63, name='Tarcisio Fusco', description='Italian composer of film scores Italian composer of film scores Italian composer of film scores', alias=['Tarcisio Fusco'], additional_information=['Brother of composer Giovanni Fusco', 'Uncle of operatic soprano Cecilia Fusco']),\n",
       " Node(id=64, name='Walter Ulfig', description='German composer of film scores German composer of film scores German composer of film scores', alias=['Walter Ulfig'], additional_information=[]),\n",
       " Node(id=65, name='John Mackay', description='Scottish Gaelic poet and composer', alias=['John Mackay (1656–1754)', 'The Blind Piper'], additional_information=['Grandfather of William Ross']),\n",
       " Node(id=66, name='Kaya Alp', description='Son of Kızıl Buğa and father of Suleyman Shah', alias=[], additional_information=['Grandfather of Ertuğrul', 'Great grandfather of Osman I']),\n",
       " Node(id=67, name='Zhao Shoushan', description='KMT general and later Chinese Communist Party politician', alias=['Zhao Shoushan (12 November 1894 – 20 June 1965)'], additional_information=['Grandfather of Zhao Leji']),\n",
       " Node(id=68, name='Abd al-Muttalib', description='Grandfather of Islamic prophet Muhammad', alias=['Abd al-Muttalib Shaybah ibn Hashim (c. 497 – 578)'], additional_information=[]),\n",
       " Node(id=69, name='John Westley', description='English nonconformist minister', alias=['Rev. John Westley (1636 – 78)'], additional_information=['Grandfather of John Wesley, founder of Methodism']),\n",
       " Node(id=70, name='Henry Krause', description='American football offensive lineman', alias=[\"Henry J. 'Red' Krause, Jr. (August 28, 1913 – February 20, 1987)\"], additional_information=['Played for the Brooklyn Dodgers and the Washington Redskins', 'Grandfather of Jennifer Krause', 'Great grandfather of Payton Hoeing']),\n",
       " Node(id=71, name='Lyon Cohen', description='Polish-born Canadian businessman and philanthropist', alias=['Lyon Cohen (1868–1937)'], additional_information=['Grandfather of Leonard Cohen']),\n",
       " Node(id=72, name='Rhescuporis I', description='King of the Odrysian kingdom of Thrace', alias=['Rhescuporis I (Ancient Greek: Ραισκούπορις)'], additional_information=['Reigned 240 BC - 215 BC', 'Succeeded his father, Cotys III']),\n",
       " Node(id=73, name='Fred Le Deux', description='Australian rules footballer', alias=[\"Frederick 'Fred' Le Deux (born 4 December 1934)\"], additional_information=['Played with Geelong in the VFL', 'Grandfather of Tom Hawkins']),\n",
       " Node(id=74, name='Cotys III', description='King of the Odrysian kingdom of Thrace', alias=['Cotys III (Ancient Greek: Κότυς)'], additional_information=['Reigned circa 270 BC', 'Succeeded his father, Raizdos']),\n",
       " Node(id=75, name='Richard A. Gleeson', description='13th President of Santa Clara University', alias=['Richard A. Gleeson, S.J.'], additional_information=['Served as president after Robert E. Kenna']),\n",
       " Node(id=76, name='Michael Engh', description='28th President of Santa Clara University', alias=['Michael Eric Engh'], additional_information=['Born December 14, 1949', 'Served from January 5, 2009 to June 30, 2019']),\n",
       " Node(id=77, name='Stephen Roberts', description='American film director American film director', alias=['Stephen Roberts (23 November 1895 – 17 July 1936)', 'Stephen Roberts'], additional_information=['Directed 105 films between 1923 and 1936', 'Born in Summersville, West Virginia', 'Died in Los Angeles, California']),\n",
       " Node(id=78, name='The Star of Santa Clara', description='1958 West German musical comedy film', alias=[], additional_information=['Directed by Werner Jacobs', 'Starring Vico Torriani, Gerlinde Locker, and Ruth Stephan', 'Filmed at Spandau Studios, Berlin', 'Art direction by Paul Markwitz']),\n",
       " Node(id=79, name='Kathy Watanabe', description='Council Member for District 1 of Santa Clara, California Council Member for District 1 of Santa Clara, California', alias=['Kathy Watanabe'], additional_information=['Appointed on March 7, 2016', 'Won election in November 2016 with 48% of the vote', 'Serves on various city committees']),\n",
       " Node(id=80, name='Jacqueline M. Arroyo', description='Judge of the Superior Court of Santa Clara County, California', alias=['Jacqueline Marie Arroyo'], additional_information=['Replaced retired judge Charles Cory in May 2008', 'Appointed by governor Arnold Schwarzenegger', 'Married to Molly ONeal, Public Defender of Santa Clara County']),\n",
       " Node(id=81, name='The Ex-Mrs. Bradford', description='1936 American comedy-mystery film', alias=[], additional_information=['Stars William Powell and Jean Arthur', 'Last film directed by Stephen Roberts']),\n",
       " Node(id=82, name='The Star of India', description='A term that may refer to various related subjects', alias=[], additional_information=[]),\n",
       " Node(id=83, name='Werner Jacobs', description='German film director', alias=[], additional_information=['Born in Berlin on April 24, 1909', 'Died in 1999', \"Known for contributions to 'Modebummel' (1951), 'Der Stern von Santa Clara' (1958), and 'André und Ursula' (1955)\"]),\n",
       " Node(id=84, name='R. K. Kalaimani', description='Indian film director', alias=[], additional_information=[\"Directed 'Engal Aasan' (2009)\"]),\n",
       " Node(id=85, name='Vijayakanth', description='Indian actor and politician', alias=[], additional_information=[\"Starring role in 'Engal Aasan'\"]),\n",
       " Node(id=86, name='Engal Aasan', description='2009 Tamil action comedy-drama film', alias=[], additional_information=['Directed by R. K. Kalaimani', 'Released in July 2009', \"Dubbed in Telugu as 'Captain'\"]),\n",
       " Node(id=87, name='Vikranth', description='Indian actor', alias=[], additional_information=[\"Supporting role in 'Engal Aasan'\"]),\n",
       " Node(id=88, name='Sheryl Brindo', description='Indian actress', alias=[], additional_information=[\"Supporting role in 'Engal Aasan'\"]),\n",
       " Node(id=89, name='Akshaya', description='Indian actress', alias=[], additional_information=[\"Supporting role in 'Engal Aasan'\"]),\n",
       " Node(id=90, name='Suja Varunee', description='Indian actress', alias=[], additional_information=[\"Supporting role in 'Engal Aasan'\"]),\n",
       " Node(id=91, name='Kill the Love', description='1996 South Korean crime drama film', alias=[], additional_information=[]),\n",
       " Node(id=92, name=\"Where's the Love\", description='1997 song by Hanson', alias=[], additional_information=[]),\n",
       " Node(id=93, name='The Love Specialist', description='Italian-French movie filmed in 1958', alias=[], additional_information=['Released in the U.S. in 1959']),\n",
       " Node(id=94, name='Olav Aaraas', description='Norwegian historian and museum director Norwegian historian and museum director Norwegian historian and museum director Norwegian historian and museum director Norwegian historian and museum director Norwegian historian and museum director Norwegian historian and museum director Norwegian historian and museum director Norwegian historian and museum director. Norwegian historian and museum director Norwegian historian and museum director Norwegian historian and museum director Norwegian historian and museum director', alias=['Olav Aaraas (born 10 July 1950)', 'Olav Aaraas'], additional_information=['Born in Fredrikstad', 'Director of Sogn Folk Museum (1982-1993)', 'Director of Maihaugen (1993-2010)', 'Director of the Norwegian Museum of Cultural History (2001-present)', 'Decorated with the Royal Norwegian Order of St. Olav in 2010']),\n",
       " Node(id=95, name='Brian Kennedy', description='Irish-born art museum director Irish-born art museum director Irish-born art museum director Irish-born art museum director Irish-born art museum director Irish-born art museum director Irish-born art museum director Irish-born art museum director Irish-born art museum director, currently the director of the Peabody Essex Museum. Irish-born art museum director Irish-born art museum director Irish-born art museum director', alias=['Brian Patrick Kennedy (born 5 November 1961)', 'Brian Kennedy', 'Brian Patrick Kennedy'], additional_information=['Currently the director of the Peabody Essex Museum', 'Former director of the Toledo Museum of Art (2010-2019)', 'Former director of the Hood Museum of Art (2005-2010)', 'Former director of the National Gallery of Australia (1997-2004)']),\n",
       " Node(id=96, name='The Fascist', description='1961 Italian film directed by Luciano Salce', alias=[], additional_information=['Co-produced with France', 'First feature film scored by Ennio Morricone']),\n",
       " Node(id=97, name='Jesse E. Hobson', description='Director of SRI International Director of SRI International and Armour Research Foundation Director of SRI International and Armour Research Foundation Director of SRI International Director of SRI International Director of SRI International (1947-1955) Director of SRI International Director of SRI International Director of SRI International Director of SRI International from 1947 to 1955', alias=['Jesse Edward Hobson (May 2, 1911 – November 5, 1970)', 'Jesse E. Hobson', 'Jesse Edward Hobson'], additional_information=['Director of SRI International (1947-1955)', 'Prior director of the Armour Research Foundation']),\n",
       " Node(id=98, name='Dave Emory', description='American talk radio host and anti-fascist', alias=['David Emory (born 1949)'], additional_information=['Born in New York City', 'Based in the San Francisco Bay Area', 'Known for radio show uncovering neo-fascism and neo-Nazism']),\n",
       " Node(id=99, name='Luciano Salce', description='Italian film director, actor, and lyricist', alias=[], additional_information=['Born September 25, 1922, in Rome', 'Died December 17, 1989, in Rome', \"Directed 'Le pillole di Ercole'\", 'Worked in Brazil after WWII', 'Used the pseudonym Pilantra in pop music']),\n",
       " Node(id=100, name='S. N. Mathur', description='Director of the Indian Intelligence Bureau Director of the Indian Intelligence Bureau and Director General of Police in Punjab Director of the Indian Intelligence Bureau and Director General of Police in Punjab Director of the Indian Intelligence Bureau Director of the Indian Intelligence Bureau Director of the Indian Intelligence Bureau (1975-1980) and Director General of Police in Punjab Director of the Indian Intelligence Bureau Director of the Indian Intelligence Bureau Director of the Indian Intelligence Bureau', alias=['S. N. Mathur', 'S.N. Mathur'], additional_information=['Director of the Indian Intelligence Bureau (September 1975 - February 1980)', 'Director General of Police in Punjab']),\n",
       " Node(id=101, name='Calloway County High School', description='Public high school located in Murray, Kentucky', alias=[], additional_information=['Formed from consolidation of six high schools: Hazard High School, Lynn Grove High School, Kirksey High School, Almo High School, New Concord High School, and Faxon High School.']),\n",
       " Node(id=102, name='Wyoming East High School', description='Consolidated regional high school in New Richmond, West Virginia', alias=[], additional_information=['Opened in 1998', 'Consolidated former Pineville High School and Mullens High School, also taking in Herndon High School']),\n",
       " Node(id=103, name='Rolling Meadows High School', description='Public four-year high school located in Rolling Meadows, Illinois', alias=['RMHS'], additional_information=['Part of Township High School District 214', 'Opened for the 1971-1972 school year', 'Feeder schools include South Middle School, Holmes Junior High School, Carl Sandburg Junior High School, and Our Lady of the Wayside']),\n",
       " Node(id=104, name='Schaumburg High School', description='Public four-year high school in Schaumburg, Illinois', alias=['SHS'], additional_information=['Part of Township High School District 211']),\n",
       " Node(id=105, name='Ottawa High School and Junior High School', description='Historic former high school and junior high school in Ottawa, Kansas', alias=[], additional_information=['Built in 1917', 'Junior high school built from 1927 to 1928', 'Added to the National Register of Historic Places on October 6, 2000']),\n",
       " Node(id=106, name='Endeavour Sports High School', description='Government-funded co-educational comprehensive and specialist secondary day school in Caringbah, New South Wales, Australia', alias=['ESHS'], additional_information=['Established in 1964 as Endeavour High School', 'Specializes in sports', 'Operated by the New South Wales Department of Education']),\n",
       " Node(id=107, name='Illawarra Sports High School', description='Government-funded co-educational specialist secondary day school in New South Wales, Australia', alias=['Illawarra Sports High School'], additional_information=['Established in 1956 as Berkeley High School', 'Became a sports-oriented school in 1998', 'Catered for approximately 740 students in 2018', 'Operated by the New South Wales Department of Education', 'Principal: Gary Hampton']),\n",
       " Node(id=108, name='Wabash High School', description='High school in Wabash, Indiana, United States', alias=['Wabash High School'], additional_information=['Approximately 500 students in grades 9-12', 'Nickname: Wabash Apaches']),\n",
       " Node(id=109, name='Narrabeen Sports High School', description='Government-funded co-educational specialist secondary day school in New South Wales, Australia', alias=['Narrabeen Sports High School', 'NSHS'], additional_information=['Established in 1954 as Narrabeen Girls High School', 'Merged with Narrabeen Boys High School in 1976', 'Became the first specialist sports high school in New South Wales in 2000', 'Catered for approximately 850 students from Year 7 to Year 12', 'Operated by the New South Wales Department of Education, Principal: Dane Ropa']),\n",
       " Node(id=110, name='Matraville Sports High School', description='Government co-educational specialist secondary school in New South Wales, Australia', alias=['Matraville Sports High School', 'MSHS'], additional_information=['Established in 1960 as Matraville High School', 'Became a specialist high school in December 2001', 'Catered for approximately 300 students from Year 7 to Year 12', 'Operated by the New South Wales Department of Education, Principal: Nerida Walker', 'Alumni include Bob Carr and professional sportsmen']),\n",
       " Node(id=111, name='Diane P. Bryant', description='Editor-in-chief of Learning Disability Quarterly', alias=[], additional_information=['University of Texas at Austin']),\n",
       " Node(id=112, name='Brian Bryant', description='Editor-in-chief of Learning Disability Quarterly', alias=[], additional_information=['University of Texas at Austin']),\n",
       " Node(id=113, name='Learning Disability Quarterly', description='Quarterly peer-reviewed academic journal', alias=[], additional_information=['Established in 1978', 'Published by SAGE Publications on behalf of the Hammill Institute on Disabilities']),\n",
       " Node(id=114, name='Boye Brogeland', description='International bridge player involved in Fisher and Schwartz cheating scandal', alias=[], additional_information=[]),\n",
       " Node(id=115, name='Richard Schwartz', description='Bridge player involved in Fisher and Schwartz cheating scandal', alias=[], additional_information=[]),\n",
       " Node(id=116, name='Allan Graves', description=\"Bridge player, member of Brogeland's team\", alias=[], additional_information=[]),\n",
       " Node(id=117, name='Espen Lindqvist', description=\"Bridge player, member of Brogeland's team\", alias=[], additional_information=[]),\n",
       " Node(id=118, name='Huub Bertens', description=\"Bridge player, member of Brogeland's team\", alias=[], additional_information=[]),\n",
       " Node(id=119, name='Daniel Korbel', description=\"Bridge player, member of Brogeland's team\", alias=[], additional_information=[]),\n",
       " Node(id=120, name='Jimmy Cayne', description='Bridge player, captained team that played against Brogeland', alias=[], additional_information=[]),\n",
       " Node(id=121, name='Alison Skipper', description='American actress, model, television personality, dancer, and former professional wrestling valet', alias=[], additional_information=['Best known for work with Total Nonstop Action Wrestling (TNA) as a valet', \"Hosted 'The College Experiment' on Fox Sports\", 'Opened a talent agency, Professionally Pretty Model & Talent Agency in 2012', 'Born in Orlando, Florida', 'Attended the University of Central Florida']),\n",
       " Node(id=122, name='Gesta', description='Peer-reviewed academic journal in the area of medieval art', alias=[], additional_information=['Established in 1963', 'Published by the University of Chicago Press', 'Editors-in-chief: Diane J. Reilly and Susan L. Boynton']),\n",
       " Node(id=123, name='Kettle Bottom', description='Collection of historical poems published in 2004', alias=[], additional_information=['Written by Diane Gilliam Fisher', 'Focus on West Virginia labor battles of 1920 and 1921', 'Named Top Ten Poetry Book for 2005 by American Booksellers Association Book Sense']),\n",
       " Node(id=124, name='Rafe Kovich', description=\"Character from American soap opera 'Port Charles'\", alias=['Rafe Kovich (portrayed by Brian Gaskill)'], additional_information=['Part of popular romantic pairing with Alison Barrington', 'Written as star-crossed true loves']),\n",
       " Node(id=125, name='Alison Barrington Kovich', description=\"Character from American soap opera 'Port Charles'\", alias=['Alison Barrington (portrayed by Erin Hershey Presley)'], additional_information=['Part of popular romantic pairing with Rafe Kovich', 'Emergence as a romantic pairing not originally scripted']),\n",
       " Node(id=126, name='Morven Christie', description='Scottish actress', alias=[], additional_information=['Born 1 September 1981', \"Played Amanda Hopkins in ITV drama 'Grantchester'\", \"Played Alison Hughes in BBC drama 'The A Word'\"]),\n",
       " Node(id=127, name='Diane Gilliam Fisher', description='American poet', alias=[], additional_information=['Born 1957', \"Author of poetry collections including 'Kettle Bottom'\", 'Born and raised in Columbus, Ohio', 'Earned degrees from Ohio State University and an M.F.A. from Warren Wilson College', 'Lives in Brimfield, Ohio']),\n",
       " Node(id=128, name='John Reeger', description='Chicago actor and playwright', alias=[], additional_information=['Married to Paula Scrofano', 'Has two children, Adam and Alison Reeger']),\n",
       " Node(id=129, name='The Muppets Go to the Movies', description='1981 one-hour television special 1981 one-hour television special', alias=['The Muffets Go To The Movies', 'The Muppets Go to the Movies', 'The Muffets Go to the Movies'], additional_information=['Aired on ABC', \"Promoted 'The Great Muppet Caper'\"]),\n",
       " Node(id=130, name='Silence and Cry', description='1968 Hungarian drama film', alias=[], additional_information=['Directed by Miklós Jancsó']),\n",
       " Node(id=131, name='At the Movies', description='Refers to a film review show Television series and film franchise', alias=['At the Movies'], additional_information=[]),\n",
       " Node(id=132, name='The Beckoning Lady', description='Crime novel by Margery Allingham', alias=[], additional_information=['First published in 1955', 'Part of the Albert Campion series']),\n",
       " Node(id=133, name='The Beckoning Silence', description='2007 British television film', alias=[], additional_information=['Follows unsuccessful attempt to scale the north face of the Eiger in 1936', 'Features climber Joe Simpson', 'Won an International Emmy Award in 2008']),\n",
       " Node(id=134, name='Bloody Birthday', description='1981 American slasher film', alias=[], additional_information=['Directed by Ed Hunt', 'Produced by Gerald T. Olson', 'Starring Susan Strasberg, José Ferrer, and Lori Lethin', 'Plot follows a group of children born on the same day committing murders on their tenth birthdays']),\n",
       " Node(id=135, name='The Beckoning (band)', description='Extreme progressive metal band from Canada', alias=[], additional_information=[]),\n",
       " Node(id=136, name='The Beckoning Trail', description='1916 American silent western film', alias=[], additional_information=['Directed by Jack Conway', 'Starring J. Warren Kerrigan, Lois Wilson, and Maude George']),\n",
       " Node(id=137, name='The Beckoning Flame', description='1915 American silent drama film', alias=[], additional_information=['Directed by Charles Swickard', 'Featuring Henry Woodruff, Tsuru Aoki, and Rhea Mitchell']),\n",
       " Node(id=138, name='Astrid North', description='German soul singer and songwriter German soul singer and songwriter', alias=['Astrid North (Astrid Karina North Radmann; 24 August 1973 – 25 June 2019)', 'Astrid North', 'Astrid Karina North Radmann'], additional_information=['Singer of a German band', 'Released five albums with the band', 'Published three albums as a guest singer']),\n",
       " Node(id=139, name='Dáithí Sproule', description='Guitarist and singer of traditional Irish music Guitarist and singer of traditional Irish music Guitarist and singer of traditional Irish music', alias=['Dáithí Sproule (born 23 May 1950)', 'Dáithí Sproule'], additional_information=['Niece is singer Claire Sproule']),\n",
       " Node(id=140, name='Neil Young', description='Canadian singer-songwriter Canadian singer-songwriter', alias=['Neil Young', 'Neil Percival Young'], additional_information=[\"Wrote the song 'Soldier'\", \"From the 1972 album 'Journey Through the Past'\", \"Included in the 1977 compilation 'Decade'\"]),\n",
       " Node(id=141, name='The Decemberists', description='Indie rock band Indie rock band Indie rock band Indie rock band', alias=['The Decemberists'], additional_information=[\"Released the single 'O Valencia!' from the album 'The Crane Wife'\", 'Written by Colin Meloy']),\n",
       " Node(id=142, name='Caspar Babypants', description=\"Stage name of children's music artist Chris Ballew Stage name of children's music artist Chris Ballew Stage name of children's music artist Chris Ballew Stage name of children's music artist Chris Ballew\", alias=['Caspar Babypants'], additional_information=['Also the singer of The Presidents of the United States of America']),\n",
       " Node(id=143, name='Astro', description='Chilean band Chilean band', alias=['Astro'], additional_information=[\"Released the song 'Panda' from the homonymous album in 2011\", 'Song composed and produced by Andrés Nusser']),\n",
       " Node(id=144, name='Billy Milano', description='Heavy metal musician Bronx-born heavy metal musician Bronx-born heavy metal musician based in Austin, Texas. Heavy metal musician Bronx-born heavy metal musician', alias=['Billy Milano'], additional_information=['Singer and guitarist of crossover thrash band M.O.D.', 'Former singer of Stormtroopers of Death', 'Singer of United Forces']),\n",
       " Node(id=145, name='Kristian Leontiou', description='British singer of Greek Cypriot descent British singer of Greek Cypriot descent British singer of Greek Cypriot descent', alias=['Kristian Leontiou'], additional_information=['Singer for the indie rock band One eskimO']),\n",
       " Node(id=146, name='Bernie Bonvoisin', description='French hard rock singer and film director French hard rock singer and film director French hard rock singer and film director. French hard rock singer and film director French hard rock singer and film director', alias=['Bernard Bonvoisin (born 9 July 1956)', 'Bernie Bonvoisin', 'Bernard Bonvoisin'], additional_information=['Best known for being the singer of Trust', 'Friend of Bon Scott from AC/DC', \"Recorded 'Ride On' with Bon Scott\"]),\n",
       " Node(id=147, name='Anik Dutta', description='Bengali film director', alias=[], additional_information=[\"Made directorial debut in 2012 film 'Bhooter Bhabishyat'\", \"Working on a film based on Shirshendu Mukhopadhyay's novel 'Aschorjo Prodip'\", 'Grandson of Narendra Chandra Dutta, founder of United Bank of India']),\n",
       " Node(id=148, name='John Donatich', description='Director of Yale University Press Director of Yale University Press', alias=['John Donatich'], additional_information=[]),\n",
       " Node(id=149, name='Borunbabur Bondhu', description='2019 Indian Bengali language film', alias=[], additional_information=['Directed by Anik Dutta', \"Based on Bengali story 'Chhad' by Ramapada Chowdhury\", 'Soumitra Chatterjee plays a lead role']),\n",
       " Node(id=150, name='Elvis Presley', description=\"American singer and actor, known as the 'King of Rock and Roll' American singer and actor, known as the 'King of Rock and Roll'\", alias=['Elvis Aaron Presley', 'Elvis', 'Elvis Presley'], additional_information=['Born January 8, 1935 – August 16, 1977', 'Regarded as a cultural icon of the 20th century', 'Pioneer of rockabilly music', 'Best-selling solo artist in recorded music history']),\n",
       " Node(id=151, name='O Valencia!', description='Song by The Decemberists Song by The Decemberists Song by indie rock band The Decemberists. Song by The Decemberists Song by The Decemberists', alias=['O Valencia!'], additional_information=[\"Fifth single from the album 'The Crane Wife'\", 'Describes a story of star-crossed lovers']),\n",
       " Node(id=152, name='The Fools Hall of Fame', description='Title of an American song', alias=[], additional_information=['More than one composition with this title']),\n",
       " Node(id=153, name='Sarre Anglo-Saxon cemetery', description='A burial place used in the sixth and seventh centuries CE.', alias=[], additional_information=[]),\n",
       " Node(id=154, name='There Is So Much World to See', description='Film song performed by Elvis Presley', alias=[], additional_information=[\"Featured in the movie 'Double Trouble' (1967)\", 'Recorded on June 28, 1966', \"Released on the soundtrack of 'Double Trouble' in 1967\"]),\n",
       " Node(id=155, name='Jill Conway', description=\"Character from the film 'Double Trouble'\", alias=[], additional_information=['Portrayed by Annette Day']),\n",
       " Node(id=0, name='Maurice Campbell', description='Canadian curler and physician.', alias=[], additional_information=['Born November 28, 1919 – July 4, 2014', 'Played in the 1958 Macdonald Brier', 'President of the Quebec Curling Association for the 1963-64 season', 'Served as president of the Canadian Curling Association for the 1970-71 season', 'Inducted into the Canadian Curling Hall of Fame']),\n",
       " Node(id=156, name='Wandering Fires', description='A 1925 silent film drama produced and directed by Maurice Campbell.', alias=[], additional_information=['Stars Constance Bennett', 'Distributed in the U.S. by Arrow Film Corporation and in the UK by Film Booking Offices of America.', \"Campbell's wife, Henrietta Crosman, appears in the film.\", 'A print is held by the George Eastman House.']),\n",
       " Node(id=157, name='Fatima al-Samarqandi', description='Twelfth-century Muslim scholar and jurist', alias=['Fatima bint Muhammad ibn Ahmad al-Samarqandi'], additional_information=[]),\n",
       " Node(id=158, name='Zayed bin Sultan Al Nahyan', description='Ruler of Abu Dhabi and founding father of the UAE Ruler of Abu Dhabi and founding father of the UAE', alias=['Sheikh Zayed bin Sultan Al Nahyan (6 May 1918 – 2 November 2004)', 'Zayed bin Sultan Al Nahyan'], additional_information=['Ruler for more than 30 years', 'First President of the UAE', 'Often called the Father of the Nation']),\n",
       " Node(id=159, name='Fatima bint Mohammed Al Balooshi', description='Minister of Social Development in Bahrain', alias=[], additional_information=['Former acting Minister of Health']),\n",
       " Node(id=160, name='Jaber II Al-Sabah', description='Eighth ruler of Kuwait', alias=['Jaber II Al-Mubarak Al-Sabah (1860 – 5 February 1917)'], additional_information=['Eldest son of Mubarak Al-Sabah', 'Ruled from 28 November 1915 to 5 February 1917']),\n",
       " Node(id=161, name='Noura Khalifa Al Suwaidi', description='Emirati politician and director-general of General Women’s Union', alias=['Noora bint Khaleefa Salem Al Suwaidi'], additional_information=['Former deputy minister', 'Chairperson: Fatima bint Mubarak Al Ketbi', 'Awarded 6th Arab Woman Award in 2016']),\n",
       " Node(id=162, name='Mubarak Al-Bishi', description='Saudi football player playing as a midfielder', alias=[], additional_information=['Born 6 November 1991']),\n",
       " Node(id=163, name='Fatima bint Mubarak Al Ketbi', description='Emirati politician Emirati politician', alias=['Fatima bint, Mubarak Al Ketbi', 'Fatima bint Mubarak Al Ketbi'], additional_information=[]),\n",
       " Node(id=164, name='Salem Al Ketbi', description='Emirati political analyst, researcher and opinion writer', alias=[], additional_information=['Ph.D. in Public Law and Political Science from Hassan II University in Casablanca', \"Thesis: 'Political and religious propaganda and leadership through social media in the Arab World'\"]),\n",
       " Node(id=165, name='Private Hell 36', description='1954 crime film noir directed by Don Siegel', alias=[], additional_information=['Starring Ida Lupino, Steve Cochran, Howard Duff, Dean Jagger, and Dorothy Malone']),\n",
       " Node(id=166, name='Don Siegel', description='American film director and producer', alias=['Donald Siegel'], additional_information=['Born October 26, 1912 – April 20, 1991', \"Best known for 'Invasion of the Body Snatchers' and films with Clint Eastwood\"]),\n",
       " Node(id=167, name='SCR', description='Malaysian halal-certified chicken rice fast-food restaurant', alias=[], additional_information=['Operated by SCR Corporation Sdn Bhd', 'Established in 1987', 'International outlets in Brunei and Indonesia']),\n",
       " Node(id=168, name='SCR Corporation Sdn Bhd', description='Company behind SCR restaurant', alias=['SCR Corporation Sdn Bhd'], additional_information=['Established in 1987', 'Homegrown food name in East Malaysia']),\n",
       " Node(id=169, name='Silterra Malaysia', description='Malaysian semiconductor manufacturer', alias=['Silterra Malaysia, Sdn. Bhd.'], additional_information=['Founded in November 1995', 'Formerly known as Wafer Technology (Malaysia) Sdn. Bhd.', 'Founded in Kulim, Malaysia', 'Sales and marketing offices in San Jose, California; Hsinchu, Taiwan']),\n",
       " Node(id=170, name='Infopro Sdn Bhd', description='Malaysian based software house specializing in core banking', alias=[], additional_information=['CMMi Level 5 appraised', 'Provides banking solutions known as eICBA system', \"Won MITI's Export Excellence Award (Services) in 2010\"]),\n",
       " Node(id=171, name='U Mobile', description='Malaysian mobile telecommunications service provider', alias=['U Mobile Sdn Bhd'], additional_information=['Founded in 1998', 'Formerly known as MiTV Networks Sdn Bhd', 'A subsidiary of U Television Sdn Bhd']),\n",
       " Node(id=172, name='SME Ordnance', description='Malaysian defence company specializing in ordnance manufacturing', alias=['SME Ordnance Sdn Bhd'], additional_information=['Formerly known as Syarikat Malaysia Explosive Sdn Bhd', 'Located in Batu Arang, Selangor', 'Subsidiary of National Aerospace and Defence Industries Sdn Bhd']),\n",
       " Node(id=173, name='DRB-HICOM', description='Malaysian investment holding company Malaysian corporation involved in automotive manufacturing and distribution', alias=['DRB-HICOM Berhad', 'DRB-HICOM'], additional_information=[]),\n",
       " Node(id=174, name='VakıfBank', description='Fifth largest bank in Turkey', alias=[], additional_information=['Assets of $46 billion as of December 31, 2009', 'Operates 610 branches domestically and two international offices in New York and Bahrain']),\n",
       " Node(id=175, name='Rapid Rail', description='Rapid Rail Sdn Bhd, operator of rail systems in Malaysia', alias=[], additional_information=['Operates five rail lines as part of Rapid KL', 'Involved in the KL public transport network restructuring']),\n",
       " Node(id=176, name='Ramly Group', description='Malaysian frozen and fast food company', alias=['Ramly Food Processing Sdn. Bhd.'], additional_information=['Founded by Ramly bin Mokni', 'Involved in the production of frozen fast foods']),\n",
       " Node(id=177, name='MPH Group', description='Malaysian group known for book retailing and publishing', alias=['MPH Group Malaysia Sdn Bhd'], additional_information=['Headquartered in Petaling Jaya, Selangor', 'Among the largest bookstore chains after Popular']),\n",
       " Node(id=178, name='Jason Moore', description='American director of film, theatre and television American director of film, theatre and television American director of film, theatre, and television American director of film, theatre and television American director of film, theatre and television American director of film, theatre and television. American director of film, theatre and television', alias=['Jason Moore', 'Jason Moore (born October 22, 1970)'], additional_information=['Born October 22, 1970']),\n",
       " Node(id=179, name='Bhanumathi Ramakrishna', description='Multilingual Indian film actress, director, music director, singer, producer, book writer and songwriter', alias=['Bhanumathi Ramakrishna (7 September 1925 – 24 December 2005)'], additional_information=['First female super star of Telugu cinema and South Indian film Industry', 'Awarded the Padma Bhushan in 2003', \"Honored among 'women in cinema' at the 30th International Film Festival of India\"]),\n",
       " Node(id=180, name='Chandirani', description='1953 trilingual Tamil-Telugu-Hindi swashbuckler film', alias=[], additional_information=['Produced by P. S. Ramakrishna Rao under the Bharani Studios banner', 'Directed by Bhanumathi Ramakrishna', 'Stars N. T. Rama Rao and Bhanumathi Ramakrishna', 'Music composed by C. R. Subburaman & M. S. Viswanathan']),\n",
       " Node(id=181, name='Hans Deppe', description='German actor and film director', alias=['Hans Deppe (12 November 1897 – 23 September 1969)'], additional_information=[]),\n",
       " Node(id=182, name='Not Without Gisela', description='1951 West German musical comedy film', alias=[], additional_information=['Directed by Hans Deppe', 'Starring Peter Mosbacher, Eva Ingeborg Scholz and Hilde Sessak', 'Film sets designed by Emil Hasler']),\n",
       " Node(id=183, name='Ben Cura', description='British-Argentine actor and director of film, television and theatre British-Argentine actor and director of film, television and theatre British-Argentine actor and director of film, television, and theatre British-Argentine actor and director of film, television and theatre', alias=['Ben Cura', 'Ben Cura (born September 30, 1988)'], additional_information=['Born September 30, 1988']),\n",
       " Node(id=184, name='Erich Vermehren', description='German anti-Nazi, military intelligence agent, Catholic Traditionalist', alias=['Erich Vermeeren de Saventhem', 'Eric Maria de Saventhem'], additional_information=['Born December 23, 1919 – April 28, 2005']),\n",
       " Node(id=185, name='Erich Šlomović', description='Yugoslav art collector', alias=['Erich Chlomovitch'], additional_information=['Born 1915 – Died 1942', 'Assistant and protégé of Ambroise Vollard']),\n",
       " Node(id=186, name='Erik Charell', description='German theatre and film director, dancer, and actor', alias=['Erich Karl Löwenberg'], additional_information=['Born April 8, 1894 – July 15, 1974', \"Known for creating musical revues and operettas such as 'White Horse Inn' and 'The Congress Dances'\"]),\n",
       " Node(id=187, name='Erich Brauer', description='German illustrator and ethnologist', alias=['Erich Chiram Brauer'], additional_information=['Born June 28, 1895, Berlin – May 9, 1942, Petah Tikvah', \"Signed artwork as 'Chiram'\"]),\n",
       " Node(id=188, name='Arthur Schütz', description='Austrian engineer and writer', alias=['Erich Ritter von Winkler'], additional_information=['Born January 25, 1880, Moscow – February 9, 1960, Vienna', \"Notable for creating a hoax called 'Grubenhund'\"]),\n",
       " Node(id=189, name='Eric Pehap', description='Canadian abstract artist', alias=['Erich Konstantin'], additional_information=['Born April 10, 1912 – November 22, 1981']),\n",
       " Node(id=190, name='Alexandros Margaritis', description='Racing driver Racing driver known for competing in DTM.', alias=['Alex Margaritis', 'Alexander Margaritis', 'Alexandros Margaritis'], additional_information=['Born September 20, 1984', 'Known for competing in Deutsche Tourenwagen Masters']),\n",
       " Node(id=191, name='Erich Maas', description='German former footballer', alias=[], additional_information=['Born December 24, 1940', 'Spent eight seasons in the Bundesliga and five in French Division 1', 'Capped three times for the German national team']),\n",
       " Node(id=192, name='Fred Mukasa Mbidde', description='Ugandan lawyer, human-rights activist, politician', alias=[], additional_information=['Born October 15, 1974', 'Member of the East African Legislative Assembly', 'Chairperson of the Committee on Communication, Trade and Investments', 'Prominent in the 2001 Makerere University student politics and the 2007 Save Mabira Riots']),\n",
       " Node(id=193, name='John Wyman', description='British actor', alias=[], additional_information=[\"Known for playing Erich Kriegler in 'For Your Eyes Only'\"]),\n",
       " Node(id=194, name='Mary Proctor', description='American popularizer of astronomy.', alias=[], additional_information=['Born 1862 – September 11, 1957', \"Known for books and articles, particularly children's fiction.\", 'Passenger list in 1924 shows British nationality.']),\n",
       " Node(id=195, name='Nirmala Devi', description='Indian film actress and classical vocalist. Indian film actress and classical vocalist.', alias=['Nirmala Arun', 'Nirmala Devi'], additional_information=['Born 7 June 1927 - 15 June 1996', 'Mother of Bollywood actor Govinda and film director Kirti Kumar.', 'Wife of actor Arun Kumar Ahuja.', 'Died in 1996.']),\n",
       " Node(id=196, name='David Ji', description='American businessman and co-founder of Apex Digital. American businessman who co-founded Apex Digital American businessman, co-founded Apex Digital American businessman who co-founded Apex Digital', alias=['David Ji', 'David Longfen Ji'], additional_information=['Arrested in China in 2004 due to a dispute with Sichuan Changhong Electric.', 'Highlighted implicit racism in dealings with American businessmen.']),\n",
       " Node(id=197, name='Nirmala Sheoran', description='Indian sprinter specializing in the 400 metres.', alias=[], additional_information=['Born 15 July 1995.']),\n",
       " Node(id=198, name='Fourth Umpire', description='Cricket umpire who assists in matches.', alias=['Reserve Umpire'], additional_information=['Responsible for duties like bringing on the new ball and checking light meter batteries.', \"Appointed by the home side's governing body.\"]),\n",
       " Node(id=199, name='Ted Swinford', description='American rower and gold medalist.', alias=[], additional_information=['Won a gold medal at the 1986 World Rowing Championships.', 'Inducted into the National Rowing Hall of Fame in January 1997.']),\n",
       " Node(id=200, name='Anilda Thomas', description='Indian sprinter specializing in the 400 metres.', alias=[], additional_information=['Born 6 May 1993.', \"Participated in the 2016 Summer Olympics in the women's 4 × 400 metres relay.\"]),\n",
       " Node(id=201, name='History of Japanese nationality', description='Chronology of evolving concepts of Japanese nationality.', alias=[], additional_information=['Begins in mid-nineteenth century during the Meiji Restoration.']),\n",
       " Node(id=202, name='The Wonderful World of Captain Kuhio', description='Film released in Japan on October 10, 2009', alias=[], additional_information=[]),\n",
       " Node(id=203, name='Change or Die', description='Disambiguation for various references', alias=[], additional_information=[]),\n",
       " Node(id=204, name='Coney Island Baby', description='2003 comedy-drama film directed by Amy Hobby', alias=[], additional_information=[\"Amy Hobby's directorial debut\", 'Screened at Newport International Film Festival', 'Jury Award for Best First Time Director', 'Film made its television broadcast debut on Sundance Channel']),\n",
       " Node(id=205, name='Ryan Shore', description=\"Composer for the film 'Coney Island Baby'\", alias=[], additional_information=[]),\n",
       " Node(id=206, name='Sligo', description=\"Location where 'Coney Island Baby' was shot\", alias=[], additional_information=[\"Known locally as 'Coney Island'\"]),\n",
       " Node(id=207, name='Do or Die', description='Disambiguation for various references', alias=[], additional_information=[]),\n",
       " Node(id=208, name='Skate or Die', description='2008 French action film directed by Miguel Courtois', alias=[], additional_information=[]),\n",
       " Node(id=209, name='Live or Die', description='Disambiguation for various references', alias=[], additional_information=[]),\n",
       " Node(id=210, name='Dance or Die', description='Disambiguation for various references', alias=[], additional_information=[]),\n",
       " Node(id=211, name='March or Die', description='Disambiguation for various references', alias=[], additional_information=[]),\n",
       " Node(id=212, name='University of Birmingham', description='Public research university located in Edgbaston, Birmingham, UK', alias=['Birmingham University'], additional_information=['Received royal charter in 1900', 'Founded as Queens College, Birmingham in 1825', 'First English civic university to receive royal charter', 'Founding member of the Russell Group', 'Ranked 14th in the UK and 79th in the world in QS World University Rankings 2019']),\n",
       " Node(id=213, name='Terry Slater', description='Honorary senior research fellow in Historical Geography at University of Birmingham', alias=['Canon Doctor Terry Slater'], additional_information=['Educated at Hull University and University College, London', 'Joined University of Birmingham as a lecturer in 1971', 'Honorary Lay Canon of St Philips Cathedral, Birmingham since 2005']),\n",
       " Node(id=214, name='LeRoy D. Brown', description='First president of University of Nevada', alias=[], additional_information=[]),\n",
       " Node(id=215, name='Cliff Ollier', description='Geologist and emeritus professor at University of Western Australia', alias=[], additional_information=['Formerly at Australian National University, University of New England, Canberra University, University of Papua New Guinea, University of Melbourne']),\n",
       " Node(id=216, name='Maureen Perrie', description='British historian and Professor Emeritus at University of Birmingham', alias=[], additional_information=['Lecturer in Russian History at the Centre for Russian and East European Studies at Birmingham']),\n",
       " Node(id=217, name='Sky Dayton', description='American entrepreneur and investor', alias=[], additional_information=['Founder of Internet service provider EarthLink']),\n",
       " Node(id=218, name='Joseph Chamberlain', description='British statesman and leading imperialist', alias=['Joseph Chamberlain (8 July 1836 – 2 July 1914)'], additional_information=['First a radical Liberal, then Liberal Unionist', 'Notable mayor of Birmingham', 'Opposed home rule for Ireland', 'Served as Secretary of State for the Colonies']),\n",
       " Node(id=219, name='University of Tennessee', description='Public university system in Tennessee, USA', alias=['University of Tennessee system'], additional_information=['Joseph E. Johnson served as president from 1991 to 1999']),\n",
       " Node(id=220, name='Joseph E. Johnson', description='American academic and former president of University of Tennessee', alias=['Joseph Edwin Johnson'], additional_information=['Born July 9, 1933', 'Alumnus of Birmingham – Southern College and University of Tennessee']),\n",
       " Node(id=221, name='Matt Thompson', description='British Anglican priest and Dean of Birmingham', alias=['Matthew Thompson'], additional_information=['Born 1968', 'Dean of Birmingham Cathedral since 2017', 'Former vicar of Bolton Parish Church']),\n",
       " Node(id=222, name='David Sylvester', description=\"Canadian academic and president of University of St. Michael's College\", alias=[], additional_information=[]),\n",
       " Node(id=223, name='Birmingham', description='City in England', alias=[], additional_information=['Significant political and industrial center', \"Associated with Joseph Chamberlain's political career\"]),\n",
       " Node(id=224, name='Rhescuporis II', description='King of the Odrysian kingdom of Thrace Younger brother of Rhoemetalces I Roman Client King of the Bosporan Kingdom', alias=['Rhescuporis II', 'Tiberius Julius Rhescuporis II', 'Tiberius Julius Rhescuporis II Philocaesar Philoromaios Eusebes'], additional_information=['Ruled from 12 to 18', 'Usurped the kingdom from nephew Cotys VIII', 'Described as treacherous by Tacitus']),\n",
       " Node(id=225, name='Rhescuporis IV', description='Prince and Roman Client King of the Bosporan Kingdom', alias=['Tiberius Julius Rhescuporis IV', 'Rhescuporis IV'], additional_information=['Flourished in the 3rd century', 'Succeeded Sauromates III after his death', 'Co-ruled with Cotys III until his death in 235']),\n",
       " Node(id=226, name='Paula E. Downing', description='American author and writer', alias=['Paula Elaine Downing King', 'Paula King', 'Paula Downing King', 'P. K.'], additional_information=['Born December 8, 1951 – Died December 17, 2017']),\n",
       " Node(id=227, name='Hüma Hatun', description='Fourth wife of Ottoman Sultan Murad II', alias=[], additional_information=['Born 1410, died September 1449', 'Mother of Mehmed II, grandmother of Bayezid II']),\n",
       " Node(id=228, name='Rhoemetalces I', description='King of the Odrysian kingdom of Thrace', alias=[], additional_information=['Ruled from 12 BC to 12 AD', 'Loyal ally of Augustus', 'Descendant of Cotys I']),\n",
       " Node(id=229, name='Cotys IV', description='Thracian king', alias=[], additional_information=['Father of Rhoemetalces I', 'Direct descendant of Cotys I']),\n",
       " Node(id=230, name='Rhoemetalces II', description='Client Ruler of Odrysian kingdom of Thrace', alias=[], additional_information=['Ruled under Romans from 18 to 38', 'Deposed Rhescuporis II']),\n",
       " Node(id=231, name='Tacitus', description='Roman historian', alias=[], additional_information=['Described Rhoemetalces I as attractive and civilized']),\n",
       " Node(id=232, name='Antonia Tryphaena', description='Mother of Rhoemetalces II', alias=[], additional_information=['Client ruler in association with her son']),\n",
       " Node(id=233, name='Rhoemetalces III', description='King of Thrace', alias=[], additional_information=['Cousin of Rhoemetalces II', 'Appointed after his death in 38']),\n",
       " Node(id=234, name='Rhescuporis III', description='Roman Client King of the Bosporan Kingdom', alias=['Tiberius Julius Rhescuporis III', 'Tiberius Julius Rhescuporis III Philocaesar Philoromaios Eusebes'], additional_information=['Flourished 3rd century – died 227', 'Son of Rhescuporis II', 'Co-ruled with his father']),\n",
       " Node(id=235, name='McAllister Hull', description='American theoretical physicist', alias=[], additional_information=['September 1, 1923 – February 9, 2011', 'Involved in the creation of the atomic bomb for Nagasaki']),\n",
       " Node(id=236, name='Oscar Apfel', description='American film actor, director, screenwriter and producer', alias=['Oscar C. Apfel (January 17, 1878 – March 21, 1938)'], additional_information=['Appeared in 167 films between 1913 and 1939', 'Directed 94 films between 1911 and 1927']),\n",
       " Node(id=237, name='Rajesh Verma', description='Indian politician and member of the Bhartiya Janta Party', alias=[], additional_information=['Born 6 November 1960', 'Elected to 13th Lok Sabha in 1999, 14th in 2004, 16th in 2014, and 17th in 2019 from Sitapur, Uttar Pradesh', 'Won fourth term in 2019 by 1 lakh 1 thousand votes']),\n",
       " Node(id=238, name='Ek Misaal', description='1986 Hindi-language Indian feature film', alias=[], additional_information=['Directed by Rajesh Verma', 'Produced by Vibha Bhatnagar', 'Starring Kanwaljit Singh and Kiran Juneja']),\n",
       " Node(id=239, name='A Soldiers Oath', description='Lost 1915 silent film drama', alias=[], additional_information=['Directed by Oscar Apfel', 'Starring William Farnum', 'Produced by William Fox']),\n",
       " Node(id=240, name='Frank Lloyd', description='British-born American film director, actor, scriptwriter, and producer', alias=['Frank William George Lloyd'], additional_information=['Born February 2, 1886 – August 10, 1960', 'Founding member of the Academy of Motion Picture Arts and Sciences', 'President from 1934 to 1935']),\n",
       " Node(id=241, name='Harry Wainwright', description='English footballer English footballer English footballer English professional footballer', alias=['Harry Wainwright', 'Harry Wainwright (born 1899; date of death unknown)'], additional_information=['Born 1899', 'Date of death unknown']),\n",
       " Node(id=242, name='Thomas Scott', description='English diver English diver English diver. English diver English diver English diver', alias=['Thomas Scott', 'Thomas Scott (diver)', 'Thomas Scott (1907 - date of death unknown)'], additional_information=['Born 1907', 'Date of death unknown']),\n",
       " Node(id=243, name='Bill Smith', description='English professional footballer English professional footballer English professional footballer. English professional footballer English professional footballer English professional footballer', alias=['William Thomas Smith', 'Bill Smith', 'William Thomas Smith (born April 9, 1897, date of death unknown)', 'William Thomas Smith (born 9 April 1897, date of death unknown)'], additional_information=['Born April 9, 1897', 'Date of death unknown']),\n",
       " Node(id=244, name='An International Marriage', description='1916 American silent comedy film', alias=[], additional_information=['Directed by Frank Lloyd', 'Written by George Broadhurst', 'Released on July 23, 1916 by Paramount Pictures']),\n",
       " Node(id=245, name='Carl Haber', description='American filmmaker and professor of film', alias=[], additional_information=['Born 1956', 'Founded the Rome International Film School']),\n",
       " Node(id=246, name='Jo Graham', description='American film director', alias=[], additional_information=[\"Directed 'Always in My Heart' (1942)\"]),\n",
       " Node(id=247, name='Kay Francis', description='American actress', alias=[], additional_information=[\"Starred in 'Always in My Heart'\"]),\n",
       " Node(id=248, name='Walter Huston', description='American actor', alias=[], additional_information=[\"Starred in 'Always in My Heart'\"]),\n",
       " Node(id=249, name='Siempre en Mi Corazón', description='Song by Ernesto Lecuona', alias=['Always in My Heart'], additional_information=['Nominated for Oscar for Best Original Song']),\n",
       " Node(id=250, name='William Asher', description='American television and film producer, director, and screenwriter', alias=['William Milton Asher (August 8, 1921 – July 16, 2012)'], additional_information=[\"Directed 'I Love Lucy' and 'Bewitched'\"]),\n",
       " Node(id=251, name='Elizabeth Montgomery', description='American actress', alias=[], additional_information=[\"Starring role in 'Bewitched'\"]),\n",
       " Node(id=252, name='Claude Weisz', description='French film director', alias=[], additional_information=['Born in Paris']),\n",
       " Node(id=253, name='Butcher, Baker, Nightmare Maker', description='1981 American exploitation horror film', alias=['Night Warning'], additional_information=['Directed by William Asher']),\n",
       " Node(id=254, name='Susan Tyrrell', description='American actress', alias=[], additional_information=[\"Starred in 'Butcher, Baker, Nightmare Maker'\"]),\n",
       " Node(id=255, name='Jimmy McNichol', description='American former child actor and singer', alias=['James Vincent McNichol III (born July 2, 1961)'], additional_information=[\"Starred in 'Butcher, Baker, Nightmare Maker'\"]),\n",
       " Node(id=256, name='Miss Brown to You', description='Song with music composed by Richard A. Whiting and Ralph Rainger', alias=[], additional_information=['Recorded by Billie Holiday', 'Featured on multiple live broadcasts']),\n",
       " Node(id=257, name='Billie Holiday', description='American jazz singer', alias=['Eleanora Fagan', 'Lady Day'], additional_information=['Born April 7, 1915 – July 17, 1959', 'Had a significant impact on jazz and pop singing']),\n",
       " Node(id=258, name='Another Latin Love Song', description='EP by English band The Belle Stars', alias=['Another Latin Love Song/ Miss'], additional_information=['World is the only EP by English band The Belle Stars', 'Like its predecessors, it failed to chart']),\n",
       " Node(id=259, name='Angelica Jones', description='Singer, actress, and politician in the Philippines', alias=[], additional_information=[\"Known for the novelty song 'Miss Flawless'\"]),\n",
       " Node(id=260, name='J. Sasikumar', description='Indian film director in Malayalam cinema', alias=['Nambiathusseril Varkey John (14 October 1927 – 17 July 2014)', 'Hitmaker Sasikumar'], additional_information=['Directed more than 141 films starting in the mid-1960s', 'Held world records for most films, same actor in most films, and most films directed in a year (15 films in 1977)', 'Died in 2014 at the age of 86']),\n",
       " Node(id=261, name='One Hundred Nails', description='2007 Italian drama film directed by Ermanno Olmi', alias=[], additional_information=['Starring Raz Degan', 'Story of a professor who leaves his job for a rural life', 'Screened at the 2007 Cannes Film Festival', 'Received Critics Award at the 2007 David di Donatello Awards, nominated for Best Film']),\n",
       " Node(id=262, name='Ben Palmer', description='British film and television director British film and television director', alias=['Ben Palmer'], additional_information=[\"Known for directing 'Bo Selecta' and 'The Inbetweeners'\"]),\n",
       " Node(id=263, name='Drew Esocoff', description='American television sports director', alias=[], additional_information=['Director of NBC Sunday Night Football since 2006']),\n",
       " Node(id=264, name='Elliot Silverstein', description='American film director', alias=[], additional_information=['Born August 3, 1927, in Boston, Massachusetts', \"Best known for directing 'Cat Ballou' (1965)\"]),\n",
       " Node(id=265, name='Aaranya Kandam', description='1975 Indian Malayalam film directed by J. Sasikumar', alias=[], additional_information=['Produced by R. S. Prabhu', 'Stars Prem Nazir, Srividya, Sukumari, and Adoor Bhasi', 'Musical score by A. T. Ummer']),\n",
       " Node(id=266, name='G. Marthandan', description='Indian film director in Malayalam cinema', alias=[], additional_information=[]),\n",
       " Node(id=267, name='Abhishek Saxena', description='Indian Bollywood and Punjabi film director', alias=[], additional_information=[\"Directed the movie 'Phullu' released on 16 June 2017\", \"Also directed 'Patiala Dreamz', screened in 2014\"]),\n",
       " Node(id=268, name='Ermanno Olmi', description='Italian film director and screenwriter', alias=['Ermanno Olmi (24 July 1931 – 7 May 2018)'], additional_information=[]),\n",
       " Node(id=269, name='Prince of the Plains', description='1949 American Western film', alias=[], additional_information=['Directed by Philip Ford', 'Written by Louise Rousseau and Albert DeMond', 'Stars Monte Hale, Paul Hurst, Shirley Davis, Roy Barcroft, Rory Mallinson, and Harry Lauter', 'Released on April 8, 1949, by Republic Pictures']),\n",
       " Node(id=270, name='Philip Ford', description='American film director and actor', alias=[], additional_information=['Born October 16, 1900 – January 12, 1976', 'Directed 43 films between 1945 and 1964', 'Appeared in 16 films between 1916 and 1926', 'Son of actor/director Francis Ford and nephew of director John Ford']),\n",
       " Node(id=271, name='Eleanor Ruggles', description='American biographer and book reviewer', alias=[], additional_information=['1916-2008', \"Wrote the book that inspired the film 'Prince of Players' starring Richard Burton\", 'Wrote for Encyclopædia Britannica, including the page for Edwin Booth']),\n",
       " Node(id=272, name='Aruna Shields', description='British actress, filmmaker, and therapist', alias=[], additional_information=[\"Debuted in Bollywood with the film 'Prince'\", 'Height: 6 feet']),\n",
       " Node(id=273, name='Just Like Heaven', description='2005 American romantic comedy fantasy film', alias=[], additional_information=['Directed by Mark Waters', \"Based on the French novel 'If Only It Were True' by Marc Levy\"]),\n",
       " Node(id=274, name='Mark Waters', description='American screenwriter, director, and film producer', alias=[], additional_information=['Born June 30, 1964', \"Best known for directing films such as 'Freaky Friday' and 'Mean Girls'\"]),\n",
       " Node(id=275, name='A Whirlwind of Whiskers', description='1917 silent film short comedy', alias=[], additional_information=['Directed by Alfred Santell', 'Starring Lloyd Hamilton, Bud Duncan, and Marin Sais', 'Produced by Kalem Company']),\n",
       " Node(id=276, name='The Unknown', description='1915 comedy film', alias=[], additional_information=['Directed by J. E. Mathews', 'Considered a lost film']),\n",
       " Node(id=277, name='Alfred Santell', description='American film director and producer', alias=['Alfred Allen Santell'], additional_information=['Born 1895', 'Died June 19, 1981', 'Directed over 60 films', 'Married actress Jane N. Keithley']),\n",
       " Node(id=278, name='Barot House', description='Suspense-thriller-drama film', alias=[], additional_information=['About an upper middle-class Indian family caught in crime and murder']),\n",
       " Node(id=279, name='Lewis R. Foster', description='American screenwriter, film/television director, and film/television producer', alias=['Lewis R. Foster (August 5, 1898 – June 10, 1974)'], additional_information=['Directed and wrote over one hundred films and television series between 1926 and 1960']),\n",
       " Node(id=280, name='Satan Town', description='1926 American Western film', alias=[], additional_information=['Features Harry Carey', 'Prints of the film have survived']),\n",
       " Node(id=281, name='Dave Keane', description='Irish retired hurling manager and former player', alias=['Dave Keane (born 1956)'], additional_information=['Born in Passage West, County Cork, Ireland', 'Played with local clubs and managed Limerick senior inter-county team from 2002 to 2003', 'Managed Limerick to 3 All-Ireland Under 21 Hurling Championships from 2000-02']),\n",
       " Node(id=282, name='Matt Corboy', description='American actor', alias=['Matt Corboy (born June 4, 1973)'], additional_information=['Appeared in both films and television series']),\n",
       " Node(id=283, name='Kim Sung-su', description='South Korean film director', alias=['Kim Sung-su (born November 15, 1961)'], additional_information=[\"Known for 'Beat', 'Musa', and 'Please Teach Me English'\"]),\n",
       " Node(id=284, name='Dooley Wilson', description='American actor, singer, and musician', alias=['Arthur Dooley Wilson (April 3, 1886 – May 30, 1953)'], additional_information=[\"Best remembered as Sam in 'Casablanca'\", \"Performed 'As Time Goes By' in the film\", 'Led his own band in the 1920s, touring London and Paris', 'Played supporting roles on Broadway and in modest films']),\n",
       " Node(id=285, name='Passage West (1951 film)', description='1951 American Technicolor Western film', alias=[], additional_information=['Directed by Lewis R. Foster', \"Starring John Payne, Dennis O'Keefe, and Arleen Whelan\"]),\n",
       " Node(id=286, name='Musa (film)', description='2001 South Korean epic action drama film', alias=[], additional_information=['Directed by Kim Sung-su', 'Starring Jung Woo-sung, Ahn Sung-ki, Joo Jin-mo, and Zhang Ziyi', 'Regarded as one of the biggest motion pictures in South Korean cinema', 'Largest budget for a Korean film at the time of production', '8th highest grossing film of 2001 with over two million tickets sold']),\n",
       " Node(id=287, name='Comin Round the Mountain', description='1951 film starring Abbott and Costello', alias=[], additional_information=[]),\n",
       " Node(id=288, name=\"Eddie O'Brien\", description='Former Irish sportsperson', alias=[\"Eddie O'Brien (born January 12, 1945)\"], additional_information=['Born in Passage West, County Cork', 'Played hurling with his local club and with the Cork senior inter-county team in the 1960s and 1970s']),\n",
       " Node(id=289, name='Kerman Seljuk Sultanate', description='A Turko-Persian Sunni Muslim state established in parts of Kerman and Makran.', alias=['Saljūqiyān-i Kerman'], additional_information=['Founded by Emadeddin Kara Arslan Ahmad Qavurt', 'Fell to Ghuz leaders Malik Dinar after 150 years', 'Economic prosperity flourished during its existence']),\n",
       " Node(id=290, name='Emadeddin Kara Arslan Ahmad Qavurt', description='Founder of the Kerman Seljuk Sultanate.', alias=[], additional_information=[]),\n",
       " Node(id=291, name='Rukn al-Din Mubarak Khwaja', description='Qutlughanid ruler of Kerman and son of Buraq Hajib.', alias=[], additional_information=[]),\n",
       " Node(id=292, name='Qutb al-Din Mohammad', description='Qutlughanid ruler of Kerman and nephew of Buraq Hajib.', alias=[], additional_information=[]),\n",
       " Node(id=293, name='Tengboche', description='A village in Nepal known for its important Buddhist monastery, Tengboche Monastery.', alias=['Thyangboche'], additional_information=['Monastery built in 1923, destroyed by earthquake in 1934, then by fire in 1989', 'Panoramic views of the Himalayan mountains']),\n",
       " Node(id=294, name='Estarm', description='A village in Kerman Province, Iran.', alias=['Estārm', 'Estaram', 'Estārd', 'Istārd'], additional_information=['Population was 267 in 56 families as of 2006 census.']),\n",
       " Node(id=295, name='1992 Copa Libertadores', description='The 33rd edition of the Copa Libertadores, an international club tournament.', alias=[], additional_information=['São Paulo won the competition.', 'Participating teams were divided into five groups.']),\n",
       " Node(id=296, name='Road 84 (Iran)', description='An important transit road in southeastern Iran.', alias=[], additional_information=['Connects Pakistan to Kerman and Tehran Road 71.']),\n",
       " Node(id=297, name='Satellite Tournament', description='A minor tournament or event in competitive sporting circuits. Minor tournament in competitive sports', alias=['Satellite Tournament'], additional_information=[]),\n",
       " Node(id=298, name='Language Management', description='Discipline focusing on satisfying the needs of multilingual speakers.', alias=[], additional_information=['Involves managing language use in various settings such as countries, companies, and cultural institutions.', 'Addresses the challenges faced in multilingual environments.']),\n",
       " Node(id=299, name='Christina Bruce', description='Daughter of Marjorie, Countess of Carrick, and Robert de Brus, sister of Robert the Bruce, King of Scots', alias=['Christina Bruce (c. 1278 – 1356/1357)', 'Christina de Brus'], additional_information=['Born at Turnberry Castle in Carrick']),\n",
       " Node(id=300, name='Priscilla Pointer', description='American stage, film and television character actress', alias=['Priscilla Marie Pointer (born May 18, 1924)'], additional_information=['Career began in theater and Broadway', 'Mother of Amy Irving, mother-in-law of Steven Spielberg, Bruno Barreto, and Kenneth Bowser, Jr.']),\n",
       " Node(id=301, name='Vera Miletić', description='Serbian student and soldier, mother of Mira Marković, mother-in-law of Slobodan Milošević', alias=['Vera Miletić (8 March 1920 – 7 September 1944)'], additional_information=[]),\n",
       " Node(id=302, name='Andy Craven', description='American soccer player', alias=['Andrew Murray Craven (born January 21, 1992)'], additional_information=[]),\n",
       " Node(id=303, name='Sir Andrew Agnew, 3rd Baronet', description='Scottish baronet, son of Sir Andrew Agnew, 2nd Baronet and Lady Anne Stewart', alias=['Sir Andrew Agnew, 3rd Baronet (died 1702)'], additional_information=[]),\n",
       " Node(id=304, name='Marian Shields Robinson', description='Mother of Michelle Obama and Craig Robinson, mother-in-law of Barack Obama', alias=['Marian Lois Robinson (née Shields; born July 29, 1937)'], additional_information=[]),\n",
       " Node(id=305, name='Andrew Murray', description='Scottish military and political leader, twice Guardian of Scotland', alias=['Sir Andrew Murray (1298–1338)', 'Sir Andrew Moray', 'Sir Andrew de Moray'], additional_information=['Supported David II of Scotland against Edward Balliol and Edward III of England', 'Husband of Christina Bruce']),\n",
       " Node(id=306, name='Cornelia (mother of the Gracchi)', description='Virtuous Roman woman, mother of the Gracchi brothers', alias=['Cornelia (c. 190s – c. 115 BC)'], additional_information=['Daughter of Publius Cornelius Scipio Africanus']),\n",
       " Node(id=307, name='Maria Thins', description='Mother-in-law of Johannes Vermeer and member of the Gouda Thins family', alias=['Maria Thins (c. 1593 – 27 December 1680)'], additional_information=[]),\n",
       " Node(id=308, name='Eldon Howard', description='British screenwriter, mother-in-law of Edward J. Danziger', alias=['Eldon Howard'], additional_information=['Wrote screenplays for films by Danziger Productions']),\n",
       " Node(id=309, name='Lake Charles', description='City in Calcasieu Parish, Louisiana, United States', alias=[], additional_information=['Named for Charles Sallier, an early settler', 'Location near LeBleu Settlement']),\n",
       " Node(id=310, name='Ak-Chin Regional Airport', description='Privately owned public-use airport in Pinal County, Arizona', alias=['Phoenix Regional Airport'], additional_information=[]),\n",
       " Node(id=311, name='Eureka Airport', description='Airport with multiple references, often in relation to various locations', alias=[], additional_information=[]),\n",
       " Node(id=312, name='Charles Sallier', description='Early settler of Lake Charles, Louisiana', alias=[], additional_information=['Moved to Lake Charles and married Catherine LeBleu', 'Had six children', 'Associated with local legends']),\n",
       " Node(id=313, name='LeBleu Settlement', description='Area called LeBleu Settlement near Lake Charles, Louisiana', alias=[], additional_information=['First settlement by certain early inmigrants', 'Named after Martin and Dela LeBleu']),\n",
       " Node(id=314, name='Catherine LeBleu', description='Wife of Charles Sallier', alias=[], additional_information=['Had six children with Charles Sallier', 'Survived a shot from her husband, Charles']),\n",
       " Node(id=315, name='Jean Laffite', description='Historical figure associated with legends of Lake Charles', alias=[], additional_information=['Believed to be implicated in a local legend involving Charles Sallier']),\n",
       " Node(id=316, name='Lake Charles Regional Airport', description='Public use airport serving Lake Charles, Louisiana', alias=[], additional_information=['Located five nautical miles from the city center', 'Serves approximately 375,000 people annually']),\n",
       " Node(id=317, name='Arcata–Eureka Airport', description='Airport in Humboldt County, California, USA', alias=['California Redwood Coast – Humboldt County Airport'], additional_information=['Designated as a primary commercial service airport', 'Serves as a Coast Guard command center']),\n",
       " Node(id=318, name='Liverpool/South Shore Regional Airport', description='Registered aerodrome in Nova Scotia, Canada', alias=['South Shore Regional Airport'], additional_information=['Located near Greenfield, north of Liverpool']),\n",
       " Node(id=319, name='Elmira Corning Regional Airport', description='County-owned public airport in Chemung County, New York', alias=['Elmira/Corning Regional Airport'], additional_information=['Located seven miles northwest of Elmira', 'Eight miles east of Corning', 'Formerly Elmira Regional Airport', 'Serves the Southern Tier of New York', 'Offers airline flights and general aviation and glider activities']),\n",
       " Node(id=320, name='Greater Binghamton Airport', description='Public airport located in Binghamton, New York', alias=[], additional_information=[]),\n",
       " Node(id=321, name='Ithaca Tompkins Regional Airport', description='Public airport located in Ithaca, New York', alias=[], additional_information=[]),\n",
       " Node(id=322, name='Greater Rochester International Airport', description='Public airport serving Rochester, New York', alias=[], additional_information=[]),\n",
       " Node(id=323, name='Syracuse International Airport', description='Public airport serving Syracuse, New York', alias=[], additional_information=[]),\n",
       " Node(id=324, name='Allegiant Air', description='American low-cost airline', alias=[], additional_information=['Operates from Elmira Corning Regional Airport on two routes to Florida']),\n",
       " Node(id=325, name='SMS für Dich', description='2016 German drama film directed by Karoline Herfurth', alias=['SMS für Dich (2016)'], additional_information=['Directed by Karoline Herfurth']),\n",
       " Node(id=326, name='Carl Froelich', description='German film pioneer and director', alias=['Carl August Hugo Froelich (5 September 1875 – 12 February 1953)'], additional_information=['Born and died in Berlin']),\n",
       " Node(id=327, name='Tom Kmiec', description='Canadian politician and Member of Parliament', alias=['Tomasz Kmiec (born July 31, 1981)'], additional_information=['Conservative National Caucus Chair for Her Majesty’s Loyal Opposition']),\n",
       " Node(id=328, name='Ich für dich, du für mich', description='1934 German film directed by Carl Froelich', alias=[], additional_information=['Directed by Carl Froelich']),\n",
       " Node(id=329, name='Pretty Girl (Jon B. song)', description='Song performed by American contemporary R&B singer Jon B.', alias=[], additional_information=[\"Second single from debut album 'Bonafide'\", 'Peaked at #25 on the Billboard Hot 100 in 1995']),\n",
       " Node(id=330, name='Judy Garland', description='American actress, singer and dancer Irish-American singer and actress', alias=['Judy Garland (born Frances Ethel Gumm; June 10, 1922 – June 22, 1969)', 'Judy Garland'], additional_information=['Attained international stardom as an actress in musical and dramatic roles', 'Respected for her versatility', 'Received an Academy Juvenile Award, a Golden Globe Award, and a Special Tony Award', 'Won Grammy Award for Album of the Year in 1962', \"Portrayed Dorothy Gale in 'The Wizard of Oz' (1939)\"]),\n",
       " Node(id=331, name='The Wizard of Oz', description='Musical film released in 1939', alias=[], additional_information=['Judy Garland played Dorothy Gale', 'Created lasting impact on American cinema', 'One of the most famous films in history']),\n",
       " Node(id=332, name='Grammy Award', description='Award for achievements in the music industry', alias=[], additional_information=[\"Judy Garland won for 'Album of the Year' in 1962\"]),\n",
       " Node(id=333, name='Metro-Goldwyn-Mayer', description='Film studio in Hollywood', alias=['MGM'], additional_information=['Signed Judy Garland as a teenager', 'Produced more than two dozen films featuring Garland']),\n",
       " Node(id=334, name='Cecil B. DeMille Award', description='Lifetime achievement award in the film industry', alias=[], additional_information=['Honor bestowed upon Judy Garland at age 39']),\n",
       " Node(id=335, name='The Judy Garland Show', description='Television series hosted by Judy Garland', alias=[], additional_information=['Aired from 1963 to 1964', 'Nominated for an Emmy Award']),\n",
       " Node(id=336, name='American Film Institute', description='Organization dedicated to preserving American cinema', alias=[], additional_information=['Ranked Garland among the 10 greatest female stars of classic American cinema in 1999']),\n",
       " Node(id=337, name='A Star Is Born', description='Film released in 1954', alias=[], additional_information=['Judy Garland received an Academy Award nomination for Best Actress for her role']),\n",
       " Node(id=338, name='Judgment at Nuremberg', description='Film released in 1961', alias=[], additional_information=['Judy Garland received a nomination for Best Supporting Actress for her role']),\n",
       " Node(id=339, name='A Pretty Girl Milking Her Cow', description='Traditional 18th-century Irish ballad', alias=['Cailin Deas Crúite na mBó'], additional_information=['Attributed to Thomas Moore (1779–1852)', 'Originally sung in Irish Gaelic', \"Revived by Judy Garland in 'Little Nellie Kelly'\"]),\n",
       " Node(id=340, name='Thomas Moore', description='Irish poet and songwriter', alias=['Thomas Moore (1779–1852)'], additional_information=['Attributed as the English version of the ballad']),\n",
       " Node(id=341, name='Little Nellie Kelly', description='1940 film featuring Judy Garland', alias=[], additional_information=['Included the updated version of the ballad']),\n",
       " Node(id=342, name='Roger Edens', description='MGM Musical Director', alias=[], additional_information=[\"Incorporated original lyrics into Garland's version\"]),\n",
       " Node(id=343, name=\"St. Patrick's Day\", description='Cultural celebration for Irish heritage', alias=[], additional_information=['Became popular song for Irish-Americans during the celebration']),\n",
       " Node(id=344, name='Coconut Grove', description='Venue in Hollywood where Garland performed', alias=[], additional_information=[\"Recorded 'Garland at the Grove' live in 1958\"]),\n",
       " Node(id=345, name='Bing Crosby', description='American singer and actor', alias=[], additional_information=['Recorded the ballad']),\n",
       " Node(id=346, name='Ruby Murray', description='Irish singer', alias=[], additional_information=['Recorded the ballad']),\n",
       " Node(id=347, name='Eileen Barton', description='American singer', alias=[], additional_information=['Recorded the ballad']),\n",
       " Node(id=348, name='Chahar Taq', description='Village in Poshtkuh-e Rostam Rural District, Rostam County, Fars Province, Iran', alias=['Chahār Ţāq'], additional_information=['Population: 161 (2006 Census)', 'Families: 31']),\n",
       " Node(id=349, name='Chahar Taq-e Bala', description='Village in Kohanabad Rural District, Aradan County, Semnan Province, Iran', alias=['Chahār Ţāq -e Bālā'], additional_information=['Population: 110 (2006 Census)', 'Families: 36']),\n",
       " Node(id=350, name='Chahar Taq, Markazi', description='Village in Khorram Dasht Rural District, Khomeyn County, Markazi Province, Iran', alias=['Chahār Ţāq', 'Chahar Tagh', 'Chahār Tak', 'Chehārtak'], additional_information=['Population: 543 (2006 Census)', 'Families: 145']),\n",
       " Node(id=351, name='Chahar Taq, Darab', description='Village in Bakhtajerd Rural District, Darab County, Fars Province, Iran', alias=['Chahār Ţāq'], additional_information=['Population: 95 (2006 Census)', 'Families: 20']),\n",
       " Node(id=352, name='Chahar Taq Bon', description='Village in Siyahrud Rural District, Juybar County, Mazandaran Province, Iran', alias=['Chahār Ţāq Bon'], additional_information=['Population: 452 (2006 Census)', 'Families: 116']),\n",
       " Node(id=353, name='Chahar Taq, West Azerbaijan', description='Village in Afshar Rural District, Takab County, West Azerbaijan Province, Iran', alias=['Chahār Ţāq'], additional_information=['Population: 504 (2006 Census)', 'Families: 98']),\n",
       " Node(id=354, name='Chahar Taq, Jahrom', description='Village in Posht Par Rural District, Jahrom County, Fars Province, Iran', alias=['Chahār Ţāq'], additional_information=['Population: 223 (2006 Census)', 'Families: 54']),\n",
       " Node(id=355, name='Malian, Hamadan', description='Village in Kamazan-e Sofla Rural District, Malayer County, Hamadan Province, Iran', alias=['Malīān', 'Malīyān', 'Malyān', 'Melyan'], additional_information=['Population: 125 (2006 Census)', 'Families: 30']),\n",
       " Node(id=356, name='Chahar Taq, Chaharmahal and Bakhtiari', description='Village in Naghan Rural District, Kiar County, Chaharmahal and Bakhtiari Province, Iran', alias=['Chahār Ţāq'], additional_information=['Population: 210 (2006 Census)', 'Families: 50']),\n",
       " Node(id=357, name='Chahar Taq, Lamerd', description='Village in Kheyrgu Rural District, Lamerd County, Fars Province, Iran', alias=['Chahār Ţāq'], additional_information=['Population: 402 (2006 Census)', 'Families: 83']),\n",
       " Node(id=358, name='Mysterious Mr. Moto', description='1938 film in the Mr. Moto series', alias=['Mysterious Mr. Moto (1938)'], additional_information=['Fifth in a series of eight films starring Peter Lorre as Mr. Moto', 'Based on the character created by John P. Marquand', 'Original screenplay by Philip MacDonald and Norman Foster']),\n",
       " Node(id=359, name='Iva Stewart', description='American model and film actress', alias=[], additional_information=['Born 1914, died 1985', 'Miss Maine, competed in Miss America 1933', 'Had supporting roles in Hollywood films', 'Appeared in the Mr. Moto series']),\n",
       " Node(id=360, name='Mr. Moto Takes a Vacation', description='1939 film in the Mr. Moto series', alias=[], additional_information=['Directed by Norman Foster', 'Last Mr. Moto film starring Peter Lorre']),\n",
       " Node(id=361, name=\"Mr. Moto's Gamble\", description='Third film in the Mr. Moto series', alias=[], additional_information=['Originated as a Charlie Chan film', 'Changed to a Mr. Moto entry at the last minute']),\n",
       " Node(id=362, name=\"Mr. Moto's Last Warning\", description='Sixth film in the Mr. Moto series', alias=[], additional_information=['An original story featuring Mr. Moto', 'Starring Peter Lorre']),\n",
       " Node(id=363, name='The Return of Mr. Moto', description='1965 British crime film', alias=[], additional_information=['Also known as Mr. Moto and the Persian Oil Case', 'Directed by Ernest Morris and starring Henry Silva']),\n",
       " Node(id=364, name='Thank You, Mr. Moto', description='1937 film in the Mr. Moto series', alias=[], additional_information=['Directed by Norman Foster', 'Second film starring Peter Lorre', 'Based on the novel by John P. Marquand']),\n",
       " Node(id=365, name='Mr. Moto Takes a Chance', description='Fourth film in the Mr. Moto series', alias=[], additional_information=['Second film actually filmed', 'An original story by Norman Foster and Willis Cooper']),\n",
       " Node(id=366, name='Think Fast, Mr. Moto', description='First film in the Mr. Moto series', alias=[], additional_information=['Directed by Norman Foster', 'Stars Peter Lorre and features a mysterious Japanese detective']),\n",
       " Node(id=367, name='Norman Foster', description='American actor, film director and screenwriter', alias=[], additional_information=['Directed many Charlie Chan and Mr. Moto films', 'Born December 13, 1903 – July 7, 1976', 'Also known for his work with Orson Welles and Walt Disney']),\n",
       " Node(id=368, name='Gamtoos River', description='River in Eastern Cape Province, South Africa', alias=['Gamptoos River'], additional_information=['Formed by the confluence of Kouga River and Groot River']),\n",
       " Node(id=369, name='Samalá River', description='River in southwestern Guatemala', alias=[], additional_information=['Sources in the Sierra Madre, Valle De Écija range', 'Flows into the Pacific Ocean', 'Basin covers a territory with around 400,000 people']),\n",
       " Node(id=370, name='Salang River', description='438 kilometre long river in Afghanistan', alias=[], additional_information=['Flows through Parwan Province', 'Tributary of the Indus, Ghorband, Panjshir, and Kabul Rivers']),\n",
       " Node(id=371, name='Cobb Energy Performing Arts Centre', description='Performing arts venue in Atlanta, Georgia', alias=[], additional_information=['Opened on September 15, 2007', 'Owned by Cobb-Marietta Coliseum & Exhibit Hall Authority', 'Named after Cobb Energy Management Corp.']),\n",
       " Node(id=372, name='Itter (Eder)', description='River of Hesse, Germany', alias=[], additional_information=['Flows into the Edersee in Vöhl-Herzhausen']),\n",
       " Node(id=373, name='Santa Cruz Muluá', description='Municipality in Retalhuleu department of Guatemala', alias=[], additional_information=[\"Named from the ancient mayan word 'Mulaja'\", 'Contains several villages such as El Asintal, Los Brillantes, Boxoma, and Lolita']),\n",
       " Node(id=374, name='Peters Creek (Pennsylvania)', description='Tributary of the Monongahela River in Pennsylvania', alias=[], additional_information=['Part of the Ohio and Mississippi River watersheds']),\n",
       " Node(id=375, name='Düsseldorf-Himmelgeist', description='Part of Düsseldorf, Germany', alias=[], additional_information=['Dominated by agriculture', 'Adjacent to the Rhine River']),\n",
       " Node(id=376, name='Ascension Island', description='British Overseas Territory in the Atlantic Ocean', alias=[], additional_information=['Country Code: +247', 'International Call Prefix: 00']),\n",
       " Node(id=377, name='The Living Idol', description='1957 film', alias=[], additional_information=[]),\n",
       " Node(id=378, name='Fire Down Below', description='1957 Anglo-American adventure drama film', alias=['Fire Down Below (1957 film)'], additional_information=['Screenplay written by Irwin Shaw', 'Starring Rita Hayworth, Robert Mitchum, and Jack Lemmon', 'Directed by Robert Parrish', \"Based on Max Catto's 1954 novel\"]),\n",
       " Node(id=379, name='Robert Parrish', description='American film director, editor, writer, and child actor', alias=['Robert R. Parrish'], additional_information=['Born January 4, 1916 – Died December 4, 1995', \"Received Academy Award for Film Editing for 'Body and Soul' (1947)\"]),\n",
       " Node(id=380, name='Limbo', description='Popular dance contest from Trinidad', alias=[], additional_information=['Originated at wakes in Trinidad', 'Popularized by Julia Edwards', \"Performed in films like 'Fire Down Below' (1957)\"]),\n",
       " Node(id=381, name='Playing the Game', description='1918 American silent comedy-drama film', alias=[], additional_information=['Directed by Victor Schertzinger', 'Starring Charles Ray, Doris May, Harry L. Rattenberry, Robert McKim, William Elmer, and Leota Lorraine', 'Released on May 5, 1918 by Paramount Pictures']),\n",
       " Node(id=382, name='Victor Schertzinger', description='American composer, film director, film producer, and screenwriter', alias=[], additional_information=['Born April 8, 1888 – Died October 26, 1941', \"Known for 'Road to Singapore' and 'Road to Zanzibar'\"]),\n",
       " Node(id=383, name='Secrets of the Underground', description='1942 American crime film', alias=[], additional_information=['Directed by William Morgan', 'Written by Robert Tasker and Daniel Mainwaring', 'Stars John Hubbard, Virginia Grey, and others']),\n",
       " Node(id=384, name='William Morgan', description='London-born film director', alias=['William Morgan (1899–1964)'], additional_information=[]),\n",
       " Node(id=385, name='Ruth Weyher', description='German film actress of the silent era', alias=[], additional_information=['Born May 28, 1901 – Died January 27, 1983', 'Appeared in 60 films between 1920 and 1930']),\n",
       " Node(id=386, name='Dragons Gold', description='1954 film', alias=[], additional_information=[]),\n",
       " Node(id=387, name='Dharm Adhikari', description='1986 Bollywood Action film', alias=[], additional_information=['Produced by U.V. Suryanarayana Raju under Gopi Krishna Movies', 'Directed by K. Raghavendra Rao', 'Stars Dilip Kumar, Jeetendra, Rohini Hattangadi, Sridevi', \"Remake of Telugu movie 'Bobbili Brahmanna' (1984)\"]),\n",
       " Node(id=388, name='Cry Vengeance', description='1954 film noir crime film', alias=[], additional_information=['Directed and starred by Mark Stevens']),\n",
       " Node(id=389, name='The Human Jungle', description='1954 film noir crime film', alias=[], additional_information=['Directed by Joseph M. Newman', 'Starring Gary Merrill and Jan Sterling']),\n",
       " Node(id=390, name='K. Raghavendra Rao', description='Indian film director, producer, and screenwriter', alias=['Kovelamudi Raghavendra Rao'], additional_information=['Born 23 May 1942', 'Known for works in Telugu cinema', 'Received multiple Nandi Awards, Filmfare Awards']),\n",
       " Node(id=391, name='Hugo Haas', description='Czech film actor, director, and writer', alias=[], additional_information=['Born 19 February 1901 – 1 December 1968', 'Appeared in over 60 films from 1926 to 1962', 'Directed 20 films between 1933 and 1962']),\n",
       " Node(id=392, name='Jack Shea', description='American film and television director', alias=[], additional_information=['Born August 1, 1928 – April 28, 2013', 'President of Directors Guild of America from 1997 to 2002']),\n",
       " Node(id=393, name='Mark Lewis (filmmaker)', description='Australian documentary film and television producer, director and writer', alias=['Mark Lewis (born 1958 in Mullumbimby, Australia)'], additional_information=['Famous for his body of work on animals', 'Focuses on relationships between people and society and animals', 'Earned many awards, including BAFTA nomination and two Emmys']),\n",
       " Node(id=394, name='Morena Clara', description='1954 Spanish film', alias=[], additional_information=['Directed by Luis Lucia', 'Starring Lola Flores and Fernando Fernán Gómez']),\n",
       " Node(id=395, name='Bait (1954 film)', description='1954 American film noir drama film', alias=[], additional_information=['Written, directed and produced by Hugo Haas', 'Stars Hugo Haas, Cleo Moore, and John Agar']),\n",
       " Node(id=396, name='Silvio Amadio', description='Italian film director and screenwriter', alias=[], additional_information=['Born August 8, 1926 – August 19, 1995', 'Directed 24 films between 1957 and 1981', \"His film 'Wolves of the Deep' was entered into the 9th Berlin International Film Festival\", \"Known for directing 'Amuck!' (1972)\"]),\n",
       " Node(id=397, name='Sthree Sahasam', description='1951 Indian Tamil-language film', alias=['Strisahasam'], additional_information=['Originally produced in Telugu', 'Directed by Vedantam Raghavaiah', 'Stars Akkineni Nageswara Rao and Anjali Devi']),\n",
       " Node(id=398, name='That Malicious Age', description='1975 Italian coming-of-age drama', alias=['Quella età maliziosa'], additional_information=['Directed by Silvio Amadio', 'Features Nino Castelnuovo and Gloria Guida']),\n",
       " Node(id=399, name='Vedantam Raghavaiah', description='Indian film choreographer, method actor, Kuchipudi exponent, musician, director, and producer', alias=[], additional_information=['June 8, 1919 – 1971', 'Known for his works in Telugu cinema, Telugu theatre, and Tamil cinema', \"Directed successful films such as 'Devadasu' (1953), 'Annadata' (1954), 'Anarkali' (1955), 'Chiranjeevulu' (1956), 'Bhale Ramudu' (1956), 'Suvarna Sundari' (1957), 'Rahasyam' (1967)\"]),\n",
       " Node(id=400, name='Tom Shadyac', description='American director, screenwriter, producer, and author', alias=['Thomas Peter Shadyac (born December 11, 1958)'], additional_information=[\"Known for writing and directing comedies like 'The Nutty Professor', 'Liar Liar', 'Patch Adams', and 'Bruce Almighty'\", \"Documentary film 'I Am' explores his shift from comedic work due to a bicycle accident\", 'Former professor of communication at Pepperdine University', 'Participant in the Conference on World Affairs in 2011', 'Teaches film at the University of Colorado Boulder and University of Memphis']),\n",
       " Node(id=401, name='The Actors', description='2003 film written and directed by Conor McPherson', alias=[], additional_information=['Stars Dylan Moran and Michael Caine, with supporting roles from Michael Gambon, Miranda Richardson and Lena Headey', 'Contemporary comedy set in Dublin following two mediocre stage actors', 'Involves a plot to con a retired gangster out of £50,000', \"The film features a version of Shakespeare's 'Richard III' with everyone dressed in Nazi uniform\", 'Set in the Olympia Theatre']),\n",
       " Node(id=402, name='Liar Liar', description='1997 American fantasy comedy film directed by Tom Shadyac', alias=[], additional_information=['Written by Paul Guay and Stephen Mazur', 'Stars Jim Carrey, who was nominated for a Golden Globe Award for Best Actor in a Comedy', 'It is part of three collaborations between Carrey and Shadyac']),\n",
       " Node(id=403, name='Conor McPherson', description='Irish playwright, screenwriter and director', alias=['Conor McPherson (born August 6, 1971)'], additional_information=['Recognized with a doctorate of Literature, Honoris Causa, by University College Dublin in June 2013']),\n",
       " Node(id=404, name='Van Morrison', description='Northern Irish singer-songwriter Northern Irish singer-songwriter', alias=['Van Morrison'], additional_information=[\"Known for the song 'Behind the Ritual' included in the album 'Keep It Simple'.\", 'Prominent as the lead singer of the band Them.']),\n",
       " Node(id=405, name='Astral Weeks', description='Album by Van Morrison', alias=[], additional_information=['Released in 1968', 'Gradually garnered high praise after initial poor sales']),\n",
       " Node(id=406, name='Moondance', description='Album by Van Morrison', alias=[], additional_information=['Released in 1970', 'Established Morrison as a major artist']),\n",
       " Node(id=407, name=\"It's Too Late to Stop Now\", description='Live album by Van Morrison', alias=[], additional_information=[\"Often acclaimed along with 'Moondance' and 'Astral Weeks'\"]),\n",
       " Node(id=408, name='Veedon Fleece', description='Album by Van Morrison', alias=[], additional_information=[\"Feature of Morrison's spiritually inspired musical journeys\"]),\n",
       " Node(id=409, name='Common One', description='Album by Van Morrison', alias=[], additional_information=[\"Part of Morrison's catalogue of spiritually inspired music\"]),\n",
       " Node(id=410, name='Brown Eyed Girl', description='Popular single by Van Morrison', alias=[], additional_information=[]),\n",
       " Node(id=411, name=\"Jackie Wilson Said (I'm in Heaven)\", description='Popular single by Van Morrison', alias=[], additional_information=[]),\n",
       " Node(id=412, name='The Da Vinci Code', description='A novel by Dan Brown published in 2003.', alias=['The Da Vinci Code (novel)'], additional_information=[]),\n",
       " Node(id=413, name='Inferno', description='2016 American mystery action thriller film directed by Ron Howard.', alias=['Inferno (2016 film)'], additional_information=[\"Sequel to 'The Da Vinci Code' and 'Angels & Demons'\", 'Stars Tom Hanks as Robert Langdon', 'Released in the US on October 28, 2016']),\n",
       " Node(id=414, name='Robert Langdon', description='Fictional character, a Harvard symbologist. Fictional character, a Harvard symbologist', alias=['Robert Langdon'], additional_information=[\"Protagonist in 'The Da Vinci Code', 'Inferno', and 'Angels & Demons'\"]),\n",
       " Node(id=415, name='Angels & Demons', description='2009 American mystery thriller film directed by Ron Howard.', alias=['Angels & Demons (film)'], additional_information=[\"Based on Dan Brown's novel of the same title\", \"Sequel to 'The Da Vinci Code'\"]),\n",
       " Node(id=416, name='The Da Vinci Treasure', description='2006 direct-to-video mystery film produced by The Asylum.', alias=[], additional_information=[\"Considered a mockbuster of 'The Da Vinci Code'\"]),\n",
       " Node(id=417, name='The Norman Rockwell Code', description=\"2006 parody of 'The Da Vinci Code'.\", alias=[], additional_information=[]),\n",
       " Node(id=418, name='Forgotten', description='1933 American Pre-Code film directed by Richard Thorpe.', alias=[], additional_information=[]),\n",
       " Node(id=419, name='Pony Express', description='1953 American western film directed by Jerry Hopper.', alias=[], additional_information=['Stars Charlton Heston as Buffalo Bill', \"Based on the 1925 silent film 'The Pony Express'\"]),\n",
       " Node(id=420, name='The Da Vinci Code (film)', description='2006 American mystery thriller film', alias=[], additional_information=['Directed by Ron Howard', 'Written by Akiva Goldsman', \"Based on Dan Brown's novel\"]),\n",
       " Node(id=421, name='Tom Hanks', description='American actor', alias=[], additional_information=[]),\n",
       " Node(id=422, name='Audrey Tautou', description='French actress', alias=[], additional_information=[]),\n",
       " Node(id=423, name='Sir Ian McKellen', description='British actor', alias=[], additional_information=[]),\n",
       " Node(id=424, name='Alfred Molina', description='British-American actor', alias=[], additional_information=[]),\n",
       " Node(id=425, name='Jürgen Prochnow', description='German actor', alias=[], additional_information=[]),\n",
       " Node(id=426, name='Jean Reno', description='French actor', alias=[], additional_information=[]),\n",
       " Node(id=427, name='Paul Bettany', description='British actor', alias=[], additional_information=[]),\n",
       " Node(id=428, name='Jacques Saunière', description='Character in The Da Vinci Code, curator of the Louvre', alias=[], additional_information=[]),\n",
       " Node(id=429, name='Felix Luckeneder', description='Austrian footballer', alias=['Felix Luckeneder (born 21 March 1994)'], additional_information=['Plays for TSV Hartberg on loan from LASK Linz']),\n",
       " Node(id=430, name='Ron Wallace', description='American poet', alias=['Ron Wallace (poet)'], additional_information=['Felix Pollak Professor of Poetry and Halls-Bascom Professor of English at the University of Wisconsin-Madison']),\n",
       " Node(id=431, name='Ronald Wallace', description='American poet', alias=['Ronald Wallace (poet)'], additional_information=['Felix Pollak Professor of Poetry and Halls-Bascom Professor of English at the University of Wisconsin-Madison']),\n",
       " Node(id=432, name='John B. Earle', description='U.S. Representative from South Carolina', alias=['John Baylis Earle (October 23, 1766 – February 3, 1836)'], additional_information=['Nephew of Elias Earle', 'Cousin of Samuel Earle']),\n",
       " Node(id=433, name='Sam Earle', description='Canadian actor', alias=[], additional_information=['Best known for his role as K.C. Guthrie', 'Son of actor Chris Earle and theatre director Shari Hollett']),\n",
       " Node(id=434, name='Godwin Davy', description='Anguillan international footballer Anguillan international footballer', alias=['Godwin Davy (born 15 December 1979)', 'Godwin Davy'], additional_information=['Played as a goalkeeper', 'Made international debut in a World Cup qualifying match against El Salvador']),\n",
       " Node(id=435, name='Kass Morgan', description='American author and editor', alias=[], additional_information=[\"Best known for 'The 100' book series\", 'Attended Brown University', 'Earned a Masters at Oxford in 19th century literature']),\n",
       " Node(id=436, name='Noah Feldman', description='American author and professor', alias=[], additional_information=['Felix Frankfurter Professor of Law at Harvard Law School', 'Analyzes law and religion']),\n",
       " Node(id=437, name='Chris Earle', description='Canadian actor and playwright', alias=['Christopher Earle'], additional_information=[\"Best known for the play 'Radio:30'\", 'Married to actress Shari Hollett']),\n",
       " Node(id=438, name='Justin Townes Earle', description='American singer-songwriter', alias=[], additional_information=['Born January 4, 1982', 'Son of country artist Steve Earle', 'Named after Townes Van Zandt']),\n",
       " Node(id=439, name='Rubber Racketeers', description='1942 American crime film', alias=[], additional_information=['Directed by Harold Young', 'Starring Ricardo Cortez and Rochelle Hudson', 'Inspired by tire rationing']),\n",
       " Node(id=440, name='Harold Young', description='American film director, editor, and occasional actor', alias=['Harold Young (November 13, 1897 – March 3, 1972)'], additional_information=['Born in Portland, Oregon', 'Active as a film editor from 1923-1934', \"Known for 'The Scarlet Pimpernel' (1934)\"]),\n",
       " Node(id=441, name='Slave Lake Airport', description='Airport located adjacent to Slave Lake, Alberta, Canada.', alias=[], additional_information=[]),\n",
       " Node(id=442, name='Lesser Slave Lake', description='Lake located in central Alberta, Canada, northwest of Edmonton.', alias=[], additional_information=['Second largest lake entirely within Alberta boundaries', 'Largest easily accessible by vehicle', 'Drains eastwards into the Athabasca River by way of the Lesser Slave River']),\n",
       " Node(id=443, name='Slave Lake', description='Town in northern Alberta, Canada, near Lesser Slave Lake.', alias=[], additional_information=['Located at the junction of Highway 2 and Highway 88', 'Administrative office for the Sawridge First Nation reserve is here']),\n",
       " Node(id=444, name='Municipal District of Lesser Slave River No. 124', description='Municipal district in north-central Alberta, Canada.', alias=[], additional_information=['Municipal office is located in Slave Lake', 'Takes its name from Lesser Slave River']),\n",
       " Node(id=445, name='McArthur Lake', description='Lake in the Northwest Territories, Canada.', alias=['Clowey Lake'], additional_information=['Located on the Taltson River east of Great Slave Lake']),\n",
       " Node(id=446, name='Lesser Slave Lake Provincial Park', description='Provincial park and birdwatching area in Alberta, Canada.', alias=[], additional_information=['Located on the north-eastern shore of Lesser Slave Lake']),\n",
       " Node(id=447, name='Daisy Lake', description='Lake in the Northwest Territories, Canada.', alias=[], additional_information=['Located in the Arctic Ocean and Great Slave Lake drainage basins', 'Lies southeast of Fort Reliance']),\n",
       " Node(id=448, name='Medeweger See', description='Lake in Mecklenburg-Vorpommern, Germany.', alias=[], additional_information=['Surface area of 0.95 km², elevation of 39.4 m']),\n",
       " Node(id=449, name='Marten Beach', description='Hamlet in northern Alberta, Canada, within the Municipal District of Lesser Slave River No. 124.', alias=[], additional_information=['Located on the northeast shore of Lesser Slave Lake', 'Adjacent to Lesser Slave Lake Provincial Park']),\n",
       " Node(id=450, name='South Heart River', description='River in Alberta, Canada.', alias=[], additional_information=['Largest river flowing into Lesser Slave Lake']),\n",
       " Node(id=451, name='M. K. Arjunan', description='Malayalam music composer from Kerala, India', alias=['M. K. Arjunan', 'Arjunan Master'], additional_information=['Kerala State Award winner', 'Known for composing melodies for Malayalam cinema']),\n",
       " Node(id=452, name='Amedeo Escobar', description='Italian composer of film scores Italian composer of film scores', alias=['Amedeo Escobar (1888–1973)', 'Amedeo Escobar'], additional_information=[]),\n",
       " Node(id=453, name='Avidathe Pole Ivideyum', description='1985 Indian Malayalam drama film', alias=[], additional_information=['Directed by K. S. Sethumadhavan', 'Written by John Paul from a story by C. Radhakrishnan', 'Stars Mammootty, Mohanlal, Shobhana, and Kavita Thakur', 'Score composed by M. K. Arjunan', 'Focuses on the family life of two friends and their marriages']),\n",
       " Node(id=454, name='Mabels Latest Prank', description='1914 film starring and co-directed by Mabel Normand and Mack Sennett', alias=[], additional_information=[]),\n",
       " Node(id=455, name='Alsino and the Condor', description='1982 Nicaraguan film directed by Miguel Littín Film directed by Miguel Littín based on the novel by Pedro Prado', alias=['Alsino and the Condor'], additional_information=['Nominated for the Academy Award for Best Foreign Language Film', 'Won Golden Prize at the 13th Moscow International Film Festival', 'Co-production between Nicaragua, Mexico and Cuba', \"Loosely based on the novel 'Alsino' by Pedro Prado\", 'Comes the comeback film of Dean Stockwell']),\n",
       " Node(id=456, name='Cold Breath', description='2017 film directed by Abbas Raziji', alias=[], additional_information=[]),\n",
       " Node(id=457, name='Nils-Eric Gustafsson', description='Swedish politician and member of the Centre Party', alias=[], additional_information=['Born December 30, 1922 – 2017']),\n",
       " Node(id=458, name='1922', description=\"2017 American horror drama film based on Stephen King's novella\", alias=[], additional_information=['Written and directed by Zak Hilditch', 'Starring Thomas Jane, Neal McDonough, and Molly Parker', 'Released on Netflix on October 20, 2017']),\n",
       " Node(id=459, name='The Legend of the Condor Heroes', description='Wuxia novel by Jin Yong (Louis Cha)', alias=[], additional_information=[\"First part of the 'Condor Trilogy'\", 'First serialized between January 1, 1957, and May 19, 1959', 'Revised twice, first in the 1970s and later in the 2000s', \"Translation published in February 2018 as 'A Hero Born'\"]),\n",
       " Node(id=460, name='Six Days of the Condor', description='Thriller novel by James Grady', alias=[], additional_information=['First published in 1974', 'Set in contemporary Washington, D.C.', \"Different from the 1975 film 'Three Days of the Condor'\", \"Followed by 'Shadow of the Condor' in 1978\", 'Two more sequels released in 2014 and 2015']),\n",
       " Node(id=461, name='Boeing Condor', description='High-tech test bed aerial reconnaissance unmanned aerial vehicle', alias=[], additional_information=['Wingspan of over 200 feet', 'Made of Carbon-fibre composite materials', 'Not unobservable and vulnerable for military operations', 'Completely robotic with an onboard computer to control missions', 'Set a world piston-powered aircraft altitude record in 1989']),\n",
       " Node(id=462, name='Miguel Littín', description='Chilean film director, screenwriter, film producer and novelist', alias=['Miguel Ernesto Littin Cucumides (born 9 August 1942)'], additional_information=[\"Directed 'El Chacal de Nahueltoro' (1969)\", 'Exiled in Mexico after the Pinochet coup', \"Director of 'The Promised Land'\", \"Worked in Nicaragua with 'Alsino and the Condor'\"]),\n",
       " Node(id=463, name='Hernán Littin', description='Palestinian father of Miguel Littín', alias=[], additional_information=[]),\n",
       " Node(id=464, name='Cristina Cucumides', description='Greek mother of Miguel Littín', alias=[], additional_information=[]),\n",
       " Node(id=465, name='Augusto Pinochet', description='Chilean military leader who overthrew Salvador Allende', alias=[], additional_information=['Came to power on September 11, 1973']),\n",
       " Node(id=466, name='Salvador Allende', description='Democratically elected socialist president of Chile', alias=[], additional_information=[]),\n",
       " Node(id=467, name='El Chacal de Nahueltoro', description='Chilean film directed by Miguel Littín', alias=[], additional_information=['Considered the most popular Chilean film of all time']),\n",
       " Node(id=468, name='The Promised Land', description='1973 film directed by Miguel Littín', alias=[], additional_information=['Entered in Cannes Film Festival and New York Film Festival']),\n",
       " Node(id=469, name='Tierra del Fuego', description='Film directed by Miguel Littín', alias=[], additional_information=[\"Based on explorer Julius Popper's adventures\"]),\n",
       " Node(id=470, name='Dawson, Isla 10', description='Film directed by Miguel Littín', alias=[], additional_information=['About political prisoners on Dawson Island']),\n",
       " Node(id=471, name='Edmund Lamb', description='English landowner and politician', alias=['Edmund George Lamb MA FCS FRGS'], additional_information=['Born 8 July 1863', 'Died 3 January 1925']),\n",
       " Node(id=472, name='George Lamb (politician)', description='British politician and writer', alias=['The Hon. George Lamb'], additional_information=['Born 11 July 1784', 'Died 2 January 1834', 'Youngest son of Peniston Lamb, 1st Viscount Melbourne']),\n",
       " Node(id=473, name='Peniston Lamb, 1st Viscount Melbourne', description='British politician and statesman', alias=[], additional_information=['Born 29 January 1745', 'Died 22 July 1828', 'Father of Prime Minister William Lamb, 2nd Viscount Melbourne']),\n",
       " Node(id=474, name='George Hannah (footballer, born 1914)', description='English footballer', alias=[], additional_information=['Born 25 September 1914', 'Died 1977']),\n",
       " Node(id=475, name='Brian Saunders (weightlifter)', description='Male weightlifter who competed for England', alias=[], additional_information=['Date of birth and death unknown']),\n",
       " Node(id=476, name='Mike Huether', description='American philanthropist and politician from South Dakota', alias=['Mike Huether'], additional_information=['Mayor of Sioux Falls from 2010 to 2018']),\n",
       " Node(id=477, name='Pepsi Battle of the Bands', description='Pakistani television series originally based on the concept of Battle of the Bands', alias=['Pepsi Battle of the Bands'], additional_information=['First aired in 2002 on PTV Home', 'Revived in 2017']),\n",
       " Node(id=478, name='Mobile Suit Gundam (1995 video game)', description='Video game developed by Sunrise and published by Bandai for the PlayStation', alias=['Mobile Suit Gundam'], additional_information=[]),\n",
       " Node(id=479, name='Sunrise equation', description='Equation used to derive the time of sunrise and sunset', alias=[], additional_information=['Used for any solar declination and latitude']),\n",
       " Node(id=480, name='Battle of the Bands (disambiguation)', description=\"Contest in which two or more bands compete for the title of 'best band'\", alias=['Battle of the Bands'], additional_information=[]),\n",
       " Node(id=481, name='Solfilmen', description='Weather program broadcast on SVT2 showing sunrise and sunset times', alias=[], additional_information=['Started in March 1963 in Black-and-White format', 'Began color broadcasting in January 1969']),\n",
       " Node(id=482, name='Kingston Falls', description='American Christian hardcore band from Goshen, Indiana', alias=[], additional_information=['Formed in 2003, disbanded in 2009', 'Members include John Busenbark, Brent Zebell, Josiah Gaut, Josh Battles, and Jason Gough']),\n",
       " Node(id=483, name='Cinematic Sunrise', description='Pop punk American band signed to Equal Vision Records', alias=[], additional_information=['Members included Craig Owens and Bradley Bell']),\n",
       " Node(id=484, name='King of Thorn', description='Feature anime film adaptation produced by Sunrise', alias=[], additional_information=['Directed by Kazuyoshi Katayama', 'Released on May 1, 2010']),\n",
       " Node(id=485, name='Kerrs Building', description='Heritage-listed shop in Childers, Bundaberg Region, Queensland, Australia', alias=[], additional_information=['Added to the Queensland Heritage Register on 25 June 1993']),\n",
       " Node(id=486, name='Master Stroke', description='1967 Italian crime film', alias=[], additional_information=['Directed by Michele Lupo and starring Richard Harrison']),\n",
       " Node(id=487, name='Michele Lupo', description='Italian film director (1932-1989)', alias=[], additional_information=['Directed 23 films between 1962 and 1982', 'Born in Corleone, Italy']),\n",
       " Node(id=488, name='Carnival of Souls (Buffy novel)', description=\"Original novel based on the TV series 'Buffy the Vampire Slayer'\", alias=[], additional_information=[]),\n",
       " Node(id=489, name='The Ship of Souls (film)', description='1925 silent 3-D western directed by Charles Miller', alias=[], additional_information=['Based on the western novel by Emerson Hough', 'Produced by Max O. Miller']),\n",
       " Node(id=490, name='Carnival of Souls (disambiguation)', description=\"Points to various references for 'Carnival of Souls'\", alias=[], additional_information=[]),\n",
       " Node(id=491, name='Carnival of Souls (1998 film)', description='1998 American horror film, remake of the original', alias=['Wes Craven Presents Carnival of Souls'], additional_information=['Stars Bobbie Phillips and Larry Miller', 'Directed by Adam Grossman and Ian Kessner', 'Executive produced by Wes Craven']),\n",
       " Node(id=492, name='Uvanga', description='2013 Canadian drama film', alias=[], additional_information=['Written and directed by Marie-Hélène Cousineau and Madeline Ivalu', 'Stars Marianne Farley as Anna', 'Explores Inuit heritage and family dynamics']),\n",
       " Node(id=493, name='Carnival of Souls: The Final Sessions', description='Seventeenth studio album by American rock band Kiss', alias=[], additional_information=['Released in 1997', 'Final album with lead guitarist Bruce Kulick']),\n",
       " Node(id=494, name='Journey of Souls', description=\"Various references associated with the phrase 'Journey of Souls'\", alias=[], additional_information=[]),\n",
       " Node(id=495, name='Carnival of Souls (1962 film)', description='1962 American independent horror film directed by Herk Harvey', alias=[], additional_information=['Stars Candace Hilligoss', 'Plot follows a young woman disturbed after a car accident', 'Has a large cult following, noted for its influence on filmmakers']),\n",
       " Node(id=496, name='Bridge of Souls', description=\"Various references associated with the phrase 'Bridge of Souls'\", alias=[], additional_information=[]),\n",
       " Node(id=497, name='Panda (Astro song)', description='Song by the Chilean band Astro', alias=[], additional_information=[\"Fifth song from the album 'Panda' released in 2011.\", 'Written and produced by Andrés Nusser.', 'Released as the third single on February 1, 2013.']),\n",
       " Node(id=498, name='Frankie Laine', description='American singer, songwriter, and actor American singer and actor known for his popular recordings', alias=['Frank Francesco Paolo LoVecchio', 'Frankie Laine'], additional_information=['Born March 30, 1913 – February 6, 2007.', \"Known for hits like 'That's My Desire', 'Mule Train', and 'High Noon'.\", 'Sang theme songs for many movie Western soundtracks.']),\n",
       " Node(id=499, name='Stormtroopers of Death', description='Crossover thrash band formerly led by Billy Milano', alias=[], additional_information=['Milano was the singer of this band.']),\n",
       " Node(id=500, name='United Forces', description='Band featuring Billy Milano', alias=[], additional_information=['Also featured his Stormtroopers of Death bandmate Dan Lilker.']),\n",
       " Node(id=501, name='Hummingbird', description='Popular song written by Don Robertson released in 1955', alias=['Hummingbird (1955 song)'], additional_information=['Best-known version by Les Paul and Mary Ford', 'Recorded on July 9, 1955', 'Capitol Records catalog number 3165', 'Reached #7 on the Billboard chart', 'Frankie Laine recorded a version reaching #17']),\n",
       " Node(id=502, name='Les Paul and Mary Ford', description='Famous musical duo known for their hits in the 1950s', alias=['Les Paul', 'Mary Ford'], additional_information=[\"Best known for their version of 'Hummingbird'\", 'Recorded film songs together']),\n",
       " Node(id=503, name='The Chordettes', description='All-female vocal group known for their hit songs in the 1950s', alias=[], additional_information=[\"Recorded a version of 'Hummingbird'\", 'Cadence Records catalog number 1267', 'Reached #6 on Cash Box chart']),\n",
       " Node(id=504, name='German band', description='Band Astrid North was associated with', alias=[], additional_information=['Released five albums together', 'Astrid North published three albums as a guest singer']),\n",
       " Node(id=505, name='Bahadur Shah Zafar', description='Last Mughal emperor of India Last Mughal emperor of India', alias=['Bahadur Shah Zafar', 'Bahadur Shah II', 'Mirza Abu Zafar Siraj-ud-din Muhammad (24 October 1775 – 7 November 1862)'], additional_information=['Reigned from 1837 to 1857', 'Deposed by the British after the Indian Rebellion of 1857']),\n",
       " Node(id=506, name='Akbar II', description='Father of Bahadur Shah Zafar, last Mughal emperor', alias=[], additional_information=['Imprisoned by the British', 'Did not prefer Zafar as successor']),\n",
       " Node(id=507, name='Mumtaz Begum', description=\"One of Akbar II's queens\", alias=[], additional_information=['Pushed for her son Mirza Jahangir to be declared successor']),\n",
       " Node(id=508, name='Mirza Jahangir', description='Son of Mumtaz Begum', alias=[], additional_information=['Exiled by the East India Company after attacking their resident']),\n",
       " Node(id=509, name='Mirza Mehdy Ispahani', description='Chairman of M.M. Ispahani from 1949 till 2004', alias=['Sadri Ispahani'], additional_information=['Born 1923, died 2004', 'Son of Mirza Ahmad Ispahani']),\n",
       " Node(id=510, name='Mirza Ali Behrouze Ispahani', description='Chairman of M.M. Ispahani in 2004', alias=[], additional_information=['Son of Mirza Mehdy Ispahani']),\n",
       " Node(id=511, name='Malik Muhammad Khan', description='Second khan of Baku', alias=[], additional_information=['Son of Mirza Muhammad Khan']),\n",
       " Node(id=512, name='Mirza Farkhunda Shah', description='Son of Mughal emperor Bahadur Shah II', alias=['Mirza Bulaqi Sahib'], additional_information=['Died June 1842']),\n",
       " Node(id=513, name='Mirza Faiz Muhammad', description='Indian nobleman and official in the Mughal empire', alias=['Azādud Daulah'], additional_information=['Descendant of Mirza Hadi Baig', 'Great-great-grandfather of Mirza Ghulam Ahmad of Qadian']),\n",
       " Node(id=514, name='Place of Birth', description='The place where a person was born. Often used in legal documents to uniquely identify a person. Defines the location where a person was born, often used in legal documents.', alias=['Place of Birth'], additional_information=['Determined by the current country sovereignty over the birthplace.', 'Not necessarily where the parents live.', 'In some cases, the location of birth (e.g., hospital) is considered the place of birth.']),\n",
       " Node(id=515, name='Irshad Mirza', description='Indian industrialist and executive chairman of Mirza.', alias=[], additional_information=[]),\n",
       " Node(id=516, name='Mirza Gul Muhammad', description='Indian military official in the Mughal Empire and chief of Qadian.', alias=['Mirza Gul Muhammad (d. 1800)'], additional_information=['Grandfather of Mirza Ghulam Murtaza.']),\n",
       " Node(id=517, name='Mirza Ghulam Murtaza', description='Father of Mirza Ghulam Ahmad.', alias=[], additional_information=[]),\n",
       " Node(id=518, name='Mirza Ghulam Ahmad', description='Notable figure in the Ahmadiyya Muslim Community.', alias=[], additional_information=[]),\n",
       " Node(id=519, name='La Torre de los suplicios', description='1941 Mexican film', alias=['The Tower of Torture'], additional_information=['Stars Luis Alcoriza']),\n",
       " Node(id=520, name='The Trail of the Lonesome Pine', description='1916 American silent drama film 1936 American romance film 1923 American silent drama film', alias=['The Trail of the Lonesome Pine'], additional_information=['Directed by Cecil B. DeMille', 'Based on the novel by Eugene Walter', 'Charlotte Walker reprised her role from Broadway production', 'Survives in the archives of George Eastman House']),\n",
       " Node(id=521, name='Curly Ray Cline', description='American bluegrass fiddler', alias=[], additional_information=['Born January 10, 1923 – August 19, 1997', 'Known for work with Lonesome Pine Fiddlers and Ralph Stanley']),\n",
       " Node(id=522, name='Charles Maigne', description='American screenwriter and film director', alias=[], additional_information=['November 11, 1879 – November 28, 1929', 'Wrote 32 films between 1916 and 1928', 'Directed 18 films between 1918 and 1923', 'Born in Richmond, Virginia, died in San Francisco, California']),\n",
       " Node(id=523, name='Emilio Carrere', description='Spanish writer', alias=[], additional_information=['Born December 18, 1881 - Died April 30, 1947', \"Best known for the gothic historical novel 'La torre de los siete jorobados'\"]),\n",
       " Node(id=524, name='Fanny Gautier', description='Spanish actress', alias=['Fanny Solórzano Gautier'], additional_information=['Born November 21, 1970, in Madrid, Spain', \"Famous for role of Alicia Jauregi in 'Un paso adelante'\"]),\n",
       " Node(id=525, name='Tomás Fernández', description='Cuban footballer', alias=['Tomás Fernández Ruiz'], additional_information=['Born 1915, date of death unknown']),\n",
       " Node(id=526, name='La torre de Suso', description='2007 Spanish comedy film', alias=[], additional_information=['Written and directed by Tomás Fernández', 'Film stars Javier Cámara, Gonzalo de Castro, Malena Alterio, and Emilio Gutiérrez Caba']),\n",
       " Node(id=527, name='Ralph Murphy', description='American film director', alias=['Ralph Murphy (May 1, 1895 – February 10, 1967)'], additional_information=['Born in Rockville, Connecticut', 'Active from 1931 through 1962', 'Married to Gloria Dickson from 1941-44']),\n",
       " Node(id=528, name='Rumbi Katedza', description='Zimbabwean film producer and director', alias=[], additional_information=['Born on January 17, 1974']),\n",
       " Node(id=529, name='Edward J. Yates', description='American television director', alias=['Edward Yates (September 16, 1918 – June 2, 2006)'], additional_information=[\"Director of 'American Bandstand' from 1952 until 1969\"]),\n",
       " Node(id=530, name='Night by the Seashore', description='1981 Finnish drama film', alias=[], additional_information=['Directed by Erkko Kivikoski', 'Entered into the 12th Moscow International Film Festival, won a Special Diploma']),\n",
       " Node(id=531, name='Erkko Kivikoski', description='Finnish film director and screenwriter', alias=['Erkko Kivikoski (July 2, 1936 – August 11, 2005)'], additional_information=['Directed nine films between 1962 and 1981', \"His film 'Kesällä kello 5' was entered into the 14th Berlin International Film Festival\"]),\n",
       " Node(id=532, name='Hassan Zee', description='Pakistani-American film director', alias=[], additional_information=['Born in Chakwal, Pakistan']),\n",
       " Node(id=533, name='Bomba and the Jungle Girl', description=\"1952 film in the 'Bomba, the Jungle Boy' series\", alias=[], additional_information=['Eighth film out of twelve in the series']),\n",
       " Node(id=534, name='Glamour Boy', description='1941 American comedy film', alias=[], additional_information=['Directed by Ralph Murphy', 'Written by Val Burton, F. Hugh Herbert, and Bradford Ropes', 'Stars Jackie Cooper, Susanna Foster, Walter Abel, and others', 'Released by Paramount Pictures on December 5, 1941']),\n",
       " Node(id=535, name='W. Augustus Barratt', description='Scottish-born, later American songwriter and musician', alias=[], additional_information=['Lived from 1873 to 1947']),\n",
       " Node(id=536, name='Socrates', description='Classical Greek philosopher and founder of Western philosophy Classical Greek philosopher and founder of Western philosophy', alias=['Socrates (– 399 BC)', 'Socrates'], additional_information=['Credited as the first moral philosopher of the Western ethical tradition', 'Known through accounts by Plato and Xenophon', 'Influenced later philosophers']),\n",
       " Node(id=537, name='Beaulieu-sur-Loire', description='Commune in the Loiret department in France', alias=[], additional_information=['Place of death of Jacques MacDonald, a French general', 'Located in north-central France']),\n",
       " Node(id=538, name='Valley of Death', description='Term referring to various contexts', alias=[], additional_information=['May refer to multiple locations or concepts']),\n",
       " Node(id=539, name='Sennedjem', description='Ancient Egyptian artisan and tomb owner', alias=[], additional_information=['Lived in Set Maat, contemporary Deir el-Medina.', 'Buried with his wife, Iyneferti, and family in a village necropolis.', 'Tomb discovered on January 31, 1886.']),\n",
       " Node(id=540, name='Iyneferti', description='Wife of ancient Egyptian artisan Sennedjem', alias=[], additional_information=['Buried in the same tomb as Sennedjem.']),\n",
       " Node(id=541, name='Lamprocles', description='Referenced figure, details unspecified Son of Socrates and Xanthippe', alias=['Lamprocles'], additional_information=[]),\n",
       " Node(id=542, name='Seti I', description='Ancient Egyptian pharaoh', alias=[], additional_information=[]),\n",
       " Node(id=543, name='Ramesses II', description='Ancient Egyptian pharaoh', alias=[], additional_information=[]),\n",
       " Node(id=544, name='Deir el-Medina', description='Ancient Egyptian village and archaeological site', alias=[], additional_information=['Known for its artisans and workers of the royal tombs.', 'Located on the west bank of the Nile, opposite Thebes.']),\n",
       " Node(id=545, name='Xanthippe', description='Wife of Socrates', alias=[], additional_information=['Known for her temperamental character', \"Mother of Socrates' children\"]),\n",
       " Node(id=546, name='Menexenus', description='Son of Socrates', alias=[], additional_information=[\"One of Socrates' two brothers\"]),\n",
       " Node(id=547, name='Sophroniscus', description='Son of Socrates', alias=[], additional_information=[\"One of Socrates' two brothers\"]),\n",
       " Node(id=548, name='Lima Barreto', description='Brazilian film director and screenwriter', alias=['Lima Barreto (23 June 1906 – 23 November 1982)'], additional_information=['Directed six films between 1940 and 1961', \"His film 'O Cangaceiro' was entered into the 1953 Cannes Film Festival\"]),\n",
       " Node(id=549, name='The First Mass', description='1961 Brazilian drama film directed by Lima Barreto', alias=[], additional_information=[\"Based on Nair Lacerda's short story 'Nhá Colaquinha Cheia de Graça'\", 'Entered into the 1961 Cannes Film Festival']),\n",
       " Node(id=550, name='Albert Thompson', description='Welsh footballer Welsh footballer', alias=['Albert Thompson (born 1912, date of death unknown)', 'Albert Thompson', 'Albert Thompson (born 1912; date of death unknown)'], additional_information=[]),\n",
       " Node(id=551, name='Mario Soldati', description='Italian writer and film director', alias=['Mario Soldati (17 November 1906 – 19 June 1999)'], additional_information=[\"Won the Strega Prize for 'Lettere da Capri' in 1954\", \"Directed 'Escape to France' (1948)\"]),\n",
       " Node(id=552, name='Escape to France', description='1948 Italian drama film', alias=['Fuga in Francia'], additional_information=['Directed by Mario Soldati', 'Starring Folco Lulli, Enrico Olivieri, and Rosi Mirafiore']),\n",
       " Node(id=553, name='Kim Se-yol', description='South Korean former competitive figure skater', alias=['Kim Se-yol (Korean: 김세열)'], additional_information=['Competed at the 1992 World Championships and finished 31st', 'Became a coach and choreographer after retiring', 'Current and former students include Lee Kyu-hyun, Kim Yuna, and Lee Dong-whun']),\n",
       " Node(id=554, name='J. Lee', description='American actor, writer, and musician', alias=['J Lee'], additional_information=[\"Known for playing Lt. John LaMarr on 'The Orville'\"]),\n",
       " Node(id=555, name='Euna Lee', description='Korean American journalist Korean American journalist who has worked for Current TV since 2005', alias=['Euna Lee (Hangul: 리유나)', 'Euna Lee'], additional_information=['Born 1972', 'Worked for Current TV since 2005', 'Detained in North Korea in 2009', \"Pardoned by North Korean government after Bill Clinton's visit\", 'Graduated from Columbia University Graduate School of Journalism in 2012']),\n",
       " Node(id=556, name='Bill Clinton', description='Former President of the United States Former President of the United States', alias=['Bill Clinton'], additional_information=['Visited North Korea in an attempt to secure the release of Euna Lee and Laura Ling']),\n",
       " Node(id=557, name='Laura Ling', description='American journalist American journalist detained in North Korea', alias=['Laura Ling'], additional_information=['Detained in North Korea alongside Euna Lee']),\n",
       " Node(id=558, name='The Art of Woo', description='2001 Canadian romantic comedy film', alias=[], additional_information=['Written and directed by Helen Lee', 'Starring Sook-Yin Lee and Adam Beach']),\n",
       " Node(id=559, name='Pete Carril', description='American former basketball coach', alias=['Peter Joseph Carril'], additional_information=['Born July 10, 1930', 'Known for his time as head coach at Princeton University for 30 years', 'Utilized the Princeton offense']),\n",
       " Node(id=560, name='Sydney Smith Lee', description='American naval officer', alias=[], additional_information=['September 2, 1802 – July 22, 1869', 'Served as a captain in the Confederate States Navy during the American Civil War', 'Older brother of Confederate general Robert E. Lee']),\n",
       " Node(id=561, name='Phil Ryan', description='Welsh keyboardist and composer', alias=[], additional_information=['October 21, 1946 – April 30, 2016', 'Best known for his work with Man and Pete Brown']),\n",
       " Node(id=562, name='Ashes and Diamonds', description='1958 Polish drama film directed by Andrzej Wajda', alias=['Ashes and Diamonds (film)', 'Popiół i diament'], additional_information=['Based on the 1948 novel by Jerzy Andrzejewski', 'Starring Zbigniew Cybulski and Ewa Krzyżewska', \"Part of Wajda's war trilogy\"]),\n",
       " Node(id=563, name='Maciek Chełmicki', description=\"Main protagonist of 'Ashes and Diamonds'\", alias=[], additional_information=['Former Home Army soldier', 'Tasked with killing Szczuka, a local secretary']),\n",
       " Node(id=564, name='Andrzej Wajda', description='Polish film director', alias=[], additional_information=[\"Directed 'Ashes and Diamonds'\", 'Known for war films']),\n",
       " Node(id=565, name='Harald Reinl', description='Austrian film director', alias=['Harald Reinl (8 July 1908 – 9 October 1986)'], additional_information=['Known for films based on Edgar Wallace and Karl May books', 'Stabbed to death in Tenerife in 1986']),\n",
       " Node(id=566, name='Blood and Diamonds', description='1978 Italian crime film directed by Fernando di Leo', alias=[], additional_information=[]),\n",
       " Node(id=567, name='Death and Diamonds', description='1968 German thriller film directed by Harald Reinl', alias=[], additional_information=['Part of the Jerry Cotton series']),\n",
       " Node(id=568, name='J. P. McGowan', description='Pioneering Hollywood actor, director, screenwriter, and producer.', alias=['John Paterson McGowan (February 24, 1880 – March 26, 1952)', 'J. P. McGowan'], additional_information=['Only Australian to have been made a life member of the Screen Directors Guild.']),\n",
       " Node(id=569, name='Cheesa', description='Filipina-American Pop/R&B singer and songwriter.', alias=['Cheesa Laureta (born August 4, 1990)'], additional_information=[\"Known for her run on NBC's 'The Voice' in 2012.\", \"Released the single 'I’m Not Perfect (feat. Charice)' and her debut album 'NAKED'.\"]),\n",
       " Node(id=570, name='Fernando Costilla', description='Spanish television personality and voice actor.', alias=['Fernando Costilla (born 1972)'], additional_information=[\"Known for voice work on 'Takeshi's Castle WWE Raw' and 'WWE SmackDown'.\"]),\n",
       " Node(id=571, name='The Voice in the Fog', description='Lost 1916 silent film directed by J. P. McGowan.', alias=[], additional_information=['Produced by Jesse Lasky and distributed by Paramount Pictures.']),\n",
       " Node(id=572, name='A Face in the Fog', description='1936 American film directed by Robert F. Hill.', alias=[], additional_information=[]),\n",
       " Node(id=573, name='St. Mary High School (Rutherford, New Jersey)', description='Four-year Roman Catholic high school in Rutherford, NJ.', alias=[], additional_information=['Accredited by the Middle States Association since 2004', 'Established in September 1929', 'Opened on November 5, 1932', 'Enrollment of 225 students (2015-16)', 'Student-teacher ratio of 10.2:1']),\n",
       " Node(id=574, name='St. Teresa High School (Decatur, Illinois)', description='Private Roman Catholic high school in Decatur, Illinois.', alias=[], additional_information=['Part of the Roman Catholic Diocese of Springfield in Illinois']),\n",
       " Node(id=575, name='St. Vincent–St. Mary High School', description='Co-educational college preparatory Catholic high school in Akron, Ohio.', alias=[], additional_information=[]),\n",
       " Node(id=576, name='St. Marys High School (Lynn, Massachusetts)', description='Private Roman Catholic high school in Lynn, Massachusetts.', alias=[], additional_information=['Located in the Roman Catholic Archdiocese of Boston']),\n",
       " Node(id=577, name='St. Marys High School, Quetta', description='High school located in Quetta, Pakistan.', alias=[], additional_information=[]),\n",
       " Node(id=578, name='St. Marys High School, Jorhat', description='High school in Jorhat, Assam, India.', alias=[], additional_information=[]),\n",
       " Node(id=579, name='St. Mary High School (Royal Oak, Michigan)', description='Coeducational Catholic high school in Royal Oak, Michigan, closed in 1985.', alias=[], additional_information=[]),\n",
       " Node(id=580, name='St. Mary High School (Dell Rapids, South Dakota)', description='Private Roman Catholic high school in Dell Rapids, South Dakota.', alias=[], additional_information=['Part of the Roman Catholic Diocese of Sioux Falls', 'School colors are Red and White', 'Mascot is the Cardinal']),\n",
       " Node(id=581, name='Mother Teresa High School', description='Catholic secondary school in Nepean, Ottawa, Ontario, Canada.', alias=[], additional_information=['Supports grades 7–12', 'Sports team name is the Titans', \"Motto: 'Amor et Dignitas' (Love and Dignity)\"]),\n",
       " Node(id=582, name='St. Marys High School (Natchitoches, Louisiana)', description='Private coeducational Roman Catholic high school in Natchitoches, Louisiana.', alias=[], additional_information=['Located in the Diocese of Alexandria']),\n",
       " Node(id=583, name='Nick Gillespie', description='American libertarian journalist and editor', alias=['Nicholas John Gillespie', 'Nick Gillespie (born August 7, 1963)'], additional_information=['Editor-in-chief of Reason magazine (2000-2008)', 'Editor-in-chief of Reason.com and Reason TV (2008-2017)', 'Joined Reason in 1993 as an assistant editor']),\n",
       " Node(id=584, name='Eclipse of Reason', description='1987 anti-abortion documentary directed by Bernard Nathanson', alias=[], additional_information=['Directed, filmed, and narrated by Bernard Nathanson', \"Follow-up to 'The Silent Scream'\", 'Controversial depiction of dilation and evacuation abortion']),\n",
       " Node(id=585, name='Bernard Nathanson', description='American obstetrician-turned-anti-abortion activist American medical doctor and co-founder of NARAL', alias=['Bernard Nathanson'], additional_information=[\"Directed 'Eclipse of Reason' and 'The Silent Scream']\"]),\n",
       " Node(id=586, name='Skinner Steps Out', description='1929 American comedy film', alias=[], additional_information=['Directed by William James Craft', 'Written by Albert DeMond and Matt Taylor', 'Released on November 24, 1929, by Universal Pictures']),\n",
       " Node(id=587, name='William James Craft', description='Canadian film director and screenwriter', alias=['William James Craft (1886 – 30 June 1931)'], additional_information=['Directed 69 films between 1910 and 1931', 'Wrote for 12 films between 1920 and 1928', 'Born in Toronto, died in auto accident in Hollywood, California']),\n",
       " Node(id=588, name='Brian Kennedy (gallery director)', description='Irish-born art museum director', alias=['Brian Patrick Kennedy (born 5 November 1961)'], additional_information=['Worked in Ireland, Australia, and the United States', 'Current director of the Peabody Essex Museum', 'Former director of the Toledo Museum of Art (2010-2019)', 'Director of the Hood Museum of Art (2005-2010)', 'Director of the National Gallery of Australia (1997-2004)']),\n",
       " Node(id=589, name='Freddie Steps Out', description='1946 American film starring Freddie Stewart', alias=[], additional_information=['Part of The Teen Agers series']),\n",
       " Node(id=590, name='Mr. Muggs Steps Out', description='1943 American film', alias=[], additional_information=['Directed by William Beaudine']),\n",
       " Node(id=591, name='Mr. Boggs Steps Out', description='1938 American romantic comedy film', alias=[], additional_information=['Directed by Gordon Wiles']),\n",
       " Node(id=592, name='The Cup', description='2011 Australian biographical film about the Melbourne Cup race won by Media Puzzle.', alias=['The Cup (2011 film)'], additional_information=['Directed by Simon Wincer', \"Focuses on Damien Oliver's victory in the 2002 Melbourne Cup\"]),\n",
       " Node(id=593, name='Simon Wincer', description='Australian director and producer known for film and television.', alias=['Simon Wincer (born 1943 in Sydney)'], additional_information=['Attended Cranbrook School, Sydney, from 1950 to 1961', 'Directed over 200 hours of television by the 1980s', \"Directed 'The Last Frontier' in 1986\"]),\n",
       " Node(id=594, name='Bill Hunter', description=\"Australian actor known for his contributions to film, including 'The Cup'.\", alias=['Bill Hunter (November 27, 1943 – May 21, 2011)'], additional_information=['This was his final film before his death.']),\n",
       " Node(id=595, name='Fred Dekker', description='American screenwriter and film director, known for cult classic horror-comedy films.', alias=['Fred Dekker (born April 9, 1959)'], additional_information=[\"Known for 'Night of the Creeps' and 'The Monster Squad'\"]),\n",
       " Node(id=596, name='The Monster Squad', description='1987 American comedy horror film about kids and classic Universal Monsters.', alias=['The Monster Squad (1987)'], additional_information=['Directed by Fred Dekker', 'Written by Shane Black and Fred Dekker', 'Released by TriStar Pictures on August 14, 1987']),\n",
       " Node(id=597, name='Dean Francis', description='British professional boxer who held multiple titles.', alias=['Dean Temius Francis (23 January 1974 – 25 May 2018)'], additional_information=['Known for his boxing career from 1994 to 2014.', 'Diagnosed with terminal bowel cancer in January 2017.']),\n",
       " Node(id=598, name='Road Kill', description='2010 Australian horror film known as Road Train in the U.S.', alias=['Road Train (2010 film)'], additional_information=['Directed by Dean Francis and written by Clive Hopkins.', 'Stars Xavier Samuel, Bobby Morley, Georgina Haig, and Sophie Lowe.']),\n",
       " Node(id=599, name='Richard T. Jones', description=\"American actor known for roles in various films and the TV series 'Judging Amy'. American actor known for roles in various films\", alias=['Richard Timothy Jones (born January 16, 1972)', 'Richard T. Jones'], additional_information=[]),\n",
       " Node(id=600, name='Lamman Rucker', description='American actor known for roles in Tyler Perry films. American actor known for roles in Tyler Perry films', alias=['Lamman Rucker (born October 6, 1971)', 'Lamman Rucker'], additional_information=[]),\n",
       " Node(id=601, name='A Shoulder to Cry On', description='Ballad performed by American singer-songwriter Tommy Page', alias=['A Shoulder to Cry On (Tommy Page song)'], additional_information=['Released in 1988', 'Peaked at number 29 on the Billboard Hot 100', 'Lyrically about being a shoulder to cry on for a friend']),\n",
       " Node(id=602, name='Arthur Alexander', description='American country songwriter and soul singer', alias=['Arthur Alexander (May 10, 1940 – June 9, 1993)'], additional_information=['Described as a country-soul pioneer', 'Songs covered by stars like The Beatles and Bob Dylan']),\n",
       " Node(id=603, name='You Wouldn’t Know', description='Song by the Bee Gees', alias=['You Wouldn’t Know (Bee Gees song)'], additional_information=['Written by Barry Gibb', \"Released as the B-side of 'Every Day I Have to Cry'\"]),\n",
       " Node(id=604, name='Walter Robinson', description='African American composer of the late 20th century', alias=[], additional_information=[\"Notable for his 1977 song 'Harriet Tubman'\", 'Composer of several operas']),\n",
       " Node(id=605, name='Every Day I Have to Cry', description='Song by Arthur Alexander', alias=['Every Day I Have to Cry (song)'], additional_information=['Written by Arthur Alexander', 'Recorded by Steve Alaimo in 1962']),\n",
       " Node(id=606, name='Alexandru Cristea', description=\"Composer of Moldova's national anthem\", alias=['Alexandru Cristea (1890 – 1942)'], additional_information=[\"Composer of 'Limba Noastră'\"]),\n",
       " Node(id=607, name='Petrus de Domarto', description='Franco-Flemish composer of the Renaissance', alias=['Petrus de Domarto (fl. c. 1445–1455)'], additional_information=['Contemporary of Ockeghem', 'Composer of at least one of the first unified mass cycles']),\n",
       " Node(id=608, name='Alexander Courage', description='American composer and orchestrator', alias=[\"Alexander Mair 'Sandy' Courage Jr.\"], additional_information=[\"Best known for composing the theme music for 'Star Trek'\"]),\n",
       " Node(id=609, name='Julie Grant', description='English pop music singer', alias=['Julie Grant (born 12 July 1946)'], additional_information=['Active mainly during the 1960s', 'Had three hits on the UK Singles Chart']),\n",
       " Node(id=610, name='Bennett Airport', description='Privately owned public-use airport located in Salisbury, Maryland.', alias=[], additional_information=[]),\n",
       " Node(id=611, name='Ampanihy Airport', description='Airport located in Ampanihy, Madagascar.', alias=[], additional_information=[]),\n",
       " Node(id=612, name='Madang Airport', description='Airport located in Madang, Papua New Guinea.', alias=[], additional_information=[]),\n",
       " Node(id=613, name='Breakaway Airport', description='Airport located in Cedar Park, Texas.', alias=[], additional_information=[]),\n",
       " Node(id=614, name='Takamatsu Airport', description='Equipped with various navigational systems and services for flights.', alias=[], additional_information=['Emergency landing of an All Nippon Airways Boeing 787 on January 16, 2013.', 'Handles mainly flights by ANA and Japan Airlines.']),\n",
       " Node(id=615, name='Esquimalt Airport', description='Former airport located in Esquimalt, British Columbia, Canada.', alias=[], additional_information=[]),\n",
       " Node(id=616, name='Antonio Maceo Airport', description='International airport located in Santiago, Cuba.', alias=[], additional_information=[]),\n",
       " Node(id=617, name='Erzincan Airport', description='Airport located in Erzincan, Turkey.', alias=[], additional_information=[]),\n",
       " Node(id=618, name='Ayapel Airport', description='Airport located in Ayapel, Colombia.', alias=[], additional_information=[]),\n",
       " Node(id=619, name='Freehold Airport', description='Public use airport in Freehold, Greene County, New York, United States.', alias=[], additional_information=['Privately owned by Freehold Airport LLC and operated by Nutmeg Soaring Association, Inc.', 'Categorized as a general aviation facility in the National Plan of Integrated Airport Systems 2011 – 2015.']),\n",
       " Node(id=620, name='Naresh Kumar', description='Former Indian tennis player Former Indian tennis player, known for his service on the India Davis Cup team.', alias=['Naresh Kumar (born 22 December 1928)', 'Naresh Kumar'], additional_information=['Born in Lahore, Punjab, British India', 'Played on the India Davis Cup team from 1952', 'Served as team captain', 'Won singles title at the Irish Championships (1952, 1953)', 'Reached fourth round at Wimbledon in 1955']),\n",
       " Node(id=621, name='Gaon Hamara Shaher Tumhara', description='1972 Bollywood romance film', alias=[], additional_information=['Directed by Naresh Kumar', 'Stars Rajendra Kumar and Rekha']),\n",
       " Node(id=622, name='Vilko Filač', description='Slovenian cinematographer known for his work with Emir Kusturica.', alias=['Vilko Filač (14 February 1950 – 25 November 2008)'], additional_information=['Graduate of the Film and TV School of the Academy of Performing Arts in Prague']),\n",
       " Node(id=623, name='Mira Furlan', description=\"Croatian actress and singer, best known for her roles in 'Babylon 5' and 'Lost'.\", alias=['Mira Furlan (born 7 September 1955)'], additional_information=[\"Appeared in films like 'When Father Was Away on Business' and 'The Abandoned'\"]),\n",
       " Node(id=624, name='Emir Hadžihafizbegović', description='Bosnian theater, film, and television actor, and part-time politician.', alias=['Emir Hadžihafizbegović (born 20 August 1961)'], additional_information=[\"Appeared in over 50 films including 'When Father Was Away on Business', 'Grbavica', and more\", 'A member of the Party of Democratic Action (SDA)']),\n",
       " Node(id=625, name='Ek Paheli', description='1971 Bollywood thriller drama film directed by Naresh Kumar.', alias=[], additional_information=['Stars Sanjeev Kumar, Tanuja, and Feroz Khan']),\n",
       " Node(id=626, name='When Father Was Away on Business', description='1985 Yugoslav film by Emir Kusturica. 1985 film directed by Emir Kusturica', alias=['Otaц на службеном путу', 'When Father Was Away on Business'], additional_information=[\"Won the Palme d'Or at the 1985 Cannes Film Festival\", 'Nominated for Academy Award for Best Foreign Language Film', 'Set in post-WWII Yugoslavia']),\n",
       " Node(id=627, name='Davor Dujmović', description=\"Bosnian actor, known for his roles in Emir Kusturica's movies.\", alias=['Davor Dujmović (20 September 1969 – 31 May 1999)'], additional_information=[\"Portrayed Mirza in 'When Father Was Away on Business' and Perhan in 'Time of the Gypsies'\"]),\n",
       " Node(id=628, name='Emir Kusturica', description='Serbian filmmaker, actor, and musician', alias=['Emir Kusturica (born 24 November 1954)'], additional_information=['Has French citizenship', 'Recognized for internationally acclaimed feature films', \"Won the Palme d'Or twice at the Cannes Film Festival\", 'Known for his projects in town-building', 'Has lived in Drvengrad, Serbia since mid-2000s']),\n",
       " Node(id=629, name='Underground', description='1995 comedy-drama film directed by Emir Kusturica', alias=['Underground (1995 film)', 'Underground (/\" Podzemlje\")'], additional_information=['Subtitle: Once Upon a Time There Was One Country', 'An epic story portraying Yugoslav history from WWII to Yugoslav Wars', 'International co-production with Serbia, France, Germany, Czech Republic, Hungary', 'The theatrical version is 163 minutes long', 'Original version ran over 320 minutes and was cut by co-producers']),\n",
       " Node(id=630, name='Abdulah Sidran', description='Bosnian poet and screenwriter', alias=['Abdulah Sidran (born 2 October 1944)'], additional_information=[\"Known for the poetry book 'Sarajevski Tabut'\", \"Wrote scripts for 'When Father Was Away on Business' and 'Do You Remember Dolly Bell?'\"]),\n",
       " Node(id=631, name='Kyōen Kobanzame', description='Film with two parts, same actors and staff', alias=[], additional_information=[]),\n",
       " Node(id=632, name='John Agoglia', description='American television executive, president of NBC Enterprises', alias=['John Joseph Agoglia (September 24, 1937 – March 14, 2014)'], additional_information=['Noted for negotiations with NBC', 'Influential in the decision to replace Johnny Carson', \"Significant role in negotiations for 'Seinfeld' cast members.\"]),\n",
       " Node(id=633, name='Café International', description='A 1989 board game created where players act as waiters.', alias=['Café International (1989 board game)'], additional_information=['For 2 to 4 players', 'Goal to seat customers of various nationalities', 'Won the Spiel des Jahres award in 1989']),\n",
       " Node(id=634, name='John E. Toews', description='Canadian historian and Director of the Comparative History of Ideas Program at the University of Washington.', alias=[], additional_information=['Served from 1981 to 2010', 'Graduated from Harvard University, Ph.D. in 1973']),\n",
       " Node(id=635, name='Maqamat', description='A term that may refer to various meanings.', alias=[], additional_information=[]),\n",
       " Node(id=636, name='Horam (disambiguation)', description='May refer to various meanings.', alias=[], additional_information=[]),\n",
       " Node(id=637, name='James Robertson (psychoanalyst)', description='Psychiatric social worker and psychoanalyst based at Tavistock Clinic and Institute, London.', alias=[], additional_information=['1911–1988', 'Worked from 1948 to 1976', \"Revolutionized children's hospitals\"]),\n",
       " Node(id=638, name='Church of Santa María de Palacio', description='Church in Logroño, Spain.', alias=['Iglesia de Santa María de Palacio'], additional_information=[\"Declared 'Bien de Interés Cultural' in 1943\"]),\n",
       " Node(id=639, name='Newcastle Cruise Terminal', description='Proposed cruise terminal in Newcastle, New South Wales, Australia.', alias=[], additional_information=['Expected construction time: 12 months', \"Funded by NSW Government's Restart NSW Hunter Infrastructure Investment Fund\"]),\n",
       " Node(id=640, name='San Caprasio', description='Church in Santa Cruz de la Serós, Spain.', alias=[], additional_information=['First Romanesque style']),\n",
       " Node(id=641, name='Monastery of Santa María de Meira', description='Monastery in Galicia, Spain.', alias=['Mosteiro de Santa María de Meira'], additional_information=[]),\n",
       " Node(id=642, name='Monastery of Santa María de Oseira', description='Trappist monastery in Galicia, Spain.', alias=['Mosteiro de Santa María de Oseira'], additional_information=[\"Spanish name: 'Monasterio de Santa María la Real de Oseira'\"]),\n",
       " Node(id=643, name='Church of Santa María de los Reyes', description='Church located in Laguardia, Spain.', alias=['Iglesia de Santa María de los Reyes'], additional_information=[\"Declared 'Bien de Interés Cultural' in 1931\"]),\n",
       " Node(id=644, name='Santa María de Santa Cruz de la Serós', description='Former Benedictine nunnery in Spain.', alias=[], additional_information=['Located about 10 miles from Jaca, in the village of Santa Cruz de la Serós']),\n",
       " Node(id=645, name='Cathedral of Santa María de Vitoria', description='Gothic-style Roman Catholic cathedral in Vitoria-Gasteiz, Spain.', alias=['Santa Maria katedrala', 'Catedral de Santa María de Vitoria'], additional_information=[\"Declared 'Bien de Interés Cultural' in 1931\"]),\n",
       " Node(id=646, name='Johnstone Higher Secondary School', description='Premier higher secondary school in Imphal, Manipur, India.', alias=['Johnstone Higher Secondary School, Imphal'], additional_information=['Located at Bir Tikendrajit Road.', 'Recognised by Council of Higher Secondary Education, Manipur.']),\n",
       " Node(id=647, name='Model Technical Higher Secondary School', description='Pioneer in a group of Model Technical Higher Secondary Schools located in Kerala, India.', alias=['Model Technical Higher Secondary School, Kaloor'], additional_information=['Established to provide education in technological and hi-tech sectors.', 'Managed by the Institute of Human Resources Development (IHRD).']),\n",
       " Node(id=648, name='Seethi Sahib Higher Secondary School', description='Prominent higher secondary school in Taliparamba, Kerala, India.', alias=[], additional_information=['Established in 1968.', 'Named after former Speaker Seethi Sahib of the Kerala Legislative Assembly.', 'Noted for good SSLC public exam results.']),\n",
       " Node(id=649, name='Model Technical Higher Secondary Schools', description='Set of secondary schools located in Kerala, India.', alias=[], additional_information=['Established to provide education in technology.', 'Managed by the Institute of Human Resources Development (IHRD).']),\n",
       " Node(id=650, name='Model Technical Higher Secondary School, Kaprassery', description='Technical higher secondary school in Kaprassery, Kerala, India.', alias=[], additional_information=['Part of Model Technical Higher Secondary Schools.', 'Managed by the Institute of Human Resources Development (IHRD).']),\n",
       " Node(id=651, name='Salt Brook Academy', description='Junior College established in 1995, located in Dibrugarh, Assam, India.', alias=[], additional_information=['Co-educational with over 1200 students.', 'Run by Salt Brook Academy Society under the Society Act of 1860.']),\n",
       " Node(id=652, name='Technical Higher Secondary School, Vazhakkad', description='Technical higher secondary school in Vazhakkad, Malappuram, India.', alias=[], additional_information=['Established in 1993.', 'Part of the Model Technical Higher Secondary Schools.']),\n",
       " Node(id=653, name='Shree Damodar Higher Secondary School of Science', description='Co-educational Higher Secondary School in Goa, India.', alias=[], additional_information=['Prepares students for HSSC examinations of the Goa Board of Secondary and Higher Secondary Education.']),\n",
       " Node(id=654, name='Ghilamara Model Higher Secondary School', description='Higher Secondary School in Ghilamara, Lakhimpur, Assam, India.', alias=[], additional_information=['Established in 1952.']),\n",
       " Node(id=655, name='Pushpadana Girls College', description='Public girls school located in Kandy, Sri Lanka.', alias=[], additional_information=[]),\n",
       " Node(id=656, name='Hasan ibn Hasan', description='Great-grandson of Muhammad', alias=['Hasan al-Muthana ibn Hasan ibn Ali', 'Hasan al-Muthana'], additional_information=[]),\n",
       " Node(id=657, name='Ali Al-Hasan', description='Kuwaiti diver', alias=[], additional_information=['Born January 4, 1973', 'Competed in the 1996 Summer Olympics']),\n",
       " Node(id=658, name='Abdullah ibn Atik', description='Companion of Muhammad', alias=[], additional_information=['Participated in the Expedition of Abdullah ibn Atik', 'Assassinated Sallam ibn Abu al-Huqayq', 'Killed in the Battle of Yamama']),\n",
       " Node(id=659, name='Beshr ibn Hasan', description='Great-grandson of Muhammad, son of Hasan ibn Ali', alias=['بشر بن حسن'], additional_information=['Considered one of the martyrs of the Battle of Karbala', 'Mentioned by Shia scholar Ibn Shahrashub']),\n",
       " Node(id=660, name='Hasan ibn Ali', description='Eldest son of Ali and Fatimah', alias=['Al-Hasan ibn Ali ibn Abi Talib'], additional_information=['Muslim revered as the second Imam', 'Died at age 45, buried in Jannat al-Baqi cemetery in Medina', 'Known for his kindness and knowledge']),\n",
       " Node(id=661, name='Abdullah ibn Unais', description='Companion of Muhammad', alias=[], additional_information=['Participated in several military campaigns ordered by Muhammad', 'Assassinated Khaled bin Sufyan Al-Hathali', 'Involved in the Expedition of Al Raji']),\n",
       " Node(id=662, name='Fadl ibn Abbas', description='Brother of Abdullah ibn Abbas, cousin of Muhammad', alias=[], additional_information=['Lived from 611 to 639']),\n",
       " Node(id=663, name='Abdullah ibn Hasan', description='Son of Hasan ibn Ali.', alias=['Abdullah ibn Hasan'], additional_information=['He went to Karbala with his uncle Hussain.', 'Killed in the battle of Karbala.', 'Mentioned in Ziyarat Nahiya Muqaddasa.']),\n",
       " Node(id=664, name='Abid Hasan', description='Pakistani first-class cricketer who plays for Rawalpindi.', alias=['Abid Hasan (born 29 April 1995)'], additional_information=[]),\n",
       " Node(id=665, name='Obata Toramori', description='Father of Obata Masamori.', alias=['Obata Toramori'], additional_information=[]),\n",
       " Node(id=666, name='Table Island', description='Uninhabited island in the Canadian Arctic Archipelago, Nunavut', alias=['Table Island'], additional_information=['Lies in Norwegian Bay, north of Devon Island']),\n",
       " Node(id=667, name='Ekins Island', description='Uninhabited island within the Canadian Arctic Archipelago, Nunavut', alias=['Ekins Island'], additional_information=['Lies in Norwegian Bay, north of Devon Island, south of Cornwall Island']),\n",
       " Node(id=668, name='Saleyards Creek', description='Canalised urban stream, stormwater channel located in Sydney, Australia', alias=['Saleyard Creek'], additional_information=[]),\n",
       " Node(id=669, name='Belcher Channel', description='Waterway in Norwegian Bay, Nunavut', alias=['Belcher Channel'], additional_information=['Separates Cornwall Island from Devon Island']),\n",
       " Node(id=670, name='Glunze', description='Short river in Brandenburg, Germany', alias=['Glunze'], additional_information=['Discharges into Todnitzsee, near Bestensee']),\n",
       " Node(id=671, name='Colvos Store', description='Historic combination residence and commercial building in Vashon, Washington', alias=['Kress Store', 'Belcher Home'], additional_information=['Added to the National Register of Historic Places on August 10, 2000']),\n",
       " Node(id=672, name='Favorit TV', description='Romanian folk music channel located in Bucharest', alias=['Favorit TV'], additional_information=['Owned by Centrul National Media']),\n",
       " Node(id=673, name='Belcher Channel Formation', description='Geologic formation in Nunavut', alias=['Belcher Channel Formation'], additional_information=['Preserves fossils dating back to the Permian period']),\n",
       " Node(id=674, name='Transilvania TV', description='Regional channel located in Transylvania', alias=['Transilvania TV'], additional_information=['Owned by Centrul National Media']),\n",
       " Node(id=675, name='Daniel Mason', description='American novelist and physician', alias=[], additional_information=[\"Author of 'The Piano Tuner' and 'A Far Country'\", 'Raised in Palo Alto, California', 'BA in biology from Harvard University', 'Graduated from UCSF School of Medicine']),\n",
       " Node(id=676, name='The Piano Tuner', description='Historical novel by Daniel Mason', alias=[], additional_information=['Set in British India and Burma', 'First published in 2002', 'Basis for a 2004 opera']),\n",
       " Node(id=677, name='A Far Country', description='Novel by Daniel Mason', alias=[], additional_information=['Published in March 2007']),\n",
       " Node(id=678, name='Mr. Right', description='2009 British film 2009 British film directed by David Morris and Jacqui Morris, debut for both directors. 2009 British film', alias=['Mr. Right'], additional_information=['Directed by David Morris and Jacqui Morris']),\n",
       " Node(id=679, name='Vincent Sherman', description='American director and actor', alias=[], additional_information=['Born July 16, 1906 – June 18, 2006', \"Directed 'Mr. Skeffington', 'Nora Prentiss', 'The Young Philadelphians'\"]),\n",
       " Node(id=680, name='Duilio Coletti', description='Italian film director and screenwriter', alias=[], additional_information=['Born December 28, 1906 – May 22, 1999', 'Directed 29 films between 1934 and 1977']),\n",
       " Node(id=681, name='The Young Philadelphians', description='1959 drama film directed by Vincent Sherman', alias=[], additional_information=[\"Based on the novel 'The Philadelphian' by Richard P. Powell\"]),\n",
       " Node(id=682, name='Bruno Thériault', description='Blind piano tuner and advocate for the visually impaired', alias=[], additional_information=['Born November 25, 1917 – May 14, 2005', 'Former regional administrator for the Canadian National Institute for the Blind']),\n",
       " Node(id=683, name='The Piano Tuner Has Arrived', description='1952 Italian comedy film directed by Duilio Coletti', alias=[], additional_information=['Stars Nino Taranto, Alberto Sordi, and Virgilio Riento']),\n",
       " Node(id=684, name='Rolf Olsen', description='German actor, screenwriter and film director', alias=[], additional_information=['26 December 1919 – 3 April 1998', 'Appeared in 60 films between 1949 and 1990', 'Wrote for 51 films and directed a further 33 between 1947 and 1990']),\n",
       " Node(id=685, name='Shocking Asia', description='1974 mondo documentary film', alias=[], additional_information=['Written and directed by Rolf Olsen', 'Banned in Finland due to graphic content']),\n",
       " Node(id=686, name='Shocking Asia II: The Last Taboos', description='1985 mondo documentary film', alias=[], additional_information=['Written and directed by Rolf Olsen', \"Sequel to 'Shocking Asia'\"]),\n",
       " Node(id=687, name='Keshar-e Bala', description='Village in Kohurestan Rural District, Khamir County, Hormozgan Province, Iran.', alias=['Keshar -e Bala', 'Keshār -e Bālā', 'Kashār -e Bālā', 'Kashār -e ‘ Olyā', 'Kashar ‘ Olya', 'Kishār Bāla'], additional_information=['Population: 2,032 (2006 census)', '461 families']),\n",
       " Node(id=688, name='Cwrt y Gollen', description='Former British Army training base in southeastern Powys, Wales.', alias=['Cwrt y Gollen (Hazel Court)'], additional_information=['2 miles southeast of Crickhowell']),\n",
       " Node(id=689, name='Homag-e Bala', description='Village in Siyahu Rural District, Bandar Abbas County, Hormozgan Province, Iran.', alias=['Homag -e Bala', 'Homāg- e Bālā', 'Homāk', 'Homāy', 'Homā- ye Bālā', 'Homay Olya', 'Mīrū'], additional_information=['Population: 202 (2006 census)', '68 families']),\n",
       " Node(id=690, name='Musaabad-e Sofla', description='Village in Rumiani Rural District, Lorestan Province, Iran.', alias=['Musaabad -e Sofla', 'Mūsáābād -e Soflá'], additional_information=['Population: 492 (2006 census)', '102 families']),\n",
       " Node(id=691, name='Jafarabad, Nahavand', description='Village in Solgi Rural District, Nahavand County, Hamadan Province, Iran.', alias=['Jafarabad', 'Ja‘farābād', 'Ja‘farābād -e Bālā', 'Ja‘farābād -e ‘ Olya', 'Ja’far Abad Olya'], additional_information=['Population: 159 (2006 census)', '37 families']),\n",
       " Node(id=692, name='Najafabad, Abadeh', description='Village in Bidak Rural District, Abadeh County, Fars Province, Iran.', alias=['Najafabad', 'Najafābād', 'Najafābād -e Pā’īn', 'Najaf Abad ‘ Olya', 'Najaf Abad Sofla'], additional_information=['Population: 78 (2006 census)', '29 families']),\n",
       " Node(id=693, name='Gamizaj-e Olya', description='Village in Sar Firuzabad Rural District, Kermanshah County, Kermanshah Province, Iran.', alias=['Gamizaj -e Olya', 'Gāmīzaj -e ‘ Olya', 'Gāmīzej -e ‘ Olyā', 'Gāmizaj', 'Gāmīzaj -e Bālā', 'Gamīzej- e Bālā', 'Garmizak'], additional_information=['Population: 275 (2006 census)', '48 families']),\n",
       " Node(id=694, name='Hajjiabad-e Kark', description='Village in Giyan Rural District, Nahavand County, Hamadan Province, Iran.', alias=['Hajjiabad -e Kark', 'Ḩājjīābād- e Kark', 'Ḩājīābād', 'Haji Abad Olya', 'Ḩājjīābād'], additional_information=['Population: 231 (2006 census)', '57 families']),\n",
       " Node(id=695, name='Shavon-e Olya', description='Village in Ani Rural District, Germi County, Ardabil Province, Iran.', alias=['Shavon -e Olya', 'Shāvon- e ‘ Olyā', 'Shadoon Olya', 'Shāvon -e Bālā'], additional_information=['Population: 126 (2006 census)', '24 families']),\n",
       " Node(id=696, name='Chapan-e Olya', description='Village in Saqqez County, Kurdistan Province, Iran', alias=['Chāpān -e ‘ Olyā', 'Chāpān ‘ Olyá', 'Chāpān', 'Chāpān -e Bālā'], additional_information=['Located in Emam Rural District, Ziviyeh District', 'Population was 184 at the 2006 census', 'Composed of 44 families']),\n",
       " Node(id=697, name='Thoovalsparsham', description='1990 Malayalam film directed by Kamal', alias=['Thoovalsparsham (English: Feather Touch)'], additional_information=[\"Inspired by 'Three Men and a Baby'\", 'Stars Jayaram, Suresh Gopi, Mukesh, and Saikumar']),\n",
       " Node(id=698, name='Three Men and a Baby', description='1987 American comedy film directed by Leonard Nimoy 1987 American comedy film', alias=['Three Men and a Baby'], additional_information=['Stars Tom Selleck, Steve Guttenberg, Ted Danson, and Nancy Travis', 'Follows the lives of three bachelors adapting to parenthood']),\n",
       " Node(id=699, name='Three Men and a Cradle', description='1985 French comedy film directed by Coline Serreau', alias=[], additional_information=[\"Remade in Hollywood as 'Three Men and a Baby'\"]),\n",
       " Node(id=700, name='Three Men in a Boat', description='1933 British comedy film directed by Graham Cutts', alias=[], additional_information=['Based on the novel by Jerome K. Jerome']),\n",
       " Node(id=701, name='Little Lady', description='1949 Italian comedy film directed by Mario Mattoli', alias=[], additional_information=['Stars Gino Bechi']),\n",
       " Node(id=702, name='Emile Ardolino', description='American film director, choreographer, and producer American director known for films', alias=['Emile Ardolino'], additional_information=[\"Best known for 'Dirty Dancing' and 'Sister Act'\"]),\n",
       " Node(id=703, name='Nancy Travis', description='American actress', alias=['Nancy Ann Travis (born September 21, 1961)'], additional_information=['Began her career in Off-Broadway theater', \"Breakthrough role in 'Three Men and a Baby'\"]),\n",
       " Node(id=704, name='Three Men and a Little Lady', description='1990 American comedy film', alias=['Three Men and a Little Lady'], additional_information=['Directed by Emile Ardolino', \"Sequel to 'Three Men and a Baby'\"]),\n",
       " Node(id=705, name='Pola X', description='1999 French romantic drama film directed by Leos Carax', alias=[], additional_information=['Based on the Herman Melville novel', 'Entered into the 1999 Cannes Film Festival']),\n",
       " Node(id=706, name='Leos Carax', description='French film director, critic, and writer', alias=['Alex Christophe Dupont (born 22 November 1960)'], additional_information=['Known for poetic style and depictions of love', \"Notable works include 'Boy Meets Girl', 'Les Amants du Pont-Neuf', and 'Holy Motors'\"]),\n",
       " Node(id=707, name='Oddvar Bull Tuhus', description='Norwegian film director, scriptwriter, and television worker.', alias=['Oddvar Bull Tuhus (born 14 December 1940)'], additional_information=[\"Film debut: 'Rødblått paradis' (1971)\", \"'Maria Marusjka' (1973) awarded the Norwegian Film Critics' Prize\", \"Directed 'Streik!' (1974) presented at the Cannes Film Festival\", 'Manager for NRK Drama from 1994 to 2000', 'Hockey Fever features Jørn Goldstein.']),\n",
       " Node(id=708, name='Rødblått paradis', description='Film directed by Oddvar Bull Tuhus in 1971.', alias=[], additional_information=[]),\n",
       " Node(id=709, name='Maria Marusjka', description=\"Film awarded the Norwegian Film Critics' Prize in 1973.\", alias=[], additional_information=[]),\n",
       " Node(id=710, name='Streik!', description='1974 film directed by Oddvar Bull Tuhus, based on a novel by Tor Obrestad.', alias=[], additional_information=['Presented at the Cannes Film Festival.']),\n",
       " Node(id=711, name='Hockey Fever', description='Film directed by Oddvar Bull Tuhus featuring goaltender Jørn Goldstein.', alias=[], additional_information=[]),\n",
       " Node(id=712, name='The Good Old Days', description='Term referring to better times in the past; also refers to multiple works in film and literature.', alias=['The Good Old Days'], additional_information=[]),\n",
       " Node(id=713, name='The Old Soak', description='1926 American silent crime drama directed by Edward Sloman based on a 1922 Broadway play by Don Marquis.', alias=[], additional_information=['Starred Jean Hersholt, George J. Lewis, June Marlowe.', 'Presumed lost with possible prints in private collection.']),\n",
       " Node(id=714, name='Elena Shah', description='Film by Oddvar Bull Tuhus featuring themes of relationships and identity.', alias=[], additional_information=[]),\n",
       " Node(id=715, name='Blücher', description='1988 Norwegian thriller film directed by Oddvar Bull Tuhus.', alias=[], additional_information=['Stars Helge Jordal, Frank Krog, and Hege Schøyen.', 'Follows two North Sea divers involved in political intrigue.']),\n",
       " Node(id=716, name='The Money Changers', description='1920 American silent drama film', alias=[], additional_information=['Directed by Jack Conway', 'Stars Robert McKim, Claire Adams, and Roy Stewart', 'Based on a novel by Upton Sinclair']),\n",
       " Node(id=717, name='Jack Conway', description='American film director and producer', alias=['Jack Ryan Conway (July 17, 1887 – October 11, 1952)'], additional_information=[]),\n",
       " Node(id=718, name='Mission: Impossible', description='Television series and film franchise', alias=[], additional_information=['First aired from 1966 – 1973', 'Theme written by Lalo Schifrin', 'Includes multiple films and video game series']),\n",
       " Node(id=719, name='Mission: Impossible III', description='2006 American action spy film', alias=[], additional_information=['Co-written and directed by J. J. Abrams', 'Stars Tom Cruise as Ethan Hunt', 'Grossed over $397 million']),\n",
       " Node(id=720, name='J. J. Abrams', description='American filmmaker', alias=['Jeffrey Jacob Abrams (born June 27, 1966)'], additional_information=['Known for action, drama, and science fiction', \"Created popular series like 'Lost' and 'Alias'\"]),\n",
       " Node(id=721, name='Tom Forman', description='American motion picture actor, director, writer, and producer of the early 1920s', alias=['Tom Forman (February 22, 1893 – November 7, 1926)'], additional_information=[]),\n",
       " Node(id=722, name='The Virginian (1923 film)', description=\"Silent film based on Owen Wister's novel\", alias=['The Virginian (1923)'], additional_information=['Stars Kenneth Harlan and Russell Simpson', 'Directed by Tom Forman']),\n",
       " Node(id=723, name='The Virginian (1914 film)', description=\"American silent western film based on Owen Wister's novel\", alias=[], additional_information=['Adapted from successful 1904 theatre play', 'Stars Dustin Farnum and directed by Cecil B. DeMille']),\n",
       " Node(id=724, name='Eleni Gabre-Madhin', description='Ethiopian economist with Swiss nationality, former CEO of Ethiopia Commodity Exchange', alias=['Eleni Zaude Gabre-Madhin'], additional_information=['Worked on agricultural markets in Sub-Saharan Africa', 'Held senior positions in World Bank, International Food Policy Research Institute, United Nations']),\n",
       " Node(id=725, name='Baglan Mailybayev', description='Kazakh politician, Deputy Head of the Presidential Administration of Kazakhstan', alias=['Бағлан Асаубайұлы Майлыбаев'], additional_information=['Born on 20 May 1975 in Zhambyl region, Kazakhstan', 'Doctor of Law (2002)', 'Ph.D. in Political Science (1998)']),\n",
       " Node(id=726, name='Rumbold of Mechelen', description='Irish or Scottish Christian missionary and patron saint of Mechelen', alias=['Saint Rumbold', 'Rumold', 'Romuold'], additional_information=['Martyred near Mechelen', 'Feast day celebrated on June 24 and July 3 in Ireland', \"Relics housed in St. Rumbold's Cathedral\"]),\n",
       " Node(id=727, name='Khalid al-Habib', description='Al-Qaeda leader associated with operations in Afghanistan', alias=['Khalid al Harbi'], additional_information=['Reportedly died in a US missile strike in 2005, though unclear', 'Nationality claims include Egyptian or Moroccan']),\n",
       " Node(id=728, name='Nayelly Hernández', description='Former Mexican professional squash player', alias=[], additional_information=['Born on 23 February 1986', 'Represented Mexico internationally in several competitions', 'Achieved highest ranking of 57 in October 2011']),\n",
       " Node(id=729, name='Roberto Savio', description='Italian journalist, activist for social justice, and founder of Inter Press Service', alias=[], additional_information=['Born in Rome, Italy, holds Argentine nationality', 'Studied Economics at University of Parma and received postgraduate education']),\n",
       " Node(id=730, name='Ali Khalifa Rahuma', description='Libyan football midfielder', alias=[], additional_information=['Born on May 16, 1982', 'Plays for Al-Ittihad', 'Member of the Libya national football team']),\n",
       " Node(id=731, name='Yash Chopra', description='Indian film director and producer, founder of Yash Raj Films Indian film director and producer, founder of Yash Raj Films', alias=['Yash Raj Chopra', 'Yash Chopra'], additional_information=['Born on 27 September 1932, died on 21 October 2012', 'Recipient of National Film Awards and Filmfare Awards', 'Honored with Dadasaheb Phalke Award and Padma Bhushan']),\n",
       " Node(id=732, name='Pamela Chopra', description='Bollywood playback singer, widow of Yash Chopra', alias=['Pamela Chopra (born 1938)'], additional_information=['Has written and produced several films']),\n",
       " Node(id=733, name='Uday Chopra', description='Bollywood actor, producer, screenwriter and assistant director', alias=['Uday Chopra (born January 5, 1973)'], additional_information=['Son of Yash Chopra, brother of Aditya Chopra', 'Sister-in-law is actress Rani Mukerji', 'Cousins include Karan Johar and Vidhu Vinod Chopra']),\n",
       " Node(id=734, name='Aditya Chopra', description='Bollywood film director and producer, owner of Yash Raj Films', alias=['Aditya Chopra'], additional_information=['Brother of Uday Chopra']),\n",
       " Node(id=735, name='Rani Mukerji', description='Bollywood actress', alias=['Rani Mukerji'], additional_information=['Sister-in-law of Uday Chopra']),\n",
       " Node(id=736, name='Karan Johar', description='Bollywood film director and producer', alias=[], additional_information=['Cousin of Uday Chopra']),\n",
       " Node(id=737, name='Vidhu Vinod Chopra', description='Bollywood film producer and director', alias=[], additional_information=['Cousin of Uday Chopra']),\n",
       " Node(id=738, name='John Francis Dillon', description='American film director and actor of the silent era', alias=['John Francis Dillon (July 13, 1884 – April 4, 1934)'], additional_information=['Directed 130 films between 1914 and 1934', 'Appeared in 74 films between 1914 and 1931', 'Died in Los Angeles from a heart attack']),\n",
       " Node(id=739, name='Call Her Savage', description='1932 pre-Code drama film', alias=[], additional_information=['Directed by John Francis Dillon', 'Stars Clara Bow']),\n",
       " Node(id=740, name='Marco Morabito', description='Italian producer and editor', alias=[], additional_information=[\"Known for producing 'Call Me by Your Name'\"]),\n",
       " Node(id=741, name='Dustin Kahia', description='American film director, screenwriter, and producer', alias=['Dustin Thomas Kahia (born June 12, 1989)'], additional_information=[\"Best known for writing and directing 'Call of the Void'\"]),\n",
       " Node(id=742, name='Henry Luttrell, 2nd Earl of Carhampton', description='Politician and soldier', alias=['General Henry Lawes Luttrell, 2nd Earl of Carhampton PC', 'Henry Luttrell'], additional_information=['Born 7 August 1743 – 25 April 1821', 'Son of Simon Luttrell, 1st Earl of Carhampton']),\n",
       " Node(id=743, name='Princess Alice, Duchess of Gloucester', description='Wife of Prince Henry, Duke of Gloucester', alias=['Alice Christabel Montagu Douglas Scott'], additional_information=['Born 25 December 1901 – 29 October 2004', 'Mother of Prince William and Prince Richard, Duke of Gloucester']),\n",
       " Node(id=744, name='Prince Henry, Duke of Cumberland and Strathearn', description='Son of Frederick, Prince of Wales', alias=['Henry Frederick, Duke of Cumberland'], additional_information=['Born 7 November 1745 – 18 September 1790', 'Younger brother of George III']),\n",
       " Node(id=745, name='Ann Elliot', description='British courtesan and actress', alias=[], additional_information=['Born 16 November 1743 – 30 May 1769', 'Had relationships with notable figures including Prince Henry']),\n",
       " Node(id=746, name='Anne, Duchess of Cumberland and Strathearn', description='Wife of Prince Henry, Duke of Cumberland', alias=['Anne Luttrell, later Horton'], additional_information=['Born 24 January 1743 – 28 December 1808']),\n",
       " Node(id=747, name='Princess Augusta of Saxe-Gotha', description='Princess of Wales and wife of Frederick, Prince of Wales', alias=[], additional_information=['Born – 8 February 1772', 'Mother of George III']),\n",
       " Node(id=748, name='Lavinia Ryves', description='British woman claiming royal heritage', alias=['Princess Lavinia of Cumberland', 'Lavinia Serres'], additional_information=['Born 16 March 1797 – 7 December 1871', 'Claimed to be the daughter of Prince Henry']),\n",
       " Node(id=749, name='Olivia Serres', description=\"Claimed to be related to Prince Henry, Duke of Cumberland Lavinia's mother\", alias=['Olivia Serres'], additional_information=[]),\n",
       " Node(id=750, name='Arthur Wellesley, 1st Duke of Wellington', description='British military leader', alias=[], additional_information=[]),\n",
       " Node(id=751, name='George III of the United Kingdom', description='King of the United Kingdom', alias=[], additional_information=[]),\n",
       " Node(id=752, name='Walter Smith', description=\"Lavinia's barrister and legal representative\", alias=[], additional_information=[]),\n",
       " Node(id=753, name='George III', description='King of the United Kingdom from 1760 to 1820', alias=[], additional_information=['Privately married to Hannah Lightfoot', \"Signed some documents as 'George Guelph'\"]),\n",
       " Node(id=754, name='Hannah Lightfoot', description='Quaker woman believed to be privately married to George III', alias=[], additional_information=[]),\n",
       " Node(id=755, name='George IV', description='King of the United Kingdom from 1820 to 1830, son of George III', alias=[], additional_information=[]),\n",
       " Node(id=756, name='Queen Victoria', description='Queen of the United Kingdom from 1837 to 1901', alias=[], additional_information=[]),\n",
       " Node(id=757, name='Lavinia', description='Claimed daughter of John and Olivia Serres', alias=[], additional_information=['Involved in a case regarding her legitimacy', 'Maintained she believed documents were genuine']),\n",
       " Node(id=758, name='John Serres', description=\"Lavinia's father\", alias=[], additional_information=[]),\n",
       " Node(id=759, name='Duke of Cumberland', description='Title associated with Prince Henry, uncle of Queen Elizabeth II', alias=[], additional_information=[]),\n",
       " Node(id=760, name='William FitzClarence', description=\"Olivia's boyfriend, believed to have forged documents\", alias=[], additional_information=['Had calligraphic talents']),\n",
       " Node(id=761, name='Harlin Quist', description=\"Publisher noted for innovative children's books\", alias=['Harlin Bloomquist (died May 13, 2000, age 69)'], additional_information=[]),\n",
       " Node(id=762, name='Pen-Ek Ratanaruang', description='Thai film director and screenwriter', alias=['Pen-Ek Ratanaruang (born 8 March 1962)', 'Tom Pannet'], additional_information=[\"Known for 'Last Life in the Universe'\", 'Part of the Thai new wave cinema']),\n",
       " Node(id=763, name='Ruang Talok 69', description='1999 Thai crime film', alias=['6ixtynin9', 'A Funny Story About 6 and 9'], additional_information=['Written and directed by Pen-Ek Ratanaruang', 'Stars Lalita Panyopas']),\n",
       " Node(id=764, name='Committed (film)', description='2000 film directed and written by Lisa Krueger', alias=[], additional_information=[]),\n",
       " Node(id=765, name='Blowback (film)', description='2000 film directed by Mark L. Lester', alias=[], additional_information=[]),\n",
       " Node(id=766, name='Rosie and the Goldbug', description='British indie-rock trio', alias=[], additional_information=[]),\n",
       " Node(id=767, name='A Piece of Eden', description='2000 film directed by John D. Hancock', alias=[], additional_information=['Starring Rebecca Harrell']),\n",
       " Node(id=768, name='Clouds (film)', description='2000 film written and directed by Don Thompson', alias=[], additional_information=['Produced by Will Arntz']),\n",
       " Node(id=769, name='Bedtime with Rosie', description='1974 British comedy-drama film', alias=[], additional_information=['Directed by Wolf Rilla', 'Starring Una Stubbs, Ivor Burgoyne, and Diana Dors']),\n",
       " Node(id=770, name='Bōkenshatachi', description='Song included in compilation albums', alias=[], additional_information=[\"Features in 'Do the Best' and 'Do the A-side'\"]),\n",
       " Node(id=771, name='Timecode (2000 film)', description='2000 American experimental film', alias=[], additional_information=['Written and directed by Mike Figgis', 'Features a large ensemble cast including Salma Hayek and others', 'Constructed from four continuous 93-minute takes']),\n",
       " Node(id=772, name='Richard J. Zaborski', description='American member of the Wisconsin State Senate', alias=['Richard J. Zaborski (1927 – 2001)'], additional_information=[]),\n",
       " Node(id=773, name='Mireille Delunsch', description='French opera soprano', alias=['Mireille Delunsch (born 2 November 1962)'], additional_information=['Born in Mulhouse, France.', 'Studied musicology and voice at the Conservatoire de Strasbourg.', \"Debut at the Opéra du Rhin in Mussorgsky's Boris Godunov.\"]),\n",
       " Node(id=774, name='Chadwell, Leicestershire', description='Small village in Leicestershire, England', alias=[], additional_information=['Approximately northwest of Melton Mowbray.', 'Part of Scalford and shares the same parish council.']),\n",
       " Node(id=775, name='Foulden', description='Multiple localities share this name.', alias=[], additional_information=[]),\n",
       " Node(id=776, name='George Augustus', description='Multiple people share this name.', alias=[], additional_information=[]),\n",
       " Node(id=777, name='Lacordaire', description='Multiple individuals share this surname.', alias=[], additional_information=[]),\n",
       " Node(id=778, name='Anisopus', description='Multiple genera share this name.', alias=[], additional_information=[]),\n",
       " Node(id=779, name='Dugès', description='Multiple people share this surname.', alias=[], additional_information=[]),\n",
       " Node(id=780, name='Red scorpionfish', description='Several species of fish share this name.', alias=[], additional_information=[]),\n",
       " Node(id=781, name='Raveendran', description='South Indian music composer and playback singer from Kerala', alias=['Madhavan Raveendran (born Kulathupuzha, Kollam, 9 November 1943 – died Chennai, Tamil Nadu, 3 March 2005)', 'Raveendran Master'], additional_information=['Composed more than 150 films primarily for Malayalam and Tamil cinema', 'Known for his distinctive style', \"Composed albums including 'Vasantha Geethangal Ponnonatharangini' and 'Rithugeethangal'\"]),\n",
       " Node(id=782, name='Marikkunnilla Njan', description='1988 Indian Malayalam film directed by P. K. Radhakrishnan', alias=[], additional_information=['Stars Kaviyoor Ponnamma, Nedumudi Venu, Balachandran Chullikkad, and Jagannatha Varma', 'Musical score by Raveendran']),\n",
       " Node(id=783, name='The Sporting Duchess (1920 film)', description='Lost 1920 American silent drama film directed by George Terwilliger', alias=[], additional_information=['Based on the 1895 play by Henry Hamilton', 'Produced by the Vitagraph Company of America']),\n",
       " Node(id=784, name='The Sporting Duchess (1915 film)', description=\"Lost 1915 silent film drama directed by Barry O'Neil\", alias=[], additional_information=['Produced by Lubin Manufacturing Company', 'Remade in 1920 with Alice Joyce']),\n",
       " Node(id=785, name=\"Barry O'Neil\", description='Film director and writer', alias=[\"Barry O'Neil (September 24, 1865 - March 23, 1918)\"], additional_information=['Directed several Thanhouser films', 'Real name was Thomas J. McCarthy']),\n",
       " Node(id=786, name='Michael Powell', description='English film director known for classic British films', alias=['Michael Powell (30 September 1905 – 19 February 1990)'], additional_information=['Celebrated for his partnership with Emeric Pressburger.', \"Directed '49th Parallel', 'The Red Shoes', and 'Peeping Tom'.\"]),\n",
       " Node(id=787, name='Emeric Pressburger', description='English screenwriter, producer, and director', alias=[], additional_information=['Partner of Michael Powell in directing classic films.', \"Known for films like 'The Life and Death of Colonel Blimp'.\"]),\n",
       " Node(id=788, name='49th Parallel', description='1941 film directed by Powell and Pressburger', alias=[], additional_information=['Notable British film in their partnership.']),\n",
       " Node(id=789, name='The Life and Death of Colonel Blimp', description='1943 British film directed by Powell and Pressburger', alias=[], additional_information=['Classic wartime film exploring themes of honor and nostalgia.']),\n",
       " Node(id=790, name='A Matter of Life and Death', description='1946 film directed by Powell and Pressburger', alias=[], additional_information=[\"Also known as 'Stairway to Heaven'.\"]),\n",
       " Node(id=791, name='Black Narcissus', description='1947 film directed by Powell and Pressburger', alias=[], additional_information=['Explores themes of lust and religion.']),\n",
       " Node(id=792, name='The Red Shoes', description='1948 film directed by Powell and Pressburger', alias=[], additional_information=['A critically acclaimed ballet film.']),\n",
       " Node(id=793, name='The Tales of Hoffmann', description='1951 film directed by Powell and Pressburger', alias=[], additional_information=[\"An adaptation of Jacques Offenbach's opera.\"]),\n",
       " Node(id=794, name='Peeping Tom', description='1960 film directed by Michael Powell', alias=[], additional_information=['Controversial at release, later recognized as a classic in the slasher genre.']),\n",
       " Node(id=795, name='Martin Scorsese', description='American film director', alias=[], additional_information=['Cited Powell as an influence on his filmmaking.']),\n",
       " Node(id=796, name='Egil Sætren', description='Norwegian film set designer and actor', alias=['Egil Sætren (May 11, 1894 – June 18, 1964)'], additional_information=[\"Debuted as an actor and set designer in the 1921 film 'Jomfru Trofast'\"]),\n",
       " Node(id=797, name='The Great Impersonation', description='1935 American drama film', alias=['The Great Impersonation (1935 film)'], additional_information=['Directed by Alan Crosland', 'Starring Edmund Lowe, Valerie Hobson, and Wera Engels', 'Adapted from the novel by E. Phillips Oppenheim', 'Made by Universal Pictures']),\n",
       " Node(id=798, name='The Great Impersonation (1921 film)', description='1921 film adaptation', alias=['The Great Impersonation (1921)'], additional_information=[]),\n",
       " Node(id=799, name='The Great Impersonation (1942 film)', description='1942 film adaptation', alias=['The Great Impersonation (1942)'], additional_information=[])]"
      ]
     },
     "execution_count": 27,
     "metadata": {},
     "output_type": "execute_result"
    }
   ],
   "source": [
    "rag.graph.nodes"
   ]
  },
  {
   "cell_type": "code",
   "execution_count": 28,
   "id": "53089ce6-052f-42b9-8c77-a44ea84d6423",
   "metadata": {},
   "outputs": [
    {
     "data": {
      "text/plain": [
       "[Edge(source=1, target=3, name='directed', is_directed=True, description='Directed the film', notes=[\"Directed 'Move' (1970)\"]),\n",
       " Edge(source=1, target=2, name='directed', is_directed=True, description='Directed the film', notes=[\"Directed 'Méditerranée' with assistance\"]),\n",
       " Edge(source=2, target=9, name='influenced', is_directed=False, description='Influenced another film', notes=[\"Influenced 'Contempt' by Jean-Luc Godard\"]),\n",
       " Edge(source=9, target=4, name='associated', is_directed=False, description='Approaches to filmmaking', notes=['Burlesque and melancholic elements', 'Based on texts by French poet Francis Ponge']),\n",
       " Edge(source=11, target=13, name='directed', is_directed=True, description='Directed the film', notes=[\"Directed 'The Falcon Takes Over'\"]),\n",
       " Edge(source=12, target=14, name='directed', is_directed=True, description='Directed the film', notes=[\"Directed 'The Falcon Strikes Back'\"]),\n",
       " Edge(source=13, target=11, name='starred', is_directed=False, description='Starred in the film', notes=['Starred as Gay Lawrence in Falcon series']),\n",
       " Edge(source=14, target=11, name='reprises role', is_directed=False, description='Reprised role from a previous film', notes=['Reprised the Falcon role originated by George Sanders']),\n",
       " Edge(source=15, target=17, name='directed', is_directed=True, description='Directed the film', notes=[\"Directed 'Suleiman the Conqueror'\"]),\n",
       " Edge(source=17, target=18, name='produced', is_directed=False, description='Produced the film', notes=[\"Produced 'The Falcon and the Co-eds'\"]),\n",
       " Edge(source=19, target=17, name='wrote screenplay', is_directed=False, description='Wrote the screenplay', notes=[\"Wrote the screenplay for 'The Falcon and the Co-eds'\"]),\n",
       " Edge(source=20, target=17, name='starred', is_directed=False, description='Starred in the film', notes=[\"Starred in 'The Falcon and the Co-eds'\"]),\n",
       " Edge(source=21, target=24, name='directed', is_directed=True, description='Directed the film', notes=[\"Directed 'Valentin the Good'\"]),\n",
       " Edge(source=21, target=22, name='directed', is_directed=True, description='Directed the film', notes=[\"Directed multiple films including 'The Falcons Adventure'\"]),\n",
       " Edge(source=22, target=23, name='sequel to', is_directed=False, description='Followed by another film', notes=[\"Followed by 'The Falcons Alibi'\"]),\n",
       " Edge(source=25, target=21, name='associated', is_directed=False, description='Influences', notes=[\"Influenced by Martin Frič's works\"]),\n",
       " Edge(source=26, target=22, name='part of series', is_directed=False, description='Part of The Falcon series', notes=['Listed in the continuity of The Falcon series']),\n",
       " Edge(source=28, target=27, name='directed', is_directed=True, description='Directed the film', notes=[\"Directed 'Danger: Diabolik'\"]),\n",
       " Edge(source=27, target=29, name='based on', is_directed=False, description='Based on comic series', notes=[\"Based on the comic series 'Diabolik' by Angela and Luciana Giussani\"]),\n",
       " Edge(source=27, target=30, name='starred', is_directed=False, description='Starred in the film', notes=['Starred as Diabolik']),\n",
       " Edge(source=27, target=31, name='starred', is_directed=False, description='Starred in the film', notes=['Starred as Eva Kant']),\n",
       " Edge(source=27, target=32, name='starred', is_directed=False, description='Starred in the film', notes=['Starred as Inspector Ginko']),\n",
       " Edge(source=27, target=33, name='starred', is_directed=False, description='Starred in the film', notes=['Starred as Ralph Valmont']),\n",
       " Edge(source=34, target=27, name='produced', is_directed=False, description='Produced the film', notes=['Took over production duties during filming']),\n",
       " Edge(source=27, target=35, name='scored', is_directed=False, description='Composed the score for the film', notes=['Score provided by Ennio Morricone']),\n",
       " Edge(source=36, target=27, name='recognized', is_directed=False, description='Recognized as a great movie', notes=[\"Included in Empire's '500 Greatest Movies of All Time'\"]),\n",
       " Edge(source=21, target=28, name='directed', is_directed=True, description='Directed the film', notes=['Directed a 1955 Czech comedy film']),\n",
       " Edge(source=28, target=6, name='influenced', is_directed=False, description='Influenced other filmmakers', notes=['Influenced Dario Argento, Quentin Tarantino, and more']),\n",
       " Edge(source=28, target=1, name='influenced', is_directed=False, description=\"Inspiration for other directors' styles\", notes=['Influenced many horror and fantasy filmmakers']),\n",
       " Edge(source=28, target=9, name='assisted', is_directed=False, description='Assisted by his son', notes=['Son Lamberto Bava became a noted film director']),\n",
       " Edge(source=21, target=28, name='associated', is_directed=False, description='Influenced filmmakers', notes=['Furthered Italian cinema']),\n",
       " Edge(source=1, target=21, name='influenced', is_directed=False, description='Inspired other directors', notes=['Influenced international filmmakers']),\n",
       " Edge(source=39, target=44, name='parent', is_directed=False, description='Parent-child relationship', notes=['Mina Gerhardsen is the daughter of Rune Gerhardsen']),\n",
       " Edge(source=47, target=48, name='associated', is_directed=False, description='Directed by', notes=['Directed by Robert Land']),\n",
       " Edge(source=50, target=52, name='directed', is_directed=True, description='Directed the film', notes=['Directed by Géza von Bolváry']),\n",
       " Edge(source=51, target=5, name='associated', is_directed=False, description='Director of', notes=['Director of the Israeli Academy of Film and Television']),\n",
       " Edge(source=54, target=4, name='is director of', is_directed=False, description='Director of', notes=['Director of YouTube in Latin America']),\n",
       " Edge(source=55, target=50, name='remake of', is_directed=False, description='Remade', notes=['Previous adaptation made in 1950']),\n",
       " Edge(source=61, target=62, name='composed', is_directed=False, description='Composed the soundtrack for the film', notes=[\"K. V. Mahadevan composed the score for 'Sruthilayalu'\"]),\n",
       " Edge(source=65, target=70, name='grandfather', is_directed=False, description='Grandfather relationship', notes=['John Mackay is the grandfather of William Ross']),\n",
       " Edge(source=66, target=67, name='grandfather', is_directed=False, description='Grandfather relationship', notes=['Kaya Alp is the grandfather of Ertuğrul']),\n",
       " Edge(source=67, target=68, name='grandfather', is_directed=False, description='Grandfather relationship', notes=['Zhao Shoushan is the grandfather of Zhao Leji']),\n",
       " Edge(source=68, target=69, name='grandfather', is_directed=False, description='Grandfather relationship', notes=['Abd al-Muttalib is the grandfather of Muhammad']),\n",
       " Edge(source=69, target=65, name='grandfather', is_directed=False, description='Grandfather relationship', notes=['John Westley is the grandfather of John Wesley']),\n",
       " Edge(source=70, target=73, name='grandfather', is_directed=False, description='Grandfather relationship', notes=['Henry Krause is the grandfather of Jennifer Krause']),\n",
       " Edge(source=73, target=70, name='great grandfather', is_directed=False, description='Great-grandfather relationship', notes=['Henry Krause is the great grandfather of Payton Hoeing']),\n",
       " Edge(source=71, target=65, name='grandfather', is_directed=False, description='Grandfather relationship', notes=['Lyon Cohen is the grandfather of Leonard Cohen']),\n",
       " Edge(source=72, target=73, name='succeeded', is_directed=False, description='Succeeded relationship', notes=['Rhescuporis I succeeded Cotys III']),\n",
       " Edge(source=73, target=74, name='grandfather', is_directed=False, description='Grandfather relationship', notes=['Fred Le Deux is the grandfather of Tom Hawkins']),\n",
       " Edge(source=75, target=76, name='succeeded', is_directed=False, description='Succeeded Richard A. Gleeson as president', notes=['Preceded by Robert E. Kenna']),\n",
       " Edge(source=77, target=78, name='directed', is_directed=True, description='Directed the film', notes=[\"Directed 'The Star of Santa Clara'\"]),\n",
       " Edge(source=79, target=75, name='associated', is_directed=False, description='Associated with Santa Clara University', notes=[]),\n",
       " Edge(source=80, target=79, name='associated', is_directed=False, description='Associated with the City of Santa Clara', notes=['Judge in the city council jurisdiction']),\n",
       " Edge(source=79, target=80, name='associated', is_directed=False, description='Associated with the City of Santa Clara', notes=['Serves on various city committees']),\n",
       " Edge(source=79, target=75, name='related to', is_directed=False, description='Council member relationship', notes=['Part of Santa Clara city council']),\n",
       " Edge(source=81, target=77, name='directed', is_directed=True, description='Directed the film', notes=[\"Directed 'The Ex-Mrs. Bradford'\"]),\n",
       " Edge(source=77, target=81, name='associated with', is_directed=False, description='Relationship to the film', notes=['Last film directed before his death']),\n",
       " Edge(source=83, target=82, name='associated with', is_directed=False, description='Known works', notes=['Contributions to various films']),\n",
       " Edge(source=86, target=84, name='directed', is_directed=True, description='Directed the film', notes=[\"Directed 'Engal Aasan'\"]),\n",
       " Edge(source=86, target=85, name='starred', is_directed=False, description='Starred in the film', notes=['Vijayakanth played the lead role']),\n",
       " Edge(source=86, target=87, name='starred', is_directed=False, description='Starred in the film', notes=['Vikranth played a supporting role']),\n",
       " Edge(source=86, target=88, name='starred', is_directed=False, description='Starred in the film', notes=['Sheryl Brindo played a supporting role']),\n",
       " Edge(source=86, target=89, name='starred', is_directed=False, description='Starred in the film', notes=['Akshaya played a supporting role']),\n",
       " Edge(source=86, target=90, name='starred', is_directed=False, description='Starred in the film', notes=['Suja Varunee played a supporting role']),\n",
       " Edge(source=91, target=87, name='associated with', is_directed=False, description='Connected through shared themes', notes=[\"'Kill the Love' has a different narrative focus\"]),\n",
       " Edge(source=93, target=84, name='influenced', is_directed=False, description='Thematic connections', notes=['Themes of love present in both films']),\n",
       " Edge(source=94, target=97, name='associated', is_directed=False, description='Connection to SRI International', notes=[]),\n",
       " Edge(source=95, target=99, name='directed', is_directed=True, description=\"Directed the film 'The Fascist'\", notes=[\"Luciano Salce was the director of 'The Fascist'\"]),\n",
       " Edge(source=97, target=94, name='associated', is_directed=False, description='Connection to Olav Aaraas in museum direction', notes=[]),\n",
       " Edge(source=95, target=98, name='associated', is_directed=False, description='Connection to contemporary art discussions', notes=[]),\n",
       " Edge(source=99, target=95, name='associated', is_directed=False, description='Historical context in art direction', notes=[]),\n",
       " Edge(source=51, target=94, name='associated', is_directed=False, description='Connection in film and television direction', notes=[]),\n",
       " Edge(source=98, target=94, name='connected to', is_directed=False, description='Connection through historical discussions', notes=[]),\n",
       " Edge(source=51, target=51, name='same individual', is_directed=False, description='Name consistency check', notes=[]),\n",
       " Edge(source=101, target=102, name='associated', is_directed=False, description='Connected to high schools in Kentucky and West Virginia', notes=[]),\n",
       " Edge(source=103, target=104, name='part of district', is_directed=False, description='Part of Township High School District', notes=[]),\n",
       " Edge(source=105, target=101, name='historical context', is_directed=False, description='Historical significance of schools', notes=[]),\n",
       " Edge(source=106, target=103, name='connected through sports', is_directed=False, description='School known for sports development', notes=[]),\n",
       " Edge(source=106, target=102, name='regional coverage', is_directed=False, description='Regional representation in sports', notes=[]),\n",
       " Edge(source=113, target=111, name='edited by', is_directed=False, description='Editor-in-chief of the journal', notes=[]),\n",
       " Edge(source=113, target=112, name='edited by', is_directed=False, description='Editor-in-chief of the journal', notes=[]),\n",
       " Edge(source=114, target=115, name='associated with', is_directed=False, description=\"Part of Brogeland's team during the scandal\", notes=[]),\n",
       " Edge(source=114, target=116, name='associated with', is_directed=False, description=\"Part of Brogeland's team\", notes=[]),\n",
       " Edge(source=114, target=117, name='associated with', is_directed=False, description=\"Part of Brogeland's team\", notes=[]),\n",
       " Edge(source=114, target=118, name='associated with', is_directed=False, description=\"Part of Brogeland's team\", notes=[]),\n",
       " Edge(source=114, target=119, name='associated with', is_directed=False, description=\"Part of Brogeland's team\", notes=[]),\n",
       " Edge(source=120, target=115, name='opponent of', is_directed=False, description='Played against Schwartz', notes=[]),\n",
       " Edge(source=120, target=114, name='opponent of', is_directed=False, description='Played against Brogeland', notes=[]),\n",
       " Edge(source=119, target=114, name='investigated', is_directed=False, description='Related to allegations against Fisher and Schwartz', notes=[]),\n",
       " Edge(source=121, target=123, name='wrote', is_directed=False, description='Wrote the collection', notes=[\"Diane Gilliam Fisher wrote 'Kettle Bottom'\"]),\n",
       " Edge(source=123, target=121, name='features', is_directed=False, description='Focus on labor battles', notes=[\"'Kettle Bottom' discusses labor battles in West Virginia\"]),\n",
       " Edge(source=124, target=125, name='couple', is_directed=False, description='Romantic couple in soap opera', notes=['Rafe Kovich and Alison Barrington Kovich are portrayed as a couple']),\n",
       " Edge(source=125, target=124, name='couple', is_directed=False, description='Romantic couple in soap opera', notes=['Alison Barrington Kovich and Rafe Kovich']),\n",
       " Edge(source=124, target=125, name='written as', is_directed=False, description='Written as star-crossed lovers', notes=['Writers crafted a romance between Rafe and Alison']),\n",
       " Edge(source=125, target=124, name='written as', is_directed=False, description='Written as star-crossed lovers', notes=[\"Alison and Rafe's relationship in the show\"]),\n",
       " Edge(source=126, target=124, name='appeared in', is_directed=False, description='Acted in the show', notes=[\"Characters from 'Port Charles'\"]),\n",
       " Edge(source=138, target=138, name='same individual', is_directed=False, description='Name consistency check', notes=[]),\n",
       " Edge(source=139, target=139, name='same individual', is_directed=False, description='Name consistency check', notes=[]),\n",
       " Edge(source=140, target=140, name='same individual', is_directed=False, description='Name consistency check', notes=[]),\n",
       " Edge(source=141, target=141, name='same individual', is_directed=False, description='Name consistency check', notes=[]),\n",
       " Edge(source=142, target=142, name='same individual', is_directed=False, description='Name consistency check', notes=[]),\n",
       " Edge(source=143, target=143, name='same individual', is_directed=False, description='Name consistency check', notes=[]),\n",
       " Edge(source=144, target=144, name='same individual', is_directed=False, description='Name consistency check', notes=[]),\n",
       " Edge(source=145, target=145, name='same individual', is_directed=False, description='Name consistency check', notes=[]),\n",
       " Edge(source=146, target=146, name='same individual', is_directed=False, description='Name consistency check', notes=[]),\n",
       " Edge(source=140, target=1, name='influenced', is_directed=False, description='Influenced international filmmakers', notes=['Influenced many artists across genres']),\n",
       " Edge(source=140, target=2, name='associated', is_directed=False, description='Part of musical collaborations', notes=['Worked with Buffalo Springfield and Crosby, Stills & Nash']),\n",
       " Edge(source=140, target=28, name='directed', is_directed=True, description='Directed films using pseudonym', notes=[\"Directed films like 'Journey Through the Past' and 'Rust Never Sleeps'\"]),\n",
       " Edge(source=140, target=9, name='contributed to', is_directed=False, description='Contributed to soundtracks', notes=[\"Contributed to soundtracks of films like 'Philadelphia' and 'Dead Man'\"]),\n",
       " Edge(source=140, target=51, name='received award', is_directed=False, description='Recipient of Order of Manitoba', notes=['Awarded on July 14, 2006']),\n",
       " Edge(source=140, target=44, name='received award', is_directed=False, description='Made Officer of the Order of Canada', notes=['Awarded on December 30, 2009']),\n",
       " Edge(source=140, target=3, name='influenced', is_directed=False, description='Inspired numerous artists', notes=[\"Earned nickname 'Godfather of Grunge'\"]),\n",
       " Edge(source=147, target=149, name='directed', is_directed=True, description='Directed the film', notes=[\"Directed 'Borunbabur Bondhu'\"]),\n",
       " Edge(source=149, target=6, name='based on', is_directed=False, description='Based on a story', notes=[\"Based on 'Chhad' by Ramapada Chowdhury\"]),\n",
       " Edge(source=95, target=149, name='associated', is_directed=False, description='Involved in art direction', notes=[\"Brian Kennedy's influence on film\"]),\n",
       " Edge(source=94, target=95, name='associated', is_directed=False, description='Connection through museum direction', notes=[]),\n",
       " Edge(source=95, target=111, name='headed by', is_directed=False, description='Director role', notes=['Director of Peabody Essex Museum']),\n",
       " Edge(source=149, target=51, name='involved with', is_directed=False, description='Connection in film production', notes=[\"Dana Blankstein's influence in film community\"]),\n",
       " Edge(source=150, target=143, name='associated', is_directed=False, description='Connection through music influence', notes=['Influenced many genres including rock and roll']),\n",
       " Edge(source=150, target=154, name='performed', is_directed=False, description='Elvis performed the song', notes=[\"Performed 'There Is So Much World to See'\"]),\n",
       " Edge(source=151, target=141, name='performed by', is_directed=False, description='The Decemberists performed the song', notes=[\"'O Valencia!' by The Decemberists\"]),\n",
       " Edge(source=152, target=150, name='related to', is_directed=False, description='Related to song titles', notes=['The Fools Hall of Fame is a title of American songs']),\n",
       " Edge(source=154, target=155, name='sung to', is_directed=False, description='Elvis sings to a character', notes=[\"Sung to Jill Conway in 'Double Trouble'\"]),\n",
       " Edge(source=158, target=163, name='is wife of', is_directed=False, description='Marriage relationship', notes=['Third wife of Sheikh Zayed bin Sultan Al Nahyan']),\n",
       " Edge(source=163, target=158, name='mother of', is_directed=False, description='Maternal relationship', notes=['Mother of Sheikhs and referred to as Mother of the UAE']),\n",
       " Edge(source=5, target=165, name='directed', is_directed=True, description='Directed films', notes=['Peter Levin is known for directing TV and film']),\n",
       " Edge(source=165, target=166, name='directed', is_directed=True, description='Directed the film', notes=[\"Don Siegel directed 'Private Hell 36'\"]),\n",
       " Edge(source=46, target=38, name='competed in', is_directed=False, description='Competed in sports', notes=['Both Brian Saunders and Terence Robinson are athletes associated with England']),\n",
       " Edge(source=41, target=4, name='associated with', is_directed=False, description='Part of history', notes=[\"Theodred II's time overlaps with biblical and medieval history\"]),\n",
       " Edge(source=166, target=5, name='influenced', is_directed=False, description='Influenced other directors', notes=['Don Siegel influenced many contemporary filmmakers']),\n",
       " Edge(source=43, target=5, name='inspired', is_directed=False, description='Inspired children’s authors', notes=[\"Etan Boritzer has inspired many in children's literature\"]),\n",
       " Edge(source=5, target=43, name='associated with', is_directed=False, description='Connection to film and literature', notes=['Exploration of various human experiences in films and literature']),\n",
       " Edge(source=168, target=167, name='operates', is_directed=True, description='Operates the SCR restaurant', notes=[]),\n",
       " Edge(source=169, target=168, name='associated with', is_directed=False, description='SCR Corporation Sdn Bhd associated with Silterra', notes=[]),\n",
       " Edge(source=170, target=168, name='related to', is_directed=False, description='Infopro connected to local businesses', notes=[]),\n",
       " Edge(source=171, target=170, name='influenced', is_directed=False, description=\"Infopro's contributions to telecommunications\", notes=[]),\n",
       " Edge(source=172, target=171, name='international presence', is_directed=False, description=\"U Mobile's link to defense sector\", notes=[]),\n",
       " Edge(source=172, target=170, name='influenced', is_directed=False, description=\"Infopro's technological innovations influence defense\", notes=[]),\n",
       " Edge(source=171, target=169, name='operates in', is_directed=False, description='U Mobile’s services in technology market', notes=[]),\n",
       " Edge(source=169, target=172, name='related to', is_directed=False, description='Silterra involved in manufacturing for defense', notes=[]),\n",
       " Edge(source=172, target=168, name='owned by', is_directed=False, description='SMEO linked to SCR Corporation', notes=[]),\n",
       " Edge(source=173, target=175, name='operates', is_directed=False, description='Operates within the automotive sector', notes=['Engages in manufacturing and assembly of vehicles']),\n",
       " Edge(source=175, target=173, name='partners with', is_directed=False, description='DRB-HICOM works with Rapid Rail', notes=['Involved in public transportation initiatives']),\n",
       " Edge(source=174, target=173, name='financial services for', is_directed=False, description='VakıfBank provides services to businesses', notes=['Supports automotive and transport industries with financing']),\n",
       " Edge(source=176, target=175, name='food supplier for', is_directed=False, description='Ramly Group supplies food products', notes=['Provides food services for workers in the transport sector']),\n",
       " Edge(source=177, target=176, name='distributes literature for', is_directed=False, description='MPH Group supplies reading materials', notes=['Collaborates with businesses for corporate publications']),\n",
       " Edge(source=6, target=8, name='influenced', is_directed=False, description='Influenced special effects in film and television', notes=[]),\n",
       " Edge(source=183, target=183, name='directed', is_directed=True, description='Directed the film', notes=[\"Directed 'Chandirani'\"]),\n",
       " Edge(source=183, target=183, name='associated', is_directed=False, description='Part of historical films', notes=['Connection through Chandirani']),\n",
       " Edge(source=183, target=183, name='starring', is_directed=False, description='Starring roles', notes=[\"Main actors in 'Not Without Gisela'\"]),\n",
       " Edge(source=183, target=183, name='associated', is_directed=False, description='Connection with Indian cinema', notes=['Involved in multilateral productions']),\n",
       " Edge(source=183, target=183, name='influenced', is_directed=False, description='Influenced other filmmakers', notes=['Impact on young directors in the industry']),\n",
       " Edge(source=184, target=0, name='is', is_directed=False, description='Identity of the person', notes=[]),\n",
       " Edge(source=185, target=0, name='is', is_directed=False, description='Identity of the person', notes=[]),\n",
       " Edge(source=186, target=0, name='is', is_directed=False, description='Identity of the person', notes=[]),\n",
       " Edge(source=187, target=0, name='is', is_directed=False, description='Identity of the person', notes=[]),\n",
       " Edge(source=188, target=0, name='is', is_directed=False, description='Identity of the person', notes=[]),\n",
       " Edge(source=189, target=0, name='is', is_directed=False, description='Identity of the person', notes=[]),\n",
       " Edge(source=190, target=0, name='is', is_directed=False, description='Identity of the person', notes=[]),\n",
       " Edge(source=191, target=0, name='is', is_directed=False, description='Identity of the person', notes=[]),\n",
       " Edge(source=192, target=0, name='is', is_directed=False, description='Identity of the person', notes=[]),\n",
       " Edge(source=193, target=0, name='is', is_directed=False, description='Identity of the person', notes=[]),\n",
       " Edge(source=204, target=205, name='composed', is_directed=False, description='Music composed by', notes=[\"Ryan Shore composed the music for 'Coney Island Baby'\"]),\n",
       " Edge(source=204, target=206, name='shot in', is_directed=False, description='Filmed in', notes=['Filmed in Sligo, Ireland']),\n",
       " Edge(source=204, target=202, name='premiered', is_directed=False, description='Film premiere', notes=['Premiered in 2009']),\n",
       " Edge(source=204, target=203, name='related to', is_directed=False, description='Disambiguation connection', notes=[\"Links to various films associated with 'Change or Die'\"]),\n",
       " Edge(source=202, target=207, name='associated with', is_directed=False, description='Related to disambiguation', notes=[\"Refers to 'Do or Die'\"]),\n",
       " Edge(source=212, target=213, name='has faculty', is_directed=False, description='Terry Slater is associated with University of Birmingham', notes=['Honorary senior research fellow in Historical Geography']),\n",
       " Edge(source=213, target=212, name='affiliated with', is_directed=False, description='Terry Slater is affiliated with University of Birmingham', notes=[]),\n",
       " Edge(source=212, target=216, name='has faculty', is_directed=False, description='Maureen Perrie is associated with University of Birmingham', notes=['Professor Emeritus of Russian History at Birmingham']),\n",
       " Edge(source=216, target=212, name='affiliated with', is_directed=False, description='Maureen Perrie is affiliated with University of Birmingham', notes=[]),\n",
       " Edge(source=215, target=212, name='notable alumni', is_directed=False, description='Cliff Ollier had a notable career associated with University of Birmingham', notes=[]),\n",
       " Edge(source=213, target=212, name='associated with', is_directed=False, description='Terry Slater is associated with University of Birmingham', notes=[]),\n",
       " Edge(source=217, target=212, name='related to', is_directed=False, description='Sky Dayton is related to University of Birmingham alumni', notes=[]),\n",
       " Edge(source=212, target=214, name='notable president', is_directed=False, description='LeRoy D. Brown is a notable president of a university', notes=[]),\n",
       " Edge(source=213, target=215, name='collaboration', is_directed=False, description='Collaboration in research fields', notes=[]),\n",
       " Edge(source=216, target=215, name='associated with', is_directed=False, description='Both associated with academic research', notes=[]),\n",
       " Edge(source=218, target=223, name='associated with', is_directed=False, description='Significant geographical location in his political career', notes=['Chamberlain was a notable mayor in Birmingham']),\n",
       " Edge(source=220, target=219, name='president of', is_directed=False, description='Served as president of University of Tennessee system', notes=['Joseph E. Johnson held this position from 1991 to 1999']),\n",
       " Edge(source=221, target=223, name='associated with', is_directed=False, description='Dean of a significant city', notes=['Matt Thompson is the Dean of Birmingham Cathedral']),\n",
       " Edge(source=222, target=219, name='president of', is_directed=False, description=\"Served as president of University of St. Michael's College\", notes=['David Sylvester holds this title at University of Toronto']),\n",
       " Edge(source=196, target=224, name='associated', is_directed=False, description='Connection through historical events', notes=[\"David Ji's case highlighted issues related to race affecting American businessmen.\", \"Rhescuporis II's rulings had implications on future kings.\"]),\n",
       " Edge(source=225, target=224, name='successor', is_directed=False, description='Relationship through legacy', notes=['Rhescuporis IV succeeded Sauromates III, the brother of Rhescuporis II.']),\n",
       " Edge(source=226, target=196, name='influence', is_directed=False, description='Connection through narrative themes', notes=[\"Paula E. Downing wrote narratives exploring themes similar to those in David Ji's experiences.\"]),\n",
       " Edge(source=228, target=224, name='brother', is_directed=False, description='Brother relationship', notes=['Rhoemetalces I and Rhescuporis II are siblings']),\n",
       " Edge(source=228, target=230, name='successor', is_directed=False, description='Successor relationship', notes=['Rhoemetalces II succeeded Rhoemetalces I']),\n",
       " Edge(source=228, target=231, name='described by', is_directed=False, description='Described by Tacitus', notes=['Tacitus wrote about Rhoemetalces I']),\n",
       " Edge(source=230, target=232, name='mother of', is_directed=False, description='Mother relationship', notes=['Antonia Tryphaena is the mother of Rhoemetalces II']),\n",
       " Edge(source=228, target=229, name='parent', is_directed=False, description='Parent relationship', notes=['Rhoemetalces I is the son of Cotys IV']),\n",
       " Edge(source=230, target=224, name='usurped', is_directed=False, description='Usurped throne relationship', notes=['Rhoemetalces II and Tryphaena succeeded Rhescuporis II']),\n",
       " Edge(source=227, target=228, name='associated with', is_directed=False, description='Historical context', notes=['Hüma Hatun is part of Ottoman history']),\n",
       " Edge(source=234, target=224, name='succeeded', is_directed=False, description='Succeeded his father', notes=['Rhescuporis III succeeded Rhescuporis II']),\n",
       " Edge(source=224, target=234, name='co-ruled with', is_directed=False, description='Co-ruled as kings', notes=['Rhescuporis II co-ruled with Rhescuporis III']),\n",
       " Edge(source=224, target=2, name='associated with', is_directed=False, description='Relation to Cotys III', notes=['Cotys III is brother of Rhescuporis II and uncle of Rhescuporis III']),\n",
       " Edge(source=234, target=2, name='contemporary of', is_directed=False, description='Contemporary of Roman emperors', notes=['Rhescuporis III was contemporary to Caracalla, Macrinus, Elagabalus, and Alexander Severus']),\n",
       " Edge(source=236, target=178, name='directed', is_directed=True, description='Directed the film', notes=[\"Directed 'A Soldiers Oath'\"]),\n",
       " Edge(source=4, target=5, name='directed', is_directed=True, description='Directed films', notes=[]),\n",
       " Edge(source=178, target=236, name='associated', is_directed=False, description='Related through film', notes=[\"Oscar Apfel directed and starred in 'A Soldiers Oath'\"]),\n",
       " Edge(source=6, target=236, name='influenced', is_directed=False, description='Influential director', notes=['Oscar Apfel was influential in the field of direction']),\n",
       " Edge(source=5, target=236, name='influenced', is_directed=False, description='Influenced director', notes=['Peter Levin may have been influenced by Oscar Apfel']),\n",
       " Edge(source=237, target=238, name='directed', is_directed=True, description='Directed a film', notes=[]),\n",
       " Edge(source=8, target=237, name='associated', is_directed=False, description='Filmmaker connection', notes=['Hanro Smitsman shares a connection with Rajesh Verma in film']),\n",
       " Edge(source=183, target=8, name='associated', is_directed=False, description='Shared background as filmmakers', notes=[]),\n",
       " Edge(source=183, target=237, name='linked', is_directed=False, description='Connection through politics', notes=[]),\n",
       " Edge(source=183, target=236, name='related', is_directed=False, description='Connection through film history', notes=[]),\n",
       " Edge(source=1, target=5, name='associated', is_directed=False, description='Part of the film community', notes=['Both involved in films and direction']),\n",
       " Edge(source=1, target=240, name='contemporary of', is_directed=False, description='Contemporaries in filmmaking', notes=['Both involved in the film industry during moderate historical periods']),\n",
       " Edge(source=50, target=1, name='related to', is_directed=False, description='Related through historical cinematic works', notes=['Both contributed to cinema and are recognized in their fields']),\n",
       " Edge(source=246, target=253, name='directed', is_directed=True, description='Directed the film', notes=[\"Directed 'Butcher, Baker, Nightmare Maker'\"]),\n",
       " Edge(source=249, target=248, name='composed', is_directed=False, description='Composed the song', notes=[\"Song 'Siempre en Mi Corazón'\"]),\n",
       " Edge(source=250, target=253, name='directed', is_directed=True, description='Directed the film', notes=[\"Directed 'Butcher, Baker, Nightmare Maker'\"]),\n",
       " Edge(source=250, target=251, name='associated', is_directed=False, description='Married to Elizabeth Montgomery', notes=[]),\n",
       " Edge(source=253, target=255, name='starred', is_directed=False, description='Starred in the film', notes=[\"Jimmy McNichol appears in 'Butcher, Baker, Nightmare Maker'\"]),\n",
       " Edge(source=253, target=254, name='starred', is_directed=False, description='Starred in the film', notes=[\"Susan Tyrrell appears in 'Butcher, Baker, Nightmare Maker'\"]),\n",
       " Edge(source=252, target=252, name='same individual', is_directed=False, description='Name consistency check', notes=[]),\n",
       " Edge(source=251, target=250, name='influenced', is_directed=False, description='Influenced early television direction', notes=[]),\n",
       " Edge(source=250, target=246, name='influenced', is_directed=False, description='Inspired contemporary filmmakers', notes=[]),\n",
       " Edge(source=151, target=141, name='performed by', is_directed=False, description='Song by The Decemberists', notes=[]),\n",
       " Edge(source=244, target=256, name='associated with', is_directed=False, description='Related through historical music contributions', notes=[]),\n",
       " Edge(source=257, target=244, name='performed', is_directed=False, description=\"Performed 'Miss Brown to You'\", notes=[\"Billie Holiday's contribution to the song\"]),\n",
       " Edge(source=257, target=141, name='influenced', is_directed=False, description=\"Billie Holiday's influence on indie music\", notes=[]),\n",
       " Edge(source=145, target=256, name='performed', is_directed=False, description='Associated through music history', notes=['Kristian Leontiou is connected through music legacy']),\n",
       " Edge(source=139, target=257, name='associated', is_directed=False, description='Influenced by or connected to Billie Holiday', notes=[]),\n",
       " Edge(source=146, target=257, name='influenced', is_directed=False, description=\"Bernie Bonvoisin was influenced by Billie Holiday's work in music\", notes=[]),\n",
       " Edge(source=146, target=141, name='associated with', is_directed=False, description='Connection in musical influence', notes=[\"Bonvoisin's hard rock influences align with rock innovations\"]),\n",
       " Edge(source=95, target=176, name='directed', is_directed=True, description='Directed the Peabody Essex Museum', notes=[]),\n",
       " Edge(source=268, target=265, name='directed', is_directed=True, description=\"Directed 'Aaranya Kandam'\", notes=[]),\n",
       " Edge(source=176, target=268, name='associated', is_directed=False, description='Collaboration in film direction', notes=[]),\n",
       " Edge(source=261, target=166, name='directed', is_directed=True, description='Directed the film', notes=[]),\n",
       " Edge(source=267, target=267, name='associated with', is_directed=False, description='Connection to film direction', notes=[]),\n",
       " Edge(source=262, target=262, name='directed', is_directed=True, description='Directed films', notes=[]),\n",
       " Edge(source=267, target=267, name='directed', is_directed=True, description='Directed films', notes=[]),\n",
       " Edge(source=266, target=268, name='influenced', is_directed=False, description='Influenced Malayalam cinema', notes=[]),\n",
       " Edge(source=100, target=4, name='associated', is_directed=False, description='Connection through public service', notes=[]),\n",
       " Edge(source=100, target=97, name='director of', is_directed=True, description='Directed the Indian Intelligence Bureau', notes=[]),\n",
       " Edge(source=269, target=270, name='based on', is_directed=False, description='Film based on the book by Eleanor Ruggles', notes=[]),\n",
       " Edge(source=270, target=103, name='associated', is_directed=False, description='Family connections with other directors', notes=[]),\n",
       " Edge(source=94, target=269, name='associated', is_directed=False, description='Connection through cultural history influences', notes=[]),\n",
       " Edge(source=95, target=84, name='influenced', is_directed=False, description='Influenced by historical narratives', notes=[]),\n",
       " Edge(source=96, target=269, name='produced', is_directed=True, description=\"Produced the film 'Prince of Players'\", notes=[]),\n",
       " Edge(source=4, target=94, name='associated', is_directed=False, description='Linked through museum and art direction', notes=[]),\n",
       " Edge(source=270, target=5, name='directed', is_directed=True, description='Philip Ford directed multiple films', notes=[]),\n",
       " Edge(source=5, target=100, name='related to', is_directed=False, description='Related through film history', notes=[]),\n",
       " Edge(source=5, target=273, name='directed', is_directed=True, description='Directed the film', notes=[]),\n",
       " Edge(source=43, target=43, name='same individual', is_directed=False, description='Name consistency check', notes=[]),\n",
       " Edge(source=45, target=41, name='related to', is_directed=False, description='Connection through sports history', notes=[]),\n",
       " Edge(source=273, target=4, name='directed', is_directed=True, description='Directed the film', notes=[]),\n",
       " Edge(source=274, target=4, name='directed', is_directed=True, description='Directed comedy films', notes=[]),\n",
       " Edge(source=4, target=1, name='directed', is_directed=True, description='Directed multiple films', notes=[]),\n",
       " Edge(source=4, target=274, name='associated', is_directed=False, description='Worked collaboratively', notes=[]),\n",
       " Edge(source=5, target=43, name='influenced', is_directed=False, description='Influenced writers', notes=[]),\n",
       " Edge(source=5, target=46, name='associated with', is_directed=False, description='Connection through competitive fields', notes=[]),\n",
       " Edge(source=5, target=45, name='associated with', is_directed=False, description='Connection through sports history', notes=[]),\n",
       " Edge(source=243, target=42, name='is', is_directed=False, description='Identifies Bill Smith as a footballer', notes=[]),\n",
       " Edge(source=275, target=277, name='is directed by', is_directed=True, description='Directed by Alfred Santell', notes=[]),\n",
       " Edge(source=275, target=8, name='stars', is_directed=False, description='Features actors in the film', notes=['Lloyd Hamilton, Bud Duncan, Marin Sais']),\n",
       " Edge(source=276, target=242, name='has director', is_directed=True, description='Directed by J. E. Mathews', notes=[]),\n",
       " Edge(source=242, target=23, name='is', is_directed=False, description='Identifies Thomas Scott as a diver', notes=[]),\n",
       " Edge(source=277, target=5, name='is associated with', is_directed=False, description='Association with other film directors', notes=[]),\n",
       " Edge(source=43, target=5, name='was influenced by', is_directed=False, description=\"Influenced children's authors\", notes=['Wrote many books that raised philosophical questions']),\n",
       " Edge(source=5, target=44, name='influenced', is_directed=False, description='Part of a movement', notes=['Influenced television and film direction practices']),\n",
       " Edge(source=278, target=4, name='was produced by', is_directed=True, description='Produced the film', notes=[]),\n",
       " Edge(source=4, target=278, name='is a subject of', is_directed=False, description='Subject matter of the film', notes=[]),\n",
       " Edge(source=279, target=285, name='directed', is_directed=True, description='Directed the film', notes=[\"Directed 'Passage West' (1951)\"]),\n",
       " Edge(source=283, target=286, name='directed', is_directed=True, description='Directed the film', notes=[\"Directed 'Musa'\"]),\n",
       " Edge(source=279, target=280, name='directed', is_directed=True, description='Directed the film', notes=[\"Directed 'Satan Town'\"]),\n",
       " Edge(source=282, target=279, name='associated', is_directed=False, description='Connection through film direction', notes=['Both involved in the film and television industries']),\n",
       " Edge(source=281, target=282, name='influenced', is_directed=False, description=\"Influenced by Keller's directing style\", notes=[]),\n",
       " Edge(source=284, target=286, name='associated', is_directed=False, description='Connection through historical themes', notes=['Both have themes prevalent in their works']),\n",
       " Edge(source=288, target=281, name='associated', is_directed=False, description='Both related by hurling sports', notes=['Connection through sports history in Ireland']),\n",
       " Edge(source=289, target=290, name='founded by', is_directed=True, description='Founded the Kerman Seljuk Sultanate.', notes=[]),\n",
       " Edge(source=289, target=291, name='ruled by', is_directed=True, description='A significant ruler of Kerman.', notes=[]),\n",
       " Edge(source=289, target=292, name='ruled by', is_directed=True, description='Another significant ruler of Kerman.', notes=[]),\n",
       " Edge(source=289, target=293, name='related to', is_directed=False, description='Connected through regional developments.', notes=[]),\n",
       " Edge(source=294, target=289, name='located in', is_directed=False, description='Located in the Kerman Province.', notes=[]),\n",
       " Edge(source=295, target=294, name='associated with', is_directed=False, description='Connected through economic activities.', notes=[]),\n",
       " Edge(source=295, target=296, name='linked to', is_directed=False, description='Related through transit connections.', notes=[]),\n",
       " Edge(source=297, target=289, name='influence on', is_directed=False, description='Influenced regional competitive events.', notes=[]),\n",
       " Edge(source=299, target=305, name='married', is_directed=False, description='Married to Andrew Murray', notes=[]),\n",
       " Edge(source=309, target=312, name='named after', is_directed=False, description='Lake Charles was named for', notes=['Named for Charles Sallier, early settler']),\n",
       " Edge(source=309, target=313, name='settlement of', is_directed=False, description='LeBleu Settlement was near', notes=['Martin and Dela LeBleu were early settlers']),\n",
       " Edge(source=313, target=312, name='settlers', is_directed=False, description='Martin and Dela LeBleu were among the first settlers of', notes=['Connection to LeBleu Settlement']),\n",
       " Edge(source=309, target=316, name='serves', is_directed=False, description='Lake Charles Regional Airport serves', notes=['Serves the Lake Charles area']),\n",
       " Edge(source=317, target=309, name='related to', is_directed=False, description='Connection to local history', notes=['Arcata–Eureka Airport is known for regional connections']),\n",
       " Edge(source=315, target=312, name='involvement', is_directed=False, description='Jean Laffite involved in legends about', notes=['Connection to events involving Charles Sallier']),\n",
       " Edge(source=319, target=320, name='is near', is_directed=False, description='Proximity to another airport', notes=[]),\n",
       " Edge(source=319, target=321, name='is near', is_directed=False, description='Proximity to another airport', notes=[]),\n",
       " Edge(source=319, target=322, name='is near', is_directed=False, description='Proximity to another airport', notes=[]),\n",
       " Edge(source=319, target=323, name='is near', is_directed=False, description='Proximity to another airport', notes=[]),\n",
       " Edge(source=319, target=324, name='operates flights', is_directed=False, description='Flights operated by the airline', notes=['Operates two routes to Florida']),\n",
       " Edge(source=100, target=97, name='directed', is_directed=True, description='Directed SRI International', notes=[]),\n",
       " Edge(source=97, target=4, name='directed', is_directed=True, description='Directed the Armour Research Foundation', notes=[]),\n",
       " Edge(source=328, target=95, name='directed', is_directed=True, description='Directed SMS für Dich', notes=[]),\n",
       " Edge(source=5, target=4, name='directed', is_directed=True, description='Directed films including Ich für dich, du für mich', notes=[]),\n",
       " Edge(source=4, target=268, name='directed', is_directed=True, description=\"Directed Carl Froelich's films\", notes=[]),\n",
       " Edge(source=4, target=328, name='directed', is_directed=True, description='Directed Ich für dich, du für mich', notes=[]),\n",
       " Edge(source=4, target=4, name='associated', is_directed=False, description='Connection through film direction', notes=[]),\n",
       " Edge(source=283, target=4, name='associated', is_directed=False, description='Connection to earlier films', notes=[]),\n",
       " Edge(source=4, target=4, name='associated', is_directed=False, description='Linked films', notes=[]),\n",
       " Edge(source=1, target=100, name='influenced', is_directed=False, description='Influence on art direction', notes=[]),\n",
       " Edge(source=144, target=146, name='associated', is_directed=False, description='Connection through musical influence', notes=['Both are musicians from the same era']),\n",
       " Edge(source=242, target=41, name='historical figure', is_directed=False, description='Engaged in historical events', notes=['Part of medieval religious context']),\n",
       " Edge(source=43, target=144, name='inspiration', is_directed=False, description=\"Influenced themes in children's literature\", notes=[\"Boritzer's work has themes of understanding and education\"]),\n",
       " Edge(source=41, target=243, name='historical identity', is_directed=False, description='Significant person in English religious history', notes=['Bishop of Elmham during medieval times']),\n",
       " Edge(source=241, target=41, name='contemporary of', is_directed=False, description='Contemporary figures in different fields of expertise', notes=['Different time periods but share historical significance']),\n",
       " Edge(source=329, target=329, name='same song', is_directed=False, description='Tracks are titled the same', notes=['Links between musical styles present']),\n",
       " Edge(source=44, target=41, name='discussed in work', is_directed=False, description='Connection through themes of spirituality', notes=[\"Theodred II's significance in church history\"]),\n",
       " Edge(source=43, target=144, name='shared audience', is_directed=False, description='Similar fanbases in music', notes=['Both artists are influential in their genres']),\n",
       " Edge(source=330, target=331, name='starred', is_directed=False, description='Starred in the film', notes=[\"Played Dorothy Gale in 'The Wizard of Oz'\"]),\n",
       " Edge(source=330, target=332, name='won', is_directed=False, description='Won the Grammy Award', notes=[\"Won for 'Album of the Year' for 'Judy at Carnegie Hall'\"]),\n",
       " Edge(source=330, target=333, name='signed to', is_directed=False, description='Signed to studio as a teenager', notes=['Metro-Goldwyn-Mayer']),\n",
       " Edge(source=330, target=334, name='recipient of', is_directed=False, description='Received the Cecil B. DeMille Award', notes=['For lifetime achievement in film']),\n",
       " Edge(source=330, target=335, name='hosted', is_directed=False, description='Hosted her own television series', notes=['The Judy Garland Show']),\n",
       " Edge(source=330, target=336, name='recognized by', is_directed=False, description='Recognized by American Film Institute', notes=['Listed among the greatest female stars in 1999']),\n",
       " Edge(source=330, target=337, name='nominated for', is_directed=False, description='Received nomination for Best Actress', notes=[\"For role in 'A Star Is Born'\"]),\n",
       " Edge(source=330, target=338, name='nominated for', is_directed=False, description='Received nomination for Best Supporting Actress', notes=[\"For role in 'Judgment at Nuremberg'\"]),\n",
       " Edge(source=339, target=340, name='attributed to', is_directed=False, description='Attribution of lyrics', notes=[]),\n",
       " Edge(source=339, target=330, name='performed by', is_directed=False, description='Performed by Judy Garland', notes=[]),\n",
       " Edge(source=339, target=341, name='featured in', is_directed=False, description=\"Featured in the film 'Little Nellie Kelly'\", notes=[]),\n",
       " Edge(source=330, target=339, name='sang', is_directed=False, description='Sang the song at various performances', notes=[]),\n",
       " Edge(source=330, target=343, name='associated with', is_directed=False, description='Association with Irish culture', notes=[]),\n",
       " Edge(source=339, target=345, name='recorded by', is_directed=False, description='One of many artists to record the song', notes=[]),\n",
       " Edge(source=339, target=346, name='recorded by', is_directed=False, description='Another artist to have recorded the song', notes=[]),\n",
       " Edge(source=339, target=347, name='recorded by', is_directed=False, description='Another artist to have recorded the song', notes=[]),\n",
       " Edge(source=358, target=359, name='features', is_directed=False, description='Features Iva Stewart', notes=['Appears in supporting roles in the film']),\n",
       " Edge(source=358, target=361, name='part of series', is_directed=False, description='Part of the Mr. Moto film series', notes=['Fifth film in the Mr. Moto series']),\n",
       " Edge(source=358, target=363, name='directed by', is_directed=True, description='Directed by Norman Foster', notes=['Films often associated with Norman Foster']),\n",
       " Edge(source=359, target=360, name='appeared in', is_directed=False, description='Appeared in Mr. Moto Takes a Vacation', notes=['Multiple supporting roles and glamorous appearances']),\n",
       " Edge(source=361, target=362, name='sequel to', is_directed=False, description='Follows a previous entry', notes=['Part of the Mr. Moto series']),\n",
       " Edge(source=362, target=359, name='related to', is_directed=False, description='Associated with Iva Stewart', notes=['Features similar character dynamics']),\n",
       " Edge(source=360, target=361, name='sequel to', is_directed=False, description='Follows the storyline', notes=[\"Mr. Moto's narrative continues\"]),\n",
       " Edge(source=360, target=362, name='is part of', is_directed=False, description='Part of the Mr. Moto narrative', notes=[]),\n",
       " Edge(source=363, target=364, name='associated with', is_directed=False, description='Part of the Mr. Moto series', notes=['Listed in sequence of Mr. Moto films']),\n",
       " Edge(source=364, target=365, name='is part of', is_directed=False, description='Part of the Mr. Moto narrative', notes=['Follows the character developed in earlier films']),\n",
       " Edge(source=378, target=379, name='directed', is_directed=True, description='Directed the film', notes=[\"Directed 'Fire Down Below'\"]),\n",
       " Edge(source=379, target=378, name='associated with', is_directed=False, description='Associated with the film', notes=[\"Robert Parrish is linked to the film 'Fire Down Below'\"]),\n",
       " Edge(source=380, target=378, name='featured in', is_directed=False, description='Featured in the film', notes=[\"Limbo is performed in 'Fire Down Below'\"]),\n",
       " Edge(source=381, target=382, name='directed', is_directed=True, description='Directed the film', notes=[\"Directed 'Playing the Game'\"]),\n",
       " Edge(source=382, target=381, name='associated with', is_directed=False, description='Linked to the film', notes=[\"Victor Schertzinger's work includes 'Playing the Game'\"]),\n",
       " Edge(source=51, target=100, name='associated', is_directed=False, description='Linked through direction roles', notes=['Both are influential in film directions in their respective countries']),\n",
       " Edge(source=100, target=97, name='historical position', is_directed=False, description='Position related in intelligence work', notes=['Both dealt with educational and protective roles in their areas of work']),\n",
       " Edge(source=97, target=194, name='historical influence', is_directed=False, description='Influence on various directors', notes=['Worked in different sectors like foundational aspects of psychological research and film']),\n",
       " Edge(source=383, target=384, name='directed by', is_directed=True, description='Directed the film', notes=['Directed by William Morgan']),\n",
       " Edge(source=384, target=5, name='linked to', is_directed=False, description='Connection through film direction', notes=['Both are known for their contributions to film direction']),\n",
       " Edge(source=5, target=4, name='related to', is_directed=False, description='Both known directors', notes=[]),\n",
       " Edge(source=385, target=383, name='featured in', is_directed=False, description='Linked through film appearances', notes=[\"Ruth Weyher starred in 'Secrets of a Soul'\"]),\n",
       " Edge(source=94, target=5, name='contributed to', is_directed=False, description='Part of cultural production', notes=['Impact on film and cultural sectors']),\n",
       " Edge(source=4, target=183, name='influential in', is_directed=False, description='Sectors of knowledge and influence', notes=['Both are linked through media and cultural contributions']),\n",
       " Edge(source=4, target=121, name='as past advisor', is_directed=False, description='Link in culture and arts', notes=['Both have backgrounds in cultural entrepreneurship']),\n",
       " Edge(source=387, target=390, name='directed', is_directed=True, description='Directed the film', notes=[]),\n",
       " Edge(source=388, target=390, name='directed', is_directed=True, description='Directed the film', notes=[]),\n",
       " Edge(source=389, target=390, name='directed', is_directed=True, description='Directed the film', notes=[]),\n",
       " Edge(source=386, target=388, name='associated with', is_directed=False, description='Film from the same year', notes=[]),\n",
       " Edge(source=387, target=386, name='remake of', is_directed=False, description='Remake of a Telugu movie', notes=[\"Based on 'Bobbili Brahmanna'\"]),\n",
       " Edge(source=390, target=391, name='directed', is_directed=True, description='Directed the film', notes=[]),\n",
       " Edge(source=392, target=390, name='associated with', is_directed=False, description='Connection through film industry', notes=[]),\n",
       " Edge(source=391, target=390, name='influenced', is_directed=False, description='Influenced many filmmakers', notes=[]),\n",
       " Edge(source=392, target=389, name='associated with', is_directed=False, description='Relevant to film direction', notes=[]),\n",
       " Edge(source=393, target=395, name='produced', is_directed=True, description='Produced the film Bait', notes=[]),\n",
       " Edge(source=394, target=393, name='associated with', is_directed=False, description='Relates to nature documentaries', notes=[\"Contrasts Lewis's focus on relationships\"]),\n",
       " Edge(source=395, target=393, name='influenced', is_directed=False, description=\"Lewis's work influences film noir\", notes=[\"Lewis's unique perspective can relate to dramatic storytelling in film genre\"]),\n",
       " Edge(source=4, target=5, name='associated', is_directed=False, description='Colleagues in the film industry', notes=['Both are directors in film and television']),\n",
       " Edge(source=4, target=8, name='contemporary', is_directed=False, description='Contemporaries in the film scene', notes=['Both have made contributions to film direction']),\n",
       " Edge(source=8, target=5, name='associated', is_directed=False, description='Connection through directing', notes=['Both are recognized directors in their fields']),\n",
       " Edge(source=5, target=6, name='affiliated with', is_directed=False, description='Affiliation in film direction', notes=['Influences in American cinema']),\n",
       " Edge(source=398, target=398, name='same individual', is_directed=False, description='Verification of identity', notes=['Silvio Amadio is the same individual mentioned in the text']),\n",
       " Edge(source=8, target=398, name='directed', is_directed=True, description='Directed film in Italian cinema', notes=[]),\n",
       " Edge(source=178, target=5, name='influenced', is_directed=False, description='Both influenced the film industry', notes=['Contributions to American cinema']),\n",
       " Edge(source=91, target=397, name='based on', is_directed=False, description='Based on earlier works', notes=['The film Sthree Sahasam linked with earlier Tamil cinema']),\n",
       " Edge(source=6, target=399, name='associated', is_directed=False, description='Interlinking careers in cinema', notes=['Brian Johnson shares connections through directors']),\n",
       " Edge(source=397, target=399, name='director of', is_directed=True, description='Directed films appearing in the industry', notes=[]),\n",
       " Edge(source=178, target=402, name='directed', is_directed=True, description='Directed multiple films', notes=[]),\n",
       " Edge(source=8, target=401, name='directed', is_directed=True, description='Directed films throughout his career', notes=[]),\n",
       " Edge(source=401, target=403, name='influenced', is_directed=False, description='Influenced by other filmmakers', notes=[]),\n",
       " Edge(source=402, target=1, name='associated with', is_directed=False, description='Connection through collaborative works', notes=[]),\n",
       " Edge(source=401, target=1, name='associated with', is_directed=False, description='Part of the same film community', notes=[]),\n",
       " Edge(source=401, target=3, name='collaborated with', is_directed=False, description='Collaboration in various projects', notes=[]),\n",
       " Edge(source=5, target=401, name='associated with', is_directed=False, description='Connection in film direction', notes=[]),\n",
       " Edge(source=401, target=5, name='connected to', is_directed=False, description='Links through working in the industry', notes=[]),\n",
       " Edge(source=41, target=0, name='is', is_directed=False, description='Bishop of Elmham', notes=[]),\n",
       " Edge(source=404, target=0, name='is by', is_directed=False, description='Written by', notes=[\"'Behind the Ritual' is by Van Morrison\"]),\n",
       " Edge(source=146, target=0, name='is known as', is_directed=False, description='Reputation as', notes=['Known for being the singer of Trust']),\n",
       " Edge(source=146, target=42, name='collaborated', is_directed=False, description='Worked with', notes=['Collaborated with Bon Scott']),\n",
       " Edge(source=38, target=0, name='is', is_directed=False, description='Identity of', notes=[]),\n",
       " Edge(source=43, target=0, name='is', is_directed=False, description='Identity of', notes=[]),\n",
       " Edge(source=44, target=0, name='is', is_directed=False, description='Identity of', notes=[]),\n",
       " Edge(source=5, target=0, name='is', is_directed=False, description='Identity of', notes=[]),\n",
       " Edge(source=6, target=46, name='is', is_directed=False, description='Identity of', notes=[]),\n",
       " Edge(source=56, target=0, name='is', is_directed=False, description='Identity of', notes=[]),\n",
       " Edge(source=404, target=405, name='released', is_directed=False, description='Released the album', notes=[\"Released 'Astral Weeks' in 1968\"]),\n",
       " Edge(source=404, target=406, name='released', is_directed=False, description='Released the album', notes=[\"Released 'Moondance' in 1970\"]),\n",
       " Edge(source=404, target=407, name='released', is_directed=False, description='Released the album', notes=[\"Live album 'It's Too Late to Stop Now'\"]),\n",
       " Edge(source=404, target=141, name='associated with', is_directed=False, description='Collaborative relationship', notes=['Connected through music influences and styles']),\n",
       " Edge(source=141, target=151, name='features', is_directed=False, description=\"The Decemberists' song from the album\", notes=[\"'O Valencia!' is featured on 'The Crane Wife'\"]),\n",
       " Edge(source=405, target=408, name='influenced', is_directed=False, description='Influenced by Celtic tradition', notes=['Astral Weeks shows influence of Celtic music']),\n",
       " Edge(source=404, target=410, name='performed', is_directed=False, description='Performed the single', notes=[\"'Brown Eyed Girl' is one of his popular singles\"]),\n",
       " Edge(source=404, target=411, name='performed', is_directed=False, description='Performed the single', notes=[\"'Jackie Wilson Said (I'm in Heaven)' is a popular single\"]),\n",
       " Edge(source=412, target=413, name='related to', is_directed=False, description='Related as film adaptations,', notes=[\"'Inferno' is a sequel to 'The Da Vinci Code'.\"]),\n",
       " Edge(source=413, target=414, name='features', is_directed=False, description='Features Robert Langdon as a character.', notes=[]),\n",
       " Edge(source=415, target=412, name='based on', is_directed=False, description='Adaptation of the novel.', notes=[\"Based on the novel 'The Da Vinci Code' by Dan Brown.\"]),\n",
       " Edge(source=415, target=413, name='sequel to', is_directed=False, description=\"Follows the story from 'The Da Vinci Code'.\", notes=[]),\n",
       " Edge(source=416, target=412, name='mockbuster of', is_directed=False, description=\"Parody relationship to 'The Da Vinci Code'.\", notes=[]),\n",
       " Edge(source=418, target=409, name='part of series', is_directed=False, description='Related to older films and themes.', notes=[]),\n",
       " Edge(source=419, target=417, name='associated with', is_directed=False, description='Connection through genre and storytelling.', notes=[]),\n",
       " Edge(source=415, target=416, name='associated with', is_directed=False, description='Connection through thematic elements.', notes=[]),\n",
       " Edge(source=419, target=415, name='influenced by', is_directed=False, description='Influences between assassin stories in filmmaking.', notes=[]),\n",
       " Edge(source=413, target=415, name='is sequel to', is_directed=False, description='Follows the earlier film directed by Ron Howard.', notes=[]),\n",
       " Edge(source=420, target=414, name='features', is_directed=False, description='Main character in the film', notes=['Robert Langdon is portrayed by Tom Hanks']),\n",
       " Edge(source=420, target=421, name='stars', is_directed=False, description='Stars in the film', notes=['Tom Hanks stars as Robert Langdon']),\n",
       " Edge(source=420, target=422, name='stars', is_directed=False, description='Stars in the film', notes=['Audrey Tautou stars in the film']),\n",
       " Edge(source=420, target=423, name='stars', is_directed=False, description='Stars in the film', notes=['Sir Ian McKellen stars in the film']),\n",
       " Edge(source=420, target=424, name='stars', is_directed=False, description='Stars in the film', notes=['Alfred Molina stars in the film']),\n",
       " Edge(source=420, target=425, name='stars', is_directed=False, description='Stars in the film', notes=['Jürgen Prochnow stars in the film']),\n",
       " Edge(source=420, target=426, name='stars', is_directed=False, description='Stars in the film', notes=['Jean Reno stars in the film']),\n",
       " Edge(source=420, target=427, name='stars', is_directed=False, description='Stars in the film', notes=['Paul Bettany stars in the film']),\n",
       " Edge(source=420, target=428, name='portrayed in film', is_directed=False, description='Character in the film', notes=['Jacques Saunière is portrayed as the curator']),\n",
       " Edge(source=429, target=436, name='plays for', is_directed=False, description='Football club association', notes=['Plays for TSV Hartberg on loan from LASK Linz']),\n",
       " Edge(source=431, target=431, name='same person', is_directed=False, description='Identical identity', notes=['Ron Wallace and Ronald Wallace refer to the same individual']),\n",
       " Edge(source=432, target=432, name='same person', is_directed=False, description='Identical identity', notes=['John B. Earle references the same individual']),\n",
       " Edge(source=433, target=437, name='son of', is_directed=False, description='Family relation', notes=['Sam Earle is the son of Chris Earle and Shari Hollett']),\n",
       " Edge(source=434, target=436, name='debut against', is_directed=False, description='International match history', notes=['Debut match against El Salvador']),\n",
       " Edge(source=435, target=438, name='influenced by', is_directed=False, description='Connection through literature', notes=[\"Kass Morgan's work includes themes relevant to Justin Townes Earle\"]),\n",
       " Edge(source=178, target=4, name='directed', is_directed=True, description='Directed the film', notes=[]),\n",
       " Edge(source=51, target=4, name='associated', is_directed=False, description='Related through film direction', notes=[]),\n",
       " Edge(source=440, target=4, name='directed', is_directed=True, description='Directed the film', notes=[]),\n",
       " Edge(source=51, target=440, name='collaborated', is_directed=False, description='Worked together in the film industry', notes=[]),\n",
       " Edge(source=5, target=51, name='associated', is_directed=False, description='Part of the film direction community', notes=[]),\n",
       " Edge(source=100, target=5, name='asserted as', is_directed=False, description='Known for contributions in intelligence and administration', notes=[]),\n",
       " Edge(source=94, target=5, name='influenced', is_directed=False, description='Sought influence in cultural projects', notes=[]),\n",
       " Edge(source=94, target=51, name='associated', is_directed=False, description='Shared interests in culture and history', notes=[]),\n",
       " Edge(source=91, target=180, name='inspired', is_directed=False, description='Influenced cultural projects', notes=[]),\n",
       " Edge(source=94, target=178, name='linked to', is_directed=False, description='Connection through studies in film and government', notes=[]),\n",
       " Edge(source=441, target=443, name='adjacent to', is_directed=False, description='Located next to', notes=[]),\n",
       " Edge(source=442, target=443, name='adjacent to', is_directed=False, description='Located near', notes=[]),\n",
       " Edge(source=444, target=443, name='contains municipal office', is_directed=False, description='Municipal office location', notes=['Located in the Town of Slave Lake']),\n",
       " Edge(source=444, target=442, name='drains into', is_directed=False, description='Drains Lesser Slave Lake into Athabasca River', notes=[]),\n",
       " Edge(source=445, target=442, name='adjacent to', is_directed=False, description='Located near Great Slave Lake', notes=[]),\n",
       " Edge(source=449, target=443, name='located near', is_directed=False, description='Proximity to Slave Lake', notes=[]),\n",
       " Edge(source=450, target=442, name='empties into', is_directed=False, description='Flows into Lesser Slave Lake', notes=[]),\n",
       " Edge(source=454, target=455, name='associated', is_directed=False, description='Part of early film history', notes=['Connection through co-directing with Mack Sennett']),\n",
       " Edge(source=455, target=456, name='influenced', is_directed=False, description='Influence on narrative style', notes=['Connection between themes in Nicaraguan film']),\n",
       " Edge(source=457, target=458, name='associated', is_directed=False, description='Part of political history', notes=['Connection through Nils-Eric Gustafsson and contemporary events']),\n",
       " Edge(source=459, target=457, name='inspired', is_directed=False, description='Inspired by cultural narratives', notes=['Wuxia themes influential to various political figures']),\n",
       " Edge(source=458, target=459, name='adapted from', is_directed=False, description='Related through adaptations', notes=['Connection with various adaptations of stories']),\n",
       " Edge(source=460, target=459, name='associated with', is_directed=False, description='Influence of Condor themes', notes=['Related through narratives of six days']),\n",
       " Edge(source=461, target=457, name='connected to', is_directed=False, description='Connection through technology', notes=[\"Links to Nils-Eric Gustafsson's era\"]),\n",
       " Edge(source=462, target=463, name='parent', is_directed=False, description='Father-son relationship', notes=[]),\n",
       " Edge(source=462, target=464, name='parent', is_directed=False, description='Mother-son relationship', notes=[]),\n",
       " Edge(source=462, target=465, name='historical figure', is_directed=False, description='Related to political history', notes=[\"Augusto Pinochet's coup affected Miguel Littín\"]),\n",
       " Edge(source=465, target=466, name='overthrew', is_directed=False, description='Augusto Pinochet overthrew', notes=[\"Salvador Allende's government\"]),\n",
       " Edge(source=462, target=467, name='directed', is_directed=True, description='Directed the film', notes=[\"Directed 'El Chacal de Nahueltoro'\"]),\n",
       " Edge(source=462, target=468, name='directed', is_directed=True, description='Directed the film', notes=[\"Directed 'The Promised Land'\"]),\n",
       " Edge(source=462, target=455, name='directed', is_directed=True, description='Directed the film', notes=[\"Directed 'Alsino and the Condor'\"]),\n",
       " Edge(source=462, target=469, name='directed', is_directed=True, description='Directed the film', notes=[\"Directed 'Tierra del Fuego'\"]),\n",
       " Edge(source=462, target=470, name='directed', is_directed=True, description='Directed the film', notes=[\"Directed 'Dawson, Isla 10'\"]),\n",
       " Edge(source=43, target=5, name='associated with', is_directed=False, description='Connection through literary themes', notes=[\"Both authors in children's literature\"]),\n",
       " Edge(source=37, target=43, name='influenced', is_directed=False, description='Influenced by similar artistic themes', notes=['Both have cultural impacts in their genres']),\n",
       " Edge(source=472, target=473, name='ancestors of', is_directed=False, description='Ancestral relationship', notes=[]),\n",
       " Edge(source=473, target=472, name='father of', is_directed=False, description='Father-son relationship', notes=[]),\n",
       " Edge(source=41, target=43, name='historical context', is_directed=False, description='Context in historical narratives', notes=['Both underlie significant historical periods']),\n",
       " Edge(source=45, target=43, name='related by', is_directed=False, description='Connection through regional history', notes=['Sports and historical ties in Melbourne']),\n",
       " Edge(source=4, target=2, name='contemporary of', is_directed=False, description='Contemporaries in political influence', notes=['Both shaped the political narratives of their time']),\n",
       " Edge(source=474, target=338, name='contemporary of', is_directed=False, description='Contemporary in sports history', notes=['Both sports figures in their respective fields']),\n",
       " Edge(source=186, target=39, name='directed', is_directed=True, description='Directed a significant film in the early years', notes=[]),\n",
       " Edge(source=91, target=45, name='related to', is_directed=False, description='Related sports history', notes=[]),\n",
       " Edge(source=476, target=477, name='featured in', is_directed=False, description='Mike Huether discussed in the context of Pepsi Battle of the Bands', notes=[]),\n",
       " Edge(source=477, target=478, name='produced by', is_directed=False, description='Battle of the Bands produced by Sunrise', notes=[]),\n",
       " Edge(source=480, target=476, name='mentioned in relation to', is_directed=False, description='Battle of the Bands discussed in connection with Mike Huether', notes=[]),\n",
       " Edge(source=481, target=479, name='utilizes', is_directed=False, description='Sunrise equation utilized for programming', notes=['Shows sunrise and sunset times']),\n",
       " Edge(source=482, target=481, name='featured in', is_directed=False, description='Kingston Falls associated with Solfilmen', notes=[]),\n",
       " Edge(source=483, target=482, name='related to', is_directed=False, description='Cinematic Sunrise and Kingston Falls share a genre', notes=[]),\n",
       " Edge(source=485, target=480, name='similar to', is_directed=False, description='Kerrs Building shares themes with Battle of the Bands', notes=[]),\n",
       " Edge(source=476, target=484, name='notable mention', is_directed=False, description='Notable figure during the King of Thorn release', notes=[]),\n",
       " Edge(source=481, target=483, name='associated with', is_directed=False, description='Solfilmen relates to pop culture themes', notes=[]),\n",
       " Edge(source=485, target=476, name='historically significant to', is_directed=False, description='Kerrs Building mentions prominent figures in local history', notes=[]),\n",
       " Edge(source=488, target=0, name='based on', is_directed=False, description='Based on Buffy the Vampire Slayer TV series', notes=[]),\n",
       " Edge(source=489, target=488, name='influenced', is_directed=False, description='Influenced by stories of souls and journeys', notes=[]),\n",
       " Edge(source=491, target=490, name='remake of', is_directed=False, description='Remake of the 1962 horror film', notes=[]),\n",
       " Edge(source=492, target=489, name='produced by', is_directed=False, description='Produced by Arnait Video Productions', notes=[]),\n",
       " Edge(source=491, target=0, name='executive produced by', is_directed=False, description='Produced under the direction of Wes Craven', notes=[]),\n",
       " Edge(source=495, target=490, name='related to', is_directed=False, description='Related themes of souls and journeys', notes=[]),\n",
       " Edge(source=493, target=491, name='linked to', is_directed=False, description='Connection to the KISS album', notes=[]),\n",
       " Edge(source=494, target=493, name='inspired by', is_directed=False, description='Hostname for similar thematic representations', notes=[]),\n",
       " Edge(source=490, target=496, name='point of reference for', is_directed=False, description='Disambiguation term for various related films', notes=[]),\n",
       " Edge(source=139, target=497, name='singer of', is_directed=False, description='Dáithí Sproule is the singer of traditional Irish music', notes=[]),\n",
       " Edge(source=151, target=139, name='written by', is_directed=False, description='O Valencia! was written by Colin Meloy and The Decemberists', notes=[]),\n",
       " Edge(source=151, target=100, name='associated with', is_directed=False, description='The Decemberists are associated with themes of love and conflict', notes=[]),\n",
       " Edge(source=497, target=498, name='inspired', is_directed=False, description=\"Panda's themes mirror complexities seen in O Valencia!\", notes=[]),\n",
       " Edge(source=146, target=498, name='associated with R. K. Kalaimani', is_directed=False, description='Connection through musical influence', notes=[]),\n",
       " Edge(source=498, target=5, name='artist', is_directed=False, description='', notes=[]),\n",
       " Edge(source=500, target=146, name='singer of', is_directed=False, description='Billy Milano is the singer of crossover thrash band M.O.D.', notes=[]),\n",
       " Edge(source=146, target=500, name='associated with', is_directed=False, description='Milano was also the singer of United Forces', notes=[]),\n",
       " Edge(source=1, target=2, name='associated with', is_directed=False, description='Related through rock music and storytelling', notes=[]),\n",
       " Edge(source=501, target=502, name='performed by', is_directed=False, description=\"Les Paul and Mary Ford recorded 'Hummingbird'\", notes=[]),\n",
       " Edge(source=501, target=498, name='recorded by', is_directed=False, description=\"Frankie Laine recorded 'Hummingbird'\", notes=[]),\n",
       " Edge(source=501, target=503, name='recorded by', is_directed=False, description=\"The Chordettes recorded 'Hummingbird'\", notes=[]),\n",
       " Edge(source=138, target=504, name='singer of', is_directed=False, description='Astrid North was the singer of a German band', notes=[]),\n",
       " Edge(source=138, target=504, name='published albums with', is_directed=False, description='Astrid North published albums as guest singer of the band', notes=[]),\n",
       " Edge(source=516, target=517, name='grandfather of', is_directed=False, description='Relationship indicating family lineage', notes=['Mirza Gul Muhammad is the grandfather of Mirza Ghulam Murtaza.']),\n",
       " Edge(source=517, target=518, name='father of', is_directed=False, description='Relationship indicating family lineage', notes=['Mirza Ghulam Murtaza is the father of Mirza Ghulam Ahmad.']),\n",
       " Edge(source=519, target=523, name='inspired by', is_directed=False, description=\"Inspired 'La torre de los siete jorobados'\", notes=[]),\n",
       " Edge(source=520, target=521, name='historical context', is_directed=False, description='Context surrounding Bluegrass music during the film', notes=[]),\n",
       " Edge(source=520, target=519, name='film context', is_directed=False, description=\"Context influenced by 'La Torre de los suplicios'\", notes=[]),\n",
       " Edge(source=524, target=519, name='related to', is_directed=False, description='Fanny Gautier shares connections to film industry', notes=[]),\n",
       " Edge(source=521, target=519, name='influence', is_directed=False, description='Influential musician in early film soundtracks', notes=[]),\n",
       " Edge(source=520, target=523, name='banquet of influences', is_directed=False, description='Connecting through romantic influence in film and writing', notes=[]),\n",
       " Edge(source=520, target=522, name='connected through', is_directed=False, description='Link between film adaptations and directors', notes=[]),\n",
       " Edge(source=520, target=520, name='continuity in adaptation', is_directed=False, description='Continuity of adaptations through films', notes=[]),\n",
       " Edge(source=520, target=520, name='connected to', is_directed=False, description='The accrual of cinematic history in adaptations', notes=[]),\n",
       " Edge(source=523, target=520, name='related to', is_directed=False, description='Relation to both novels and plays', notes=[]),\n",
       " Edge(source=527, target=529, name='directed', is_directed=True, description=\"Directed the film 'I Want a Divorce'\", notes=[]),\n",
       " Edge(source=527, target=530, name='directed', is_directed=True, description=\"Directed 'Glamour Boy'\", notes=[]),\n",
       " Edge(source=530, target=531, name='directed', is_directed=True, description='Directed the film', notes=[]),\n",
       " Edge(source=531, target=530, name='won award', is_directed=False, description='Won a Special Diploma at film festival', notes=[]),\n",
       " Edge(source=262, target=527, name='influenced', is_directed=False, description='Influences directing style', notes=[]),\n",
       " Edge(source=531, target=533, name='series of films', is_directed=False, description='Part of the Bomba film series', notes=[]),\n",
       " Edge(source=532, target=262, name='influenced', is_directed=False, description='Influenced by Ben Palmer', notes=[]),\n",
       " Edge(source=528, target=527, name='director', is_directed=False, description='Associated with Ralph Murphy', notes=[]),\n",
       " Edge(source=536, target=537, name='associated with', is_directed=False, description='Socrates is historically linked to various geographical terms', notes=[]),\n",
       " Edge(source=544, target=544, name='associated with', is_directed=False, description=\"Sennedjem's life context related to work on tombs\", notes=['Worked during the reigns of Seti I and Ramesses II.']),\n",
       " Edge(source=544, target=544, name='buried with', is_directed=False, description=\"Sennedjem's burial context\", notes=['Buried alongside wife Iyneferti.']),\n",
       " Edge(source=544, target=544, name='discovered on', is_directed=False, description=\"Date Sennedjem's tomb was found\", notes=['Discovered January 31, 1886.']),\n",
       " Edge(source=544, target=544, name='tomb contains', is_directed=False, description=\"Items found in Sennedjem's tomb\", notes=['Contained furniture used by Sennedjem, such as a stool and a bed.']),\n",
       " Edge(source=536, target=545, name='married to', is_directed=False, description='Marriage relationship', notes=['Socrates was married to Xanthippe']),\n",
       " Edge(source=536, target=546, name='brother of', is_directed=False, description='Sibling relationship', notes=[\"Menexenus is one of Socrates' brothers\"]),\n",
       " Edge(source=536, target=547, name='brother of', is_directed=False, description='Sibling relationship', notes=[\"Sophroniscus is one of Socrates' brothers\"]),\n",
       " Edge(source=536, target=541, name='father of', is_directed=False, description='Parent-child relationship', notes=['Lamprocles is a son of Socrates']),\n",
       " Edge(source=4, target=42, name='directed', is_directed=True, description='Directed films in the Australian cinema', notes=[]),\n",
       " Edge(source=548, target=4, name='influenced', is_directed=False, description='Influence on Australian cinema', notes=[]),\n",
       " Edge(source=43, target=4, name='influenced', is_directed=False, description='Related through children’s literature', notes=[]),\n",
       " Edge(source=43, target=548, name='influenced by', is_directed=False, description='Literary connection to filmmaking', notes=[]),\n",
       " Edge(source=43, target=5, name='associated with', is_directed=False, description='Connection through cultural narratives', notes=[]),\n",
       " Edge(source=241, target=4, name='associated with', is_directed=False, description='Connection through sports narrative', notes=[]),\n",
       " Edge(source=37, target=4, name='collaborated with', is_directed=False, description='Collaboration in film direction', notes=[]),\n",
       " Edge(source=41, target=4, name='linked to', is_directed=False, description='Linked through the history of English football', notes=[]),\n",
       " Edge(source=237, target=548, name='historical figure', is_directed=False, description='A character in the historical narrative', notes=[]),\n",
       " Edge(source=5, target=41, name='associated with', is_directed=False, description='Part of the same era in storytelling', notes=[]),\n",
       " Edge(source=551, target=552, name='directed', is_directed=True, description='Directed the film', notes=[]),\n",
       " Edge(source=555, target=556, name='pardoned by', is_directed=False, description=\"Euna Lee was pardoned after Bill Clinton's visit\", notes=[]),\n",
       " Edge(source=555, target=557, name='detained with', is_directed=False, description='Euna Lee was detained alongside Laura Ling', notes=[]),\n",
       " Edge(source=556, target=557, name='met with', is_directed=False, description='Bill Clinton met with North Korean government to discuss Lee and Ling', notes=[]),\n",
       " Edge(source=558, target=553, name='produced', is_directed=True, description='Produced by Helen Lee', notes=[]),\n",
       " Edge(source=554, target=553, name='coached by', is_directed=False, description='Euna Lee was inspired by the career of Kim Se-yol', notes=[]),\n",
       " Edge(source=555, target=557, name='associated with', is_directed=False, description='Worked with Laura Ling in journalism', notes=['Detained in North Korea together']),\n",
       " Edge(source=556, target=555, name='pardoned', is_directed=False, description='Pardoned Euna Lee after a diplomatic visit', notes=['Secured the release of both Lee and Ling']),\n",
       " Edge(source=556, target=557, name='pardoned', is_directed=False, description='Pardoned Laura Ling after a diplomatic visit', notes=['Secured the release of both Lee and Ling']),\n",
       " Edge(source=5, target=562, name='directed', is_directed=True, description='Directed the film', notes=[]),\n",
       " Edge(source=564, target=562, name='directed', is_directed=True, description='Directed Ashes and Diamonds', notes=[]),\n",
       " Edge(source=562, target=563, name='features', is_directed=False, description='Features character Maciek Chełmicki', notes=[]),\n",
       " Edge(source=48, target=565, name='directed', is_directed=True, description='Directed the museum', notes=[]),\n",
       " Edge(source=565, target=564, name='directed', is_directed=True, description='Directed a series of films including Edgar Wallace films', notes=[]),\n",
       " Edge(source=148, target=5, name='related to', is_directed=False, description='Connection to literature and media', notes=[]),\n",
       " Edge(source=566, target=5, name='directed', is_directed=True, description='Directed the film', notes=[]),\n",
       " Edge(source=4, target=5, name='related to', is_directed=False, description='Association with film and television direction', notes=[]),\n",
       " Edge(source=567, target=565, name='directed', is_directed=True, description='Directed the film', notes=[]),\n",
       " Edge(source=567, target=4, name='associated with', is_directed=False, description='Connection in the film community', notes=[]),\n",
       " Edge(source=568, target=571, name='directed', is_directed=True, description='Directed the film', notes=['The Voice in the Fog (1916)']),\n",
       " Edge(source=569, target=568, name='influenced', is_directed=False, description=\"Influence on children's literature and media\", notes=[]),\n",
       " Edge(source=43, target=568, name='associated', is_directed=False, description='Influenced by film and television', notes=[]),\n",
       " Edge(source=41, target=568, name='related to', is_directed=False, description='Both figures influence narratives', notes=[]),\n",
       " Edge(source=45, target=568, name='connected', is_directed=False, description='Shared heritage within Australian sporting history', notes=[]),\n",
       " Edge(source=570, target=568, name='associated with', is_directed=False, description='Connects through media and entertainment', notes=[]),\n",
       " Edge(source=46, target=568, name='inspired by', is_directed=False, description='Influence seen in contemporary sports development', notes=[]),\n",
       " Edge(source=4, target=568, name='co-director', is_directed=True, description='Collaborative relationship in the film industry', notes=[]),\n",
       " Edge(source=571, target=568, name='based on', is_directed=False, description='Based on narrative styles', notes=[]),\n",
       " Edge(source=572, target=568, name='related to', is_directed=False, description='Associated through historical narratives in cinema', notes=[]),\n",
       " Edge(source=583, target=584, name='associated with', is_directed=False, description='Connection through anti-abortion themes', notes=[\"Nick Gillespie is connected to discussions surrounding 'Eclipse of Reason'.\"]),\n",
       " Edge(source=43, target=584, name='inspired by', is_directed=False, description='Influence on children’s literature', notes=[\"Etan Boritzer's work on moral themes aligns with discussions in 'Eclipse of Reason'.\"]),\n",
       " Edge(source=4, target=46, name='directed', is_directed=True, description='Directed films', notes=[]),\n",
       " Edge(source=38, target=583, name='related to', is_directed=False, description='Connection through sports identity', notes=[]),\n",
       " Edge(source=43, target=46, name='connected to', is_directed=False, description='Connection through cultural themes', notes=[]),\n",
       " Edge(source=38, target=4, name='collaborated with', is_directed=False, description='Part of historical sports figures', notes=[]),\n",
       " Edge(source=43, target=4, name='influenced', is_directed=False, description='Influence in literary themes', notes=[]),\n",
       " Edge(source=46, target=583, name='influenced by', is_directed=False, description='Influences in sports narrative', notes=[]),\n",
       " Edge(source=583, target=5, name='associated with', is_directed=False, description='Connection through media', notes=[]),\n",
       " Edge(source=584, target=583, name='debated', is_directed=False, description='Debate around themes of morality', notes=[]),\n",
       " Edge(source=585, target=585, name='changed stance', is_directed=False, description='Converted from pro-choice to pro-life', notes=['Initially advocated for abortion rights, later became a pro-life activist']),\n",
       " Edge(source=585, target=585, name='narrated', is_directed=False, description='Narrated the film', notes=[\"Narrator of the anti-abortion film 'The Silent Scream'\"]),\n",
       " Edge(source=587, target=586, name='directed', is_directed=True, description=\"Directed the film 'Skinner Steps Out'\", notes=[]),\n",
       " Edge(source=588, target=587, name='related to', is_directed=False, description='Brian Kennedy has historical ties with craft', notes=[]),\n",
       " Edge(source=97, target=587, name='predecessor at', is_directed=False, description='Jesse E. Hobson was the director before', notes=['Prior to SRI, he was director of the Armour Research Foundation']),\n",
       " Edge(source=4, target=586, name='associated with', is_directed=False, description='Ian Barry may have ties to film direction', notes=[]),\n",
       " Edge(source=590, target=586, name='inspired by', is_directed=False, description=\"Similar themes to 'Mr. Boyd Steps Out'\", notes=[]),\n",
       " Edge(source=593, target=592, name='directed', is_directed=True, description='Directed the film', notes=[]),\n",
       " Edge(source=594, target=592, name='featured', is_directed=False, description=\"This was Bill Hunter's last film\", notes=[]),\n",
       " Edge(source=6, target=594, name='associated', is_directed=False, description='Bill Hunter appeared in films directed by Brian Johnson', notes=[]),\n",
       " Edge(source=5, target=6, name='related to', is_directed=False, description='Peter Levin connects with Brian Johnson through special effects', notes=[]),\n",
       " Edge(source=8, target=592, name='influenced', is_directed=False, description=\"Hanro Smitsman's work came after films like The Cup\", notes=[]),\n",
       " Edge(source=595, target=592, name='influenced', is_directed=False, description=\"Fred Dekker's films are part of the larger genre influenced by The Cup\", notes=[]),\n",
       " Edge(source=595, target=596, name='directed', is_directed=True, description='Directed The Monster Squad', notes=[]),\n",
       " Edge(source=5, target=598, name='directed', is_directed=True, description=\"Directed the film 'Road Kill'\", notes=[]),\n",
       " Edge(source=601, target=60, name='performed by', is_directed=False, description='Performed by Tommy Page', notes=[]),\n",
       " Edge(source=603, target=601, name='related to', is_directed=False, description=\"Related to 'Every Day I Have to Cry'\", notes=[]),\n",
       " Edge(source=602, target=603, name='covered by', is_directed=False, description='Covered by various artists', notes=[]),\n",
       " Edge(source=605, target=60, name='written by', is_directed=False, description='Written by Arthur Alexander', notes=[]),\n",
       " Edge(source=60, target=608, name='associated with', is_directed=False, description='Alexander Courage is connected through his work', notes=[]),\n",
       " Edge(source=60, target=604, name='related to', is_directed=False, description='Walter Robinson is contemporaneous in composition', notes=[]),\n",
       " Edge(source=609, target=604, name='associated with', is_directed=False, description='Julie Grant and Walter Robinson are both musicians', notes=[]),\n",
       " Edge(source=384, target=2, name='associated with', is_directed=False, description='Petrus de Domarto connected to music composition', notes=[]),\n",
       " Edge(source=94, target=51, name='has directed', is_directed=False, description='Dana Blankstein is director of the Israeli Academy of Film and Television', notes=[]),\n",
       " Edge(source=620, target=94, name='is associated with', is_directed=False, description='Naresh Kumar is associated with notable sports figures', notes=[]),\n",
       " Edge(source=178, target=620, name='is directed by', is_directed=True, description='Jason Moore directed film featuring notable figures', notes=[]),\n",
       " Edge(source=5, target=51, name='has influenced', is_directed=False, description=\"Brian Kennedy's museum practices influence factors\", notes=[]),\n",
       " Edge(source=5, target=100, name='has directed', is_directed=False, description=\"S. N. Mathur's connections in politics relate to art direction\", notes=[]),\n",
       " Edge(source=4, target=620, name='related to', is_directed=False, description='Influenced by mutual connections within the industry', notes=[]),\n",
       " Edge(source=620, target=4, name='directed', is_directed=True, description='Directed by leading figures in film', notes=[]),\n",
       " Edge(source=51, target=620, name='influences', is_directed=False, description='Influenced cultural identities in cinema', notes=[]),\n",
       " Edge(source=178, target=5, name='is affiliated with', is_directed=False, description='Affiliated with notable film directors', notes=[]),\n",
       " Edge(source=622, target=626, name='associated with', is_directed=False, description='Worked with Emir Kusturica on films.', notes=[]),\n",
       " Edge(source=623, target=626, name='appeared in', is_directed=False, description=\"Mira Furlan appeared in 'When Father Was Away on Business'.\", notes=[]),\n",
       " Edge(source=624, target=626, name='appeared in', is_directed=False, description=\"Emir Hadžihafizbegović appeared in 'When Father Was Away on Business'.\", notes=[]),\n",
       " Edge(source=622, target=624, name='associated with', is_directed=False, description='Vilko Filač worked along with Emir Hadžihafizbegović.', notes=[]),\n",
       " Edge(source=624, target=620, name='associated with', is_directed=False, description='Naresh Kumar shared industry connections with Emir Hadžihafizbegović.', notes=[]),\n",
       " Edge(source=620, target=625, name='directed', is_directed=True, description=\"Naresh Kumar directed 'Ek Paheli'.\", notes=[]),\n",
       " Edge(source=626, target=622, name='associated with', is_directed=False, description='Linked through Kusturica’s film.', notes=[]),\n",
       " Edge(source=629, target=628, name='directed', is_directed=True, description='Directed the film', notes=[\"Kusturica directed 'Underground'\"]),\n",
       " Edge(source=630, target=628, name='wrote screenplay for', is_directed=False, description='Wrote the screenplay for the film', notes=[\"Sidran wrote the screenplay for 'When Father Was Away on Business'\"]),\n",
       " Edge(source=629, target=630, name='associated with', is_directed=False, description='Collaboration on screenplays', notes=[\"Sidran's connection to Kusturica's work\"]),\n",
       " Edge(source=628, target=626, name='directed', is_directed=True, description='Directed the film', notes=[\"Kusturica also directed 'When Father Was Away on Business'\"]),\n",
       " Edge(source=196, target=632, name='influenced', is_directed=False, description='Influenced the media landscape', notes=['Connections through television history.']),\n",
       " Edge(source=631, target=196, name='related to', is_directed=False, description='Connected through the industry', notes=['Both are influential figures in film and media.']),\n",
       " Edge(source=632, target=196, name='associated with', is_directed=False, description='Worked in the same business circles', notes=['Both connected through television and film.']),\n",
       " Edge(source=633, target=634, name='inspired', is_directed=False, description='Inspired by notable themes in history and culture', notes=[]),\n",
       " Edge(source=634, target=635, name='associated with', is_directed=False, description='Linked through shared academic interests', notes=[]),\n",
       " Edge(source=637, target=634, name='related to', is_directed=False, description='Both contributed to the fields of child development', notes=[]),\n",
       " Edge(source=10, target=636, name='has similar naming', is_directed=False, description='Similar naming conventions', notes=[]),\n",
       " Edge(source=638, target=643, name='is the same as', is_directed=False, description='Alternative name for the church', notes=[]),\n",
       " Edge(source=640, target=644, name='is a church adjacent to', is_directed=False, description='Both are churches located in Spain', notes=[]),\n",
       " Edge(source=644, target=645, name='is a historic site associated with', is_directed=False, description='Both places hold cultural significance', notes=[]),\n",
       " Edge(source=647, target=649, name='associated with', is_directed=False, description='Connection through educational initiatives', notes=[]),\n",
       " Edge(source=647, target=650, name='part of', is_directed=False, description='Part of the network of Model Technical Higher Secondary Schools', notes=[]),\n",
       " Edge(source=649, target=651, name='related to', is_directed=False, description='Connection in education within India and Kerala', notes=[]),\n",
       " Edge(source=646, target=648, name='affiliated with', is_directed=False, description='Linked through higher secondary education', notes=[]),\n",
       " Edge(source=650, target=652, name='influenced by', is_directed=False, description='Influenced by the technical education framework', notes=[]),\n",
       " Edge(source=651, target=655, name='influenced by', is_directed=False, description=\"Influenced by women's education initiatives\", notes=[]),\n",
       " Edge(source=654, target=650, name='offers similar programs', is_directed=False, description='Programs related to technological education', notes=[]),\n",
       " Edge(source=659, target=660, name='is the son of', is_directed=False, description='Beshr ibn Hasan is the son of Hasan ibn Ali.', notes=[]),\n",
       " Edge(source=660, target=659, name='has a son', is_directed=False, description='Hasan ibn Ali has a son Beshr ibn Hasan.', notes=[]),\n",
       " Edge(source=658, target=659, name='is associated with', is_directed=False, description=\"Both figures are linked to Muhammad's lineage.\", notes=[]),\n",
       " Edge(source=658, target=657, name='is contemporary of', is_directed=False, description='Ali Al-Hasan and Beshr ibn Hasan share historical contexts.', notes=[]),\n",
       " Edge(source=6, target=7, name='is related to', is_directed=False, description='Both are affiliated through historical ties to Muhammad.', notes=[]),\n",
       " Edge(source=659, target=658, name='is related to', is_directed=False, description='Both are connected through family ties to Muhammad.', notes=[]),\n",
       " Edge(source=660, target=658, name='is a relation of', is_directed=False, description='Hasan ibn Ali relates to Abdullah ibn Unais through lineage.', notes=[]),\n",
       " Edge(source=660, target=9, name='is associated with', is_directed=False, description='Hasan has historical ties to other figures.', notes=[]),\n",
       " Edge(source=666, target=669, name='located in', is_directed=False, description='Location context of Table Island', notes=['Table Island lies within the Belcher Channel']),\n",
       " Edge(source=667, target=669, name='located in', is_directed=False, description='Location context of Ekins Island', notes=['Ekins Island lies within the Belcher Channel']),\n",
       " Edge(source=669, target=666, name='contains', is_directed=False, description='Contains islands within', notes=['Belcher Channel contains Table Island and Ekins Island']),\n",
       " Edge(source=669, target=667, name='contains', is_directed=False, description='Contains islands within', notes=['Belcher Channel includes Ekins Island']),\n",
       " Edge(source=675, target=676, name='wrote', is_directed=False, description='Daniel Mason authored the novel', notes=[\"'The Piano Tuner' is his first published work\"]),\n",
       " Edge(source=675, target=677, name='wrote', is_directed=False, description='Daniel Mason authored the novel', notes=[\"'A Far Country' is his second novel\"]),\n",
       " Edge(source=678, target=679, name='directed', is_directed=True, description='Directed the film', notes=[\"David Morris and Jacqui Morris directed 'Mr. Right'\"]),\n",
       " Edge(source=679, target=680, name='associated with', is_directed=False, description='Part of Hollywood history', notes=['Vincent Sherman directed multiple notable films']),\n",
       " Edge(source=679, target=681, name='directed', is_directed=True, description='Directed the film', notes=[\"Vincent Sherman directed 'The Young Philadelphians'\"]),\n",
       " Edge(source=680, target=677, name='produced', is_directed=True, description='Directed the film based on the novel', notes=[]),\n",
       " Edge(source=679, target=683, name='directed', is_directed=True, description='Vincent Sherman directed the film', notes=[]),\n",
       " Edge(source=683, target=682, name='associated with', is_directed=False, description=\"Part of the film's thematic elements\", notes=[]),\n",
       " Edge(source=675, target=683, name='similar to', is_directed=False, description='Themes of cultural significance', notes=[]),\n",
       " Edge(source=680, target=675, name='inspired', is_directed=False, description='Influenced the narrative style', notes=[]),\n",
       " Edge(source=4, target=5, name='is a', is_directed=False, description='Ian Barry is a director', notes=[]),\n",
       " Edge(source=4, target=44, name='associated with', is_directed=False, description='Linked through film education', notes=[]),\n",
       " Edge(source=42, target=4, name='inspired', is_directed=False, description='Rolf Olsen inspired by Ian Barry', notes=[]),\n",
       " Edge(source=44, target=63, name='is a', is_directed=False, description='Bill Smith was a footballer', notes=[]),\n",
       " Edge(source=2, target=1, name='was a', is_directed=False, description='Thomas Scott was a diver', notes=[]),\n",
       " Edge(source=1, target=2, name='is noted as', is_directed=False, description='Notable figure in swimming history', notes=[]),\n",
       " Edge(source=1, target=3, name='is a', is_directed=False, description='Harry Wainwright was a footballer', notes=[]),\n",
       " Edge(source=99, target=0, name='is', is_directed=False, description='Part of historical sports inquiries', notes=[]),\n",
       " Edge(source=58, target=4, name='is inspired by', is_directed=False, description='Rolf Olsen is influenced by Ian Barry', notes=[]),\n",
       " Edge(source=9, target=8, name='is historical', is_directed=False, description=\"Theodred II's historical status is notable\", notes=[]),\n",
       " Edge(source=697, target=698, name='inspired by', is_directed=False, description='Inspired by the American film', notes=[\"Based on 'Three Men and a Baby'\"]),\n",
       " Edge(source=698, target=699, name='remake of', is_directed=False, description='Hollywood remake of a French film', notes=[\"Based on 'Three Men and a Cradle'\"]),\n",
       " Edge(source=699, target=698, name='remade in', is_directed=False, description='Remade in several Indian movies', notes=['Six Indian films in five different languages']),\n",
       " Edge(source=700, target=698, name='adapted from', is_directed=False, description='Adapted from the novel', notes=[\"Based on Jerome K. Jerome's 'Three Men in a Boat'\"]),\n",
       " Edge(source=700, target=697, name='influence on', is_directed=False, description='Influenced by the British comedy', notes=['Connection through storytelling style']),\n",
       " Edge(source=41, target=43, name='author of', is_directed=False, description=\"Author of children's literature related to cultural themes\", notes=['Themes influenced by historical narrative']),\n",
       " Edge(source=703, target=704, name='starred in', is_directed=False, description='Nancy Travis starred in the film', notes=['Played Sylvia Bennington']),\n",
       " Edge(source=703, target=698, name='starred in', is_directed=False, description='Nancy Travis starred in the film', notes=[\"Breakthrough role in 'Three Men and a Baby'\"]),\n",
       " Edge(source=704, target=698, name='sequel to', is_directed=False, description='Film sequel relationship', notes=[\"'Three Men and a Little Lady' is a sequel to 'Three Men and a Baby'\"]),\n",
       " Edge(source=704, target=702, name='directed by', is_directed=True, description='Emile Ardolino directed the film', notes=[\"Directed 'Three Men and a Little Lady'\"]),\n",
       " Edge(source=707, target=708, name='directed', is_directed=True, description='Debut film.', notes=[]),\n",
       " Edge(source=707, target=709, name='directed', is_directed=True, description='Award-winning film.', notes=[]),\n",
       " Edge(source=707, target=710, name='directed', is_directed=True, description='Film based on a novel.', notes=[]),\n",
       " Edge(source=707, target=711, name='managed', is_directed=False, description='Managed NRK Drama after directing films.', notes=[]),\n",
       " Edge(source=707, target=712, name='related to', is_directed=False, description='Influences on cultural narratives.', notes=[]),\n",
       " Edge(source=713, target=678, name='influenced', is_directed=False, description='Second film adaptation with similar themes.', notes=[]),\n",
       " Edge(source=710, target=714, name='based on', is_directed=False, description='Connections through themes of identity and history.', notes=[]),\n",
       " Edge(source=678, target=707, name='influenced', is_directed=False, description='Influences showcased in dual cultural narratives', notes=[]),\n",
       " Edge(source=716, target=717, name='directed', is_directed=True, description='Directed by Jack Conway', notes=[\"A silent film adaptation of Upton Sinclair's novel\"]),\n",
       " Edge(source=716, target=678, name='mentioned in', is_directed=False, description='Referenced in the context of film history', notes=[]),\n",
       " Edge(source=717, target=678, name='influenced', is_directed=False, description='Influenced new filmmakers', notes=[]),\n",
       " Edge(source=718, target=678, name='associated with', is_directed=False, description='Part of broader film narrative', notes=['Connected to various adaptations and remakes']),\n",
       " Edge(source=719, target=718, name='followed by', is_directed=False, description=\"Part of the ongoing 'Mission: Impossible' franchise\", notes=[]),\n",
       " Edge(source=720, target=678, name='influenced', is_directed=False, description='Influenced various projects in film and television', notes=[]),\n",
       " Edge(source=720, target=718, name='created', is_directed=False, description=\"Abrams is known for creating the 'Mission: Impossible' franchise\", notes=[]),\n",
       " Edge(source=716, target=719, name='connected to', is_directed=False, description='Part of film industry timeline', notes=[\"Mentioned alongside the history of 'Mission: Impossible'\"]),\n",
       " Edge(source=717, target=718, name='related to', is_directed=False, description='Connected through music and themes', notes=[]),\n",
       " Edge(source=718, target=719, name='influenced', is_directed=False, description='Connection to spy film narratives', notes=[]),\n",
       " Edge(source=5, target=4, name='directed', is_directed=True, description='Directed films', notes=[]),\n",
       " Edge(source=5, target=6, name='has worked in', is_directed=False, description='Associated with multiple films', notes=[]),\n",
       " Edge(source=5, target=7, name='has associated with', is_directed=False, description='Related through film culture', notes=[]),\n",
       " Edge(source=6, target=5, name='is a', is_directed=False, description='Directed notable films', notes=[]),\n",
       " Edge(source=5, target=8, name='has directed', is_directed=True, description='Documentary and televised pieces', notes=[]),\n",
       " Edge(source=6, target=39, name='associated with', is_directed=False, description='Connection to historical figures', notes=[]),\n",
       " Edge(source=4, target=7, name='related to', is_directed=False, description='Historical connections in cinema', notes=[]),\n",
       " Edge(source=8, target=1, name='connected to', is_directed=False, description='Explores significant relationships in film', notes=[]),\n",
       " Edge(source=724, target=725, name='influenced', is_directed=False, description='Eleni influenced agricultural policy in Ethiopia', notes=[]),\n",
       " Edge(source=731, target=732, name='is married to', is_directed=False, description='Relationship', notes=['Yash Chopra is married to Pamela Chopra']),\n",
       " Edge(source=731, target=733, name='is father of', is_directed=False, description='Family relationship', notes=['Yash Chopra is the father of Uday Chopra']),\n",
       " Edge(source=732, target=733, name='is mother of', is_directed=False, description='Family relationship', notes=['Pamela Chopra is the mother of Uday Chopra']),\n",
       " Edge(source=733, target=734, name='is brother of', is_directed=False, description='Sibling relationship', notes=['Uday Chopra is the brother of Aditya Chopra']),\n",
       " Edge(source=733, target=735, name='is brother-in-law of', is_directed=False, description='Family relationship', notes=['Uday Chopra is the brother-in-law of Rani Mukerji']),\n",
       " Edge(source=733, target=736, name='is cousin of', is_directed=False, description='Family relationship', notes=['Uday Chopra is the cousin of Karan Johar']),\n",
       " Edge(source=733, target=737, name='is cousin of', is_directed=False, description='Family relationship', notes=['Uday Chopra is the cousin of Vidhu Vinod Chopra']),\n",
       " Edge(source=731, target=732, name='influences', is_directed=False, description='Pamela Chopra has influenced Yash Raj Films', notes=['Influenced several films produced by Yash Chopra']),\n",
       " Edge(source=51, target=600, name='associated', is_directed=False, description='Linked through cultural direction', notes=[]),\n",
       " Edge(source=600, target=5, name='influenced', is_directed=False, description='Impacts on contemporary filmmaking', notes=[]),\n",
       " Edge(source=5, target=738, name='directed', is_directed=True, description='Also directed films', notes=[]),\n",
       " Edge(source=738, target=4, name='inspired', is_directed=False, description='Influences contemporary directors', notes=[]),\n",
       " Edge(source=94, target=4, name='related to', is_directed=False, description='Links to historical significance in cinema', notes=[]),\n",
       " Edge(source=5, target=738, name='shared history', is_directed=False, description='Historical context of film direction', notes=[]),\n",
       " Edge(source=4, target=51, name='collaborated with', is_directed=False, description='Connects through mutual direction', notes=[]),\n",
       " Edge(source=5, target=640, name='influences', is_directed=False, description='Cultural relevance', notes=['Part of the movie narrative', \"John's significant cultural impacts\"]),\n",
       " Edge(source=742, target=744, name='brother-in-law', is_directed=False, description='Brother-in-law relationship with Prince Henry', notes=[]),\n",
       " Edge(source=742, target=743, name='related to', is_directed=False, description='Relation through familial ties', notes=[]),\n",
       " Edge(source=743, target=744, name='wife of', is_directed=False, description='Marriage to Prince Henry', notes=[]),\n",
       " Edge(source=744, target=743, name='married', is_directed=False, description='Prince Henry married Princess Alice', notes=[]),\n",
       " Edge(source=744, target=746, name='husband of', is_directed=False, description='Marriage to Anne', notes=[]),\n",
       " Edge(source=746, target=744, name='wife of', is_directed=False, description='Marriage relationship', notes=[]),\n",
       " Edge(source=745, target=749, name='in relationship with', is_directed=False, description='Has relationships with Prince Henry', notes=[]),\n",
       " Edge(source=749, target=743, name='claimed to be daughter of', is_directed=False, description='Associated with royal lineage', notes=[]),\n",
       " Edge(source=743, target=747, name='married to', is_directed=False, description='Married to Frederick, Prince of Wales', notes=[]),\n",
       " Edge(source=743, target=748, name='claimed by', is_directed=False, description='Claimed lineage from Olivia', notes=[]),\n",
       " Edge(source=752, target=757, name='represents', is_directed=True, description='Walter Smith represents Lavinia in court', notes=[]),\n",
       " Edge(source=757, target=758, name='daughter of', is_directed=False, description='Lavinia is the daughter of John Serres', notes=[]),\n",
       " Edge(source=757, target=749, name='daughter of', is_directed=False, description='Lavinia is the daughter of Olivia Serres', notes=[]),\n",
       " Edge(source=753, target=754, name='married to', is_directed=False, description='George III was married to Hannah Lightfoot', notes=[]),\n",
       " Edge(source=755, target=753, name='son of', is_directed=False, description='George IV is the son of George III', notes=[]),\n",
       " Edge(source=756, target=753, name='grandson of', is_directed=False, description='Queen Victoria is a descendant of George III', notes=[]),\n",
       " Edge(source=759, target=753, name='related to', is_directed=False, description='Duke of Cumberland is related through George III', notes=[]),\n",
       " Edge(source=760, target=757, name='associated with', is_directed=False, description=\"William FitzClarence connected to Lavinia's case\", notes=[]),\n",
       " Edge(source=760, target=749, name='boyfriend of', is_directed=False, description='William FitzClarence is the boyfriend of Olivia Serres', notes=[]),\n",
       " Edge(source=752, target=760, name='claimed documents from', is_directed=False, description='Lavinia claimed documents were left by Olivia', notes=[]),\n",
       " Edge(source=94, target=6, name='has directed', is_directed=False, description='Directed several museums', notes=[]),\n",
       " Edge(source=4, target=6, name='is director of', is_directed=False, description='Known for filmmaking', notes=[]),\n",
       " Edge(source=6, target=5, name='is director of', is_directed=False, description='Appointed as director of the museum', notes=[]),\n",
       " Edge(source=5, target=4, name='associated with', is_directed=False, description='Connection through film direction', notes=[]),\n",
       " Edge(source=4, target=5, name='is influenced by', is_directed=False, description='Connection through thematic influences', notes=[]),\n",
       " Edge(source=5, target=7, name='assisted by', is_directed=False, description='Connection in cinematic narratives', notes=[]),\n",
       " Edge(source=6, target=5, name='influenced by', is_directed=False, description='Cultural influences', notes=[]),\n",
       " Edge(source=8, target=4, name='is associated with', is_directed=False, description='Links to the film industry', notes=[]),\n",
       " Edge(source=4, target=5, name='related to', is_directed=False, description='Connection through cinematic contributions', notes=[]),\n",
       " Edge(source=94, target=5, name='funded by', is_directed=False, description='Funding contributions in cultural context', notes=[]),\n",
       " Edge(source=771, target=1, name='directed', is_directed=True, description='Directed by Mike Figgis', notes=[]),\n",
       " Edge(source=770, target=1, name='included in', is_directed=False, description='The song appears in compilation albums', notes=[]),\n",
       " Edge(source=400, target=1, name='promoted by', is_directed=False, description='Promoted by The Muppets', notes=[]),\n",
       " Edge(source=767, target=1, name='produced by', is_directed=False, description='Produced by Will Arntz', notes=[]),\n",
       " Edge(source=765, target=1, name='related to', is_directed=False, description='Connecting narrative elements of films', notes=['Both films released in 2000']),\n",
       " Edge(source=764, target=1, name='associated with', is_directed=False, description='Associated with a series of films', notes=[]),\n",
       " Edge(source=576, target=1, name='related to', is_directed=False, description='Linked through common themes in cinema', notes=[]),\n",
       " Edge(source=201, target=1, name='notable for', is_directed=False, description='Notable film in indie cinema', notes=[]),\n",
       " Edge(source=11, target=1, name='associated with', is_directed=False, description='Linked through the film community', notes=[]),\n",
       " Edge(source=4, target=1, name='contributed to', is_directed=False, description='Contributed to broader narrative in cinema', notes=[]),\n",
       " Edge(source=4, target=5, name='directed', is_directed=True, description='Directed numerous films including TV adaptations', notes=[]),\n",
       " Edge(source=97, target=94, name='was director of', is_directed=False, description='Former director of SRI and Armour Research Foundation', notes=[]),\n",
       " Edge(source=51, target=37, name='is a', is_directed=False, description='Influences in film and literary arts', notes=[]),\n",
       " Edge(source=95, target=542, name='is a', is_directed=False, description='Influence on multiple media forms', notes=[]),\n",
       " Edge(source=94, target=95, name='influences', is_directed=False, description='Influential in education and cultural history', notes=[]),\n",
       " Edge(source=5, target=6, name='is related to', is_directed=False, description='Connection through film direction', notes=[]),\n",
       " Edge(source=784, target=784, name='is the same film as', is_directed=False, description='Remakes present across two time periods', notes=[]),\n",
       " Edge(source=4, target=679, name='associated with', is_directed=False, description='Part of film community in their peaks', notes=[]),\n",
       " Edge(source=4, target=4, name='linked to', is_directed=False, description='Connection through directors across eras', notes=[]),\n",
       " Edge(source=786, target=787, name='partnered with', is_directed=False, description='Collaborated on many films', notes=[]),\n",
       " Edge(source=786, target=788, name='directed', is_directed=True, description='Directed the film 49th Parallel', notes=[]),\n",
       " Edge(source=786, target=789, name='directed', is_directed=True, description='Directed the film The Life and Death of Colonel Blimp', notes=[]),\n",
       " Edge(source=786, target=790, name='directed', is_directed=True, description='Directed the film A Matter of Life and Death', notes=[]),\n",
       " Edge(source=786, target=791, name='directed', is_directed=True, description='Directed the film Black Narcissus', notes=[]),\n",
       " Edge(source=786, target=792, name='directed', is_directed=True, description='Directed the film The Red Shoes', notes=[]),\n",
       " Edge(source=786, target=793, name='directed', is_directed=True, description='Directed the film The Tales of Hoffmann', notes=[]),\n",
       " Edge(source=786, target=794, name='directed', is_directed=True, description='Directed the film Peeping Tom', notes=[]),\n",
       " Edge(source=786, target=795, name='influenced', is_directed=False, description='Influenced many filmmakers', notes=['Including Martin Scorsese.']),\n",
       " Edge(source=796, target=798, name='acted in', is_directed=True, description='Egil Sætren acted in this film', notes=[\"Debuted in 'Jomfru Trofast'\"]),\n",
       " Edge(source=797, target=798, name='adapted from', is_directed=False, description='The 1935 film is adapted from this earlier work', notes=[]),\n",
       " Edge(source=797, target=799, name='remake', is_directed=False, description='This film was remade in 1942', notes=[]),\n",
       " Edge(source=797, target=796, name='produced by', is_directed=False, description='Produced by Egil Sætren', notes=['Egil Sætren worked on the set design or similar roles'])]"
      ]
     },
     "execution_count": 28,
     "metadata": {},
     "output_type": "execute_result"
    }
   ],
   "source": [
    "rag.graph.edges"
   ]
  },
  {
   "cell_type": "code",
   "execution_count": 29,
   "id": "c8b789a4-502c-49c8-9983-e24802202efa",
   "metadata": {},
   "outputs": [
    {
     "name": "stderr",
     "output_type": "stream",
     "text": [
      "Asking to truncate to max_length but no maximum length is provided and the model has no predefined maximum length. Default to no truncation.\n"
     ]
    },
    {
     "name": "stdout",
     "output_type": "stream",
     "text": [
      "Question: Are director of film Move (1970 Film) and director of film Méditerranée (1963 Film) from the same country?\n",
      "entities ['Move', 'Méditerranée']\n",
      "Are AUX VBP\n",
      "director NOUN NN\n",
      "of ADP IN\n",
      "film NOUN NN\n",
      "Move PROPN NNP\n",
      "( PUNCT -LRB-\n",
      "1970 NUM CD\n",
      "Film PROPN NNP\n",
      ") PUNCT -RRB-\n",
      "and CCONJ CC\n",
      "director NOUN NN\n",
      "of ADP IN\n",
      "film NOUN NN\n",
      "Méditerranée PROPN NNP\n",
      "( PUNCT -LRB-\n",
      "1963 NUM CD\n",
      "Film PROPN NNP\n",
      ") PUNCT -RRB-\n",
      "from ADP IN\n",
      "the DET DT\n",
      "same ADJ JJ\n",
      "country NOUN NN\n",
      "? PUNCT .\n",
      "pos_tags ['director', 'film', 'Move', 'Film', 'director', 'film', 'Méditerranée', 'Film', 'country']\n"
     ]
    },
    {
     "data": {
      "application/vnd.jupyter.widget-view+json": {
       "model_id": "69be86a56aea4e7eadb4bc9447981211",
       "version_major": 2,
       "version_minor": 0
      },
      "text/plain": [
       "Batches:   0%|          | 0/1 [00:00<?, ?it/s]"
      ]
     },
     "metadata": {},
     "output_type": "display_data"
    },
    {
     "name": "stdout",
     "output_type": "stream",
     "text": [
      "graph nodes retrieved ['Méditerranée', 'Move', 'At the Movies', 'American Film Institute', 'The Actors', 'The Da Vinci Code (film)', 'A Far Country', 'Committed (film)', 'Blowback (film)', 'Clouds (film)']\n",
      "entites for edges ['Move', 'Méditerranée', 'director', 'film', 'Move', 'Film', 'director', 'film', 'Méditerranée', 'Film', 'country']\n"
     ]
    },
    {
     "data": {
      "application/vnd.jupyter.widget-view+json": {
       "model_id": "908b313280d74147877f033b7850e27e",
       "version_major": 2,
       "version_minor": 0
      },
      "text/plain": [
       "Batches:   0%|          | 0/1 [00:00<?, ?it/s]"
      ]
     },
     "metadata": {},
     "output_type": "display_data"
    },
    {
     "data": {
      "application/vnd.jupyter.widget-view+json": {
       "model_id": "83ad11a89739455b8a7ca264c2dd4f6e",
       "version_major": 2,
       "version_minor": 0
      },
      "text/plain": [
       "Batches:   0%|          | 0/25 [00:00<?, ?it/s]"
      ]
     },
     "metadata": {},
     "output_type": "display_data"
    },
    {
     "name": "stdout",
     "output_type": "stream",
     "text": [
      "similar_edges ['influenced', 'associated', 'directed', 'starred', 'reprises role', 'produced']\n",
      "similar_node_ids [140, 330, 339, 401, 2, 764, 765, 3, 131, 336]\n",
      "similar_node_ids graph nodes retrieved ['Méditerranée', 'Move', 'At the Movies', 'Neil Young', 'Judy Garland', 'American Film Institute', 'A Pretty Girl Milking Her Cow', 'The Actors', 'Committed (film)', 'Blowback (film)']\n",
      "***************************************!!******************************\n",
      "***************************************!!******************************\n",
      "***************************************!!******************************\n",
      "***************************************!!******************************\n",
      "***************************************!!******************************\n",
      "***************************************!!******************************\n",
      "***************************************!!******************************\n",
      "***************************************!!******************************\n",
      "***************************************!!******************************\n",
      "***************************************!!******************************\n",
      "***************************************!!******************************\n",
      "***************************************!!******************************\n",
      "***************************************!!******************************\n",
      "\n",
      "You are a helpful assistant analyzing the given input data to provide an helpful response to the user query.\n",
      "\n",
      "# USER QUERY\n",
      "Are director of film Move (1970 Film) and director of film Méditerranée (1963 Film) from the same country?\n",
      "\n",
      "# Context:\n",
      "KnowledgeGraph Overview\n",
      "  There are 13 entities and 7 relationships in this graph.\n",
      "\n",
      "Entities in the graph:\n",
      "  • 'Méditerranée':\n",
      "      The entity has the following description: 1963 French experimental film\n",
      "      It can also be referred to as: Méditerranée (1963 film)\n",
      "      It has the following additional information: Directed by Jean-Daniel Pollet, Written by Philippe Sollers, Produced by Barbet Schroeder\n",
      "  • 'Move':\n",
      "      The entity has the following description: 1970 American comedy film\n",
      "      It can also be referred to as: Move (1970 film)\n",
      "      It has the following additional information: Starring Elliott Gould, Paula Prentiss, and Geneviève Waïte, Directed by Stuart Rosenberg\n",
      "  • 'At the Movies':\n",
      "      The entity has the following description: Refers to a film review show Television series and film franchise\n",
      "      It can also be referred to as: At the Movies\n",
      "  • 'Neil Young':\n",
      "      The entity has the following description: Canadian singer-songwriter Canadian singer-songwriter\n",
      "      It can also be referred to as: Neil Young, Neil Percival Young\n",
      "      It has the following additional information: Wrote the song 'Soldier', From the 1972 album 'Journey Through the Past', Included in the 1977 compilation 'Decade'\n",
      "  • 'Judy Garland':\n",
      "      The entity has the following description: American actress, singer and dancer Irish-American singer and actress\n",
      "      It can also be referred to as: Judy Garland (born Frances Ethel Gumm; June 10, 1922 – June 22, 1969), Judy Garland\n",
      "      It has the following additional information: Attained international stardom as an actress in musical and dramatic roles, Respected for her versatility, Received an Academy Juvenile Award, a Golden Globe Award, and a Special Tony Award, Won Grammy Award for Album of the Year in 1962, Portrayed Dorothy Gale in 'The Wizard of Oz' (1939)\n",
      "  • 'American Film Institute':\n",
      "      The entity has the following description: Organization dedicated to preserving American cinema\n",
      "      It has the following additional information: Ranked Garland among the 10 greatest female stars of classic American cinema in 1999\n",
      "  • 'A Pretty Girl Milking Her Cow':\n",
      "      The entity has the following description: Traditional 18th-century Irish ballad\n",
      "      It can also be referred to as: Cailin Deas Crúite na mBó\n",
      "      It has the following additional information: Attributed to Thomas Moore (1779–1852), Originally sung in Irish Gaelic, Revived by Judy Garland in 'Little Nellie Kelly'\n",
      "  • 'The Actors':\n",
      "      The entity has the following description: 2003 film written and directed by Conor McPherson\n",
      "      It has the following additional information: Stars Dylan Moran and Michael Caine, with supporting roles from Michael Gambon, Miranda Richardson and Lena Headey, Contemporary comedy set in Dublin following two mediocre stage actors, Involves a plot to con a retired gangster out of £50,000, The film features a version of Shakespeare's 'Richard III' with everyone dressed in Nazi uniform, Set in the Olympia Theatre\n",
      "  • 'The Da Vinci Code (film)':\n",
      "      The entity has the following description: 2006 American mystery thriller film\n",
      "      It has the following additional information: Directed by Ron Howard, Written by Akiva Goldsman, Based on Dan Brown's novel\n",
      "  • 'A Far Country':\n",
      "      The entity has the following description: Novel by Daniel Mason\n",
      "      It has the following additional information: Published in March 2007\n",
      "  • 'Committed (film)':\n",
      "      The entity has the following description: 2000 film directed and written by Lisa Krueger\n",
      "  • 'Blowback (film)':\n",
      "      The entity has the following description: 2000 film directed by Mark L. Lester\n",
      "  • 'Clouds (film)':\n",
      "      The entity has the following description: 2000 film written and directed by Don Thompson\n",
      "      It has the following additional information: Produced by Will Arntz\n",
      "\n",
      "Relationships between nodes:\n",
      "  • There is an undirected relationship between 'Neil Young' and 'Neil Young' called 'same individual'.\n",
      "      The relationship is described as: Name consistency check\n",
      "      The relationship has the following notes: \n",
      "  • There is an undirected relationship between 'Neil Young' and 'Méditerranée' called 'associated'.\n",
      "      The relationship is described as: Part of musical collaborations\n",
      "      The relationship has the following notes: Worked with Buffalo Springfield and Crosby, Stills & Nash\n",
      "  • There is an undirected relationship between 'Neil Young' and 'Move' called 'influenced'.\n",
      "      The relationship is described as: Inspired numerous artists\n",
      "      The relationship has the following notes: Earned nickname 'Godfather of Grunge'\n",
      "  • There is an undirected relationship between 'Judy Garland' and 'American Film Institute' called 'recognized by'.\n",
      "      The relationship is described as: Recognized by American Film Institute\n",
      "      The relationship has the following notes: Listed among the greatest female stars in 1999\n",
      "  • There is an undirected relationship between 'A Pretty Girl Milking Her Cow' and 'Judy Garland' called 'performed by'.\n",
      "      The relationship is described as: Performed by Judy Garland\n",
      "      The relationship has the following notes: \n",
      "  • There is an undirected relationship between 'Judy Garland' and 'A Pretty Girl Milking Her Cow' called 'sang'.\n",
      "      The relationship is described as: Sang the song at various performances\n",
      "      The relationship has the following notes: \n",
      "  • There is an undirected relationship between 'The Actors' and 'Move' called 'collaborated with'.\n",
      "      The relationship is described as: Collaboration in various projects\n",
      "      The relationship has the following notes: \n",
      "\n",
      "\n",
      "\n",
      "# INSTRUCTIONS\n",
      "Your goal is to provide a response to the user query using the relevant information in the input data:\n",
      "- the \"Entities\" and \"Relationships\" tables contain high-level information. Use these tables to identify the most important entities and relationships to respond to the query.\n",
      "- the \"Sources\" list contains raw text sources to help answer the query. It may contain noisy data, so pay attention when analyzing it.\n",
      "\n",
      "Follow these steps:\n",
      "1. Read and understand the user query.\n",
      "2. Look at the \"Entities\" and \"Relationships\" tables to get a general sense of the data and understand which information is the most relevant to answer the query.\n",
      "3. Carefully analyze all the \"Sources\" to get more detailed information. Information could be scattered across several sources, use the identified relevant entities and relationships to guide yourself through the analysis of the sources.\n",
      "4. While you write the response, you must include inline references to the all the sources you are using by appending `[<source_id>]` at the end of each sentence, where `source_id` is the corresponding source ID from the \"Sources\" list.\n",
      "5. Write the response to the user query - which must include the inline references - based on the information you have gathered. Be very concise and answer the user query directly. If the response cannot be inferred from the input data, just say no relevant information was found. Do not make anything up or add unrelevant information.\n",
      "\n",
      "Answer:\n",
      "\n"
     ]
    },
    {
     "name": "stderr",
     "output_type": "stream",
     "text": [
      "2025-06-22 12:50:16,841 INFO     HTTP Request: POST https://api.openai.com/v1/responses \"HTTP/1.1 200 OK\"\n"
     ]
    },
    {
     "data": {
      "text/plain": [
       "'The director of the film *Méditerranée* (1963) is Jean-Daniel Pollet, and the director of the film *Move* (1970) is Stuart Rosenberg. *Méditerranée* is a French film, indicating that Jean-Daniel Pollet is from France. In contrast, *Move* is an American film, suggesting that Stuart Rosenberg is from the United States. Therefore, the directors of these two films are not from the same country.'"
      ]
     },
     "execution_count": 29,
     "metadata": {},
     "output_type": "execute_result"
    }
   ],
   "source": [
    "print('Question:', train[0]['question'])\n",
    "resp = rag.query(train[0]['question'], traversal = 'pp')\n",
    "resp"
   ]
  },
  {
   "cell_type": "code",
   "execution_count": 30,
   "id": "5d523f88",
   "metadata": {},
   "outputs": [
    {
     "name": "stdout",
     "output_type": "stream",
     "text": [
      "Question: Are director of film Move (1970 Film) and director of film Méditerranée (1963 Film) from the same country?\n",
      "entities ['Move', 'Méditerranée']\n",
      "Are AUX VBP\n",
      "director NOUN NN\n",
      "of ADP IN\n",
      "film NOUN NN\n",
      "Move PROPN NNP\n",
      "( PUNCT -LRB-\n",
      "1970 NUM CD\n",
      "Film PROPN NNP\n",
      ") PUNCT -RRB-\n",
      "and CCONJ CC\n",
      "director NOUN NN\n",
      "of ADP IN\n",
      "film NOUN NN\n",
      "Méditerranée PROPN NNP\n",
      "( PUNCT -LRB-\n",
      "1963 NUM CD\n",
      "Film PROPN NNP\n",
      ") PUNCT -RRB-\n",
      "from ADP IN\n",
      "the DET DT\n",
      "same ADJ JJ\n",
      "country NOUN NN\n",
      "? PUNCT .\n",
      "pos_tags ['director', 'film', 'Move', 'Film', 'director', 'film', 'Méditerranée', 'Film', 'country']\n"
     ]
    },
    {
     "data": {
      "application/vnd.jupyter.widget-view+json": {
       "model_id": "a310a7de2a44491f975d3823496a5b16",
       "version_major": 2,
       "version_minor": 0
      },
      "text/plain": [
       "Batches:   0%|          | 0/1 [00:00<?, ?it/s]"
      ]
     },
     "metadata": {},
     "output_type": "display_data"
    },
    {
     "name": "stdout",
     "output_type": "stream",
     "text": [
      "graph nodes retrieved ['Méditerranée', 'Move', 'At the Movies', 'American Film Institute', 'The Actors', 'The Da Vinci Code (film)', 'A Far Country', 'Committed (film)', 'Blowback (film)', 'Clouds (film)']\n",
      "scores tensor([1.2203, 1.3070, 1.3187, 1.3485, 1.4398, 1.4547, 1.4754, 1.5413, 1.5517,\n",
      "        1.5782], dtype=torch.float64)\n",
      "scores tensor([2.1295, 2.2235, 2.2241, 2.2264, 2.3177, 2.3220, 2.4058, 2.4134, 2.4222,\n",
      "        2.4255], dtype=torch.float64)\n",
      "scores tensor([0.9095, 0.9110, 0.9120, 0.9147, 0.9166, 0.9187, 0.9194, 0.9206, 0.9215,\n",
      "        0.9226], dtype=torch.float64)\n",
      "scores tensor([1.0979, 1.2987, 1.3497, 1.3790, 1.4293, 1.4593, 1.4777, 1.5189, 1.5224,\n",
      "        1.5495], dtype=torch.float64)\n",
      "scores tensor([1.0992, 1.9681, 1.9968, 2.0183, 2.0561, 2.0810, 2.1175, 2.1190, 2.1274,\n",
      "        2.1335], dtype=torch.float64)\n",
      "scores tensor([2.2994e-07, 2.7842e+00, 2.8291e+00, 2.8668e+00, 2.9589e+00, 2.9795e+00,\n",
      "        2.9971e+00, 3.0077e+00, 3.0098e+00, 3.0137e+00], dtype=torch.float64)\n",
      "scores tensor([5.9576e-08, 1.1129e+00, 1.2051e+00, 1.2112e+00, 1.3119e+00, 1.3412e+00,\n",
      "        1.4031e+00, 1.4102e+00, 1.4175e+00, 1.4432e+00], dtype=torch.float64)\n",
      "scores tensor([0.0000, 1.7104, 1.7685, 1.8404, 1.8844, 1.9220, 1.9224, 1.9398, 1.9446,\n",
      "        1.9474], dtype=torch.float64)\n",
      "scores tensor([6.6629e-08, 6.6331e-01, 1.6843e+00, 2.1172e+00, 2.1206e+00, 2.1575e+00,\n",
      "        2.1613e+00, 2.1702e+00, 2.2590e+00, 2.2882e+00], dtype=torch.float64)\n",
      "scores tensor([0.9132, 0.9177, 0.9181, 0.9183, 0.9190, 0.9197, 0.9214, 0.9216, 0.9224,\n",
      "        0.9235], dtype=torch.float64)\n",
      "similar_node_ids [1, 4, 5, 6, 773, 774, 134, 779, 11, 269, 783, 16, 146, 402, 401, 148, 27, 413, 542, 543, 672, 676, 37, 678, 679, 680, 41, 40, 43, 300, 45, 46, 303, 301, 556, 562, 691, 50, 567, 572, 64, 576, 581, 453, 583, 94, 354, 741, 103, 241, 508]\n",
      "similar_node_ids graph nodes retrieved ['Stuart Rosenberg', 'Ian Barry', 'Peter Levin', 'Brian Johnson', 'Irving Reis', 'Sergio Mimica- Gezzan', 'Danger: Diabolik', 'Pamela Jain', 'Moffat Sinkala', 'Theodred II', 'Etan Boritzer', 'Les Richards', 'Brian Saunders', 'Wedding Night in Paradise', 'Walter Ulfig', 'Olav Aaraas', 'Rolling Meadows High School', 'Bloody Birthday', 'Bernie Bonvoisin', 'John Donatich', 'Harry Wainwright', 'Prince of the Plains', 'Priscilla Pointer', 'Vera Miletić', 'Sir Andrew Agnew, 3rd Baronet', 'Chahar Taq, Jahrom', 'The Actors', 'Liar Liar', 'Inferno', 'Avidathe Pole Ivideyum', 'Mirza Jahangir', 'Seti I', 'Ramesses II', 'Bill Clinton', 'Ashes and Diamonds', 'Death and Diamonds', 'A Face in the Fog', 'St. Marys High School (Lynn, Massachusetts)', 'Mother Teresa High School', 'Nick Gillespie', 'Favorit TV', 'The Piano Tuner', 'Mr. Right', 'Vincent Sherman', 'Duilio Coletti', 'Jafarabad, Nahavand', 'Dustin Kahia', 'Mireille Delunsch', 'Chadwell, Leicestershire', 'Dugès', 'The Sporting Duchess (1920 film)']\n",
      "***************************************!!******************************\n",
      "***************************************!!******************************\n",
      "***************************************!!******************************\n",
      "***************************************!!******************************\n",
      "***************************************!!******************************\n",
      "***************************************!!******************************\n",
      "***************************************!!******************************\n",
      "***************************************!!******************************\n",
      "***************************************!!******************************\n",
      "***************************************!!******************************\n",
      "***************************************!!******************************\n",
      "***************************************!!******************************\n",
      "***************************************!!******************************\n",
      "***************************************!!******************************\n",
      "***************************************!!******************************\n",
      "***************************************!!******************************\n",
      "***************************************!!******************************\n",
      "***************************************!!******************************\n",
      "***************************************!!******************************\n",
      "***************************************!!******************************\n",
      "***************************************!!******************************\n",
      "***************************************!!******************************\n",
      "***************************************!!******************************\n",
      "***************************************!!******************************\n",
      "***************************************!!******************************\n",
      "***************************************!!******************************\n",
      "***************************************!!******************************\n",
      "***************************************!!******************************\n",
      "***************************************!!******************************\n",
      "***************************************!!******************************\n",
      "***************************************!!******************************\n",
      "***************************************!!******************************\n",
      "***************************************!!******************************\n",
      "***************************************!!******************************\n",
      "***************************************!!******************************\n",
      "***************************************!!******************************\n",
      "***************************************!!******************************\n",
      "***************************************!!******************************\n",
      "***************************************!!******************************\n",
      "***************************************!!******************************\n",
      "***************************************!!******************************\n",
      "***************************************!!******************************\n",
      "***************************************!!******************************\n",
      "***************************************!!******************************\n",
      "***************************************!!******************************\n",
      "***************************************!!******************************\n",
      "***************************************!!******************************\n",
      "***************************************!!******************************\n",
      "***************************************!!******************************\n",
      "***************************************!!******************************\n",
      "***************************************!!******************************\n",
      "***************************************!!******************************\n",
      "***************************************!!******************************\n",
      "***************************************!!******************************\n",
      "***************************************!!******************************\n",
      "***************************************!!******************************\n",
      "***************************************!!******************************\n",
      "***************************************!!******************************\n",
      "***************************************!!******************************\n",
      "***************************************!!******************************\n",
      "\n",
      "You are a helpful assistant analyzing the given input data to provide an helpful response to the user query.\n",
      "\n",
      "# USER QUERY\n",
      "Are director of film Move (1970 Film) and director of film Méditerranée (1963 Film) from the same country?\n",
      "\n",
      "# Context:\n",
      "KnowledgeGraph Overview\n",
      "  There are 60 entities and 84 relationships in this graph.\n",
      "\n",
      "Entities in the graph:\n",
      "  • 'Stuart Rosenberg':\n",
      "      The entity has the following description: American film and television director American film and television director\n",
      "      It can also be referred to as: Stuart Rosenberg (August 11, 1927 – March 15, 2007), Stuart Rosenberg\n",
      "      It has the following additional information: Directed 'Cool Hand Luke', 'Voyage of the Damned', 'The Amityville Horror', 'The Pope of Greenwich Village'\n",
      "  • 'Méditerranée':\n",
      "      The entity has the following description: 1963 French experimental film\n",
      "      It can also be referred to as: Méditerranée (1963 film)\n",
      "      It has the following additional information: Directed by Jean-Daniel Pollet, Written by Philippe Sollers, Produced by Barbet Schroeder\n",
      "  • 'Move':\n",
      "      The entity has the following description: 1970 American comedy film\n",
      "      It can also be referred to as: Move (1970 film)\n",
      "      It has the following additional information: Starring Elliott Gould, Paula Prentiss, and Geneviève Waïte, Directed by Stuart Rosenberg\n",
      "  • 'Ian Barry':\n",
      "      The entity has the following description: Australian director of film and TV Australian director of film and TV Australian director of film and TV Australian director of film and TV Australian director of film and TV. Australian director of film and TV Australian director of film and TV Australian director of film and TV Australian director of film and TV Australian director of film and TV Australian director of film and TV Australian director of film and TV Australian director of film and TV Australian director of film and TV Australian director of film and TV Australian director of film and TV Australian director of film and TV Australian director of film and TV Australian director of film and TV Australian director of film and TV Australian director of film and TV Australian director of film and TV. Australian director of film and TV Australian director of film and TV Australian director known for film and TV. Australian director of film and television. Australian director of film and TV Australian director of film and TV Australian director of film and TV Australian director of film and TV Australian director of film and TV Australian director of film and TV Australian director of film and TV\n",
      "      It can also be referred to as: Ian Barry\n",
      "  • 'Peter Levin':\n",
      "      The entity has the following description: American director of film, television and theatre American director of film, television and theatre American director of film, television, and theatre American director of film, television and theatre American director of film, television and theatre. American director of film, television and theatre American director of film, television and theatre American director of film, television and theatre American director of film, television and theatre American director of film, television and theatre American director of film, television and theatre American director of film, television and theatre American director of film, television and theatre American director of film, television and theatre American director of film, television and theatre American director of film, television and theatre American director of film, television and theatre American director of film, television and theatre American director of film, television and theatre American director of film, television and theatre American director of film, television and theatre American director of film, television, and theatre American director of film, television and theatre American director known for films, television, and theatre. American director of film, television and theatre. American director of film, television and theatre American director of film, television and theatre American director of film, television and theatre American director of film, television and theatre American director of film, television and theatre American director of film, television, and theatre American director of film, television and theatre\n",
      "      It can also be referred to as: Peter Levin\n",
      "  • 'Brian Johnson':\n",
      "      The entity has the following description: British designer and director of film and television special effects British designer and director of film and television special effects British designer and director of film and television special effects British designer and director of film and television special effects British designer and director of film and television special effects British designer and director specializing in film and television special effects.\n",
      "      It can also be referred to as: Brian Johnson (special effects artist), Brian Johnson, Brian Johnson (born 1939 or 1940)\n",
      "      It has the following additional information: Born 1939 or 1940\n",
      "  • 'Irving Reis':\n",
      "      The entity has the following description: American film director\n",
      "      It has the following additional information: Directed 'The Falcon Takes Over' (1942)\n",
      "  • 'Sergio Mimica- Gezzan':\n",
      "      The entity has the following description: American film and television director\n",
      "      It has the following additional information: Son of Vatroslav Mimica\n",
      "  • 'Danger: Diabolik':\n",
      "      The entity has the following description: 1968 action film directed by Mario Bava\n",
      "      It has the following additional information: Based on the Italian comic series 'Diabolik' by Angela and Luciana Giussani, Stars John Phillip Law as Diabolik, Co-written by Mario Bava and others\n",
      "  • 'Pamela Jain':\n",
      "      The entity has the following description: Indian playback singer Indian playback singer. Indian playback singer Indian playback singer Indian playback singer\n",
      "      It can also be referred to as: Pamela Jain\n",
      "      It has the following additional information: Date of Birth: 16th March\n",
      "  • 'Moffat Sinkala':\n",
      "      The entity has the following description: Zambian footballer\n",
      "      It has the following additional information: Date of birth unknown, died June 2004, Competed in men's tournament at the 1980 Summer Olympics\n",
      "  • 'Theodred II':\n",
      "      The entity has the following description: Medieval Bishop of Elmham Medieval Bishop of Elmham Medieval Bishop of Elmham. Medieval Bishop of Elmham Medieval Bishop of Elmham Medieval Bishop of Elmham Medieval Bishop of Elmham Medieval Bishop of Elmham Medieval Bishop of Elmham. Medieval Bishop of Elmham Medieval Bishop of Elmham Medieval Bishop of Elmham Medieval Bishop of Elmham Medieval Bishop of Elmham. Medieval Bishop of Elmham Medieval Bishop of Elmham Medieval Bishop of Elmham Medieval Bishop of Elmham Medieval Bishop of Elmham\n",
      "      It can also be referred to as: Theodred II, Theodred II (Bishop of Elmham)\n",
      "      It has the following additional information: Date of consecration unknown, Died sometime between 995 and 997\n",
      "  • 'Etan Boritzer':\n",
      "      The entity has the following description: American writer of children’s literature American writer of children's literature. American writer of children’s literature American writer of children’s literature American writer of children’s literature American writer of children’s literature American writer of children's literature American writer of children’s literature. American writer of children’s literature American writer of children's literature American writer of children’s literature American writer of children’s literature American writer of children’s literature. American writer of children's literature American writer of children’s literature American writer of children's literature American writer of children’s literature American writer of children’s literature\n",
      "      It can also be referred to as: Etan Boritzer, Etan Boritzer (born 1950)\n",
      "      It has the following additional information: Born 1950, Best known for the book 'What is God?' first published in 1989, Author of the 'What is?' series, Series translated into 15 languages, Yoga teacher and speaker on 'The Teachings of the Buddha'\n",
      "  • 'Les Richards':\n",
      "      The entity has the following description: Australian rules footballer Australian rules footballer who played with North Melbourne in the VFL. Australian rules footballer who played with North Melbourne in the VFL Australian rules footballer who played with North Melbourne in the VFL Australian rules footballer Australian rules footballer who played with North Melbourne in the VFL. Australian rules footballer who played with North Melbourne Australian rules footballer Australian rules footballer who played with North Melbourne in VFL\n",
      "      It can also be referred to as: Les Richards\n",
      "      It has the following additional information: Date of birth unknown\n",
      "  • 'Brian Saunders':\n",
      "      The entity has the following description: Male weightlifter who competed for England Male weightlifter who competed for England. Male weightlifter who competed for England Male weightlifter who competed for England Male weightlifter who competed for England Male weightlifter who competed for England. Male weightlifter who competed for England Male weightlifter who competed for England Male weightlifter who competed for England\n",
      "      It can also be referred to as: Brian Saunders, Brian Saunders (weightlifter)\n",
      "      It has the following additional information: Date of birth and death unknown\n",
      "  • 'Wedding Night in Paradise':\n",
      "      The entity has the following description: 1950 West German musical comedy film\n",
      "      It can also be referred to as: Wedding Night in Paradise (1950 film)\n",
      "      It has the following additional information: Directed by Géza von Bolváry, Starring Johannes Heesters, Claude Farell and Gretl Schörg, Operetta film based on 1942 stage work\n",
      "  • 'Walter Ulfig':\n",
      "      The entity has the following description: German composer of film scores German composer of film scores German composer of film scores\n",
      "      It can also be referred to as: Walter Ulfig\n",
      "  • 'Olav Aaraas':\n",
      "      The entity has the following description: Norwegian historian and museum director Norwegian historian and museum director Norwegian historian and museum director Norwegian historian and museum director Norwegian historian and museum director Norwegian historian and museum director Norwegian historian and museum director Norwegian historian and museum director Norwegian historian and museum director. Norwegian historian and museum director Norwegian historian and museum director Norwegian historian and museum director Norwegian historian and museum director\n",
      "      It can also be referred to as: Olav Aaraas (born 10 July 1950), Olav Aaraas\n",
      "      It has the following additional information: Born in Fredrikstad, Director of Sogn Folk Museum (1982-1993), Director of Maihaugen (1993-2010), Director of the Norwegian Museum of Cultural History (2001-present), Decorated with the Royal Norwegian Order of St. Olav in 2010\n",
      "  • 'Rolling Meadows High School':\n",
      "      The entity has the following description: Public four-year high school located in Rolling Meadows, Illinois\n",
      "      It can also be referred to as: RMHS\n",
      "      It has the following additional information: Part of Township High School District 214, Opened for the 1971-1972 school year, Feeder schools include South Middle School, Holmes Junior High School, Carl Sandburg Junior High School, and Our Lady of the Wayside\n",
      "  • 'At the Movies':\n",
      "      The entity has the following description: Refers to a film review show Television series and film franchise\n",
      "      It can also be referred to as: At the Movies\n",
      "  • 'Bloody Birthday':\n",
      "      The entity has the following description: 1981 American slasher film\n",
      "      It has the following additional information: Directed by Ed Hunt, Produced by Gerald T. Olson, Starring Susan Strasberg, José Ferrer, and Lori Lethin, Plot follows a group of children born on the same day committing murders on their tenth birthdays\n",
      "  • 'Bernie Bonvoisin':\n",
      "      The entity has the following description: French hard rock singer and film director French hard rock singer and film director French hard rock singer and film director. French hard rock singer and film director French hard rock singer and film director\n",
      "      It can also be referred to as: Bernard Bonvoisin (born 9 July 1956), Bernie Bonvoisin, Bernard Bonvoisin\n",
      "      It has the following additional information: Best known for being the singer of Trust, Friend of Bon Scott from AC/DC, Recorded 'Ride On' with Bon Scott\n",
      "  • 'John Donatich':\n",
      "      The entity has the following description: Director of Yale University Press Director of Yale University Press\n",
      "      It can also be referred to as: John Donatich\n",
      "  • 'Harry Wainwright':\n",
      "      The entity has the following description: English footballer English footballer English footballer English professional footballer\n",
      "      It can also be referred to as: Harry Wainwright, Harry Wainwright (born 1899; date of death unknown)\n",
      "      It has the following additional information: Born 1899, Date of death unknown\n",
      "  • 'Prince of the Plains':\n",
      "      The entity has the following description: 1949 American Western film\n",
      "      It has the following additional information: Directed by Philip Ford, Written by Louise Rousseau and Albert DeMond, Stars Monte Hale, Paul Hurst, Shirley Davis, Roy Barcroft, Rory Mallinson, and Harry Lauter, Released on April 8, 1949, by Republic Pictures\n",
      "  • 'Priscilla Pointer':\n",
      "      The entity has the following description: American stage, film and television character actress\n",
      "      It can also be referred to as: Priscilla Marie Pointer (born May 18, 1924)\n",
      "      It has the following additional information: Career began in theater and Broadway, Mother of Amy Irving, mother-in-law of Steven Spielberg, Bruno Barreto, and Kenneth Bowser, Jr.\n",
      "  • 'Vera Miletić':\n",
      "      The entity has the following description: Serbian student and soldier, mother of Mira Marković, mother-in-law of Slobodan Milošević\n",
      "      It can also be referred to as: Vera Miletić (8 March 1920 – 7 September 1944)\n",
      "  • 'Sir Andrew Agnew, 3rd Baronet':\n",
      "      The entity has the following description: Scottish baronet, son of Sir Andrew Agnew, 2nd Baronet and Lady Anne Stewart\n",
      "      It can also be referred to as: Sir Andrew Agnew, 3rd Baronet (died 1702)\n",
      "  • 'American Film Institute':\n",
      "      The entity has the following description: Organization dedicated to preserving American cinema\n",
      "      It has the following additional information: Ranked Garland among the 10 greatest female stars of classic American cinema in 1999\n",
      "  • 'Chahar Taq, Jahrom':\n",
      "      The entity has the following description: Village in Posht Par Rural District, Jahrom County, Fars Province, Iran\n",
      "      It can also be referred to as: Chahār Ţāq\n",
      "      It has the following additional information: Population: 223 (2006 Census), Families: 54\n",
      "  • 'The Actors':\n",
      "      The entity has the following description: 2003 film written and directed by Conor McPherson\n",
      "      It has the following additional information: Stars Dylan Moran and Michael Caine, with supporting roles from Michael Gambon, Miranda Richardson and Lena Headey, Contemporary comedy set in Dublin following two mediocre stage actors, Involves a plot to con a retired gangster out of £50,000, The film features a version of Shakespeare's 'Richard III' with everyone dressed in Nazi uniform, Set in the Olympia Theatre\n",
      "  • 'Liar Liar':\n",
      "      The entity has the following description: 1997 American fantasy comedy film directed by Tom Shadyac\n",
      "      It has the following additional information: Written by Paul Guay and Stephen Mazur, Stars Jim Carrey, who was nominated for a Golden Globe Award for Best Actor in a Comedy, It is part of three collaborations between Carrey and Shadyac\n",
      "  • 'Inferno':\n",
      "      The entity has the following description: 2016 American mystery action thriller film directed by Ron Howard.\n",
      "      It can also be referred to as: Inferno (2016 film)\n",
      "      It has the following additional information: Sequel to 'The Da Vinci Code' and 'Angels & Demons', Stars Tom Hanks as Robert Langdon, Released in the US on October 28, 2016\n",
      "  • 'The Da Vinci Code (film)':\n",
      "      The entity has the following description: 2006 American mystery thriller film\n",
      "      It has the following additional information: Directed by Ron Howard, Written by Akiva Goldsman, Based on Dan Brown's novel\n",
      "  • 'Avidathe Pole Ivideyum':\n",
      "      The entity has the following description: 1985 Indian Malayalam drama film\n",
      "      It has the following additional information: Directed by K. S. Sethumadhavan, Written by John Paul from a story by C. Radhakrishnan, Stars Mammootty, Mohanlal, Shobhana, and Kavita Thakur, Score composed by M. K. Arjunan, Focuses on the family life of two friends and their marriages\n",
      "  • 'Mirza Jahangir':\n",
      "      The entity has the following description: Son of Mumtaz Begum\n",
      "      It has the following additional information: Exiled by the East India Company after attacking their resident\n",
      "  • 'Seti I':\n",
      "      The entity has the following description: Ancient Egyptian pharaoh\n",
      "  • 'Ramesses II':\n",
      "      The entity has the following description: Ancient Egyptian pharaoh\n",
      "  • 'Bill Clinton':\n",
      "      The entity has the following description: Former President of the United States Former President of the United States\n",
      "      It can also be referred to as: Bill Clinton\n",
      "      It has the following additional information: Visited North Korea in an attempt to secure the release of Euna Lee and Laura Ling\n",
      "  • 'Ashes and Diamonds':\n",
      "      The entity has the following description: 1958 Polish drama film directed by Andrzej Wajda\n",
      "      It can also be referred to as: Ashes and Diamonds (film), Popiół i diament\n",
      "      It has the following additional information: Based on the 1948 novel by Jerzy Andrzejewski, Starring Zbigniew Cybulski and Ewa Krzyżewska, Part of Wajda's war trilogy\n",
      "  • 'Death and Diamonds':\n",
      "      The entity has the following description: 1968 German thriller film directed by Harald Reinl\n",
      "      It has the following additional information: Part of the Jerry Cotton series\n",
      "  • 'A Face in the Fog':\n",
      "      The entity has the following description: 1936 American film directed by Robert F. Hill.\n",
      "  • 'St. Marys High School (Lynn, Massachusetts)':\n",
      "      The entity has the following description: Private Roman Catholic high school in Lynn, Massachusetts.\n",
      "      It has the following additional information: Located in the Roman Catholic Archdiocese of Boston\n",
      "  • 'Mother Teresa High School':\n",
      "      The entity has the following description: Catholic secondary school in Nepean, Ottawa, Ontario, Canada.\n",
      "      It has the following additional information: Supports grades 7–12, Sports team name is the Titans, Motto: 'Amor et Dignitas' (Love and Dignity)\n",
      "  • 'Nick Gillespie':\n",
      "      The entity has the following description: American libertarian journalist and editor\n",
      "      It can also be referred to as: Nicholas John Gillespie, Nick Gillespie (born August 7, 1963)\n",
      "      It has the following additional information: Editor-in-chief of Reason magazine (2000-2008), Editor-in-chief of Reason.com and Reason TV (2008-2017), Joined Reason in 1993 as an assistant editor\n",
      "  • 'Favorit TV':\n",
      "      The entity has the following description: Romanian folk music channel located in Bucharest\n",
      "      It can also be referred to as: Favorit TV\n",
      "      It has the following additional information: Owned by Centrul National Media\n",
      "  • 'The Piano Tuner':\n",
      "      The entity has the following description: Historical novel by Daniel Mason\n",
      "      It has the following additional information: Set in British India and Burma, First published in 2002, Basis for a 2004 opera\n",
      "  • 'A Far Country':\n",
      "      The entity has the following description: Novel by Daniel Mason\n",
      "      It has the following additional information: Published in March 2007\n",
      "  • 'Mr. Right':\n",
      "      The entity has the following description: 2009 British film 2009 British film directed by David Morris and Jacqui Morris, debut for both directors. 2009 British film\n",
      "      It can also be referred to as: Mr. Right\n",
      "      It has the following additional information: Directed by David Morris and Jacqui Morris\n",
      "  • 'Vincent Sherman':\n",
      "      The entity has the following description: American director and actor\n",
      "      It has the following additional information: Born July 16, 1906 – June 18, 2006, Directed 'Mr. Skeffington', 'Nora Prentiss', 'The Young Philadelphians'\n",
      "  • 'Duilio Coletti':\n",
      "      The entity has the following description: Italian film director and screenwriter\n",
      "      It has the following additional information: Born December 28, 1906 – May 22, 1999, Directed 29 films between 1934 and 1977\n",
      "  • 'Jafarabad, Nahavand':\n",
      "      The entity has the following description: Village in Solgi Rural District, Nahavand County, Hamadan Province, Iran.\n",
      "      It can also be referred to as: Jafarabad, Ja‘farābād, Ja‘farābād -e Bālā, Ja‘farābād -e ‘ Olya, Ja’far Abad Olya\n",
      "      It has the following additional information: Population: 159 (2006 census), 37 families\n",
      "  • 'Dustin Kahia':\n",
      "      The entity has the following description: American film director, screenwriter, and producer\n",
      "      It can also be referred to as: Dustin Thomas Kahia (born June 12, 1989)\n",
      "      It has the following additional information: Best known for writing and directing 'Call of the Void'\n",
      "  • 'Committed (film)':\n",
      "      The entity has the following description: 2000 film directed and written by Lisa Krueger\n",
      "  • 'Blowback (film)':\n",
      "      The entity has the following description: 2000 film directed by Mark L. Lester\n",
      "  • 'Clouds (film)':\n",
      "      The entity has the following description: 2000 film written and directed by Don Thompson\n",
      "      It has the following additional information: Produced by Will Arntz\n",
      "  • 'Mireille Delunsch':\n",
      "      The entity has the following description: French opera soprano\n",
      "      It can also be referred to as: Mireille Delunsch (born 2 November 1962)\n",
      "      It has the following additional information: Born in Mulhouse, France., Studied musicology and voice at the Conservatoire de Strasbourg., Debut at the Opéra du Rhin in Mussorgsky's Boris Godunov.\n",
      "  • 'Chadwell, Leicestershire':\n",
      "      The entity has the following description: Small village in Leicestershire, England\n",
      "      It has the following additional information: Approximately northwest of Melton Mowbray., Part of Scalford and shares the same parish council.\n",
      "  • 'Dugès':\n",
      "      The entity has the following description: Multiple people share this surname.\n",
      "  • 'The Sporting Duchess (1920 film)':\n",
      "      The entity has the following description: Lost 1920 American silent drama film directed by George Terwilliger\n",
      "      It has the following additional information: Based on the 1895 play by Henry Hamilton, Produced by the Vitagraph Company of America\n",
      "\n",
      "Relationships between nodes:\n",
      "  • There is a directed relationship from 'Stuart Rosenberg' to 'Move' called 'directed'.\n",
      "      The relationship is described as: Directed the film\n",
      "      The relationship has the following notes: Directed 'Move' (1970)\n",
      "  • There is a directed relationship from 'Stuart Rosenberg' to 'Méditerranée' called 'directed'.\n",
      "      The relationship is described as: Directed the film\n",
      "      The relationship has the following notes: Directed 'Méditerranée' with assistance\n",
      "  • There is an undirected relationship between 'Bernie Bonvoisin' and 'Bernie Bonvoisin' called 'same individual'.\n",
      "      The relationship is described as: Name consistency check\n",
      "      The relationship has the following notes: \n",
      "  • There is an undirected relationship between 'Theodred II' and 'Ian Barry' called 'associated with'.\n",
      "      The relationship is described as: Part of history\n",
      "      The relationship has the following notes: Theodred II's time overlaps with biblical and medieval history\n",
      "  • There is an undirected relationship between 'Etan Boritzer' and 'Peter Levin' called 'inspired'.\n",
      "      The relationship is described as: Inspired children’s authors\n",
      "      The relationship has the following notes: Etan Boritzer has inspired many in children's literature\n",
      "  • There is an undirected relationship between 'Peter Levin' and 'Etan Boritzer' called 'associated with'.\n",
      "      The relationship is described as: Connection to film and literature\n",
      "      The relationship has the following notes: Exploration of various human experiences in films and literature\n",
      "  • There is a directed relationship from 'Ian Barry' to 'Peter Levin' called 'directed'.\n",
      "      The relationship is described as: Directed films\n",
      "      The relationship has the following notes: \n",
      "  • There is an undirected relationship between 'Stuart Rosenberg' and 'Peter Levin' called 'associated'.\n",
      "      The relationship is described as: Part of the film community\n",
      "      The relationship has the following notes: Both involved in films and direction\n",
      "  • There is an undirected relationship between 'Wedding Night in Paradise' and 'Stuart Rosenberg' called 'related to'.\n",
      "      The relationship is described as: Related through historical cinematic works\n",
      "      The relationship has the following notes: Both contributed to cinema and are recognized in their fields\n",
      "  • There is an undirected relationship between 'Olav Aaraas' and 'Prince of the Plains' called 'associated'.\n",
      "      The relationship is described as: Connection through cultural history influences\n",
      "      The relationship has the following notes: \n",
      "  • There is an undirected relationship between 'Ian Barry' and 'Olav Aaraas' called 'associated'.\n",
      "      The relationship is described as: Linked through museum and art direction\n",
      "      The relationship has the following notes: \n",
      "  • There is an undirected relationship between 'Etan Boritzer' and 'Etan Boritzer' called 'same individual'.\n",
      "      The relationship is described as: Name consistency check\n",
      "      The relationship has the following notes: \n",
      "  • There is an undirected relationship between 'Les Richards' and 'Theodred II' called 'related to'.\n",
      "      The relationship is described as: Connection through sports history\n",
      "      The relationship has the following notes: \n",
      "  • There is a directed relationship from 'Ian Barry' to 'Stuart Rosenberg' called 'directed'.\n",
      "      The relationship is described as: Directed multiple films\n",
      "      The relationship has the following notes: \n",
      "  • There is an undirected relationship between 'Peter Levin' and 'Etan Boritzer' called 'influenced'.\n",
      "      The relationship is described as: Influenced writers\n",
      "      The relationship has the following notes: \n",
      "  • There is an undirected relationship between 'Peter Levin' and 'Brian Saunders' called 'associated with'.\n",
      "      The relationship is described as: Connection through competitive fields\n",
      "      The relationship has the following notes: \n",
      "  • There is an undirected relationship between 'Peter Levin' and 'Les Richards' called 'associated with'.\n",
      "      The relationship is described as: Connection through sports history\n",
      "      The relationship has the following notes: \n",
      "  • There is an undirected relationship between 'Etan Boritzer' and 'Peter Levin' called 'was influenced by'.\n",
      "      The relationship is described as: Influenced children's authors\n",
      "      The relationship has the following notes: Wrote many books that raised philosophical questions\n",
      "  • There is a directed relationship from 'Peter Levin' to 'Ian Barry' called 'directed'.\n",
      "      The relationship is described as: Directed films including Ich für dich, du für mich\n",
      "      The relationship has the following notes: \n",
      "  • There is an undirected relationship between 'Ian Barry' and 'Ian Barry' called 'associated'.\n",
      "      The relationship is described as: Connection through film direction\n",
      "      The relationship has the following notes: \n",
      "  • There is an undirected relationship between 'Harry Wainwright' and 'Theodred II' called 'contemporary of'.\n",
      "      The relationship is described as: Contemporary figures in different fields of expertise\n",
      "      The relationship has the following notes: Different time periods but share historical significance\n",
      "  • There is an undirected relationship between 'Peter Levin' and 'Ian Barry' called 'related to'.\n",
      "      The relationship is described as: Both known directors\n",
      "      The relationship has the following notes: \n",
      "  • There is an undirected relationship between 'Olav Aaraas' and 'Peter Levin' called 'contributed to'.\n",
      "      The relationship is described as: Part of cultural production\n",
      "      The relationship has the following notes: Impact on film and cultural sectors\n",
      "  • There is an undirected relationship between 'Ian Barry' and 'Peter Levin' called 'associated'.\n",
      "      The relationship is described as: Colleagues in the film industry\n",
      "      The relationship has the following notes: Both are directors in film and television\n",
      "  • There is an undirected relationship between 'Peter Levin' and 'Brian Johnson' called 'affiliated with'.\n",
      "      The relationship is described as: Affiliation in film direction\n",
      "      The relationship has the following notes: Influences in American cinema\n",
      "  • There is an undirected relationship between 'Liar Liar' and 'Stuart Rosenberg' called 'associated with'.\n",
      "      The relationship is described as: Connection through collaborative works\n",
      "      The relationship has the following notes: \n",
      "  • There is an undirected relationship between 'The Actors' and 'Stuart Rosenberg' called 'associated with'.\n",
      "      The relationship is described as: Part of the same film community\n",
      "      The relationship has the following notes: \n",
      "  • There is an undirected relationship between 'The Actors' and 'Move' called 'collaborated with'.\n",
      "      The relationship is described as: Collaboration in various projects\n",
      "      The relationship has the following notes: \n",
      "  • There is an undirected relationship between 'Peter Levin' and 'The Actors' called 'associated with'.\n",
      "      The relationship is described as: Connection in film direction\n",
      "      The relationship has the following notes: \n",
      "  • There is an undirected relationship between 'The Actors' and 'Peter Levin' called 'connected to'.\n",
      "      The relationship is described as: Links through working in the industry\n",
      "      The relationship has the following notes: \n",
      "  • There is an undirected relationship between 'Brian Johnson' and 'Brian Saunders' called 'is'.\n",
      "      The relationship is described as: Identity of\n",
      "      The relationship has the following notes: \n",
      "  • There is an undirected relationship between 'Olav Aaraas' and 'Peter Levin' called 'influenced'.\n",
      "      The relationship is described as: Sought influence in cultural projects\n",
      "      The relationship has the following notes: \n",
      "  • There is an undirected relationship between 'Pamela Jain' and 'Etan Boritzer' called 'influenced'.\n",
      "      The relationship is described as: Influenced by similar artistic themes\n",
      "      The relationship has the following notes: Both have cultural impacts in their genres\n",
      "  • There is an undirected relationship between 'Theodred II' and 'Etan Boritzer' called 'historical context'.\n",
      "      The relationship is described as: Context in historical narratives\n",
      "      The relationship has the following notes: Both underlie significant historical periods\n",
      "  • There is an undirected relationship between 'Les Richards' and 'Etan Boritzer' called 'related by'.\n",
      "      The relationship is described as: Connection through regional history\n",
      "      The relationship has the following notes: Sports and historical ties in Melbourne\n",
      "  • There is an undirected relationship between 'Ian Barry' and 'Méditerranée' called 'contemporary of'.\n",
      "      The relationship is described as: Contemporaries in political influence\n",
      "      The relationship has the following notes: Both shaped the political narratives of their time\n",
      "  • There is an undirected relationship between 'Stuart Rosenberg' and 'Méditerranée' called 'associated with'.\n",
      "      The relationship is described as: Related through rock music and storytelling\n",
      "      The relationship has the following notes: \n",
      "  • There is an undirected relationship between 'Etan Boritzer' and 'Ian Barry' called 'influenced'.\n",
      "      The relationship is described as: Related through children’s literature\n",
      "      The relationship has the following notes: \n",
      "  • There is an undirected relationship between 'Harry Wainwright' and 'Ian Barry' called 'associated with'.\n",
      "      The relationship is described as: Connection through sports narrative\n",
      "      The relationship has the following notes: \n",
      "  • There is an undirected relationship between 'Pamela Jain' and 'Ian Barry' called 'collaborated with'.\n",
      "      The relationship is described as: Collaboration in film direction\n",
      "      The relationship has the following notes: \n",
      "  • There is an undirected relationship between 'Theodred II' and 'Ian Barry' called 'linked to'.\n",
      "      The relationship is described as: Linked through the history of English football\n",
      "      The relationship has the following notes: \n",
      "  • There is an undirected relationship between 'Peter Levin' and 'Theodred II' called 'associated with'.\n",
      "      The relationship is described as: Part of the same era in storytelling\n",
      "      The relationship has the following notes: \n",
      "  • There is a directed relationship from 'Peter Levin' to 'Ashes and Diamonds' called 'directed'.\n",
      "      The relationship is described as: Directed the film\n",
      "      The relationship has the following notes: \n",
      "  • There is an undirected relationship between 'John Donatich' and 'Peter Levin' called 'related to'.\n",
      "      The relationship is described as: Connection to literature and media\n",
      "      The relationship has the following notes: \n",
      "  • There is an undirected relationship between 'Death and Diamonds' and 'Ian Barry' called 'associated with'.\n",
      "      The relationship is described as: Connection in the film community\n",
      "      The relationship has the following notes: \n",
      "  • There is a directed relationship from 'Ian Barry' to 'Brian Saunders' called 'directed'.\n",
      "      The relationship is described as: Directed films\n",
      "      The relationship has the following notes: \n",
      "  • There is an undirected relationship between 'Etan Boritzer' and 'Brian Saunders' called 'connected to'.\n",
      "      The relationship is described as: Connection through cultural themes\n",
      "      The relationship has the following notes: \n",
      "  • There is an undirected relationship between 'Brian Saunders' and 'Nick Gillespie' called 'influenced by'.\n",
      "      The relationship is described as: Influences in sports narrative\n",
      "      The relationship has the following notes: \n",
      "  • There is an undirected relationship between 'Nick Gillespie' and 'Peter Levin' called 'associated with'.\n",
      "      The relationship is described as: Connection through media\n",
      "      The relationship has the following notes: \n",
      "  • There is an undirected relationship between 'Peter Levin' and 'Brian Johnson' called 'related to'.\n",
      "      The relationship is described as: Peter Levin connects with Brian Johnson through special effects\n",
      "      The relationship has the following notes: \n",
      "  • There is a directed relationship from 'Mr. Right' to 'Vincent Sherman' called 'directed'.\n",
      "      The relationship is described as: Directed the film\n",
      "      The relationship has the following notes: David Morris and Jacqui Morris directed 'Mr. Right'\n",
      "  • There is an undirected relationship between 'Vincent Sherman' and 'Duilio Coletti' called 'associated with'.\n",
      "      The relationship is described as: Part of Hollywood history\n",
      "      The relationship has the following notes: Vincent Sherman directed multiple notable films\n",
      "  • There is a directed relationship from 'Duilio Coletti' to 'A Far Country' called 'produced'.\n",
      "      The relationship is described as: Directed the film based on the novel\n",
      "      The relationship has the following notes: \n",
      "  • There is an undirected relationship between 'Ian Barry' and 'Peter Levin' called 'is a'.\n",
      "      The relationship is described as: Ian Barry is a director\n",
      "      The relationship has the following notes: \n",
      "  • There is an undirected relationship between 'Méditerranée' and 'Stuart Rosenberg' called 'was a'.\n",
      "      The relationship is described as: Thomas Scott was a diver\n",
      "      The relationship has the following notes: \n",
      "  • There is an undirected relationship between 'Stuart Rosenberg' and 'Méditerranée' called 'is noted as'.\n",
      "      The relationship is described as: Notable figure in swimming history\n",
      "      The relationship has the following notes: \n",
      "  • There is an undirected relationship between 'Stuart Rosenberg' and 'Move' called 'is a'.\n",
      "      The relationship is described as: Harry Wainwright was a footballer\n",
      "      The relationship has the following notes: \n",
      "  • There is an undirected relationship between 'Theodred II' and 'Etan Boritzer' called 'author of'.\n",
      "      The relationship is described as: Author of children's literature related to cultural themes\n",
      "      The relationship has the following notes: Themes influenced by historical narrative\n",
      "  • There is an undirected relationship between 'Peter Levin' and 'Brian Johnson' called 'has worked in'.\n",
      "      The relationship is described as: Associated with multiple films\n",
      "      The relationship has the following notes: \n",
      "  • There is an undirected relationship between 'Brian Johnson' and 'Peter Levin' called 'is a'.\n",
      "      The relationship is described as: Directed notable films\n",
      "      The relationship has the following notes: \n",
      "  • There is an undirected relationship between 'Olav Aaraas' and 'Ian Barry' called 'related to'.\n",
      "      The relationship is described as: Links to historical significance in cinema\n",
      "      The relationship has the following notes: \n",
      "  • There is an undirected relationship between 'Olav Aaraas' and 'Brian Johnson' called 'has directed'.\n",
      "      The relationship is described as: Directed several museums\n",
      "      The relationship has the following notes: \n",
      "  • There is an undirected relationship between 'Ian Barry' and 'Brian Johnson' called 'is director of'.\n",
      "      The relationship is described as: Known for filmmaking\n",
      "      The relationship has the following notes: \n",
      "  • There is an undirected relationship between 'Brian Johnson' and 'Peter Levin' called 'is director of'.\n",
      "      The relationship is described as: Appointed as director of the museum\n",
      "      The relationship has the following notes: \n",
      "  • There is an undirected relationship between 'Peter Levin' and 'Ian Barry' called 'associated with'.\n",
      "      The relationship is described as: Connection through film direction\n",
      "      The relationship has the following notes: \n",
      "  • There is an undirected relationship between 'Ian Barry' and 'Peter Levin' called 'is influenced by'.\n",
      "      The relationship is described as: Connection through thematic influences\n",
      "      The relationship has the following notes: \n",
      "  • There is an undirected relationship between 'Brian Johnson' and 'Peter Levin' called 'influenced by'.\n",
      "      The relationship is described as: Cultural influences\n",
      "      The relationship has the following notes: \n",
      "  • There is an undirected relationship between 'Olav Aaraas' and 'Peter Levin' called 'funded by'.\n",
      "      The relationship is described as: Funding contributions in cultural context\n",
      "      The relationship has the following notes: \n",
      "  • There is an undirected relationship between 'Blowback (film)' and 'Stuart Rosenberg' called 'related to'.\n",
      "      The relationship is described as: Connecting narrative elements of films\n",
      "      The relationship has the following notes: Both films released in 2000\n",
      "  • There is an undirected relationship between 'Committed (film)' and 'Stuart Rosenberg' called 'associated with'.\n",
      "      The relationship is described as: Associated with a series of films\n",
      "      The relationship has the following notes: \n",
      "  • There is an undirected relationship between 'St. Marys High School (Lynn, Massachusetts)' and 'Stuart Rosenberg' called 'related to'.\n",
      "      The relationship is described as: Linked through common themes in cinema\n",
      "      The relationship has the following notes: \n",
      "  • There is an undirected relationship between 'Irving Reis' and 'Stuart Rosenberg' called 'associated with'.\n",
      "      The relationship is described as: Linked through the film community\n",
      "      The relationship has the following notes: \n",
      "  • There is an undirected relationship between 'Ian Barry' and 'Stuart Rosenberg' called 'contributed to'.\n",
      "      The relationship is described as: Contributed to broader narrative in cinema\n",
      "      The relationship has the following notes: \n",
      "  • There is an undirected relationship between 'Peter Levin' and 'Brian Johnson' called 'is related to'.\n",
      "      The relationship is described as: Connection through film direction\n",
      "      The relationship has the following notes: \n",
      "  • There is an undirected relationship between 'Ian Barry' and 'Vincent Sherman' called 'associated with'.\n",
      "      The relationship is described as: Part of film community in their peaks\n",
      "      The relationship has the following notes: \n",
      "  • There is an undirected relationship between 'Ian Barry' and 'Ian Barry' called 'linked to'.\n",
      "      The relationship is described as: Connection through directors across eras\n",
      "      The relationship has the following notes: \n",
      "\n",
      "\n",
      "\n",
      "# INSTRUCTIONS\n",
      "Your goal is to provide a response to the user query using the relevant information in the input data:\n",
      "- the \"Entities\" and \"Relationships\" tables contain high-level information. Use these tables to identify the most important entities and relationships to respond to the query.\n",
      "- the \"Sources\" list contains raw text sources to help answer the query. It may contain noisy data, so pay attention when analyzing it.\n",
      "\n",
      "Follow these steps:\n",
      "1. Read and understand the user query.\n",
      "2. Look at the \"Entities\" and \"Relationships\" tables to get a general sense of the data and understand which information is the most relevant to answer the query.\n",
      "3. Carefully analyze all the \"Sources\" to get more detailed information. Information could be scattered across several sources, use the identified relevant entities and relationships to guide yourself through the analysis of the sources.\n",
      "4. While you write the response, you must include inline references to the all the sources you are using by appending `[<source_id>]` at the end of each sentence, where `source_id` is the corresponding source ID from the \"Sources\" list.\n",
      "5. Write the response to the user query - which must include the inline references - based on the information you have gathered. Be very concise and answer the user query directly. If the response cannot be inferred from the input data, just say no relevant information was found. Do not make anything up or add unrelevant information.\n",
      "\n",
      "Answer:\n",
      "\n"
     ]
    },
    {
     "name": "stderr",
     "output_type": "stream",
     "text": [
      "2025-06-22 12:57:27,478 INFO     HTTP Request: POST https://api.openai.com/v1/responses \"HTTP/1.1 200 OK\"\n"
     ]
    },
    {
     "data": {
      "text/plain": [
       "'The director of the film *Move* (1970) is Stuart Rosenberg, who is American, while the director of *Méditerranée* (1963) is Jean-Daniel Pollet, who is French. Therefore, they are not from the same country, as one is from the United States and the other from France. [Sources: 1, 2, 3]'"
      ]
     },
     "execution_count": 30,
     "metadata": {},
     "output_type": "execute_result"
    }
   ],
   "source": [
    "print('Question:', train[0]['question'])\n",
    "resp = rag.query(train[0]['question'])\n",
    "resp"
   ]
  },
  {
   "cell_type": "code",
   "execution_count": null,
   "id": "398b4275-ca01-4f21-98b0-07b6efa78c47",
   "metadata": {},
   "outputs": [],
   "source": []
  },
  {
   "cell_type": "code",
   "execution_count": 24,
   "id": "ff34e6b7-452f-4e0c-ba0d-052e5832405f",
   "metadata": {},
   "outputs": [
    {
     "name": "stdout",
     "output_type": "stream",
     "text": [
      "Question: What gender is Jill?Give me the character arc of Sam\n",
      "entities ['Jill', 'Sam']\n"
     ]
    },
    {
     "data": {
      "application/vnd.jupyter.widget-view+json": {
       "model_id": "abd1d8ab1d7e4ca7ae48e0aab9ba1fec",
       "version_major": 2,
       "version_minor": 0
      },
      "text/plain": [
       "Batches:   0%|          | 0/1 [00:00<?, ?it/s]"
      ]
     },
     "metadata": {},
     "output_type": "display_data"
    },
    {
     "name": "stdout",
     "output_type": "stream",
     "text": [
      "[[np.int64(1), np.int64(2)]]\n",
      "node_ids [tensor([9, 7]), tensor([4, 0, 5])]\n",
      "node_ids [9, 7, 4, 0, 5]\n",
      "***************************************!!******************************\n",
      "***************************************!!******************************\n",
      "***************************************!!******************************\n",
      "***************************************!!******************************\n",
      "***************************************!!******************************\n",
      "***************************************!!******************************\n",
      "\n",
      "You are a helpful assistant analyzing the given input data to provide an helpful response to the user query.\n",
      "\n",
      "# USER QUERY\n",
      "What gender is Jill?Give me the character arc of Sam\n",
      "\n",
      "# Context:\n",
      "KnowledgeGraph Overview\n",
      "  There are 6 entities and 7 relationships in this graph.\n",
      "\n",
      "Entities in the graph:\n",
      "  • 'Jill':\n",
      "      The entity has the following description: Jill is an adult sibling of Jack.\n",
      "      It can also be referred to as: Jill\n",
      "      It has the following additional information: 45 years old, twins with Jack\n",
      "  • 'Sam':\n",
      "      The entity has the following description: Sam is a friend of Jack and Jill.\n",
      "      It can also be referred to as: Sam\n",
      "      It has the following additional information: single for a long time, found love with friend\n",
      "  • 'Friend':\n",
      "      The entity has the following description: The friend of Jack and Jill who is a good match for Sam.\n",
      "      It can also be referred to as: Friend\n",
      "      It has the following additional information: helped Sam find love\n",
      "  • 'Romania':\n",
      "      The entity has the following description: A country where Sam and their friend moved to.\n",
      "      It can also be referred to as: Romania\n",
      "      It has the following additional information: home to a massive Castle\n",
      "  • 'Patient':\n",
      "      The entity has the following description: A person who was diagnosed with type 2 diabetes mellitus.\n",
      "      It can also be referred to as: Patient\n",
      "      It has the following additional information: diagnosed with type 2 diabetes mellitus\n",
      "  • 'Metformin':\n",
      "      The entity has the following description: A medication used to treat type 2 diabetes mellitus.\n",
      "      It can also be referred to as: Metformin\n",
      "      It has the following additional information: prescribed 500mg twice daily\n",
      "\n",
      "Relationships between nodes:\n",
      "  • There is a directed relationship from 'Jill' to 'Sam' called 'Friend'.\n",
      "      The relationship is described as: Jill and Sam are friends.\n",
      "      The relationship has the following notes: \n",
      "  • There is a directed relationship from 'Sam' to 'Friend' called 'Matchmaker'.\n",
      "      The relationship is described as: Sam found love with the help of Jack and Jill's friend.\n",
      "      The relationship has the following notes: \n",
      "  • There is a directed relationship from 'Sam' to 'Romania' called 'MovedTo'.\n",
      "      The relationship is described as: Sam and their friend moved to Romania.\n",
      "      The relationship has the following notes: \n",
      "  • There is a directed relationship from 'Patient' to 'Metformin' called 'Prescribed'.\n",
      "      The relationship is described as: The patient was prescribed metformin 500mg twice daily.\n",
      "      The relationship has the following notes: \n",
      "  • There is a directed relationship from 'Jill' to 'Sam' called 'LocatedIn'.\n",
      "      The relationship is described as: The left temporal lobe is located in the brain.\n",
      "      The relationship has the following notes: \n",
      "  • There is a directed relationship from 'Sam' to 'Friend' called 'TypeOf'.\n",
      "      The relationship is described as: Low-grade glioma is a type of glioma.\n",
      "      The relationship has the following notes: \n",
      "  • There is a directed relationship from 'Friend' to 'Romania' called 'TypeOf'.\n",
      "      The relationship is described as: Glioma is a type of brain tumor.\n",
      "      The relationship has the following notes: \n",
      "\n",
      "\n",
      "\n",
      "# INSTRUCTIONS\n",
      "Your goal is to provide a response to the user query using the relevant information in the input data:\n",
      "- the \"Entities\" and \"Relationships\" tables contain high-level information. Use these tables to identify the most important entities and relationships to respond to the query.\n",
      "- the \"Sources\" list contains raw text sources to help answer the query. It may contain noisy data, so pay attention when analyzing it.\n",
      "\n",
      "Follow these steps:\n",
      "1. Read and understand the user query.\n",
      "2. Look at the \"Entities\" and \"Relationships\" tables to get a general sense of the data and understand which information is the most relevant to answer the query.\n",
      "3. Carefully analyze all the \"Sources\" to get more detailed information. Information could be scattered across several sources, use the identified relevant entities and relationships to guide yourself through the analysis of the sources.\n",
      "4. While you write the response, you must include inline references to the all the sources you are using by appending `[<source_id>]` at the end of each sentence, where `source_id` is the corresponding source ID from the \"Sources\" list.\n",
      "5. Write the response to the user query - which must include the inline references - based on the information you have gathered. Be very concise and answer the user query directly. If the response cannot be inferred from the input data, just say no relevant information was found. Do not make anything up or add unrelevant information.\n",
      "\n",
      "Answer:\n",
      "\n"
     ]
    },
    {
     "name": "stderr",
     "output_type": "stream",
     "text": [
      "Llama.generate: 1005 prefix-match hit, remaining 1 prompt tokens to eval\n",
      "llama_perf_context_print:        load time =    9163.97 ms\n",
      "llama_perf_context_print: prompt eval time =       0.00 ms /     1 tokens (    0.00 ms per token,      inf tokens per second)\n",
      "llama_perf_context_print:        eval time =    9254.43 ms /   100 runs   (   92.54 ms per token,    10.81 tokens per second)\n",
      "llama_perf_context_print:       total time =    9668.53 ms /   101 tokens\n"
     ]
    },
    {
     "data": {
      "text/plain": [
       "'Jill is an adult sibling of Jack. As for the character arc of Sam, Sam is a friend of Jack and Jill, and they helped Sam find love. Sam then moved to Romania with their friend [1]. Sam found love in Romania, marking a significant change in their life [2].\\n\\nReferences:\\n[1] Entity: Romania\\n[2] Relationship: Sam moved to Romania with their friend\\n\\nNote: The answer is based on the information provided in the input data, and it is'"
      ]
     },
     "execution_count": 24,
     "metadata": {},
     "output_type": "execute_result"
    }
   ],
   "source": [
    "print('Question:', queries[1])\n",
    "resp = rag.query(queries[1])\n",
    "resp"
   ]
  },
  {
   "cell_type": "code",
   "execution_count": 25,
   "id": "f0aa48d3-da9f-4ec1-b825-65c5b0c98539",
   "metadata": {},
   "outputs": [
    {
     "name": "stdout",
     "output_type": "stream",
     "text": [
      "Question: What location is the story set in\n",
      "entities []\n"
     ]
    },
    {
     "data": {
      "application/vnd.jupyter.widget-view+json": {
       "model_id": "5743d57224874fe3bee85c105db393a6",
       "version_major": 2,
       "version_minor": 0
      },
      "text/plain": [
       "Batches:   0%|          | 0/1 [00:00<?, ?it/s]"
      ]
     },
     "metadata": {},
     "output_type": "display_data"
    },
    {
     "name": "stdout",
     "output_type": "stream",
     "text": [
      "[[]]\n",
      "node_ids []\n",
      "node_ids []\n",
      "\n",
      "You are a helpful assistant analyzing the given input data to provide an helpful response to the user query.\n",
      "\n",
      "# USER QUERY\n",
      "What location is the story set in\n",
      "\n",
      "# Context:\n",
      "KnowledgeGraph Overview\n",
      "  There are 0 entities and 0 relationships in this graph.\n",
      "\n",
      "Entities in the graph:\n",
      "\n",
      "Relationships between nodes:\n",
      "\n",
      "\n",
      "\n",
      "# INSTRUCTIONS\n",
      "Your goal is to provide a response to the user query using the relevant information in the input data:\n",
      "- the \"Entities\" and \"Relationships\" tables contain high-level information. Use these tables to identify the most important entities and relationships to respond to the query.\n",
      "- the \"Sources\" list contains raw text sources to help answer the query. It may contain noisy data, so pay attention when analyzing it.\n",
      "\n",
      "Follow these steps:\n",
      "1. Read and understand the user query.\n",
      "2. Look at the \"Entities\" and \"Relationships\" tables to get a general sense of the data and understand which information is the most relevant to answer the query.\n",
      "3. Carefully analyze all the \"Sources\" to get more detailed information. Information could be scattered across several sources, use the identified relevant entities and relationships to guide yourself through the analysis of the sources.\n",
      "4. While you write the response, you must include inline references to the all the sources you are using by appending `[<source_id>]` at the end of each sentence, where `source_id` is the corresponding source ID from the \"Sources\" list.\n",
      "5. Write the response to the user query - which must include the inline references - based on the information you have gathered. Be very concise and answer the user query directly. If the response cannot be inferred from the input data, just say no relevant information was found. Do not make anything up or add unrelevant information.\n",
      "\n",
      "Answer:\n",
      "\n"
     ]
    },
    {
     "name": "stderr",
     "output_type": "stream",
     "text": [
      "Llama.generate: 28 prefix-match hit, remaining 333 prompt tokens to eval\n",
      "llama_perf_context_print:        load time =    9163.97 ms\n",
      "llama_perf_context_print: prompt eval time =    3022.72 ms /   333 tokens (    9.08 ms per token,   110.17 tokens per second)\n",
      "llama_perf_context_print:        eval time =    4559.04 ms /    99 runs   (   46.05 ms per token,    21.72 tokens per second)\n",
      "llama_perf_context_print:       total time =    7756.66 ms /   432 tokens\n"
     ]
    },
    {
     "data": {
      "text/plain": [
       "\"Based on the given input data, no location is mentioned in the data. Therefore, it is not possible to determine the location of the story based on the provided information. [1]\\n\\nSource: [1] - There is no source ID provided in the input data. \\n\\nNote: I've followed the instructions and tried my best to provide a helpful response to the user query. Please let me know if I can improve anything. \\n\\nPlease let me know if the response is accurate and if there's\""
      ]
     },
     "execution_count": 25,
     "metadata": {},
     "output_type": "execute_result"
    }
   ],
   "source": [
    "print('Question:', queries[2])\n",
    "resp = rag.query(queries[2])\n",
    "resp"
   ]
  },
  {
   "cell_type": "code",
   "execution_count": 119,
   "id": "bcc44cee-8920-42f7-b6db-75f19e7bcbd7",
   "metadata": {},
   "outputs": [
    {
     "name": "stdout",
     "output_type": "stream",
     "text": [
      "Question: What location is the story set in\n",
      "entities []\n"
     ]
    },
    {
     "data": {
      "application/vnd.jupyter.widget-view+json": {
       "model_id": "9fa502318e2f449cb0067ea54038a80c",
       "version_major": 2,
       "version_minor": 0
      },
      "text/plain": [
       "Batches:   0%|          | 0/1 [00:00<?, ?it/s]"
      ]
     },
     "metadata": {},
     "output_type": "display_data"
    },
    {
     "name": "stdout",
     "output_type": "stream",
     "text": [
      "graph nodes retrieved []\n",
      "Found no embedding indx for entities, doing non KG-RAG result\n"
     ]
    },
    {
     "data": {
      "text/plain": [
       "'N/A'"
      ]
     },
     "execution_count": 119,
     "metadata": {},
     "output_type": "execute_result"
    }
   ],
   "source": [
    "print('Question:', queries[3])\n",
    "resp = rag.query(queries[3])\n",
    "resp"
   ]
  },
  {
   "cell_type": "code",
   "execution_count": 29,
   "id": "c779e49f-ded8-4f92-833c-8216afff1918",
   "metadata": {},
   "outputs": [
    {
     "name": "stdout",
     "output_type": "stream",
     "text": [
      "Question: Tell me how old Jack is, what the gender of Jill is, and then give me the character arcs of Sam and where the stoty is set\n",
      "entities ['Jack', 'Jill', 'Sam']\n"
     ]
    },
    {
     "data": {
      "application/vnd.jupyter.widget-view+json": {
       "model_id": "40f72c3f410c42e08a404b36d3643b25",
       "version_major": 2,
       "version_minor": 0
      },
      "text/plain": [
       "Batches:   0%|          | 0/1 [00:00<?, ?it/s]"
      ]
     },
     "metadata": {},
     "output_type": "display_data"
    },
    {
     "name": "stdout",
     "output_type": "stream",
     "text": [
      "[[np.int64(0), np.int64(1), np.int64(2)]]\n",
      "node_ids [tensor([4, 2]), tensor([9, 7]), tensor([4, 0, 5])]\n",
      "node_ids [4, 2, 9, 7, 4, 0, 5]\n",
      "***************************************!!******************************\n",
      "***************************************!!******************************\n",
      "***************************************!!******************************\n",
      "***************************************!!******************************\n",
      "***************************************!!******************************\n",
      "***************************************!!******************************\n",
      "***************************************!!******************************\n",
      "\n",
      "You are a helpful assistant analyzing the given input data to provide an helpful response to the user query.\n",
      "\n",
      "# USER QUERY\n",
      "Tell me how old Jack is, what the gender of Jill is, and then give me the character arcs of Sam and where the stoty is set\n",
      "\n",
      "# Context:\n",
      "KnowledgeGraph Overview\n",
      "  There are 7 entities and 10 relationships in this graph.\n",
      "\n",
      "Entities in the graph:\n",
      "  • 'Jack':\n",
      "      The entity has the following description: Jack is an adult sibling of Jill.\n",
      "      It can also be referred to as: Jack\n",
      "      It has the following additional information: 45 years old, twins with Jill\n",
      "  • 'Jill':\n",
      "      The entity has the following description: Jill is an adult sibling of Jack.\n",
      "      It can also be referred to as: Jill\n",
      "      It has the following additional information: 45 years old, twins with Jack\n",
      "  • 'Sam':\n",
      "      The entity has the following description: Sam is a friend of Jack and Jill.\n",
      "      It can also be referred to as: Sam\n",
      "      It has the following additional information: single for a long time, found love with friend\n",
      "  • 'Friend':\n",
      "      The entity has the following description: The friend of Jack and Jill who is a good match for Sam.\n",
      "      It can also be referred to as: Friend\n",
      "      It has the following additional information: helped Sam find love\n",
      "  • 'Romania':\n",
      "      The entity has the following description: A country where Sam and their friend moved to.\n",
      "      It can also be referred to as: Romania\n",
      "      It has the following additional information: home to a massive Castle\n",
      "  • 'Patient':\n",
      "      The entity has the following description: A person who was diagnosed with type 2 diabetes mellitus.\n",
      "      It can also be referred to as: Patient\n",
      "      It has the following additional information: diagnosed with type 2 diabetes mellitus\n",
      "  • 'Metformin':\n",
      "      The entity has the following description: A medication used to treat type 2 diabetes mellitus.\n",
      "      It can also be referred to as: Metformin\n",
      "      It has the following additional information: prescribed 500mg twice daily\n",
      "\n",
      "Relationships between nodes:\n",
      "  • There is a directed relationship from 'Jack' to 'Jill' called 'Sibling'.\n",
      "      The relationship is described as: Jack and Jill are adult siblings.\n",
      "      The relationship has the following notes: twins\n",
      "  • There is a directed relationship from 'Jack' to 'Sam' called 'Friend'.\n",
      "      The relationship is described as: Jack and Sam are friends.\n",
      "      The relationship has the following notes: \n",
      "  • There is a directed relationship from 'Jill' to 'Sam' called 'Friend'.\n",
      "      The relationship is described as: Jill and Sam are friends.\n",
      "      The relationship has the following notes: \n",
      "  • There is a directed relationship from 'Sam' to 'Friend' called 'Matchmaker'.\n",
      "      The relationship is described as: Sam found love with the help of Jack and Jill's friend.\n",
      "      The relationship has the following notes: \n",
      "  • There is a directed relationship from 'Sam' to 'Romania' called 'MovedTo'.\n",
      "      The relationship is described as: Sam and their friend moved to Romania.\n",
      "      The relationship has the following notes: \n",
      "  • There is a directed relationship from 'Patient' to 'Metformin' called 'Prescribed'.\n",
      "      The relationship is described as: The patient was prescribed metformin 500mg twice daily.\n",
      "      The relationship has the following notes: \n",
      "  • There is a directed relationship from 'Jack' to 'Jill' called 'UsedFor'.\n",
      "      The relationship is described as: MRI scans are used to diagnose brain tumors.\n",
      "      The relationship has the following notes: \n",
      "  • There is a directed relationship from 'Jill' to 'Sam' called 'LocatedIn'.\n",
      "      The relationship is described as: The left temporal lobe is located in the brain.\n",
      "      The relationship has the following notes: \n",
      "  • There is a directed relationship from 'Sam' to 'Friend' called 'TypeOf'.\n",
      "      The relationship is described as: Low-grade glioma is a type of glioma.\n",
      "      The relationship has the following notes: \n",
      "  • There is a directed relationship from 'Friend' to 'Romania' called 'TypeOf'.\n",
      "      The relationship is described as: Glioma is a type of brain tumor.\n",
      "      The relationship has the following notes: \n",
      "\n",
      "\n",
      "\n",
      "# INSTRUCTIONS\n",
      "Your goal is to provide a response to the user query using the relevant information in the input data:\n",
      "- the \"Entities\" and \"Relationships\" tables contain high-level information. Use these tables to identify the most important entities and relationships to respond to the query.\n",
      "- the \"Sources\" list contains raw text sources to help answer the query. It may contain noisy data, so pay attention when analyzing it.\n",
      "\n",
      "Follow these steps:\n",
      "1. Read and understand the user query.\n",
      "2. Look at the \"Entities\" and \"Relationships\" tables to get a general sense of the data and understand which information is the most relevant to answer the query.\n",
      "3. Carefully analyze all the \"Sources\" to get more detailed information. Information could be scattered across several sources, use the identified relevant entities and relationships to guide yourself through the analysis of the sources.\n",
      "4. While you write the response, you must include inline references to the all the sources you are using by appending `[<source_id>]` at the end of each sentence, where `source_id` is the corresponding source ID from the \"Sources\" list.\n",
      "5. Write the response to the user query - which must include the inline references - based on the information you have gathered. Be very concise and answer the user query directly. If the response cannot be inferred from the input data, just say no relevant information was found. Do not make anything up or add unrelevant information.\n",
      "\n",
      "Answer:\n",
      "\n"
     ]
    },
    {
     "name": "stderr",
     "output_type": "stream",
     "text": [
      "Llama.generate: 57 prefix-match hit, remaining 1147 prompt tokens to eval\n",
      "llama_perf_context_print:        load time =    9163.97 ms\n",
      "llama_perf_context_print: prompt eval time =   10635.08 ms /  1147 tokens (    9.27 ms per token,   107.85 tokens per second)\n",
      "llama_perf_context_print:        eval time =    4664.64 ms /    99 runs   (   47.12 ms per token,    21.22 tokens per second)\n",
      "llama_perf_context_print:       total time =   15811.75 ms /  1246 tokens\n"
     ]
    },
    {
     "data": {
      "text/plain": [
       "\"Based on the given data, we can answer the user query as follows:\\nJack is 45 years old [1]. The gender of Jill is not explicitly mentioned in the given data, so we cannot determine it. As for Sam's character arc, we do not have enough information to provide a comprehensive analysis. The story is set in Romania [2], where Sam and their friend moved to. \\n\\nReferences:\\n[1] - Entity description of Jack\\n[2] - Relationship between Sam and Romania\""
      ]
     },
     "execution_count": 29,
     "metadata": {},
     "output_type": "execute_result"
    }
   ],
   "source": [
    "print('Question:', queries[4])\n",
    "resp = rag.query(queries[4])\n",
    "resp"
   ]
  },
  {
   "cell_type": "markdown",
   "id": "bd0d59ed-d32b-4153-aa53-e89cc2e00e88",
   "metadata": {},
   "source": [
    "# networkx"
   ]
  },
  {
   "cell_type": "code",
   "execution_count": 120,
   "id": "c5b71d58-1313-4ece-8228-2f41797755ae",
   "metadata": {},
   "outputs": [],
   "source": [
    "import networkx as nx\n",
    "import numpy as np\n",
    "import scipy as sp"
   ]
  },
  {
   "cell_type": "code",
   "execution_count": 174,
   "id": "0190ba89-9492-4091-b903-0df4959674d4",
   "metadata": {},
   "outputs": [
    {
     "data": {
      "text/plain": [
       "5"
      ]
     },
     "execution_count": 174,
     "metadata": {},
     "output_type": "execute_result"
    }
   ],
   "source": [
    "np.random.randint(10)"
   ]
  },
  {
   "cell_type": "code",
   "execution_count": 175,
   "id": "4ed9115a-de24-4dbc-96cc-c4c2bedfc579",
   "metadata": {},
   "outputs": [],
   "source": [
    "G = nx.Graph()\n",
    "G.add_nodes_from([n.id for n in rag.graph.nodes])\n",
    "edges = [(e.source, e.target, {'e_type':e.name, 'weight':np.random.randint(10)}) for e in rag.graph.edges]\n",
    "G.add_edges_from(edges)\n",
    "weight= 'weight'"
   ]
  },
  {
   "cell_type": "code",
   "execution_count": 176,
   "id": "44a4262c-1fed-4896-81db-b717e4191547",
   "metadata": {},
   "outputs": [
    {
     "data": {
      "text/plain": [
       "EdgeDataView([(1, 10, {'e_type': 'directed', 'weight': 9}), (2, 3, {'e_type': 'directed', 'weight': 8}), (2, 4, {'e_type': 'assisted', 'weight': 4}), (2, 5, {'e_type': 'written by', 'weight': 6}), (2, 6, {'e_type': 'produced by', 'weight': 0}), (2, 7, {'e_type': 'music by', 'weight': 7}), (2, 8, {'e_type': 'influenced', 'weight': 1}), (8, 9, {'e_type': 'influenced', 'weight': 3}), (10, 11, {'e_type': 'starring', 'weight': 6}), (10, 12, {'e_type': 'starring', 'weight': 5}), (10, 13, {'e_type': 'starring', 'weight': 3}), (10, 14, {'e_type': 'written by', 'weight': 7}), (10, 15, {'e_type': 'written by', 'weight': 6}), (14, 14, {'e_type': 'adapted from', 'weight': 5})])"
      ]
     },
     "execution_count": 176,
     "metadata": {},
     "output_type": "execute_result"
    }
   ],
   "source": [
    "G.edges(data=True)"
   ]
  },
  {
   "cell_type": "code",
   "execution_count": 162,
   "id": "2eb786ae-12b7-49ae-9010-6541d15950cd",
   "metadata": {},
   "outputs": [
    {
     "data": {
      "text/plain": [
       "21"
      ]
     },
     "execution_count": 162,
     "metadata": {},
     "output_type": "execute_result"
    }
   ],
   "source": [
    "G.number_of_nodes()"
   ]
  },
  {
   "cell_type": "code",
   "execution_count": 163,
   "id": "a1a3f9fb-8c67-44d3-9606-b91e4aa7d68c",
   "metadata": {},
   "outputs": [
    {
     "data": {
      "text/plain": [
       "21"
      ]
     },
     "execution_count": 163,
     "metadata": {},
     "output_type": "execute_result"
    }
   ],
   "source": [
    "N = len(G)\n",
    "N"
   ]
  },
  {
   "cell_type": "code",
   "execution_count": 177,
   "id": "c4e71619-ece3-4e82-a059-d6abfa85b8cc",
   "metadata": {},
   "outputs": [
    {
     "data": {
      "text/plain": [
       "[1, 2, 3, 4, 5, 6, 7, 8, 9, 10, 11, 12, 13, 14, 15, 16, 17, 18, 19, 20, 21]"
      ]
     },
     "execution_count": 177,
     "metadata": {},
     "output_type": "execute_result"
    }
   ],
   "source": [
    "nodelist = list(G)\n",
    "nodelist"
   ]
  },
  {
   "cell_type": "code",
   "execution_count": 178,
   "id": "fc51be39-6cf2-44de-9487-47baa9f65060",
   "metadata": {},
   "outputs": [
    {
     "data": {
      "text/plain": [
       "<Compressed Sparse Row sparse array of dtype 'float64'\n",
       "\twith 27 stored elements and shape (21, 21)>"
      ]
     },
     "execution_count": 178,
     "metadata": {},
     "output_type": "execute_result"
    }
   ],
   "source": [
    "A = nx.to_scipy_sparse_array(G, nodelist=nodelist, weight=weight, dtype=float)\n",
    "A"
   ]
  },
  {
   "cell_type": "code",
   "execution_count": 179,
   "id": "46c1a5bc-d1a1-49c3-a39e-1662ba9e37c5",
   "metadata": {},
   "outputs": [
    {
     "data": {
      "text/plain": [
       "array([[0., 0., 0., 0., 0., 0., 0., 0., 0., 9., 0., 0., 0., 0., 0., 0.,\n",
       "        0., 0., 0., 0., 0.],\n",
       "       [0., 0., 8., 4., 6., 0., 7., 1., 0., 0., 0., 0., 0., 0., 0., 0.,\n",
       "        0., 0., 0., 0., 0.],\n",
       "       [0., 8., 0., 0., 0., 0., 0., 0., 0., 0., 0., 0., 0., 0., 0., 0.,\n",
       "        0., 0., 0., 0., 0.],\n",
       "       [0., 4., 0., 0., 0., 0., 0., 0., 0., 0., 0., 0., 0., 0., 0., 0.,\n",
       "        0., 0., 0., 0., 0.],\n",
       "       [0., 6., 0., 0., 0., 0., 0., 0., 0., 0., 0., 0., 0., 0., 0., 0.,\n",
       "        0., 0., 0., 0., 0.],\n",
       "       [0., 0., 0., 0., 0., 0., 0., 0., 0., 0., 0., 0., 0., 0., 0., 0.,\n",
       "        0., 0., 0., 0., 0.],\n",
       "       [0., 7., 0., 0., 0., 0., 0., 0., 0., 0., 0., 0., 0., 0., 0., 0.,\n",
       "        0., 0., 0., 0., 0.],\n",
       "       [0., 1., 0., 0., 0., 0., 0., 0., 3., 0., 0., 0., 0., 0., 0., 0.,\n",
       "        0., 0., 0., 0., 0.],\n",
       "       [0., 0., 0., 0., 0., 0., 0., 3., 0., 0., 0., 0., 0., 0., 0., 0.,\n",
       "        0., 0., 0., 0., 0.],\n",
       "       [9., 0., 0., 0., 0., 0., 0., 0., 0., 0., 6., 5., 3., 7., 6., 0.,\n",
       "        0., 0., 0., 0., 0.],\n",
       "       [0., 0., 0., 0., 0., 0., 0., 0., 0., 6., 0., 0., 0., 0., 0., 0.,\n",
       "        0., 0., 0., 0., 0.],\n",
       "       [0., 0., 0., 0., 0., 0., 0., 0., 0., 5., 0., 0., 0., 0., 0., 0.,\n",
       "        0., 0., 0., 0., 0.],\n",
       "       [0., 0., 0., 0., 0., 0., 0., 0., 0., 3., 0., 0., 0., 0., 0., 0.,\n",
       "        0., 0., 0., 0., 0.],\n",
       "       [0., 0., 0., 0., 0., 0., 0., 0., 0., 7., 0., 0., 0., 5., 0., 0.,\n",
       "        0., 0., 0., 0., 0.],\n",
       "       [0., 0., 0., 0., 0., 0., 0., 0., 0., 6., 0., 0., 0., 0., 0., 0.,\n",
       "        0., 0., 0., 0., 0.],\n",
       "       [0., 0., 0., 0., 0., 0., 0., 0., 0., 0., 0., 0., 0., 0., 0., 0.,\n",
       "        0., 0., 0., 0., 0.],\n",
       "       [0., 0., 0., 0., 0., 0., 0., 0., 0., 0., 0., 0., 0., 0., 0., 0.,\n",
       "        0., 0., 0., 0., 0.],\n",
       "       [0., 0., 0., 0., 0., 0., 0., 0., 0., 0., 0., 0., 0., 0., 0., 0.,\n",
       "        0., 0., 0., 0., 0.],\n",
       "       [0., 0., 0., 0., 0., 0., 0., 0., 0., 0., 0., 0., 0., 0., 0., 0.,\n",
       "        0., 0., 0., 0., 0.],\n",
       "       [0., 0., 0., 0., 0., 0., 0., 0., 0., 0., 0., 0., 0., 0., 0., 0.,\n",
       "        0., 0., 0., 0., 0.],\n",
       "       [0., 0., 0., 0., 0., 0., 0., 0., 0., 0., 0., 0., 0., 0., 0., 0.,\n",
       "        0., 0., 0., 0., 0.]])"
      ]
     },
     "execution_count": 179,
     "metadata": {},
     "output_type": "execute_result"
    }
   ],
   "source": [
    "A.toarray()"
   ]
  },
  {
   "cell_type": "code",
   "execution_count": 166,
   "id": "6aa7065e-744b-41be-a90e-a72f77428899",
   "metadata": {},
   "outputs": [
    {
     "data": {
      "text/plain": [
       "array([[0., 0., 0., 0., 0., 0., 0., 0., 0., 1., 0., 0., 0., 0., 0., 0.,\n",
       "        0., 0., 0., 0., 0.],\n",
       "       [0., 0., 1., 1., 1., 1., 1., 1., 0., 0., 0., 0., 0., 0., 0., 0.,\n",
       "        0., 0., 0., 0., 0.],\n",
       "       [0., 1., 0., 0., 0., 0., 0., 0., 0., 0., 0., 0., 0., 0., 0., 0.,\n",
       "        0., 0., 0., 0., 0.],\n",
       "       [0., 1., 0., 0., 0., 0., 0., 0., 0., 0., 0., 0., 0., 0., 0., 0.,\n",
       "        0., 0., 0., 0., 0.],\n",
       "       [0., 1., 0., 0., 0., 0., 0., 0., 0., 0., 0., 0., 0., 0., 0., 0.,\n",
       "        0., 0., 0., 0., 0.],\n",
       "       [0., 1., 0., 0., 0., 0., 0., 0., 0., 0., 0., 0., 0., 0., 0., 0.,\n",
       "        0., 0., 0., 0., 0.],\n",
       "       [0., 1., 0., 0., 0., 0., 0., 0., 0., 0., 0., 0., 0., 0., 0., 0.,\n",
       "        0., 0., 0., 0., 0.],\n",
       "       [0., 1., 0., 0., 0., 0., 0., 0., 1., 0., 0., 0., 0., 0., 0., 0.,\n",
       "        0., 0., 0., 0., 0.],\n",
       "       [0., 0., 0., 0., 0., 0., 0., 1., 0., 0., 0., 0., 0., 0., 0., 0.,\n",
       "        0., 0., 0., 0., 0.],\n",
       "       [1., 0., 0., 0., 0., 0., 0., 0., 0., 0., 1., 1., 1., 1., 1., 0.,\n",
       "        0., 0., 0., 0., 0.],\n",
       "       [0., 0., 0., 0., 0., 0., 0., 0., 0., 1., 0., 0., 0., 0., 0., 0.,\n",
       "        0., 0., 0., 0., 0.],\n",
       "       [0., 0., 0., 0., 0., 0., 0., 0., 0., 1., 0., 0., 0., 0., 0., 0.,\n",
       "        0., 0., 0., 0., 0.],\n",
       "       [0., 0., 0., 0., 0., 0., 0., 0., 0., 1., 0., 0., 0., 0., 0., 0.,\n",
       "        0., 0., 0., 0., 0.],\n",
       "       [0., 0., 0., 0., 0., 0., 0., 0., 0., 1., 0., 0., 0., 1., 0., 0.,\n",
       "        0., 0., 0., 0., 0.],\n",
       "       [0., 0., 0., 0., 0., 0., 0., 0., 0., 1., 0., 0., 0., 0., 0., 0.,\n",
       "        0., 0., 0., 0., 0.],\n",
       "       [0., 0., 0., 0., 0., 0., 0., 0., 0., 0., 0., 0., 0., 0., 0., 0.,\n",
       "        0., 0., 0., 0., 0.],\n",
       "       [0., 0., 0., 0., 0., 0., 0., 0., 0., 0., 0., 0., 0., 0., 0., 0.,\n",
       "        0., 0., 0., 0., 0.],\n",
       "       [0., 0., 0., 0., 0., 0., 0., 0., 0., 0., 0., 0., 0., 0., 0., 0.,\n",
       "        0., 0., 0., 0., 0.],\n",
       "       [0., 0., 0., 0., 0., 0., 0., 0., 0., 0., 0., 0., 0., 0., 0., 0.,\n",
       "        0., 0., 0., 0., 0.],\n",
       "       [0., 0., 0., 0., 0., 0., 0., 0., 0., 0., 0., 0., 0., 0., 0., 0.,\n",
       "        0., 0., 0., 0., 0.],\n",
       "       [0., 0., 0., 0., 0., 0., 0., 0., 0., 0., 0., 0., 0., 0., 0., 0.,\n",
       "        0., 0., 0., 0., 0.]])"
      ]
     },
     "execution_count": 166,
     "metadata": {},
     "output_type": "execute_result"
    }
   ],
   "source": [
    "A.toarray()"
   ]
  },
  {
   "cell_type": "code",
   "execution_count": 180,
   "id": "811dfb62-3896-48a6-b60b-46f38a759107",
   "metadata": {},
   "outputs": [
    {
     "data": {
      "text/plain": [
       "array([ 9., 26.,  8.,  4.,  6.,  0.,  7.,  4.,  3., 36.,  6.,  5.,  3.,\n",
       "       12.,  6.,  0.,  0.,  0.,  0.,  0.,  0.])"
      ]
     },
     "execution_count": 180,
     "metadata": {},
     "output_type": "execute_result"
    }
   ],
   "source": [
    "S = A.sum(axis=1)\n",
    "S"
   ]
  },
  {
   "cell_type": "code",
   "execution_count": 181,
   "id": "279f80e6-c52f-4a98-bf62-02b80d630240",
   "metadata": {},
   "outputs": [
    {
     "data": {
      "text/plain": [
       "array([0.11111111, 0.03846154, 0.125     , 0.25      , 0.16666667,\n",
       "       0.14285714, 0.25      , 0.33333333, 0.02777778, 0.16666667,\n",
       "       0.2       , 0.33333333, 0.08333333, 0.16666667])"
      ]
     },
     "execution_count": 181,
     "metadata": {},
     "output_type": "execute_result"
    }
   ],
   "source": [
    "1/S[S != 0]"
   ]
  },
  {
   "cell_type": "code",
   "execution_count": 182,
   "id": "a254f28e-8d84-427f-87d8-daade4763dbd",
   "metadata": {},
   "outputs": [
    {
     "data": {
      "text/plain": [
       "array([0.11111111, 0.03846154, 0.125     , 0.25      , 0.16666667,\n",
       "       0.        , 0.14285714, 0.25      , 0.33333333, 0.02777778,\n",
       "       0.16666667, 0.2       , 0.33333333, 0.08333333, 0.16666667,\n",
       "       0.        , 0.        , 0.        , 0.        , 0.        ,\n",
       "       0.        ])"
      ]
     },
     "execution_count": 182,
     "metadata": {},
     "output_type": "execute_result"
    }
   ],
   "source": [
    "S[S != 0] = 1.0 / S[S != 0]\n",
    "S"
   ]
  },
  {
   "cell_type": "code",
   "execution_count": 183,
   "id": "444c55b8-a550-4376-a1c8-89355ec25392",
   "metadata": {},
   "outputs": [
    {
     "data": {
      "text/plain": [
       "<Compressed Sparse Row sparse array of dtype 'float64'\n",
       "\twith 14 stored elements and shape (21, 21)>"
      ]
     },
     "execution_count": 183,
     "metadata": {},
     "output_type": "execute_result"
    }
   ],
   "source": [
    "Q = sp.sparse.csr_array(sp.sparse.spdiags(S.T, 0, *A.shape))\n",
    "Q"
   ]
  },
  {
   "cell_type": "code",
   "execution_count": 184,
   "id": "571ffc42-e024-47b3-b03b-86ce0ffe5de8",
   "metadata": {},
   "outputs": [
    {
     "data": {
      "text/plain": [
       "array([[0.11111111, 0.        , 0.        , 0.        , 0.        ,\n",
       "        0.        , 0.        , 0.        , 0.        , 0.        ,\n",
       "        0.        , 0.        , 0.        , 0.        , 0.        ,\n",
       "        0.        , 0.        , 0.        , 0.        , 0.        ,\n",
       "        0.        ],\n",
       "       [0.        , 0.03846154, 0.        , 0.        , 0.        ,\n",
       "        0.        , 0.        , 0.        , 0.        , 0.        ,\n",
       "        0.        , 0.        , 0.        , 0.        , 0.        ,\n",
       "        0.        , 0.        , 0.        , 0.        , 0.        ,\n",
       "        0.        ],\n",
       "       [0.        , 0.        , 0.125     , 0.        , 0.        ,\n",
       "        0.        , 0.        , 0.        , 0.        , 0.        ,\n",
       "        0.        , 0.        , 0.        , 0.        , 0.        ,\n",
       "        0.        , 0.        , 0.        , 0.        , 0.        ,\n",
       "        0.        ],\n",
       "       [0.        , 0.        , 0.        , 0.25      , 0.        ,\n",
       "        0.        , 0.        , 0.        , 0.        , 0.        ,\n",
       "        0.        , 0.        , 0.        , 0.        , 0.        ,\n",
       "        0.        , 0.        , 0.        , 0.        , 0.        ,\n",
       "        0.        ],\n",
       "       [0.        , 0.        , 0.        , 0.        , 0.16666667,\n",
       "        0.        , 0.        , 0.        , 0.        , 0.        ,\n",
       "        0.        , 0.        , 0.        , 0.        , 0.        ,\n",
       "        0.        , 0.        , 0.        , 0.        , 0.        ,\n",
       "        0.        ],\n",
       "       [0.        , 0.        , 0.        , 0.        , 0.        ,\n",
       "        0.        , 0.        , 0.        , 0.        , 0.        ,\n",
       "        0.        , 0.        , 0.        , 0.        , 0.        ,\n",
       "        0.        , 0.        , 0.        , 0.        , 0.        ,\n",
       "        0.        ],\n",
       "       [0.        , 0.        , 0.        , 0.        , 0.        ,\n",
       "        0.        , 0.14285714, 0.        , 0.        , 0.        ,\n",
       "        0.        , 0.        , 0.        , 0.        , 0.        ,\n",
       "        0.        , 0.        , 0.        , 0.        , 0.        ,\n",
       "        0.        ],\n",
       "       [0.        , 0.        , 0.        , 0.        , 0.        ,\n",
       "        0.        , 0.        , 0.25      , 0.        , 0.        ,\n",
       "        0.        , 0.        , 0.        , 0.        , 0.        ,\n",
       "        0.        , 0.        , 0.        , 0.        , 0.        ,\n",
       "        0.        ],\n",
       "       [0.        , 0.        , 0.        , 0.        , 0.        ,\n",
       "        0.        , 0.        , 0.        , 0.33333333, 0.        ,\n",
       "        0.        , 0.        , 0.        , 0.        , 0.        ,\n",
       "        0.        , 0.        , 0.        , 0.        , 0.        ,\n",
       "        0.        ],\n",
       "       [0.        , 0.        , 0.        , 0.        , 0.        ,\n",
       "        0.        , 0.        , 0.        , 0.        , 0.02777778,\n",
       "        0.        , 0.        , 0.        , 0.        , 0.        ,\n",
       "        0.        , 0.        , 0.        , 0.        , 0.        ,\n",
       "        0.        ],\n",
       "       [0.        , 0.        , 0.        , 0.        , 0.        ,\n",
       "        0.        , 0.        , 0.        , 0.        , 0.        ,\n",
       "        0.16666667, 0.        , 0.        , 0.        , 0.        ,\n",
       "        0.        , 0.        , 0.        , 0.        , 0.        ,\n",
       "        0.        ],\n",
       "       [0.        , 0.        , 0.        , 0.        , 0.        ,\n",
       "        0.        , 0.        , 0.        , 0.        , 0.        ,\n",
       "        0.        , 0.2       , 0.        , 0.        , 0.        ,\n",
       "        0.        , 0.        , 0.        , 0.        , 0.        ,\n",
       "        0.        ],\n",
       "       [0.        , 0.        , 0.        , 0.        , 0.        ,\n",
       "        0.        , 0.        , 0.        , 0.        , 0.        ,\n",
       "        0.        , 0.        , 0.33333333, 0.        , 0.        ,\n",
       "        0.        , 0.        , 0.        , 0.        , 0.        ,\n",
       "        0.        ],\n",
       "       [0.        , 0.        , 0.        , 0.        , 0.        ,\n",
       "        0.        , 0.        , 0.        , 0.        , 0.        ,\n",
       "        0.        , 0.        , 0.        , 0.08333333, 0.        ,\n",
       "        0.        , 0.        , 0.        , 0.        , 0.        ,\n",
       "        0.        ],\n",
       "       [0.        , 0.        , 0.        , 0.        , 0.        ,\n",
       "        0.        , 0.        , 0.        , 0.        , 0.        ,\n",
       "        0.        , 0.        , 0.        , 0.        , 0.16666667,\n",
       "        0.        , 0.        , 0.        , 0.        , 0.        ,\n",
       "        0.        ],\n",
       "       [0.        , 0.        , 0.        , 0.        , 0.        ,\n",
       "        0.        , 0.        , 0.        , 0.        , 0.        ,\n",
       "        0.        , 0.        , 0.        , 0.        , 0.        ,\n",
       "        0.        , 0.        , 0.        , 0.        , 0.        ,\n",
       "        0.        ],\n",
       "       [0.        , 0.        , 0.        , 0.        , 0.        ,\n",
       "        0.        , 0.        , 0.        , 0.        , 0.        ,\n",
       "        0.        , 0.        , 0.        , 0.        , 0.        ,\n",
       "        0.        , 0.        , 0.        , 0.        , 0.        ,\n",
       "        0.        ],\n",
       "       [0.        , 0.        , 0.        , 0.        , 0.        ,\n",
       "        0.        , 0.        , 0.        , 0.        , 0.        ,\n",
       "        0.        , 0.        , 0.        , 0.        , 0.        ,\n",
       "        0.        , 0.        , 0.        , 0.        , 0.        ,\n",
       "        0.        ],\n",
       "       [0.        , 0.        , 0.        , 0.        , 0.        ,\n",
       "        0.        , 0.        , 0.        , 0.        , 0.        ,\n",
       "        0.        , 0.        , 0.        , 0.        , 0.        ,\n",
       "        0.        , 0.        , 0.        , 0.        , 0.        ,\n",
       "        0.        ],\n",
       "       [0.        , 0.        , 0.        , 0.        , 0.        ,\n",
       "        0.        , 0.        , 0.        , 0.        , 0.        ,\n",
       "        0.        , 0.        , 0.        , 0.        , 0.        ,\n",
       "        0.        , 0.        , 0.        , 0.        , 0.        ,\n",
       "        0.        ],\n",
       "       [0.        , 0.        , 0.        , 0.        , 0.        ,\n",
       "        0.        , 0.        , 0.        , 0.        , 0.        ,\n",
       "        0.        , 0.        , 0.        , 0.        , 0.        ,\n",
       "        0.        , 0.        , 0.        , 0.        , 0.        ,\n",
       "        0.        ]])"
      ]
     },
     "execution_count": 184,
     "metadata": {},
     "output_type": "execute_result"
    }
   ],
   "source": [
    "Q.toarray()"
   ]
  },
  {
   "cell_type": "code",
   "execution_count": 185,
   "id": "36d1b370-d345-466a-8fc4-564083dca0c9",
   "metadata": {},
   "outputs": [
    {
     "data": {
      "text/plain": [
       "<Compressed Sparse Row sparse array of dtype 'float64'\n",
       "\twith 25 stored elements and shape (21, 21)>"
      ]
     },
     "execution_count": 185,
     "metadata": {},
     "output_type": "execute_result"
    }
   ],
   "source": [
    "A = Q @ A\n",
    "A"
   ]
  },
  {
   "cell_type": "code",
   "execution_count": 186,
   "id": "afc27900-82fe-4a00-b648-a3950f8d118d",
   "metadata": {},
   "outputs": [],
   "source": [
    "A = Q @ A\n"
   ]
  },
  {
   "cell_type": "code",
   "execution_count": 187,
   "id": "1f37cd0f-2766-495f-be37-0b229a6d4bc2",
   "metadata": {},
   "outputs": [
    {
     "data": {
      "text/plain": [
       "array([[0.        , 0.        , 0.        , 0.        , 0.        ,\n",
       "        0.        , 0.        , 0.        , 0.        , 0.11111111,\n",
       "        0.        , 0.        , 0.        , 0.        , 0.        ,\n",
       "        0.        , 0.        , 0.        , 0.        , 0.        ,\n",
       "        0.        ],\n",
       "       [0.        , 0.        , 0.01183432, 0.00591716, 0.00887574,\n",
       "        0.        , 0.01035503, 0.00147929, 0.        , 0.        ,\n",
       "        0.        , 0.        , 0.        , 0.        , 0.        ,\n",
       "        0.        , 0.        , 0.        , 0.        , 0.        ,\n",
       "        0.        ],\n",
       "       [0.        , 0.125     , 0.        , 0.        , 0.        ,\n",
       "        0.        , 0.        , 0.        , 0.        , 0.        ,\n",
       "        0.        , 0.        , 0.        , 0.        , 0.        ,\n",
       "        0.        , 0.        , 0.        , 0.        , 0.        ,\n",
       "        0.        ],\n",
       "       [0.        , 0.25      , 0.        , 0.        , 0.        ,\n",
       "        0.        , 0.        , 0.        , 0.        , 0.        ,\n",
       "        0.        , 0.        , 0.        , 0.        , 0.        ,\n",
       "        0.        , 0.        , 0.        , 0.        , 0.        ,\n",
       "        0.        ],\n",
       "       [0.        , 0.16666667, 0.        , 0.        , 0.        ,\n",
       "        0.        , 0.        , 0.        , 0.        , 0.        ,\n",
       "        0.        , 0.        , 0.        , 0.        , 0.        ,\n",
       "        0.        , 0.        , 0.        , 0.        , 0.        ,\n",
       "        0.        ],\n",
       "       [0.        , 0.        , 0.        , 0.        , 0.        ,\n",
       "        0.        , 0.        , 0.        , 0.        , 0.        ,\n",
       "        0.        , 0.        , 0.        , 0.        , 0.        ,\n",
       "        0.        , 0.        , 0.        , 0.        , 0.        ,\n",
       "        0.        ],\n",
       "       [0.        , 0.14285714, 0.        , 0.        , 0.        ,\n",
       "        0.        , 0.        , 0.        , 0.        , 0.        ,\n",
       "        0.        , 0.        , 0.        , 0.        , 0.        ,\n",
       "        0.        , 0.        , 0.        , 0.        , 0.        ,\n",
       "        0.        ],\n",
       "       [0.        , 0.0625    , 0.        , 0.        , 0.        ,\n",
       "        0.        , 0.        , 0.        , 0.1875    , 0.        ,\n",
       "        0.        , 0.        , 0.        , 0.        , 0.        ,\n",
       "        0.        , 0.        , 0.        , 0.        , 0.        ,\n",
       "        0.        ],\n",
       "       [0.        , 0.        , 0.        , 0.        , 0.        ,\n",
       "        0.        , 0.        , 0.33333333, 0.        , 0.        ,\n",
       "        0.        , 0.        , 0.        , 0.        , 0.        ,\n",
       "        0.        , 0.        , 0.        , 0.        , 0.        ,\n",
       "        0.        ],\n",
       "       [0.00694444, 0.        , 0.        , 0.        , 0.        ,\n",
       "        0.        , 0.        , 0.        , 0.        , 0.        ,\n",
       "        0.00462963, 0.00385802, 0.00231481, 0.00540123, 0.00462963,\n",
       "        0.        , 0.        , 0.        , 0.        , 0.        ,\n",
       "        0.        ],\n",
       "       [0.        , 0.        , 0.        , 0.        , 0.        ,\n",
       "        0.        , 0.        , 0.        , 0.        , 0.16666667,\n",
       "        0.        , 0.        , 0.        , 0.        , 0.        ,\n",
       "        0.        , 0.        , 0.        , 0.        , 0.        ,\n",
       "        0.        ],\n",
       "       [0.        , 0.        , 0.        , 0.        , 0.        ,\n",
       "        0.        , 0.        , 0.        , 0.        , 0.2       ,\n",
       "        0.        , 0.        , 0.        , 0.        , 0.        ,\n",
       "        0.        , 0.        , 0.        , 0.        , 0.        ,\n",
       "        0.        ],\n",
       "       [0.        , 0.        , 0.        , 0.        , 0.        ,\n",
       "        0.        , 0.        , 0.        , 0.        , 0.33333333,\n",
       "        0.        , 0.        , 0.        , 0.        , 0.        ,\n",
       "        0.        , 0.        , 0.        , 0.        , 0.        ,\n",
       "        0.        ],\n",
       "       [0.        , 0.        , 0.        , 0.        , 0.        ,\n",
       "        0.        , 0.        , 0.        , 0.        , 0.04861111,\n",
       "        0.        , 0.        , 0.        , 0.03472222, 0.        ,\n",
       "        0.        , 0.        , 0.        , 0.        , 0.        ,\n",
       "        0.        ],\n",
       "       [0.        , 0.        , 0.        , 0.        , 0.        ,\n",
       "        0.        , 0.        , 0.        , 0.        , 0.16666667,\n",
       "        0.        , 0.        , 0.        , 0.        , 0.        ,\n",
       "        0.        , 0.        , 0.        , 0.        , 0.        ,\n",
       "        0.        ],\n",
       "       [0.        , 0.        , 0.        , 0.        , 0.        ,\n",
       "        0.        , 0.        , 0.        , 0.        , 0.        ,\n",
       "        0.        , 0.        , 0.        , 0.        , 0.        ,\n",
       "        0.        , 0.        , 0.        , 0.        , 0.        ,\n",
       "        0.        ],\n",
       "       [0.        , 0.        , 0.        , 0.        , 0.        ,\n",
       "        0.        , 0.        , 0.        , 0.        , 0.        ,\n",
       "        0.        , 0.        , 0.        , 0.        , 0.        ,\n",
       "        0.        , 0.        , 0.        , 0.        , 0.        ,\n",
       "        0.        ],\n",
       "       [0.        , 0.        , 0.        , 0.        , 0.        ,\n",
       "        0.        , 0.        , 0.        , 0.        , 0.        ,\n",
       "        0.        , 0.        , 0.        , 0.        , 0.        ,\n",
       "        0.        , 0.        , 0.        , 0.        , 0.        ,\n",
       "        0.        ],\n",
       "       [0.        , 0.        , 0.        , 0.        , 0.        ,\n",
       "        0.        , 0.        , 0.        , 0.        , 0.        ,\n",
       "        0.        , 0.        , 0.        , 0.        , 0.        ,\n",
       "        0.        , 0.        , 0.        , 0.        , 0.        ,\n",
       "        0.        ],\n",
       "       [0.        , 0.        , 0.        , 0.        , 0.        ,\n",
       "        0.        , 0.        , 0.        , 0.        , 0.        ,\n",
       "        0.        , 0.        , 0.        , 0.        , 0.        ,\n",
       "        0.        , 0.        , 0.        , 0.        , 0.        ,\n",
       "        0.        ],\n",
       "       [0.        , 0.        , 0.        , 0.        , 0.        ,\n",
       "        0.        , 0.        , 0.        , 0.        , 0.        ,\n",
       "        0.        , 0.        , 0.        , 0.        , 0.        ,\n",
       "        0.        , 0.        , 0.        , 0.        , 0.        ,\n",
       "        0.        ]])"
      ]
     },
     "execution_count": 187,
     "metadata": {},
     "output_type": "execute_result"
    }
   ],
   "source": [
    "A.toarray()"
   ]
  },
  {
   "cell_type": "code",
   "execution_count": 188,
   "id": "226b6357-a6f2-4413-af8a-e48cbd3a751d",
   "metadata": {},
   "outputs": [
    {
     "data": {
      "text/plain": [
       "array([0.04761905, 0.04761905, 0.04761905, 0.04761905, 0.04761905,\n",
       "       0.04761905, 0.04761905, 0.04761905, 0.04761905, 0.04761905,\n",
       "       0.04761905, 0.04761905, 0.04761905, 0.04761905, 0.04761905,\n",
       "       0.04761905, 0.04761905, 0.04761905, 0.04761905, 0.04761905,\n",
       "       0.04761905])"
      ]
     },
     "execution_count": 188,
     "metadata": {},
     "output_type": "execute_result"
    }
   ],
   "source": [
    "x = np.repeat(1.0 / N, N)\n",
    "x"
   ]
  },
  {
   "cell_type": "code",
   "execution_count": 189,
   "id": "b63010b4-329f-4e0a-bfea-20a2944e508f",
   "metadata": {},
   "outputs": [
    {
     "data": {
      "text/plain": [
       "array([0.04761905, 0.04761905, 0.04761905, 0.04761905, 0.04761905,\n",
       "       0.04761905, 0.04761905, 0.04761905, 0.04761905, 0.04761905,\n",
       "       0.04761905, 0.04761905, 0.04761905, 0.04761905, 0.04761905,\n",
       "       0.04761905, 0.04761905, 0.04761905, 0.04761905, 0.04761905,\n",
       "       0.04761905])"
      ]
     },
     "execution_count": 189,
     "metadata": {},
     "output_type": "execute_result"
    }
   ],
   "source": [
    "p = np.repeat(1.0 / N, N)\n",
    "p"
   ]
  },
  {
   "cell_type": "code",
   "execution_count": 190,
   "id": "3236f7e1-e1da-4129-8eef-4011b72b216d",
   "metadata": {},
   "outputs": [],
   "source": [
    "dangling_weights = p"
   ]
  },
  {
   "cell_type": "code",
   "execution_count": 151,
   "id": "c7f41201-8f88-4f1b-95f6-64a730a697ad",
   "metadata": {},
   "outputs": [
    {
     "data": {
      "text/plain": [
       "array([15, 16, 17, 18, 19, 20])"
      ]
     },
     "execution_count": 151,
     "metadata": {},
     "output_type": "execute_result"
    }
   ],
   "source": [
    "is_dangling = np.where(S == 0)[0]\n",
    "is_dangling"
   ]
  },
  {
   "cell_type": "code",
   "execution_count": 152,
   "id": "69f1357d-8c81-4bab-9ceb-f7152e9225ec",
   "metadata": {},
   "outputs": [
    {
     "data": {
      "text/plain": [
       "0.05"
      ]
     },
     "execution_count": 152,
     "metadata": {},
     "output_type": "execute_result"
    }
   ],
   "source": [
    "0.5*0.1"
   ]
  },
  {
   "cell_type": "code",
   "execution_count": 153,
   "id": "227c297b-6754-4228-b6bb-243c4f238fe0",
   "metadata": {},
   "outputs": [],
   "source": [
    "alpha = 0.85"
   ]
  },
  {
   "cell_type": "code",
   "execution_count": 154,
   "id": "9958348e-f748-4437-bd82-7625a20db024",
   "metadata": {},
   "outputs": [
    {
     "data": {
      "text/plain": [
       "array([0.04761905, 0.04761905, 0.04761905, 0.04761905, 0.04761905,\n",
       "       0.04761905, 0.04761905, 0.04761905, 0.04761905, 0.04761905,\n",
       "       0.04761905, 0.04761905, 0.04761905, 0.04761905, 0.04761905,\n",
       "       0.04761905, 0.04761905, 0.04761905, 0.04761905, 0.04761905,\n",
       "       0.04761905])"
      ]
     },
     "execution_count": 154,
     "metadata": {},
     "output_type": "execute_result"
    }
   ],
   "source": [
    "x"
   ]
  },
  {
   "cell_type": "code",
   "execution_count": 160,
   "id": "3684b75a-dee6-4494-ad1e-7816b409cbe4",
   "metadata": {},
   "outputs": [
    {
     "data": {
      "text/plain": [
       "array([[0.        , 0.        , 0.        , 0.        , 0.        ,\n",
       "        0.        , 0.        , 0.        , 0.        , 1.        ,\n",
       "        0.        , 0.        , 0.        , 0.        , 0.        ,\n",
       "        0.        , 0.        , 0.        , 0.        , 0.        ,\n",
       "        0.        ],\n",
       "       [0.        , 0.        , 0.02777778, 0.02777778, 0.02777778,\n",
       "        0.02777778, 0.02777778, 0.02777778, 0.        , 0.        ,\n",
       "        0.        , 0.        , 0.        , 0.        , 0.        ,\n",
       "        0.        , 0.        , 0.        , 0.        , 0.        ,\n",
       "        0.        ],\n",
       "       [0.        , 1.        , 0.        , 0.        , 0.        ,\n",
       "        0.        , 0.        , 0.        , 0.        , 0.        ,\n",
       "        0.        , 0.        , 0.        , 0.        , 0.        ,\n",
       "        0.        , 0.        , 0.        , 0.        , 0.        ,\n",
       "        0.        ],\n",
       "       [0.        , 1.        , 0.        , 0.        , 0.        ,\n",
       "        0.        , 0.        , 0.        , 0.        , 0.        ,\n",
       "        0.        , 0.        , 0.        , 0.        , 0.        ,\n",
       "        0.        , 0.        , 0.        , 0.        , 0.        ,\n",
       "        0.        ],\n",
       "       [0.        , 1.        , 0.        , 0.        , 0.        ,\n",
       "        0.        , 0.        , 0.        , 0.        , 0.        ,\n",
       "        0.        , 0.        , 0.        , 0.        , 0.        ,\n",
       "        0.        , 0.        , 0.        , 0.        , 0.        ,\n",
       "        0.        ],\n",
       "       [0.        , 1.        , 0.        , 0.        , 0.        ,\n",
       "        0.        , 0.        , 0.        , 0.        , 0.        ,\n",
       "        0.        , 0.        , 0.        , 0.        , 0.        ,\n",
       "        0.        , 0.        , 0.        , 0.        , 0.        ,\n",
       "        0.        ],\n",
       "       [0.        , 1.        , 0.        , 0.        , 0.        ,\n",
       "        0.        , 0.        , 0.        , 0.        , 0.        ,\n",
       "        0.        , 0.        , 0.        , 0.        , 0.        ,\n",
       "        0.        , 0.        , 0.        , 0.        , 0.        ,\n",
       "        0.        ],\n",
       "       [0.        , 0.25      , 0.        , 0.        , 0.        ,\n",
       "        0.        , 0.        , 0.        , 0.25      , 0.        ,\n",
       "        0.        , 0.        , 0.        , 0.        , 0.        ,\n",
       "        0.        , 0.        , 0.        , 0.        , 0.        ,\n",
       "        0.        ],\n",
       "       [0.        , 0.        , 0.        , 0.        , 0.        ,\n",
       "        0.        , 0.        , 1.        , 0.        , 0.        ,\n",
       "        0.        , 0.        , 0.        , 0.        , 0.        ,\n",
       "        0.        , 0.        , 0.        , 0.        , 0.        ,\n",
       "        0.        ],\n",
       "       [0.02777778, 0.        , 0.        , 0.        , 0.        ,\n",
       "        0.        , 0.        , 0.        , 0.        , 0.        ,\n",
       "        0.02777778, 0.02777778, 0.02777778, 0.02777778, 0.02777778,\n",
       "        0.        , 0.        , 0.        , 0.        , 0.        ,\n",
       "        0.        ],\n",
       "       [0.        , 0.        , 0.        , 0.        , 0.        ,\n",
       "        0.        , 0.        , 0.        , 0.        , 1.        ,\n",
       "        0.        , 0.        , 0.        , 0.        , 0.        ,\n",
       "        0.        , 0.        , 0.        , 0.        , 0.        ,\n",
       "        0.        ],\n",
       "       [0.        , 0.        , 0.        , 0.        , 0.        ,\n",
       "        0.        , 0.        , 0.        , 0.        , 1.        ,\n",
       "        0.        , 0.        , 0.        , 0.        , 0.        ,\n",
       "        0.        , 0.        , 0.        , 0.        , 0.        ,\n",
       "        0.        ],\n",
       "       [0.        , 0.        , 0.        , 0.        , 0.        ,\n",
       "        0.        , 0.        , 0.        , 0.        , 1.        ,\n",
       "        0.        , 0.        , 0.        , 0.        , 0.        ,\n",
       "        0.        , 0.        , 0.        , 0.        , 0.        ,\n",
       "        0.        ],\n",
       "       [0.        , 0.        , 0.        , 0.        , 0.        ,\n",
       "        0.        , 0.        , 0.        , 0.        , 0.25      ,\n",
       "        0.        , 0.        , 0.        , 0.25      , 0.        ,\n",
       "        0.        , 0.        , 0.        , 0.        , 0.        ,\n",
       "        0.        ],\n",
       "       [0.        , 0.        , 0.        , 0.        , 0.        ,\n",
       "        0.        , 0.        , 0.        , 0.        , 1.        ,\n",
       "        0.        , 0.        , 0.        , 0.        , 0.        ,\n",
       "        0.        , 0.        , 0.        , 0.        , 0.        ,\n",
       "        0.        ],\n",
       "       [0.        , 0.        , 0.        , 0.        , 0.        ,\n",
       "        0.        , 0.        , 0.        , 0.        , 0.        ,\n",
       "        0.        , 0.        , 0.        , 0.        , 0.        ,\n",
       "        0.        , 0.        , 0.        , 0.        , 0.        ,\n",
       "        0.        ],\n",
       "       [0.        , 0.        , 0.        , 0.        , 0.        ,\n",
       "        0.        , 0.        , 0.        , 0.        , 0.        ,\n",
       "        0.        , 0.        , 0.        , 0.        , 0.        ,\n",
       "        0.        , 0.        , 0.        , 0.        , 0.        ,\n",
       "        0.        ],\n",
       "       [0.        , 0.        , 0.        , 0.        , 0.        ,\n",
       "        0.        , 0.        , 0.        , 0.        , 0.        ,\n",
       "        0.        , 0.        , 0.        , 0.        , 0.        ,\n",
       "        0.        , 0.        , 0.        , 0.        , 0.        ,\n",
       "        0.        ],\n",
       "       [0.        , 0.        , 0.        , 0.        , 0.        ,\n",
       "        0.        , 0.        , 0.        , 0.        , 0.        ,\n",
       "        0.        , 0.        , 0.        , 0.        , 0.        ,\n",
       "        0.        , 0.        , 0.        , 0.        , 0.        ,\n",
       "        0.        ],\n",
       "       [0.        , 0.        , 0.        , 0.        , 0.        ,\n",
       "        0.        , 0.        , 0.        , 0.        , 0.        ,\n",
       "        0.        , 0.        , 0.        , 0.        , 0.        ,\n",
       "        0.        , 0.        , 0.        , 0.        , 0.        ,\n",
       "        0.        ],\n",
       "       [0.        , 0.        , 0.        , 0.        , 0.        ,\n",
       "        0.        , 0.        , 0.        , 0.        , 0.        ,\n",
       "        0.        , 0.        , 0.        , 0.        , 0.        ,\n",
       "        0.        , 0.        , 0.        , 0.        , 0.        ,\n",
       "        0.        ]])"
      ]
     },
     "execution_count": 160,
     "metadata": {},
     "output_type": "execute_result"
    }
   ],
   "source": [
    "A.toarray()#.sum(axis=1)"
   ]
  },
  {
   "cell_type": "code",
   "execution_count": 118,
   "id": "36439681-73c9-44d7-82b9-ddbb215db1ea",
   "metadata": {},
   "outputs": [
    {
     "data": {
      "text/plain": [
       "0.04761905"
      ]
     },
     "execution_count": 118,
     "metadata": {},
     "output_type": "execute_result"
    }
   ],
   "source": [
    "0.04761905*1"
   ]
  },
  {
   "cell_type": "code",
   "execution_count": 116,
   "id": "3944bb26-17d7-44f1-8550-5f67cca5d8aa",
   "metadata": {},
   "outputs": [
    {
     "data": {
      "text/plain": [
       "array([0.00793651, 0.26190476, 0.00793651, 0.00793651, 0.00793651,\n",
       "       0.00793651, 0.00793651, 0.05555556, 0.02380952, 0.26190476,\n",
       "       0.00793651, 0.00793651, 0.00793651, 0.03174603, 0.00793651,\n",
       "       0.        , 0.        , 0.        , 0.        , 0.        ,\n",
       "       0.        ])"
      ]
     },
     "execution_count": 116,
     "metadata": {},
     "output_type": "execute_result"
    }
   ],
   "source": [
    "x @ A"
   ]
  },
  {
   "cell_type": "code",
   "execution_count": 104,
   "id": "c3f7b9d4-45ff-466f-8f5c-4ab335d7f007",
   "metadata": {},
   "outputs": [],
   "source": [
    "x_new = alpha * (x @ A + sum(x[is_dangling]) * dangling_weights) + (1 - alpha) * p\n"
   ]
  },
  {
   "cell_type": "code",
   "execution_count": 108,
   "id": "9cecebd3-2296-4f8c-bc80-99ff47fcc0c1",
   "metadata": {},
   "outputs": [
    {
     "data": {
      "text/plain": [
       "array([0.02545351, 0.24132653, 0.02545351, 0.02545351, 0.02545351,\n",
       "       0.02545351, 0.02545351, 0.06592971, 0.03894558, 0.24132653,\n",
       "       0.02545351, 0.02545351, 0.02545351, 0.04569161, 0.02545351,\n",
       "       0.01870748, 0.01870748, 0.01870748, 0.01870748, 0.01870748,\n",
       "       0.01870748])"
      ]
     },
     "execution_count": 108,
     "metadata": {},
     "output_type": "execute_result"
    }
   ],
   "source": [
    "x_new"
   ]
  },
  {
   "cell_type": "code",
   "execution_count": null,
   "id": "e501cd21-4a1c-49a7-b073-c6d8ccaabd29",
   "metadata": {},
   "outputs": [],
   "source": [
    "edge_types"
   ]
  }
 ],
 "metadata": {
  "kernelspec": {
   "display_name": "Python 3 (ipykernel)",
   "language": "python",
   "name": "python3"
  },
  "language_info": {
   "codemirror_mode": {
    "name": "ipython",
    "version": 3
   },
   "file_extension": ".py",
   "mimetype": "text/x-python",
   "name": "python",
   "nbconvert_exporter": "python",
   "pygments_lexer": "ipython3",
   "version": "3.10.17"
  }
 },
 "nbformat": 4,
 "nbformat_minor": 5
}
