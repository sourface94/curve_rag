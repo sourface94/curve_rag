{
 "cells": [
  {
   "cell_type": "code",
   "execution_count": 1,
   "id": "a0c26715",
   "metadata": {},
   "outputs": [],
   "source": [
    "%load_ext autoreload\n",
    "%autoreload 2"
   ]
  },
  {
   "cell_type": "code",
   "execution_count": 2,
   "id": "d66900bc",
   "metadata": {},
   "outputs": [
    {
     "data": {
      "text/plain": [
       "True"
      ]
     },
     "execution_count": 2,
     "metadata": {},
     "output_type": "execute_result"
    }
   ],
   "source": [
    "import os\n",
    "\n",
    "import json\n",
    "\n",
    "import llama_cpp\n",
    "import torch\n",
    "import pandas as pd\n",
    "\n",
    "from dotenv import load_dotenv\n",
    "from openai import OpenAI\n",
    "\n",
    "from curverag import utils\n",
    "from curverag.curverag import CurveRAG, DEFAULT_ENTITY_TYPES, DEFAULT_GLINER_MODEL, DEFAULT_SENTENCE_TRANSFORMER_MODEL\n",
    "from curverag.graph import KnowledgeGraph\n",
    "from curverag.atth.kg_dataset import KGDataset\n",
    "from curverag.atth.models.hyperbolic import AttH\n",
    "from curverag.eval import evaluation, queries, context, expected_output\n",
    "\n",
    "load_dotenv() "
   ]
  },
  {
   "cell_type": "markdown",
   "id": "8eb821f9-2cb7-4807-b6d5-412f83e1bf0b",
   "metadata": {},
   "source": [
    "# Explore dataset"
   ]
  },
  {
   "cell_type": "code",
   "execution_count": 3,
   "id": "f9147308-1ea2-4b26-86a2-01995d94c838",
   "metadata": {},
   "outputs": [],
   "source": [
    "with open('../datasets/2WikiMultihopQA/new/train.json', 'rb') as f:\n",
    "    train = json.load(f)\n",
    "\n",
    "with open('../datasets/2WikiMultihopQA/new/dev.json', 'rb') as f:\n",
    "    dev = json.load(f)\n",
    "\n",
    "with open('../datasets/2WikiMultihopQA/new/test.json', 'rb') as f:\n",
    "    test = json.load(f)"
   ]
  },
  {
   "cell_type": "code",
   "execution_count": 4,
   "id": "6d6612ae-11ec-4225-a426-6957a2e4fd2d",
   "metadata": {},
   "outputs": [
    {
     "data": {
      "text/plain": [
       "12576"
      ]
     },
     "execution_count": 4,
     "metadata": {},
     "output_type": "execute_result"
    }
   ],
   "source": [
    "len(dev)"
   ]
  },
  {
   "cell_type": "code",
   "execution_count": 5,
   "id": "6215e1f6-c599-4c83-a316-d2217550d2c7",
   "metadata": {},
   "outputs": [
    {
     "data": {
      "text/plain": [
       "dict_keys(['_id', 'type', 'question', 'context', 'entity_ids', 'supporting_facts', 'evidences', 'answer', 'evidences_id', 'answer_id'])"
      ]
     },
     "execution_count": 5,
     "metadata": {},
     "output_type": "execute_result"
    }
   ],
   "source": [
    "dev[0].keys()"
   ]
  },
  {
   "cell_type": "code",
   "execution_count": 6,
   "id": "96a45a70-96ea-4b27-a0c7-4f30b65913fc",
   "metadata": {},
   "outputs": [
    {
     "data": {
      "text/plain": [
       "dict_keys(['_id', 'type', 'question', 'context', 'entity_ids', 'supporting_facts', 'evidences', 'answer', 'evidences_id', 'answer_id'])"
      ]
     },
     "execution_count": 6,
     "metadata": {},
     "output_type": "execute_result"
    }
   ],
   "source": [
    "train[0].keys()"
   ]
  },
  {
   "cell_type": "code",
   "execution_count": 7,
   "id": "ac0641d3-d4fd-41ef-a520-f8f839e694a5",
   "metadata": {},
   "outputs": [
    {
     "data": {
      "text/plain": [
       "'Are director of film Move (1970 Film) and director of film Méditerranée (1963 Film) from the same country?'"
      ]
     },
     "execution_count": 7,
     "metadata": {},
     "output_type": "execute_result"
    }
   ],
   "source": [
    "train[0]['question']"
   ]
  },
  {
   "cell_type": "code",
   "execution_count": 8,
   "id": "e66a7e5d-8d44-42c9-b3ba-ede62f82dff1",
   "metadata": {},
   "outputs": [
    {
     "data": {
      "text/plain": [
       "[['Stuart Rosenberg',\n",
       "  ['Stuart Rosenberg (August 11, 1927 – March 15, 2007) was an American film and television director whose motion pictures include \"Cool Hand Luke\" (1967), \"Voyage of the Damned\" (1976), \"The Amityville Horror\" (1979), and \"The Pope of Greenwich Village\" (1984).',\n",
       "   'He was noted for his work with actor Paul Newman.']],\n",
       " ['Méditerranée (1963 film)',\n",
       "  ['Méditerranée is a 1963 French experimental film directed by Jean-Daniel Pollet with assistance from Volker Schlöndorff.',\n",
       "   'It was written by Philippe Sollers and produced by Barbet Schroeder, with music by Antione Duhamel.',\n",
       "   'The 45 minute film is cited as one of Pollet\\'s most influential films, which according to Jonathan Rosenbaum directly influenced Jean-Luc Goddard\\'s \"Contempt\", released later the same year.',\n",
       "   'Footage for the film was shot around the Mediterranean, including at a Greek temple, a Sicilian garden, the sea, and also features a fisherman, a bullfighter, and a girl on an operating table.']],\n",
       " ['Move (1970 film)',\n",
       "  ['Move is a 1970 American comedy film starring Elliott Gould, Paula Prentiss and Geneviève Waïte, and directed by Stuart Rosenberg.',\n",
       "   'The screenplay was written by Joel Lieber and Stanley Hart, adapted from a novel by Lieber.']]]"
      ]
     },
     "execution_count": 8,
     "metadata": {},
     "output_type": "execute_result"
    }
   ],
   "source": [
    "train[0]['context'][:3]"
   ]
  },
  {
   "cell_type": "code",
   "execution_count": 9,
   "id": "b542df63-af8a-4247-a89e-b6459a93f196",
   "metadata": {},
   "outputs": [
    {
     "data": {
      "text/plain": [
       "'no'"
      ]
     },
     "execution_count": 9,
     "metadata": {},
     "output_type": "execute_result"
    }
   ],
   "source": [
    "train[0]['answer']"
   ]
  },
  {
   "cell_type": "markdown",
   "id": "ac072bc8-7de2-4544-a729-6b3c6c0d29ec",
   "metadata": {},
   "source": [
    "# Run eval"
   ]
  },
  {
   "cell_type": "markdown",
   "id": "528a23ae-64b9-4154-9213-c99681a3401e",
   "metadata": {},
   "source": [
    "## Train Model"
   ]
  },
  {
   "cell_type": "code",
   "execution_count": 10,
   "id": "36c26de2-4560-41a1-bd2f-92caf2e3a972",
   "metadata": {},
   "outputs": [],
   "source": [
    "api_key = os.getenv(\"OPENAI_API_KEY\")\n",
    "client = OpenAI(api_key=api_key)"
   ]
  },
  {
   "cell_type": "code",
   "execution_count": null,
   "id": "a313296e-c279-4b8a-bb2a-fad3455146a6",
   "metadata": {},
   "outputs": [],
   "source": [
    "entity_types = ['people', 'locations', 'entities', 'movies', 'directors']\n",
    "rag = CurveRAG(\n",
    "    openai_client=client,\n",
    "    entity_types=entity_types,\n",
    ")"
   ]
  },
  {
   "cell_type": "code",
   "execution_count": null,
   "id": "3f0271be-300b-45f8-a47f-ce522a451386",
   "metadata": {},
   "outputs": [],
   "source": [
    "new_docs = []\n",
    "for d in dev:\n",
    "    d_ = str(d['context']).replace('[', '').replace(']', '. ').replace('\\'', '')\n",
    "    new_docs.append(d_)"
   ]
  },
  {
   "cell_type": "code",
   "execution_count": null,
   "id": "bf8194d8-c4de-42e8-933a-063b02d9b62b",
   "metadata": {},
   "outputs": [],
   "source": [
    "len(new_docs)"
   ]
  },
  {
   "cell_type": "code",
   "execution_count": null,
   "id": "2e3cab56-c589-481e-a615-fc8530546977",
   "metadata": {
    "scrolled": true
   },
   "outputs": [],
   "source": [
    "dataset_size = 1000\n",
    "rag.fit(new_docs[:dataset_size], dataset_name='movies')"
   ]
  },
  {
   "cell_type": "code",
   "execution_count": null,
   "id": "a4339ceb-7b2b-4e85-8697-f16f4194a60d",
   "metadata": {},
   "outputs": [],
   "source": [
    "rag.save(path=\"./models/250824_model_dev_1/model.pkl\")"
   ]
  },
  {
   "cell_type": "code",
   "execution_count": 13,
   "id": "601e6e65-d488-431f-a37e-666130fb975e",
   "metadata": {},
   "outputs": [
    {
     "data": {
      "application/vnd.jupyter.widget-view+json": {
       "model_id": "cce7da49513c4bc193954bc336a3a393",
       "version_major": 2,
       "version_minor": 0
      },
      "text/plain": [
       "Fetching 5 files:   0%|          | 0/5 [00:00<?, ?it/s]"
      ]
     },
     "metadata": {},
     "output_type": "display_data"
    }
   ],
   "source": [
    "rag = CurveRAG.load(\n",
    "    \"./models/250824_model_dev_1/model.pkl\",\n",
    "    openai_client=client  # or llm=llm, outlines_llm=outlines_llm\n",
    ")"
   ]
  },
  {
   "cell_type": "code",
   "execution_count": null,
   "id": "a679b61d-521e-4a12-9d42-700c90cd0033",
   "metadata": {},
   "outputs": [],
   "source": [
    "len(rag2.graph.nodes)"
   ]
  },
  {
   "cell_type": "code",
   "execution_count": null,
   "id": "53089ce6-052f-42b9-8c77-a44ea84d6423",
   "metadata": {
    "scrolled": true
   },
   "outputs": [],
   "source": [
    "len(rag.graph.nodes)"
   ]
  },
  {
   "cell_type": "code",
   "execution_count": null,
   "id": "c70a670d-c24c-4d1e-ac0f-4bcb49df42b9",
   "metadata": {
    "scrolled": true
   },
   "outputs": [],
   "source": [
    "rag.graph.edges"
   ]
  },
  {
   "cell_type": "markdown",
   "id": "08b6f75c-5f54-4ad5-b923-3e2040d5b610",
   "metadata": {},
   "source": [
    "## Eval Model"
   ]
  },
  {
   "cell_type": "code",
   "execution_count": null,
   "id": "cee17f12-dcac-40e6-b8e8-47d213a85730",
   "metadata": {
    "scrolled": true
   },
   "outputs": [],
   "source": [
    "dataset_size=1000\n",
    "ems, f1, qs, preds, answers = evaluation(rag, dataset_size=dataset_size)"
   ]
  },
  {
   "cell_type": "code",
   "execution_count": null,
   "id": "794647e3-a7ec-4e6e-91d4-b4c1acad12fe",
   "metadata": {},
   "outputs": [],
   "source": [
    "len(preds)"
   ]
  },
  {
   "cell_type": "code",
   "execution_count": null,
   "id": "3e144e17-c950-4ac6-9c19-e93a3dd96b6f",
   "metadata": {
    "scrolled": true
   },
   "outputs": [],
   "source": [
    "ems, f1"
   ]
  },
  {
   "cell_type": "code",
   "execution_count": null,
   "id": "f0fb6815-74d9-453d-a524-9fe7f3c449ec",
   "metadata": {
    "scrolled": true
   },
   "outputs": [],
   "source": [
    "for f, q, p, a in zip(f1, qs, preds, answers):\n",
    "    print('Q: ', q)\n",
    "    print('P: ', p)\n",
    "    print('A: ', a)\n",
    "    print('F:', f)\n",
    "    print('-------------------------------------------')"
   ]
  },
  {
   "cell_type": "code",
   "execution_count": null,
   "id": "39b1fe21-172a-43dd-b6d4-3188f248e126",
   "metadata": {},
   "outputs": [],
   "source": [
    "sum(f1) / len(f1)"
   ]
  },
  {
   "cell_type": "code",
   "execution_count": null,
   "id": "e953f9cf-f149-4525-875f-a43c7e6eeb7c",
   "metadata": {},
   "outputs": [],
   "source": [
    "dataset_path: str = '../datasets/2WikiMultihopQA/new/dev.json'\n",
    "dataset_size: int = 1000\n",
    "alias_path: str = '../datasets/2WikiMultihopQA/new/id_aliases.json'\n",
    "with open(dataset_path, 'rb') as f:\n",
    "    eval_dataset = json.load(f)\n",
    "    eval_dataset = eval_dataset[:dataset_size]\n",
    "\n",
    "aliases = defaultdict(list)\n",
    "with open(alias_path, 'rb') as f:\n",
    "    for line in f:\n",
    "        record = json.loads(line)\n",
    "        aliases[record['Q_id']] += record['aliases'] + record['demonyms']"
   ]
  },
  {
   "cell_type": "code",
   "execution_count": null,
   "id": "a4861074-e07c-4229-9149-ca54691f4a0e",
   "metadata": {
    "scrolled": true
   },
   "outputs": [],
   "source": [
    "h_ems, h_f1, h_preds = evaluation(rag, dataset_size=100, model_traversal='hyperbolic')"
   ]
  },
  {
   "cell_type": "code",
   "execution_count": null,
   "id": "d1794c97-0ff1-49bf-accb-4965628fa361",
   "metadata": {},
   "outputs": [],
   "source": [
    "h_ems, h_f1"
   ]
  }
 ],
 "metadata": {
  "kernelspec": {
   "display_name": "Python 3 (ipykernel)",
   "language": "python",
   "name": "python3"
  },
  "language_info": {
   "codemirror_mode": {
    "name": "ipython",
    "version": 3
   },
   "file_extension": ".py",
   "mimetype": "text/x-python",
   "name": "python",
   "nbconvert_exporter": "python",
   "pygments_lexer": "ipython3",
   "version": "3.10.17"
  }
 },
 "nbformat": 4,
 "nbformat_minor": 5
}
