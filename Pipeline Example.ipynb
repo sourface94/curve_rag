{
 "cells": [
  {
   "cell_type": "code",
   "execution_count": 1,
   "id": "e7554f5f-4846-401f-b552-7d3a4913abc9",
   "metadata": {},
   "outputs": [],
   "source": [
    "%load_ext autoreload\n",
    "%autoreload 2"
   ]
  },
  {
   "cell_type": "code",
   "execution_count": 2,
   "id": "75d44625-276b-4a71-8579-a863dfdd386a",
   "metadata": {},
   "outputs": [],
   "source": [
    "import json\n",
    "\n",
    "import llama_cpp\n",
    "import torch\n",
    "\n",
    "from curverag import utils\n",
    "from curverag.curverag import CurveRAG, DEFAULT_ENTITY_TYPES, DEFAULT_GLINER_MODEL\n",
    "from curverag.graph import KnowledgeGraph\n",
    "from curverag.atth.kg_dataset import KGDataset\n",
    "from curverag.atth.models.hyperbolic import AttH"
   ]
  },
  {
   "cell_type": "code",
   "execution_count": 3,
   "id": "f6902138-1540-467d-9c33-940ce1132d63",
   "metadata": {},
   "outputs": [
    {
     "data": {
      "text/plain": [
       "True"
      ]
     },
     "execution_count": 3,
     "metadata": {},
     "output_type": "execute_result"
    }
   ],
   "source": [
    "import os\n",
    "from dotenv import load_dotenv\n",
    "from openai import OpenAI\n",
    "load_dotenv() "
   ]
  },
  {
   "cell_type": "markdown",
   "id": "b54db7ac-f8fc-4e93-9856-d9095cb83b3b",
   "metadata": {},
   "source": [
    "## Dataset and LLM"
   ]
  },
  {
   "cell_type": "code",
   "execution_count": 4,
   "id": "1d1b1091-7820-423a-9515-55de2e82e6c7",
   "metadata": {},
   "outputs": [],
   "source": [
    "max_tokens = 10000\n",
    "n_ctx=10000\n",
    "\n",
    "docs = [\n",
    "    \"The patient was diagnosed with type 2 diabetes mellitus and prescribed metformin 500mg twice daily.\",\n",
    "    \"MRI scan revealed a small lesion in the left temporal lobe suggestive of low-grade glioma.\",\n",
    "    \"Administer 5mg of lorazepam intravenously for acute seizure management.\",\n",
    "    \"Blood tests showed elevated ALT and AST levels, indicating possible liver inflammation.\",\n",
    "    \"The subject reported chronic lower back pain, managed with physical therapy and NSAIDs.\",\n",
    "    \"CT angiography confirmed the presence of a pulmonary embolism in the right lower lobe.\",\n",
    "    \"The patient underwent coronary artery bypass graft surgery without complications.\",\n",
    "    \"Routine vaccination included MMR, tetanus, and influenza immunizations.\",\n",
    "    \"Histopathology indicated ductal carcinoma in situ (DCIS) in the breast biopsy sample.\",\n",
    "    \"The child presented with a persistent cough and fever, diagnosed as streptococcal pharyngitis.\"\n",
    "]\n"
   ]
  },
  {
   "cell_type": "code",
   "execution_count": null,
   "id": "f39d7da3-c3b7-4455-8bd3-97b50120dbb8",
   "metadata": {},
   "outputs": [],
   "source": [
    "model = utils.load_model(\n",
    "    llm_model_path=\"./models/Meta-Llama-3-8B-Instruct.Q6_K.gguf\",\n",
    "    tokenizer=llama_cpp.llama_tokenizer.LlamaHFTokenizer.from_pretrained(\"unsloth/Llama-3.2-1B-Instruct\"),\n",
    "    n_ctx=n_ctx,\n",
    "    max_tokens=max_tokens\n",
    ")"
   ]
  },
  {
   "cell_type": "code",
   "execution_count": 5,
   "id": "d3e6a4b7-4ddd-4e52-a173-4aefe38253c8",
   "metadata": {},
   "outputs": [],
   "source": [
    "api_key = os.getenv(\"OPENAI_API_KEY\")\n",
    "client = OpenAI(api_key=api_key)"
   ]
  },
  {
   "cell_type": "markdown",
   "id": "355f6a39-77a2-41ef-8901-624096fdca7f",
   "metadata": {},
   "source": [
    "## Fit CurveRAG"
   ]
  },
  {
   "cell_type": "code",
   "execution_count": 6,
   "id": "516bf805-2db3-4a49-a401-2ba85d9bfc60",
   "metadata": {},
   "outputs": [
    {
     "data": {
      "application/vnd.jupyter.widget-view+json": {
       "model_id": "130c9da9bc054741ab0f7f2d62fd99ba",
       "version_major": 2,
       "version_minor": 0
      },
      "text/plain": [
       "Fetching 5 files:   0%|          | 0/5 [00:00<?, ?it/s]"
      ]
     },
     "metadata": {},
     "output_type": "display_data"
    },
    {
     "name": "stderr",
     "output_type": "stream",
     "text": [
      "D:\\Learning\\hyperbolic-graph-rag\\curverag\\.venv\\lib\\site-packages\\transformers\\convert_slow_tokenizer.py:559: UserWarning: The sentencepiece tokenizer that you are converting to a fast tokenizer uses the byte fallback option which is not implemented in the fast tokenizers. In practice this means that the fast version of the tokenizer can produce unknown tokens whereas the sentencepiece version would have converted these unknown tokens into a sequence of byte tokens matching the original piece of text.\n",
      "  warnings.warn(\n"
     ]
    }
   ],
   "source": [
    "entity_types = ['people', 'locations', 'entities', 'movies', 'directors']\n",
    "rag = CurveRAG(\n",
    "    openai_client=client,\n",
    "    entity_types=entity_types,\n",
    ")"
   ]
  },
  {
   "cell_type": "code",
   "execution_count": 7,
   "id": "c65c2378-fa13-429f-85ab-96daa2b6117a",
   "metadata": {},
   "outputs": [
    {
     "ename": "NameError",
     "evalue": "name 'model' is not defined",
     "output_type": "error",
     "traceback": [
      "\u001b[1;31m---------------------------------------------------------------------------\u001b[0m",
      "\u001b[1;31mNameError\u001b[0m                                 Traceback (most recent call last)",
      "Cell \u001b[1;32mIn[7], line 1\u001b[0m\n\u001b[1;32m----> 1\u001b[0m rag \u001b[38;5;241m=\u001b[39m CurveRAG(llm\u001b[38;5;241m=\u001b[39m\u001b[43mmodel\u001b[49m)\n",
      "\u001b[1;31mNameError\u001b[0m: name 'model' is not defined"
     ]
    }
   ],
   "source": [
    "rag = CurveRAG(llm=model)"
   ]
  },
  {
   "cell_type": "code",
   "execution_count": 7,
   "id": "eaa03b50-b55a-4abc-994f-df570c791796",
   "metadata": {},
   "outputs": [
    {
     "name": "stdout",
     "output_type": "stream",
     "text": [
      "creating graph\n"
     ]
    },
    {
     "name": "stderr",
     "output_type": "stream",
     "text": [
      " 10%|████████▎                                                                          | 1/10 [00:09<01:27,  9.75s/it]"
     ]
    },
    {
     "name": "stdout",
     "output_type": "stream",
     "text": [
      "upserting\n"
     ]
    },
    {
     "name": "stderr",
     "output_type": "stream",
     "text": [
      " 20%|████████████████▌                                                                  | 2/10 [00:14<00:53,  6.74s/it]"
     ]
    },
    {
     "name": "stdout",
     "output_type": "stream",
     "text": [
      "upserting\n"
     ]
    },
    {
     "name": "stderr",
     "output_type": "stream",
     "text": [
      " 30%|████████████████████████▉                                                          | 3/10 [00:19<00:42,  6.02s/it]"
     ]
    },
    {
     "name": "stdout",
     "output_type": "stream",
     "text": [
      "upserting\n"
     ]
    },
    {
     "name": "stderr",
     "output_type": "stream",
     "text": [
      " 40%|█████████████████████████████████▏                                                 | 4/10 [00:26<00:37,  6.33s/it]"
     ]
    },
    {
     "name": "stdout",
     "output_type": "stream",
     "text": [
      "upserting\n"
     ]
    },
    {
     "name": "stderr",
     "output_type": "stream",
     "text": [
      " 50%|█████████████████████████████████████████▌                                         | 5/10 [00:31<00:28,  5.75s/it]"
     ]
    },
    {
     "name": "stdout",
     "output_type": "stream",
     "text": [
      "upserting\n"
     ]
    },
    {
     "name": "stderr",
     "output_type": "stream",
     "text": [
      " 60%|█████████████████████████████████████████████████▊                                 | 6/10 [00:33<00:18,  4.69s/it]"
     ]
    },
    {
     "name": "stdout",
     "output_type": "stream",
     "text": [
      "upserting\n"
     ]
    },
    {
     "name": "stderr",
     "output_type": "stream",
     "text": [
      " 70%|██████████████████████████████████████████████████████████                         | 7/10 [00:36<00:12,  4.01s/it]"
     ]
    },
    {
     "name": "stdout",
     "output_type": "stream",
     "text": [
      "upserting\n"
     ]
    },
    {
     "name": "stderr",
     "output_type": "stream",
     "text": [
      " 80%|██████████████████████████████████████████████████████████████████▍                | 8/10 [00:41<00:08,  4.42s/it]"
     ]
    },
    {
     "name": "stdout",
     "output_type": "stream",
     "text": [
      "upserting\n"
     ]
    },
    {
     "name": "stderr",
     "output_type": "stream",
     "text": [
      " 90%|██████████████████████████████████████████████████████████████████████████▋        | 9/10 [00:46<00:04,  4.48s/it]"
     ]
    },
    {
     "name": "stdout",
     "output_type": "stream",
     "text": [
      "upserting\n"
     ]
    },
    {
     "name": "stderr",
     "output_type": "stream",
     "text": [
      "100%|██████████████████████████████████████████████████████████████████████████████████| 10/10 [00:52<00:00,  5.24s/it]\n",
      "2025-06-10 20:23:32,407 INFO     Saving logs in: ./logs/06_10\\test_run\\AttH_20_23_32\n",
      "2025-06-10 20:23:32,407 INFO     \t (30, 28, 30)\n",
      "2025-06-10 20:23:32,429 INFO     Total number of parameters 170088\n",
      "2025-06-10 20:23:32,431 INFO     \t Start training\n"
     ]
    },
    {
     "name": "stdout",
     "output_type": "stream",
     "text": [
      "upserting\n",
      "num nodes 30\n",
      "unique node ids {1, 2, 3, 4, 5, 6, 7, 8, 9, 10, 11, 12, 13, 14, 15, 16, 17, 18, 19, 20, 21, 22, 23, 24, 25, 26, 27, 28, 29, 30}\n",
      "creating dataset\n",
      "train kg embeddings\n",
      "max_epochs 50\n"
     ]
    },
    {
     "name": "stderr",
     "output_type": "stream",
     "text": [
      "train loss: 100%|█████████████████████████████████████████████████████████| 42/42 [00:00<00:00, 80.31ex/s, loss=0.6884]\n",
      "2025-06-10 20:23:32,956 INFO     \t Epoch 0 | average train loss: 0.6884\n",
      "2025-06-10 20:23:32,962 INFO     \t Epoch 0 | average valid loss: 2.1058\n",
      "train loss: 100%|█████████████████████████████████████████████████████████| 42/42 [00:00<00:00, 81.40ex/s, loss=2.1058]\n",
      "2025-06-10 20:23:33,481 INFO     \t Epoch 1 | average train loss: 2.1058\n",
      "2025-06-10 20:23:33,489 INFO     \t Epoch 1 | average valid loss: 1.9965\n",
      "train loss: 100%|█████████████████████████████████████████████████████████| 42/42 [00:00<00:00, 81.55ex/s, loss=1.9965]\n",
      "2025-06-10 20:23:34,007 INFO     \t Epoch 2 | average train loss: 1.9965\n",
      "2025-06-10 20:23:34,012 INFO     \t Epoch 2 | average valid loss: 1.9274\n",
      "2025-06-10 20:23:34,017 INFO     \t valid MR: 30.50 | MRR: 0.033 | H@1: 0.000 | H@3: 0.000 | H@10: 0.000\n",
      "2025-06-10 20:23:34,018 INFO     \t Epoch 2 | average valid mmr: 0.0328\n",
      "2025-06-10 20:23:34,018 INFO     \t Saving model at epoch 2 in ./logs/06_10\\test_run\\AttH_20_23_32\n",
      "train loss: 100%|█████████████████████████████████████████████████████████| 42/42 [00:00<00:00, 83.67ex/s, loss=1.9275]\n",
      "2025-06-10 20:23:34,525 INFO     \t Epoch 3 | average train loss: 1.9275\n",
      "2025-06-10 20:23:34,531 INFO     \t Epoch 3 | average valid loss: 1.8750\n",
      "train loss: 100%|█████████████████████████████████████████████████████████| 42/42 [00:00<00:00, 83.67ex/s, loss=1.8668]\n",
      "2025-06-10 20:23:35,036 INFO     \t Epoch 4 | average train loss: 1.8668\n",
      "2025-06-10 20:23:35,042 INFO     \t Epoch 4 | average valid loss: 1.8322\n",
      "train loss: 100%|█████████████████████████████████████████████████████████| 42/42 [00:00<00:00, 82.19ex/s, loss=1.3240]\n",
      "2025-06-10 20:23:35,555 INFO     \t Epoch 5 | average train loss: 1.3240\n",
      "2025-06-10 20:23:35,560 INFO     \t Epoch 5 | average valid loss: 1.7959\n",
      "2025-06-10 20:23:35,565 INFO     \t valid MR: 30.50 | MRR: 0.033 | H@1: 0.000 | H@3: 0.000 | H@10: 0.000\n",
      "2025-06-10 20:23:35,565 INFO     \t Epoch 5 | average valid mmr: 0.0328\n",
      "train loss: 100%|█████████████████████████████████████████████████████████| 42/42 [00:00<00:00, 81.87ex/s, loss=1.3101]\n",
      "2025-06-10 20:23:36,081 INFO     \t Epoch 6 | average train loss: 1.3101\n",
      "2025-06-10 20:23:36,086 INFO     \t Epoch 6 | average valid loss: 1.7645\n",
      "train loss: 100%|█████████████████████████████████████████████████████████| 42/42 [00:00<00:00, 77.78ex/s, loss=0.6676]\n",
      "2025-06-10 20:23:36,629 INFO     \t Epoch 7 | average train loss: 0.6676\n",
      "2025-06-10 20:23:36,634 INFO     \t Epoch 7 | average valid loss: 0.4023\n",
      "train loss: 100%|█████████████████████████████████████████████████████████| 42/42 [00:00<00:00, 84.00ex/s, loss=0.3473]\n",
      "2025-06-10 20:23:37,138 INFO     \t Epoch 8 | average train loss: 0.3473\n",
      "2025-06-10 20:23:37,144 INFO     \t Epoch 8 | average valid loss: 0.9473\n",
      "2025-06-10 20:23:37,149 INFO     \t valid MR: 23.50 | MRR: 0.046 | H@1: 0.000 | H@3: 0.000 | H@10: 0.000\n",
      "2025-06-10 20:23:37,149 INFO     \t Epoch 8 | average valid mmr: 0.0461\n",
      "2025-06-10 20:23:37,149 INFO     \t Saving model at epoch 8 in ./logs/06_10\\test_run\\AttH_20_23_32\n",
      "train loss: 100%|█████████████████████████████████████████████████████████| 42/42 [00:00<00:00, 83.67ex/s, loss=0.2504]\n",
      "2025-06-10 20:23:37,656 INFO     \t Epoch 9 | average train loss: 0.2504\n",
      "2025-06-10 20:23:37,661 INFO     \t Epoch 9 | average valid loss: 0.3797\n",
      "train loss: 100%|█████████████████████████████████████████████████████████| 42/42 [00:00<00:00, 85.89ex/s, loss=0.4385]\n",
      "2025-06-10 20:23:38,153 INFO     \t Epoch 10 | average train loss: 0.4385\n",
      "2025-06-10 20:23:38,158 INFO     \t Epoch 10 | average valid loss: 0.1472\n",
      "train loss: 100%|█████████████████████████████████████████████████████████| 42/42 [00:00<00:00, 85.19ex/s, loss=0.1188]\n",
      "2025-06-10 20:23:38,653 INFO     \t Epoch 11 | average train loss: 0.1188\n",
      "2025-06-10 20:23:38,660 INFO     \t Epoch 11 | average valid loss: 0.0964\n",
      "2025-06-10 20:23:38,664 INFO     \t valid MR: 15.00 | MRR: 0.104 | H@1: 0.000 | H@3: 0.000 | H@10: 0.500\n",
      "2025-06-10 20:23:38,664 INFO     \t Epoch 11 | average valid mmr: 0.1042\n",
      "2025-06-10 20:23:38,665 INFO     \t Saving model at epoch 11 in ./logs/06_10\\test_run\\AttH_20_23_32\n",
      "train loss: 100%|█████████████████████████████████████████████████████████| 42/42 [00:00<00:00, 83.67ex/s, loss=0.0992]\n",
      "2025-06-10 20:23:39,170 INFO     \t Epoch 12 | average train loss: 0.0992\n",
      "2025-06-10 20:23:39,177 INFO     \t Epoch 12 | average valid loss: 0.1497\n",
      "train loss: 100%|█████████████████████████████████████████████████████████| 42/42 [00:00<00:00, 85.54ex/s, loss=0.0724]\n",
      "2025-06-10 20:23:39,671 INFO     \t Epoch 13 | average train loss: 0.0724\n",
      "2025-06-10 20:23:39,677 INFO     \t Epoch 13 | average valid loss: 0.0751\n",
      "train loss: 100%|█████████████████████████████████████████████████████████| 42/42 [00:00<00:00, 84.51ex/s, loss=0.0546]\n",
      "2025-06-10 20:23:40,177 INFO     \t Epoch 14 | average train loss: 0.0546\n",
      "2025-06-10 20:23:40,183 INFO     \t Epoch 14 | average valid loss: 0.1237\n",
      "2025-06-10 20:23:40,186 INFO     \t valid MR: 12.50 | MRR: 0.099 | H@1: 0.000 | H@3: 0.000 | H@10: 0.500\n",
      "2025-06-10 20:23:40,187 INFO     \t Epoch 14 | average valid mmr: 0.0992\n",
      "train loss: 100%|█████████████████████████████████████████████████████████| 42/42 [00:00<00:00, 81.08ex/s, loss=0.0362]\n",
      "2025-06-10 20:23:40,707 INFO     \t Epoch 15 | average train loss: 0.0362\n",
      "2025-06-10 20:23:40,713 INFO     \t Epoch 15 | average valid loss: 0.0943\n",
      "train loss: 100%|█████████████████████████████████████████████████████████| 42/42 [00:00<00:00, 83.33ex/s, loss=0.0460]\n",
      "2025-06-10 20:23:41,220 INFO     \t Epoch 16 | average train loss: 0.0460\n",
      "2025-06-10 20:23:41,226 INFO     \t Epoch 16 | average valid loss: 0.0803\n",
      "train loss: 100%|█████████████████████████████████████████████████████████| 42/42 [00:00<00:00, 84.34ex/s, loss=0.0508]\n",
      "2025-06-10 20:23:41,726 INFO     \t Epoch 17 | average train loss: 0.0508\n",
      "2025-06-10 20:23:41,732 INFO     \t Epoch 17 | average valid loss: 0.0495\n",
      "2025-06-10 20:23:41,736 INFO     \t valid MR: 3.50 | MRR: 0.583 | H@1: 0.500 | H@3: 0.500 | H@10: 1.000\n",
      "2025-06-10 20:23:41,737 INFO     \t Epoch 17 | average valid mmr: 0.5833\n",
      "2025-06-10 20:23:41,737 INFO     \t Saving model at epoch 17 in ./logs/06_10\\test_run\\AttH_20_23_32\n",
      "train loss: 100%|█████████████████████████████████████████████████████████| 42/42 [00:00<00:00, 83.83ex/s, loss=0.0462]\n",
      "2025-06-10 20:23:42,243 INFO     \t Epoch 18 | average train loss: 0.0462\n",
      "2025-06-10 20:23:42,249 INFO     \t Epoch 18 | average valid loss: 0.0683\n",
      "train loss: 100%|█████████████████████████████████████████████████████████| 42/42 [00:00<00:00, 82.84ex/s, loss=0.0330]\n",
      "2025-06-10 20:23:42,758 INFO     \t Epoch 19 | average train loss: 0.0330\n",
      "2025-06-10 20:23:42,763 INFO     \t Epoch 19 | average valid loss: 0.0499\n",
      "train loss: 100%|█████████████████████████████████████████████████████████| 42/42 [00:00<00:00, 85.02ex/s, loss=0.0368]\n",
      "2025-06-10 20:23:43,259 INFO     \t Epoch 20 | average train loss: 0.0368\n",
      "2025-06-10 20:23:43,265 INFO     \t Epoch 20 | average valid loss: 0.0451\n",
      "2025-06-10 20:23:43,270 INFO     \t valid MR: 1.50 | MRR: 0.750 | H@1: 0.500 | H@3: 1.000 | H@10: 1.000\n",
      "2025-06-10 20:23:43,270 INFO     \t Epoch 20 | average valid mmr: 0.7500\n",
      "2025-06-10 20:23:43,271 INFO     \t Saving model at epoch 20 in ./logs/06_10\\test_run\\AttH_20_23_32\n",
      "train loss: 100%|█████████████████████████████████████████████████████████| 42/42 [00:00<00:00, 83.66ex/s, loss=0.0351]\n",
      "2025-06-10 20:23:43,777 INFO     \t Epoch 21 | average train loss: 0.0351\n",
      "2025-06-10 20:23:43,783 INFO     \t Epoch 21 | average valid loss: 0.0509\n",
      "train loss: 100%|█████████████████████████████████████████████████████████| 42/42 [00:00<00:00, 83.83ex/s, loss=0.0351]\n",
      "2025-06-10 20:23:44,287 INFO     \t Epoch 22 | average train loss: 0.0351\n",
      "2025-06-10 20:23:44,293 INFO     \t Epoch 22 | average valid loss: 0.0576\n",
      "train loss: 100%|█████████████████████████████████████████████████████████| 42/42 [00:00<00:00, 83.67ex/s, loss=0.0320]\n",
      "2025-06-10 20:23:44,798 INFO     \t Epoch 23 | average train loss: 0.0320\n",
      "2025-06-10 20:23:44,804 INFO     \t Epoch 23 | average valid loss: 0.0574\n",
      "2025-06-10 20:23:44,808 INFO     \t valid MR: 3.00 | MRR: 0.600 | H@1: 0.500 | H@3: 0.500 | H@10: 1.000\n",
      "2025-06-10 20:23:44,808 INFO     \t Epoch 23 | average valid mmr: 0.6000\n",
      "train loss: 100%|█████████████████████████████████████████████████████████| 42/42 [00:00<00:00, 84.17ex/s, loss=0.0312]\n",
      "2025-06-10 20:23:45,310 INFO     \t Epoch 24 | average train loss: 0.0312\n",
      "2025-06-10 20:23:45,316 INFO     \t Epoch 24 | average valid loss: 0.0400\n",
      "train loss: 100%|█████████████████████████████████████████████████████████| 42/42 [00:00<00:00, 81.87ex/s, loss=0.0284]\n",
      "2025-06-10 20:23:45,832 INFO     \t Epoch 25 | average train loss: 0.0284\n",
      "2025-06-10 20:23:45,839 INFO     \t Epoch 25 | average valid loss: 0.0264\n",
      "train loss: 100%|█████████████████████████████████████████████████████████| 42/42 [00:00<00:00, 84.85ex/s, loss=0.0289]\n",
      "2025-06-10 20:23:46,336 INFO     \t Epoch 26 | average train loss: 0.0289\n",
      "2025-06-10 20:23:46,342 INFO     \t Epoch 26 | average valid loss: 0.0341\n",
      "2025-06-10 20:23:46,347 INFO     \t valid MR: 1.50 | MRR: 0.750 | H@1: 0.500 | H@3: 1.000 | H@10: 1.000\n",
      "2025-06-10 20:23:46,347 INFO     \t Epoch 26 | average valid mmr: 0.7500\n",
      "train loss: 100%|█████████████████████████████████████████████████████████| 42/42 [00:00<00:00, 82.68ex/s, loss=0.0304]\n",
      "2025-06-10 20:23:46,858 INFO     \t Epoch 27 | average train loss: 0.0304\n",
      "2025-06-10 20:23:46,863 INFO     \t Epoch 27 | average valid loss: 0.0251\n",
      "train loss: 100%|█████████████████████████████████████████████████████████| 42/42 [00:00<00:00, 85.02ex/s, loss=0.0259]\n",
      "2025-06-10 20:23:47,359 INFO     \t Epoch 28 | average train loss: 0.0259\n",
      "2025-06-10 20:23:47,364 INFO     \t Epoch 28 | average valid loss: 0.0387\n",
      "train loss: 100%|█████████████████████████████████████████████████████████| 42/42 [00:00<00:00, 77.35ex/s, loss=0.0235]\n",
      "2025-06-10 20:23:47,910 INFO     \t Epoch 29 | average train loss: 0.0235\n",
      "2025-06-10 20:23:47,915 INFO     \t Epoch 29 | average valid loss: 0.0251\n",
      "2025-06-10 20:23:47,919 INFO     \t valid MR: 1.50 | MRR: 0.750 | H@1: 0.500 | H@3: 1.000 | H@10: 1.000\n",
      "2025-06-10 20:23:47,920 INFO     \t Epoch 29 | average valid mmr: 0.7500\n",
      "train loss: 100%|█████████████████████████████████████████████████████████| 42/42 [00:00<00:00, 84.34ex/s, loss=0.0215]\n",
      "2025-06-10 20:23:48,420 INFO     \t Epoch 30 | average train loss: 0.0215\n",
      "2025-06-10 20:23:48,424 INFO     \t Epoch 30 | average valid loss: 0.0539\n",
      "train loss: 100%|█████████████████████████████████████████████████████████| 42/42 [00:00<00:00, 83.50ex/s, loss=0.0224]\n",
      "2025-06-10 20:23:48,930 INFO     \t Epoch 31 | average train loss: 0.0224\n",
      "2025-06-10 20:23:48,937 INFO     \t Epoch 31 | average valid loss: 0.0445\n",
      "train loss: 100%|█████████████████████████████████████████████████████████| 42/42 [00:00<00:00, 84.68ex/s, loss=0.0300]\n",
      "2025-06-10 20:23:49,436 INFO     \t Epoch 32 | average train loss: 0.0300\n",
      "2025-06-10 20:23:49,442 INFO     \t Epoch 32 | average valid loss: 0.0482\n",
      "2025-06-10 20:23:49,446 INFO     \t valid MR: 2.00 | MRR: 0.667 | H@1: 0.500 | H@3: 1.000 | H@10: 1.000\n",
      "2025-06-10 20:23:49,447 INFO     \t Epoch 32 | average valid mmr: 0.6667\n",
      "train loss: 100%|█████████████████████████████████████████████████████████| 42/42 [00:00<00:00, 85.89ex/s, loss=0.0365]\n",
      "2025-06-10 20:23:49,939 INFO     \t Epoch 33 | average train loss: 0.0365\n",
      "2025-06-10 20:23:49,943 INFO     \t Epoch 33 | average valid loss: 0.0298\n",
      "train loss: 100%|█████████████████████████████████████████████████████████| 42/42 [00:00<00:00, 85.71ex/s, loss=0.0381]\n",
      "2025-06-10 20:23:50,436 INFO     \t Epoch 34 | average train loss: 0.0381\n",
      "2025-06-10 20:23:50,443 INFO     \t Epoch 34 | average valid loss: 0.0254\n",
      "train loss: 100%|█████████████████████████████████████████████████████████| 42/42 [00:00<00:00, 83.67ex/s, loss=0.0278]\n",
      "2025-06-10 20:23:50,948 INFO     \t Epoch 35 | average train loss: 0.0278\n",
      "2025-06-10 20:23:50,955 INFO     \t Epoch 35 | average valid loss: 0.0279\n",
      "2025-06-10 20:23:50,959 INFO     \t valid MR: 2.00 | MRR: 0.667 | H@1: 0.500 | H@3: 1.000 | H@10: 1.000\n",
      "2025-06-10 20:23:50,960 INFO     \t Epoch 35 | average valid mmr: 0.6667\n",
      "train loss: 100%|█████████████████████████████████████████████████████████| 42/42 [00:00<00:00, 84.00ex/s, loss=0.0210]\n",
      "2025-06-10 20:23:51,462 INFO     \t Epoch 36 | average train loss: 0.0210\n",
      "2025-06-10 20:23:51,468 INFO     \t Epoch 36 | average valid loss: 0.0311\n",
      "train loss: 100%|█████████████████████████████████████████████████████████| 42/42 [00:00<00:00, 83.67ex/s, loss=0.0200]\n",
      "2025-06-10 20:23:51,973 INFO     \t Epoch 37 | average train loss: 0.0200\n",
      "2025-06-10 20:23:51,979 INFO     \t Epoch 37 | average valid loss: 0.0438\n",
      "train loss: 100%|█████████████████████████████████████████████████████████| 42/42 [00:00<00:00, 84.51ex/s, loss=0.0199]\n",
      "2025-06-10 20:23:52,478 INFO     \t Epoch 38 | average train loss: 0.0199\n",
      "2025-06-10 20:23:52,484 INFO     \t Epoch 38 | average valid loss: 0.0449\n",
      "2025-06-10 20:23:52,488 INFO     \t valid MR: 1.00 | MRR: 1.000 | H@1: 1.000 | H@3: 1.000 | H@10: 1.000\n",
      "2025-06-10 20:23:52,489 INFO     \t Epoch 38 | average valid mmr: 1.0000\n",
      "2025-06-10 20:23:52,489 INFO     \t Saving model at epoch 38 in ./logs/06_10\\test_run\\AttH_20_23_32\n",
      "train loss: 100%|█████████████████████████████████████████████████████████| 42/42 [00:00<00:00, 81.87ex/s, loss=0.0222]\n",
      "2025-06-10 20:23:53,007 INFO     \t Epoch 39 | average train loss: 0.0222\n",
      "2025-06-10 20:23:53,013 INFO     \t Epoch 39 | average valid loss: 0.0359\n",
      "train loss: 100%|█████████████████████████████████████████████████████████| 42/42 [00:00<00:00, 84.34ex/s, loss=0.0228]\n",
      "2025-06-10 20:23:53,514 INFO     \t Epoch 40 | average train loss: 0.0228\n",
      "2025-06-10 20:23:53,520 INFO     \t Epoch 40 | average valid loss: 0.0257\n",
      "train loss: 100%|█████████████████████████████████████████████████████████| 42/42 [00:00<00:00, 77.21ex/s, loss=0.0244]\n",
      "2025-06-10 20:23:54,068 INFO     \t Epoch 41 | average train loss: 0.0244\n",
      "2025-06-10 20:23:54,074 INFO     \t Epoch 41 | average valid loss: 0.0214\n",
      "2025-06-10 20:23:54,079 INFO     \t valid MR: 1.50 | MRR: 0.750 | H@1: 0.500 | H@3: 1.000 | H@10: 1.000\n",
      "2025-06-10 20:23:54,079 INFO     \t Epoch 41 | average valid mmr: 0.7500\n",
      "train loss: 100%|█████████████████████████████████████████████████████████| 42/42 [00:00<00:00, 81.87ex/s, loss=0.0244]\n",
      "2025-06-10 20:23:54,595 INFO     \t Epoch 42 | average train loss: 0.0244\n",
      "2025-06-10 20:23:54,601 INFO     \t Epoch 42 | average valid loss: 0.0195\n",
      "train loss: 100%|█████████████████████████████████████████████████████████| 42/42 [00:00<00:00, 83.00ex/s, loss=0.0296]\n",
      "2025-06-10 20:23:55,110 INFO     \t Epoch 43 | average train loss: 0.0296\n",
      "2025-06-10 20:23:55,114 INFO     \t Epoch 43 | average valid loss: 0.0202\n",
      "train loss: 100%|█████████████████████████████████████████████████████████| 42/42 [00:00<00:00, 79.85ex/s, loss=0.0298]\n",
      "2025-06-10 20:23:55,643 INFO     \t Epoch 44 | average train loss: 0.0298\n",
      "2025-06-10 20:23:55,647 INFO     \t Epoch 44 | average valid loss: 0.0222\n",
      "2025-06-10 20:23:55,652 INFO     \t valid MR: 1.50 | MRR: 0.750 | H@1: 0.500 | H@3: 1.000 | H@10: 1.000\n",
      "2025-06-10 20:23:55,652 INFO     \t Epoch 44 | average valid mmr: 0.7500\n",
      "train loss: 100%|█████████████████████████████████████████████████████████| 42/42 [00:00<00:00, 83.17ex/s, loss=0.0253]\n",
      "2025-06-10 20:23:56,160 INFO     \t Epoch 45 | average train loss: 0.0253\n",
      "2025-06-10 20:23:56,166 INFO     \t Epoch 45 | average valid loss: 0.0484\n",
      "train loss: 100%|█████████████████████████████████████████████████████████| 42/42 [00:00<00:00, 82.19ex/s, loss=0.0209]\n",
      "2025-06-10 20:23:56,679 INFO     \t Epoch 46 | average train loss: 0.0209\n",
      "2025-06-10 20:23:56,686 INFO     \t Epoch 46 | average valid loss: 0.0238\n",
      "train loss: 100%|█████████████████████████████████████████████████████████| 42/42 [00:00<00:00, 83.83ex/s, loss=0.0182]\n",
      "2025-06-10 20:23:57,189 INFO     \t Epoch 47 | average train loss: 0.0182\n",
      "2025-06-10 20:23:57,195 INFO     \t Epoch 47 | average valid loss: 0.0328\n",
      "2025-06-10 20:23:57,198 INFO     \t valid MR: 2.00 | MRR: 0.667 | H@1: 0.500 | H@3: 1.000 | H@10: 1.000\n",
      "2025-06-10 20:23:57,199 INFO     \t Epoch 47 | average valid mmr: 0.6667\n",
      "train loss: 100%|█████████████████████████████████████████████████████████| 42/42 [00:00<00:00, 85.19ex/s, loss=0.0174]\n",
      "2025-06-10 20:23:57,695 INFO     \t Epoch 48 | average train loss: 0.0174\n",
      "2025-06-10 20:23:57,700 INFO     \t Epoch 48 | average valid loss: 0.0180\n",
      "train loss: 100%|█████████████████████████████████████████████████████████| 42/42 [00:00<00:00, 83.50ex/s, loss=0.0161]\n",
      "2025-06-10 20:23:58,206 INFO     \t Epoch 49 | average train loss: 0.0161\n",
      "2025-06-10 20:23:58,212 INFO     \t Epoch 49 | average valid loss: 0.0403\n",
      "2025-06-10 20:23:58,212 INFO     \t Optimization finished\n",
      "2025-06-10 20:23:58,213 INFO     \t Loading best model saved at epoch 38\n",
      "2025-06-10 20:23:58,220 INFO     \t valid MR: 1.00 | MRR: 1.000 | H@1: 1.000 | H@3: 1.000 | H@10: 1.000\n",
      "2025-06-10 20:23:58,224 INFO     \t test MR: 13.50 | MRR: 0.270 | H@1: 0.000 | H@3: 0.500 | H@10: 0.500\n"
     ]
    },
    {
     "name": "stdout",
     "output_type": "stream",
     "text": [
      "returning model\n"
     ]
    },
    {
     "data": {
      "application/vnd.jupyter.widget-view+json": {
       "model_id": "3114a7fa680a48898fded42a10750f72",
       "version_major": 2,
       "version_minor": 0
      },
      "text/plain": [
       "Batches:   0%|          | 0/1 [00:00<?, ?it/s]"
      ]
     },
     "metadata": {},
     "output_type": "display_data"
    }
   ],
   "source": [
    "rag.fit(docs=docs, dataset_name='test_run')"
   ]
  },
  {
   "cell_type": "code",
   "execution_count": 8,
   "id": "4afc5868-24d8-40be-a861-d5921c9793d1",
   "metadata": {},
   "outputs": [
    {
     "data": {
      "text/plain": [
       "30"
      ]
     },
     "execution_count": 8,
     "metadata": {},
     "output_type": "execute_result"
    }
   ],
   "source": [
    "len(rag.graph.nodes)"
   ]
  },
  {
   "cell_type": "code",
   "execution_count": 9,
   "id": "1d42c46e-319d-4fa3-94c0-3a7bd0ed520a",
   "metadata": {},
   "outputs": [
    {
     "name": "stderr",
     "output_type": "stream",
     "text": [
      "C:\\Users\\natha\\AppData\\Local\\Temp\\ipykernel_33204\\946862156.py:3: PydanticDeprecatedSince20: The `dict` method is deprecated; use `model_dump` instead. Deprecated in Pydantic V2.0 to be removed in V3.0. See Pydantic V2 Migration Guide at https://errors.pydantic.dev/2.11/migration/\n",
      "  json.dump(rag.graph.dict(), f, indent=4)\n"
     ]
    }
   ],
   "source": [
    "import json\n",
    "with open('rag.graph.json', 'w') as f:\n",
    "    json.dump(rag.graph.dict(), f, indent=4)"
   ]
  },
  {
   "cell_type": "code",
   "execution_count": 12,
   "id": "53cbe739-3424-4bc7-8a10-70542b83de72",
   "metadata": {},
   "outputs": [
    {
     "data": {
      "text/plain": [
       "[Node(id=1, name='Patient', description='The person receiving medical care The person receiving medical care', alias=['Individual', 'Client', 'Patient'], additional_information=['The patient has a diagnosis of type 2 diabetes.']),\n",
       " Node(id=2, name='Type 2 Diabetes Mellitus', description='A chronic condition that affects the way the body processes blood sugar (glucose)', alias=['Diabetes Type 2', 'T2DM'], additional_information=['Type 2 diabetes is characterized by insulin resistance.']),\n",
       " Node(id=3, name='Metformin', description='A medication used to treat type 2 diabetes', alias=[], additional_information=['Metformin is commonly prescribed for blood sugar control.']),\n",
       " Node(id=4, name='500mg', description='Dosage of metformin prescribed', alias=[], additional_information=['Dosage frequency is twice daily.']),\n",
       " Node(id=5, name='Twice Daily', description='Indicates the frequency of medication administration', alias=['BID'], additional_information=['Common dosage instruction for medications.']),\n",
       " Node(id=6, name='Lesion', description='An abnormal area of tissue that may indicate disease', alias=[], additional_information=['Found in the left temporal lobe.']),\n",
       " Node(id=7, name='Left Temporal Lobe', description='A region of the brain involved in processing sensory input', alias=[], additional_information=['Location of the lesion.']),\n",
       " Node(id=8, name='Low-Grade Glioma', description='A slow-growing type of brain tumor', alias=[], additional_information=['Suggestive finding on MRI scan.']),\n",
       " Node(id=9, name='Lorazepam', description='A medication used to manage seizures and anxiety', alias=[], additional_information=['Lorazepam is commonly administered intravenously for acute seizures.']),\n",
       " Node(id=10, name='5mg', description='Dosage of lorazepam prescribed', alias=[], additional_information=['Typically used in acute settings for seizure management.']),\n",
       " Node(id=11, name='Acute Seizure Management', description='Treatment administered during a seizure episode', alias=['Seizure Control'], additional_information=['Administering medication intravenously is a common approach.']),\n",
       " Node(id=12, name='Blood Test', description='A laboratory analysis of blood samples', alias=[], additional_information=['Tests for liver enzymes such as ALT and AST.']),\n",
       " Node(id=13, name='ALT', description='Alanine aminotransferase, an enzyme found in the liver', alias=['Alanine transaminase'], additional_information=['Elevated levels may indicate liver inflammation.']),\n",
       " Node(id=14, name='AST', description='Aspartate aminotransferase, an enzyme found in the liver', alias=['Aspartate transaminase'], additional_information=['Elevated levels can be a sign of liver issues.']),\n",
       " Node(id=15, name='Liver Inflammation', description='Inflammation of the liver tissue', alias=[], additional_information=['Can be indicated by elevated ALT and AST levels.']),\n",
       " Node(id=16, name='Chronic Lower Back Pain', description='A long-term pain in the lower back region', alias=['Chronic Lumbar Pain'], additional_information=['Reported by the subject.']),\n",
       " Node(id=17, name='Physical Therapy', description='A treatment method involving exercises and physical activities', alias=[], additional_information=['Used to manage chronic lower back pain.']),\n",
       " Node(id=18, name='NSAIDs', description='Non-steroidal anti-inflammatory drugs used to relieve pain', alias=[], additional_information=['Commonly used for pain management.']),\n",
       " Node(id=19, name='Pulmonary Embolism', description='A blockage in one of the pulmonary arteries in the lungs', alias=[], additional_information=['Confirmed by CT angiography.']),\n",
       " Node(id=20, name='Right Lower Lobe', description='A region of the right lung', alias=[], additional_information=['Location of the pulmonary embolism.']),\n",
       " Node(id=21, name='Coronary Artery Bypass Graft Surgery', description='A surgical procedure to improve blood flow to the heart', alias=['CABG'], additional_information=['Performed without complications.']),\n",
       " Node(id=22, name='MMR', description='Measles, Mumps, and Rubella vaccine', alias=['Measles Mumps Rubella vaccine'], additional_information=['Routine vaccination component.']),\n",
       " Node(id=23, name='Tetanus', description='Vaccination to prevent tetanus infection', alias=[], additional_information=['Part of routine vaccination.']),\n",
       " Node(id=24, name='Influenza', description='Vaccination against influenza virus', alias=[], additional_information=['Included in routine vaccination.']),\n",
       " Node(id=25, name='Ductal Carcinoma In Situ', description='A non-invasive breast cancer characterized by abnormal cells in the milk ducts', alias=['DCIS'], additional_information=['Detected in breast biopsy sample.']),\n",
       " Node(id=26, name='Breast Biopsy', description='A procedure to remove samples of breast tissue for testing', alias=[], additional_information=['Used to confirm the presence of carcinoma.']),\n",
       " Node(id=27, name='Child', description='A young human who is receiving medical evaluation', alias=['Pediatric Patient', 'Minor'], additional_information=['Presented with cough and fever.', 'Diagnosed with streptococcal pharyngitis.']),\n",
       " Node(id=28, name='Persistent Cough', description='A cough that lasts for an extended period', alias=[], additional_information=['Associated symptom in the child.']),\n",
       " Node(id=29, name='Fever', description='An elevation in body temperature', alias=[], additional_information=['Symptoms presented by the child.']),\n",
       " Node(id=30, name='Streptococcal Pharyngitis', description='A bacterial infection that causes inflammation in the throat', alias=['Strep Throat'], additional_information=['Diagnosis for the child based on symptoms.'])]"
      ]
     },
     "execution_count": 12,
     "metadata": {},
     "output_type": "execute_result"
    }
   ],
   "source": [
    "rag.graph.nodes"
   ]
  },
  {
   "cell_type": "code",
   "execution_count": 11,
   "id": "d4f1a67e-0279-4f51-a26b-11df42055540",
   "metadata": {},
   "outputs": [
    {
     "name": "stderr",
     "output_type": "stream",
     "text": [
      "/var/folders/m6/12prs8yx2r90psgztq05hy_c0000gn/T/ipykernel_69670/774845048.py:1: PydanticDeprecatedSince20: The `dict` method is deprecated; use `model_dump` instead. Deprecated in Pydantic V2.0 to be removed in V3.0. See Pydantic V2 Migration Guide at https://errors.pydantic.dev/2.11/migration/\n",
      "  rag.graph.dict()\n"
     ]
    },
    {
     "data": {
      "text/plain": [
       "{'nodes': [{'id': 1,\n",
       "   'name': 'Patient',\n",
       "   'description': 'A person who is receiving medical treatment',\n",
       "   'alias': ['individual', 'person']},\n",
       "  {'id': 2,\n",
       "   'name': 'Diabetes Mellitus',\n",
       "   'description': 'A group of metabolic disorders characterized by high blood sugar levels',\n",
       "   'alias': ['diabetes', 'DM']},\n",
       "  {'id': 3,\n",
       "   'name': 'Metformin',\n",
       "   'description': 'A medication used to treat type 2 diabetes',\n",
       "   'alias': ['glucophage', 'metformin hydrochloride']},\n",
       "  {'id': 4,\n",
       "   'name': 'Type 2 Diabetes',\n",
       "   'description': 'A type of diabetes that is caused by insulin resistance and impaired insulin secretion',\n",
       "   'alias': ['T2D', 'non-insulin-dependent diabetes']},\n",
       "  {'id': 5,\n",
       "   'name': 'Daily',\n",
       "   'description': 'A unit of time',\n",
       "   'alias': ['day', '24 hours']},\n",
       "  {'id': 6,\n",
       "   'name': '500mg',\n",
       "   'description': 'A dosage of medication',\n",
       "   'alias': ['half a gram', '0.5 grams']},\n",
       "  {'id': 7,\n",
       "   'name': 'Twice',\n",
       "   'description': 'A frequency of medication administration',\n",
       "   'alias': ['every 12 hours', 'b.i.d.']},\n",
       "  {'id': 8,\n",
       "   'name': 'MRI',\n",
       "   'description': 'A medical imaging technique',\n",
       "   'alias': ['magnetic resonance imaging']},\n",
       "  {'id': 9,\n",
       "   'name': 'Lesion',\n",
       "   'description': 'An abnormality in the tissue',\n",
       "   'alias': ['lesion', 'abnormality']},\n",
       "  {'id': 10,\n",
       "   'name': 'Temporal lobe',\n",
       "   'description': 'A part of the brain',\n",
       "   'alias': ['temporal', 'lobe']},\n",
       "  {'id': 11,\n",
       "   'name': 'Glioma',\n",
       "   'description': 'A type of brain tumor',\n",
       "   'alias': ['glioma', 'brain tumor']},\n",
       "  {'id': 12,\n",
       "   'name': 'Low-grade',\n",
       "   'description': 'A classification of glioma',\n",
       "   'alias': ['low grade', 'grade 1']},\n",
       "  {'id': 13,\n",
       "   'name': 'Lorazepam',\n",
       "   'description': 'A medication used to treat anxiety and seizures',\n",
       "   'alias': ['lorazepam', 'ativan']},\n",
       "  {'id': 14,\n",
       "   'name': 'Seizure',\n",
       "   'description': 'A sudden, uncontrolled electrical discharge of the brain',\n",
       "   'alias': ['seizure', 'convulsion']},\n",
       "  {'id': 15,\n",
       "   'name': 'Acute',\n",
       "   'description': 'A sudden and severe condition',\n",
       "   'alias': ['acute', 'sudden']},\n",
       "  {'id': 16,\n",
       "   'name': 'Intravenous',\n",
       "   'description': 'A method of administering medication',\n",
       "   'alias': ['iv', 'intravenous']},\n",
       "  {'id': 17,\n",
       "   'name': 'Management',\n",
       "   'description': 'The process of controlling or treating a condition',\n",
       "   'alias': ['management', 'treatment']},\n",
       "  {'id': 18,\n",
       "   'name': 'Blood tests',\n",
       "   'description': 'A medical examination of the blood',\n",
       "   'alias': ['blood test', 'blood examination']},\n",
       "  {'id': 19,\n",
       "   'name': 'ALT',\n",
       "   'description': 'An enzyme in the liver',\n",
       "   'alias': ['alanine aminotransferase', 'ALT enzyme']},\n",
       "  {'id': 20,\n",
       "   'name': 'AST',\n",
       "   'description': 'An enzyme in the liver',\n",
       "   'alias': ['aspartate aminotransferase', 'AST enzyme']},\n",
       "  {'id': 21,\n",
       "   'name': 'Liver inflammation',\n",
       "   'description': 'An inflammation of the liver',\n",
       "   'alias': ['liver inflammation', 'hepatitis']},\n",
       "  {'id': 22,\n",
       "   'name': 'Subject',\n",
       "   'description': 'A person who is receiving medical treatment',\n",
       "   'alias': ['patient', 'individual']},\n",
       "  {'id': 23,\n",
       "   'name': 'Chronic',\n",
       "   'description': 'A long-term condition',\n",
       "   'alias': ['long-term', 'persistent']},\n",
       "  {'id': 24,\n",
       "   'name': 'Lower back pain',\n",
       "   'description': 'A type of pain',\n",
       "   'alias': ['back pain', 'lumbar pain']},\n",
       "  {'id': 25,\n",
       "   'name': 'Physical therapy',\n",
       "   'description': 'A type of treatment',\n",
       "   'alias': ['PT', 'physical therapy']},\n",
       "  {'id': 26,\n",
       "   'name': 'NSAIDs',\n",
       "   'description': 'A type of medication',\n",
       "   'alias': ['nonsteroidal anti-inflammatory drugs', 'pain relievers']},\n",
       "  {'id': 27,\n",
       "   'name': 'CT angiography',\n",
       "   'description': 'A medical imaging technique',\n",
       "   'alias': ['CTA', 'computed tomography angiography']},\n",
       "  {'id': 28,\n",
       "   'name': 'Pulmonary embolism',\n",
       "   'description': 'A blockage of the pulmonary artery',\n",
       "   'alias': ['PE', 'pulmonary thromboembolism']},\n",
       "  {'id': 29,\n",
       "   'name': 'Right lower lobe',\n",
       "   'description': 'A part of the lung',\n",
       "   'alias': ['RLL', 'right lower lobe of the lung']},\n",
       "  {'id': 30,\n",
       "   'name': 'Coronary Artery Bypass Graft Surgery',\n",
       "   'description': 'A surgical procedure to bypass blocked coronary arteries',\n",
       "   'alias': ['CABG', 'coronary bypass surgery']},\n",
       "  {'id': 32,\n",
       "   'name': 'Complication',\n",
       "   'description': 'An adverse event that occurs during or after a medical treatment',\n",
       "   'alias': ['adverse event', 'complication']},\n",
       "  {'id': 31,\n",
       "   'name': 'Routine vaccination',\n",
       "   'description': 'A regular vaccination schedule',\n",
       "   'alias': ['routine vaccination', 'immunization']},\n",
       "  {'id': 33,\n",
       "   'name': 'MMR',\n",
       "   'description': 'A type of vaccine',\n",
       "   'alias': ['measles, mumps, rubella', 'measles, mumps, rubella vaccine']},\n",
       "  {'id': 34,\n",
       "   'name': 'Tetanus',\n",
       "   'description': 'A type of vaccine',\n",
       "   'alias': ['tetanus vaccine', 'tetanus toxoid']},\n",
       "  {'id': 35,\n",
       "   'name': 'Influenza',\n",
       "   'description': 'A type of vaccine',\n",
       "   'alias': ['influenza vaccine', 'flu vaccine']},\n",
       "  {'id': 36,\n",
       "   'name': 'Histopathology',\n",
       "   'description': 'The study of the microscopic structure of tissues',\n",
       "   'alias': ['histopathology', 'microscopic examination']},\n",
       "  {'id': 37,\n",
       "   'name': 'Ductal Carcinoma In Situ',\n",
       "   'description': 'A type of breast cancer',\n",
       "   'alias': ['DCIS', 'ductal carcinoma in situ', 'breast cancer']},\n",
       "  {'id': 38,\n",
       "   'name': 'Breast',\n",
       "   'description': 'The organ responsible for milk production in females',\n",
       "   'alias': ['breast', 'mammary gland']},\n",
       "  {'id': 39,\n",
       "   'name': 'Biopsy',\n",
       "   'description': 'A medical procedure to remove a sample of tissue for examination',\n",
       "   'alias': ['biopsy', 'tissue sample']},\n",
       "  {'id': 40,\n",
       "   'name': 'Child',\n",
       "   'description': 'A young human being',\n",
       "   'alias': ['young person', 'juvenile']},\n",
       "  {'id': 41,\n",
       "   'name': 'Cough',\n",
       "   'description': 'A sudden and involuntary expulsion of air from the lungs',\n",
       "   'alias': ['coughing', 'coughs']},\n",
       "  {'id': 42,\n",
       "   'name': 'Fever',\n",
       "   'description': 'An elevated body temperature',\n",
       "   'alias': ['feverish', 'febrile']},\n",
       "  {'id': 43,\n",
       "   'name': 'Streptococcal Pharyngitis',\n",
       "   'description': 'An infection of the pharynx caused by streptococcal bacteria',\n",
       "   'alias': ['strep throat', 'pharyngitis']},\n",
       "  {'id': 44,\n",
       "   'name': 'Pharynx',\n",
       "   'description': 'The part of the throat that connects the nose and mouth',\n",
       "   'alias': ['throat', 'pharynx']},\n",
       "  {'id': 45,\n",
       "   'name': 'Streptococcus',\n",
       "   'description': 'A type of bacteria',\n",
       "   'alias': ['strep', 'streptococcus']}],\n",
       " 'edges': [{'source': 1,\n",
       "   'target': 2,\n",
       "   'name': 'has_disease',\n",
       "   'is_directed': True,\n",
       "   'description': 'The patient has the disease'},\n",
       "  {'source': 1,\n",
       "   'target': 3,\n",
       "   'name': 'takes_medication',\n",
       "   'is_directed': True,\n",
       "   'description': 'The patient is taking the medication'},\n",
       "  {'source': 3,\n",
       "   'target': 4,\n",
       "   'name': 'treats',\n",
       "   'is_directed': True,\n",
       "   'description': 'The medication treats the disease'},\n",
       "  {'source': 1,\n",
       "   'target': 5,\n",
       "   'name': 'takes_medication_at',\n",
       "   'is_directed': True,\n",
       "   'description': 'The patient takes the medication at a specific time'},\n",
       "  {'source': 3,\n",
       "   'target': 6,\n",
       "   'name': 'has_dosage',\n",
       "   'is_directed': True,\n",
       "   'description': 'The medication has a specific dosage'},\n",
       "  {'source': 1,\n",
       "   'target': 7,\n",
       "   'name': 'takes_medication_frequency',\n",
       "   'is_directed': True,\n",
       "   'description': 'The patient takes the medication at a specific frequency'},\n",
       "  {'source': 1,\n",
       "   'target': 8,\n",
       "   'name': 'uses',\n",
       "   'is_directed': True,\n",
       "   'description': 'The MRI uses a specific technique'},\n",
       "  {'source': 8,\n",
       "   'target': 9,\n",
       "   'name': 'reveals',\n",
       "   'is_directed': True,\n",
       "   'description': 'The MRI reveals a lesion'},\n",
       "  {'source': 9,\n",
       "   'target': 10,\n",
       "   'name': 'located_in',\n",
       "   'is_directed': True,\n",
       "   'description': 'The lesion is located in the temporal lobe'},\n",
       "  {'source': 10,\n",
       "   'target': 11,\n",
       "   'name': 'affected_by',\n",
       "   'is_directed': True,\n",
       "   'description': 'The temporal lobe is affected by the glioma'},\n",
       "  {'source': 11,\n",
       "   'target': 12,\n",
       "   'name': 'classified_as',\n",
       "   'is_directed': True,\n",
       "   'description': 'The glioma is classified as low-grade'},\n",
       "  {'source': 1,\n",
       "   'target': 13,\n",
       "   'name': 'administers',\n",
       "   'is_directed': True,\n",
       "   'description': 'The patient is administered the medication'},\n",
       "  {'source': 1,\n",
       "   'target': 14,\n",
       "   'name': 'has_condition',\n",
       "   'is_directed': True,\n",
       "   'description': 'The patient has the condition'},\n",
       "  {'source': 13,\n",
       "   'target': 14,\n",
       "   'name': 'treats',\n",
       "   'is_directed': True,\n",
       "   'description': 'The medication treats the condition'},\n",
       "  {'source': 1,\n",
       "   'target': 15,\n",
       "   'name': 'has_condition',\n",
       "   'is_directed': True,\n",
       "   'description': 'The patient has the condition'},\n",
       "  {'source': 13,\n",
       "   'target': 16,\n",
       "   'name': 'administers_via',\n",
       "   'is_directed': True,\n",
       "   'description': 'The medication is administered via a specific method'},\n",
       "  {'source': 1,\n",
       "   'target': 17,\n",
       "   'name': 'undergoes',\n",
       "   'is_directed': True,\n",
       "   'description': 'The patient undergoes a specific process'},\n",
       "  {'source': 1,\n",
       "   'target': 18,\n",
       "   'name': 'performed',\n",
       "   'is_directed': True,\n",
       "   'description': 'The blood tests were performed'},\n",
       "  {'source': 18,\n",
       "   'target': 19,\n",
       "   'name': 'measured',\n",
       "   'is_directed': True,\n",
       "   'description': 'The ALT levels were measured'},\n",
       "  {'source': 18,\n",
       "   'target': 20,\n",
       "   'name': 'measured',\n",
       "   'is_directed': True,\n",
       "   'description': 'The AST levels were measured'},\n",
       "  {'source': 19,\n",
       "   'target': 21,\n",
       "   'name': 'indicates',\n",
       "   'is_directed': True,\n",
       "   'description': 'The elevated ALT levels indicate liver inflammation'},\n",
       "  {'source': 20,\n",
       "   'target': 21,\n",
       "   'name': 'indicates',\n",
       "   'is_directed': True,\n",
       "   'description': 'The elevated AST levels indicate liver inflammation'},\n",
       "  {'source': 1,\n",
       "   'target': 22,\n",
       "   'name': 'has_condition',\n",
       "   'is_directed': True,\n",
       "   'description': 'The patient has the condition'},\n",
       "  {'source': 22,\n",
       "   'target': 23,\n",
       "   'name': 'has_characteristic',\n",
       "   'is_directed': True,\n",
       "   'description': 'The condition has a characteristic'},\n",
       "  {'source': 22,\n",
       "   'target': 24,\n",
       "   'name': 'experiences',\n",
       "   'is_directed': True,\n",
       "   'description': 'The patient experiences the condition'},\n",
       "  {'source': 22,\n",
       "   'target': 25,\n",
       "   'name': 'undergoes',\n",
       "   'is_directed': True,\n",
       "   'description': 'The patient undergoes a treatment'},\n",
       "  {'source': 22,\n",
       "   'target': 26,\n",
       "   'name': 'takes_medication',\n",
       "   'is_directed': True,\n",
       "   'description': 'The patient takes the medication'},\n",
       "  {'source': 22,\n",
       "   'target': 27,\n",
       "   'name': 'uses',\n",
       "   'is_directed': True,\n",
       "   'description': 'The patient uses the medical imaging technique'},\n",
       "  {'source': 27,\n",
       "   'target': 28,\n",
       "   'name': 'reveals',\n",
       "   'is_directed': True,\n",
       "   'description': 'The medical imaging technique reveals the presence of a pulmonary embolism'},\n",
       "  {'source': 28,\n",
       "   'target': 29,\n",
       "   'name': 'located_in',\n",
       "   'is_directed': True,\n",
       "   'description': 'The pulmonary embolism is located in the right lower lobe'},\n",
       "  {'source': 31,\n",
       "   'target': 30,\n",
       "   'name': 'undergoes',\n",
       "   'is_directed': True,\n",
       "   'description': 'The patient undergoes the surgical procedure'},\n",
       "  {'source': 31,\n",
       "   'target': 33,\n",
       "   'name': 'includes',\n",
       "   'is_directed': True,\n",
       "   'description': 'The routine vaccination includes the MMR vaccine'},\n",
       "  {'source': 31,\n",
       "   'target': 34,\n",
       "   'name': 'includes',\n",
       "   'is_directed': True,\n",
       "   'description': 'The routine vaccination includes the tetanus vaccine'},\n",
       "  {'source': 31,\n",
       "   'target': 35,\n",
       "   'name': 'includes',\n",
       "   'is_directed': True,\n",
       "   'description': 'The routine vaccination includes the influenza vaccine'},\n",
       "  {'source': 36,\n",
       "   'target': 37,\n",
       "   'name': 'indicates',\n",
       "   'is_directed': True,\n",
       "   'description': 'The histopathology indicates the presence of DCIS'},\n",
       "  {'source': 37,\n",
       "   'target': 38,\n",
       "   'name': 'located_in',\n",
       "   'is_directed': True,\n",
       "   'description': 'The DCIS is located in the breast'},\n",
       "  {'source': 38,\n",
       "   'target': 39,\n",
       "   'name': 'sample_of',\n",
       "   'is_directed': True,\n",
       "   'description': 'The breast is a sample of tissue for examination'},\n",
       "  {'source': 40,\n",
       "   'target': 41,\n",
       "   'name': 'experiences',\n",
       "   'is_directed': True,\n",
       "   'description': 'The child experiences a cough'},\n",
       "  {'source': 40,\n",
       "   'target': 42,\n",
       "   'name': 'experiences',\n",
       "   'is_directed': True,\n",
       "   'description': 'The child experiences a fever'},\n",
       "  {'source': 40,\n",
       "   'target': 43,\n",
       "   'name': 'has_condition',\n",
       "   'is_directed': True,\n",
       "   'description': 'The child has streptococcal pharyngitis'},\n",
       "  {'source': 43,\n",
       "   'target': 44,\n",
       "   'name': 'affects',\n",
       "   'is_directed': True,\n",
       "   'description': 'The streptococcal pharyngitis affects the pharynx'},\n",
       "  {'source': 43,\n",
       "   'target': 45,\n",
       "   'name': 'caused_by',\n",
       "   'is_directed': True,\n",
       "   'description': 'The streptococcal pharyngitis is caused by streptococcus bacteria'}]}"
      ]
     },
     "execution_count": 11,
     "metadata": {},
     "output_type": "execute_result"
    }
   ],
   "source": [
    "rag.graph.dict()"
   ]
  },
  {
   "cell_type": "code",
   "execution_count": 11,
   "id": "c50e5bd4-6388-49ae-aa39-3e1cc5fc962c",
   "metadata": {},
   "outputs": [],
   "source": [
    "nodes_id_idx = rag.dataset.nodes_id_idx"
   ]
  },
  {
   "cell_type": "code",
   "execution_count": 19,
   "id": "659193a4-ed40-42ee-bb6c-aac68a664baa",
   "metadata": {},
   "outputs": [
    {
     "name": "stdout",
     "output_type": "stream",
     "text": [
      "45\n"
     ]
    },
    {
     "data": {
      "text/plain": [
       "array([ 0.00581928, -0.02819522,  0.0190266 , -0.00319721, -0.00893134])"
      ]
     },
     "execution_count": 19,
     "metadata": {},
     "output_type": "execute_result"
    }
   ],
   "source": [
    "node_embs = rag.model.entity.weight.data.cpu().numpy()\n",
    "print(len(node_embs))\n",
    "node_embs[nodes_id_idx[1]][:5]"
   ]
  },
  {
   "cell_type": "markdown",
   "id": "27d1d771-0387-4329-8c76-7f3004107d1f",
   "metadata": {},
   "source": [
    "# Create Network X Graph"
   ]
  },
  {
   "cell_type": "code",
   "execution_count": 13,
   "id": "e8da5ff7-4e73-48a1-aeea-164a9f7ede61",
   "metadata": {},
   "outputs": [],
   "source": [
    "import networkx as nx\n",
    "G = nx.Graph()"
   ]
  },
  {
   "cell_type": "code",
   "execution_count": 16,
   "id": "89f57efd-eabe-4492-91df-4b318e9ed69b",
   "metadata": {},
   "outputs": [],
   "source": [
    "G.add_nodes_from([n.id for n in rag.graph.nodes])"
   ]
  },
  {
   "cell_type": "code",
   "execution_count": 20,
   "id": "404a1916-bc80-45a7-92f0-b87a1d0e3afe",
   "metadata": {},
   "outputs": [],
   "source": [
    "edges = [(e.source, e.target) for e in rag.graph.edges]\n",
    "G.add_edges_from(edges)"
   ]
  },
  {
   "cell_type": "code",
   "execution_count": 21,
   "id": "b43bfa85-7660-491d-9af8-52204125020b",
   "metadata": {},
   "outputs": [
    {
     "data": {
      "text/plain": [
       "30"
      ]
     },
     "execution_count": 21,
     "metadata": {},
     "output_type": "execute_result"
    }
   ],
   "source": [
    "G.number_of_nodes()"
   ]
  },
  {
   "cell_type": "code",
   "execution_count": 22,
   "id": "227d1c36-c1b9-4707-ba31-3d6ccd234b9c",
   "metadata": {},
   "outputs": [
    {
     "data": {
      "text/plain": [
       "23"
      ]
     },
     "execution_count": 22,
     "metadata": {},
     "output_type": "execute_result"
    }
   ],
   "source": [
    "G.number_of_edges()"
   ]
  },
  {
   "cell_type": "code",
   "execution_count": 28,
   "id": "96d8ab22-476b-4030-b89c-a255ff5a130c",
   "metadata": {},
   "outputs": [],
   "source": [
    "personalization = {21: 1, 22: 1}\n",
    "pr = nx.pagerank(G, alpha=0.85, personalization=personalization)"
   ]
  },
  {
   "cell_type": "code",
   "execution_count": 34,
   "id": "8c22a3f6-3f69-4d64-84be-b849f6b49b3b",
   "metadata": {},
   "outputs": [
    {
     "data": {
      "text/plain": [
       "[(1, 0.40607836769153777),\n",
       " (21, 0.13252695416293836),\n",
       " (22, 0.13252695416293836),\n",
       " (3, 0.08020664145829767),\n",
       " (2, 0.057526954162938335),\n",
       " (23, 0.057526954162938335),\n",
       " (24, 0.057526954162938335),\n",
       " (4, 0.053365886787377234),\n",
       " (5, 0.02267968729535934),\n",
       " (27, 4.94942181944509e-06),\n",
       " (6, 3.2996145462967315e-06),\n",
       " (9, 3.2996145462967315e-06),\n",
       " (16, 3.2996145462967315e-06),\n",
       " (12, 1.6498072731483657e-06),\n",
       " (13, 1.6498072731483657e-06),\n",
       " (14, 1.6498072731483657e-06),\n",
       " (15, 1.6498072731483657e-06),\n",
       " (19, 1.6498072731483657e-06),\n",
       " (20, 1.6498072731483657e-06),\n",
       " (25, 1.6498072731483657e-06),\n",
       " (26, 1.6498072731483657e-06),\n",
       " (7, 8.249036365741829e-07),\n",
       " (8, 8.249036365741829e-07),\n",
       " (10, 8.249036365741829e-07),\n",
       " (11, 8.249036365741829e-07),\n",
       " (17, 8.249036365741829e-07),\n",
       " (18, 8.249036365741829e-07),\n",
       " (28, 5.49935757716121e-07),\n",
       " (29, 5.49935757716121e-07),\n",
       " (30, 5.49935757716121e-07)]"
      ]
     },
     "execution_count": 34,
     "metadata": {},
     "output_type": "execute_result"
    }
   ],
   "source": [
    "pr_sorted = sorted(pr.items(), key=lambda x: x[1], reverse=True)\n"
   ]
  },
  {
   "cell_type": "code",
   "execution_count": 29,
   "id": "cb00e4d0-1fd3-4ac4-a544-5b50b39224e5",
   "metadata": {},
   "outputs": [
    {
     "data": {
      "text/plain": [
       "{1: 0.40607836769153777,\n",
       " 2: 0.057526954162938335,\n",
       " 3: 0.08020664145829767,\n",
       " 4: 0.053365886787377234,\n",
       " 5: 0.02267968729535934,\n",
       " 6: 3.2996145462967315e-06,\n",
       " 7: 8.249036365741829e-07,\n",
       " 8: 8.249036365741829e-07,\n",
       " 9: 3.2996145462967315e-06,\n",
       " 10: 8.249036365741829e-07,\n",
       " 11: 8.249036365741829e-07,\n",
       " 12: 1.6498072731483657e-06,\n",
       " 13: 1.6498072731483657e-06,\n",
       " 14: 1.6498072731483657e-06,\n",
       " 15: 1.6498072731483657e-06,\n",
       " 16: 3.2996145462967315e-06,\n",
       " 17: 8.249036365741829e-07,\n",
       " 18: 8.249036365741829e-07,\n",
       " 19: 1.6498072731483657e-06,\n",
       " 20: 1.6498072731483657e-06,\n",
       " 21: 0.13252695416293836,\n",
       " 22: 0.13252695416293836,\n",
       " 23: 0.057526954162938335,\n",
       " 24: 0.057526954162938335,\n",
       " 25: 1.6498072731483657e-06,\n",
       " 26: 1.6498072731483657e-06,\n",
       " 27: 4.94942181944509e-06,\n",
       " 28: 5.49935757716121e-07,\n",
       " 29: 5.49935757716121e-07,\n",
       " 30: 5.49935757716121e-07}"
      ]
     },
     "execution_count": 29,
     "metadata": {},
     "output_type": "execute_result"
    }
   ],
   "source": [
    "pr"
   ]
  },
  {
   "cell_type": "code",
   "execution_count": 25,
   "id": "6fae5a23-17f9-4017-8e66-4ec15b1a4207",
   "metadata": {},
   "outputs": [
    {
     "data": {
      "text/plain": [
       "{1: 0.10465670434595327,\n",
       " 2: 0.019827111440711198,\n",
       " 3: 0.03622576628851659,\n",
       " 4: 0.03858331731416875,\n",
       " 5: 0.021398654847805402,\n",
       " 6: 0.0486480043320244,\n",
       " 7: 0.025675997833987798,\n",
       " 8: 0.025675997833987798,\n",
       " 9: 0.0486480043320244,\n",
       " 10: 0.025675997833987798,\n",
       " 11: 0.025675997833987798,\n",
       " 12: 0.03333333333333333,\n",
       " 13: 0.03333333333333333,\n",
       " 14: 0.03333333333333333,\n",
       " 15: 0.03333333333333333,\n",
       " 16: 0.0486480043320244,\n",
       " 17: 0.025675997833987798,\n",
       " 18: 0.025675997833987798,\n",
       " 19: 0.03333333333333333,\n",
       " 20: 0.03333333333333333,\n",
       " 21: 0.019827111440711198,\n",
       " 22: 0.019827111440711198,\n",
       " 23: 0.019827111440711198,\n",
       " 24: 0.019827111440711198,\n",
       " 25: 0.03333333333333333,\n",
       " 26: 0.03333333333333333,\n",
       " 27: 0.06396267533071547,\n",
       " 28: 0.02312355266753929,\n",
       " 29: 0.02312355266753929,\n",
       " 30: 0.02312355266753929}"
      ]
     },
     "execution_count": 25,
     "metadata": {},
     "output_type": "execute_result"
    }
   ],
   "source": [
    "pr"
   ]
  },
  {
   "cell_type": "markdown",
   "id": "ad94bebd-b088-486b-a580-a910dffc137d",
   "metadata": {},
   "source": [
    "# Load CurveRag modules"
   ]
  },
  {
   "cell_type": "code",
   "execution_count": 24,
   "id": "0c029ec2-751b-44ba-8f4e-a9fb92a45ac0",
   "metadata": {},
   "outputs": [
    {
     "name": "stderr",
     "output_type": "stream",
     "text": [
      "/var/folders/m6/12prs8yx2r90psgztq05hy_c0000gn/T/ipykernel_82949/2232709649.py:6: PydanticDeprecatedSince20: The `parse_file` method is deprecated; load the data from file, then if your data is JSON use `model_validate_json`, otherwise `model_validate` instead. Deprecated in Pydantic V2.0 to be removed in V3.0. See Pydantic V2 Migration Guide at https://errors.pydantic.dev/2.11/migration/\n",
      "  kg = KnowledgeGraph.parse_file(\"rag.graph.json\")\n"
     ]
    }
   ],
   "source": [
    "# load KG\n",
    "with open('rag.graph.json', 'r') as f:\n",
    "    data = json.load(f)\n",
    "\n",
    "#kg = KnowledgeGraph.construct(**data)\n",
    "kg = KnowledgeGraph.parse_file(\"rag.graph.json\")"
   ]
  },
  {
   "cell_type": "code",
   "execution_count": 23,
   "id": "aacf2cb5-8aac-4081-b9d5-cd622fd17557",
   "metadata": {},
   "outputs": [
    {
     "data": {
      "text/plain": [
       "Node(id=1, name='Patient', description='A person who is receiving medical treatment', alias=['individual', 'person'])"
      ]
     },
     "execution_count": 23,
     "metadata": {},
     "output_type": "execute_result"
    }
   ],
   "source": [
    "kg.nodes[0]"
   ]
  },
  {
   "cell_type": "code",
   "execution_count": 6,
   "id": "d7e4020d-f1da-4f8f-bff3-071c5200a7d1",
   "metadata": {},
   "outputs": [],
   "source": [
    "# load dataset\n",
    "dataset_path = './data/medical_docs'\n",
    "dataset = KGDataset(dataset_path, debug=False, name='medical_docs')"
   ]
  },
  {
   "cell_type": "code",
   "execution_count": 7,
   "id": "2db52272-500d-4f7d-988e-7711bcd11e23",
   "metadata": {},
   "outputs": [
    {
     "data": {
      "text/plain": [
       "AttH(\n",
       "  (entity): Embedding(45, 1000)\n",
       "  (rel): Embedding(48, 1000)\n",
       "  (bh): Embedding(45, 1)\n",
       "  (bt): Embedding(45, 1)\n",
       "  (rel_diag): Embedding(48, 2000)\n",
       "  (context_vec): Embedding(48, 1000)\n",
       "  (act): Softmax(dim=1)\n",
       ")"
      ]
     },
     "execution_count": 7,
     "metadata": {},
     "output_type": "execute_result"
    }
   ],
   "source": [
    "# load embeding model\n",
    "sizes = dataset.get_shape()\n",
    "embedding_model = AttH(sizes=sizes)\n",
    "model_path = '/Users/nathan/Documents/projects/curve_rag/logs/05_05/test_run/AttH_00_38_35/model.pt'\n",
    "embedding_model.load_state_dict(torch.load(model_path, weights_only=True))\n",
    "embedding_model.eval()"
   ]
  },
  {
   "cell_type": "code",
   "execution_count": null,
   "id": "7f7e6b3f-ae38-4184-8b90-8085786d354a",
   "metadata": {},
   "outputs": [],
   "source": [
    "# load llm\n",
    "max_tokens = 10000\n",
    "n_ctx=10000\n",
    "llm, outlines_model = utils.load_model(\n",
    "    llm_model_path=\"./models/Meta-Llama-3-8B-Instruct.Q6_K.gguf\",\n",
    "    tokenizer=llama_cpp.llama_tokenizer.LlamaHFTokenizer.from_pretrained(\"unsloth/Llama-3.2-1B-Instruct\"),\n",
    "    n_ctx=n_ctx,\n",
    "    max_tokens=max_tokens\n",
    ")"
   ]
  },
  {
   "cell_type": "code",
   "execution_count": 67,
   "id": "6fb1f51d-0548-44ff-b21f-f5b88ce054d9",
   "metadata": {},
   "outputs": [
    {
     "name": "stderr",
     "output_type": "stream",
     "text": [
      "Llama.generate: 6 prefix-match hit, remaining 1 prompt tokens to eval\n",
      "llama_perf_context_print:        load time =    2329.38 ms\n",
      "llama_perf_context_print: prompt eval time =       0.00 ms /     1 tokens (    0.00 ms per token,      inf tokens per second)\n",
      "llama_perf_context_print:        eval time =    5169.89 ms /    16 runs   (  323.12 ms per token,     3.09 tokens per second)\n",
      "llama_perf_context_print:       total time =    5176.08 ms /    17 tokens\n"
     ]
    }
   ],
   "source": [
    "resp = llm('Hi how are you?')"
   ]
  },
  {
   "cell_type": "code",
   "execution_count": 59,
   "id": "c591d1a1-5bb8-4c4d-b758-234ced1be527",
   "metadata": {},
   "outputs": [
    {
     "data": {
      "text/plain": [
       "\" I hope you're doing well. I am from Mexico and I am a fan\""
      ]
     },
     "execution_count": 59,
     "metadata": {},
     "output_type": "execute_result"
    }
   ],
   "source": [
    "resp['choices'][0]['text']"
   ]
  },
  {
   "cell_type": "code",
   "execution_count": 68,
   "id": "214cb55b-b12c-4181-b3a6-dc03bf8ef1ea",
   "metadata": {},
   "outputs": [
    {
     "data": {
      "application/vnd.jupyter.widget-view+json": {
       "model_id": "e6af919c9e774721818440e1e613af33",
       "version_major": 2,
       "version_minor": 0
      },
      "text/plain": [
       "Fetching 5 files:   0%|          | 0/5 [00:00<?, ?it/s]"
      ]
     },
     "metadata": {},
     "output_type": "display_data"
    }
   ],
   "source": [
    "cg = CurveRAG.load_class(\n",
    "    llm=llm,\n",
    "    outlines_llm=outlines_model,\n",
    "    entity_types=DEFAULT_ENTITY_TYPES,\n",
    "    gliner_model_name=DEFAULT_GLINER_MODEL,\n",
    "    graph=kg,\n",
    "    graph_embedding_model=embedding_model,\n",
    "    dataset=dataset,\n",
    ")"
   ]
  },
  {
   "cell_type": "code",
   "execution_count": 69,
   "id": "84c1ded9-db9e-41c2-96f2-3a4f654f6bfc",
   "metadata": {},
   "outputs": [],
   "source": [
    "entities = ['Patient', 'Diabetes Mellitus', 'Metformin', 'Type 2 Diabetes', 'Daily']"
   ]
  },
  {
   "cell_type": "code",
   "execution_count": null,
   "id": "fa2223f6-1e49-4411-95e0-648c647feed6",
   "metadata": {},
   "outputs": [
    {
     "name": "stdout",
     "output_type": "stream",
     "text": [
      "entities ['patient']\n",
      "node_ids []\n",
      "node_ids []\n",
      "\n",
      "You are a helpful assistant analyzing the given input data to provide an helpful response to the user query.\n",
      "\n",
      "# USER QUERY\n",
      "What is used to treat Diabetes Mellitus and how does can a patient use the treatment?\n",
      "\n",
      "# Context:\n",
      "KnowledgeGraph Overview\n",
      "  There are 0 entities and 0 relationships in this graph.\n",
      "\n",
      "Entities in the graph:\n",
      "\n",
      "Relationships between nodes:\n",
      "\n",
      "\n",
      "\n",
      "# INSTRUCTIONS\n",
      "Your goal is to provide a response to the user query using the relevant information in the input data:\n",
      "- the \"Entities\" and \"Relationships\" tables contain high-level information. Use these tables to identify the most important entities and relationships to respond to the query.\n",
      "- the \"Sources\" list contains raw text sources to help answer the query. It may contain noisy data, so pay attention when analyzing it.\n",
      "\n",
      "Follow these steps:\n",
      "1. Read and understand the user query.\n",
      "2. Look at the \"Entities\" and \"Relationships\" tables to get a general sense of the data and understand which information is the most relevant to answer the query.\n",
      "3. Carefully analyze all the \"Sources\" to get more detailed information. Information could be scattered across several sources, use the identified relevant entities and relationships to guide yourself through the analysis of the sources.\n",
      "4. While you write the response, you must include inline references to the all the sources you are using by appending `[<source_id>]` at the end of each sentence, where `source_id` is the corresponding source ID from the \"Sources\" list.\n",
      "5. Write the response to the user query - which must include the inline references - based on the information you have gathered. Be very concise and answer the user query directly. If the response cannot be inferred from the input data, just say no relevant information was found. Do not make anything up or add unrelevant information.\n",
      "\n",
      "Answer:\n",
      "\n"
     ]
    },
    {
     "name": "stderr",
     "output_type": "stream",
     "text": [
      "Llama.generate: 370 prefix-match hit, remaining 1 prompt tokens to eval\n"
     ]
    }
   ],
   "source": [
    "query = \"What is used to treat Diabetes Mellitus and how does can a patient use the treatment?\"\n",
    "cg.query(query, max_tokens=1000)"
   ]
  },
  {
   "cell_type": "code",
   "execution_count": 86,
   "id": "61ba90fc-b495-4fa1-a1ee-b02effbb4de0",
   "metadata": {},
   "outputs": [
    {
     "name": "stderr",
     "output_type": "stream",
     "text": [
      "Llama.generate: 10 prefix-match hit, remaining 10 prompt tokens to eval\n",
      "llama_perf_context_print:        load time =    3865.92 ms\n",
      "llama_perf_context_print: prompt eval time =    1877.04 ms /    10 tokens (  187.70 ms per token,     5.33 tokens per second)\n",
      "llama_perf_context_print:        eval time =   51397.43 ms /   999 runs   (   51.45 ms per token,    19.44 tokens per second)\n",
      "llama_perf_context_print:       total time =   54751.37 ms /  1009 tokens\n"
     ]
    },
    {
     "data": {
      "text/plain": [
       "\" (2023)\\nWhat is Diabetes Mellitus?\\nDiabetes Mellitus, commonly referred to as diabetes, is a metabolic disorder that affects the way the body regulates blood sugar levels. There are several types of diabetes, but the most common ones are:\\nType 1 diabetes: An autoimmune disease where the body's immune system attacks and destroys the cells in the pancreas that produce insulin, a hormone that regulates blood sugar levels.\\nType 2 diabetes: A condition where the body becomes resistant to insulin, making it difficult for the body to use insulin effectively.\\nGestational diabetes: A type of diabetes that develops during pregnancy due to hormonal changes.\\nWhat are the symptoms of Diabetes Mellitus?\\nThe symptoms of diabetes can vary from person to person, but common signs and symptoms include:\\nIncreased thirst and urination\\nFatigue and weakness\\nBlurred vision\\nSlow healing of cuts and wounds\\n Tingling or numbness in the hands and feet\\nHow is Diabetes Mellitus treated?\\nThe treatment for diabetes depends on the type of diabetes and the individual's overall health. The primary goal of treatment is to regulate blood sugar levels and prevent complications. Here are some common treatments for diabetes:\\nMedications:\\nInsulin therapy: Injecting insulin to help regulate blood sugar levels.\\nOral medications: Tablets or capsules that help the body produce more insulin or make the body more sensitive to insulin.\\nMetformin: A medication that helps the body use insulin more effectively.\\nGLP-1 receptor agonists: Medications that stimulate the release of insulin and slow the release of glucose from the liver.\\nSGLT2 inhibitors: Medications that help the kidneys remove excess glucose from the urine.\\nLifestyle changes:\\nDietary changes: Eating a balanced diet that is low in sugar, salt, and fat.\\nPhysical activity: Engaging in regular physical activity to help regulate blood sugar levels.\\nWeight management: Maintaining a healthy weight through a combination of diet and exercise.\\nMonitoring blood sugar levels: Regularly checking blood sugar levels to ensure they are within a healthy range.\\nHow can a patient use the treatment?\\nTo effectively manage their diabetes, patients can follow these steps:\\n1. Work with a healthcare provider: Patients should consult with a healthcare provider to develop a personalized treatment plan that takes into account their type of diabetes, lifestyle, and other health conditions.\\n2. Monitor blood sugar levels: Patients should regularly check their blood sugar levels to ensure they are within a healthy range.\\n3. Take medications as prescribed: Patients should take their medications as directed by their healthcare provider to regulate blood sugar levels.\\n4. Make lifestyle changes: Patients should make dietary and physical activity changes to help regulate blood sugar levels and manage their overall health.\\n5. Attend regular follow-up appointments: Patients should attend regular follow-up appointments with their healthcare provider to monitor their progress and make any necessary adjustments to their treatment plan.\\n6. Educate themselves: Patients should educate themselves about diabetes and its management to make informed decisions about their care.\\n7. Keep track of progress: Patients should keep track of their progress, including blood sugar levels, medication adherence, and any changes in their health to share with their healthcare provider.\\nBy following these steps, patients with diabetes can effectively manage their condition and reduce the risk of complications. It is essential to work closely with a healthcare provider to develop a personalized treatment plan that addresses their unique needs and health goals. (Source: American Diabetes Association, Mayo Clinic, and MedlinePlus)\\nHow to Manage Your Diabetes with Medications?\\nManaging diabetes requires a combination of lifestyle changes and medications. Here are some tips to help you manage your diabetes with medications:\\n1. Take your medications as directed: Take your medications at the same time every day, as prescribed by your healthcare provider.\\n2. Monitor your blood sugar levels: Regularly check your blood sugar levels to ensure your medications are working effectively.\\n3. Keep track of your medication schedule: Use a pill box or mobile app to keep track of your medication schedule.\\n4. Adjust your medications as needed: If your blood sugar levels are not within a healthy range, your healthcare provider may adjust your medications.\\n5. Don't skip doses: Don't skip doses or stop taking your medications without consulting your healthcare provider.\\n6. Combine medications with lifestyle changes: Combine your medications with lifestyle changes such as diet and exercise to achieve better blood sugar control.\\n7. Communicate with your healthcare provider: Communicate with your healthcare provider about any concerns or questions you have about your medications or diabetes management.\\nRemember, managing diabetes requires a team effort between you, your healthcare provider, and your medications. By following these tips, you can effectively manage your diabetes and reduce the risk of complications. (Source: American Diabetes Association, Mayo Clinic, and MedlinePlus) (2023) What are some common medications used to treat Diabetes Mellitus?\\nSome common medications used to treat diabetes mellitus include:\\n1. Insulin: Injected insulin to help regulate blood sugar levels.\\n2\""
      ]
     },
     "execution_count": 86,
     "metadata": {},
     "output_type": "execute_result"
    }
   ],
   "source": [
    "llm2(\"What is used to treat Diabetes Mellitus and how does can a patient use the treatment?\",  max_tokens=1000)['choices'][0]['text']"
   ]
  },
  {
   "cell_type": "code",
   "execution_count": null,
   "id": "9b63202b-6159-40af-b7ee-9615cbc9997a",
   "metadata": {},
   "outputs": [],
   "source": [
    "from llama_cpp import Llama\n",
    "llm2 = Llama(\n",
    "        model_path=\"./models/Meta-Llama-3-8B-Instruct.Q6_K.gguf\",\n",
    "        tokenizer=llama_cpp.llama_tokenizer.LlamaHFTokenizer.from_pretrained(\"unsloth/Llama-3.2-1B-Instruct\"),\n",
    "        n_ctx=n_ctx,\n",
    "        max_tokens=max_tokens\n",
    "    )"
   ]
  }
 ],
 "metadata": {
  "kernelspec": {
   "display_name": "Python 3 (ipykernel)",
   "language": "python",
   "name": "python3"
  },
  "language_info": {
   "codemirror_mode": {
    "name": "ipython",
    "version": 3
   },
   "file_extension": ".py",
   "mimetype": "text/x-python",
   "name": "python",
   "nbconvert_exporter": "python",
   "pygments_lexer": "ipython3",
   "version": "3.10.11"
  }
 },
 "nbformat": 4,
 "nbformat_minor": 5
}
