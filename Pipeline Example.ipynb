{
 "cells": [
  {
   "cell_type": "code",
   "execution_count": 1,
   "id": "e7554f5f-4846-401f-b552-7d3a4913abc9",
   "metadata": {},
   "outputs": [],
   "source": [
    "%load_ext autoreload\n",
    "%autoreload 2"
   ]
  },
  {
   "cell_type": "code",
   "execution_count": 4,
   "id": "75d44625-276b-4a71-8579-a863dfdd386a",
   "metadata": {},
   "outputs": [],
   "source": [
    "import json\n",
    "\n",
    "import llama_cpp\n",
    "import torch\n",
    "\n",
    "from curverag import utils\n",
    "from curverag.curverag import CurveRAG, DEFAULT_ENTITY_TYPES, DEFAULT_GLINER_MODEL\n",
    "from curverag.graph import KnowledgeGraph\n",
    "from curverag.atth.kg_dataset import KGDataset\n",
    "from curverag.atth.models.hyperbolic import AttH"
   ]
  },
  {
   "cell_type": "markdown",
   "id": "b54db7ac-f8fc-4e93-9856-d9095cb83b3b",
   "metadata": {},
   "source": [
    "## Dataset and LLM"
   ]
  },
  {
   "cell_type": "code",
   "execution_count": 6,
   "id": "1d1b1091-7820-423a-9515-55de2e82e6c7",
   "metadata": {},
   "outputs": [],
   "source": [
    "max_tokens = 10000\n",
    "n_ctx=10000\n",
    "\n",
    "docs = [\n",
    "    \"The patient was diagnosed with type 2 diabetes mellitus and prescribed metformin 500mg twice daily.\",\n",
    "    \"MRI scan revealed a small lesion in the left temporal lobe suggestive of low-grade glioma.\",\n",
    "    \"Administer 5mg of lorazepam intravenously for acute seizure management.\",\n",
    "    \"Blood tests showed elevated ALT and AST levels, indicating possible liver inflammation.\",\n",
    "    \"The subject reported chronic lower back pain, managed with physical therapy and NSAIDs.\",\n",
    "    \"CT angiography confirmed the presence of a pulmonary embolism in the right lower lobe.\",\n",
    "    \"The patient underwent coronary artery bypass graft surgery without complications.\",\n",
    "    \"Routine vaccination included MMR, tetanus, and influenza immunizations.\",\n",
    "    \"Histopathology indicated ductal carcinoma in situ (DCIS) in the breast biopsy sample.\",\n",
    "    \"The child presented with a persistent cough and fever, diagnosed as streptococcal pharyngitis.\"\n",
    "]\n"
   ]
  },
  {
   "cell_type": "code",
   "execution_count": null,
   "id": "f39d7da3-c3b7-4455-8bd3-97b50120dbb8",
   "metadata": {},
   "outputs": [],
   "source": [
    "model = utils.load_model(\n",
    "    llm_model_path=\"./models/Meta-Llama-3-8B-Instruct.Q6_K.gguf\",\n",
    "    tokenizer=llama_cpp.llama_tokenizer.LlamaHFTokenizer.from_pretrained(\"unsloth/Llama-3.2-1B-Instruct\"),\n",
    "    n_ctx=n_ctx,\n",
    "    max_tokens=max_tokens\n",
    ")"
   ]
  },
  {
   "cell_type": "markdown",
   "id": "355f6a39-77a2-41ef-8901-624096fdca7f",
   "metadata": {
    "jp-MarkdownHeadingCollapsed": true
   },
   "source": [
    "## Fit CurveRAG"
   ]
  },
  {
   "cell_type": "code",
   "execution_count": 8,
   "id": "c65c2378-fa13-429f-85ab-96daa2b6117a",
   "metadata": {},
   "outputs": [
    {
     "data": {
      "application/vnd.jupyter.widget-view+json": {
       "model_id": "3b60aa2951144cdb85f18b6fad029453",
       "version_major": 2,
       "version_minor": 0
      },
      "text/plain": [
       "Fetching 5 files:   0%|          | 0/5 [00:00<?, ?it/s]"
      ]
     },
     "metadata": {},
     "output_type": "display_data"
    },
    {
     "data": {
      "application/vnd.jupyter.widget-view+json": {
       "model_id": "83c7dd8cf00744f19797d3522eb46071",
       "version_major": 2,
       "version_minor": 0
      },
      "text/plain": [
       "gliner_config.json:   0%|          | 0.00/476 [00:00<?, ?B/s]"
      ]
     },
     "metadata": {},
     "output_type": "display_data"
    },
    {
     "data": {
      "application/vnd.jupyter.widget-view+json": {
       "model_id": "3ddb5862bfea43e48d287573ae20c9ce",
       "version_major": 2,
       "version_minor": 0
      },
      "text/plain": [
       ".gitattributes:   0%|          | 0.00/1.52k [00:00<?, ?B/s]"
      ]
     },
     "metadata": {},
     "output_type": "display_data"
    },
    {
     "data": {
      "application/vnd.jupyter.widget-view+json": {
       "model_id": "e3db668e326843ebbfb01d07efe940ac",
       "version_major": 2,
       "version_minor": 0
      },
      "text/plain": [
       "pytorch_model.bin:   0%|          | 0.00/781M [00:00<?, ?B/s]"
      ]
     },
     "metadata": {},
     "output_type": "display_data"
    },
    {
     "data": {
      "application/vnd.jupyter.widget-view+json": {
       "model_id": "c6cc437066374522aa463a293aecc1db",
       "version_major": 2,
       "version_minor": 0
      },
      "text/plain": [
       "model.safetensors:   0%|          | 0.00/781M [00:00<?, ?B/s]"
      ]
     },
     "metadata": {},
     "output_type": "display_data"
    },
    {
     "data": {
      "application/vnd.jupyter.widget-view+json": {
       "model_id": "b005792305a24b968b9e6f5b19e1fdc9",
       "version_major": 2,
       "version_minor": 0
      },
      "text/plain": [
       "README.md:   0%|          | 0.00/4.76k [00:00<?, ?B/s]"
      ]
     },
     "metadata": {},
     "output_type": "display_data"
    },
    {
     "data": {
      "application/vnd.jupyter.widget-view+json": {
       "model_id": "93d70e21a63e4cbc8a2af9f8acaee90f",
       "version_major": 2,
       "version_minor": 0
      },
      "text/plain": [
       "tokenizer_config.json:   0%|          | 0.00/52.0 [00:00<?, ?B/s]"
      ]
     },
     "metadata": {},
     "output_type": "display_data"
    },
    {
     "data": {
      "application/vnd.jupyter.widget-view+json": {
       "model_id": "f765e2432089466ea83e0a53895ecbbc",
       "version_major": 2,
       "version_minor": 0
      },
      "text/plain": [
       "config.json:   0%|          | 0.00/579 [00:00<?, ?B/s]"
      ]
     },
     "metadata": {},
     "output_type": "display_data"
    },
    {
     "data": {
      "application/vnd.jupyter.widget-view+json": {
       "model_id": "be60258840f945a3b70b7b4bfda1a60c",
       "version_major": 2,
       "version_minor": 0
      },
      "text/plain": [
       "spm.model:   0%|          | 0.00/2.46M [00:00<?, ?B/s]"
      ]
     },
     "metadata": {},
     "output_type": "display_data"
    },
    {
     "name": "stderr",
     "output_type": "stream",
     "text": [
      "/Users/nathan/Documents/projects/curve_rag/.venv/lib/python3.10/site-packages/transformers/convert_slow_tokenizer.py:559: UserWarning: The sentencepiece tokenizer that you are converting to a fast tokenizer uses the byte fallback option which is not implemented in the fast tokenizers. In practice this means that the fast version of the tokenizer can produce unknown tokens whereas the sentencepiece version would have converted these unknown tokens into a sequence of byte tokens matching the original piece of text.\n",
      "  warnings.warn(\n"
     ]
    }
   ],
   "source": [
    "rag = CurveRAG(llm=model)"
   ]
  },
  {
   "cell_type": "code",
   "execution_count": null,
   "id": "eaa03b50-b55a-4abc-994f-df570c791796",
   "metadata": {},
   "outputs": [],
   "source": [
    "rag.fit(docs, dataset_name='test_run')"
   ]
  },
  {
   "cell_type": "code",
   "execution_count": 10,
   "id": "4afc5868-24d8-40be-a861-d5921c9793d1",
   "metadata": {},
   "outputs": [
    {
     "data": {
      "text/plain": [
       "45"
      ]
     },
     "execution_count": 10,
     "metadata": {},
     "output_type": "execute_result"
    }
   ],
   "source": [
    "len(rag.graph.nodes)"
   ]
  },
  {
   "cell_type": "code",
   "execution_count": 13,
   "id": "1d42c46e-319d-4fa3-94c0-3a7bd0ed520a",
   "metadata": {},
   "outputs": [
    {
     "name": "stderr",
     "output_type": "stream",
     "text": [
      "/var/folders/m6/12prs8yx2r90psgztq05hy_c0000gn/T/ipykernel_69670/946862156.py:3: PydanticDeprecatedSince20: The `dict` method is deprecated; use `model_dump` instead. Deprecated in Pydantic V2.0 to be removed in V3.0. See Pydantic V2 Migration Guide at https://errors.pydantic.dev/2.11/migration/\n",
      "  json.dump(rag.graph.dict(), f, indent=4)\n"
     ]
    }
   ],
   "source": [
    "import json\n",
    "with open('rag.graph.json', 'w') as f:\n",
    "    json.dump(rag.graph.dict(), f, indent=4)"
   ]
  },
  {
   "cell_type": "code",
   "execution_count": 15,
   "id": "ec75d2c2-9e8e-418c-90c8-df9791a38dd2",
   "metadata": {},
   "outputs": [
    {
     "name": "stderr",
     "output_type": "stream",
     "text": [
      "/var/folders/m6/12prs8yx2r90psgztq05hy_c0000gn/T/ipykernel_69670/3214747748.py:5: PydanticDeprecatedSince20: The `construct` method is deprecated; use `model_construct` instead. Deprecated in Pydantic V2.0 to be removed in V3.0. See Pydantic V2 Migration Guide at https://errors.pydantic.dev/2.11/migration/\n",
      "  kg = KnowledgeGraph.construct(**data)\n"
     ]
    }
   ],
   "source": []
  },
  {
   "cell_type": "code",
   "execution_count": 18,
   "id": "53cbe739-3424-4bc7-8a10-70542b83de72",
   "metadata": {},
   "outputs": [
    {
     "data": {
      "text/plain": [
       "[{'id': 1,\n",
       "  'name': 'Patient',\n",
       "  'description': 'A person who is receiving medical treatment',\n",
       "  'alias': ['individual', 'person']},\n",
       " {'id': 2,\n",
       "  'name': 'Diabetes Mellitus',\n",
       "  'description': 'A group of metabolic disorders characterized by high blood sugar levels',\n",
       "  'alias': ['diabetes', 'DM']},\n",
       " {'id': 3,\n",
       "  'name': 'Metformin',\n",
       "  'description': 'A medication used to treat type 2 diabetes',\n",
       "  'alias': ['glucophage', 'metformin hydrochloride']},\n",
       " {'id': 4,\n",
       "  'name': 'Type 2 Diabetes',\n",
       "  'description': 'A type of diabetes that is caused by insulin resistance and impaired insulin secretion',\n",
       "  'alias': ['T2D', 'non-insulin-dependent diabetes']},\n",
       " {'id': 5,\n",
       "  'name': 'Daily',\n",
       "  'description': 'A unit of time',\n",
       "  'alias': ['day', '24 hours']},\n",
       " {'id': 6,\n",
       "  'name': '500mg',\n",
       "  'description': 'A dosage of medication',\n",
       "  'alias': ['half a gram', '0.5 grams']},\n",
       " {'id': 7,\n",
       "  'name': 'Twice',\n",
       "  'description': 'A frequency of medication administration',\n",
       "  'alias': ['every 12 hours', 'b.i.d.']},\n",
       " {'id': 8,\n",
       "  'name': 'MRI',\n",
       "  'description': 'A medical imaging technique',\n",
       "  'alias': ['magnetic resonance imaging']},\n",
       " {'id': 9,\n",
       "  'name': 'Lesion',\n",
       "  'description': 'An abnormality in the tissue',\n",
       "  'alias': ['lesion', 'abnormality']},\n",
       " {'id': 10,\n",
       "  'name': 'Temporal lobe',\n",
       "  'description': 'A part of the brain',\n",
       "  'alias': ['temporal', 'lobe']},\n",
       " {'id': 11,\n",
       "  'name': 'Glioma',\n",
       "  'description': 'A type of brain tumor',\n",
       "  'alias': ['glioma', 'brain tumor']},\n",
       " {'id': 12,\n",
       "  'name': 'Low-grade',\n",
       "  'description': 'A classification of glioma',\n",
       "  'alias': ['low grade', 'grade 1']},\n",
       " {'id': 13,\n",
       "  'name': 'Lorazepam',\n",
       "  'description': 'A medication used to treat anxiety and seizures',\n",
       "  'alias': ['lorazepam', 'ativan']},\n",
       " {'id': 14,\n",
       "  'name': 'Seizure',\n",
       "  'description': 'A sudden, uncontrolled electrical discharge of the brain',\n",
       "  'alias': ['seizure', 'convulsion']},\n",
       " {'id': 15,\n",
       "  'name': 'Acute',\n",
       "  'description': 'A sudden and severe condition',\n",
       "  'alias': ['acute', 'sudden']},\n",
       " {'id': 16,\n",
       "  'name': 'Intravenous',\n",
       "  'description': 'A method of administering medication',\n",
       "  'alias': ['iv', 'intravenous']},\n",
       " {'id': 17,\n",
       "  'name': 'Management',\n",
       "  'description': 'The process of controlling or treating a condition',\n",
       "  'alias': ['management', 'treatment']},\n",
       " {'id': 18,\n",
       "  'name': 'Blood tests',\n",
       "  'description': 'A medical examination of the blood',\n",
       "  'alias': ['blood test', 'blood examination']},\n",
       " {'id': 19,\n",
       "  'name': 'ALT',\n",
       "  'description': 'An enzyme in the liver',\n",
       "  'alias': ['alanine aminotransferase', 'ALT enzyme']},\n",
       " {'id': 20,\n",
       "  'name': 'AST',\n",
       "  'description': 'An enzyme in the liver',\n",
       "  'alias': ['aspartate aminotransferase', 'AST enzyme']},\n",
       " {'id': 21,\n",
       "  'name': 'Liver inflammation',\n",
       "  'description': 'An inflammation of the liver',\n",
       "  'alias': ['liver inflammation', 'hepatitis']},\n",
       " {'id': 22,\n",
       "  'name': 'Subject',\n",
       "  'description': 'A person who is receiving medical treatment',\n",
       "  'alias': ['patient', 'individual']},\n",
       " {'id': 23,\n",
       "  'name': 'Chronic',\n",
       "  'description': 'A long-term condition',\n",
       "  'alias': ['long-term', 'persistent']},\n",
       " {'id': 24,\n",
       "  'name': 'Lower back pain',\n",
       "  'description': 'A type of pain',\n",
       "  'alias': ['back pain', 'lumbar pain']},\n",
       " {'id': 25,\n",
       "  'name': 'Physical therapy',\n",
       "  'description': 'A type of treatment',\n",
       "  'alias': ['PT', 'physical therapy']},\n",
       " {'id': 26,\n",
       "  'name': 'NSAIDs',\n",
       "  'description': 'A type of medication',\n",
       "  'alias': ['nonsteroidal anti-inflammatory drugs', 'pain relievers']},\n",
       " {'id': 27,\n",
       "  'name': 'CT angiography',\n",
       "  'description': 'A medical imaging technique',\n",
       "  'alias': ['CTA', 'computed tomography angiography']},\n",
       " {'id': 28,\n",
       "  'name': 'Pulmonary embolism',\n",
       "  'description': 'A blockage of the pulmonary artery',\n",
       "  'alias': ['PE', 'pulmonary thromboembolism']},\n",
       " {'id': 29,\n",
       "  'name': 'Right lower lobe',\n",
       "  'description': 'A part of the lung',\n",
       "  'alias': ['RLL', 'right lower lobe of the lung']},\n",
       " {'id': 30,\n",
       "  'name': 'Coronary Artery Bypass Graft Surgery',\n",
       "  'description': 'A surgical procedure to bypass blocked coronary arteries',\n",
       "  'alias': ['CABG', 'coronary bypass surgery']},\n",
       " {'id': 32,\n",
       "  'name': 'Complication',\n",
       "  'description': 'An adverse event that occurs during or after a medical treatment',\n",
       "  'alias': ['adverse event', 'complication']},\n",
       " {'id': 31,\n",
       "  'name': 'Routine vaccination',\n",
       "  'description': 'A regular vaccination schedule',\n",
       "  'alias': ['routine vaccination', 'immunization']},\n",
       " {'id': 33,\n",
       "  'name': 'MMR',\n",
       "  'description': 'A type of vaccine',\n",
       "  'alias': ['measles, mumps, rubella', 'measles, mumps, rubella vaccine']},\n",
       " {'id': 34,\n",
       "  'name': 'Tetanus',\n",
       "  'description': 'A type of vaccine',\n",
       "  'alias': ['tetanus vaccine', 'tetanus toxoid']},\n",
       " {'id': 35,\n",
       "  'name': 'Influenza',\n",
       "  'description': 'A type of vaccine',\n",
       "  'alias': ['influenza vaccine', 'flu vaccine']},\n",
       " {'id': 36,\n",
       "  'name': 'Histopathology',\n",
       "  'description': 'The study of the microscopic structure of tissues',\n",
       "  'alias': ['histopathology', 'microscopic examination']},\n",
       " {'id': 37,\n",
       "  'name': 'Ductal Carcinoma In Situ',\n",
       "  'description': 'A type of breast cancer',\n",
       "  'alias': ['DCIS', 'ductal carcinoma in situ', 'breast cancer']},\n",
       " {'id': 38,\n",
       "  'name': 'Breast',\n",
       "  'description': 'The organ responsible for milk production in females',\n",
       "  'alias': ['breast', 'mammary gland']},\n",
       " {'id': 39,\n",
       "  'name': 'Biopsy',\n",
       "  'description': 'A medical procedure to remove a sample of tissue for examination',\n",
       "  'alias': ['biopsy', 'tissue sample']},\n",
       " {'id': 40,\n",
       "  'name': 'Child',\n",
       "  'description': 'A young human being',\n",
       "  'alias': ['young person', 'juvenile']},\n",
       " {'id': 41,\n",
       "  'name': 'Cough',\n",
       "  'description': 'A sudden and involuntary expulsion of air from the lungs',\n",
       "  'alias': ['coughing', 'coughs']},\n",
       " {'id': 42,\n",
       "  'name': 'Fever',\n",
       "  'description': 'An elevated body temperature',\n",
       "  'alias': ['feverish', 'febrile']},\n",
       " {'id': 43,\n",
       "  'name': 'Streptococcal Pharyngitis',\n",
       "  'description': 'An infection of the pharynx caused by streptococcal bacteria',\n",
       "  'alias': ['strep throat', 'pharyngitis']},\n",
       " {'id': 44,\n",
       "  'name': 'Pharynx',\n",
       "  'description': 'The part of the throat that connects the nose and mouth',\n",
       "  'alias': ['throat', 'pharynx']},\n",
       " {'id': 45,\n",
       "  'name': 'Streptococcus',\n",
       "  'description': 'A type of bacteria',\n",
       "  'alias': ['strep', 'streptococcus']}]"
      ]
     },
     "execution_count": 18,
     "metadata": {},
     "output_type": "execute_result"
    }
   ],
   "source": [
    "kg.nodes"
   ]
  },
  {
   "cell_type": "code",
   "execution_count": 11,
   "id": "d4f1a67e-0279-4f51-a26b-11df42055540",
   "metadata": {},
   "outputs": [
    {
     "name": "stderr",
     "output_type": "stream",
     "text": [
      "/var/folders/m6/12prs8yx2r90psgztq05hy_c0000gn/T/ipykernel_69670/774845048.py:1: PydanticDeprecatedSince20: The `dict` method is deprecated; use `model_dump` instead. Deprecated in Pydantic V2.0 to be removed in V3.0. See Pydantic V2 Migration Guide at https://errors.pydantic.dev/2.11/migration/\n",
      "  rag.graph.dict()\n"
     ]
    },
    {
     "data": {
      "text/plain": [
       "{'nodes': [{'id': 1,\n",
       "   'name': 'Patient',\n",
       "   'description': 'A person who is receiving medical treatment',\n",
       "   'alias': ['individual', 'person']},\n",
       "  {'id': 2,\n",
       "   'name': 'Diabetes Mellitus',\n",
       "   'description': 'A group of metabolic disorders characterized by high blood sugar levels',\n",
       "   'alias': ['diabetes', 'DM']},\n",
       "  {'id': 3,\n",
       "   'name': 'Metformin',\n",
       "   'description': 'A medication used to treat type 2 diabetes',\n",
       "   'alias': ['glucophage', 'metformin hydrochloride']},\n",
       "  {'id': 4,\n",
       "   'name': 'Type 2 Diabetes',\n",
       "   'description': 'A type of diabetes that is caused by insulin resistance and impaired insulin secretion',\n",
       "   'alias': ['T2D', 'non-insulin-dependent diabetes']},\n",
       "  {'id': 5,\n",
       "   'name': 'Daily',\n",
       "   'description': 'A unit of time',\n",
       "   'alias': ['day', '24 hours']},\n",
       "  {'id': 6,\n",
       "   'name': '500mg',\n",
       "   'description': 'A dosage of medication',\n",
       "   'alias': ['half a gram', '0.5 grams']},\n",
       "  {'id': 7,\n",
       "   'name': 'Twice',\n",
       "   'description': 'A frequency of medication administration',\n",
       "   'alias': ['every 12 hours', 'b.i.d.']},\n",
       "  {'id': 8,\n",
       "   'name': 'MRI',\n",
       "   'description': 'A medical imaging technique',\n",
       "   'alias': ['magnetic resonance imaging']},\n",
       "  {'id': 9,\n",
       "   'name': 'Lesion',\n",
       "   'description': 'An abnormality in the tissue',\n",
       "   'alias': ['lesion', 'abnormality']},\n",
       "  {'id': 10,\n",
       "   'name': 'Temporal lobe',\n",
       "   'description': 'A part of the brain',\n",
       "   'alias': ['temporal', 'lobe']},\n",
       "  {'id': 11,\n",
       "   'name': 'Glioma',\n",
       "   'description': 'A type of brain tumor',\n",
       "   'alias': ['glioma', 'brain tumor']},\n",
       "  {'id': 12,\n",
       "   'name': 'Low-grade',\n",
       "   'description': 'A classification of glioma',\n",
       "   'alias': ['low grade', 'grade 1']},\n",
       "  {'id': 13,\n",
       "   'name': 'Lorazepam',\n",
       "   'description': 'A medication used to treat anxiety and seizures',\n",
       "   'alias': ['lorazepam', 'ativan']},\n",
       "  {'id': 14,\n",
       "   'name': 'Seizure',\n",
       "   'description': 'A sudden, uncontrolled electrical discharge of the brain',\n",
       "   'alias': ['seizure', 'convulsion']},\n",
       "  {'id': 15,\n",
       "   'name': 'Acute',\n",
       "   'description': 'A sudden and severe condition',\n",
       "   'alias': ['acute', 'sudden']},\n",
       "  {'id': 16,\n",
       "   'name': 'Intravenous',\n",
       "   'description': 'A method of administering medication',\n",
       "   'alias': ['iv', 'intravenous']},\n",
       "  {'id': 17,\n",
       "   'name': 'Management',\n",
       "   'description': 'The process of controlling or treating a condition',\n",
       "   'alias': ['management', 'treatment']},\n",
       "  {'id': 18,\n",
       "   'name': 'Blood tests',\n",
       "   'description': 'A medical examination of the blood',\n",
       "   'alias': ['blood test', 'blood examination']},\n",
       "  {'id': 19,\n",
       "   'name': 'ALT',\n",
       "   'description': 'An enzyme in the liver',\n",
       "   'alias': ['alanine aminotransferase', 'ALT enzyme']},\n",
       "  {'id': 20,\n",
       "   'name': 'AST',\n",
       "   'description': 'An enzyme in the liver',\n",
       "   'alias': ['aspartate aminotransferase', 'AST enzyme']},\n",
       "  {'id': 21,\n",
       "   'name': 'Liver inflammation',\n",
       "   'description': 'An inflammation of the liver',\n",
       "   'alias': ['liver inflammation', 'hepatitis']},\n",
       "  {'id': 22,\n",
       "   'name': 'Subject',\n",
       "   'description': 'A person who is receiving medical treatment',\n",
       "   'alias': ['patient', 'individual']},\n",
       "  {'id': 23,\n",
       "   'name': 'Chronic',\n",
       "   'description': 'A long-term condition',\n",
       "   'alias': ['long-term', 'persistent']},\n",
       "  {'id': 24,\n",
       "   'name': 'Lower back pain',\n",
       "   'description': 'A type of pain',\n",
       "   'alias': ['back pain', 'lumbar pain']},\n",
       "  {'id': 25,\n",
       "   'name': 'Physical therapy',\n",
       "   'description': 'A type of treatment',\n",
       "   'alias': ['PT', 'physical therapy']},\n",
       "  {'id': 26,\n",
       "   'name': 'NSAIDs',\n",
       "   'description': 'A type of medication',\n",
       "   'alias': ['nonsteroidal anti-inflammatory drugs', 'pain relievers']},\n",
       "  {'id': 27,\n",
       "   'name': 'CT angiography',\n",
       "   'description': 'A medical imaging technique',\n",
       "   'alias': ['CTA', 'computed tomography angiography']},\n",
       "  {'id': 28,\n",
       "   'name': 'Pulmonary embolism',\n",
       "   'description': 'A blockage of the pulmonary artery',\n",
       "   'alias': ['PE', 'pulmonary thromboembolism']},\n",
       "  {'id': 29,\n",
       "   'name': 'Right lower lobe',\n",
       "   'description': 'A part of the lung',\n",
       "   'alias': ['RLL', 'right lower lobe of the lung']},\n",
       "  {'id': 30,\n",
       "   'name': 'Coronary Artery Bypass Graft Surgery',\n",
       "   'description': 'A surgical procedure to bypass blocked coronary arteries',\n",
       "   'alias': ['CABG', 'coronary bypass surgery']},\n",
       "  {'id': 32,\n",
       "   'name': 'Complication',\n",
       "   'description': 'An adverse event that occurs during or after a medical treatment',\n",
       "   'alias': ['adverse event', 'complication']},\n",
       "  {'id': 31,\n",
       "   'name': 'Routine vaccination',\n",
       "   'description': 'A regular vaccination schedule',\n",
       "   'alias': ['routine vaccination', 'immunization']},\n",
       "  {'id': 33,\n",
       "   'name': 'MMR',\n",
       "   'description': 'A type of vaccine',\n",
       "   'alias': ['measles, mumps, rubella', 'measles, mumps, rubella vaccine']},\n",
       "  {'id': 34,\n",
       "   'name': 'Tetanus',\n",
       "   'description': 'A type of vaccine',\n",
       "   'alias': ['tetanus vaccine', 'tetanus toxoid']},\n",
       "  {'id': 35,\n",
       "   'name': 'Influenza',\n",
       "   'description': 'A type of vaccine',\n",
       "   'alias': ['influenza vaccine', 'flu vaccine']},\n",
       "  {'id': 36,\n",
       "   'name': 'Histopathology',\n",
       "   'description': 'The study of the microscopic structure of tissues',\n",
       "   'alias': ['histopathology', 'microscopic examination']},\n",
       "  {'id': 37,\n",
       "   'name': 'Ductal Carcinoma In Situ',\n",
       "   'description': 'A type of breast cancer',\n",
       "   'alias': ['DCIS', 'ductal carcinoma in situ', 'breast cancer']},\n",
       "  {'id': 38,\n",
       "   'name': 'Breast',\n",
       "   'description': 'The organ responsible for milk production in females',\n",
       "   'alias': ['breast', 'mammary gland']},\n",
       "  {'id': 39,\n",
       "   'name': 'Biopsy',\n",
       "   'description': 'A medical procedure to remove a sample of tissue for examination',\n",
       "   'alias': ['biopsy', 'tissue sample']},\n",
       "  {'id': 40,\n",
       "   'name': 'Child',\n",
       "   'description': 'A young human being',\n",
       "   'alias': ['young person', 'juvenile']},\n",
       "  {'id': 41,\n",
       "   'name': 'Cough',\n",
       "   'description': 'A sudden and involuntary expulsion of air from the lungs',\n",
       "   'alias': ['coughing', 'coughs']},\n",
       "  {'id': 42,\n",
       "   'name': 'Fever',\n",
       "   'description': 'An elevated body temperature',\n",
       "   'alias': ['feverish', 'febrile']},\n",
       "  {'id': 43,\n",
       "   'name': 'Streptococcal Pharyngitis',\n",
       "   'description': 'An infection of the pharynx caused by streptococcal bacteria',\n",
       "   'alias': ['strep throat', 'pharyngitis']},\n",
       "  {'id': 44,\n",
       "   'name': 'Pharynx',\n",
       "   'description': 'The part of the throat that connects the nose and mouth',\n",
       "   'alias': ['throat', 'pharynx']},\n",
       "  {'id': 45,\n",
       "   'name': 'Streptococcus',\n",
       "   'description': 'A type of bacteria',\n",
       "   'alias': ['strep', 'streptococcus']}],\n",
       " 'edges': [{'source': 1,\n",
       "   'target': 2,\n",
       "   'name': 'has_disease',\n",
       "   'is_directed': True,\n",
       "   'description': 'The patient has the disease'},\n",
       "  {'source': 1,\n",
       "   'target': 3,\n",
       "   'name': 'takes_medication',\n",
       "   'is_directed': True,\n",
       "   'description': 'The patient is taking the medication'},\n",
       "  {'source': 3,\n",
       "   'target': 4,\n",
       "   'name': 'treats',\n",
       "   'is_directed': True,\n",
       "   'description': 'The medication treats the disease'},\n",
       "  {'source': 1,\n",
       "   'target': 5,\n",
       "   'name': 'takes_medication_at',\n",
       "   'is_directed': True,\n",
       "   'description': 'The patient takes the medication at a specific time'},\n",
       "  {'source': 3,\n",
       "   'target': 6,\n",
       "   'name': 'has_dosage',\n",
       "   'is_directed': True,\n",
       "   'description': 'The medication has a specific dosage'},\n",
       "  {'source': 1,\n",
       "   'target': 7,\n",
       "   'name': 'takes_medication_frequency',\n",
       "   'is_directed': True,\n",
       "   'description': 'The patient takes the medication at a specific frequency'},\n",
       "  {'source': 1,\n",
       "   'target': 8,\n",
       "   'name': 'uses',\n",
       "   'is_directed': True,\n",
       "   'description': 'The MRI uses a specific technique'},\n",
       "  {'source': 8,\n",
       "   'target': 9,\n",
       "   'name': 'reveals',\n",
       "   'is_directed': True,\n",
       "   'description': 'The MRI reveals a lesion'},\n",
       "  {'source': 9,\n",
       "   'target': 10,\n",
       "   'name': 'located_in',\n",
       "   'is_directed': True,\n",
       "   'description': 'The lesion is located in the temporal lobe'},\n",
       "  {'source': 10,\n",
       "   'target': 11,\n",
       "   'name': 'affected_by',\n",
       "   'is_directed': True,\n",
       "   'description': 'The temporal lobe is affected by the glioma'},\n",
       "  {'source': 11,\n",
       "   'target': 12,\n",
       "   'name': 'classified_as',\n",
       "   'is_directed': True,\n",
       "   'description': 'The glioma is classified as low-grade'},\n",
       "  {'source': 1,\n",
       "   'target': 13,\n",
       "   'name': 'administers',\n",
       "   'is_directed': True,\n",
       "   'description': 'The patient is administered the medication'},\n",
       "  {'source': 1,\n",
       "   'target': 14,\n",
       "   'name': 'has_condition',\n",
       "   'is_directed': True,\n",
       "   'description': 'The patient has the condition'},\n",
       "  {'source': 13,\n",
       "   'target': 14,\n",
       "   'name': 'treats',\n",
       "   'is_directed': True,\n",
       "   'description': 'The medication treats the condition'},\n",
       "  {'source': 1,\n",
       "   'target': 15,\n",
       "   'name': 'has_condition',\n",
       "   'is_directed': True,\n",
       "   'description': 'The patient has the condition'},\n",
       "  {'source': 13,\n",
       "   'target': 16,\n",
       "   'name': 'administers_via',\n",
       "   'is_directed': True,\n",
       "   'description': 'The medication is administered via a specific method'},\n",
       "  {'source': 1,\n",
       "   'target': 17,\n",
       "   'name': 'undergoes',\n",
       "   'is_directed': True,\n",
       "   'description': 'The patient undergoes a specific process'},\n",
       "  {'source': 1,\n",
       "   'target': 18,\n",
       "   'name': 'performed',\n",
       "   'is_directed': True,\n",
       "   'description': 'The blood tests were performed'},\n",
       "  {'source': 18,\n",
       "   'target': 19,\n",
       "   'name': 'measured',\n",
       "   'is_directed': True,\n",
       "   'description': 'The ALT levels were measured'},\n",
       "  {'source': 18,\n",
       "   'target': 20,\n",
       "   'name': 'measured',\n",
       "   'is_directed': True,\n",
       "   'description': 'The AST levels were measured'},\n",
       "  {'source': 19,\n",
       "   'target': 21,\n",
       "   'name': 'indicates',\n",
       "   'is_directed': True,\n",
       "   'description': 'The elevated ALT levels indicate liver inflammation'},\n",
       "  {'source': 20,\n",
       "   'target': 21,\n",
       "   'name': 'indicates',\n",
       "   'is_directed': True,\n",
       "   'description': 'The elevated AST levels indicate liver inflammation'},\n",
       "  {'source': 1,\n",
       "   'target': 22,\n",
       "   'name': 'has_condition',\n",
       "   'is_directed': True,\n",
       "   'description': 'The patient has the condition'},\n",
       "  {'source': 22,\n",
       "   'target': 23,\n",
       "   'name': 'has_characteristic',\n",
       "   'is_directed': True,\n",
       "   'description': 'The condition has a characteristic'},\n",
       "  {'source': 22,\n",
       "   'target': 24,\n",
       "   'name': 'experiences',\n",
       "   'is_directed': True,\n",
       "   'description': 'The patient experiences the condition'},\n",
       "  {'source': 22,\n",
       "   'target': 25,\n",
       "   'name': 'undergoes',\n",
       "   'is_directed': True,\n",
       "   'description': 'The patient undergoes a treatment'},\n",
       "  {'source': 22,\n",
       "   'target': 26,\n",
       "   'name': 'takes_medication',\n",
       "   'is_directed': True,\n",
       "   'description': 'The patient takes the medication'},\n",
       "  {'source': 22,\n",
       "   'target': 27,\n",
       "   'name': 'uses',\n",
       "   'is_directed': True,\n",
       "   'description': 'The patient uses the medical imaging technique'},\n",
       "  {'source': 27,\n",
       "   'target': 28,\n",
       "   'name': 'reveals',\n",
       "   'is_directed': True,\n",
       "   'description': 'The medical imaging technique reveals the presence of a pulmonary embolism'},\n",
       "  {'source': 28,\n",
       "   'target': 29,\n",
       "   'name': 'located_in',\n",
       "   'is_directed': True,\n",
       "   'description': 'The pulmonary embolism is located in the right lower lobe'},\n",
       "  {'source': 31,\n",
       "   'target': 30,\n",
       "   'name': 'undergoes',\n",
       "   'is_directed': True,\n",
       "   'description': 'The patient undergoes the surgical procedure'},\n",
       "  {'source': 31,\n",
       "   'target': 33,\n",
       "   'name': 'includes',\n",
       "   'is_directed': True,\n",
       "   'description': 'The routine vaccination includes the MMR vaccine'},\n",
       "  {'source': 31,\n",
       "   'target': 34,\n",
       "   'name': 'includes',\n",
       "   'is_directed': True,\n",
       "   'description': 'The routine vaccination includes the tetanus vaccine'},\n",
       "  {'source': 31,\n",
       "   'target': 35,\n",
       "   'name': 'includes',\n",
       "   'is_directed': True,\n",
       "   'description': 'The routine vaccination includes the influenza vaccine'},\n",
       "  {'source': 36,\n",
       "   'target': 37,\n",
       "   'name': 'indicates',\n",
       "   'is_directed': True,\n",
       "   'description': 'The histopathology indicates the presence of DCIS'},\n",
       "  {'source': 37,\n",
       "   'target': 38,\n",
       "   'name': 'located_in',\n",
       "   'is_directed': True,\n",
       "   'description': 'The DCIS is located in the breast'},\n",
       "  {'source': 38,\n",
       "   'target': 39,\n",
       "   'name': 'sample_of',\n",
       "   'is_directed': True,\n",
       "   'description': 'The breast is a sample of tissue for examination'},\n",
       "  {'source': 40,\n",
       "   'target': 41,\n",
       "   'name': 'experiences',\n",
       "   'is_directed': True,\n",
       "   'description': 'The child experiences a cough'},\n",
       "  {'source': 40,\n",
       "   'target': 42,\n",
       "   'name': 'experiences',\n",
       "   'is_directed': True,\n",
       "   'description': 'The child experiences a fever'},\n",
       "  {'source': 40,\n",
       "   'target': 43,\n",
       "   'name': 'has_condition',\n",
       "   'is_directed': True,\n",
       "   'description': 'The child has streptococcal pharyngitis'},\n",
       "  {'source': 43,\n",
       "   'target': 44,\n",
       "   'name': 'affects',\n",
       "   'is_directed': True,\n",
       "   'description': 'The streptococcal pharyngitis affects the pharynx'},\n",
       "  {'source': 43,\n",
       "   'target': 45,\n",
       "   'name': 'caused_by',\n",
       "   'is_directed': True,\n",
       "   'description': 'The streptococcal pharyngitis is caused by streptococcus bacteria'}]}"
      ]
     },
     "execution_count": 11,
     "metadata": {},
     "output_type": "execute_result"
    }
   ],
   "source": [
    "rag.graph.dict()"
   ]
  },
  {
   "cell_type": "code",
   "execution_count": 11,
   "id": "c50e5bd4-6388-49ae-aa39-3e1cc5fc962c",
   "metadata": {},
   "outputs": [],
   "source": [
    "nodes_id_idx = rag.dataset.nodes_id_idx"
   ]
  },
  {
   "cell_type": "code",
   "execution_count": 19,
   "id": "659193a4-ed40-42ee-bb6c-aac68a664baa",
   "metadata": {},
   "outputs": [
    {
     "name": "stdout",
     "output_type": "stream",
     "text": [
      "45\n"
     ]
    },
    {
     "data": {
      "text/plain": [
       "array([ 0.00581928, -0.02819522,  0.0190266 , -0.00319721, -0.00893134])"
      ]
     },
     "execution_count": 19,
     "metadata": {},
     "output_type": "execute_result"
    }
   ],
   "source": [
    "node_embs = rag.model.entity.weight.data.cpu().numpy()\n",
    "print(len(node_embs))\n",
    "node_embs[nodes_id_idx[1]][:5]"
   ]
  },
  {
   "cell_type": "markdown",
   "id": "ad94bebd-b088-486b-a580-a910dffc137d",
   "metadata": {},
   "source": [
    "# Load CurveRag modules"
   ]
  },
  {
   "cell_type": "code",
   "execution_count": 24,
   "id": "0c029ec2-751b-44ba-8f4e-a9fb92a45ac0",
   "metadata": {},
   "outputs": [
    {
     "name": "stderr",
     "output_type": "stream",
     "text": [
      "/var/folders/m6/12prs8yx2r90psgztq05hy_c0000gn/T/ipykernel_82949/2232709649.py:6: PydanticDeprecatedSince20: The `parse_file` method is deprecated; load the data from file, then if your data is JSON use `model_validate_json`, otherwise `model_validate` instead. Deprecated in Pydantic V2.0 to be removed in V3.0. See Pydantic V2 Migration Guide at https://errors.pydantic.dev/2.11/migration/\n",
      "  kg = KnowledgeGraph.parse_file(\"rag.graph.json\")\n"
     ]
    }
   ],
   "source": [
    "# load KG\n",
    "with open('rag.graph.json', 'r') as f:\n",
    "    data = json.load(f)\n",
    "\n",
    "#kg = KnowledgeGraph.construct(**data)\n",
    "kg = KnowledgeGraph.parse_file(\"rag.graph.json\")"
   ]
  },
  {
   "cell_type": "code",
   "execution_count": 23,
   "id": "aacf2cb5-8aac-4081-b9d5-cd622fd17557",
   "metadata": {},
   "outputs": [
    {
     "data": {
      "text/plain": [
       "Node(id=1, name='Patient', description='A person who is receiving medical treatment', alias=['individual', 'person'])"
      ]
     },
     "execution_count": 23,
     "metadata": {},
     "output_type": "execute_result"
    }
   ],
   "source": [
    "kg.nodes[0]"
   ]
  },
  {
   "cell_type": "code",
   "execution_count": 6,
   "id": "d7e4020d-f1da-4f8f-bff3-071c5200a7d1",
   "metadata": {},
   "outputs": [],
   "source": [
    "# load dataset\n",
    "dataset_path = './data/medical_docs'\n",
    "dataset = KGDataset(dataset_path, debug=False, name='medical_docs')"
   ]
  },
  {
   "cell_type": "code",
   "execution_count": 7,
   "id": "2db52272-500d-4f7d-988e-7711bcd11e23",
   "metadata": {},
   "outputs": [
    {
     "data": {
      "text/plain": [
       "AttH(\n",
       "  (entity): Embedding(45, 1000)\n",
       "  (rel): Embedding(48, 1000)\n",
       "  (bh): Embedding(45, 1)\n",
       "  (bt): Embedding(45, 1)\n",
       "  (rel_diag): Embedding(48, 2000)\n",
       "  (context_vec): Embedding(48, 1000)\n",
       "  (act): Softmax(dim=1)\n",
       ")"
      ]
     },
     "execution_count": 7,
     "metadata": {},
     "output_type": "execute_result"
    }
   ],
   "source": [
    "# load embeding model\n",
    "sizes = dataset.get_shape()\n",
    "embedding_model = AttH(sizes=sizes)\n",
    "model_path = '/Users/nathan/Documents/projects/curve_rag/logs/05_05/test_run/AttH_00_38_35/model.pt'\n",
    "embedding_model.load_state_dict(torch.load(model_path, weights_only=True))\n",
    "embedding_model.eval()"
   ]
  },
  {
   "cell_type": "code",
   "execution_count": null,
   "id": "7f7e6b3f-ae38-4184-8b90-8085786d354a",
   "metadata": {},
   "outputs": [],
   "source": [
    "# load llm\n",
    "max_tokens = 10000\n",
    "n_ctx=10000\n",
    "llm, outlines_model = utils.load_model(\n",
    "    llm_model_path=\"./models/Meta-Llama-3-8B-Instruct.Q6_K.gguf\",\n",
    "    tokenizer=llama_cpp.llama_tokenizer.LlamaHFTokenizer.from_pretrained(\"unsloth/Llama-3.2-1B-Instruct\"),\n",
    "    n_ctx=n_ctx,\n",
    "    max_tokens=max_tokens\n",
    ")"
   ]
  },
  {
   "cell_type": "code",
   "execution_count": 67,
   "id": "6fb1f51d-0548-44ff-b21f-f5b88ce054d9",
   "metadata": {},
   "outputs": [
    {
     "name": "stderr",
     "output_type": "stream",
     "text": [
      "Llama.generate: 6 prefix-match hit, remaining 1 prompt tokens to eval\n",
      "llama_perf_context_print:        load time =    2329.38 ms\n",
      "llama_perf_context_print: prompt eval time =       0.00 ms /     1 tokens (    0.00 ms per token,      inf tokens per second)\n",
      "llama_perf_context_print:        eval time =    5169.89 ms /    16 runs   (  323.12 ms per token,     3.09 tokens per second)\n",
      "llama_perf_context_print:       total time =    5176.08 ms /    17 tokens\n"
     ]
    }
   ],
   "source": [
    "resp = llm('Hi how are you?')"
   ]
  },
  {
   "cell_type": "code",
   "execution_count": 59,
   "id": "c591d1a1-5bb8-4c4d-b758-234ced1be527",
   "metadata": {},
   "outputs": [
    {
     "data": {
      "text/plain": [
       "\" I hope you're doing well. I am from Mexico and I am a fan\""
      ]
     },
     "execution_count": 59,
     "metadata": {},
     "output_type": "execute_result"
    }
   ],
   "source": [
    "resp['choices'][0]['text']"
   ]
  },
  {
   "cell_type": "code",
   "execution_count": 68,
   "id": "214cb55b-b12c-4181-b3a6-dc03bf8ef1ea",
   "metadata": {},
   "outputs": [
    {
     "data": {
      "application/vnd.jupyter.widget-view+json": {
       "model_id": "e6af919c9e774721818440e1e613af33",
       "version_major": 2,
       "version_minor": 0
      },
      "text/plain": [
       "Fetching 5 files:   0%|          | 0/5 [00:00<?, ?it/s]"
      ]
     },
     "metadata": {},
     "output_type": "display_data"
    }
   ],
   "source": [
    "cg = CurveRAG.load_class(\n",
    "    llm=llm,\n",
    "    outlines_llm=outlines_model,\n",
    "    entity_types=DEFAULT_ENTITY_TYPES,\n",
    "    gliner_model_name=DEFAULT_GLINER_MODEL,\n",
    "    graph=kg,\n",
    "    graph_embedding_model=embedding_model,\n",
    "    dataset=dataset,\n",
    ")"
   ]
  },
  {
   "cell_type": "code",
   "execution_count": 69,
   "id": "84c1ded9-db9e-41c2-96f2-3a4f654f6bfc",
   "metadata": {},
   "outputs": [],
   "source": [
    "entities = ['Patient', 'Diabetes Mellitus', 'Metformin', 'Type 2 Diabetes', 'Daily']"
   ]
  },
  {
   "cell_type": "code",
   "execution_count": null,
   "id": "fa2223f6-1e49-4411-95e0-648c647feed6",
   "metadata": {},
   "outputs": [
    {
     "name": "stdout",
     "output_type": "stream",
     "text": [
      "entities ['patient']\n",
      "node_ids []\n",
      "node_ids []\n",
      "\n",
      "You are a helpful assistant analyzing the given input data to provide an helpful response to the user query.\n",
      "\n",
      "# USER QUERY\n",
      "What is used to treat Diabetes Mellitus and how does can a patient use the treatment?\n",
      "\n",
      "# Context:\n",
      "KnowledgeGraph Overview\n",
      "  There are 0 entities and 0 relationships in this graph.\n",
      "\n",
      "Entities in the graph:\n",
      "\n",
      "Relationships between nodes:\n",
      "\n",
      "\n",
      "\n",
      "# INSTRUCTIONS\n",
      "Your goal is to provide a response to the user query using the relevant information in the input data:\n",
      "- the \"Entities\" and \"Relationships\" tables contain high-level information. Use these tables to identify the most important entities and relationships to respond to the query.\n",
      "- the \"Sources\" list contains raw text sources to help answer the query. It may contain noisy data, so pay attention when analyzing it.\n",
      "\n",
      "Follow these steps:\n",
      "1. Read and understand the user query.\n",
      "2. Look at the \"Entities\" and \"Relationships\" tables to get a general sense of the data and understand which information is the most relevant to answer the query.\n",
      "3. Carefully analyze all the \"Sources\" to get more detailed information. Information could be scattered across several sources, use the identified relevant entities and relationships to guide yourself through the analysis of the sources.\n",
      "4. While you write the response, you must include inline references to the all the sources you are using by appending `[<source_id>]` at the end of each sentence, where `source_id` is the corresponding source ID from the \"Sources\" list.\n",
      "5. Write the response to the user query - which must include the inline references - based on the information you have gathered. Be very concise and answer the user query directly. If the response cannot be inferred from the input data, just say no relevant information was found. Do not make anything up or add unrelevant information.\n",
      "\n",
      "Answer:\n",
      "\n"
     ]
    },
    {
     "name": "stderr",
     "output_type": "stream",
     "text": [
      "Llama.generate: 370 prefix-match hit, remaining 1 prompt tokens to eval\n"
     ]
    }
   ],
   "source": [
    "query = \"What is used to treat Diabetes Mellitus and how does can a patient use the treatment?\"\n",
    "cg.query(query, max_tokens=1000)"
   ]
  },
  {
   "cell_type": "code",
   "execution_count": 86,
   "id": "61ba90fc-b495-4fa1-a1ee-b02effbb4de0",
   "metadata": {},
   "outputs": [
    {
     "name": "stderr",
     "output_type": "stream",
     "text": [
      "Llama.generate: 10 prefix-match hit, remaining 10 prompt tokens to eval\n",
      "llama_perf_context_print:        load time =    3865.92 ms\n",
      "llama_perf_context_print: prompt eval time =    1877.04 ms /    10 tokens (  187.70 ms per token,     5.33 tokens per second)\n",
      "llama_perf_context_print:        eval time =   51397.43 ms /   999 runs   (   51.45 ms per token,    19.44 tokens per second)\n",
      "llama_perf_context_print:       total time =   54751.37 ms /  1009 tokens\n"
     ]
    },
    {
     "data": {
      "text/plain": [
       "\" (2023)\\nWhat is Diabetes Mellitus?\\nDiabetes Mellitus, commonly referred to as diabetes, is a metabolic disorder that affects the way the body regulates blood sugar levels. There are several types of diabetes, but the most common ones are:\\nType 1 diabetes: An autoimmune disease where the body's immune system attacks and destroys the cells in the pancreas that produce insulin, a hormone that regulates blood sugar levels.\\nType 2 diabetes: A condition where the body becomes resistant to insulin, making it difficult for the body to use insulin effectively.\\nGestational diabetes: A type of diabetes that develops during pregnancy due to hormonal changes.\\nWhat are the symptoms of Diabetes Mellitus?\\nThe symptoms of diabetes can vary from person to person, but common signs and symptoms include:\\nIncreased thirst and urination\\nFatigue and weakness\\nBlurred vision\\nSlow healing of cuts and wounds\\n Tingling or numbness in the hands and feet\\nHow is Diabetes Mellitus treated?\\nThe treatment for diabetes depends on the type of diabetes and the individual's overall health. The primary goal of treatment is to regulate blood sugar levels and prevent complications. Here are some common treatments for diabetes:\\nMedications:\\nInsulin therapy: Injecting insulin to help regulate blood sugar levels.\\nOral medications: Tablets or capsules that help the body produce more insulin or make the body more sensitive to insulin.\\nMetformin: A medication that helps the body use insulin more effectively.\\nGLP-1 receptor agonists: Medications that stimulate the release of insulin and slow the release of glucose from the liver.\\nSGLT2 inhibitors: Medications that help the kidneys remove excess glucose from the urine.\\nLifestyle changes:\\nDietary changes: Eating a balanced diet that is low in sugar, salt, and fat.\\nPhysical activity: Engaging in regular physical activity to help regulate blood sugar levels.\\nWeight management: Maintaining a healthy weight through a combination of diet and exercise.\\nMonitoring blood sugar levels: Regularly checking blood sugar levels to ensure they are within a healthy range.\\nHow can a patient use the treatment?\\nTo effectively manage their diabetes, patients can follow these steps:\\n1. Work with a healthcare provider: Patients should consult with a healthcare provider to develop a personalized treatment plan that takes into account their type of diabetes, lifestyle, and other health conditions.\\n2. Monitor blood sugar levels: Patients should regularly check their blood sugar levels to ensure they are within a healthy range.\\n3. Take medications as prescribed: Patients should take their medications as directed by their healthcare provider to regulate blood sugar levels.\\n4. Make lifestyle changes: Patients should make dietary and physical activity changes to help regulate blood sugar levels and manage their overall health.\\n5. Attend regular follow-up appointments: Patients should attend regular follow-up appointments with their healthcare provider to monitor their progress and make any necessary adjustments to their treatment plan.\\n6. Educate themselves: Patients should educate themselves about diabetes and its management to make informed decisions about their care.\\n7. Keep track of progress: Patients should keep track of their progress, including blood sugar levels, medication adherence, and any changes in their health to share with their healthcare provider.\\nBy following these steps, patients with diabetes can effectively manage their condition and reduce the risk of complications. It is essential to work closely with a healthcare provider to develop a personalized treatment plan that addresses their unique needs and health goals. (Source: American Diabetes Association, Mayo Clinic, and MedlinePlus)\\nHow to Manage Your Diabetes with Medications?\\nManaging diabetes requires a combination of lifestyle changes and medications. Here are some tips to help you manage your diabetes with medications:\\n1. Take your medications as directed: Take your medications at the same time every day, as prescribed by your healthcare provider.\\n2. Monitor your blood sugar levels: Regularly check your blood sugar levels to ensure your medications are working effectively.\\n3. Keep track of your medication schedule: Use a pill box or mobile app to keep track of your medication schedule.\\n4. Adjust your medications as needed: If your blood sugar levels are not within a healthy range, your healthcare provider may adjust your medications.\\n5. Don't skip doses: Don't skip doses or stop taking your medications without consulting your healthcare provider.\\n6. Combine medications with lifestyle changes: Combine your medications with lifestyle changes such as diet and exercise to achieve better blood sugar control.\\n7. Communicate with your healthcare provider: Communicate with your healthcare provider about any concerns or questions you have about your medications or diabetes management.\\nRemember, managing diabetes requires a team effort between you, your healthcare provider, and your medications. By following these tips, you can effectively manage your diabetes and reduce the risk of complications. (Source: American Diabetes Association, Mayo Clinic, and MedlinePlus) (2023) What are some common medications used to treat Diabetes Mellitus?\\nSome common medications used to treat diabetes mellitus include:\\n1. Insulin: Injected insulin to help regulate blood sugar levels.\\n2\""
      ]
     },
     "execution_count": 86,
     "metadata": {},
     "output_type": "execute_result"
    }
   ],
   "source": [
    "llm2(\"What is used to treat Diabetes Mellitus and how does can a patient use the treatment?\",  max_tokens=1000)['choices'][0]['text']"
   ]
  },
  {
   "cell_type": "code",
   "execution_count": null,
   "id": "9b63202b-6159-40af-b7ee-9615cbc9997a",
   "metadata": {},
   "outputs": [],
   "source": [
    "from llama_cpp import Llama\n",
    "llm2 = Llama(\n",
    "        model_path=\"./models/Meta-Llama-3-8B-Instruct.Q6_K.gguf\",\n",
    "        tokenizer=llama_cpp.llama_tokenizer.LlamaHFTokenizer.from_pretrained(\"unsloth/Llama-3.2-1B-Instruct\"),\n",
    "        n_ctx=n_ctx,\n",
    "        max_tokens=max_tokens\n",
    "    )"
   ]
  }
 ],
 "metadata": {
  "kernelspec": {
   "display_name": "Python 3 (ipykernel)",
   "language": "python",
   "name": "python3"
  },
  "language_info": {
   "codemirror_mode": {
    "name": "ipython",
    "version": 3
   },
   "file_extension": ".py",
   "mimetype": "text/x-python",
   "name": "python",
   "nbconvert_exporter": "python",
   "pygments_lexer": "ipython3",
   "version": "3.10.17"
  }
 },
 "nbformat": 4,
 "nbformat_minor": 5
}
