{
 "cells": [
  {
   "cell_type": "code",
   "execution_count": 4,
   "id": "e7554f5f-4846-401f-b552-7d3a4913abc9",
   "metadata": {},
   "outputs": [
    {
     "name": "stdout",
     "output_type": "stream",
     "text": [
      "The autoreload extension is already loaded. To reload it, use:\n",
      "  %reload_ext autoreload\n"
     ]
    }
   ],
   "source": [
    "%load_ext autoreload\n",
    "%autoreload 2"
   ]
  },
  {
   "cell_type": "code",
   "execution_count": 5,
   "id": "75d44625-276b-4a71-8579-a863dfdd386a",
   "metadata": {},
   "outputs": [],
   "source": [
    "import json\n",
    "\n",
    "import llama_cpp\n",
    "import torch\n",
    "\n",
    "from curverag import utils\n",
    "from curverag.curverag import CurveRAG, DEFAULT_ENTITY_TYPES, DEFAULT_GLINER_MODEL\n",
    "from curverag.graph import KnowledgeGraph\n",
    "from curverag.atth.kg_dataset import KGDataset\n",
    "from curverag.atth.models.hyperbolic import AttH"
   ]
  },
  {
   "cell_type": "code",
   "execution_count": 6,
   "id": "f6902138-1540-467d-9c33-940ce1132d63",
   "metadata": {},
   "outputs": [
    {
     "data": {
      "text/plain": [
       "True"
      ]
     },
     "execution_count": 6,
     "metadata": {},
     "output_type": "execute_result"
    }
   ],
   "source": [
    "import os\n",
    "from dotenv import load_dotenv\n",
    "from openai import OpenAI\n",
    "load_dotenv() "
   ]
  },
  {
   "cell_type": "markdown",
   "id": "b54db7ac-f8fc-4e93-9856-d9095cb83b3b",
   "metadata": {},
   "source": [
    "## Dataset and LLM (OpenAI)"
   ]
  },
  {
   "cell_type": "code",
   "execution_count": 7,
   "id": "1d1b1091-7820-423a-9515-55de2e82e6c7",
   "metadata": {},
   "outputs": [],
   "source": [
    "docs = [\n",
    "    \"The patient was diagnosed with type 2 diabetes mellitus and prescribed metformin 500mg twice daily.\",\n",
    "    \"MRI scan revealed a small lesion in the left temporal lobe suggestive of low-grade glioma.\",\n",
    "    \"Administer 5mg of lorazepam intravenously for acute seizure management.\",\n",
    "    \"Blood tests showed elevated ALT and AST levels, indicating possible liver inflammation.\",\n",
    "    \"The subject reported chronic lower back pain, managed with physical therapy and NSAIDs.\",\n",
    "    \"CT angiography confirmed the presence of a pulmonary embolism in the right lower lobe.\",\n",
    "    \"The patient underwent coronary artery bypass graft surgery without complications.\",\n",
    "    \"Routine vaccination included MMR, tetanus, and influenza immunizations.\",\n",
    "    \"Histopathology indicated ductal carcinoma in situ (DCIS) in the breast biopsy sample.\",\n",
    "    \"The child presented with a persistent cough and fever, diagnosed as streptococcal pharyngitis.\"\n",
    "]\n"
   ]
  },
  {
   "cell_type": "code",
   "execution_count": 9,
   "id": "d3e6a4b7-4ddd-4e52-a173-4aefe38253c8",
   "metadata": {},
   "outputs": [],
   "source": [
    "api_key = os.getenv(\"OPENAI_API_KEY\")\n",
    "client = OpenAI(api_key=api_key)"
   ]
  },
  {
   "cell_type": "markdown",
   "id": "355f6a39-77a2-41ef-8901-624096fdca7f",
   "metadata": {},
   "source": [
    "## Fit CurveRAG"
   ]
  },
  {
   "cell_type": "code",
   "execution_count": 12,
   "id": "516bf805-2db3-4a49-a401-2ba85d9bfc60",
   "metadata": {},
   "outputs": [
    {
     "data": {
      "application/vnd.jupyter.widget-view+json": {
       "model_id": "22b0b9562d094c48b0e2d53721da1a1b",
       "version_major": 2,
       "version_minor": 0
      },
      "text/plain": [
       "Fetching 5 files:   0%|          | 0/5 [00:00<?, ?it/s]"
      ]
     },
     "metadata": {},
     "output_type": "display_data"
    }
   ],
   "source": [
    "entity_types = ['people', 'locations', 'entities', 'movies', 'directors']\n",
    "rag = CurveRAG(\n",
    "    openai_client=client,\n",
    "    entity_types=entity_types,\n",
    ")"
   ]
  },
  {
   "cell_type": "code",
   "execution_count": 13,
   "id": "eaa03b50-b55a-4abc-994f-df570c791796",
   "metadata": {},
   "outputs": [
    {
     "name": "stdout",
     "output_type": "stream",
     "text": [
      "creating graph\n"
     ]
    },
    {
     "name": "stderr",
     "output_type": "stream",
     "text": [
      " 10%|█████████████████▌                                                                                                                                                              | 1/10 [00:03<00:29,  3.30s/it]"
     ]
    },
    {
     "name": "stdout",
     "output_type": "stream",
     "text": [
      "upserting\n"
     ]
    },
    {
     "name": "stderr",
     "output_type": "stream",
     "text": [
      " 20%|███████████████████████████████████▏                                                                                                                                            | 2/10 [00:05<00:22,  2.76s/it]"
     ]
    },
    {
     "name": "stdout",
     "output_type": "stream",
     "text": [
      "upserting\n"
     ]
    },
    {
     "name": "stderr",
     "output_type": "stream",
     "text": [
      " 30%|████████████████████████████████████████████████████▊                                                                                                                           | 3/10 [00:07<00:17,  2.53s/it]"
     ]
    },
    {
     "name": "stdout",
     "output_type": "stream",
     "text": [
      "upserting\n"
     ]
    },
    {
     "name": "stderr",
     "output_type": "stream",
     "text": [
      " 40%|██████████████████████████████████████████████████████████████████████▍                                                                                                         | 4/10 [00:11<00:18,  3.08s/it]"
     ]
    },
    {
     "name": "stdout",
     "output_type": "stream",
     "text": [
      "upserting\n"
     ]
    },
    {
     "name": "stderr",
     "output_type": "stream",
     "text": [
      " 50%|████████████████████████████████████████████████████████████████████████████████████████                                                                                        | 5/10 [00:17<00:20,  4.14s/it]"
     ]
    },
    {
     "name": "stdout",
     "output_type": "stream",
     "text": [
      "upserting\n"
     ]
    },
    {
     "name": "stderr",
     "output_type": "stream",
     "text": [
      " 60%|█████████████████████████████████████████████████████████████████████████████████████████████████████████▌                                                                      | 6/10 [00:21<00:15,  3.92s/it]"
     ]
    },
    {
     "name": "stdout",
     "output_type": "stream",
     "text": [
      "upserting\n"
     ]
    },
    {
     "name": "stderr",
     "output_type": "stream",
     "text": [
      " 70%|███████████████████████████████████████████████████████████████████████████████████████████████████████████████████████████▏                                                    | 7/10 [00:23<00:09,  3.27s/it]"
     ]
    },
    {
     "name": "stdout",
     "output_type": "stream",
     "text": [
      "upserting\n"
     ]
    },
    {
     "name": "stderr",
     "output_type": "stream",
     "text": [
      " 80%|████████████████████████████████████████████████████████████████████████████████████████████████████████████████████████████████████████████▊                                   | 8/10 [00:27<00:07,  3.56s/it]"
     ]
    },
    {
     "name": "stdout",
     "output_type": "stream",
     "text": [
      "upserting\n"
     ]
    },
    {
     "name": "stderr",
     "output_type": "stream",
     "text": [
      " 90%|██████████████████████████████████████████████████████████████████████████████████████████████████████████████████████████████████████████████████████████████▍                 | 9/10 [00:39<00:06,  6.19s/it]"
     ]
    },
    {
     "name": "stdout",
     "output_type": "stream",
     "text": [
      "upserting\n"
     ]
    },
    {
     "name": "stderr",
     "output_type": "stream",
     "text": [
      "100%|███████████████████████████████████████████████████████████████████████████████████████████████████████████████████████████████████████████████████████████████████████████████| 10/10 [00:41<00:00,  4.15s/it]\n",
      "2025-06-14 00:27:28,700 INFO     Saving logs in: ./logs/06_14/test_run/AttH_00_27_28\n",
      "2025-06-14 00:27:28,701 INFO     \t (19, 14, 19)\n",
      "2025-06-14 00:27:28,710 INFO     Total number of parameters 89052\n",
      "2025-06-14 00:27:28,713 INFO     \t Start training\n"
     ]
    },
    {
     "name": "stdout",
     "output_type": "stream",
     "text": [
      "upserting\n",
      "num nodes 19\n",
      "unique node ids {1, 2, 3, 4, 5, 6, 7, 8, 9, 10, 11, 12, 13, 14, 15, 16, 17, 18, 19}\n",
      "creating dataset\n",
      "train kg embeddings\n",
      "max_epochs 50\n"
     ]
    },
    {
     "name": "stderr",
     "output_type": "stream",
     "text": [
      "train loss: 100%|█████████████████████████████████████████████████████████████████████████████████████████████████████████████████████████████████████████████████████| 26/26 [00:00<00:00, 161.27ex/s, loss=0.6883]\n",
      "2025-06-14 00:27:28,877 INFO     \t Epoch 0 | average train loss: 0.6883\n",
      "2025-06-14 00:27:28,882 INFO     \t Epoch 0 | average valid loss: 2.0525\n",
      "train loss: 100%|█████████████████████████████████████████████████████████████████████████████████████████████████████████████████████████████████████████████████████| 26/26 [00:00<00:00, 221.64ex/s, loss=2.1058]\n",
      "2025-06-14 00:27:29,000 INFO     \t Epoch 1 | average train loss: 2.1058\n",
      "2025-06-14 00:27:29,004 INFO     \t Epoch 1 | average valid loss: 1.9333\n",
      "train loss: 100%|█████████████████████████████████████████████████████████████████████████████████████████████████████████████████████████████████████████████████████| 26/26 [00:00<00:00, 220.28ex/s, loss=1.9965]\n",
      "2025-06-14 00:27:29,124 INFO     \t Epoch 2 | average train loss: 1.9965\n",
      "2025-06-14 00:27:29,127 INFO     \t Epoch 2 | average valid loss: 1.8152\n",
      "2025-06-14 00:27:29,131 INFO     \t valid MR: 10.00 | MRR: 0.278 | H@1: 0.000 | H@3: 0.500 | H@10: 0.500\n",
      "2025-06-14 00:27:29,131 INFO     \t Epoch 2 | average valid mmr: 0.2778\n",
      "2025-06-14 00:27:29,132 INFO     \t Saving model at epoch 2 in ./logs/06_14/test_run/AttH_00_27_28\n",
      "train loss: 100%|█████████████████████████████████████████████████████████████████████████████████████████████████████████████████████████████████████████████████████| 26/26 [00:00<00:00, 229.34ex/s, loss=1.9274]\n",
      "2025-06-14 00:27:29,249 INFO     \t Epoch 3 | average train loss: 1.9274\n",
      "2025-06-14 00:27:29,253 INFO     \t Epoch 3 | average valid loss: 1.6152\n",
      "train loss: 100%|█████████████████████████████████████████████████████████████████████████████████████████████████████████████████████████████████████████████████████| 26/26 [00:00<00:00, 230.18ex/s, loss=1.8750]\n",
      "2025-06-14 00:27:29,367 INFO     \t Epoch 4 | average train loss: 1.8750\n",
      "2025-06-14 00:27:29,371 INFO     \t Epoch 4 | average valid loss: 1.0446\n",
      "train loss: 100%|█████████████████████████████████████████████████████████████████████████████████████████████████████████████████████████████████████████████████████| 26/26 [00:00<00:00, 233.26ex/s, loss=1.7267]\n",
      "2025-06-14 00:27:29,484 INFO     \t Epoch 5 | average train loss: 1.7267\n",
      "2025-06-14 00:27:29,487 INFO     \t Epoch 5 | average valid loss: 1.2875\n",
      "2025-06-14 00:27:29,488 INFO     \t valid MR: 11.00 | MRR: 0.105 | H@1: 0.000 | H@3: 0.000 | H@10: 0.500\n",
      "2025-06-14 00:27:29,489 INFO     \t Epoch 5 | average valid mmr: 0.1048\n",
      "train loss: 100%|█████████████████████████████████████████████████████████████████████████████████████████████████████████████████████████████████████████████████████| 26/26 [00:00<00:00, 228.28ex/s, loss=1.6700]\n",
      "2025-06-14 00:27:29,604 INFO     \t Epoch 6 | average train loss: 1.6700\n",
      "2025-06-14 00:27:29,607 INFO     \t Epoch 6 | average valid loss: 0.0984\n",
      "train loss: 100%|█████████████████████████████████████████████████████████████████████████████████████████████████████████████████████████████████████████████████████| 26/26 [00:00<00:00, 234.28ex/s, loss=1.2076]\n",
      "2025-06-14 00:27:29,719 INFO     \t Epoch 7 | average train loss: 1.2076\n",
      "2025-06-14 00:27:29,723 INFO     \t Epoch 7 | average valid loss: 0.2591\n",
      "train loss: 100%|█████████████████████████████████████████████████████████████████████████████████████████████████████████████████████████████████████████████████████| 26/26 [00:00<00:00, 228.76ex/s, loss=0.8224]\n",
      "2025-06-14 00:27:29,839 INFO     \t Epoch 8 | average train loss: 0.8224\n",
      "2025-06-14 00:27:29,842 INFO     \t Epoch 8 | average valid loss: 0.0977\n",
      "2025-06-14 00:27:29,843 INFO     \t valid MR: 5.50 | MRR: 0.196 | H@1: 0.000 | H@3: 0.000 | H@10: 1.000\n",
      "2025-06-14 00:27:29,843 INFO     \t Epoch 8 | average valid mmr: 0.1964\n",
      "train loss: 100%|█████████████████████████████████████████████████████████████████████████████████████████████████████████████████████████████████████████████████████| 26/26 [00:00<00:00, 229.11ex/s, loss=0.5840]\n",
      "2025-06-14 00:27:29,958 INFO     \t Epoch 9 | average train loss: 0.5840\n",
      "2025-06-14 00:27:29,962 INFO     \t Epoch 9 | average valid loss: 0.1377\n",
      "train loss: 100%|█████████████████████████████████████████████████████████████████████████████████████████████████████████████████████████████████████████████████████| 26/26 [00:00<00:00, 224.82ex/s, loss=0.4224]\n",
      "2025-06-14 00:27:30,079 INFO     \t Epoch 10 | average train loss: 0.4224\n",
      "2025-06-14 00:27:30,082 INFO     \t Epoch 10 | average valid loss: 0.1859\n",
      "train loss: 100%|█████████████████████████████████████████████████████████████████████████████████████████████████████████████████████████████████████████████████████| 26/26 [00:00<00:00, 238.60ex/s, loss=0.3625]\n",
      "2025-06-14 00:27:30,192 INFO     \t Epoch 11 | average train loss: 0.3625\n",
      "2025-06-14 00:27:30,197 INFO     \t Epoch 11 | average valid loss: 0.1865\n",
      "2025-06-14 00:27:30,199 INFO     \t valid MR: 7.00 | MRR: 0.292 | H@1: 0.000 | H@3: 0.500 | H@10: 0.500\n",
      "2025-06-14 00:27:30,199 INFO     \t Epoch 11 | average valid mmr: 0.2917\n",
      "2025-06-14 00:27:30,199 INFO     \t Saving model at epoch 11 in ./logs/06_14/test_run/AttH_00_27_28\n",
      "train loss: 100%|█████████████████████████████████████████████████████████████████████████████████████████████████████████████████████████████████████████████████████| 26/26 [00:00<00:00, 238.32ex/s, loss=0.5783]\n",
      "2025-06-14 00:27:30,312 INFO     \t Epoch 12 | average train loss: 0.5783\n",
      "2025-06-14 00:27:30,315 INFO     \t Epoch 12 | average valid loss: 0.1131\n",
      "train loss: 100%|█████████████████████████████████████████████████████████████████████████████████████████████████████████████████████████████████████████████████████| 26/26 [00:00<00:00, 233.59ex/s, loss=0.3437]\n",
      "2025-06-14 00:27:30,428 INFO     \t Epoch 13 | average train loss: 0.3437\n",
      "2025-06-14 00:27:30,431 INFO     \t Epoch 13 | average valid loss: 0.0727\n",
      "train loss: 100%|█████████████████████████████████████████████████████████████████████████████████████████████████████████████████████████████████████████████████████| 26/26 [00:00<00:00, 231.35ex/s, loss=0.3065]\n",
      "2025-06-14 00:27:30,545 INFO     \t Epoch 14 | average train loss: 0.3065\n",
      "2025-06-14 00:27:30,549 INFO     \t Epoch 14 | average valid loss: 0.0968\n",
      "2025-06-14 00:27:30,551 INFO     \t valid MR: 7.00 | MRR: 0.156 | H@1: 0.000 | H@3: 0.000 | H@10: 1.000\n",
      "2025-06-14 00:27:30,551 INFO     \t Epoch 14 | average valid mmr: 0.1556\n",
      "train loss: 100%|█████████████████████████████████████████████████████████████████████████████████████████████████████████████████████████████████████████████████████| 26/26 [00:00<00:00, 230.88ex/s, loss=0.2801]\n",
      "2025-06-14 00:27:30,665 INFO     \t Epoch 15 | average train loss: 0.2801\n",
      "2025-06-14 00:27:30,668 INFO     \t Epoch 15 | average valid loss: 0.0760\n",
      "train loss: 100%|█████████████████████████████████████████████████████████████████████████████████████████████████████████████████████████████████████████████████████| 26/26 [00:00<00:00, 233.52ex/s, loss=0.2739]\n",
      "2025-06-14 00:27:30,781 INFO     \t Epoch 16 | average train loss: 0.2739\n",
      "2025-06-14 00:27:30,784 INFO     \t Epoch 16 | average valid loss: 0.0939\n",
      "train loss: 100%|█████████████████████████████████████████████████████████████████████████████████████████████████████████████████████████████████████████████████████| 26/26 [00:00<00:00, 234.83ex/s, loss=0.2257]\n",
      "2025-06-14 00:27:30,896 INFO     \t Epoch 17 | average train loss: 0.2257\n",
      "2025-06-14 00:27:30,900 INFO     \t Epoch 17 | average valid loss: 0.0892\n",
      "2025-06-14 00:27:30,901 INFO     \t valid MR: 6.00 | MRR: 0.188 | H@1: 0.000 | H@3: 0.000 | H@10: 1.000\n",
      "2025-06-14 00:27:30,901 INFO     \t Epoch 17 | average valid mmr: 0.1875\n",
      "train loss: 100%|█████████████████████████████████████████████████████████████████████████████████████████████████████████████████████████████████████████████████████| 26/26 [00:00<00:00, 225.00ex/s, loss=0.1927]\n",
      "2025-06-14 00:27:31,018 INFO     \t Epoch 18 | average train loss: 0.1927\n",
      "2025-06-14 00:27:31,022 INFO     \t Epoch 18 | average valid loss: 0.0957\n",
      "train loss: 100%|█████████████████████████████████████████████████████████████████████████████████████████████████████████████████████████████████████████████████████| 26/26 [00:00<00:00, 231.36ex/s, loss=0.1327]\n",
      "2025-06-14 00:27:31,136 INFO     \t Epoch 19 | average train loss: 0.1327\n",
      "2025-06-14 00:27:31,139 INFO     \t Epoch 19 | average valid loss: 0.0993\n",
      "train loss: 100%|█████████████████████████████████████████████████████████████████████████████████████████████████████████████████████████████████████████████████████| 26/26 [00:00<00:00, 228.74ex/s, loss=0.0747]\n",
      "2025-06-14 00:27:31,254 INFO     \t Epoch 20 | average train loss: 0.0747\n",
      "2025-06-14 00:27:31,257 INFO     \t Epoch 20 | average valid loss: 0.1159\n",
      "2025-06-14 00:27:31,258 INFO     \t valid MR: 9.00 | MRR: 0.138 | H@1: 0.000 | H@3: 0.000 | H@10: 0.500\n",
      "2025-06-14 00:27:31,258 INFO     \t Epoch 20 | average valid mmr: 0.1385\n",
      "train loss: 100%|█████████████████████████████████████████████████████████████████████████████████████████████████████████████████████████████████████████████████████| 26/26 [00:00<00:00, 226.08ex/s, loss=0.0504]\n",
      "2025-06-14 00:27:31,375 INFO     \t Epoch 21 | average train loss: 0.0504\n",
      "2025-06-14 00:27:31,377 INFO     \t Epoch 21 | average valid loss: 0.0999\n",
      "train loss: 100%|█████████████████████████████████████████████████████████████████████████████████████████████████████████████████████████████████████████████████████| 26/26 [00:00<00:00, 231.58ex/s, loss=0.0387]\n",
      "2025-06-14 00:27:31,491 INFO     \t Epoch 22 | average train loss: 0.0387\n",
      "2025-06-14 00:27:31,495 INFO     \t Epoch 22 | average valid loss: 0.0904\n",
      "train loss: 100%|█████████████████████████████████████████████████████████████████████████████████████████████████████████████████████████████████████████████████████| 26/26 [00:00<00:00, 216.53ex/s, loss=0.0417]\n",
      "2025-06-14 00:27:31,617 INFO     \t Epoch 23 | average train loss: 0.0417\n",
      "2025-06-14 00:27:31,623 INFO     \t Epoch 23 | average valid loss: 0.0984\n",
      "2025-06-14 00:27:31,624 INFO     \t valid MR: 5.00 | MRR: 0.208 | H@1: 0.000 | H@3: 0.000 | H@10: 1.000\n",
      "2025-06-14 00:27:31,625 INFO     \t Epoch 23 | average valid mmr: 0.2083\n",
      "train loss: 100%|█████████████████████████████████████████████████████████████████████████████████████████████████████████████████████████████████████████████████████| 26/26 [00:00<00:00, 213.89ex/s, loss=0.0482]\n",
      "2025-06-14 00:27:31,748 INFO     \t Epoch 24 | average train loss: 0.0482\n",
      "2025-06-14 00:27:31,753 INFO     \t Epoch 24 | average valid loss: 0.0918\n",
      "train loss: 100%|█████████████████████████████████████████████████████████████████████████████████████████████████████████████████████████████████████████████████████| 26/26 [00:00<00:00, 221.71ex/s, loss=0.0434]\n",
      "2025-06-14 00:27:31,872 INFO     \t Epoch 25 | average train loss: 0.0434\n",
      "2025-06-14 00:27:31,877 INFO     \t Epoch 25 | average valid loss: 0.0972\n",
      "train loss: 100%|█████████████████████████████████████████████████████████████████████████████████████████████████████████████████████████████████████████████████████| 26/26 [00:00<00:00, 221.99ex/s, loss=0.0381]\n",
      "2025-06-14 00:27:31,996 INFO     \t Epoch 26 | average train loss: 0.0381\n",
      "2025-06-14 00:27:32,000 INFO     \t Epoch 26 | average valid loss: 0.1033\n",
      "2025-06-14 00:27:32,001 INFO     \t valid MR: 9.00 | MRR: 0.138 | H@1: 0.000 | H@3: 0.000 | H@10: 0.500\n",
      "2025-06-14 00:27:32,002 INFO     \t Epoch 26 | average valid mmr: 0.1385\n",
      "train loss: 100%|█████████████████████████████████████████████████████████████████████████████████████████████████████████████████████████████████████████████████████| 26/26 [00:00<00:00, 232.19ex/s, loss=0.0328]\n",
      "2025-06-14 00:27:32,115 INFO     \t Epoch 27 | average train loss: 0.0328\n",
      "2025-06-14 00:27:32,121 INFO     \t Epoch 27 | average valid loss: 0.1038\n",
      "train loss: 100%|█████████████████████████████████████████████████████████████████████████████████████████████████████████████████████████████████████████████████████| 26/26 [00:00<00:00, 237.55ex/s, loss=0.0375]\n",
      "2025-06-14 00:27:32,232 INFO     \t Epoch 28 | average train loss: 0.0375\n",
      "2025-06-14 00:27:32,235 INFO     \t Epoch 28 | average valid loss: 0.1099\n",
      "train loss: 100%|█████████████████████████████████████████████████████████████████████████████████████████████████████████████████████████████████████████████████████| 26/26 [00:00<00:00, 228.78ex/s, loss=0.0275]\n",
      "2025-06-14 00:27:32,350 INFO     \t Epoch 29 | average train loss: 0.0275\n",
      "2025-06-14 00:27:32,353 INFO     \t Epoch 29 | average valid loss: 0.0931\n",
      "2025-06-14 00:27:32,354 INFO     \t valid MR: 5.00 | MRR: 0.208 | H@1: 0.000 | H@3: 0.000 | H@10: 1.000\n",
      "2025-06-14 00:27:32,354 INFO     \t Epoch 29 | average valid mmr: 0.2083\n",
      "train loss: 100%|█████████████████████████████████████████████████████████████████████████████████████████████████████████████████████████████████████████████████████| 26/26 [00:00<00:00, 222.99ex/s, loss=0.0244]\n",
      "2025-06-14 00:27:32,472 INFO     \t Epoch 30 | average train loss: 0.0244\n",
      "2025-06-14 00:27:32,475 INFO     \t Epoch 30 | average valid loss: 0.0817\n",
      "train loss: 100%|█████████████████████████████████████████████████████████████████████████████████████████████████████████████████████████████████████████████████████| 26/26 [00:00<00:00, 233.65ex/s, loss=0.0288]\n",
      "2025-06-14 00:27:32,588 INFO     \t Epoch 31 | average train loss: 0.0288\n",
      "2025-06-14 00:27:32,592 INFO     \t Epoch 31 | average valid loss: 0.0768\n",
      "train loss: 100%|█████████████████████████████████████████████████████████████████████████████████████████████████████████████████████████████████████████████████████| 26/26 [00:00<00:00, 223.16ex/s, loss=0.0359]\n",
      "2025-06-14 00:27:32,710 INFO     \t Epoch 32 | average train loss: 0.0359\n",
      "2025-06-14 00:27:32,713 INFO     \t Epoch 32 | average valid loss: 0.0795\n",
      "2025-06-14 00:27:32,715 INFO     \t valid MR: 4.00 | MRR: 0.333 | H@1: 0.000 | H@3: 0.500 | H@10: 1.000\n",
      "2025-06-14 00:27:32,715 INFO     \t Epoch 32 | average valid mmr: 0.3333\n",
      "2025-06-14 00:27:32,715 INFO     \t Saving model at epoch 32 in ./logs/06_14/test_run/AttH_00_27_28\n",
      "train loss: 100%|█████████████████████████████████████████████████████████████████████████████████████████████████████████████████████████████████████████████████████| 26/26 [00:00<00:00, 227.98ex/s, loss=0.0343]\n",
      "2025-06-14 00:27:32,833 INFO     \t Epoch 33 | average train loss: 0.0343\n",
      "2025-06-14 00:27:32,836 INFO     \t Epoch 33 | average valid loss: 0.0916\n",
      "train loss: 100%|█████████████████████████████████████████████████████████████████████████████████████████████████████████████████████████████████████████████████████| 26/26 [00:00<00:00, 231.70ex/s, loss=0.0289]\n",
      "2025-06-14 00:27:32,950 INFO     \t Epoch 34 | average train loss: 0.0289\n",
      "2025-06-14 00:27:32,952 INFO     \t Epoch 34 | average valid loss: 0.0921\n",
      "train loss: 100%|█████████████████████████████████████████████████████████████████████████████████████████████████████████████████████████████████████████████████████| 26/26 [00:00<00:00, 227.77ex/s, loss=0.0216]\n",
      "2025-06-14 00:27:33,068 INFO     \t Epoch 35 | average train loss: 0.0216\n",
      "2025-06-14 00:27:33,073 INFO     \t Epoch 35 | average valid loss: 0.0921\n",
      "2025-06-14 00:27:33,074 INFO     \t valid MR: 5.50 | MRR: 0.306 | H@1: 0.000 | H@3: 0.500 | H@10: 1.000\n",
      "2025-06-14 00:27:33,075 INFO     \t Epoch 35 | average valid mmr: 0.3056\n",
      "train loss: 100%|█████████████████████████████████████████████████████████████████████████████████████████████████████████████████████████████████████████████████████| 26/26 [00:00<00:00, 235.76ex/s, loss=0.0239]\n",
      "2025-06-14 00:27:33,187 INFO     \t Epoch 36 | average train loss: 0.0239\n",
      "2025-06-14 00:27:33,190 INFO     \t Epoch 36 | average valid loss: 0.0912\n",
      "train loss: 100%|█████████████████████████████████████████████████████████████████████████████████████████████████████████████████████████████████████████████████████| 26/26 [00:00<00:00, 228.65ex/s, loss=0.0337]\n",
      "2025-06-14 00:27:33,306 INFO     \t Epoch 37 | average train loss: 0.0337\n",
      "2025-06-14 00:27:33,309 INFO     \t Epoch 37 | average valid loss: 0.1063\n",
      "train loss: 100%|█████████████████████████████████████████████████████████████████████████████████████████████████████████████████████████████████████████████████████| 26/26 [00:00<00:00, 224.84ex/s, loss=0.0335]\n",
      "2025-06-14 00:27:33,426 INFO     \t Epoch 38 | average train loss: 0.0335\n",
      "2025-06-14 00:27:33,429 INFO     \t Epoch 38 | average valid loss: 0.1018\n",
      "2025-06-14 00:27:33,431 INFO     \t valid MR: 9.00 | MRR: 0.138 | H@1: 0.000 | H@3: 0.000 | H@10: 0.500\n",
      "2025-06-14 00:27:33,431 INFO     \t Epoch 38 | average valid mmr: 0.1385\n",
      "train loss: 100%|█████████████████████████████████████████████████████████████████████████████████████████████████████████████████████████████████████████████████████| 26/26 [00:00<00:00, 234.08ex/s, loss=0.0299]\n",
      "2025-06-14 00:27:33,544 INFO     \t Epoch 39 | average train loss: 0.0299\n",
      "2025-06-14 00:27:33,548 INFO     \t Epoch 39 | average valid loss: 0.1137\n",
      "train loss: 100%|█████████████████████████████████████████████████████████████████████████████████████████████████████████████████████████████████████████████████████| 26/26 [00:00<00:00, 233.05ex/s, loss=0.0277]\n",
      "2025-06-14 00:27:33,661 INFO     \t Epoch 40 | average train loss: 0.0277\n",
      "2025-06-14 00:27:33,666 INFO     \t Epoch 40 | average valid loss: 0.1111\n",
      "train loss: 100%|█████████████████████████████████████████████████████████████████████████████████████████████████████████████████████████████████████████████████████| 26/26 [00:00<00:00, 238.11ex/s, loss=0.0229]\n",
      "2025-06-14 00:27:33,776 INFO     \t Epoch 41 | average train loss: 0.0229\n",
      "2025-06-14 00:27:33,780 INFO     \t Epoch 41 | average valid loss: 0.1132\n",
      "2025-06-14 00:27:33,781 INFO     \t valid MR: 10.00 | MRR: 0.110 | H@1: 0.000 | H@3: 0.000 | H@10: 0.500\n",
      "2025-06-14 00:27:33,782 INFO     \t Epoch 41 | average valid mmr: 0.1099\n",
      "train loss: 100%|█████████████████████████████████████████████████████████████████████████████████████████████████████████████████████████████████████████████████████| 26/26 [00:00<00:00, 231.22ex/s, loss=0.0199]\n",
      "2025-06-14 00:27:33,896 INFO     \t Epoch 42 | average train loss: 0.0199\n",
      "2025-06-14 00:27:33,900 INFO     \t Epoch 42 | average valid loss: 0.1077\n",
      "train loss: 100%|█████████████████████████████████████████████████████████████████████████████████████████████████████████████████████████████████████████████████████| 26/26 [00:00<00:00, 229.85ex/s, loss=0.0204]\n",
      "2025-06-14 00:27:34,015 INFO     \t Epoch 43 | average train loss: 0.0204\n",
      "2025-06-14 00:27:34,018 INFO     \t Epoch 43 | average valid loss: 0.1011\n",
      "train loss: 100%|█████████████████████████████████████████████████████████████████████████████████████████████████████████████████████████████████████████████████████| 26/26 [00:00<00:00, 224.02ex/s, loss=0.0241]\n",
      "2025-06-14 00:27:34,136 INFO     \t Epoch 44 | average train loss: 0.0241\n",
      "2025-06-14 00:27:34,139 INFO     \t Epoch 44 | average valid loss: 0.0926\n",
      "2025-06-14 00:27:34,140 INFO     \t valid MR: 5.00 | MRR: 0.200 | H@1: 0.000 | H@3: 0.000 | H@10: 1.000\n",
      "2025-06-14 00:27:34,140 INFO     \t Epoch 44 | average valid mmr: 0.2000\n",
      "train loss: 100%|█████████████████████████████████████████████████████████████████████████████████████████████████████████████████████████████████████████████████████| 26/26 [00:00<00:00, 220.34ex/s, loss=0.0249]\n",
      "2025-06-14 00:27:34,260 INFO     \t Epoch 45 | average train loss: 0.0249\n",
      "2025-06-14 00:27:34,265 INFO     \t Epoch 45 | average valid loss: 0.0775\n",
      "train loss: 100%|█████████████████████████████████████████████████████████████████████████████████████████████████████████████████████████████████████████████████████| 26/26 [00:00<00:00, 210.22ex/s, loss=0.0241]\n",
      "2025-06-14 00:27:34,390 INFO     \t Epoch 46 | average train loss: 0.0241\n",
      "2025-06-14 00:27:34,396 INFO     \t Epoch 46 | average valid loss: 0.0691\n",
      "train loss: 100%|█████████████████████████████████████████████████████████████████████████████████████████████████████████████████████████████████████████████████████| 26/26 [00:00<00:00, 203.02ex/s, loss=0.0217]\n",
      "2025-06-14 00:27:34,526 INFO     \t Epoch 47 | average train loss: 0.0217\n",
      "2025-06-14 00:27:34,531 INFO     \t Epoch 47 | average valid loss: 0.0740\n",
      "2025-06-14 00:27:34,532 INFO     \t valid MR: 2.00 | MRR: 0.500 | H@1: 0.000 | H@3: 1.000 | H@10: 1.000\n",
      "2025-06-14 00:27:34,533 INFO     \t Epoch 47 | average valid mmr: 0.5000\n",
      "2025-06-14 00:27:34,533 INFO     \t Saving model at epoch 47 in ./logs/06_14/test_run/AttH_00_27_28\n",
      "train loss: 100%|█████████████████████████████████████████████████████████████████████████████████████████████████████████████████████████████████████████████████████| 26/26 [00:00<00:00, 132.74ex/s, loss=0.0194]\n",
      "2025-06-14 00:27:34,733 INFO     \t Epoch 48 | average train loss: 0.0194\n",
      "2025-06-14 00:27:34,738 INFO     \t Epoch 48 | average valid loss: 0.0784\n",
      "train loss: 100%|█████████████████████████████████████████████████████████████████████████████████████████████████████████████████████████████████████████████████████| 26/26 [00:00<00:00, 181.96ex/s, loss=0.0228]\n",
      "2025-06-14 00:27:34,883 INFO     \t Epoch 49 | average train loss: 0.0228\n",
      "2025-06-14 00:27:34,888 INFO     \t Epoch 49 | average valid loss: 0.0795\n",
      "2025-06-14 00:27:34,888 INFO     \t Optimization finished\n",
      "2025-06-14 00:27:34,888 INFO     \t Loading best model saved at epoch 47\n",
      "2025-06-14 00:27:34,891 INFO     \t valid MR: 2.00 | MRR: 0.500 | H@1: 0.000 | H@3: 1.000 | H@10: 1.000\n",
      "2025-06-14 00:27:34,893 INFO     \t test MR: 7.50 | MRR: 0.150 | H@1: 0.000 | H@3: 0.000 | H@10: 1.000\n"
     ]
    },
    {
     "name": "stdout",
     "output_type": "stream",
     "text": [
      "returning model\n"
     ]
    },
    {
     "data": {
      "application/vnd.jupyter.widget-view+json": {
       "model_id": "8b3d66cd4dd34a3e9d9fefb7ac862975",
       "version_major": 2,
       "version_minor": 0
      },
      "text/plain": [
       "Batches:   0%|          | 0/1 [00:00<?, ?it/s]"
      ]
     },
     "metadata": {},
     "output_type": "display_data"
    }
   ],
   "source": [
    "rag.fit(docs=docs, dataset_name='test_run')"
   ]
  },
  {
   "cell_type": "code",
   "execution_count": 14,
   "id": "4afc5868-24d8-40be-a861-d5921c9793d1",
   "metadata": {},
   "outputs": [
    {
     "data": {
      "text/plain": [
       "19"
      ]
     },
     "execution_count": 14,
     "metadata": {},
     "output_type": "execute_result"
    }
   ],
   "source": [
    "len(rag.graph.nodes)"
   ]
  },
  {
   "cell_type": "code",
   "execution_count": 16,
   "id": "53cbe739-3424-4bc7-8a10-70542b83de72",
   "metadata": {},
   "outputs": [
    {
     "data": {
      "text/plain": [
       "[Node(id=1, name='Type 2 Diabetes Mellitus', description='A chronic condition that affects the way the body processes blood sugar. A chronic condition that affects the way the body processes blood sugar.', alias=['Diabetes Mellitus Type 2', 'Type 2 Diabetes Mellitus'], additional_information=['Chronic metabolic disorder', 'Requires management and treatment']),\n",
       " Node(id=2, name='Metformin', description='A medication used to treat type 2 diabetes. A medication used to treat type 2 diabetes.', alias=['Glucophage', 'Metformin'], additional_information=['500mg dosage', 'Taken twice daily']),\n",
       " Node(id=3, name='Low-Grade Glioma', description='A type of brain tumor that is typically slow growing. A type of brain tumor that is typically slow growing.', alias=['Low Grade Glioma', 'Low-Grade Glioma'], additional_information=['Can affect brain function', 'Requires monitoring and potential treatment']),\n",
       " Node(id=4, name='Temporal Lobe', description='Region of the brain associated with processing auditory information and memory. Region of the brain associated with processing auditory information and memory.', alias=['Left Temporal Lobe', 'Temporal Lobe'], additional_information=['Involved in language processing', 'Located under the temples']),\n",
       " Node(id=5, name='Lorazepam', description='A medication used for acute seizure management. A medication used for acute seizure management.', alias=['Ativan', 'Lorazepam'], additional_information=['Administered intravenously', 'Dosage: 5mg']),\n",
       " Node(id=6, name='ALT', description='Alanine Aminotransferase, an enzyme found in the liver. Alanine Aminotransferase, an enzyme found in the liver.', alias=['Alanine Transaminase', 'ALT'], additional_information=['Used as a marker for liver health', 'Elevated levels indicate liver inflammation']),\n",
       " Node(id=7, name='AST', description='Aspartate Aminotransferase, an enzyme found in various tissues, primarily the liver. Aspartate Aminotransferase, an enzyme found in various tissues, primarily the liver.', alias=['Aspartate Transaminase', 'AST'], additional_information=['Used to assess liver function', 'Elevated levels can indicate liver damage']),\n",
       " Node(id=8, name='Liver Inflammation', description='A condition characterized by swelling and inflammation of the liver. A condition characterized by swelling and inflammation of the liver.', alias=['Hepatitis', 'Liver Inflammation'], additional_information=['Can be caused by various factors', 'Requires medical evaluation and treatment']),\n",
       " Node(id=9, name='Chronic Lower Back Pain', description='Persistent pain in the lower back area. Persistent pain in the lower back area.', alias=['Chronic Back Pain', 'Chronic Lower Back Pain'], additional_information=['Common cause of disability', 'Can be managed with therapy and medication']),\n",
       " Node(id=10, name='Physical Therapy', description='A treatment procedure that helps improve physical movement and function.', alias=['Physiotherapy'], additional_information=['Uses exercises and modalities', 'Aims to reduce pain and improve mobility']),\n",
       " Node(id=11, name='NSAIDs', description='Nonsteroidal anti-inflammatory drugs used to relieve pain and reduce inflammation.', alias=['Nonsteroidal Anti-inflammatory Drugs'], additional_information=['Includes ibuprofen and naproxen', 'Commonly used for pain relief']),\n",
       " Node(id=12, name='Pulmonary Embolism', description='A blockage in one of the pulmonary arteries in the lungs.', alias=['PE'], additional_information=['Can be life-threatening', 'Often caused by blood clots']),\n",
       " Node(id=13, name='Right Lower Lobe', description='The section of the lung located in the right lower region.', alias=['Right Lung Lower Lobe'], additional_information=['Involved in gas exchange', 'Common sight for lung diseases']),\n",
       " Node(id=14, name='Coronary Artery Bypass Graft Surgery', description='A surgical procedure to improve blood flow to the heart.', alias=['CABG'], additional_information=['Performed to treat coronary artery disease', 'Involves grafting a blood vessel to bypass blocked arteries']),\n",
       " Node(id=15, name='MMR Vaccine', description='A vaccine for measles, mumps, and rubella.', alias=['MMR'], additional_information=['Administered in childhood', 'Prevents three diseases']),\n",
       " Node(id=16, name='Tetanus Vaccine', description='A vaccine that protects against tetanus infection.', alias=['Tetanus Immunization'], additional_information=['Typically given every 10 years', 'Part of routine vaccinations']),\n",
       " Node(id=17, name='Influenza Vaccine', description='A vaccine to protect against the influenza virus.', alias=['Flu Shot'], additional_information=['Recommended annually', 'Reduces flu-related complications']),\n",
       " Node(id=18, name='Ductal Carcinoma In Situ', description='A non-invasive breast cancer characterized by abnormal cell growth in the breast ducts.', alias=['DCIS'], additional_information=['Detected through biopsy', 'Considered an early form of breast cancer']),\n",
       " Node(id=19, name='Streptococcal Pharyngitis', description='An infection of the throat caused by Streptococcus bacteria.', alias=['Strep Throat', 'Streptococcal Pharyngitis'], additional_information=['Common in children', 'Characterized by sore throat and fever'])]"
      ]
     },
     "execution_count": 16,
     "metadata": {},
     "output_type": "execute_result"
    }
   ],
   "source": [
    "rag.graph.nodes"
   ]
  },
  {
   "cell_type": "code",
   "execution_count": 22,
   "id": "d4f1a67e-0279-4f51-a26b-11df42055540",
   "metadata": {},
   "outputs": [
    {
     "data": {
      "text/plain": [
       "[Node(id=1, name='Type 2 Diabetes Mellitus', description='A chronic condition that affects the way the body processes blood sugar. A chronic condition that affects the way the body processes blood sugar.', alias=['Diabetes Mellitus Type 2', 'Type 2 Diabetes Mellitus'], additional_information=['Chronic metabolic disorder', 'Requires management and treatment']),\n",
       " Node(id=2, name='Metformin', description='A medication used to treat type 2 diabetes. A medication used to treat type 2 diabetes.', alias=['Glucophage', 'Metformin'], additional_information=['500mg dosage', 'Taken twice daily']),\n",
       " Node(id=3, name='Low-Grade Glioma', description='A type of brain tumor that is typically slow growing. A type of brain tumor that is typically slow growing.', alias=['Low Grade Glioma', 'Low-Grade Glioma'], additional_information=['Can affect brain function', 'Requires monitoring and potential treatment']),\n",
       " Node(id=4, name='Temporal Lobe', description='Region of the brain associated with processing auditory information and memory. Region of the brain associated with processing auditory information and memory.', alias=['Left Temporal Lobe', 'Temporal Lobe'], additional_information=['Involved in language processing', 'Located under the temples']),\n",
       " Node(id=5, name='Lorazepam', description='A medication used for acute seizure management. A medication used for acute seizure management.', alias=['Ativan', 'Lorazepam'], additional_information=['Administered intravenously', 'Dosage: 5mg']),\n",
       " Node(id=6, name='ALT', description='Alanine Aminotransferase, an enzyme found in the liver. Alanine Aminotransferase, an enzyme found in the liver.', alias=['Alanine Transaminase', 'ALT'], additional_information=['Used as a marker for liver health', 'Elevated levels indicate liver inflammation']),\n",
       " Node(id=7, name='AST', description='Aspartate Aminotransferase, an enzyme found in various tissues, primarily the liver. Aspartate Aminotransferase, an enzyme found in various tissues, primarily the liver.', alias=['Aspartate Transaminase', 'AST'], additional_information=['Used to assess liver function', 'Elevated levels can indicate liver damage']),\n",
       " Node(id=8, name='Liver Inflammation', description='A condition characterized by swelling and inflammation of the liver. A condition characterized by swelling and inflammation of the liver.', alias=['Hepatitis', 'Liver Inflammation'], additional_information=['Can be caused by various factors', 'Requires medical evaluation and treatment']),\n",
       " Node(id=9, name='Chronic Lower Back Pain', description='Persistent pain in the lower back area. Persistent pain in the lower back area.', alias=['Chronic Back Pain', 'Chronic Lower Back Pain'], additional_information=['Common cause of disability', 'Can be managed with therapy and medication']),\n",
       " Node(id=10, name='Physical Therapy', description='A treatment procedure that helps improve physical movement and function.', alias=['Physiotherapy'], additional_information=['Uses exercises and modalities', 'Aims to reduce pain and improve mobility']),\n",
       " Node(id=11, name='NSAIDs', description='Nonsteroidal anti-inflammatory drugs used to relieve pain and reduce inflammation.', alias=['Nonsteroidal Anti-inflammatory Drugs'], additional_information=['Includes ibuprofen and naproxen', 'Commonly used for pain relief']),\n",
       " Node(id=12, name='Pulmonary Embolism', description='A blockage in one of the pulmonary arteries in the lungs.', alias=['PE'], additional_information=['Can be life-threatening', 'Often caused by blood clots']),\n",
       " Node(id=13, name='Right Lower Lobe', description='The section of the lung located in the right lower region.', alias=['Right Lung Lower Lobe'], additional_information=['Involved in gas exchange', 'Common sight for lung diseases']),\n",
       " Node(id=14, name='Coronary Artery Bypass Graft Surgery', description='A surgical procedure to improve blood flow to the heart.', alias=['CABG'], additional_information=['Performed to treat coronary artery disease', 'Involves grafting a blood vessel to bypass blocked arteries']),\n",
       " Node(id=15, name='MMR Vaccine', description='A vaccine for measles, mumps, and rubella.', alias=['MMR'], additional_information=['Administered in childhood', 'Prevents three diseases']),\n",
       " Node(id=16, name='Tetanus Vaccine', description='A vaccine that protects against tetanus infection.', alias=['Tetanus Immunization'], additional_information=['Typically given every 10 years', 'Part of routine vaccinations']),\n",
       " Node(id=17, name='Influenza Vaccine', description='A vaccine to protect against the influenza virus.', alias=['Flu Shot'], additional_information=['Recommended annually', 'Reduces flu-related complications']),\n",
       " Node(id=18, name='Ductal Carcinoma In Situ', description='A non-invasive breast cancer characterized by abnormal cell growth in the breast ducts.', alias=['DCIS'], additional_information=['Detected through biopsy', 'Considered an early form of breast cancer']),\n",
       " Node(id=19, name='Streptococcal Pharyngitis', description='An infection of the throat caused by Streptococcus bacteria.', alias=['Strep Throat', 'Streptococcal Pharyngitis'], additional_information=['Common in children', 'Characterized by sore throat and fever'])]"
      ]
     },
     "execution_count": 22,
     "metadata": {},
     "output_type": "execute_result"
    }
   ],
   "source": [
    "rag.graph.nodes"
   ]
  },
  {
   "cell_type": "code",
   "execution_count": 21,
   "id": "87464411-7b4e-41ab-84a2-4e96277ae4bd",
   "metadata": {},
   "outputs": [
    {
     "data": {
      "text/plain": [
       "[Edge(source=1, target=2, name='Prescribed', is_directed=True, description='Medication prescribed for diabetes', notes=['Patient management', 'Diabetes treatment']),\n",
       " Edge(source=3, target=4, name='Located In', is_directed=False, description='Presence of tumor in the brain region', notes=['Diagnostic imaging', 'Brain health assessment']),\n",
       " Edge(source=5, target=1, name='Used For', is_directed=True, description='Medication used for managing diabetes symptoms', notes=['Seizure control', 'Neuroadverse effects']),\n",
       " Edge(source=6, target=8, name='Indicates', is_directed=True, description='Elevated ALT levels indicate liver inflammation', notes=['Liver function tests', 'Clinical assessment']),\n",
       " Edge(source=7, target=8, name='Indicates', is_directed=True, description='Elevated AST levels indicate liver inflammation', notes=['Liver function tests', 'Clinical assessment']),\n",
       " Edge(source=9, target=10, name='Managed With', is_directed=True, description='Treatment approach for chronic back pain', notes=['Long-term management', 'Pain relief techniques']),\n",
       " Edge(source=9, target=11, name='Managed With', is_directed=True, description='Medications used for back pain relief', notes=['Commonly prescribed', 'Symptom control']),\n",
       " Edge(source=12, target=13, name='Located In', is_directed=False, description='Presence of embolism in the lung region', notes=['Confirmed by imaging', 'Clinical significance']),\n",
       " Edge(source=14, target=2, name='Related To', is_directed=False, description='Surgery may be performed on diabetic patients', notes=['Management of cardiovascular issues', 'Risks associated with diabetes']),\n",
       " Edge(source=15, target=15, name='Part Of', is_directed=True, description='Part of routine vaccination schedule', notes=['Childhood immunization', 'Preventative healthcare']),\n",
       " Edge(source=16, target=16, name='Part Of', is_directed=True, description='Part of routine vaccination schedule', notes=['Childhood immunization', 'Preventative healthcare']),\n",
       " Edge(source=17, target=17, name='Part Of', is_directed=True, description='Part of routine vaccination schedule', notes=['Annual recommendation', 'Preventative healthcare']),\n",
       " Edge(source=18, target=1, name='Related To', is_directed=False, description='Ductal carcinoma in situ may relate to other health conditions', notes=['Breast health', 'Oncology concerns']),\n",
       " Edge(source=18, target=9, name='Managed With', is_directed=True, description='Treatment approach for ductal carcinoma includes pain management', notes=['Multidisciplinary care', 'Symptom control']),\n",
       " Edge(source=19, target=1, name='Related To', is_directed=False, description='Streptococcal pharyngitis can relate to diabetes complications', notes=['Infected patients may have other health issues', 'Requires medical attention'])]"
      ]
     },
     "execution_count": 21,
     "metadata": {},
     "output_type": "execute_result"
    }
   ],
   "source": [
    "rag.graph.edges"
   ]
  },
  {
   "cell_type": "code",
   "execution_count": 29,
   "id": "dad8917d-3be3-430f-b239-3d26baf70176",
   "metadata": {},
   "outputs": [
    {
     "name": "stdout",
     "output_type": "stream",
     "text": [
      "entities []\n"
     ]
    },
    {
     "data": {
      "application/vnd.jupyter.widget-view+json": {
       "model_id": "cb3874e3901943b8a16eca8dc9d25ce2",
       "version_major": 2,
       "version_minor": 0
      },
      "text/plain": [
       "Batches:   0%|          | 0/1 [00:00<?, ?it/s]"
      ]
     },
     "metadata": {},
     "output_type": "display_data"
    },
    {
     "name": "stdout",
     "output_type": "stream",
     "text": [
      "graph nodes retrieved ['Chronic Lower Back Pain']\n",
      "similar_node_ids [9, 18, 1, 10, 11]\n",
      "similar_node_ids graph nodes retrieved ['Type 2 Diabetes Mellitus', 'Chronic Lower Back Pain', 'Physical Therapy', 'NSAIDs', 'Ductal Carcinoma In Situ']\n",
      "***************************************!!******************************\n",
      "***************************************!!******************************\n",
      "***************************************!!******************************\n",
      "***************************************!!******************************\n",
      "***************************************!!******************************\n",
      "\n",
      "You are a helpful assistant analyzing the given input data to provide an helpful response to the user query.\n",
      "\n",
      "# USER QUERY\n",
      "What is Chronic Lower Back Pain?\n",
      "\n",
      "# Context:\n",
      "KnowledgeGraph Overview\n",
      "  There are 5 entities and 4 relationships in this graph.\n",
      "\n",
      "Entities in the graph:\n",
      "  • 'Type 2 Diabetes Mellitus':\n",
      "      The entity has the following description: A chronic condition that affects the way the body processes blood sugar. A chronic condition that affects the way the body processes blood sugar.\n",
      "      It can also be referred to as: Diabetes Mellitus Type 2, Type 2 Diabetes Mellitus\n",
      "      It has the following additional information: Chronic metabolic disorder, Requires management and treatment\n",
      "  • 'Chronic Lower Back Pain':\n",
      "      The entity has the following description: Persistent pain in the lower back area. Persistent pain in the lower back area.\n",
      "      It can also be referred to as: Chronic Back Pain, Chronic Lower Back Pain\n",
      "      It has the following additional information: Common cause of disability, Can be managed with therapy and medication\n",
      "  • 'Physical Therapy':\n",
      "      The entity has the following description: A treatment procedure that helps improve physical movement and function.\n",
      "      It can also be referred to as: Physiotherapy\n",
      "      It has the following additional information: Uses exercises and modalities, Aims to reduce pain and improve mobility\n",
      "  • 'NSAIDs':\n",
      "      The entity has the following description: Nonsteroidal anti-inflammatory drugs used to relieve pain and reduce inflammation.\n",
      "      It can also be referred to as: Nonsteroidal Anti-inflammatory Drugs\n",
      "      It has the following additional information: Includes ibuprofen and naproxen, Commonly used for pain relief\n",
      "  • 'Ductal Carcinoma In Situ':\n",
      "      The entity has the following description: A non-invasive breast cancer characterized by abnormal cell growth in the breast ducts.\n",
      "      It can also be referred to as: DCIS\n",
      "      It has the following additional information: Detected through biopsy, Considered an early form of breast cancer\n",
      "\n",
      "Relationships between nodes:\n",
      "  • There is a directed relationship from 'Chronic Lower Back Pain' to 'Physical Therapy' called 'Managed With'.\n",
      "      The relationship is described as: Treatment approach for chronic back pain\n",
      "      The relationship has the following notes: Long-term management, Pain relief techniques\n",
      "  • There is a directed relationship from 'Chronic Lower Back Pain' to 'NSAIDs' called 'Managed With'.\n",
      "      The relationship is described as: Medications used for back pain relief\n",
      "      The relationship has the following notes: Commonly prescribed, Symptom control\n",
      "  • There is an undirected relationship between 'Ductal Carcinoma In Situ' and 'Type 2 Diabetes Mellitus' called 'Related To'.\n",
      "      The relationship is described as: Ductal carcinoma in situ may relate to other health conditions\n",
      "      The relationship has the following notes: Breast health, Oncology concerns\n",
      "  • There is a directed relationship from 'Ductal Carcinoma In Situ' to 'Chronic Lower Back Pain' called 'Managed With'.\n",
      "      The relationship is described as: Treatment approach for ductal carcinoma includes pain management\n",
      "      The relationship has the following notes: Multidisciplinary care, Symptom control\n",
      "\n",
      "\n",
      "\n",
      "# INSTRUCTIONS\n",
      "Your goal is to provide a response to the user query using the relevant information in the input data:\n",
      "- the \"Entities\" and \"Relationships\" tables contain high-level information. Use these tables to identify the most important entities and relationships to respond to the query.\n",
      "- the \"Sources\" list contains raw text sources to help answer the query. It may contain noisy data, so pay attention when analyzing it.\n",
      "\n",
      "Follow these steps:\n",
      "1. Read and understand the user query.\n",
      "2. Look at the \"Entities\" and \"Relationships\" tables to get a general sense of the data and understand which information is the most relevant to answer the query.\n",
      "3. Carefully analyze all the \"Sources\" to get more detailed information. Information could be scattered across several sources, use the identified relevant entities and relationships to guide yourself through the analysis of the sources.\n",
      "4. While you write the response, you must include inline references to the all the sources you are using by appending `[<source_id>]` at the end of each sentence, where `source_id` is the corresponding source ID from the \"Sources\" list.\n",
      "5. Write the response to the user query - which must include the inline references - based on the information you have gathered. Be very concise and answer the user query directly. If the response cannot be inferred from the input data, just say no relevant information was found. Do not make anything up or add unrelevant information.\n",
      "\n",
      "Answer:\n",
      "\n"
     ]
    },
    {
     "name": "stderr",
     "output_type": "stream",
     "text": [
      "2025-06-14 01:39:29,818 INFO     HTTP Request: POST https://api.openai.com/v1/responses \"HTTP/1.1 200 OK\"\n"
     ]
    },
    {
     "data": {
      "text/plain": [
       "'Chronic lower back pain is defined as persistent pain in the lower back area. It is a common condition that is often a significant source of disability, affecting daily activities and quality of life. Chronic lower back pain can be managed through various approaches, including physical therapy and the use of medications such as nonsteroidal anti-inflammatory drugs (NSAIDs) to relieve pain and reduce inflammation. The treatment involving physical therapy aims to improve mobility and reduce pain using specific exercises and modalities [1][2][3].'"
      ]
     },
     "execution_count": 29,
     "metadata": {},
     "output_type": "execute_result"
    }
   ],
   "source": [
    "query = \"What is Chronic Lower Back Pain?\"\n",
    "rag.query(query, traversal = 'pp')"
   ]
  }
 ],
 "metadata": {
  "kernelspec": {
   "display_name": "Python 3 (ipykernel)",
   "language": "python",
   "name": "python3"
  },
  "language_info": {
   "codemirror_mode": {
    "name": "ipython",
    "version": 3
   },
   "file_extension": ".py",
   "mimetype": "text/x-python",
   "name": "python",
   "nbconvert_exporter": "python",
   "pygments_lexer": "ipython3",
   "version": "3.10.17"
  }
 },
 "nbformat": 4,
 "nbformat_minor": 5
}
