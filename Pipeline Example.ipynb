{
 "cells": [
  {
   "cell_type": "code",
   "execution_count": 1,
   "id": "e7554f5f-4846-401f-b552-7d3a4913abc9",
   "metadata": {},
   "outputs": [],
   "source": [
    "%load_ext autoreload\n",
    "%autoreload 2"
   ]
  },
  {
   "cell_type": "code",
   "execution_count": 2,
   "id": "75d44625-276b-4a71-8579-a863dfdd386a",
   "metadata": {},
   "outputs": [],
   "source": [
    "import json\n",
    "\n",
    "import llama_cpp\n",
    "import torch\n",
    "\n",
    "from curverag import utils\n",
    "from curverag.curverag import CurveRAG, DEFAULT_ENTITY_TYPES, DEFAULT_GLINER_MODEL\n",
    "from curverag.graph import KnowledgeGraph\n",
    "from curverag.atth.kg_dataset import KGDataset\n",
    "from curverag.atth.models.hyperbolic import AttH"
   ]
  },
  {
   "cell_type": "code",
   "execution_count": 3,
   "id": "f6902138-1540-467d-9c33-940ce1132d63",
   "metadata": {},
   "outputs": [
    {
     "data": {
      "text/plain": [
       "True"
      ]
     },
     "execution_count": 3,
     "metadata": {},
     "output_type": "execute_result"
    }
   ],
   "source": [
    "import os\n",
    "from dotenv import load_dotenv\n",
    "from openai import OpenAI\n",
    "load_dotenv() "
   ]
  },
  {
   "cell_type": "markdown",
   "id": "b54db7ac-f8fc-4e93-9856-d9095cb83b3b",
   "metadata": {},
   "source": [
    "## Dataset and LLM"
   ]
  },
  {
   "cell_type": "code",
   "execution_count": 4,
   "id": "1d1b1091-7820-423a-9515-55de2e82e6c7",
   "metadata": {},
   "outputs": [],
   "source": [
    "max_tokens = 10000\n",
    "n_ctx=10000\n",
    "\n",
    "docs = [\n",
    "    \"The patient was diagnosed with type 2 diabetes mellitus and prescribed metformin 500mg twice daily.\",\n",
    "    \"MRI scan revealed a small lesion in the left temporal lobe suggestive of low-grade glioma.\",\n",
    "    \"Administer 5mg of lorazepam intravenously for acute seizure management.\",\n",
    "    \"Blood tests showed elevated ALT and AST levels, indicating possible liver inflammation.\",\n",
    "    \"The subject reported chronic lower back pain, managed with physical therapy and NSAIDs.\",\n",
    "    \"CT angiography confirmed the presence of a pulmonary embolism in the right lower lobe.\",\n",
    "    \"The patient underwent coronary artery bypass graft surgery without complications.\",\n",
    "    \"Routine vaccination included MMR, tetanus, and influenza immunizations.\",\n",
    "    \"Histopathology indicated ductal carcinoma in situ (DCIS) in the breast biopsy sample.\",\n",
    "    \"The child presented with a persistent cough and fever, diagnosed as streptococcal pharyngitis.\"\n",
    "]\n"
   ]
  },
  {
   "cell_type": "code",
   "execution_count": null,
   "id": "b02d70d5-4de4-498a-a7bb-f2d4ca75b0e7",
   "metadata": {},
   "outputs": [],
   "source": [
    "model = utils.load_model(\n",
    "    llm_model_path=\"./models/Meta-Llama-3-8B-Instruct.Q6_K.gguf\",\n",
    "    tokenizer=llama_cpp.llama_tokenizer.LlamaHFTokenizer.from_pretrained(\"unsloth/Llama-3.2-1B-Instruct\"),\n",
    "    n_ctx=n_ctx,\n",
    "    max_tokens=max_tokens\n",
    ")"
   ]
  },
  {
   "cell_type": "code",
   "execution_count": 6,
   "id": "d3e6a4b7-4ddd-4e52-a173-4aefe38253c8",
   "metadata": {},
   "outputs": [],
   "source": [
    "api_key = os.getenv(\"OPENAI_API_KEY\")\n",
    "client = OpenAI(api_key=api_key)"
   ]
  },
  {
   "cell_type": "markdown",
   "id": "355f6a39-77a2-41ef-8901-624096fdca7f",
   "metadata": {},
   "source": [
    "## Fit CurveRAG"
   ]
  },
  {
   "cell_type": "code",
   "execution_count": 7,
   "id": "516bf805-2db3-4a49-a401-2ba85d9bfc60",
   "metadata": {},
   "outputs": [
    {
     "data": {
      "application/vnd.jupyter.widget-view+json": {
       "model_id": "27f20b4f91514a60b4a314897ee28483",
       "version_major": 2,
       "version_minor": 0
      },
      "text/plain": [
       "Fetching 5 files:   0%|          | 0/5 [00:00<?, ?it/s]"
      ]
     },
     "metadata": {},
     "output_type": "display_data"
    },
    {
     "name": "stderr",
     "output_type": "stream",
     "text": [
      "D:\\Learning\\hyperbolic-graph-rag\\curverag\\.venv\\lib\\site-packages\\transformers\\convert_slow_tokenizer.py:559: UserWarning: The sentencepiece tokenizer that you are converting to a fast tokenizer uses the byte fallback option which is not implemented in the fast tokenizers. In practice this means that the fast version of the tokenizer can produce unknown tokens whereas the sentencepiece version would have converted these unknown tokens into a sequence of byte tokens matching the original piece of text.\n",
      "  warnings.warn(\n"
     ]
    }
   ],
   "source": [
    "entity_types = ['people', 'locations', 'entities', 'movies', 'directors']\n",
    "rag = CurveRAG(\n",
    "    openai_client=client,\n",
    "    entity_types=entity_types,\n",
    ")"
   ]
  },
  {
   "cell_type": "code",
   "execution_count": 7,
   "id": "c65c2378-fa13-429f-85ab-96daa2b6117a",
   "metadata": {},
   "outputs": [
    {
     "ename": "NameError",
     "evalue": "name 'model' is not defined",
     "output_type": "error",
     "traceback": [
      "\u001b[1;31m---------------------------------------------------------------------------\u001b[0m",
      "\u001b[1;31mNameError\u001b[0m                                 Traceback (most recent call last)",
      "Cell \u001b[1;32mIn[7], line 1\u001b[0m\n\u001b[1;32m----> 1\u001b[0m rag \u001b[38;5;241m=\u001b[39m CurveRAG(llm\u001b[38;5;241m=\u001b[39m\u001b[43mmodel\u001b[49m)\n",
      "\u001b[1;31mNameError\u001b[0m: name 'model' is not defined"
     ]
    }
   ],
   "source": [
    "rag = CurveRAG(llm=model)"
   ]
  },
  {
   "cell_type": "code",
   "execution_count": 8,
   "id": "eaa03b50-b55a-4abc-994f-df570c791796",
   "metadata": {},
   "outputs": [
    {
     "name": "stdout",
     "output_type": "stream",
     "text": [
      "creating graph\n"
     ]
    },
    {
     "name": "stderr",
     "output_type": "stream",
     "text": [
      " 10%|████████▎                                                                          | 1/10 [00:05<00:48,  5.37s/it]"
     ]
    },
    {
     "name": "stdout",
     "output_type": "stream",
     "text": [
      "upserting\n"
     ]
    },
    {
     "name": "stderr",
     "output_type": "stream",
     "text": [
      " 20%|████████████████▌                                                                  | 2/10 [00:10<00:43,  5.39s/it]"
     ]
    },
    {
     "name": "stdout",
     "output_type": "stream",
     "text": [
      "upserting\n"
     ]
    },
    {
     "name": "stderr",
     "output_type": "stream",
     "text": [
      " 30%|████████████████████████▉                                                          | 3/10 [00:24<01:05,  9.29s/it]"
     ]
    },
    {
     "name": "stdout",
     "output_type": "stream",
     "text": [
      "upserting\n"
     ]
    },
    {
     "name": "stderr",
     "output_type": "stream",
     "text": [
      " 40%|█████████████████████████████████▏                                                 | 4/10 [00:33<00:54,  9.14s/it]"
     ]
    },
    {
     "name": "stdout",
     "output_type": "stream",
     "text": [
      "upserting\n"
     ]
    },
    {
     "name": "stderr",
     "output_type": "stream",
     "text": [
      " 50%|█████████████████████████████████████████▌                                         | 5/10 [00:41<00:44,  8.82s/it]"
     ]
    },
    {
     "name": "stdout",
     "output_type": "stream",
     "text": [
      "upserting\n"
     ]
    },
    {
     "name": "stderr",
     "output_type": "stream",
     "text": [
      " 60%|█████████████████████████████████████████████████▊                                 | 6/10 [00:47<00:30,  7.59s/it]"
     ]
    },
    {
     "name": "stdout",
     "output_type": "stream",
     "text": [
      "upserting\n"
     ]
    },
    {
     "name": "stderr",
     "output_type": "stream",
     "text": [
      " 70%|██████████████████████████████████████████████████████████                         | 7/10 [00:50<00:18,  6.13s/it]"
     ]
    },
    {
     "name": "stdout",
     "output_type": "stream",
     "text": [
      "upserting\n"
     ]
    },
    {
     "name": "stderr",
     "output_type": "stream",
     "text": [
      " 80%|██████████████████████████████████████████████████████████████████▍                | 8/10 [00:55<00:11,  5.91s/it]"
     ]
    },
    {
     "name": "stdout",
     "output_type": "stream",
     "text": [
      "upserting\n"
     ]
    },
    {
     "name": "stderr",
     "output_type": "stream",
     "text": [
      " 90%|██████████████████████████████████████████████████████████████████████████▋        | 9/10 [00:59<00:05,  5.14s/it]"
     ]
    },
    {
     "name": "stdout",
     "output_type": "stream",
     "text": [
      "upserting\n"
     ]
    },
    {
     "name": "stderr",
     "output_type": "stream",
     "text": [
      "100%|██████████████████████████████████████████████████████████████████████████████████| 10/10 [01:03<00:00,  6.31s/it]\n",
      "2025-06-12 20:14:30,417 INFO     Saving logs in: ./logs/06_12\\test_run\\AttH_20_14_30\n",
      "2025-06-12 20:14:30,418 INFO     \t (32, 30, 32)\n",
      "2025-06-12 20:14:30,433 INFO     Total number of parameters 182094\n",
      "2025-06-12 20:14:30,435 INFO     \t Start training\n"
     ]
    },
    {
     "name": "stdout",
     "output_type": "stream",
     "text": [
      "upserting\n",
      "num nodes 32\n",
      "unique node ids {1, 2, 3, 4, 5, 6, 7, 8, 9, 10, 11, 12, 13, 14, 15, 16, 17, 18, 19, 20, 21, 22, 23, 24, 25, 26, 27, 28, 29, 30, 31, 32}\n",
      "creating dataset\n",
      "train kg embeddings\n",
      "max_epochs 50\n"
     ]
    },
    {
     "name": "stderr",
     "output_type": "stream",
     "text": [
      "train loss: 100%|█████████████████████████████████████████████████████████| 48/48 [00:00<00:00, 55.49ex/s, loss=0.6883]\n",
      "2025-06-12 20:14:31,471 INFO     \t Epoch 0 | average train loss: 0.6883\n",
      "2025-06-12 20:14:31,483 INFO     \t Epoch 0 | average valid loss: 2.0935\n",
      "train loss: 100%|█████████████████████████████████████████████████████████| 48/48 [00:00<00:00, 67.32ex/s, loss=2.1058]\n",
      "2025-06-12 20:14:32,201 INFO     \t Epoch 1 | average train loss: 2.1058\n",
      "2025-06-12 20:14:32,209 INFO     \t Epoch 1 | average valid loss: 1.9162\n",
      "train loss: 100%|█████████████████████████████████████████████████████████| 48/48 [00:00<00:00, 68.28ex/s, loss=1.9965]\n",
      "2025-06-12 20:14:32,916 INFO     \t Epoch 2 | average train loss: 1.9965\n",
      "2025-06-12 20:14:32,926 INFO     \t Epoch 2 | average valid loss: 1.7142\n",
      "2025-06-12 20:14:32,940 INFO     \t valid MR: 26.50 | MRR: 0.110 | H@1: 0.000 | H@3: 0.167 | H@10: 0.167\n",
      "2025-06-12 20:14:32,941 INFO     \t Epoch 2 | average valid mmr: 0.1100\n",
      "2025-06-12 20:14:32,942 INFO     \t Saving model at epoch 2 in ./logs/06_12\\test_run\\AttH_20_14_30\n",
      "train loss: 100%|█████████████████████████████████████████████████████████| 48/48 [00:00<00:00, 66.67ex/s, loss=1.9275]\n",
      "2025-06-12 20:14:33,670 INFO     \t Epoch 3 | average train loss: 1.9275\n",
      "2025-06-12 20:14:33,678 INFO     \t Epoch 3 | average valid loss: 1.6315\n",
      "train loss: 100%|█████████████████████████████████████████████████████████| 48/48 [00:00<00:00, 68.09ex/s, loss=1.6860]\n",
      "2025-06-12 20:14:34,386 INFO     \t Epoch 4 | average train loss: 1.6860\n",
      "2025-06-12 20:14:34,394 INFO     \t Epoch 4 | average valid loss: 1.5167\n",
      "train loss: 100%|█████████████████████████████████████████████████████████| 48/48 [00:00<00:00, 71.86ex/s, loss=1.3873]\n",
      "2025-06-12 20:14:35,066 INFO     \t Epoch 5 | average train loss: 1.3873\n",
      "2025-06-12 20:14:35,074 INFO     \t Epoch 5 | average valid loss: 0.7956\n",
      "2025-06-12 20:14:35,078 INFO     \t valid MR: 15.00 | MRR: 0.098 | H@1: 0.000 | H@3: 0.000 | H@10: 0.333\n",
      "2025-06-12 20:14:35,079 INFO     \t Epoch 5 | average valid mmr: 0.0982\n",
      "train loss: 100%|█████████████████████████████████████████████████████████| 48/48 [00:00<00:00, 77.05ex/s, loss=0.9627]\n",
      "2025-06-12 20:14:35,704 INFO     \t Epoch 6 | average train loss: 0.9627\n",
      "2025-06-12 20:14:35,712 INFO     \t Epoch 6 | average valid loss: 0.9238\n",
      "train loss: 100%|█████████████████████████████████████████████████████████| 48/48 [00:00<00:00, 73.06ex/s, loss=0.5052]\n",
      "2025-06-12 20:14:36,372 INFO     \t Epoch 7 | average train loss: 0.5052\n",
      "2025-06-12 20:14:36,380 INFO     \t Epoch 7 | average valid loss: 0.3304\n",
      "train loss: 100%|█████████████████████████████████████████████████████████| 48/48 [00:00<00:00, 75.59ex/s, loss=0.2597]\n",
      "2025-06-12 20:14:37,018 INFO     \t Epoch 8 | average train loss: 0.2597\n",
      "2025-06-12 20:14:37,027 INFO     \t Epoch 8 | average valid loss: 0.1540\n",
      "2025-06-12 20:14:37,033 INFO     \t valid MR: 16.00 | MRR: 0.131 | H@1: 0.000 | H@3: 0.167 | H@10: 0.167\n",
      "2025-06-12 20:14:37,034 INFO     \t Epoch 8 | average valid mmr: 0.1312\n",
      "2025-06-12 20:14:37,034 INFO     \t Saving model at epoch 8 in ./logs/06_12\\test_run\\AttH_20_14_30\n",
      "train loss: 100%|█████████████████████████████████████████████████████████| 48/48 [00:00<00:00, 68.67ex/s, loss=0.1260]\n",
      "2025-06-12 20:14:37,739 INFO     \t Epoch 9 | average train loss: 0.1260\n",
      "2025-06-12 20:14:37,746 INFO     \t Epoch 9 | average valid loss: 0.1350\n",
      "train loss: 100%|█████████████████████████████████████████████████████████| 48/48 [00:00<00:00, 74.53ex/s, loss=0.1297]\n",
      "2025-06-12 20:14:38,393 INFO     \t Epoch 10 | average train loss: 0.1297\n",
      "2025-06-12 20:14:38,402 INFO     \t Epoch 10 | average valid loss: 0.1335\n",
      "train loss: 100%|█████████████████████████████████████████████████████████| 48/48 [00:00<00:00, 63.91ex/s, loss=0.0683]\n",
      "2025-06-12 20:14:39,157 INFO     \t Epoch 11 | average train loss: 0.0683\n",
      "2025-06-12 20:14:39,165 INFO     \t Epoch 11 | average valid loss: 0.1060\n",
      "2025-06-12 20:14:39,171 INFO     \t valid MR: 12.67 | MRR: 0.247 | H@1: 0.167 | H@3: 0.167 | H@10: 0.667\n",
      "2025-06-12 20:14:39,172 INFO     \t Epoch 11 | average valid mmr: 0.2467\n",
      "2025-06-12 20:14:39,172 INFO     \t Saving model at epoch 11 in ./logs/06_12\\test_run\\AttH_20_14_30\n",
      "train loss: 100%|█████████████████████████████████████████████████████████| 48/48 [00:00<00:00, 71.32ex/s, loss=0.0487]\n",
      "2025-06-12 20:14:39,850 INFO     \t Epoch 12 | average train loss: 0.0487\n",
      "2025-06-12 20:14:39,858 INFO     \t Epoch 12 | average valid loss: 0.1140\n",
      "train loss: 100%|█████████████████████████████████████████████████████████| 48/48 [00:00<00:00, 78.43ex/s, loss=0.0573]\n",
      "2025-06-12 20:14:40,473 INFO     \t Epoch 13 | average train loss: 0.0573\n",
      "2025-06-12 20:14:40,481 INFO     \t Epoch 13 | average valid loss: 0.1209\n",
      "train loss: 100%|█████████████████████████████████████████████████████████| 48/48 [00:00<00:00, 75.95ex/s, loss=0.0571]\n",
      "2025-06-12 20:14:41,116 INFO     \t Epoch 14 | average train loss: 0.0571\n",
      "2025-06-12 20:14:41,125 INFO     \t Epoch 14 | average valid loss: 0.1362\n",
      "2025-06-12 20:14:41,131 INFO     \t valid MR: 15.17 | MRR: 0.136 | H@1: 0.000 | H@3: 0.167 | H@10: 0.333\n",
      "2025-06-12 20:14:41,132 INFO     \t Epoch 14 | average valid mmr: 0.1356\n",
      "train loss: 100%|█████████████████████████████████████████████████████████| 48/48 [00:00<00:00, 75.95ex/s, loss=0.0431]\n",
      "2025-06-12 20:14:41,767 INFO     \t Epoch 15 | average train loss: 0.0431\n",
      "2025-06-12 20:14:41,775 INFO     \t Epoch 15 | average valid loss: 0.1053\n",
      "train loss: 100%|█████████████████████████████████████████████████████████| 48/48 [00:00<00:00, 78.95ex/s, loss=0.0528]\n",
      "2025-06-12 20:14:42,386 INFO     \t Epoch 16 | average train loss: 0.0528\n",
      "2025-06-12 20:14:42,395 INFO     \t Epoch 16 | average valid loss: 0.0851\n",
      "train loss: 100%|█████████████████████████████████████████████████████████| 48/48 [00:00<00:00, 77.92ex/s, loss=0.0524]\n",
      "2025-06-12 20:14:43,012 INFO     \t Epoch 17 | average train loss: 0.0524\n",
      "2025-06-12 20:14:43,020 INFO     \t Epoch 17 | average valid loss: 0.1214\n",
      "2025-06-12 20:14:43,025 INFO     \t valid MR: 19.00 | MRR: 0.125 | H@1: 0.000 | H@3: 0.167 | H@10: 0.167\n",
      "2025-06-12 20:14:43,025 INFO     \t Epoch 17 | average valid mmr: 0.1254\n",
      "train loss: 100%|█████████████████████████████████████████████████████████| 48/48 [00:00<00:00, 77.17ex/s, loss=0.0423]\n",
      "2025-06-12 20:14:43,651 INFO     \t Epoch 18 | average train loss: 0.0423\n",
      "2025-06-12 20:14:43,658 INFO     \t Epoch 18 | average valid loss: 0.1317\n",
      "train loss: 100%|█████████████████████████████████████████████████████████| 48/48 [00:00<00:00, 73.62ex/s, loss=0.0383]\n",
      "2025-06-12 20:14:44,313 INFO     \t Epoch 19 | average train loss: 0.0383\n",
      "2025-06-12 20:14:44,322 INFO     \t Epoch 19 | average valid loss: 0.1530\n",
      "train loss: 100%|█████████████████████████████████████████████████████████| 48/48 [00:00<00:00, 77.54ex/s, loss=0.0360]\n",
      "2025-06-12 20:14:44,944 INFO     \t Epoch 20 | average train loss: 0.0360\n",
      "2025-06-12 20:14:44,951 INFO     \t Epoch 20 | average valid loss: 0.1301\n",
      "2025-06-12 20:14:44,956 INFO     \t valid MR: 18.00 | MRR: 0.127 | H@1: 0.000 | H@3: 0.167 | H@10: 0.167\n",
      "2025-06-12 20:14:44,956 INFO     \t Epoch 20 | average valid mmr: 0.1273\n",
      "train loss: 100%|█████████████████████████████████████████████████████████| 48/48 [00:00<00:00, 78.43ex/s, loss=0.0302]\n",
      "2025-06-12 20:14:45,571 INFO     \t Epoch 21 | average train loss: 0.0302\n",
      "2025-06-12 20:14:45,578 INFO     \t Epoch 21 | average valid loss: 0.1190\n",
      "train loss: 100%|█████████████████████████████████████████████████████████| 48/48 [00:00<00:00, 79.21ex/s, loss=0.0387]\n",
      "2025-06-12 20:14:46,187 INFO     \t Epoch 22 | average train loss: 0.0387\n",
      "2025-06-12 20:14:46,195 INFO     \t Epoch 22 | average valid loss: 0.0941\n",
      "train loss: 100%|█████████████████████████████████████████████████████████| 48/48 [00:00<00:00, 79.87ex/s, loss=0.0399]\n",
      "2025-06-12 20:14:46,799 INFO     \t Epoch 23 | average train loss: 0.0399\n",
      "2025-06-12 20:14:46,807 INFO     \t Epoch 23 | average valid loss: 0.1014\n",
      "2025-06-12 20:14:46,811 INFO     \t valid MR: 13.83 | MRR: 0.126 | H@1: 0.000 | H@3: 0.167 | H@10: 0.500\n",
      "2025-06-12 20:14:46,812 INFO     \t Epoch 23 | average valid mmr: 0.1260\n",
      "train loss: 100%|█████████████████████████████████████████████████████████| 48/48 [00:00<00:00, 78.43ex/s, loss=0.0371]\n",
      "2025-06-12 20:14:47,426 INFO     \t Epoch 24 | average train loss: 0.0371\n",
      "2025-06-12 20:14:47,433 INFO     \t Epoch 24 | average valid loss: 0.1250\n",
      "train loss: 100%|█████████████████████████████████████████████████████████| 48/48 [00:00<00:00, 77.05ex/s, loss=0.0337]\n",
      "2025-06-12 20:14:48,059 INFO     \t Epoch 25 | average train loss: 0.0337\n",
      "2025-06-12 20:14:48,069 INFO     \t Epoch 25 | average valid loss: 0.1339\n",
      "train loss: 100%|█████████████████████████████████████████████████████████| 48/48 [00:00<00:00, 78.56ex/s, loss=0.0371]\n",
      "2025-06-12 20:14:48,683 INFO     \t Epoch 26 | average train loss: 0.0371\n",
      "2025-06-12 20:14:48,690 INFO     \t Epoch 26 | average valid loss: 0.1415\n",
      "2025-06-12 20:14:48,694 INFO     \t valid MR: 19.83 | MRR: 0.141 | H@1: 0.000 | H@3: 0.167 | H@10: 0.333\n",
      "2025-06-12 20:14:48,694 INFO     \t Epoch 26 | average valid mmr: 0.1405\n",
      "train loss: 100%|█████████████████████████████████████████████████████████| 48/48 [00:00<00:00, 73.06ex/s, loss=0.0380]\n",
      "2025-06-12 20:14:49,354 INFO     \t Epoch 27 | average train loss: 0.0380\n",
      "2025-06-12 20:14:49,362 INFO     \t Epoch 27 | average valid loss: 0.1460\n",
      "train loss: 100%|█████████████████████████████████████████████████████████| 48/48 [00:00<00:00, 75.59ex/s, loss=0.0338]\n",
      "2025-06-12 20:14:50,001 INFO     \t Epoch 28 | average train loss: 0.0338\n",
      "2025-06-12 20:14:50,010 INFO     \t Epoch 28 | average valid loss: 0.1301\n",
      "train loss: 100%|█████████████████████████████████████████████████████████| 48/48 [00:00<00:00, 78.82ex/s, loss=0.0251]\n",
      "2025-06-12 20:14:50,622 INFO     \t Epoch 29 | average train loss: 0.0251\n",
      "2025-06-12 20:14:50,630 INFO     \t Epoch 29 | average valid loss: 0.1185\n",
      "2025-06-12 20:14:50,635 INFO     \t valid MR: 14.33 | MRR: 0.187 | H@1: 0.000 | H@3: 0.333 | H@10: 0.500\n",
      "2025-06-12 20:14:50,635 INFO     \t Epoch 29 | average valid mmr: 0.1868\n",
      "train loss: 100%|█████████████████████████████████████████████████████████| 48/48 [00:00<00:00, 76.92ex/s, loss=0.0231]\n",
      "2025-06-12 20:14:51,262 INFO     \t Epoch 30 | average train loss: 0.0231\n",
      "2025-06-12 20:14:51,271 INFO     \t Epoch 30 | average valid loss: 0.1127\n",
      "train loss: 100%|█████████████████████████████████████████████████████████| 48/48 [00:00<00:00, 78.82ex/s, loss=0.0254]\n",
      "2025-06-12 20:14:51,883 INFO     \t Epoch 31 | average train loss: 0.0254\n",
      "2025-06-12 20:14:51,890 INFO     \t Epoch 31 | average valid loss: 0.0977\n",
      "train loss: 100%|█████████████████████████████████████████████████████████| 48/48 [00:00<00:00, 78.56ex/s, loss=0.0278]\n",
      "2025-06-12 20:14:52,504 INFO     \t Epoch 32 | average train loss: 0.0278\n",
      "2025-06-12 20:14:52,512 INFO     \t Epoch 32 | average valid loss: 0.0979\n",
      "2025-06-12 20:14:52,517 INFO     \t valid MR: 11.50 | MRR: 0.180 | H@1: 0.000 | H@3: 0.167 | H@10: 0.500\n",
      "2025-06-12 20:14:52,518 INFO     \t Epoch 32 | average valid mmr: 0.1801\n",
      "train loss: 100%|█████████████████████████████████████████████████████████| 48/48 [00:00<00:00, 78.82ex/s, loss=0.0246]\n",
      "2025-06-12 20:14:53,129 INFO     \t Epoch 33 | average train loss: 0.0246\n",
      "2025-06-12 20:14:53,137 INFO     \t Epoch 33 | average valid loss: 0.1150\n",
      "train loss: 100%|█████████████████████████████████████████████████████████| 48/48 [00:00<00:00, 78.30ex/s, loss=0.0257]\n",
      "2025-06-12 20:14:53,753 INFO     \t Epoch 34 | average train loss: 0.0257\n",
      "2025-06-12 20:14:53,761 INFO     \t Epoch 34 | average valid loss: 0.1244\n",
      "train loss: 100%|█████████████████████████████████████████████████████████| 48/48 [00:00<00:00, 78.56ex/s, loss=0.0279]\n",
      "2025-06-12 20:14:54,374 INFO     \t Epoch 35 | average train loss: 0.0279\n",
      "2025-06-12 20:14:54,382 INFO     \t Epoch 35 | average valid loss: 0.1337\n",
      "2025-06-12 20:14:54,387 INFO     \t valid MR: 14.17 | MRR: 0.109 | H@1: 0.000 | H@3: 0.167 | H@10: 0.167\n",
      "2025-06-12 20:14:54,388 INFO     \t Epoch 35 | average valid mmr: 0.1085\n",
      "train loss: 100%|█████████████████████████████████████████████████████████| 48/48 [00:00<00:00, 78.69ex/s, loss=0.0252]\n",
      "2025-06-12 20:14:55,000 INFO     \t Epoch 36 | average train loss: 0.0252\n",
      "2025-06-12 20:14:55,009 INFO     \t Epoch 36 | average valid loss: 0.1345\n",
      "train loss: 100%|█████████████████████████████████████████████████████████| 48/48 [00:00<00:00, 76.55ex/s, loss=0.0235]\n",
      "2025-06-12 20:14:55,638 INFO     \t Epoch 37 | average train loss: 0.0235\n",
      "2025-06-12 20:14:55,647 INFO     \t Epoch 37 | average valid loss: 0.1393\n",
      "train loss: 100%|█████████████████████████████████████████████████████████| 48/48 [00:00<00:00, 75.71ex/s, loss=0.0337]\n",
      "2025-06-12 20:14:56,284 INFO     \t Epoch 38 | average train loss: 0.0337\n",
      "2025-06-12 20:14:56,293 INFO     \t Epoch 38 | average valid loss: 0.1308\n",
      "2025-06-12 20:14:56,297 INFO     \t valid MR: 18.33 | MRR: 0.135 | H@1: 0.000 | H@3: 0.167 | H@10: 0.333\n",
      "2025-06-12 20:14:56,297 INFO     \t Epoch 38 | average valid mmr: 0.1349\n",
      "train loss: 100%|█████████████████████████████████████████████████████████| 48/48 [00:00<00:00, 78.43ex/s, loss=0.0416]\n",
      "2025-06-12 20:14:56,912 INFO     \t Epoch 39 | average train loss: 0.0416\n",
      "2025-06-12 20:14:56,919 INFO     \t Epoch 39 | average valid loss: 0.1329\n",
      "train loss: 100%|█████████████████████████████████████████████████████████| 48/48 [00:00<00:00, 79.08ex/s, loss=0.0314]\n",
      "2025-06-12 20:14:57,529 INFO     \t Epoch 40 | average train loss: 0.0314\n",
      "2025-06-12 20:14:57,538 INFO     \t Epoch 40 | average valid loss: 0.1308\n",
      "train loss: 100%|█████████████████████████████████████████████████████████| 48/48 [00:00<00:00, 79.21ex/s, loss=0.0219]\n",
      "2025-06-12 20:14:58,147 INFO     \t Epoch 41 | average train loss: 0.0219\n",
      "2025-06-12 20:14:58,155 INFO     \t Epoch 41 | average valid loss: 0.1281\n",
      "2025-06-12 20:14:58,159 INFO     \t valid MR: 19.83 | MRR: 0.120 | H@1: 0.000 | H@3: 0.167 | H@10: 0.167\n",
      "2025-06-12 20:14:58,160 INFO     \t Epoch 41 | average valid mmr: 0.1199\n",
      "2025-06-12 20:14:58,161 INFO     \t Early stopping\n",
      "2025-06-12 20:14:58,161 INFO     \t Optimization finished\n",
      "2025-06-12 20:14:58,162 INFO     \t Loading best model saved at epoch 11\n",
      "2025-06-12 20:14:58,171 INFO     \t valid MR: 12.67 | MRR: 0.247 | H@1: 0.167 | H@3: 0.167 | H@10: 0.667\n",
      "2025-06-12 20:14:58,175 INFO     \t test MR: 15.17 | MRR: 0.240 | H@1: 0.000 | H@3: 0.500 | H@10: 0.500\n"
     ]
    },
    {
     "name": "stdout",
     "output_type": "stream",
     "text": [
      "returning model\n"
     ]
    },
    {
     "data": {
      "application/vnd.jupyter.widget-view+json": {
       "model_id": "261f019a4dfa44569323e1eb0dae65c2",
       "version_major": 2,
       "version_minor": 0
      },
      "text/plain": [
       "Batches:   0%|          | 0/1 [00:00<?, ?it/s]"
      ]
     },
     "metadata": {},
     "output_type": "display_data"
    }
   ],
   "source": [
    "rag.fit(docs=docs, dataset_name='test_run')"
   ]
  },
  {
   "cell_type": "code",
   "execution_count": 9,
   "id": "4afc5868-24d8-40be-a861-d5921c9793d1",
   "metadata": {},
   "outputs": [
    {
     "data": {
      "text/plain": [
       "32"
      ]
     },
     "execution_count": 9,
     "metadata": {},
     "output_type": "execute_result"
    }
   ],
   "source": [
    "len(rag.graph.nodes)"
   ]
  },
  {
   "cell_type": "code",
   "execution_count": 10,
   "id": "1d42c46e-319d-4fa3-94c0-3a7bd0ed520a",
   "metadata": {},
   "outputs": [
    {
     "name": "stderr",
     "output_type": "stream",
     "text": [
      "C:\\Users\\natha\\AppData\\Local\\Temp\\ipykernel_41816\\946862156.py:3: PydanticDeprecatedSince20: The `dict` method is deprecated; use `model_dump` instead. Deprecated in Pydantic V2.0 to be removed in V3.0. See Pydantic V2 Migration Guide at https://errors.pydantic.dev/2.11/migration/\n",
      "  json.dump(rag.graph.dict(), f, indent=4)\n"
     ]
    }
   ],
   "source": [
    "import json\n",
    "with open('rag.graph.json', 'w') as f:\n",
    "    json.dump(rag.graph.dict(), f, indent=4)"
   ]
  },
  {
   "cell_type": "code",
   "execution_count": 11,
   "id": "53cbe739-3424-4bc7-8a10-70542b83de72",
   "metadata": {},
   "outputs": [
    {
     "data": {
      "text/plain": [
       "[Node(id=1, name='Patient', description='A person receiving medical care. A person receiving medical care. A person receiving medical care. A person receiving medical care. A person receiving medical care. A person receiving medical care. A person receiving medical care. A person receiving medical care. A person receiving medical care.', alias=['Individual', 'Subject', 'Patient'], additional_information=['Diagnosed with type 2 diabetes mellitus']),\n",
       " Node(id=2, name='Type 2 Diabetes Mellitus', description='A chronic condition affecting the way the body processes blood sugar. A chronic condition affecting the way the body processes blood sugar.', alias=['Diabetes Type 2', 'Type 2 Diabetes Mellitus'], additional_information=[]),\n",
       " Node(id=3, name='Metformin', description='A medication used to improve blood sugar control in people with type 2 diabetes. A medication used to improve blood sugar control in people with type 2 diabetes.', alias=['Metformin'], additional_information=['Prescribed at 500mg twice daily']),\n",
       " Node(id=4, name='Lesion', description='An area of abnormal tissue in the brain. An area of abnormal tissue in the brain.', alias=['Lesion'], additional_information=['Located in the left temporal lobe']),\n",
       " Node(id=5, name='Low-Grade Glioma', description='A type of slow-growing brain tumor. A type of slow-growing brain tumor.', alias=['Glioma', 'Low-Grade Glioma'], additional_information=[]),\n",
       " Node(id=6, name='Left Temporal Lobe', description='A region of the brain involved in processing auditory information and memory. A region of the brain involved in processing auditory information and memory.', alias=['Left Temporal Lobe'], additional_information=[]),\n",
       " Node(id=7, name='MRI Scan', description='A medical imaging technique used to visualize internal structures of the body. A medical imaging technique used to visualize internal structures of the body.', alias=['MRI Scan'], additional_information=['Revealed a small lesion']),\n",
       " Node(id=8, name='Lorazepam', description='A medication used to treat seizure disorders and anxiety.', alias=[], additional_information=['Administered at 5mg intravenously']),\n",
       " Node(id=9, name='Acute Seizure', description='A sudden episode of seizure activity.', alias=['Seizure Episode'], additional_information=[]),\n",
       " Node(id=10, name='Blood Test', description='A medical test to assess various components in the blood.', alias=['Blood Tests'], additional_information=['Showed elevated ALT and AST levels']),\n",
       " Node(id=11, name='ALT', description='Alanine aminotransferase, an enzyme found in the liver.', alias=[], additional_information=['Elevated levels indicate possible liver inflammation']),\n",
       " Node(id=12, name='AST', description='Aspartate aminotransferase, an enzyme found in the liver.', alias=[], additional_information=['Elevated levels indicate possible liver inflammation']),\n",
       " Node(id=13, name='Liver Inflammation', description='Swelling and irritation of the liver.', alias=['Hepatitis'], additional_information=['Indicated by elevated ALT and AST levels']),\n",
       " Node(id=14, name='Chronic Lower Back Pain', description='Persistent pain in the lower back area.', alias=['Lower Back Pain', 'Chronic Back Pain'], additional_information=[]),\n",
       " Node(id=15, name='Physical Therapy', description='A treatment method to promote movement and manage pain.', alias=['Physical Therapy'], additional_information=[]),\n",
       " Node(id=16, name='NSAIDs', description='Nonsteroidal anti-inflammatory drugs used to reduce pain and inflammation.', alias=['Nonsteroidal Anti-Inflammatory Drugs'], additional_information=[]),\n",
       " Node(id=17, name='Pain Management', description='The process of providing medical care that alleviates or reduces pain.', alias=['Managing Pain'], additional_information=[]),\n",
       " Node(id=18, name='Pulmonary Embolism', description='A blockage in one of the pulmonary arteries in the lungs.', alias=[], additional_information=['Confirmed by CT angiography']),\n",
       " Node(id=19, name='Right Lower Lobe', description='A section of the right lung.', alias=[], additional_information=[]),\n",
       " Node(id=20, name='CT Angiography', description='A medical imaging technique used to visualize the blood vessels.', alias=['CT Angio'], additional_information=[]),\n",
       " Node(id=21, name='Lung', description='An essential respiratory organ in the body.', alias=[], additional_information=[]),\n",
       " Node(id=22, name='Blood Vessels', description='A network of tubes that carry blood throughout the body.', alias=[], additional_information=[]),\n",
       " Node(id=23, name='Coronary Artery Bypass Graft Surgery', description='A surgical procedure to improve blood flow to the heart.', alias=['CABG', 'Bypass Surgery'], additional_information=['Performed without complications']),\n",
       " Node(id=24, name='MMR', description='A vaccine for measles, mumps, and rubella.', alias=['Measles, Mumps, Rubella Vaccine'], additional_information=[]),\n",
       " Node(id=25, name='Tetanus Vaccine', description='A vaccine that protects against tetanus.', alias=['Tetanus Immunization'], additional_information=[]),\n",
       " Node(id=26, name='Influenza Vaccine', description='A vaccine that protects against the influenza virus.', alias=['Flu Vaccine'], additional_information=[]),\n",
       " Node(id=27, name='Ductal Carcinoma In Situ', description=\"A type of breast cancer that starts in the ducts and hasn't spread.\", alias=['DCIS'], additional_information=[]),\n",
       " Node(id=28, name='Breast Biopsy', description='A medical procedure to remove a sample of breast tissue for examination.', alias=[], additional_information=[]),\n",
       " Node(id=29, name='Histopathology', description='The study of changes in tissues caused by disease.', alias=[], additional_information=[]),\n",
       " Node(id=30, name='Streptococcal Pharyngitis', description='A bacterial infection causing inflammation of the throat.', alias=['Strep Throat'], additional_information=[]),\n",
       " Node(id=31, name='Cough', description='A sudden, forceful hacking sound to release air from the lungs.', alias=[], additional_information=['Persistent cough reported']),\n",
       " Node(id=32, name='Fever', description='An elevated body temperature.', alias=[], additional_information=['Child presented with fever'])]"
      ]
     },
     "execution_count": 11,
     "metadata": {},
     "output_type": "execute_result"
    }
   ],
   "source": [
    "rag.graph.nodes"
   ]
  },
  {
   "cell_type": "code",
   "execution_count": 11,
   "id": "d4f1a67e-0279-4f51-a26b-11df42055540",
   "metadata": {},
   "outputs": [
    {
     "name": "stderr",
     "output_type": "stream",
     "text": [
      "/var/folders/m6/12prs8yx2r90psgztq05hy_c0000gn/T/ipykernel_69670/774845048.py:1: PydanticDeprecatedSince20: The `dict` method is deprecated; use `model_dump` instead. Deprecated in Pydantic V2.0 to be removed in V3.0. See Pydantic V2 Migration Guide at https://errors.pydantic.dev/2.11/migration/\n",
      "  rag.graph.dict()\n"
     ]
    },
    {
     "data": {
      "text/plain": [
       "{'nodes': [{'id': 1,\n",
       "   'name': 'Patient',\n",
       "   'description': 'A person who is receiving medical treatment',\n",
       "   'alias': ['individual', 'person']},\n",
       "  {'id': 2,\n",
       "   'name': 'Diabetes Mellitus',\n",
       "   'description': 'A group of metabolic disorders characterized by high blood sugar levels',\n",
       "   'alias': ['diabetes', 'DM']},\n",
       "  {'id': 3,\n",
       "   'name': 'Metformin',\n",
       "   'description': 'A medication used to treat type 2 diabetes',\n",
       "   'alias': ['glucophage', 'metformin hydrochloride']},\n",
       "  {'id': 4,\n",
       "   'name': 'Type 2 Diabetes',\n",
       "   'description': 'A type of diabetes that is caused by insulin resistance and impaired insulin secretion',\n",
       "   'alias': ['T2D', 'non-insulin-dependent diabetes']},\n",
       "  {'id': 5,\n",
       "   'name': 'Daily',\n",
       "   'description': 'A unit of time',\n",
       "   'alias': ['day', '24 hours']},\n",
       "  {'id': 6,\n",
       "   'name': '500mg',\n",
       "   'description': 'A dosage of medication',\n",
       "   'alias': ['half a gram', '0.5 grams']},\n",
       "  {'id': 7,\n",
       "   'name': 'Twice',\n",
       "   'description': 'A frequency of medication administration',\n",
       "   'alias': ['every 12 hours', 'b.i.d.']},\n",
       "  {'id': 8,\n",
       "   'name': 'MRI',\n",
       "   'description': 'A medical imaging technique',\n",
       "   'alias': ['magnetic resonance imaging']},\n",
       "  {'id': 9,\n",
       "   'name': 'Lesion',\n",
       "   'description': 'An abnormality in the tissue',\n",
       "   'alias': ['lesion', 'abnormality']},\n",
       "  {'id': 10,\n",
       "   'name': 'Temporal lobe',\n",
       "   'description': 'A part of the brain',\n",
       "   'alias': ['temporal', 'lobe']},\n",
       "  {'id': 11,\n",
       "   'name': 'Glioma',\n",
       "   'description': 'A type of brain tumor',\n",
       "   'alias': ['glioma', 'brain tumor']},\n",
       "  {'id': 12,\n",
       "   'name': 'Low-grade',\n",
       "   'description': 'A classification of glioma',\n",
       "   'alias': ['low grade', 'grade 1']},\n",
       "  {'id': 13,\n",
       "   'name': 'Lorazepam',\n",
       "   'description': 'A medication used to treat anxiety and seizures',\n",
       "   'alias': ['lorazepam', 'ativan']},\n",
       "  {'id': 14,\n",
       "   'name': 'Seizure',\n",
       "   'description': 'A sudden, uncontrolled electrical discharge of the brain',\n",
       "   'alias': ['seizure', 'convulsion']},\n",
       "  {'id': 15,\n",
       "   'name': 'Acute',\n",
       "   'description': 'A sudden and severe condition',\n",
       "   'alias': ['acute', 'sudden']},\n",
       "  {'id': 16,\n",
       "   'name': 'Intravenous',\n",
       "   'description': 'A method of administering medication',\n",
       "   'alias': ['iv', 'intravenous']},\n",
       "  {'id': 17,\n",
       "   'name': 'Management',\n",
       "   'description': 'The process of controlling or treating a condition',\n",
       "   'alias': ['management', 'treatment']},\n",
       "  {'id': 18,\n",
       "   'name': 'Blood tests',\n",
       "   'description': 'A medical examination of the blood',\n",
       "   'alias': ['blood test', 'blood examination']},\n",
       "  {'id': 19,\n",
       "   'name': 'ALT',\n",
       "   'description': 'An enzyme in the liver',\n",
       "   'alias': ['alanine aminotransferase', 'ALT enzyme']},\n",
       "  {'id': 20,\n",
       "   'name': 'AST',\n",
       "   'description': 'An enzyme in the liver',\n",
       "   'alias': ['aspartate aminotransferase', 'AST enzyme']},\n",
       "  {'id': 21,\n",
       "   'name': 'Liver inflammation',\n",
       "   'description': 'An inflammation of the liver',\n",
       "   'alias': ['liver inflammation', 'hepatitis']},\n",
       "  {'id': 22,\n",
       "   'name': 'Subject',\n",
       "   'description': 'A person who is receiving medical treatment',\n",
       "   'alias': ['patient', 'individual']},\n",
       "  {'id': 23,\n",
       "   'name': 'Chronic',\n",
       "   'description': 'A long-term condition',\n",
       "   'alias': ['long-term', 'persistent']},\n",
       "  {'id': 24,\n",
       "   'name': 'Lower back pain',\n",
       "   'description': 'A type of pain',\n",
       "   'alias': ['back pain', 'lumbar pain']},\n",
       "  {'id': 25,\n",
       "   'name': 'Physical therapy',\n",
       "   'description': 'A type of treatment',\n",
       "   'alias': ['PT', 'physical therapy']},\n",
       "  {'id': 26,\n",
       "   'name': 'NSAIDs',\n",
       "   'description': 'A type of medication',\n",
       "   'alias': ['nonsteroidal anti-inflammatory drugs', 'pain relievers']},\n",
       "  {'id': 27,\n",
       "   'name': 'CT angiography',\n",
       "   'description': 'A medical imaging technique',\n",
       "   'alias': ['CTA', 'computed tomography angiography']},\n",
       "  {'id': 28,\n",
       "   'name': 'Pulmonary embolism',\n",
       "   'description': 'A blockage of the pulmonary artery',\n",
       "   'alias': ['PE', 'pulmonary thromboembolism']},\n",
       "  {'id': 29,\n",
       "   'name': 'Right lower lobe',\n",
       "   'description': 'A part of the lung',\n",
       "   'alias': ['RLL', 'right lower lobe of the lung']},\n",
       "  {'id': 30,\n",
       "   'name': 'Coronary Artery Bypass Graft Surgery',\n",
       "   'description': 'A surgical procedure to bypass blocked coronary arteries',\n",
       "   'alias': ['CABG', 'coronary bypass surgery']},\n",
       "  {'id': 32,\n",
       "   'name': 'Complication',\n",
       "   'description': 'An adverse event that occurs during or after a medical treatment',\n",
       "   'alias': ['adverse event', 'complication']},\n",
       "  {'id': 31,\n",
       "   'name': 'Routine vaccination',\n",
       "   'description': 'A regular vaccination schedule',\n",
       "   'alias': ['routine vaccination', 'immunization']},\n",
       "  {'id': 33,\n",
       "   'name': 'MMR',\n",
       "   'description': 'A type of vaccine',\n",
       "   'alias': ['measles, mumps, rubella', 'measles, mumps, rubella vaccine']},\n",
       "  {'id': 34,\n",
       "   'name': 'Tetanus',\n",
       "   'description': 'A type of vaccine',\n",
       "   'alias': ['tetanus vaccine', 'tetanus toxoid']},\n",
       "  {'id': 35,\n",
       "   'name': 'Influenza',\n",
       "   'description': 'A type of vaccine',\n",
       "   'alias': ['influenza vaccine', 'flu vaccine']},\n",
       "  {'id': 36,\n",
       "   'name': 'Histopathology',\n",
       "   'description': 'The study of the microscopic structure of tissues',\n",
       "   'alias': ['histopathology', 'microscopic examination']},\n",
       "  {'id': 37,\n",
       "   'name': 'Ductal Carcinoma In Situ',\n",
       "   'description': 'A type of breast cancer',\n",
       "   'alias': ['DCIS', 'ductal carcinoma in situ', 'breast cancer']},\n",
       "  {'id': 38,\n",
       "   'name': 'Breast',\n",
       "   'description': 'The organ responsible for milk production in females',\n",
       "   'alias': ['breast', 'mammary gland']},\n",
       "  {'id': 39,\n",
       "   'name': 'Biopsy',\n",
       "   'description': 'A medical procedure to remove a sample of tissue for examination',\n",
       "   'alias': ['biopsy', 'tissue sample']},\n",
       "  {'id': 40,\n",
       "   'name': 'Child',\n",
       "   'description': 'A young human being',\n",
       "   'alias': ['young person', 'juvenile']},\n",
       "  {'id': 41,\n",
       "   'name': 'Cough',\n",
       "   'description': 'A sudden and involuntary expulsion of air from the lungs',\n",
       "   'alias': ['coughing', 'coughs']},\n",
       "  {'id': 42,\n",
       "   'name': 'Fever',\n",
       "   'description': 'An elevated body temperature',\n",
       "   'alias': ['feverish', 'febrile']},\n",
       "  {'id': 43,\n",
       "   'name': 'Streptococcal Pharyngitis',\n",
       "   'description': 'An infection of the pharynx caused by streptococcal bacteria',\n",
       "   'alias': ['strep throat', 'pharyngitis']},\n",
       "  {'id': 44,\n",
       "   'name': 'Pharynx',\n",
       "   'description': 'The part of the throat that connects the nose and mouth',\n",
       "   'alias': ['throat', 'pharynx']},\n",
       "  {'id': 45,\n",
       "   'name': 'Streptococcus',\n",
       "   'description': 'A type of bacteria',\n",
       "   'alias': ['strep', 'streptococcus']}],\n",
       " 'edges': [{'source': 1,\n",
       "   'target': 2,\n",
       "   'name': 'has_disease',\n",
       "   'is_directed': True,\n",
       "   'description': 'The patient has the disease'},\n",
       "  {'source': 1,\n",
       "   'target': 3,\n",
       "   'name': 'takes_medication',\n",
       "   'is_directed': True,\n",
       "   'description': 'The patient is taking the medication'},\n",
       "  {'source': 3,\n",
       "   'target': 4,\n",
       "   'name': 'treats',\n",
       "   'is_directed': True,\n",
       "   'description': 'The medication treats the disease'},\n",
       "  {'source': 1,\n",
       "   'target': 5,\n",
       "   'name': 'takes_medication_at',\n",
       "   'is_directed': True,\n",
       "   'description': 'The patient takes the medication at a specific time'},\n",
       "  {'source': 3,\n",
       "   'target': 6,\n",
       "   'name': 'has_dosage',\n",
       "   'is_directed': True,\n",
       "   'description': 'The medication has a specific dosage'},\n",
       "  {'source': 1,\n",
       "   'target': 7,\n",
       "   'name': 'takes_medication_frequency',\n",
       "   'is_directed': True,\n",
       "   'description': 'The patient takes the medication at a specific frequency'},\n",
       "  {'source': 1,\n",
       "   'target': 8,\n",
       "   'name': 'uses',\n",
       "   'is_directed': True,\n",
       "   'description': 'The MRI uses a specific technique'},\n",
       "  {'source': 8,\n",
       "   'target': 9,\n",
       "   'name': 'reveals',\n",
       "   'is_directed': True,\n",
       "   'description': 'The MRI reveals a lesion'},\n",
       "  {'source': 9,\n",
       "   'target': 10,\n",
       "   'name': 'located_in',\n",
       "   'is_directed': True,\n",
       "   'description': 'The lesion is located in the temporal lobe'},\n",
       "  {'source': 10,\n",
       "   'target': 11,\n",
       "   'name': 'affected_by',\n",
       "   'is_directed': True,\n",
       "   'description': 'The temporal lobe is affected by the glioma'},\n",
       "  {'source': 11,\n",
       "   'target': 12,\n",
       "   'name': 'classified_as',\n",
       "   'is_directed': True,\n",
       "   'description': 'The glioma is classified as low-grade'},\n",
       "  {'source': 1,\n",
       "   'target': 13,\n",
       "   'name': 'administers',\n",
       "   'is_directed': True,\n",
       "   'description': 'The patient is administered the medication'},\n",
       "  {'source': 1,\n",
       "   'target': 14,\n",
       "   'name': 'has_condition',\n",
       "   'is_directed': True,\n",
       "   'description': 'The patient has the condition'},\n",
       "  {'source': 13,\n",
       "   'target': 14,\n",
       "   'name': 'treats',\n",
       "   'is_directed': True,\n",
       "   'description': 'The medication treats the condition'},\n",
       "  {'source': 1,\n",
       "   'target': 15,\n",
       "   'name': 'has_condition',\n",
       "   'is_directed': True,\n",
       "   'description': 'The patient has the condition'},\n",
       "  {'source': 13,\n",
       "   'target': 16,\n",
       "   'name': 'administers_via',\n",
       "   'is_directed': True,\n",
       "   'description': 'The medication is administered via a specific method'},\n",
       "  {'source': 1,\n",
       "   'target': 17,\n",
       "   'name': 'undergoes',\n",
       "   'is_directed': True,\n",
       "   'description': 'The patient undergoes a specific process'},\n",
       "  {'source': 1,\n",
       "   'target': 18,\n",
       "   'name': 'performed',\n",
       "   'is_directed': True,\n",
       "   'description': 'The blood tests were performed'},\n",
       "  {'source': 18,\n",
       "   'target': 19,\n",
       "   'name': 'measured',\n",
       "   'is_directed': True,\n",
       "   'description': 'The ALT levels were measured'},\n",
       "  {'source': 18,\n",
       "   'target': 20,\n",
       "   'name': 'measured',\n",
       "   'is_directed': True,\n",
       "   'description': 'The AST levels were measured'},\n",
       "  {'source': 19,\n",
       "   'target': 21,\n",
       "   'name': 'indicates',\n",
       "   'is_directed': True,\n",
       "   'description': 'The elevated ALT levels indicate liver inflammation'},\n",
       "  {'source': 20,\n",
       "   'target': 21,\n",
       "   'name': 'indicates',\n",
       "   'is_directed': True,\n",
       "   'description': 'The elevated AST levels indicate liver inflammation'},\n",
       "  {'source': 1,\n",
       "   'target': 22,\n",
       "   'name': 'has_condition',\n",
       "   'is_directed': True,\n",
       "   'description': 'The patient has the condition'},\n",
       "  {'source': 22,\n",
       "   'target': 23,\n",
       "   'name': 'has_characteristic',\n",
       "   'is_directed': True,\n",
       "   'description': 'The condition has a characteristic'},\n",
       "  {'source': 22,\n",
       "   'target': 24,\n",
       "   'name': 'experiences',\n",
       "   'is_directed': True,\n",
       "   'description': 'The patient experiences the condition'},\n",
       "  {'source': 22,\n",
       "   'target': 25,\n",
       "   'name': 'undergoes',\n",
       "   'is_directed': True,\n",
       "   'description': 'The patient undergoes a treatment'},\n",
       "  {'source': 22,\n",
       "   'target': 26,\n",
       "   'name': 'takes_medication',\n",
       "   'is_directed': True,\n",
       "   'description': 'The patient takes the medication'},\n",
       "  {'source': 22,\n",
       "   'target': 27,\n",
       "   'name': 'uses',\n",
       "   'is_directed': True,\n",
       "   'description': 'The patient uses the medical imaging technique'},\n",
       "  {'source': 27,\n",
       "   'target': 28,\n",
       "   'name': 'reveals',\n",
       "   'is_directed': True,\n",
       "   'description': 'The medical imaging technique reveals the presence of a pulmonary embolism'},\n",
       "  {'source': 28,\n",
       "   'target': 29,\n",
       "   'name': 'located_in',\n",
       "   'is_directed': True,\n",
       "   'description': 'The pulmonary embolism is located in the right lower lobe'},\n",
       "  {'source': 31,\n",
       "   'target': 30,\n",
       "   'name': 'undergoes',\n",
       "   'is_directed': True,\n",
       "   'description': 'The patient undergoes the surgical procedure'},\n",
       "  {'source': 31,\n",
       "   'target': 33,\n",
       "   'name': 'includes',\n",
       "   'is_directed': True,\n",
       "   'description': 'The routine vaccination includes the MMR vaccine'},\n",
       "  {'source': 31,\n",
       "   'target': 34,\n",
       "   'name': 'includes',\n",
       "   'is_directed': True,\n",
       "   'description': 'The routine vaccination includes the tetanus vaccine'},\n",
       "  {'source': 31,\n",
       "   'target': 35,\n",
       "   'name': 'includes',\n",
       "   'is_directed': True,\n",
       "   'description': 'The routine vaccination includes the influenza vaccine'},\n",
       "  {'source': 36,\n",
       "   'target': 37,\n",
       "   'name': 'indicates',\n",
       "   'is_directed': True,\n",
       "   'description': 'The histopathology indicates the presence of DCIS'},\n",
       "  {'source': 37,\n",
       "   'target': 38,\n",
       "   'name': 'located_in',\n",
       "   'is_directed': True,\n",
       "   'description': 'The DCIS is located in the breast'},\n",
       "  {'source': 38,\n",
       "   'target': 39,\n",
       "   'name': 'sample_of',\n",
       "   'is_directed': True,\n",
       "   'description': 'The breast is a sample of tissue for examination'},\n",
       "  {'source': 40,\n",
       "   'target': 41,\n",
       "   'name': 'experiences',\n",
       "   'is_directed': True,\n",
       "   'description': 'The child experiences a cough'},\n",
       "  {'source': 40,\n",
       "   'target': 42,\n",
       "   'name': 'experiences',\n",
       "   'is_directed': True,\n",
       "   'description': 'The child experiences a fever'},\n",
       "  {'source': 40,\n",
       "   'target': 43,\n",
       "   'name': 'has_condition',\n",
       "   'is_directed': True,\n",
       "   'description': 'The child has streptococcal pharyngitis'},\n",
       "  {'source': 43,\n",
       "   'target': 44,\n",
       "   'name': 'affects',\n",
       "   'is_directed': True,\n",
       "   'description': 'The streptococcal pharyngitis affects the pharynx'},\n",
       "  {'source': 43,\n",
       "   'target': 45,\n",
       "   'name': 'caused_by',\n",
       "   'is_directed': True,\n",
       "   'description': 'The streptococcal pharyngitis is caused by streptococcus bacteria'}]}"
      ]
     },
     "execution_count": 11,
     "metadata": {},
     "output_type": "execute_result"
    }
   ],
   "source": [
    "rag.graph.dict()"
   ]
  },
  {
   "cell_type": "code",
   "execution_count": 11,
   "id": "c50e5bd4-6388-49ae-aa39-3e1cc5fc962c",
   "metadata": {},
   "outputs": [],
   "source": [
    "nodes_id_idx = rag.dataset.nodes_id_idx"
   ]
  },
  {
   "cell_type": "code",
   "execution_count": 19,
   "id": "659193a4-ed40-42ee-bb6c-aac68a664baa",
   "metadata": {},
   "outputs": [
    {
     "name": "stdout",
     "output_type": "stream",
     "text": [
      "45\n"
     ]
    },
    {
     "data": {
      "text/plain": [
       "array([ 0.00581928, -0.02819522,  0.0190266 , -0.00319721, -0.00893134])"
      ]
     },
     "execution_count": 19,
     "metadata": {},
     "output_type": "execute_result"
    }
   ],
   "source": [
    "node_embs = rag.model.entity.weight.data.cpu().numpy()\n",
    "print(len(node_embs))\n",
    "node_embs[nodes_id_idx[1]][:5]"
   ]
  },
  {
   "cell_type": "markdown",
   "id": "27d1d771-0387-4329-8c76-7f3004107d1f",
   "metadata": {},
   "source": [
    "# Create Network X Graph"
   ]
  },
  {
   "cell_type": "code",
   "execution_count": 12,
   "id": "e8da5ff7-4e73-48a1-aeea-164a9f7ede61",
   "metadata": {},
   "outputs": [],
   "source": [
    "import networkx as nx\n",
    "G = nx.Graph()"
   ]
  },
  {
   "cell_type": "code",
   "execution_count": 13,
   "id": "89f57efd-eabe-4492-91df-4b318e9ed69b",
   "metadata": {},
   "outputs": [],
   "source": [
    "G.add_nodes_from([n.id for n in rag.graph.nodes])"
   ]
  },
  {
   "cell_type": "code",
   "execution_count": 14,
   "id": "404a1916-bc80-45a7-92f0-b87a1d0e3afe",
   "metadata": {},
   "outputs": [],
   "source": [
    "edges = [(e.source, e.target) for e in rag.graph.edges]\n",
    "G.add_edges_from(edges)"
   ]
  },
  {
   "cell_type": "code",
   "execution_count": 15,
   "id": "b43bfa85-7660-491d-9af8-52204125020b",
   "metadata": {},
   "outputs": [
    {
     "data": {
      "text/plain": [
       "32"
      ]
     },
     "execution_count": 15,
     "metadata": {},
     "output_type": "execute_result"
    }
   ],
   "source": [
    "G.number_of_nodes()"
   ]
  },
  {
   "cell_type": "code",
   "execution_count": 16,
   "id": "227d1c36-c1b9-4707-ba31-3d6ccd234b9c",
   "metadata": {},
   "outputs": [
    {
     "data": {
      "text/plain": [
       "30"
      ]
     },
     "execution_count": 16,
     "metadata": {},
     "output_type": "execute_result"
    }
   ],
   "source": [
    "G.number_of_edges()"
   ]
  },
  {
   "cell_type": "code",
   "execution_count": 17,
   "id": "96d8ab22-476b-4030-b89c-a255ff5a130c",
   "metadata": {},
   "outputs": [],
   "source": [
    "personalization = {21: 1, 22: 1}\n",
    "pr = nx.pagerank(G, alpha=0.85, personalization=personalization)\n",
    "\n",
    "pr_sorted = sorted(pr.items(), key=lambda x: x[1], reverse=True)\n"
   ]
  },
  {
   "cell_type": "code",
   "execution_count": 18,
   "id": "8c22a3f6-3f69-4d64-84be-b849f6b49b3b",
   "metadata": {},
   "outputs": [],
   "source": [
    "top_k = 5"
   ]
  },
  {
   "cell_type": "code",
   "execution_count": 21,
   "id": "cb00e4d0-1fd3-4ac4-a544-5b50b39224e5",
   "metadata": {},
   "outputs": [
    {
     "data": {
      "text/plain": [
       "[21, 22, 19, 18, 20]"
      ]
     },
     "execution_count": 21,
     "metadata": {},
     "output_type": "execute_result"
    }
   ],
   "source": [
    "[i[0] for i in pr_sorted[:top_k]]"
   ]
  },
  {
   "cell_type": "code",
   "execution_count": 25,
   "id": "6fae5a23-17f9-4017-8e66-4ec15b1a4207",
   "metadata": {},
   "outputs": [
    {
     "data": {
      "text/plain": [
       "{1: 0.10465670434595327,\n",
       " 2: 0.019827111440711198,\n",
       " 3: 0.03622576628851659,\n",
       " 4: 0.03858331731416875,\n",
       " 5: 0.021398654847805402,\n",
       " 6: 0.0486480043320244,\n",
       " 7: 0.025675997833987798,\n",
       " 8: 0.025675997833987798,\n",
       " 9: 0.0486480043320244,\n",
       " 10: 0.025675997833987798,\n",
       " 11: 0.025675997833987798,\n",
       " 12: 0.03333333333333333,\n",
       " 13: 0.03333333333333333,\n",
       " 14: 0.03333333333333333,\n",
       " 15: 0.03333333333333333,\n",
       " 16: 0.0486480043320244,\n",
       " 17: 0.025675997833987798,\n",
       " 18: 0.025675997833987798,\n",
       " 19: 0.03333333333333333,\n",
       " 20: 0.03333333333333333,\n",
       " 21: 0.019827111440711198,\n",
       " 22: 0.019827111440711198,\n",
       " 23: 0.019827111440711198,\n",
       " 24: 0.019827111440711198,\n",
       " 25: 0.03333333333333333,\n",
       " 26: 0.03333333333333333,\n",
       " 27: 0.06396267533071547,\n",
       " 28: 0.02312355266753929,\n",
       " 29: 0.02312355266753929,\n",
       " 30: 0.02312355266753929}"
      ]
     },
     "execution_count": 25,
     "metadata": {},
     "output_type": "execute_result"
    }
   ],
   "source": [
    "pr"
   ]
  },
  {
   "cell_type": "markdown",
   "id": "a2174099-dd02-4d90-88c2-16d93555e1b9",
   "metadata": {},
   "source": [
    "rag.graph.nodes #2 diabites, 3 metamorfin 25 tenaus cavvine 26 influenza vaccine 27 ductal in situ"
   ]
  },
  {
   "cell_type": "code",
   "execution_count": 28,
   "id": "87464411-7b4e-41ab-84a2-4e96277ae4bd",
   "metadata": {},
   "outputs": [
    {
     "data": {
      "text/plain": [
       "[Edge(source=1, target=2, name='Diagnosed With', is_directed=True, description='Patient diagnosed with condition', notes=[]),\n",
       " Edge(source=1, target=3, name='Prescribed', is_directed=True, description='Patient prescribed medication', notes=['500mg twice daily']),\n",
       " Edge(source=4, target=6, name='Located In', is_directed=True, description='Lesion found in a specific brain region', notes=[]),\n",
       " Edge(source=4, target=5, name='Suggestive Of', is_directed=True, description='Lesion indicates the presence of a tumor', notes=['Indicates low-grade glioma']),\n",
       " Edge(source=7, target=4, name='Revealed', is_directed=True, description='MRI scan found lesion', notes=['Small lesion noted']),\n",
       " Edge(source=1, target=8, name='Prescribed', is_directed=True, description='Patient administered medication', notes=['5mg intravenously']),\n",
       " Edge(source=9, target=1, name='Suffer From', is_directed=True, description='Patient experiences a medical condition', notes=['Acute seizure management']),\n",
       " Edge(source=10, target=11, name='Indicates', is_directed=True, description='Blood test indicates enzyme level', notes=['Elevated ALT levels detected']),\n",
       " Edge(source=10, target=12, name='Indicates', is_directed=True, description='Blood test indicates enzyme level', notes=['Elevated AST levels detected']),\n",
       " Edge(source=11, target=13, name='Suggestive Of', is_directed=True, description='Elevated ALT suggests liver inflammation', notes=[]),\n",
       " Edge(source=12, target=13, name='Suggestive Of', is_directed=True, description='Elevated AST suggests liver inflammation', notes=[]),\n",
       " Edge(source=1, target=14, name='Experiences', is_directed=True, description='Patient experiences a pain condition', notes=['Chronic lower back pain reported']),\n",
       " Edge(source=1, target=15, name='Managed With', is_directed=True, description='Patient manages pain through therapy', notes=['Utilizes physical therapy']),\n",
       " Edge(source=1, target=16, name='Managed With', is_directed=True, description='Patient manages pain with medication', notes=['Uses NSAIDs for pain management']),\n",
       " Edge(source=20, target=18, name='Confirmed Presence Of', is_directed=True, description='CT angiography confirmed diagnosis', notes=[]),\n",
       " Edge(source=18, target=19, name='Located In', is_directed=True, description='Pulmonary embolism located in a specific lung lobe', notes=['In the right lower lobe']),\n",
       " Edge(source=19, target=21, name='Part Of', is_directed=True, description='Lobe is part of the lung', notes=[]),\n",
       " Edge(source=21, target=22, name='Contains', is_directed=True, description='Lungs contain blood vessels', notes=[]),\n",
       " Edge(source=1, target=23, name='Underwent', is_directed=True, description='Patient underwent a surgical procedure', notes=['Coronary artery bypass graft surgery performed without complications']),\n",
       " Edge(source=1, target=24, name='Received', is_directed=True, description='Patient received vaccination', notes=[]),\n",
       " Edge(source=1, target=25, name='Received', is_directed=True, description='Patient received vaccination', notes=[]),\n",
       " Edge(source=1, target=26, name='Received', is_directed=True, description='Patient received vaccination', notes=[]),\n",
       " Edge(source=24, target=25, name='Part Of', is_directed=True, description='Vaccine is part of routine immunization', notes=[]),\n",
       " Edge(source=24, target=26, name='Part Of', is_directed=True, description='Vaccine is part of routine immunization', notes=[]),\n",
       " Edge(source=25, target=26, name='Part Of', is_directed=True, description='Vaccine is part of routine immunization', notes=[]),\n",
       " Edge(source=28, target=27, name='Indicates', is_directed=True, description='Breast biopsy indicates presence of DCIS', notes=[]),\n",
       " Edge(source=29, target=27, name='Suggestive Of', is_directed=True, description='Histopathology suggests diagnosis of DCIS', notes=[]),\n",
       " Edge(source=1, target=30, name='Diagnosed With', is_directed=True, description='Patient diagnosed with condition', notes=[]),\n",
       " Edge(source=1, target=31, name='Presents With', is_directed=True, description='Patient presents with symptom', notes=['Persistent cough reported']),\n",
       " Edge(source=1, target=32, name='Presents With', is_directed=True, description='Patient presents with symptom', notes=['Fever reported'])]"
      ]
     },
     "execution_count": 28,
     "metadata": {},
     "output_type": "execute_result"
    }
   ],
   "source": [
    "rag.graph.edges"
   ]
  },
  {
   "cell_type": "code",
   "execution_count": 27,
   "id": "dad8917d-3be3-430f-b239-3d26baf70176",
   "metadata": {},
   "outputs": [
    {
     "name": "stdout",
     "output_type": "stream",
     "text": [
      "entities []\n"
     ]
    },
    {
     "data": {
      "application/vnd.jupyter.widget-view+json": {
       "model_id": "bb308ea9850d40079bc6d388a252c026",
       "version_major": 2,
       "version_minor": 0
      },
      "text/plain": [
       "Batches:   0%|          | 0/1 [00:00<?, ?it/s]"
      ]
     },
     "metadata": {},
     "output_type": "display_data"
    },
    {
     "name": "stdout",
     "output_type": "stream",
     "text": [
      "graph nodes retrieved ['Type 2 Diabetes Mellitus']\n",
      "similar_node_indexes [1, 2, 24, 25, 26]\n",
      "similar_node_ids [2, 3, 25, 26, 27]\n",
      "similar_node_ids graph nodes retrieved ['Type 2 Diabetes Mellitus', 'Metformin', 'Tetanus Vaccine', 'Influenza Vaccine', 'Ductal Carcinoma In Situ']\n",
      "***************************************!!******************************\n",
      "***************************************!!******************************\n",
      "***************************************!!******************************\n",
      "***************************************!!******************************\n",
      "***************************************!!******************************\n",
      "\n",
      "You are a helpful assistant analyzing the given input data to provide an helpful response to the user query.\n",
      "\n",
      "# USER QUERY\n",
      "What is used to treat Diabetes Mellitus and how does can a patient use the treatment?\n",
      "\n",
      "# Context:\n",
      "KnowledgeGraph Overview\n",
      "  There are 5 entities and 1 relationships in this graph.\n",
      "\n",
      "Entities in the graph:\n",
      "  • 'Type 2 Diabetes Mellitus':\n",
      "      The entity has the following description: A chronic condition affecting the way the body processes blood sugar. A chronic condition affecting the way the body processes blood sugar.\n",
      "      It can also be referred to as: Diabetes Type 2, Type 2 Diabetes Mellitus\n",
      "  • 'Metformin':\n",
      "      The entity has the following description: A medication used to improve blood sugar control in people with type 2 diabetes. A medication used to improve blood sugar control in people with type 2 diabetes.\n",
      "      It can also be referred to as: Metformin\n",
      "      It has the following additional information: Prescribed at 500mg twice daily\n",
      "  • 'Tetanus Vaccine':\n",
      "      The entity has the following description: A vaccine that protects against tetanus.\n",
      "      It can also be referred to as: Tetanus Immunization\n",
      "  • 'Influenza Vaccine':\n",
      "      The entity has the following description: A vaccine that protects against the influenza virus.\n",
      "      It can also be referred to as: Flu Vaccine\n",
      "  • 'Ductal Carcinoma In Situ':\n",
      "      The entity has the following description: A type of breast cancer that starts in the ducts and hasn't spread.\n",
      "      It can also be referred to as: DCIS\n",
      "\n",
      "Relationships between nodes:\n",
      "  • There is a directed relationship from 'Tetanus Vaccine' to 'Influenza Vaccine' called 'Part Of'.\n",
      "      The relationship is described as: Vaccine is part of routine immunization\n",
      "      The relationship has the following notes: \n",
      "\n",
      "\n",
      "\n",
      "# INSTRUCTIONS\n",
      "Your goal is to provide a response to the user query using the relevant information in the input data:\n",
      "- the \"Entities\" and \"Relationships\" tables contain high-level information. Use these tables to identify the most important entities and relationships to respond to the query.\n",
      "- the \"Sources\" list contains raw text sources to help answer the query. It may contain noisy data, so pay attention when analyzing it.\n",
      "\n",
      "Follow these steps:\n",
      "1. Read and understand the user query.\n",
      "2. Look at the \"Entities\" and \"Relationships\" tables to get a general sense of the data and understand which information is the most relevant to answer the query.\n",
      "3. Carefully analyze all the \"Sources\" to get more detailed information. Information could be scattered across several sources, use the identified relevant entities and relationships to guide yourself through the analysis of the sources.\n",
      "4. While you write the response, you must include inline references to the all the sources you are using by appending `[<source_id>]` at the end of each sentence, where `source_id` is the corresponding source ID from the \"Sources\" list.\n",
      "5. Write the response to the user query - which must include the inline references - based on the information you have gathered. Be very concise and answer the user query directly. If the response cannot be inferred from the input data, just say no relevant information was found. Do not make anything up or add unrelevant information.\n",
      "\n",
      "Answer:\n",
      "\n"
     ]
    },
    {
     "name": "stderr",
     "output_type": "stream",
     "text": [
      "2025-06-12 20:46:22,857 INFO     HTTP Request: POST https://api.openai.com/v1/responses \"HTTP/1.1 200 OK\"\n"
     ]
    },
    {
     "data": {
      "text/plain": [
       "\"To treat Type 2 Diabetes Mellitus, the primary medication used is Metformin. It is prescribed to improve blood sugar control in people with this condition, typically at a dosage of 500mg taken twice daily. Patients should follow their healthcare provider's instructions regarding the timing and dosage of Metformin to effectively manage their blood sugar levels and monitor their health closely. Adjustments may be necessary based on individual response and side effects[1]. \\n\\nNo additional information was found regarding other treatment options or methods of use beyond Metformin as it relates to the provided data.\""
      ]
     },
     "execution_count": 27,
     "metadata": {},
     "output_type": "execute_result"
    }
   ],
   "source": [
    "query = \"What is used to treat Diabetes Mellitus and how does can a patient use the treatment?\"\n",
    "rag.query(query, traversal = 'pp')"
   ]
  },
  {
   "cell_type": "markdown",
   "id": "ad94bebd-b088-486b-a580-a910dffc137d",
   "metadata": {},
   "source": [
    "# Load CurveRag modules"
   ]
  },
  {
   "cell_type": "code",
   "execution_count": 24,
   "id": "0c029ec2-751b-44ba-8f4e-a9fb92a45ac0",
   "metadata": {},
   "outputs": [
    {
     "name": "stderr",
     "output_type": "stream",
     "text": [
      "/var/folders/m6/12prs8yx2r90psgztq05hy_c0000gn/T/ipykernel_82949/2232709649.py:6: PydanticDeprecatedSince20: The `parse_file` method is deprecated; load the data from file, then if your data is JSON use `model_validate_json`, otherwise `model_validate` instead. Deprecated in Pydantic V2.0 to be removed in V3.0. See Pydantic V2 Migration Guide at https://errors.pydantic.dev/2.11/migration/\n",
      "  kg = KnowledgeGraph.parse_file(\"rag.graph.json\")\n"
     ]
    }
   ],
   "source": [
    "# load KG\n",
    "with open('rag.graph.json', 'r') as f:\n",
    "    data = json.load(f)\n",
    "\n",
    "#kg = KnowledgeGraph.construct(**data)\n",
    "kg = KnowledgeGraph.parse_file(\"rag.graph.json\")"
   ]
  },
  {
   "cell_type": "code",
   "execution_count": 23,
   "id": "aacf2cb5-8aac-4081-b9d5-cd622fd17557",
   "metadata": {},
   "outputs": [
    {
     "data": {
      "text/plain": [
       "Node(id=1, name='Patient', description='A person who is receiving medical treatment', alias=['individual', 'person'])"
      ]
     },
     "execution_count": 23,
     "metadata": {},
     "output_type": "execute_result"
    }
   ],
   "source": [
    "kg.nodes[0]"
   ]
  },
  {
   "cell_type": "code",
   "execution_count": 6,
   "id": "d7e4020d-f1da-4f8f-bff3-071c5200a7d1",
   "metadata": {},
   "outputs": [],
   "source": [
    "# load dataset\n",
    "dataset_path = './data/medical_docs'\n",
    "dataset = KGDataset(dataset_path, debug=False, name='medical_docs')"
   ]
  },
  {
   "cell_type": "code",
   "execution_count": 7,
   "id": "2db52272-500d-4f7d-988e-7711bcd11e23",
   "metadata": {},
   "outputs": [
    {
     "data": {
      "text/plain": [
       "AttH(\n",
       "  (entity): Embedding(45, 1000)\n",
       "  (rel): Embedding(48, 1000)\n",
       "  (bh): Embedding(45, 1)\n",
       "  (bt): Embedding(45, 1)\n",
       "  (rel_diag): Embedding(48, 2000)\n",
       "  (context_vec): Embedding(48, 1000)\n",
       "  (act): Softmax(dim=1)\n",
       ")"
      ]
     },
     "execution_count": 7,
     "metadata": {},
     "output_type": "execute_result"
    }
   ],
   "source": [
    "# load embeding model\n",
    "sizes = dataset.get_shape()\n",
    "embedding_model = AttH(sizes=sizes)\n",
    "model_path = '/Users/nathan/Documents/projects/curve_rag/logs/05_05/test_run/AttH_00_38_35/model.pt'\n",
    "embedding_model.load_state_dict(torch.load(model_path, weights_only=True))\n",
    "embedding_model.eval()"
   ]
  },
  {
   "cell_type": "code",
   "execution_count": null,
   "id": "7f7e6b3f-ae38-4184-8b90-8085786d354a",
   "metadata": {},
   "outputs": [],
   "source": [
    "# load llm\n",
    "max_tokens = 10000\n",
    "n_ctx=10000\n",
    "llm, outlines_model = utils.load_model(\n",
    "    llm_model_path=\"./models/Meta-Llama-3-8B-Instruct.Q6_K.gguf\",\n",
    "    tokenizer=llama_cpp.llama_tokenizer.LlamaHFTokenizer.from_pretrained(\"unsloth/Llama-3.2-1B-Instruct\"),\n",
    "    n_ctx=n_ctx,\n",
    "    max_tokens=max_tokens\n",
    ")"
   ]
  },
  {
   "cell_type": "code",
   "execution_count": 67,
   "id": "6fb1f51d-0548-44ff-b21f-f5b88ce054d9",
   "metadata": {},
   "outputs": [
    {
     "name": "stderr",
     "output_type": "stream",
     "text": [
      "Llama.generate: 6 prefix-match hit, remaining 1 prompt tokens to eval\n",
      "llama_perf_context_print:        load time =    2329.38 ms\n",
      "llama_perf_context_print: prompt eval time =       0.00 ms /     1 tokens (    0.00 ms per token,      inf tokens per second)\n",
      "llama_perf_context_print:        eval time =    5169.89 ms /    16 runs   (  323.12 ms per token,     3.09 tokens per second)\n",
      "llama_perf_context_print:       total time =    5176.08 ms /    17 tokens\n"
     ]
    }
   ],
   "source": [
    "resp = llm('Hi how are you?')"
   ]
  },
  {
   "cell_type": "code",
   "execution_count": 59,
   "id": "c591d1a1-5bb8-4c4d-b758-234ced1be527",
   "metadata": {},
   "outputs": [
    {
     "data": {
      "text/plain": [
       "\" I hope you're doing well. I am from Mexico and I am a fan\""
      ]
     },
     "execution_count": 59,
     "metadata": {},
     "output_type": "execute_result"
    }
   ],
   "source": [
    "resp['choices'][0]['text']"
   ]
  },
  {
   "cell_type": "code",
   "execution_count": 68,
   "id": "214cb55b-b12c-4181-b3a6-dc03bf8ef1ea",
   "metadata": {},
   "outputs": [
    {
     "data": {
      "application/vnd.jupyter.widget-view+json": {
       "model_id": "e6af919c9e774721818440e1e613af33",
       "version_major": 2,
       "version_minor": 0
      },
      "text/plain": [
       "Fetching 5 files:   0%|          | 0/5 [00:00<?, ?it/s]"
      ]
     },
     "metadata": {},
     "output_type": "display_data"
    }
   ],
   "source": [
    "cg = CurveRAG.load_class(\n",
    "    llm=llm,\n",
    "    outlines_llm=outlines_model,\n",
    "    entity_types=DEFAULT_ENTITY_TYPES,\n",
    "    gliner_model_name=DEFAULT_GLINER_MODEL,\n",
    "    graph=kg,\n",
    "    graph_embedding_model=embedding_model,\n",
    "    dataset=dataset,\n",
    ")"
   ]
  },
  {
   "cell_type": "code",
   "execution_count": 69,
   "id": "84c1ded9-db9e-41c2-96f2-3a4f654f6bfc",
   "metadata": {},
   "outputs": [],
   "source": [
    "entities = ['Patient', 'Diabetes Mellitus', 'Metformin', 'Type 2 Diabetes', 'Daily']"
   ]
  },
  {
   "cell_type": "code",
   "execution_count": 22,
   "id": "fa2223f6-1e49-4411-95e0-648c647feed6",
   "metadata": {},
   "outputs": [
    {
     "ename": "NameError",
     "evalue": "name 'cg' is not defined",
     "output_type": "error",
     "traceback": [
      "\u001b[1;31m---------------------------------------------------------------------------\u001b[0m",
      "\u001b[1;31mNameError\u001b[0m                                 Traceback (most recent call last)",
      "Cell \u001b[1;32mIn[22], line 2\u001b[0m\n\u001b[0;32m      1\u001b[0m query \u001b[38;5;241m=\u001b[39m \u001b[38;5;124m\"\u001b[39m\u001b[38;5;124mWhat is used to treat Diabetes Mellitus and how does can a patient use the treatment?\u001b[39m\u001b[38;5;124m\"\u001b[39m\n\u001b[1;32m----> 2\u001b[0m \u001b[43mcg\u001b[49m\u001b[38;5;241m.\u001b[39mquery(query)\n",
      "\u001b[1;31mNameError\u001b[0m: name 'cg' is not defined"
     ]
    }
   ],
   "source": [
    "query = \"What is used to treat Diabetes Mellitus and how does can a patient use the treatment?\"\n",
    "rag.query(query)"
   ]
  },
  {
   "cell_type": "code",
   "execution_count": 86,
   "id": "61ba90fc-b495-4fa1-a1ee-b02effbb4de0",
   "metadata": {},
   "outputs": [
    {
     "name": "stderr",
     "output_type": "stream",
     "text": [
      "Llama.generate: 10 prefix-match hit, remaining 10 prompt tokens to eval\n",
      "llama_perf_context_print:        load time =    3865.92 ms\n",
      "llama_perf_context_print: prompt eval time =    1877.04 ms /    10 tokens (  187.70 ms per token,     5.33 tokens per second)\n",
      "llama_perf_context_print:        eval time =   51397.43 ms /   999 runs   (   51.45 ms per token,    19.44 tokens per second)\n",
      "llama_perf_context_print:       total time =   54751.37 ms /  1009 tokens\n"
     ]
    },
    {
     "data": {
      "text/plain": [
       "\" (2023)\\nWhat is Diabetes Mellitus?\\nDiabetes Mellitus, commonly referred to as diabetes, is a metabolic disorder that affects the way the body regulates blood sugar levels. There are several types of diabetes, but the most common ones are:\\nType 1 diabetes: An autoimmune disease where the body's immune system attacks and destroys the cells in the pancreas that produce insulin, a hormone that regulates blood sugar levels.\\nType 2 diabetes: A condition where the body becomes resistant to insulin, making it difficult for the body to use insulin effectively.\\nGestational diabetes: A type of diabetes that develops during pregnancy due to hormonal changes.\\nWhat are the symptoms of Diabetes Mellitus?\\nThe symptoms of diabetes can vary from person to person, but common signs and symptoms include:\\nIncreased thirst and urination\\nFatigue and weakness\\nBlurred vision\\nSlow healing of cuts and wounds\\n Tingling or numbness in the hands and feet\\nHow is Diabetes Mellitus treated?\\nThe treatment for diabetes depends on the type of diabetes and the individual's overall health. The primary goal of treatment is to regulate blood sugar levels and prevent complications. Here are some common treatments for diabetes:\\nMedications:\\nInsulin therapy: Injecting insulin to help regulate blood sugar levels.\\nOral medications: Tablets or capsules that help the body produce more insulin or make the body more sensitive to insulin.\\nMetformin: A medication that helps the body use insulin more effectively.\\nGLP-1 receptor agonists: Medications that stimulate the release of insulin and slow the release of glucose from the liver.\\nSGLT2 inhibitors: Medications that help the kidneys remove excess glucose from the urine.\\nLifestyle changes:\\nDietary changes: Eating a balanced diet that is low in sugar, salt, and fat.\\nPhysical activity: Engaging in regular physical activity to help regulate blood sugar levels.\\nWeight management: Maintaining a healthy weight through a combination of diet and exercise.\\nMonitoring blood sugar levels: Regularly checking blood sugar levels to ensure they are within a healthy range.\\nHow can a patient use the treatment?\\nTo effectively manage their diabetes, patients can follow these steps:\\n1. Work with a healthcare provider: Patients should consult with a healthcare provider to develop a personalized treatment plan that takes into account their type of diabetes, lifestyle, and other health conditions.\\n2. Monitor blood sugar levels: Patients should regularly check their blood sugar levels to ensure they are within a healthy range.\\n3. Take medications as prescribed: Patients should take their medications as directed by their healthcare provider to regulate blood sugar levels.\\n4. Make lifestyle changes: Patients should make dietary and physical activity changes to help regulate blood sugar levels and manage their overall health.\\n5. Attend regular follow-up appointments: Patients should attend regular follow-up appointments with their healthcare provider to monitor their progress and make any necessary adjustments to their treatment plan.\\n6. Educate themselves: Patients should educate themselves about diabetes and its management to make informed decisions about their care.\\n7. Keep track of progress: Patients should keep track of their progress, including blood sugar levels, medication adherence, and any changes in their health to share with their healthcare provider.\\nBy following these steps, patients with diabetes can effectively manage their condition and reduce the risk of complications. It is essential to work closely with a healthcare provider to develop a personalized treatment plan that addresses their unique needs and health goals. (Source: American Diabetes Association, Mayo Clinic, and MedlinePlus)\\nHow to Manage Your Diabetes with Medications?\\nManaging diabetes requires a combination of lifestyle changes and medications. Here are some tips to help you manage your diabetes with medications:\\n1. Take your medications as directed: Take your medications at the same time every day, as prescribed by your healthcare provider.\\n2. Monitor your blood sugar levels: Regularly check your blood sugar levels to ensure your medications are working effectively.\\n3. Keep track of your medication schedule: Use a pill box or mobile app to keep track of your medication schedule.\\n4. Adjust your medications as needed: If your blood sugar levels are not within a healthy range, your healthcare provider may adjust your medications.\\n5. Don't skip doses: Don't skip doses or stop taking your medications without consulting your healthcare provider.\\n6. Combine medications with lifestyle changes: Combine your medications with lifestyle changes such as diet and exercise to achieve better blood sugar control.\\n7. Communicate with your healthcare provider: Communicate with your healthcare provider about any concerns or questions you have about your medications or diabetes management.\\nRemember, managing diabetes requires a team effort between you, your healthcare provider, and your medications. By following these tips, you can effectively manage your diabetes and reduce the risk of complications. (Source: American Diabetes Association, Mayo Clinic, and MedlinePlus) (2023) What are some common medications used to treat Diabetes Mellitus?\\nSome common medications used to treat diabetes mellitus include:\\n1. Insulin: Injected insulin to help regulate blood sugar levels.\\n2\""
      ]
     },
     "execution_count": 86,
     "metadata": {},
     "output_type": "execute_result"
    }
   ],
   "source": [
    "llm2(\"What is used to treat Diabetes Mellitus and how does can a patient use the treatment?\",  max_tokens=1000)['choices'][0]['text']"
   ]
  },
  {
   "cell_type": "code",
   "execution_count": null,
   "id": "9b63202b-6159-40af-b7ee-9615cbc9997a",
   "metadata": {},
   "outputs": [],
   "source": [
    "from llama_cpp import Llama\n",
    "llm2 = Llama(\n",
    "        model_path=\"./models/Meta-Llama-3-8B-Instruct.Q6_K.gguf\",\n",
    "        tokenizer=llama_cpp.llama_tokenizer.LlamaHFTokenizer.from_pretrained(\"unsloth/Llama-3.2-1B-Instruct\"),\n",
    "        n_ctx=n_ctx,\n",
    "        max_tokens=max_tokens\n",
    "    )"
   ]
  }
 ],
 "metadata": {
  "kernelspec": {
   "display_name": "Python 3 (ipykernel)",
   "language": "python",
   "name": "python3"
  },
  "language_info": {
   "codemirror_mode": {
    "name": "ipython",
    "version": 3
   },
   "file_extension": ".py",
   "mimetype": "text/x-python",
   "name": "python",
   "nbconvert_exporter": "python",
   "pygments_lexer": "ipython3",
   "version": "3.10.11"
  }
 },
 "nbformat": 4,
 "nbformat_minor": 5
}
