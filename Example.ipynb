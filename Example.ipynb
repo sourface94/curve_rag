{
 "cells": [
  {
   "cell_type": "code",
   "execution_count": null,
   "id": "133826be",
   "metadata": {},
   "outputs": [],
   "source": [
    "%load_ext autoreload\n",
    "%autoreload 2\n",
    "\n",
    "from outlines import generate, models\n",
    "from curverag import utils\n",
    "from curverag.transformations import chunk_text\n",
    "from curverag.graph import create_graph, KnowledgeGraph, Node, Edge, generate_prompt\n",
    "import llama_cpp"
   ]
  },
  {
   "cell_type": "code",
   "execution_count": null,
   "id": "0f18be1f-5fdc-4001-b2e6-a43bd9aafa70",
   "metadata": {},
   "outputs": [],
   "source": [
    "max_tokens = 5000\n",
    "n_ctx=5000\n",
    "\n",
    "docs = [\n",
    "    \"The patient was diagnosed with type 2 diabetes mellitus and prescribed metformin 500mg twice daily.\",\n",
    "    \"MRI scan revealed a small lesion in the left temporal lobe suggestive of low-grade glioma.\",\n",
    "    \"Administer 5mg of lorazepam intravenously for acute seizure management.\",\n",
    "    \"Blood tests showed elevated ALT and AST levels, indicating possible liver inflammation.\",\n",
    "    \"The subject reported chronic lower back pain, managed with physical therapy and NSAIDs.\",\n",
    "    \"CT angiography confirmed the presence of a pulmonary embolism in the right lower lobe.\",\n",
    "    \"The patient underwent coronary artery bypass graft surgery without complications.\",\n",
    "    \"Routine vaccination included MMR, tetanus, and influenza immunizations.\",\n",
    "    \"Histopathology indicated ductal carcinoma in situ (DCIS) in the breast biopsy sample.\",\n",
    "    \"The child presented with a persistent cough and fever, diagnosed as streptococcal pharyngitis.\"\n",
    "]\n"
   ]
  },
  {
   "cell_type": "code",
   "execution_count": null,
   "id": "194d3fa9",
   "metadata": {
    "scrolled": true
   },
   "outputs": [],
   "source": [
    "model = utils.load_model(\n",
    "    llm_model_path=\"models/Llama-3-13B-Instruct.i1-IQ3_S.gguf\",\n",
    "    tokenizer=llama_cpp.llama_tokenizer.LlamaHFTokenizer.from_pretrained(\"unsloth/Llama-3.2-1B-Instruct\"),\n",
    "    n_ctx=n_ctx,\n",
    "    max_tokens=max_tokens\n",
    ")"
   ]
  },
  {
   "cell_type": "code",
   "execution_count": null,
   "id": "b8fa6fed-fb06-487a-9669-def9c502738e",
   "metadata": {},
   "outputs": [],
   "source": [
    "graph = create_graph(model, docs, chunk_size=3000, max_tokens=max_tokens)"
   ]
  }
 ],
 "metadata": {
  "kernelspec": {
   "display_name": "Python 3 (ipykernel)",
   "language": "python",
   "name": "python3"
  },
  "language_info": {
   "codemirror_mode": {
    "name": "ipython",
    "version": 3
   },
   "file_extension": ".py",
   "mimetype": "text/x-python",
   "name": "python",
   "nbconvert_exporter": "python",
   "pygments_lexer": "ipython3",
   "version": "3.10.11"
  }
 },
 "nbformat": 4,
 "nbformat_minor": 5
}
